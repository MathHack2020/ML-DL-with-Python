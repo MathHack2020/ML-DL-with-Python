{
  "cells": [
    {
      "cell_type": "code",
      "execution_count": null,
      "metadata": {
        "id": "w1JysjXbe1k2"
      },
      "outputs": [],
      "source": []
    },
    {
      "cell_type": "markdown",
      "metadata": {
        "id": "yiQgCOJz3e5o"
      },
      "source": [
        "##   ارتباطات البيانات"
      ]
    },
    {
      "cell_type": "code",
      "execution_count": 18,
      "metadata": {
        "id": "BAgEz0Lhe9u1"
      },
      "outputs": [],
      "source": [
        "#تحميل البيانات\n",
        "import pandas as pd\n",
        "import numpy as np\n",
        "df= pd.read_csv(\"../data/HousePrice1.csv\")"
      ]
    },
    {
      "cell_type": "code",
      "execution_count": 19,
      "metadata": {
        "colab": {
          "base_uri": "https://localhost:8080/",
          "height": 544
        },
        "id": "7JqB8fTe3e5m",
        "outputId": "a04c09ab-dc28-4dab-d898-909d3669b8e1"
      },
      "outputs": [
        {
          "data": {
            "text/plain": [
              "Unnamed: 0        int64\n",
              "Id                int64\n",
              "MSSubClass        int64\n",
              "LotFrontage     float64\n",
              "LotArea           int64\n",
              "OverallQual       int64\n",
              "OverallCond       int64\n",
              "YearBuilt         int64\n",
              "YearRemodAdd      int64\n",
              "MasVnrArea      float64\n",
              "BsmtFinSF1        int64\n",
              "BsmtFinSF2        int64\n",
              "BsmtUnfSF         int64\n",
              "1stFlrSF          int64\n",
              "2ndFlrSF          int64\n",
              "LowQualFinSF      int64\n",
              "BedroomAbvGr      int64\n",
              "KitchenAbvGr      int64\n",
              "TotRmsAbvGrd      int64\n",
              "Fireplaces        int64\n",
              "GarageYrBlt     float64\n",
              "GarageCars        int64\n",
              "GarageArea        int64\n",
              "WoodDeckSF        int64\n",
              "PoolArea          int64\n",
              "MiscVal           int64\n",
              "YrSold            int64\n",
              "SalePrice         int64\n",
              "TotalSF           int64\n",
              "TotalPorchSF      int64\n",
              "TotalBath       float64\n",
              "SnMoSold        float64\n",
              "CsMoSold        float64\n",
              "dtype: object"
            ]
          },
          "execution_count": 19,
          "metadata": {},
          "output_type": "execute_result"
        }
      ],
      "source": [
        "# المتغيرات الرقمية\n",
        "num_features= df.select_dtypes(include=\"number\")\n",
        "num_features.dtypes"
      ]
    },
    {
      "cell_type": "code",
      "execution_count": 20,
      "metadata": {
        "id": "xmZj64IYPj7R"
      },
      "outputs": [
        {
          "data": {
            "text/plain": [
              "(1460, 76)"
            ]
          },
          "execution_count": 20,
          "metadata": {},
          "output_type": "execute_result"
        }
      ],
      "source": [
        "df.shape"
      ]
    },
    {
      "cell_type": "code",
      "execution_count": 21,
      "metadata": {},
      "outputs": [
        {
          "data": {
            "text/plain": [
              "Index(['Unnamed: 0', 'Id', 'MSSubClass', 'LotFrontage', 'LotArea',\n",
              "       'OverallQual', 'OverallCond', 'YearBuilt', 'YearRemodAdd', 'MasVnrArea',\n",
              "       'BsmtFinSF1', 'BsmtFinSF2', 'BsmtUnfSF', '1stFlrSF', '2ndFlrSF',\n",
              "       'LowQualFinSF', 'BedroomAbvGr', 'KitchenAbvGr', 'TotRmsAbvGrd',\n",
              "       'Fireplaces', 'GarageYrBlt', 'GarageCars', 'GarageArea', 'WoodDeckSF',\n",
              "       'PoolArea', 'MiscVal', 'YrSold', 'SalePrice', 'TotalSF', 'TotalPorchSF',\n",
              "       'TotalBath', 'SnMoSold', 'CsMoSold'],\n",
              "      dtype='object')"
            ]
          },
          "execution_count": 21,
          "metadata": {},
          "output_type": "execute_result"
        }
      ],
      "source": [
        "df.select_dtypes(include=\"number\").columns"
      ]
    },
    {
      "cell_type": "code",
      "execution_count": 22,
      "metadata": {
        "colab": {
          "base_uri": "https://localhost:8080/",
          "height": 544
        },
        "id": "RqW4Wk693e5p",
        "outputId": "91be8e66-e94a-4271-aa83-684d42c3ef40"
      },
      "outputs": [
        {
          "data": {
            "text/plain": [
              "SalePrice       1.000000\n",
              "OverallQual     0.790982\n",
              "TotalSF         0.778959\n",
              "GarageCars      0.640409\n",
              "TotalBath       0.631731\n",
              "GarageArea      0.623431\n",
              "1stFlrSF        0.605852\n",
              "TotRmsAbvGrd    0.533723\n",
              "YearBuilt       0.522897\n",
              "YearRemodAdd    0.507101\n",
              "GarageYrBlt     0.486362\n",
              "MasVnrArea      0.477493\n",
              "Fireplaces      0.466929\n",
              "BsmtFinSF1      0.386420\n",
              "LotFrontage     0.351799\n",
              "WoodDeckSF      0.324413\n",
              "2ndFlrSF        0.319334\n",
              "LotArea         0.263843\n",
              "BsmtUnfSF       0.214479\n",
              "TotalPorchSF    0.195739\n",
              "BedroomAbvGr    0.168213\n",
              "KitchenAbvGr    0.135907\n",
              "PoolArea        0.092404\n",
              "MSSubClass      0.084284\n",
              "OverallCond     0.077856\n",
              "SnMoSold        0.055101\n",
              "CsMoSold        0.036300\n",
              "YrSold          0.028923\n",
              "LowQualFinSF    0.025606\n",
              "Unnamed: 0      0.021917\n",
              "Id              0.021917\n",
              "MiscVal         0.021190\n",
              "BsmtFinSF2      0.011378\n",
              "Name: SalePrice, dtype: float64"
            ]
          },
          "execution_count": 22,
          "metadata": {},
          "output_type": "execute_result"
        }
      ],
      "source": [
        "# ترتيب درجة الارتباط\n",
        "cormat=np.abs(num_features.corr()[\"SalePrice\"]).sort_values(ascending=False)\n",
        "cormat"
      ]
    },
    {
      "cell_type": "code",
      "execution_count": 23,
      "metadata": {
        "colab": {
          "base_uri": "https://localhost:8080/",
          "height": 136
        },
        "id": "5VnPz1gyf-5V",
        "outputId": "f0af960c-3b35-4669-f733-f70bfa82d537"
      },
      "outputs": [
        {
          "data": {
            "text/plain": [
              "SalePrice      1.000000\n",
              "OverallQual    0.790982\n",
              "TotalSF        0.778959\n",
              "GarageCars     0.640409\n",
              "TotalBath      0.631731\n",
              "GarageArea     0.623431\n",
              "1stFlrSF       0.605852\n",
              "Name: SalePrice, dtype: float64"
            ]
          },
          "execution_count": 23,
          "metadata": {},
          "output_type": "execute_result"
        }
      ],
      "source": [
        "# المتغيرات الأكثر ارتباطا بالمتغير الهدف\n",
        "cormat[cormat>.6]"
      ]
    },
    {
      "cell_type": "code",
      "execution_count": 24,
      "metadata": {
        "colab": {
          "base_uri": "https://localhost:8080/",
          "height": 153
        },
        "id": "Mz6DATaFcpH6",
        "outputId": "c0c3d103-eed1-45ff-e01b-e3dff89ab6de"
      },
      "outputs": [
        {
          "data": {
            "text/plain": [
              "SalePrice      1.000000\n",
              "OverallQual    0.790982\n",
              "TotalSF        0.778959\n",
              "GarageCars     0.640409\n",
              "TotalBath      0.631731\n",
              "GarageArea     0.623431\n",
              "1stFlrSF       0.605852\n",
              "Name: SalePrice, dtype: float64"
            ]
          },
          "execution_count": 24,
          "metadata": {},
          "output_type": "execute_result"
        }
      ],
      "source": [
        "# اكبر 7 ارتباطات\n",
        "cormat.nlargest(7)"
      ]
    },
    {
      "cell_type": "code",
      "execution_count": 25,
      "metadata": {
        "colab": {
          "base_uri": "https://localhost:8080/",
          "height": 266
        },
        "id": "FiBXXtfYeINJ",
        "outputId": "17f43f59-381d-4beb-ac50-0abfa61a426c"
      },
      "outputs": [
        {
          "data": {
            "text/html": [
              "<div>\n",
              "<style scoped>\n",
              "    .dataframe tbody tr th:only-of-type {\n",
              "        vertical-align: middle;\n",
              "    }\n",
              "\n",
              "    .dataframe tbody tr th {\n",
              "        vertical-align: top;\n",
              "    }\n",
              "\n",
              "    .dataframe thead th {\n",
              "        text-align: right;\n",
              "    }\n",
              "</style>\n",
              "<table border=\"1\" class=\"dataframe\">\n",
              "  <thead>\n",
              "    <tr style=\"text-align: right;\">\n",
              "      <th></th>\n",
              "      <th>OverallQual</th>\n",
              "      <th>TotalSF</th>\n",
              "      <th>GarageCars</th>\n",
              "      <th>TotalBath</th>\n",
              "      <th>GarageArea</th>\n",
              "      <th>1stFlrSF</th>\n",
              "      <th>SalePrice</th>\n",
              "    </tr>\n",
              "  </thead>\n",
              "  <tbody>\n",
              "    <tr>\n",
              "      <th>OverallQual</th>\n",
              "      <td>1.000000</td>\n",
              "      <td>0.664830</td>\n",
              "      <td>0.600671</td>\n",
              "      <td>0.541063</td>\n",
              "      <td>0.562022</td>\n",
              "      <td>0.476224</td>\n",
              "      <td>0.790982</td>\n",
              "    </tr>\n",
              "    <tr>\n",
              "      <th>TotalSF</th>\n",
              "      <td>0.664830</td>\n",
              "      <td>1.000000</td>\n",
              "      <td>0.529608</td>\n",
              "      <td>0.600509</td>\n",
              "      <td>0.558466</td>\n",
              "      <td>0.797678</td>\n",
              "      <td>0.778959</td>\n",
              "    </tr>\n",
              "    <tr>\n",
              "      <th>GarageCars</th>\n",
              "      <td>0.600671</td>\n",
              "      <td>0.529608</td>\n",
              "      <td>1.000000</td>\n",
              "      <td>0.483578</td>\n",
              "      <td>0.882475</td>\n",
              "      <td>0.439317</td>\n",
              "      <td>0.640409</td>\n",
              "    </tr>\n",
              "    <tr>\n",
              "      <th>TotalBath</th>\n",
              "      <td>0.541063</td>\n",
              "      <td>0.600509</td>\n",
              "      <td>0.483578</td>\n",
              "      <td>1.000000</td>\n",
              "      <td>0.451567</td>\n",
              "      <td>0.390557</td>\n",
              "      <td>0.631731</td>\n",
              "    </tr>\n",
              "    <tr>\n",
              "      <th>GarageArea</th>\n",
              "      <td>0.562022</td>\n",
              "      <td>0.558466</td>\n",
              "      <td>0.882475</td>\n",
              "      <td>0.451567</td>\n",
              "      <td>1.000000</td>\n",
              "      <td>0.489782</td>\n",
              "      <td>0.623431</td>\n",
              "    </tr>\n",
              "    <tr>\n",
              "      <th>1stFlrSF</th>\n",
              "      <td>0.476224</td>\n",
              "      <td>0.797678</td>\n",
              "      <td>0.439317</td>\n",
              "      <td>0.390557</td>\n",
              "      <td>0.489782</td>\n",
              "      <td>1.000000</td>\n",
              "      <td>0.605852</td>\n",
              "    </tr>\n",
              "    <tr>\n",
              "      <th>SalePrice</th>\n",
              "      <td>0.790982</td>\n",
              "      <td>0.778959</td>\n",
              "      <td>0.640409</td>\n",
              "      <td>0.631731</td>\n",
              "      <td>0.623431</td>\n",
              "      <td>0.605852</td>\n",
              "      <td>1.000000</td>\n",
              "    </tr>\n",
              "  </tbody>\n",
              "</table>\n",
              "</div>"
            ],
            "text/plain": [
              "             OverallQual   TotalSF  GarageCars  TotalBath  GarageArea  \\\n",
              "OverallQual     1.000000  0.664830    0.600671   0.541063    0.562022   \n",
              "TotalSF         0.664830  1.000000    0.529608   0.600509    0.558466   \n",
              "GarageCars      0.600671  0.529608    1.000000   0.483578    0.882475   \n",
              "TotalBath       0.541063  0.600509    0.483578   1.000000    0.451567   \n",
              "GarageArea      0.562022  0.558466    0.882475   0.451567    1.000000   \n",
              "1stFlrSF        0.476224  0.797678    0.439317   0.390557    0.489782   \n",
              "SalePrice       0.790982  0.778959    0.640409   0.631731    0.623431   \n",
              "\n",
              "             1stFlrSF  SalePrice  \n",
              "OverallQual  0.476224   0.790982  \n",
              "TotalSF      0.797678   0.778959  \n",
              "GarageCars   0.439317   0.640409  \n",
              "TotalBath    0.390557   0.631731  \n",
              "GarageArea   0.489782   0.623431  \n",
              "1stFlrSF     1.000000   0.605852  \n",
              "SalePrice    0.605852   1.000000  "
            ]
          },
          "execution_count": 25,
          "metadata": {},
          "output_type": "execute_result"
        }
      ],
      "source": [
        "# الاقتصار على المتغيرات الأكثر ارتباطا\n",
        "df[[\"OverallQual\", \"TotalSF\",\"GarageCars\",\"TotalBath\",\"GarageArea\",\"1stFlrSF\",\"SalePrice\"]].corr()"
      ]
    },
    {
      "cell_type": "code",
      "execution_count": 26,
      "metadata": {
        "colab": {
          "base_uri": "https://localhost:8080/",
          "height": 68
        },
        "id": "kb2aIqa2tmxc",
        "outputId": "c26f458b-4cd6-43be-bcd7-7342c50e192a"
      },
      "outputs": [
        {
          "data": {
            "text/plain": [
              "Index(['SalePrice', 'OverallQual', 'TotalSF', 'GarageCars', 'TotalBath',\n",
              "       'GarageArea', '1stFlrSF'],\n",
              "      dtype='object')"
            ]
          },
          "execution_count": 26,
          "metadata": {},
          "output_type": "execute_result"
        }
      ],
      "source": [
        "cormat_col= cormat.nlargest(7).index\n",
        "cormat_col"
      ]
    },
    {
      "cell_type": "code",
      "execution_count": 31,
      "metadata": {
        "colab": {
          "base_uri": "https://localhost:8080/",
          "height": 266
        },
        "id": "sZdUv7qWuGwd",
        "outputId": "01ae9ec8-913e-4dc8-fbe9-8dd5daa285df"
      },
      "outputs": [
        {
          "data": {
            "text/html": [
              "<div>\n",
              "<style scoped>\n",
              "    .dataframe tbody tr th:only-of-type {\n",
              "        vertical-align: middle;\n",
              "    }\n",
              "\n",
              "    .dataframe tbody tr th {\n",
              "        vertical-align: top;\n",
              "    }\n",
              "\n",
              "    .dataframe thead th {\n",
              "        text-align: right;\n",
              "    }\n",
              "</style>\n",
              "<table border=\"1\" class=\"dataframe\">\n",
              "  <thead>\n",
              "    <tr style=\"text-align: right;\">\n",
              "      <th></th>\n",
              "      <th>SalePrice</th>\n",
              "      <th>OverallQual</th>\n",
              "      <th>TotalSF</th>\n",
              "      <th>GarageCars</th>\n",
              "      <th>TotalBath</th>\n",
              "      <th>GarageArea</th>\n",
              "      <th>1stFlrSF</th>\n",
              "    </tr>\n",
              "  </thead>\n",
              "  <tbody>\n",
              "    <tr>\n",
              "      <th>SalePrice</th>\n",
              "      <td>1.000000</td>\n",
              "      <td>0.790982</td>\n",
              "      <td>0.778959</td>\n",
              "      <td>0.640409</td>\n",
              "      <td>0.631731</td>\n",
              "      <td>0.623431</td>\n",
              "      <td>0.605852</td>\n",
              "    </tr>\n",
              "    <tr>\n",
              "      <th>OverallQual</th>\n",
              "      <td>0.790982</td>\n",
              "      <td>1.000000</td>\n",
              "      <td>0.664830</td>\n",
              "      <td>0.600671</td>\n",
              "      <td>0.541063</td>\n",
              "      <td>0.562022</td>\n",
              "      <td>0.476224</td>\n",
              "    </tr>\n",
              "    <tr>\n",
              "      <th>TotalSF</th>\n",
              "      <td>0.778959</td>\n",
              "      <td>0.664830</td>\n",
              "      <td>1.000000</td>\n",
              "      <td>0.529608</td>\n",
              "      <td>0.600509</td>\n",
              "      <td>0.558466</td>\n",
              "      <td>0.797678</td>\n",
              "    </tr>\n",
              "    <tr>\n",
              "      <th>GarageCars</th>\n",
              "      <td>0.640409</td>\n",
              "      <td>0.600671</td>\n",
              "      <td>0.529608</td>\n",
              "      <td>1.000000</td>\n",
              "      <td>0.483578</td>\n",
              "      <td>0.882475</td>\n",
              "      <td>0.439317</td>\n",
              "    </tr>\n",
              "    <tr>\n",
              "      <th>TotalBath</th>\n",
              "      <td>0.631731</td>\n",
              "      <td>0.541063</td>\n",
              "      <td>0.600509</td>\n",
              "      <td>0.483578</td>\n",
              "      <td>1.000000</td>\n",
              "      <td>0.451567</td>\n",
              "      <td>0.390557</td>\n",
              "    </tr>\n",
              "    <tr>\n",
              "      <th>GarageArea</th>\n",
              "      <td>0.623431</td>\n",
              "      <td>0.562022</td>\n",
              "      <td>0.558466</td>\n",
              "      <td>0.882475</td>\n",
              "      <td>0.451567</td>\n",
              "      <td>1.000000</td>\n",
              "      <td>0.489782</td>\n",
              "    </tr>\n",
              "    <tr>\n",
              "      <th>1stFlrSF</th>\n",
              "      <td>0.605852</td>\n",
              "      <td>0.476224</td>\n",
              "      <td>0.797678</td>\n",
              "      <td>0.439317</td>\n",
              "      <td>0.390557</td>\n",
              "      <td>0.489782</td>\n",
              "      <td>1.000000</td>\n",
              "    </tr>\n",
              "  </tbody>\n",
              "</table>\n",
              "</div>"
            ],
            "text/plain": [
              "             SalePrice  OverallQual   TotalSF  GarageCars  TotalBath  \\\n",
              "SalePrice     1.000000     0.790982  0.778959    0.640409   0.631731   \n",
              "OverallQual   0.790982     1.000000  0.664830    0.600671   0.541063   \n",
              "TotalSF       0.778959     0.664830  1.000000    0.529608   0.600509   \n",
              "GarageCars    0.640409     0.600671  0.529608    1.000000   0.483578   \n",
              "TotalBath     0.631731     0.541063  0.600509    0.483578   1.000000   \n",
              "GarageArea    0.623431     0.562022  0.558466    0.882475   0.451567   \n",
              "1stFlrSF      0.605852     0.476224  0.797678    0.439317   0.390557   \n",
              "\n",
              "             GarageArea  1stFlrSF  \n",
              "SalePrice      0.623431  0.605852  \n",
              "OverallQual    0.562022  0.476224  \n",
              "TotalSF        0.558466  0.797678  \n",
              "GarageCars     0.882475  0.439317  \n",
              "TotalBath      0.451567  0.390557  \n",
              "GarageArea     1.000000  0.489782  \n",
              "1stFlrSF       0.489782  1.000000  "
            ]
          },
          "execution_count": 31,
          "metadata": {},
          "output_type": "execute_result"
        }
      ],
      "source": [
        "df[cormat_col].corr()"
      ]
    },
    {
      "cell_type": "code",
      "execution_count": 33,
      "metadata": {
        "colab": {
          "base_uri": "https://localhost:8080/",
          "height": 540
        },
        "id": "etLMzFAck3tK",
        "outputId": "1d8e12a0-cd4e-4874-a8a9-b9b51fb2ac1f"
      },
      "outputs": [
        {
          "data": {
            "image/png": "[encoded data removed]",
            "text/plain": [
              "<Figure size 1000x1000 with 2 Axes>"
            ]
          },
          "metadata": {},
          "output_type": "display_data"
        }
      ],
      "source": [
        "# مصفوفة الارتباطات\n",
        "import seaborn as sns\n",
        "import matplotlib.pyplot as plt\n",
        "\n",
        "plt.figure(figsize=(10,10))\n",
        "df_cor=df[cormat_col].corr()\n",
        "\n",
        "matrix=np.triu(df_cor)\n",
        "_=sns.heatmap(df_cor, mask=matrix,  cbar_kws={\"orientation\": \"horizontal\"})"
      ]
    },
    {
      "cell_type": "code",
      "execution_count": null,
      "metadata": {
        "id": "YArVTHYVk-4w"
      },
      "outputs": [],
      "source": []
    },
    {
      "cell_type": "markdown",
      "metadata": {
        "id": "yVaxgNnH3e5r"
      },
      "source": [
        "-  OverallQual  & GrLivArea   with respectively   0.79 and       0.71 are toppping aall other featuers"
      ]
    },
    {
      "cell_type": "code",
      "execution_count": null,
      "metadata": {
        "colab": {
          "base_uri": "https://localhost:8080/",
          "height": 34
        },
        "id": "RhwrAQlp3e5r",
        "outputId": "6d384698-a87b-47d2-8a90-850087e16097"
      },
      "outputs": [
        {
          "data": {
            "text/plain": [
              "array([ 7,  6,  8,  5,  9,  4, 10,  3,  1,  2])"
            ]
          },
          "execution_count": 881,
          "metadata": {
            "tags": []
          },
          "output_type": "execute_result"
        }
      ],
      "source": [
        "#  OverallQual  قيم المتغير\n",
        "df.OverallQual.unique()"
      ]
    },
    {
      "cell_type": "code",
      "execution_count": null,
      "metadata": {
        "colab": {
          "base_uri": "https://localhost:8080/",
          "height": 390
        },
        "id": "1_Y7hZM83e5t",
        "outputId": "a31fb419-085d-4461-c23f-a219ad7f1f5f"
      },
      "outputs": [
        {
          "data": {
            "text/html": [
              "<div>\n",
              "<style scoped>\n",
              "    .dataframe tbody tr th:only-of-type {\n",
              "        vertical-align: middle;\n",
              "    }\n",
              "\n",
              "    .dataframe tbody tr th {\n",
              "        vertical-align: top;\n",
              "    }\n",
              "\n",
              "    .dataframe thead th {\n",
              "        text-align: right;\n",
              "    }\n",
              "</style>\n",
              "<table border=\"1\" class=\"dataframe\">\n",
              "  <thead>\n",
              "    <tr style=\"text-align: right;\">\n",
              "      <th></th>\n",
              "      <th>SalePrice</th>\n",
              "    </tr>\n",
              "    <tr>\n",
              "      <th>OverallQual</th>\n",
              "      <th></th>\n",
              "    </tr>\n",
              "  </thead>\n",
              "  <tbody>\n",
              "    <tr>\n",
              "      <th>1</th>\n",
              "      <td>10.799</td>\n",
              "    </tr>\n",
              "    <tr>\n",
              "      <th>2</th>\n",
              "      <td>11.002</td>\n",
              "    </tr>\n",
              "    <tr>\n",
              "      <th>3</th>\n",
              "      <td>11.365</td>\n",
              "    </tr>\n",
              "    <tr>\n",
              "      <th>4</th>\n",
              "      <td>11.590</td>\n",
              "    </tr>\n",
              "    <tr>\n",
              "      <th>5</th>\n",
              "      <td>11.798</td>\n",
              "    </tr>\n",
              "    <tr>\n",
              "      <th>6</th>\n",
              "      <td>11.983</td>\n",
              "    </tr>\n",
              "    <tr>\n",
              "      <th>7</th>\n",
              "      <td>12.207</td>\n",
              "    </tr>\n",
              "    <tr>\n",
              "      <th>8</th>\n",
              "      <td>12.505</td>\n",
              "    </tr>\n",
              "    <tr>\n",
              "      <th>9</th>\n",
              "      <td>12.751</td>\n",
              "    </tr>\n",
              "    <tr>\n",
              "      <th>10</th>\n",
              "      <td>12.977</td>\n",
              "    </tr>\n",
              "  </tbody>\n",
              "</table>\n",
              "</div>"
            ],
            "text/plain": [
              "             SalePrice\n",
              "OverallQual           \n",
              "1               10.799\n",
              "2               11.002\n",
              "3               11.365\n",
              "4               11.590\n",
              "5               11.798\n",
              "6               11.983\n",
              "7               12.207\n",
              "8               12.505\n",
              "9               12.751\n",
              "10              12.977"
            ]
          },
          "execution_count": 882,
          "metadata": {
            "tags": []
          },
          "output_type": "execute_result"
        }
      ],
      "source": [
        "#  pivolt table  for median SalePrice regarding     OverallQual\n",
        "#OverallQual جدول تحديد الوسيط لتصنيفات المتغير\n",
        "median_SalePrice_OvalQ= pd.pivot_table(df, index=\"OverallQual\", values=\"SalePrice\" , aggfunc=\"median\")\n",
        "median_SalePrice_OvalQ"
      ]
    },
    {
      "cell_type": "code",
      "execution_count": null,
      "metadata": {
        "id": "Tmsv3fJgKF2Q"
      },
      "outputs": [],
      "source": []
    }
  ],
  "metadata": {
    "colab": {
      "provenance": []
    },
    "kernelspec": {
      "display_name": "Python 3",
      "name": "python3"
    },
    "language_info": {
      "codemirror_mode": {
        "name": "ipython",
        "version": 3
      },
      "file_extension": ".py",
      "mimetype": "text/x-python",
      "name": "python",
      "nbconvert_exporter": "python",
      "pygments_lexer": "ipython3",
      "version": "3.12.1"
    }
  },
  "nbformat": 4,
  "nbformat_minor": 0
}
