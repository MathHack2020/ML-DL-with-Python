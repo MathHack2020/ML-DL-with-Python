{
 "cells": [
  {
   "cell_type": "markdown",
   "metadata": {},
   "source": [
    "<div style='color: #216969;\n",
    "           background-color: #EAF6F6;\n",
    "           font-size: 200%;\n",
    "           border-radius:15px;\n",
    "           text-align:center;\n",
    "           font-weight:600;\n",
    "           border-style: solid;\n",
    "           border-color: dark green;\n",
    "           font-family: \"Cambria\";'>\n",
    "Features Imputation ....\n",
    "<a class=\"anchor\" id=\"1\"></a> "
   ]
  },
  {
   "cell_type": "code",
   "execution_count": null,
   "metadata": {
    "id": "9xSaS9QBoDzq"
   },
   "outputs": [],
   "source": []
  },
  {
   "cell_type": "markdown",
   "metadata": {},
   "source": [
    "<img src=\"https://www.kdnuggets.com/wp-content/uploads/saneesh-r-1.png\" width=400>\n",
    "\n",
    "- data loading\n",
    "- SimplerImputer implementation\n",
    "- Lasso deployement\n",
    "- Model Evaluation "
   ]
  },
  {
   "cell_type": "markdown",
   "metadata": {},
   "source": [
    "### Imputation Presentation "
   ]
  },
  {
   "cell_type": "code",
   "execution_count": 2,
   "metadata": {
    "id": "kfVkadx8oDrh"
   },
   "outputs": [],
   "source": [
    "import pandas as pd\n",
    "import numpy as np\n",
    "from sklearn.impute import SimpleImputer\n",
    "\n",
    "# Create a sample DataFrame with missing values\n",
    "data = {'A': [1, 2, np.nan, 4],\n",
    "        'B': ['cat', 'dog', np.nan, 'cat'],\n",
    "        'C': [5.0, np.nan, 7.0, 8.0]}\n",
    "df = pd.DataFrame(data)\n",
    "\n",
    "# Impute missing values using the most frequent strategy\n",
    "imputer = SimpleImputer(strategy='most_frequent')\n",
    "df_imputed = pd.DataFrame(imputer.fit_transform(df), columns=df.columns)\n"
   ]
  },
  {
   "cell_type": "code",
   "execution_count": null,
   "metadata": {},
   "outputs": [
    {
     "name": "stdout",
     "output_type": "stream",
     "text": [
      "Original DataFrame:\n"
     ]
    },
    {
     "data": {
      "text/html": [
       "<div>\n",
       "<style scoped>\n",
       "    .dataframe tbody tr th:only-of-type {\n",
       "        vertical-align: middle;\n",
       "    }\n",
       "\n",
       "    .dataframe tbody tr th {\n",
       "        vertical-align: top;\n",
       "    }\n",
       "\n",
       "    .dataframe thead th {\n",
       "        text-align: right;\n",
       "    }\n",
       "</style>\n",
       "<table border=\"1\" class=\"dataframe\">\n",
       "  <thead>\n",
       "    <tr style=\"text-align: right;\">\n",
       "      <th></th>\n",
       "      <th>A</th>\n",
       "      <th>B</th>\n",
       "      <th>C</th>\n",
       "    </tr>\n",
       "  </thead>\n",
       "  <tbody>\n",
       "    <tr>\n",
       "      <th>0</th>\n",
       "      <td>1.0</td>\n",
       "      <td>cat</td>\n",
       "      <td>5.0</td>\n",
       "    </tr>\n",
       "    <tr>\n",
       "      <th>1</th>\n",
       "      <td>2.0</td>\n",
       "      <td>dog</td>\n",
       "      <td>NaN</td>\n",
       "    </tr>\n",
       "    <tr>\n",
       "      <th>2</th>\n",
       "      <td>NaN</td>\n",
       "      <td>NaN</td>\n",
       "      <td>7.0</td>\n",
       "    </tr>\n",
       "    <tr>\n",
       "      <th>3</th>\n",
       "      <td>4.0</td>\n",
       "      <td>cat</td>\n",
       "      <td>8.0</td>\n",
       "    </tr>\n",
       "  </tbody>\n",
       "</table>\n",
       "</div>"
      ],
      "text/plain": [
       "     A    B    C\n",
       "0  1.0  cat  5.0\n",
       "1  2.0  dog  NaN\n",
       "2  NaN  NaN  7.0\n",
       "3  4.0  cat  8.0"
      ]
     },
     "execution_count": 3,
     "metadata": {},
     "output_type": "execute_result"
    }
   ],
   "source": [
    "\n",
    "print(\"Original DataFrame:\")\n",
    "df\n"
   ]
  },
  {
   "cell_type": "code",
   "execution_count": 4,
   "metadata": {},
   "outputs": [
    {
     "name": "stdout",
     "output_type": "stream",
     "text": [
      "\n",
      "Imputed DataFrame:\n"
     ]
    },
    {
     "data": {
      "text/html": [
       "<div>\n",
       "<style scoped>\n",
       "    .dataframe tbody tr th:only-of-type {\n",
       "        vertical-align: middle;\n",
       "    }\n",
       "\n",
       "    .dataframe tbody tr th {\n",
       "        vertical-align: top;\n",
       "    }\n",
       "\n",
       "    .dataframe thead th {\n",
       "        text-align: right;\n",
       "    }\n",
       "</style>\n",
       "<table border=\"1\" class=\"dataframe\">\n",
       "  <thead>\n",
       "    <tr style=\"text-align: right;\">\n",
       "      <th></th>\n",
       "      <th>A</th>\n",
       "      <th>B</th>\n",
       "      <th>C</th>\n",
       "    </tr>\n",
       "  </thead>\n",
       "  <tbody>\n",
       "    <tr>\n",
       "      <th>0</th>\n",
       "      <td>1.0</td>\n",
       "      <td>cat</td>\n",
       "      <td>5.0</td>\n",
       "    </tr>\n",
       "    <tr>\n",
       "      <th>1</th>\n",
       "      <td>2.0</td>\n",
       "      <td>dog</td>\n",
       "      <td>5.0</td>\n",
       "    </tr>\n",
       "    <tr>\n",
       "      <th>2</th>\n",
       "      <td>1.0</td>\n",
       "      <td>cat</td>\n",
       "      <td>7.0</td>\n",
       "    </tr>\n",
       "    <tr>\n",
       "      <th>3</th>\n",
       "      <td>4.0</td>\n",
       "      <td>cat</td>\n",
       "      <td>8.0</td>\n",
       "    </tr>\n",
       "  </tbody>\n",
       "</table>\n",
       "</div>"
      ],
      "text/plain": [
       "     A    B    C\n",
       "0  1.0  cat  5.0\n",
       "1  2.0  dog  5.0\n",
       "2  1.0  cat  7.0\n",
       "3  4.0  cat  8.0"
      ]
     },
     "execution_count": 4,
     "metadata": {},
     "output_type": "execute_result"
    }
   ],
   "source": [
    "print(\"\\nImputed DataFrame:\")\n",
    "df_imputed"
   ]
  },
  {
   "cell_type": "markdown",
   "metadata": {},
   "source": [
    "### Data Loading"
   ]
  },
  {
   "cell_type": "markdown",
   "metadata": {
    "id": "NVNaTlNJ-zxb"
   },
   "source": [
    "- ترميز البينات بالطريقة التي تعرضنا اليها سابقا  افرزت علاقة تفاضلية فيما بين البيانات\n"
   ]
  },
  {
   "cell_type": "code",
   "execution_count": null,
   "metadata": {
    "colab": {
     "base_uri": "https://localhost:8080/",
     "height": 35
    },
    "executionInfo": {
     "elapsed": 1120,
     "status": "ok",
     "timestamp": 1599715188991,
     "user": {
      "displayName": "Math Hack",
      "photoUrl": "https://lh3.googleusercontent.com/a-/AOh14GjOrJzQ2xAgyHRSCzQ3qBInmHzMPfMtIJGxB4HG=s64",
      "userId": "13730440483455885359"
     },
     "user_tz": -180
    },
    "id": "JNw4VbIO1--q",
    "outputId": "5037cba4-4d0f-404a-eb4a-597244caf059"
   },
   "outputs": [
    {
     "data": {
      "application/vnd.google.colaboratory.intrinsic+json": {
       "type": "string"
      },
      "text/plain": [
       "'/content'"
      ]
     },
     "execution_count": 1,
     "metadata": {
      "tags": []
     },
     "output_type": "execute_result"
    }
   ],
   "source": [
    "pwd"
   ]
  },
  {
   "cell_type": "code",
   "execution_count": 1,
   "metadata": {
    "id": "uC_c48ol0f4r"
   },
   "outputs": [],
   "source": [
    "#تحميل البيانات \n",
    "import pandas as pd\n",
    "df= pd.read_csv(\"../data/HousePrice_4.csv\", index_col=0)\n"
   ]
  },
  {
   "cell_type": "code",
   "execution_count": 2,
   "metadata": {
    "colab": {
     "base_uri": "https://localhost:8080/",
     "height": 251
    },
    "executionInfo": {
     "elapsed": 910,
     "status": "ok",
     "timestamp": 1599715209451,
     "user": {
      "displayName": "Math Hack",
      "photoUrl": "https://lh3.googleusercontent.com/a-/AOh14GjOrJzQ2xAgyHRSCzQ3qBInmHzMPfMtIJGxB4HG=s64",
      "userId": "13730440483455885359"
     },
     "user_tz": -180
    },
    "id": "vJXqMS9lQmG-",
    "outputId": "6bc23594-54b2-4866-85fa-88c8bf85058d"
   },
   "outputs": [
    {
     "data": {
      "text/html": [
       "<div>\n",
       "<style scoped>\n",
       "    .dataframe tbody tr th:only-of-type {\n",
       "        vertical-align: middle;\n",
       "    }\n",
       "\n",
       "    .dataframe tbody tr th {\n",
       "        vertical-align: top;\n",
       "    }\n",
       "\n",
       "    .dataframe thead th {\n",
       "        text-align: right;\n",
       "    }\n",
       "</style>\n",
       "<table border=\"1\" class=\"dataframe\">\n",
       "  <thead>\n",
       "    <tr style=\"text-align: right;\">\n",
       "      <th></th>\n",
       "      <th>MSSubClass</th>\n",
       "      <th>MSZoning</th>\n",
       "      <th>LotFrontage</th>\n",
       "      <th>LotArea</th>\n",
       "      <th>Street</th>\n",
       "      <th>LotShape</th>\n",
       "      <th>LandContour</th>\n",
       "      <th>Utilities</th>\n",
       "      <th>LotConfig</th>\n",
       "      <th>LandSlope</th>\n",
       "      <th>...</th>\n",
       "      <th>SaleCondition</th>\n",
       "      <th>SalePrice</th>\n",
       "      <th>TotalSF</th>\n",
       "      <th>TotalPorchSF</th>\n",
       "      <th>TotalBath</th>\n",
       "      <th>SnMoSold</th>\n",
       "      <th>CsMoSold</th>\n",
       "      <th>Remodeled</th>\n",
       "      <th>Age</th>\n",
       "      <th>Isnew</th>\n",
       "    </tr>\n",
       "  </thead>\n",
       "  <tbody>\n",
       "    <tr>\n",
       "      <th>0</th>\n",
       "      <td>60</td>\n",
       "      <td>RL</td>\n",
       "      <td>65.0</td>\n",
       "      <td>8450</td>\n",
       "      <td>Pave</td>\n",
       "      <td>3</td>\n",
       "      <td>Lvl</td>\n",
       "      <td>AllPub</td>\n",
       "      <td>Inside</td>\n",
       "      <td>2</td>\n",
       "      <td>...</td>\n",
       "      <td>Normal</td>\n",
       "      <td>208500</td>\n",
       "      <td>2566</td>\n",
       "      <td>61</td>\n",
       "      <td>3.5</td>\n",
       "      <td>8.660254e-01</td>\n",
       "      <td>5.000000e-01</td>\n",
       "      <td>0</td>\n",
       "      <td>5</td>\n",
       "      <td>0</td>\n",
       "    </tr>\n",
       "    <tr>\n",
       "      <th>1</th>\n",
       "      <td>20</td>\n",
       "      <td>RL</td>\n",
       "      <td>80.0</td>\n",
       "      <td>9600</td>\n",
       "      <td>Pave</td>\n",
       "      <td>3</td>\n",
       "      <td>Lvl</td>\n",
       "      <td>AllPub</td>\n",
       "      <td>FR2</td>\n",
       "      <td>2</td>\n",
       "      <td>...</td>\n",
       "      <td>Normal</td>\n",
       "      <td>181500</td>\n",
       "      <td>2524</td>\n",
       "      <td>0</td>\n",
       "      <td>2.5</td>\n",
       "      <td>5.000000e-01</td>\n",
       "      <td>-8.660254e-01</td>\n",
       "      <td>0</td>\n",
       "      <td>31</td>\n",
       "      <td>0</td>\n",
       "    </tr>\n",
       "    <tr>\n",
       "      <th>2</th>\n",
       "      <td>60</td>\n",
       "      <td>RL</td>\n",
       "      <td>68.0</td>\n",
       "      <td>11250</td>\n",
       "      <td>Pave</td>\n",
       "      <td>2</td>\n",
       "      <td>Lvl</td>\n",
       "      <td>AllPub</td>\n",
       "      <td>Inside</td>\n",
       "      <td>2</td>\n",
       "      <td>...</td>\n",
       "      <td>Normal</td>\n",
       "      <td>223500</td>\n",
       "      <td>2706</td>\n",
       "      <td>42</td>\n",
       "      <td>3.5</td>\n",
       "      <td>-1.000000e+00</td>\n",
       "      <td>-1.836970e-16</td>\n",
       "      <td>1</td>\n",
       "      <td>6</td>\n",
       "      <td>0</td>\n",
       "    </tr>\n",
       "    <tr>\n",
       "      <th>3</th>\n",
       "      <td>70</td>\n",
       "      <td>RL</td>\n",
       "      <td>60.0</td>\n",
       "      <td>9550</td>\n",
       "      <td>Pave</td>\n",
       "      <td>2</td>\n",
       "      <td>Lvl</td>\n",
       "      <td>AllPub</td>\n",
       "      <td>Corner</td>\n",
       "      <td>2</td>\n",
       "      <td>...</td>\n",
       "      <td>Abnorml</td>\n",
       "      <td>140000</td>\n",
       "      <td>2473</td>\n",
       "      <td>307</td>\n",
       "      <td>2.0</td>\n",
       "      <td>8.660254e-01</td>\n",
       "      <td>5.000000e-01</td>\n",
       "      <td>1</td>\n",
       "      <td>36</td>\n",
       "      <td>0</td>\n",
       "    </tr>\n",
       "    <tr>\n",
       "      <th>4</th>\n",
       "      <td>60</td>\n",
       "      <td>RL</td>\n",
       "      <td>84.0</td>\n",
       "      <td>14260</td>\n",
       "      <td>Pave</td>\n",
       "      <td>2</td>\n",
       "      <td>Lvl</td>\n",
       "      <td>AllPub</td>\n",
       "      <td>FR2</td>\n",
       "      <td>2</td>\n",
       "      <td>...</td>\n",
       "      <td>Normal</td>\n",
       "      <td>250000</td>\n",
       "      <td>3343</td>\n",
       "      <td>84</td>\n",
       "      <td>3.5</td>\n",
       "      <td>-2.449294e-16</td>\n",
       "      <td>1.000000e+00</td>\n",
       "      <td>0</td>\n",
       "      <td>8</td>\n",
       "      <td>0</td>\n",
       "    </tr>\n",
       "  </tbody>\n",
       "</table>\n",
       "<p>5 rows × 67 columns</p>\n",
       "</div>"
      ],
      "text/plain": [
       "   MSSubClass MSZoning  LotFrontage  LotArea Street  LotShape LandContour  \\\n",
       "0          60       RL         65.0     8450   Pave         3         Lvl   \n",
       "1          20       RL         80.0     9600   Pave         3         Lvl   \n",
       "2          60       RL         68.0    11250   Pave         2         Lvl   \n",
       "3          70       RL         60.0     9550   Pave         2         Lvl   \n",
       "4          60       RL         84.0    14260   Pave         2         Lvl   \n",
       "\n",
       "  Utilities LotConfig  LandSlope  ... SaleCondition SalePrice TotalSF  \\\n",
       "0    AllPub    Inside          2  ...        Normal    208500    2566   \n",
       "1    AllPub       FR2          2  ...        Normal    181500    2524   \n",
       "2    AllPub    Inside          2  ...        Normal    223500    2706   \n",
       "3    AllPub    Corner          2  ...       Abnorml    140000    2473   \n",
       "4    AllPub       FR2          2  ...        Normal    250000    3343   \n",
       "\n",
       "  TotalPorchSF TotalBath      SnMoSold      CsMoSold Remodeled Age Isnew  \n",
       "0           61       3.5  8.660254e-01  5.000000e-01         0   5     0  \n",
       "1            0       2.5  5.000000e-01 -8.660254e-01         0  31     0  \n",
       "2           42       3.5 -1.000000e+00 -1.836970e-16         1   6     0  \n",
       "3          307       2.0  8.660254e-01  5.000000e-01         1  36     0  \n",
       "4           84       3.5 -2.449294e-16  1.000000e+00         0   8     0  \n",
       "\n",
       "[5 rows x 67 columns]"
      ]
     },
     "execution_count": 2,
     "metadata": {},
     "output_type": "execute_result"
    }
   ],
   "source": [
    "df.head()"
   ]
  },
  {
   "cell_type": "markdown",
   "metadata": {},
   "source": [
    "![](../imgs/featureEngin.png)"
   ]
  },
  {
   "cell_type": "markdown",
   "metadata": {
    "id": "Z3XqdePXA_Jr"
   },
   "source": [
    " - يتعرض الترميز الجديد إلى تلك الخصائص التي لا تفاضل فيما بين قيم الترميز فيها "
   ]
  },
  {
   "cell_type": "code",
   "execution_count": 3,
   "metadata": {
    "colab": {
     "base_uri": "https://localhost:8080/",
     "height": 34
    },
    "executionInfo": {
     "elapsed": 933,
     "status": "ok",
     "timestamp": 1599715225436,
     "user": {
      "displayName": "Math Hack",
      "photoUrl": "https://lh3.googleusercontent.com/a-/AOh14GjOrJzQ2xAgyHRSCzQ3qBInmHzMPfMtIJGxB4HG=s64",
      "userId": "13730440483455885359"
     },
     "user_tz": -180
    },
    "id": "dNlWqo0viIz0",
    "outputId": "d43895f4-38f8-415d-c553-bb6f69c768c3"
   },
   "outputs": [
    {
     "data": {
      "text/plain": [
       "(1455, 67)"
      ]
     },
     "execution_count": 3,
     "metadata": {},
     "output_type": "execute_result"
    }
   ],
   "source": [
    "df.shape"
   ]
  },
  {
   "cell_type": "code",
   "execution_count": 4,
   "metadata": {
    "colab": {
     "base_uri": "https://localhost:8080/",
     "height": 105
    },
    "executionInfo": {
     "elapsed": 1087,
     "status": "ok",
     "timestamp": 1599715229490,
     "user": {
      "displayName": "Math Hack",
      "photoUrl": "https://lh3.googleusercontent.com/a-/AOh14GjOrJzQ2xAgyHRSCzQ3qBInmHzMPfMtIJGxB4HG=s64",
      "userId": "13730440483455885359"
     },
     "user_tz": -180
    },
    "id": "-Wc86NO__nuD",
    "outputId": "6da3f4dd-6fbc-4441-9fb2-460be5d6f9bb"
   },
   "outputs": [
    {
     "data": {
      "text/plain": [
       "Index(['MSZoning', 'Street', 'LandContour', 'Utilities', 'LotConfig',\n",
       "       'Neighborhood', 'Condition1', 'Condition2', 'BldgType', 'HouseStyle',\n",
       "       'RoofStyle', 'RoofMatl', 'Exterior1st', 'Exterior2nd', 'Foundation',\n",
       "       'Heating', 'Electrical', 'GarageType', 'SaleType', 'SaleCondition'],\n",
       "      dtype='object')"
      ]
     },
     "execution_count": 4,
     "metadata": {},
     "output_type": "execute_result"
    }
   ],
   "source": [
    "df.select_dtypes(exclude=\"number\").columns"
   ]
  },
  {
   "cell_type": "code",
   "execution_count": 5,
   "metadata": {
    "colab": {
     "base_uri": "https://localhost:8080/",
     "height": 496
    },
    "executionInfo": {
     "elapsed": 842,
     "status": "ok",
     "timestamp": 1599715233985,
     "user": {
      "displayName": "Math Hack",
      "photoUrl": "https://lh3.googleusercontent.com/a-/AOh14GjOrJzQ2xAgyHRSCzQ3qBInmHzMPfMtIJGxB4HG=s64",
      "userId": "13730440483455885359"
     },
     "user_tz": -180
    },
    "id": "t1jt0O7mVnXV",
    "outputId": "173a2468-2c19-43d8-e717-3086cab20da4"
   },
   "outputs": [
    {
     "name": "stdout",
     "output_type": "stream",
     "text": [
      "<class 'pandas.core.frame.DataFrame'>\n",
      "Index: 1455 entries, 0 to 1459\n",
      "Data columns (total 20 columns):\n",
      " #   Column         Non-Null Count  Dtype \n",
      "---  ------         --------------  ----- \n",
      " 0   MSZoning       1455 non-null   object\n",
      " 1   Street         1455 non-null   object\n",
      " 2   LandContour    1455 non-null   object\n",
      " 3   Utilities      1455 non-null   object\n",
      " 4   LotConfig      1455 non-null   object\n",
      " 5   Neighborhood   1455 non-null   object\n",
      " 6   Condition1     1455 non-null   object\n",
      " 7   Condition2     1455 non-null   object\n",
      " 8   BldgType       1455 non-null   object\n",
      " 9   HouseStyle     1455 non-null   object\n",
      " 10  RoofStyle      1455 non-null   object\n",
      " 11  RoofMatl       1455 non-null   object\n",
      " 12  Exterior1st    1455 non-null   object\n",
      " 13  Exterior2nd    1455 non-null   object\n",
      " 14  Foundation     1455 non-null   object\n",
      " 15  Heating        1455 non-null   object\n",
      " 16  Electrical     1454 non-null   object\n",
      " 17  GarageType     1374 non-null   object\n",
      " 18  SaleType       1455 non-null   object\n",
      " 19  SaleCondition  1455 non-null   object\n",
      "dtypes: object(20)\n",
      "memory usage: 238.7+ KB\n"
     ]
    }
   ],
   "source": [
    "df.select_dtypes(exclude=\"number\").info()"
   ]
  },
  {
   "cell_type": "code",
   "execution_count": 6,
   "metadata": {
    "colab": {
     "base_uri": "https://localhost:8080/",
     "height": 212
    },
    "executionInfo": {
     "elapsed": 883,
     "status": "ok",
     "timestamp": 1599715240555,
     "user": {
      "displayName": "Math Hack",
      "photoUrl": "https://lh3.googleusercontent.com/a-/AOh14GjOrJzQ2xAgyHRSCzQ3qBInmHzMPfMtIJGxB4HG=s64",
      "userId": "13730440483455885359"
     },
     "user_tz": -180
    },
    "id": "F7PGQ1njGDCZ",
    "outputId": "7c98b700-e3da-4a66-c1b5-72a11ff39e95"
   },
   "outputs": [
    {
     "data": {
      "text/plain": [
       "Index(['MSSubClass', 'LotFrontage', 'LotArea', 'LotShape', 'LandSlope',\n",
       "       'OverallQual', 'OverallCond', 'MasVnrType', 'MasVnrArea', 'ExterQual',\n",
       "       'ExterCond', 'BsmtQual', 'BsmtCond', 'BsmtExposure', 'BsmtFinType1',\n",
       "       'BsmtFinSF1', 'BsmtFinType2', 'BsmtFinSF2', 'BsmtUnfSF', 'HeatingQC',\n",
       "       'CentralAir', '1stFlrSF', '2ndFlrSF', 'LowQualFinSF', 'BedroomAbvGr',\n",
       "       'KitchenAbvGr', 'KitchenQual', 'TotRmsAbvGrd', 'Functional',\n",
       "       'Fireplaces', 'GarageFinish', 'GarageArea', 'GarageQual', 'GarageCond',\n",
       "       'PavedDrive', 'WoodDeckSF', 'PoolArea', 'MiscVal', 'SalePrice',\n",
       "       'TotalSF', 'TotalPorchSF', 'TotalBath', 'SnMoSold', 'CsMoSold',\n",
       "       'Remodeled', 'Age', 'Isnew'],\n",
       "      dtype='object')"
      ]
     },
     "execution_count": 6,
     "metadata": {},
     "output_type": "execute_result"
    }
   ],
   "source": [
    "df.select_dtypes(\"number\").columns"
   ]
  },
  {
   "cell_type": "code",
   "execution_count": 7,
   "metadata": {
    "colab": {
     "base_uri": "https://localhost:8080/",
     "height": 976
    },
    "executionInfo": {
     "elapsed": 928,
     "status": "ok",
     "timestamp": 1599715285760,
     "user": {
      "displayName": "Math Hack",
      "photoUrl": "https://lh3.googleusercontent.com/a-/AOh14GjOrJzQ2xAgyHRSCzQ3qBInmHzMPfMtIJGxB4HG=s64",
      "userId": "13730440483455885359"
     },
     "user_tz": -180
    },
    "id": "QuFPu4iqV0Rq",
    "outputId": "01703153-9a1c-4829-b654-cf9b13953e59"
   },
   "outputs": [
    {
     "name": "stdout",
     "output_type": "stream",
     "text": [
      "<class 'pandas.core.frame.DataFrame'>\n",
      "Index: 1455 entries, 0 to 1459\n",
      "Data columns (total 47 columns):\n",
      " #   Column        Non-Null Count  Dtype  \n",
      "---  ------        --------------  -----  \n",
      " 0   MSSubClass    1455 non-null   int64  \n",
      " 1   LotFrontage   1197 non-null   float64\n",
      " 2   LotArea       1455 non-null   int64  \n",
      " 3   LotShape      1455 non-null   int64  \n",
      " 4   LandSlope     1455 non-null   int64  \n",
      " 5   OverallQual   1455 non-null   int64  \n",
      " 6   OverallCond   1455 non-null   int64  \n",
      " 7   MasVnrType    1447 non-null   float64\n",
      " 8   MasVnrArea    1447 non-null   float64\n",
      " 9   ExterQual     1455 non-null   int64  \n",
      " 10  ExterCond     1455 non-null   int64  \n",
      " 11  BsmtQual      1418 non-null   float64\n",
      " 12  BsmtCond      1418 non-null   float64\n",
      " 13  BsmtExposure  1417 non-null   float64\n",
      " 14  BsmtFinType1  1418 non-null   float64\n",
      " 15  BsmtFinSF1    1455 non-null   int64  \n",
      " 16  BsmtFinType2  1417 non-null   float64\n",
      " 17  BsmtFinSF2    1455 non-null   int64  \n",
      " 18  BsmtUnfSF     1455 non-null   int64  \n",
      " 19  HeatingQC     1455 non-null   int64  \n",
      " 20  CentralAir    1455 non-null   int64  \n",
      " 21  1stFlrSF      1455 non-null   int64  \n",
      " 22  2ndFlrSF      1455 non-null   int64  \n",
      " 23  LowQualFinSF  1455 non-null   int64  \n",
      " 24  BedroomAbvGr  1455 non-null   int64  \n",
      " 25  KitchenAbvGr  1455 non-null   int64  \n",
      " 26  KitchenQual   1455 non-null   int64  \n",
      " 27  TotRmsAbvGrd  1455 non-null   int64  \n",
      " 28  Functional    1455 non-null   int64  \n",
      " 29  Fireplaces    1455 non-null   int64  \n",
      " 30  GarageFinish  1374 non-null   float64\n",
      " 31  GarageArea    1455 non-null   int64  \n",
      " 32  GarageQual    1374 non-null   float64\n",
      " 33  GarageCond    1374 non-null   float64\n",
      " 34  PavedDrive    1455 non-null   int64  \n",
      " 35  WoodDeckSF    1455 non-null   int64  \n",
      " 36  PoolArea      1455 non-null   int64  \n",
      " 37  MiscVal       1455 non-null   int64  \n",
      " 38  SalePrice     1455 non-null   int64  \n",
      " 39  TotalSF       1455 non-null   int64  \n",
      " 40  TotalPorchSF  1455 non-null   int64  \n",
      " 41  TotalBath     1455 non-null   float64\n",
      " 42  SnMoSold      1455 non-null   float64\n",
      " 43  CsMoSold      1455 non-null   float64\n",
      " 44  Remodeled     1455 non-null   int64  \n",
      " 45  Age           1455 non-null   int64  \n",
      " 46  Isnew         1455 non-null   int64  \n",
      "dtypes: float64(14), int64(33)\n",
      "memory usage: 545.6 KB\n"
     ]
    }
   ],
   "source": [
    "df.select_dtypes(\"number\").info()"
   ]
  },
  {
   "cell_type": "code",
   "execution_count": 8,
   "metadata": {
    "colab": {
     "base_uri": "https://localhost:8080/",
     "height": 123
    },
    "executionInfo": {
     "elapsed": 891,
     "status": "ok",
     "timestamp": 1599715735400,
     "user": {
      "displayName": "Math Hack",
      "photoUrl": "https://lh3.googleusercontent.com/a-/AOh14GjOrJzQ2xAgyHRSCzQ3qBInmHzMPfMtIJGxB4HG=s64",
      "userId": "13730440483455885359"
     },
     "user_tz": -180
    },
    "id": "cSRs2w0yVjHR",
    "outputId": "d8dfb5cb-89b1-40e9-d1c0-b7a3f4aa5c66"
   },
   "outputs": [
    {
     "data": {
      "text/plain": [
       "LotFrontage     0.17732\n",
       "GarageCond      0.05567\n",
       "GarageType      0.05567\n",
       "GarageQual      0.05567\n",
       "GarageFinish    0.05567\n",
       "dtype: float64"
      ]
     },
     "execution_count": 8,
     "metadata": {},
     "output_type": "execute_result"
    }
   ],
   "source": [
    "#  قائمة الخصائص التي تتميز بأعلى نسبة غياب في بياناتها\n",
    "miss_val=(df.isna().sum()/df.shape[0]).sort_values()\n",
    "miss_val.nlargest(5)\n",
    "#miss_val.nlargest(7).index\n",
    "# df[miss_val.nlargest(7).index]"
   ]
  },
  {
   "cell_type": "code",
   "execution_count": 9,
   "metadata": {
    "colab": {
     "base_uri": "https://localhost:8080/",
     "height": 34
    },
    "executionInfo": {
     "elapsed": 918,
     "status": "ok",
     "timestamp": 1599715472661,
     "user": {
      "displayName": "Math Hack",
      "photoUrl": "https://lh3.googleusercontent.com/a-/AOh14GjOrJzQ2xAgyHRSCzQ3qBInmHzMPfMtIJGxB4HG=s64",
      "userId": "13730440483455885359"
     },
     "user_tz": -180
    },
    "id": "Dw5GtEcuSNrE",
    "outputId": "51d86bd2-7258-4225-d1e4-a384a2b16087"
   },
   "outputs": [
    {
     "data": {
      "text/plain": [
       "np.int64(258)"
      ]
     },
     "execution_count": 9,
     "metadata": {},
     "output_type": "execute_result"
    }
   ],
   "source": [
    "df.LotFrontage.isnull().sum()"
   ]
  },
  {
   "cell_type": "code",
   "execution_count": 10,
   "metadata": {
    "colab": {
     "base_uri": "https://localhost:8080/",
     "height": 123
    },
    "executionInfo": {
     "elapsed": 889,
     "status": "ok",
     "timestamp": 1599715487309,
     "user": {
      "displayName": "Math Hack",
      "photoUrl": "https://lh3.googleusercontent.com/a-/AOh14GjOrJzQ2xAgyHRSCzQ3qBInmHzMPfMtIJGxB4HG=s64",
      "userId": "13730440483455885359"
     },
     "user_tz": -180
    },
    "id": "gqJ4gopkaxpy",
    "outputId": "cba48f41-3bf9-4f76-f9d0-e4d5daeefce6"
   },
   "outputs": [
    {
     "data": {
      "text/plain": [
       "7      NaN\n",
       "12     NaN\n",
       "14     NaN\n",
       "16     NaN\n",
       "17    72.0\n",
       "Name: LotFrontage, dtype: float64"
      ]
     },
     "execution_count": 10,
     "metadata": {},
     "output_type": "execute_result"
    }
   ],
   "source": [
    "df[df.isna().any(axis=1)][\"LotFrontage\"].head()"
   ]
  },
  {
   "cell_type": "code",
   "execution_count": null,
   "metadata": {
    "id": "REFkYRv_RRxm"
   },
   "outputs": [],
   "source": []
  },
  {
   "cell_type": "code",
   "execution_count": 11,
   "metadata": {
    "colab": {
     "base_uri": "https://localhost:8080/",
     "height": 105
    },
    "executionInfo": {
     "elapsed": 749,
     "status": "ok",
     "timestamp": 1599715511742,
     "user": {
      "displayName": "Math Hack",
      "photoUrl": "https://lh3.googleusercontent.com/a-/AOh14GjOrJzQ2xAgyHRSCzQ3qBInmHzMPfMtIJGxB4HG=s64",
      "userId": "13730440483455885359"
     },
     "user_tz": -180
    },
    "id": "K5x0gGrqOqEk",
    "outputId": "7f7b338c-be80-459c-8929-2a9afd164a36"
   },
   "outputs": [
    {
     "data": {
      "text/plain": [
       "0    1.0\n",
       "1    NaN\n",
       "2    2.0\n",
       "3    3.0\n",
       "dtype: float64"
      ]
     },
     "execution_count": 11,
     "metadata": {},
     "output_type": "execute_result"
    }
   ],
   "source": [
    "# تصفير قيم ناقصة \n",
    "import numpy as np\n",
    "pd.Series([1, np.nan, 2, 3 ])\n"
   ]
  },
  {
   "cell_type": "code",
   "execution_count": 12,
   "metadata": {
    "colab": {
     "base_uri": "https://localhost:8080/",
     "height": 105
    },
    "executionInfo": {
     "elapsed": 917,
     "status": "ok",
     "timestamp": 1599715571340,
     "user": {
      "displayName": "Math Hack",
      "photoUrl": "https://lh3.googleusercontent.com/a-/AOh14GjOrJzQ2xAgyHRSCzQ3qBInmHzMPfMtIJGxB4HG=s64",
      "userId": "13730440483455885359"
     },
     "user_tz": -180
    },
    "id": "ce-L-mcdV2iI",
    "outputId": "506f8e2e-086a-476e-e166-ffbd629adfcd"
   },
   "outputs": [
    {
     "data": {
      "text/plain": [
       "0    1.0\n",
       "1    0.0\n",
       "2    2.0\n",
       "3    3.0\n",
       "dtype: float64"
      ]
     },
     "execution_count": 12,
     "metadata": {},
     "output_type": "execute_result"
    }
   ],
   "source": [
    "pd.Series([1, np.nan, 2, 3 ]).fillna(value=0 )"
   ]
  },
  {
   "cell_type": "code",
   "execution_count": null,
   "metadata": {
    "colab": {
     "base_uri": "https://localhost:8080/",
     "height": 247
    },
    "executionInfo": {
     "elapsed": 8244,
     "status": "ok",
     "timestamp": 1599126103326,
     "user": {
      "displayName": "Math Hack",
      "photoUrl": "https://lh3.googleusercontent.com/a-/AOh14GjOrJzQ2xAgyHRSCzQ3qBInmHzMPfMtIJGxB4HG=s64",
      "userId": "13730440483455885359"
     },
     "user_tz": -180
    },
    "id": "JtiQg2lwgW8W",
    "outputId": "7195739c-17d0-4a73-f943-16b5eb598337"
   },
   "outputs": [
    {
     "name": "stdout",
     "output_type": "stream",
     "text": [
      "Collecting scikit-learn\n",
      "\u001b[?25l  Downloading https://files.pythonhosted.org/packages/5c/a1/273def87037a7fb010512bbc5901c31cfddfca8080bc63b42b26e3cc55b3/scikit_learn-0.23.2-cp36-cp36m-manylinux1_x86_64.whl (6.8MB)\n",
      "\u001b[K     |████████████████████████████████| 6.8MB 2.7MB/s \n",
      "\u001b[?25hCollecting threadpoolctl>=2.0.0\n",
      "  Downloading https://files.pythonhosted.org/packages/f7/12/ec3f2e203afa394a149911729357aa48affc59c20e2c1c8297a60f33f133/threadpoolctl-2.1.0-py3-none-any.whl\n",
      "Requirement already satisfied, skipping upgrade: numpy>=1.13.3 in /usr/local/lib/python3.6/dist-packages (from scikit-learn) (1.18.5)\n",
      "Requirement already satisfied, skipping upgrade: scipy>=0.19.1 in /usr/local/lib/python3.6/dist-packages (from scikit-learn) (1.4.1)\n",
      "Requirement already satisfied, skipping upgrade: joblib>=0.11 in /usr/local/lib/python3.6/dist-packages (from scikit-learn) (0.16.0)\n",
      "Installing collected packages: threadpoolctl, scikit-learn\n",
      "  Found existing installation: scikit-learn 0.22.2.post1\n",
      "    Uninstalling scikit-learn-0.22.2.post1:\n",
      "      Successfully uninstalled scikit-learn-0.22.2.post1\n",
      "Successfully installed scikit-learn-0.23.2 threadpoolctl-2.1.0\n"
     ]
    }
   ],
   "source": [
    "! pip install -U scikit-learn"
   ]
  },
  {
   "cell_type": "code",
   "execution_count": 13,
   "metadata": {
    "id": "y-5eYhdLR9ZF"
   },
   "outputs": [
    {
     "name": "stdout",
     "output_type": "stream",
     "text": [
      "\u001b[0;31mInit signature:\u001b[0m\n",
      " \u001b[0mSimpleImputer\u001b[0m\u001b[0;34m(\u001b[0m\u001b[0;34m\u001b[0m\n",
      "\u001b[0;34m\u001b[0m    \u001b[0;34m*\u001b[0m\u001b[0;34m,\u001b[0m\u001b[0;34m\u001b[0m\n",
      "\u001b[0;34m\u001b[0m    \u001b[0mmissing_values\u001b[0m\u001b[0;34m=\u001b[0m\u001b[0mnan\u001b[0m\u001b[0;34m,\u001b[0m\u001b[0;34m\u001b[0m\n",
      "\u001b[0;34m\u001b[0m    \u001b[0mstrategy\u001b[0m\u001b[0;34m=\u001b[0m\u001b[0;34m'mean'\u001b[0m\u001b[0;34m,\u001b[0m\u001b[0;34m\u001b[0m\n",
      "\u001b[0;34m\u001b[0m    \u001b[0mfill_value\u001b[0m\u001b[0;34m=\u001b[0m\u001b[0;32mNone\u001b[0m\u001b[0;34m,\u001b[0m\u001b[0;34m\u001b[0m\n",
      "\u001b[0;34m\u001b[0m    \u001b[0mcopy\u001b[0m\u001b[0;34m=\u001b[0m\u001b[0;32mTrue\u001b[0m\u001b[0;34m,\u001b[0m\u001b[0;34m\u001b[0m\n",
      "\u001b[0;34m\u001b[0m    \u001b[0madd_indicator\u001b[0m\u001b[0;34m=\u001b[0m\u001b[0;32mFalse\u001b[0m\u001b[0;34m,\u001b[0m\u001b[0;34m\u001b[0m\n",
      "\u001b[0;34m\u001b[0m    \u001b[0mkeep_empty_features\u001b[0m\u001b[0;34m=\u001b[0m\u001b[0;32mFalse\u001b[0m\u001b[0;34m,\u001b[0m\u001b[0;34m\u001b[0m\n",
      "\u001b[0;34m\u001b[0m\u001b[0;34m)\u001b[0m\u001b[0;34m\u001b[0m\u001b[0;34m\u001b[0m\u001b[0m\n",
      "\u001b[0;31mDocstring:\u001b[0m     \n",
      "Univariate imputer for completing missing values with simple strategies.\n",
      "\n",
      "Replace missing values using a descriptive statistic (e.g. mean, median, or\n",
      "most frequent) along each column, or using a constant value.\n",
      "\n",
      "Read more in the :ref:`User Guide <impute>`.\n",
      "\n",
      ".. versionadded:: 0.20\n",
      "   `SimpleImputer` replaces the previous `sklearn.preprocessing.Imputer`\n",
      "   estimator which is now removed.\n",
      "\n",
      "Parameters\n",
      "----------\n",
      "missing_values : int, float, str, np.nan, None or pandas.NA, default=np.nan\n",
      "    The placeholder for the missing values. All occurrences of\n",
      "    `missing_values` will be imputed. For pandas' dataframes with\n",
      "    nullable integer dtypes with missing values, `missing_values`\n",
      "    can be set to either `np.nan` or `pd.NA`.\n",
      "\n",
      "strategy : str or Callable, default='mean'\n",
      "    The imputation strategy.\n",
      "\n",
      "    - If \"mean\", then replace missing values using the mean along\n",
      "      each column. Can only be used with numeric data.\n",
      "    - If \"median\", then replace missing values using the median along\n",
      "      each column. Can only be used with numeric data.\n",
      "    - If \"most_frequent\", then replace missing using the most frequent\n",
      "      value along each column. Can be used with strings or numeric data.\n",
      "      If there is more than one such value, only the smallest is returned.\n",
      "    - If \"constant\", then replace missing values with fill_value. Can be\n",
      "      used with strings or numeric data.\n",
      "    - If an instance of Callable, then replace missing values using the\n",
      "      scalar statistic returned by running the callable over a dense 1d\n",
      "      array containing non-missing values of each column.\n",
      "\n",
      "    .. versionadded:: 0.20\n",
      "       strategy=\"constant\" for fixed value imputation.\n",
      "\n",
      "    .. versionadded:: 1.5\n",
      "       strategy=callable for custom value imputation.\n",
      "\n",
      "fill_value : str or numerical value, default=None\n",
      "    When strategy == \"constant\", `fill_value` is used to replace all\n",
      "    occurrences of missing_values. For string or object data types,\n",
      "    `fill_value` must be a string.\n",
      "    If `None`, `fill_value` will be 0 when imputing numerical\n",
      "    data and \"missing_value\" for strings or object data types.\n",
      "\n",
      "copy : bool, default=True\n",
      "    If True, a copy of X will be created. If False, imputation will\n",
      "    be done in-place whenever possible. Note that, in the following cases,\n",
      "    a new copy will always be made, even if `copy=False`:\n",
      "\n",
      "    - If `X` is not an array of floating values;\n",
      "    - If `X` is encoded as a CSR matrix;\n",
      "    - If `add_indicator=True`.\n",
      "\n",
      "add_indicator : bool, default=False\n",
      "    If True, a :class:`MissingIndicator` transform will stack onto output\n",
      "    of the imputer's transform. This allows a predictive estimator\n",
      "    to account for missingness despite imputation. If a feature has no\n",
      "    missing values at fit/train time, the feature won't appear on\n",
      "    the missing indicator even if there are missing values at\n",
      "    transform/test time.\n",
      "\n",
      "keep_empty_features : bool, default=False\n",
      "    If True, features that consist exclusively of missing values when\n",
      "    `fit` is called are returned in results when `transform` is called.\n",
      "    The imputed value is always `0` except when `strategy=\"constant\"`\n",
      "    in which case `fill_value` will be used instead.\n",
      "\n",
      "    .. versionadded:: 1.2\n",
      "\n",
      "    .. versionchanged:: 1.6\n",
      "        Currently, when `keep_empty_feature=False` and `strategy=\"constant\"`,\n",
      "        empty features are not dropped. This behaviour will change in version\n",
      "        1.8. Set `keep_empty_feature=True` to preserve this behaviour.\n",
      "\n",
      "Attributes\n",
      "----------\n",
      "statistics_ : array of shape (n_features,)\n",
      "    The imputation fill value for each feature.\n",
      "    Computing statistics can result in `np.nan` values.\n",
      "    During :meth:`transform`, features corresponding to `np.nan`\n",
      "    statistics will be discarded.\n",
      "\n",
      "indicator_ : :class:`~sklearn.impute.MissingIndicator`\n",
      "    Indicator used to add binary indicators for missing values.\n",
      "    `None` if `add_indicator=False`.\n",
      "\n",
      "n_features_in_ : int\n",
      "    Number of features seen during :term:`fit`.\n",
      "\n",
      "    .. versionadded:: 0.24\n",
      "\n",
      "feature_names_in_ : ndarray of shape (`n_features_in_`,)\n",
      "    Names of features seen during :term:`fit`. Defined only when `X`\n",
      "    has feature names that are all strings.\n",
      "\n",
      "    .. versionadded:: 1.0\n",
      "\n",
      "See Also\n",
      "--------\n",
      "IterativeImputer : Multivariate imputer that estimates values to impute for\n",
      "    each feature with missing values from all the others.\n",
      "KNNImputer : Multivariate imputer that estimates missing features using\n",
      "    nearest samples.\n",
      "\n",
      "Notes\n",
      "-----\n",
      "Columns which only contained missing values at :meth:`fit` are discarded\n",
      "upon :meth:`transform` if strategy is not `\"constant\"`.\n",
      "\n",
      "In a prediction context, simple imputation usually performs poorly when\n",
      "associated with a weak learner. However, with a powerful learner, it can\n",
      "lead to as good or better performance than complex imputation such as\n",
      ":class:`~sklearn.impute.IterativeImputer` or :class:`~sklearn.impute.KNNImputer`.\n",
      "\n",
      "Examples\n",
      "--------\n",
      ">>> import numpy as np\n",
      ">>> from sklearn.impute import SimpleImputer\n",
      ">>> imp_mean = SimpleImputer(missing_values=np.nan, strategy='mean')\n",
      ">>> imp_mean.fit([[7, 2, 3], [4, np.nan, 6], [10, 5, 9]])\n",
      "SimpleImputer()\n",
      ">>> X = [[np.nan, 2, 3], [4, np.nan, 6], [10, np.nan, 9]]\n",
      ">>> print(imp_mean.transform(X))\n",
      "[[ 7.   2.   3. ]\n",
      " [ 4.   3.5  6. ]\n",
      " [10.   3.5  9. ]]\n",
      "\n",
      "For a more detailed example see\n",
      ":ref:`sphx_glr_auto_examples_impute_plot_missing_values.py`.\n",
      "\u001b[0;31mFile:\u001b[0m           ~/.local/lib/python3.12/site-packages/sklearn/impute/_base.py\n",
      "\u001b[0;31mType:\u001b[0m           type\n",
      "\u001b[0;31mSubclasses:\u001b[0m     "
     ]
    }
   ],
   "source": [
    "from sklearn.impute import SimpleImputer\n",
    "#  strategy :  most_frequent ,   mean , median\n",
    "# most frequent   for Catgorical Features\n",
    "? SimpleImputer"
   ]
  },
  {
   "cell_type": "code",
   "execution_count": 15,
   "metadata": {
    "colab": {
     "base_uri": "https://localhost:8080/",
     "height": 105
    },
    "executionInfo": {
     "elapsed": 1173,
     "status": "ok",
     "timestamp": 1599715587766,
     "user": {
      "displayName": "Math Hack",
      "photoUrl": "https://lh3.googleusercontent.com/a-/AOh14GjOrJzQ2xAgyHRSCzQ3qBInmHzMPfMtIJGxB4HG=s64",
      "userId": "13730440483455885359"
     },
     "user_tz": -180
    },
    "id": "1g-aD1j3XIkl",
    "outputId": "4196fdec-bbaf-40c0-ad58-4141781d4f76"
   },
   "outputs": [
    {
     "data": {
      "text/plain": [
       "array([[1.],\n",
       "       [2.],\n",
       "       [2.],\n",
       "       [3.],\n",
       "       [2.]])"
      ]
     },
     "execution_count": 15,
     "metadata": {},
     "output_type": "execute_result"
    }
   ],
   "source": [
    "SimpleImputer(missing_values=np.nan, strategy='most_frequent').fit_transform(pd.DataFrame([1, np.nan, 2, 3, 2 ]))"
   ]
  },
  {
   "cell_type": "markdown",
   "metadata": {
    "id": "U6ODnUD42nGA"
   },
   "source": [
    "## Imputation   تعويض القيم الناقصة "
   ]
  },
  {
   "cell_type": "code",
   "execution_count": 16,
   "metadata": {
    "id": "HW09AhIZTTou"
   },
   "outputs": [],
   "source": [
    "# نسخ مجموعة البيانات \n",
    "df_cp=df.copy()"
   ]
  },
  {
   "cell_type": "code",
   "execution_count": 17,
   "metadata": {
    "colab": {
     "base_uri": "https://localhost:8080/",
     "height": 265
    },
    "executionInfo": {
     "elapsed": 1024,
     "status": "ok",
     "timestamp": 1599715745325,
     "user": {
      "displayName": "Math Hack",
      "photoUrl": "https://lh3.googleusercontent.com/a-/AOh14GjOrJzQ2xAgyHRSCzQ3qBInmHzMPfMtIJGxB4HG=s64",
      "userId": "13730440483455885359"
     },
     "user_tz": -180
    },
    "id": "z83XPWwoXdbk",
    "outputId": "00c33e30-dbaf-4aa5-e10b-ff408e30afff"
   },
   "outputs": [
    {
     "data": {
      "text/plain": [
       "LotFrontage     0.177320\n",
       "GarageFinish    0.055670\n",
       "GarageCond      0.055670\n",
       "GarageType      0.055670\n",
       "GarageQual      0.055670\n",
       "BsmtExposure    0.026117\n",
       "BsmtFinType2    0.026117\n",
       "BsmtCond        0.025430\n",
       "BsmtQual        0.025430\n",
       "BsmtFinType1    0.025430\n",
       "MasVnrArea      0.005498\n",
       "MasVnrType      0.005498\n",
       "Electrical      0.000687\n",
       "dtype: float64"
      ]
     },
     "execution_count": 17,
     "metadata": {},
     "output_type": "execute_result"
    }
   ],
   "source": [
    "# تحديد قائمة الخصائص التي نقصها قيم \n",
    "miss_val=(df_cp.isna().sum()/df_cp.shape[0]).sort_values(ascending=False)\n",
    "miss_val[miss_val>0]"
   ]
  },
  {
   "cell_type": "code",
   "execution_count": 18,
   "metadata": {
    "colab": {
     "base_uri": "https://localhost:8080/",
     "height": 87
    },
    "executionInfo": {
     "elapsed": 912,
     "status": "ok",
     "timestamp": 1599715749891,
     "user": {
      "displayName": "Math Hack",
      "photoUrl": "https://lh3.googleusercontent.com/a-/AOh14GjOrJzQ2xAgyHRSCzQ3qBInmHzMPfMtIJGxB4HG=s64",
      "userId": "13730440483455885359"
     },
     "user_tz": -180
    },
    "id": "OHQsr4yvY7WQ",
    "outputId": "f78145cb-1374-4fcf-9d66-ac5d3ffa4bd2"
   },
   "outputs": [
    {
     "data": {
      "text/plain": [
       "Index(['LotFrontage', 'GarageFinish', 'GarageCond', 'GarageType', 'GarageQual',\n",
       "       'BsmtExposure', 'BsmtFinType2', 'BsmtCond', 'BsmtQual', 'BsmtFinType1',\n",
       "       'MasVnrArea', 'MasVnrType', 'Electrical'],\n",
       "      dtype='object')"
      ]
     },
     "execution_count": 18,
     "metadata": {},
     "output_type": "execute_result"
    }
   ],
   "source": [
    "# قائمة الخصائص التي تحتوي على قيم نافصة \n",
    "miss_val[miss_val>0].index"
   ]
  },
  {
   "cell_type": "code",
   "execution_count": 19,
   "metadata": {
    "id": "pKqt1oGHZQt-"
   },
   "outputs": [],
   "source": [
    "\n",
    "df_cp=df_cp[miss_val[miss_val>0].index]"
   ]
  },
  {
   "cell_type": "code",
   "execution_count": 20,
   "metadata": {
    "colab": {
     "base_uri": "https://localhost:8080/",
     "height": 197
    },
    "executionInfo": {
     "elapsed": 903,
     "status": "ok",
     "timestamp": 1599715764001,
     "user": {
      "displayName": "Math Hack",
      "photoUrl": "https://lh3.googleusercontent.com/a-/AOh14GjOrJzQ2xAgyHRSCzQ3qBInmHzMPfMtIJGxB4HG=s64",
      "userId": "13730440483455885359"
     },
     "user_tz": -180
    },
    "id": "nJEDmskpm3XV",
    "outputId": "d4aedeee-a29f-4b31-a276-416c1e07a653"
   },
   "outputs": [
    {
     "data": {
      "text/html": [
       "<div>\n",
       "<style scoped>\n",
       "    .dataframe tbody tr th:only-of-type {\n",
       "        vertical-align: middle;\n",
       "    }\n",
       "\n",
       "    .dataframe tbody tr th {\n",
       "        vertical-align: top;\n",
       "    }\n",
       "\n",
       "    .dataframe thead th {\n",
       "        text-align: right;\n",
       "    }\n",
       "</style>\n",
       "<table border=\"1\" class=\"dataframe\">\n",
       "  <thead>\n",
       "    <tr style=\"text-align: right;\">\n",
       "      <th></th>\n",
       "      <th>LotFrontage</th>\n",
       "      <th>GarageFinish</th>\n",
       "      <th>GarageCond</th>\n",
       "      <th>GarageType</th>\n",
       "      <th>GarageQual</th>\n",
       "      <th>BsmtExposure</th>\n",
       "      <th>BsmtFinType2</th>\n",
       "      <th>BsmtCond</th>\n",
       "      <th>BsmtQual</th>\n",
       "      <th>BsmtFinType1</th>\n",
       "      <th>MasVnrArea</th>\n",
       "      <th>MasVnrType</th>\n",
       "      <th>Electrical</th>\n",
       "    </tr>\n",
       "  </thead>\n",
       "  <tbody>\n",
       "    <tr>\n",
       "      <th>0</th>\n",
       "      <td>65.0</td>\n",
       "      <td>1.0</td>\n",
       "      <td>2.0</td>\n",
       "      <td>Attchd</td>\n",
       "      <td>2.0</td>\n",
       "      <td>0.0</td>\n",
       "      <td>1.0</td>\n",
       "      <td>2.0</td>\n",
       "      <td>2.0</td>\n",
       "      <td>5.0</td>\n",
       "      <td>196.0</td>\n",
       "      <td>2.0</td>\n",
       "      <td>SBrkr</td>\n",
       "    </tr>\n",
       "    <tr>\n",
       "      <th>1</th>\n",
       "      <td>80.0</td>\n",
       "      <td>1.0</td>\n",
       "      <td>2.0</td>\n",
       "      <td>Attchd</td>\n",
       "      <td>2.0</td>\n",
       "      <td>3.0</td>\n",
       "      <td>1.0</td>\n",
       "      <td>2.0</td>\n",
       "      <td>2.0</td>\n",
       "      <td>4.0</td>\n",
       "      <td>0.0</td>\n",
       "      <td>0.0</td>\n",
       "      <td>SBrkr</td>\n",
       "    </tr>\n",
       "    <tr>\n",
       "      <th>2</th>\n",
       "      <td>68.0</td>\n",
       "      <td>1.0</td>\n",
       "      <td>2.0</td>\n",
       "      <td>Attchd</td>\n",
       "      <td>2.0</td>\n",
       "      <td>1.0</td>\n",
       "      <td>1.0</td>\n",
       "      <td>2.0</td>\n",
       "      <td>2.0</td>\n",
       "      <td>5.0</td>\n",
       "      <td>162.0</td>\n",
       "      <td>2.0</td>\n",
       "      <td>SBrkr</td>\n",
       "    </tr>\n",
       "    <tr>\n",
       "      <th>3</th>\n",
       "      <td>60.0</td>\n",
       "      <td>0.0</td>\n",
       "      <td>2.0</td>\n",
       "      <td>Detchd</td>\n",
       "      <td>2.0</td>\n",
       "      <td>0.0</td>\n",
       "      <td>1.0</td>\n",
       "      <td>3.0</td>\n",
       "      <td>1.0</td>\n",
       "      <td>4.0</td>\n",
       "      <td>0.0</td>\n",
       "      <td>0.0</td>\n",
       "      <td>SBrkr</td>\n",
       "    </tr>\n",
       "    <tr>\n",
       "      <th>4</th>\n",
       "      <td>84.0</td>\n",
       "      <td>1.0</td>\n",
       "      <td>2.0</td>\n",
       "      <td>Attchd</td>\n",
       "      <td>2.0</td>\n",
       "      <td>2.0</td>\n",
       "      <td>1.0</td>\n",
       "      <td>2.0</td>\n",
       "      <td>2.0</td>\n",
       "      <td>5.0</td>\n",
       "      <td>350.0</td>\n",
       "      <td>2.0</td>\n",
       "      <td>SBrkr</td>\n",
       "    </tr>\n",
       "  </tbody>\n",
       "</table>\n",
       "</div>"
      ],
      "text/plain": [
       "   LotFrontage  GarageFinish  GarageCond GarageType  GarageQual  BsmtExposure  \\\n",
       "0         65.0           1.0         2.0     Attchd         2.0           0.0   \n",
       "1         80.0           1.0         2.0     Attchd         2.0           3.0   \n",
       "2         68.0           1.0         2.0     Attchd         2.0           1.0   \n",
       "3         60.0           0.0         2.0     Detchd         2.0           0.0   \n",
       "4         84.0           1.0         2.0     Attchd         2.0           2.0   \n",
       "\n",
       "   BsmtFinType2  BsmtCond  BsmtQual  BsmtFinType1  MasVnrArea  MasVnrType  \\\n",
       "0           1.0       2.0       2.0           5.0       196.0         2.0   \n",
       "1           1.0       2.0       2.0           4.0         0.0         0.0   \n",
       "2           1.0       2.0       2.0           5.0       162.0         2.0   \n",
       "3           1.0       3.0       1.0           4.0         0.0         0.0   \n",
       "4           1.0       2.0       2.0           5.0       350.0         2.0   \n",
       "\n",
       "  Electrical  \n",
       "0      SBrkr  \n",
       "1      SBrkr  \n",
       "2      SBrkr  \n",
       "3      SBrkr  \n",
       "4      SBrkr  "
      ]
     },
     "execution_count": 20,
     "metadata": {},
     "output_type": "execute_result"
    }
   ],
   "source": [
    "df_cp.head()"
   ]
  },
  {
   "cell_type": "code",
   "execution_count": 21,
   "metadata": {
    "colab": {
     "base_uri": "https://localhost:8080/",
     "height": 197
    },
    "executionInfo": {
     "elapsed": 900,
     "status": "ok",
     "timestamp": 1599715775824,
     "user": {
      "displayName": "Math Hack",
      "photoUrl": "https://lh3.googleusercontent.com/a-/AOh14GjOrJzQ2xAgyHRSCzQ3qBInmHzMPfMtIJGxB4HG=s64",
      "userId": "13730440483455885359"
     },
     "user_tz": -180
    },
    "id": "hmHpiI-lZ5i6",
    "outputId": "8d94ab7a-695e-44d3-d3a9-68dbb6b35696"
   },
   "outputs": [
    {
     "data": {
      "text/html": [
       "<div>\n",
       "<style scoped>\n",
       "    .dataframe tbody tr th:only-of-type {\n",
       "        vertical-align: middle;\n",
       "    }\n",
       "\n",
       "    .dataframe tbody tr th {\n",
       "        vertical-align: top;\n",
       "    }\n",
       "\n",
       "    .dataframe thead th {\n",
       "        text-align: right;\n",
       "    }\n",
       "</style>\n",
       "<table border=\"1\" class=\"dataframe\">\n",
       "  <thead>\n",
       "    <tr style=\"text-align: right;\">\n",
       "      <th></th>\n",
       "      <th>LotFrontage</th>\n",
       "      <th>GarageFinish</th>\n",
       "      <th>GarageCond</th>\n",
       "      <th>GarageType</th>\n",
       "      <th>GarageQual</th>\n",
       "      <th>BsmtExposure</th>\n",
       "      <th>BsmtFinType2</th>\n",
       "      <th>BsmtCond</th>\n",
       "      <th>BsmtQual</th>\n",
       "      <th>BsmtFinType1</th>\n",
       "      <th>MasVnrArea</th>\n",
       "      <th>MasVnrType</th>\n",
       "      <th>Electrical</th>\n",
       "    </tr>\n",
       "  </thead>\n",
       "  <tbody>\n",
       "    <tr>\n",
       "      <th>7</th>\n",
       "      <td>NaN</td>\n",
       "      <td>1.0</td>\n",
       "      <td>2.0</td>\n",
       "      <td>Attchd</td>\n",
       "      <td>2.0</td>\n",
       "      <td>1.0</td>\n",
       "      <td>3.0</td>\n",
       "      <td>2.0</td>\n",
       "      <td>2.0</td>\n",
       "      <td>4.0</td>\n",
       "      <td>240.0</td>\n",
       "      <td>3.0</td>\n",
       "      <td>SBrkr</td>\n",
       "    </tr>\n",
       "    <tr>\n",
       "      <th>12</th>\n",
       "      <td>NaN</td>\n",
       "      <td>0.0</td>\n",
       "      <td>2.0</td>\n",
       "      <td>Detchd</td>\n",
       "      <td>2.0</td>\n",
       "      <td>0.0</td>\n",
       "      <td>1.0</td>\n",
       "      <td>2.0</td>\n",
       "      <td>1.0</td>\n",
       "      <td>4.0</td>\n",
       "      <td>0.0</td>\n",
       "      <td>0.0</td>\n",
       "      <td>SBrkr</td>\n",
       "    </tr>\n",
       "    <tr>\n",
       "      <th>14</th>\n",
       "      <td>NaN</td>\n",
       "      <td>1.0</td>\n",
       "      <td>2.0</td>\n",
       "      <td>Attchd</td>\n",
       "      <td>2.0</td>\n",
       "      <td>0.0</td>\n",
       "      <td>1.0</td>\n",
       "      <td>2.0</td>\n",
       "      <td>1.0</td>\n",
       "      <td>3.0</td>\n",
       "      <td>212.0</td>\n",
       "      <td>2.0</td>\n",
       "      <td>SBrkr</td>\n",
       "    </tr>\n",
       "    <tr>\n",
       "      <th>16</th>\n",
       "      <td>NaN</td>\n",
       "      <td>2.0</td>\n",
       "      <td>2.0</td>\n",
       "      <td>Attchd</td>\n",
       "      <td>2.0</td>\n",
       "      <td>0.0</td>\n",
       "      <td>1.0</td>\n",
       "      <td>2.0</td>\n",
       "      <td>1.0</td>\n",
       "      <td>4.0</td>\n",
       "      <td>180.0</td>\n",
       "      <td>2.0</td>\n",
       "      <td>SBrkr</td>\n",
       "    </tr>\n",
       "    <tr>\n",
       "      <th>17</th>\n",
       "      <td>72.0</td>\n",
       "      <td>0.0</td>\n",
       "      <td>2.0</td>\n",
       "      <td>CarPort</td>\n",
       "      <td>2.0</td>\n",
       "      <td>NaN</td>\n",
       "      <td>NaN</td>\n",
       "      <td>NaN</td>\n",
       "      <td>NaN</td>\n",
       "      <td>NaN</td>\n",
       "      <td>0.0</td>\n",
       "      <td>0.0</td>\n",
       "      <td>SBrkr</td>\n",
       "    </tr>\n",
       "  </tbody>\n",
       "</table>\n",
       "</div>"
      ],
      "text/plain": [
       "    LotFrontage  GarageFinish  GarageCond GarageType  GarageQual  \\\n",
       "7           NaN           1.0         2.0     Attchd         2.0   \n",
       "12          NaN           0.0         2.0     Detchd         2.0   \n",
       "14          NaN           1.0         2.0     Attchd         2.0   \n",
       "16          NaN           2.0         2.0     Attchd         2.0   \n",
       "17         72.0           0.0         2.0    CarPort         2.0   \n",
       "\n",
       "    BsmtExposure  BsmtFinType2  BsmtCond  BsmtQual  BsmtFinType1  MasVnrArea  \\\n",
       "7            1.0           3.0       2.0       2.0           4.0       240.0   \n",
       "12           0.0           1.0       2.0       1.0           4.0         0.0   \n",
       "14           0.0           1.0       2.0       1.0           3.0       212.0   \n",
       "16           0.0           1.0       2.0       1.0           4.0       180.0   \n",
       "17           NaN           NaN       NaN       NaN           NaN         0.0   \n",
       "\n",
       "    MasVnrType Electrical  \n",
       "7          3.0      SBrkr  \n",
       "12         0.0      SBrkr  \n",
       "14         2.0      SBrkr  \n",
       "16         2.0      SBrkr  \n",
       "17         0.0      SBrkr  "
      ]
     },
     "execution_count": 21,
     "metadata": {},
     "output_type": "execute_result"
    }
   ],
   "source": [
    "df_cp[df_cp.isnull().any(axis=1)].head()"
   ]
  },
  {
   "cell_type": "code",
   "execution_count": 22,
   "metadata": {
    "colab": {
     "base_uri": "https://localhost:8080/",
     "height": 77
    },
    "executionInfo": {
     "elapsed": 1035,
     "status": "ok",
     "timestamp": 1599715796613,
     "user": {
      "displayName": "Math Hack",
      "photoUrl": "https://lh3.googleusercontent.com/a-/AOh14GjOrJzQ2xAgyHRSCzQ3qBInmHzMPfMtIJGxB4HG=s64",
      "userId": "13730440483455885359"
     },
     "user_tz": -180
    },
    "id": "htIHqlDClgMw",
    "outputId": "83c73f93-eca3-4044-9baf-3ba0ae69680d"
   },
   "outputs": [
    {
     "data": {
      "text/html": [
       "<div>\n",
       "<style scoped>\n",
       "    .dataframe tbody tr th:only-of-type {\n",
       "        vertical-align: middle;\n",
       "    }\n",
       "\n",
       "    .dataframe tbody tr th {\n",
       "        vertical-align: top;\n",
       "    }\n",
       "\n",
       "    .dataframe thead th {\n",
       "        text-align: right;\n",
       "    }\n",
       "</style>\n",
       "<table border=\"1\" class=\"dataframe\">\n",
       "  <thead>\n",
       "    <tr style=\"text-align: right;\">\n",
       "      <th></th>\n",
       "      <th>LotFrontage</th>\n",
       "    </tr>\n",
       "  </thead>\n",
       "  <tbody>\n",
       "    <tr>\n",
       "      <th>0</th>\n",
       "      <td>60.0</td>\n",
       "    </tr>\n",
       "  </tbody>\n",
       "</table>\n",
       "</div>"
      ],
      "text/plain": [
       "   LotFrontage\n",
       "0         60.0"
      ]
     },
     "execution_count": 22,
     "metadata": {},
     "output_type": "execute_result"
    }
   ],
   "source": [
    "df_cp[[\"LotFrontage\"]].mode() #.agg([\"min\", \"max\", \"mode\"]).T"
   ]
  },
  {
   "cell_type": "code",
   "execution_count": 23,
   "metadata": {
    "id": "jATYfgHO3vfI"
   },
   "outputs": [],
   "source": [
    "from sklearn.impute import SimpleImputer\n",
    "\n",
    "imput= SimpleImputer(strategy=\"most_frequent\")\n",
    "df_cp[df_cp.columns]= imput.fit_transform(df_cp)"
   ]
  },
  {
   "cell_type": "code",
   "execution_count": 24,
   "metadata": {
    "colab": {
     "base_uri": "https://localhost:8080/",
     "height": 317
    },
    "executionInfo": {
     "elapsed": 944,
     "status": "ok",
     "timestamp": 1599715816073,
     "user": {
      "displayName": "Math Hack",
      "photoUrl": "https://lh3.googleusercontent.com/a-/AOh14GjOrJzQ2xAgyHRSCzQ3qBInmHzMPfMtIJGxB4HG=s64",
      "userId": "13730440483455885359"
     },
     "user_tz": -180
    },
    "id": "z_ulpJth3vig",
    "outputId": "7fba0bd4-a8f2-48e9-8ef0-18789215a202"
   },
   "outputs": [
    {
     "data": {
      "text/html": [
       "<div>\n",
       "<style scoped>\n",
       "    .dataframe tbody tr th:only-of-type {\n",
       "        vertical-align: middle;\n",
       "    }\n",
       "\n",
       "    .dataframe tbody tr th {\n",
       "        vertical-align: top;\n",
       "    }\n",
       "\n",
       "    .dataframe thead th {\n",
       "        text-align: right;\n",
       "    }\n",
       "</style>\n",
       "<table border=\"1\" class=\"dataframe\">\n",
       "  <thead>\n",
       "    <tr style=\"text-align: right;\">\n",
       "      <th></th>\n",
       "      <th>LotFrontage</th>\n",
       "      <th>GarageFinish</th>\n",
       "      <th>GarageCond</th>\n",
       "      <th>GarageType</th>\n",
       "      <th>GarageQual</th>\n",
       "      <th>BsmtExposure</th>\n",
       "      <th>BsmtFinType2</th>\n",
       "      <th>BsmtCond</th>\n",
       "      <th>BsmtQual</th>\n",
       "      <th>BsmtFinType1</th>\n",
       "      <th>MasVnrArea</th>\n",
       "      <th>MasVnrType</th>\n",
       "      <th>Electrical</th>\n",
       "    </tr>\n",
       "  </thead>\n",
       "  <tbody>\n",
       "    <tr>\n",
       "      <th>7</th>\n",
       "      <td>60.0</td>\n",
       "      <td>1.0</td>\n",
       "      <td>2.0</td>\n",
       "      <td>Attchd</td>\n",
       "      <td>2.0</td>\n",
       "      <td>1.0</td>\n",
       "      <td>3.0</td>\n",
       "      <td>2.0</td>\n",
       "      <td>2.0</td>\n",
       "      <td>4.0</td>\n",
       "      <td>240.0</td>\n",
       "      <td>3.0</td>\n",
       "      <td>SBrkr</td>\n",
       "    </tr>\n",
       "    <tr>\n",
       "      <th>8</th>\n",
       "      <td>51.0</td>\n",
       "      <td>0.0</td>\n",
       "      <td>2.0</td>\n",
       "      <td>Detchd</td>\n",
       "      <td>1.0</td>\n",
       "      <td>0.0</td>\n",
       "      <td>1.0</td>\n",
       "      <td>2.0</td>\n",
       "      <td>1.0</td>\n",
       "      <td>0.0</td>\n",
       "      <td>0.0</td>\n",
       "      <td>0.0</td>\n",
       "      <td>FuseF</td>\n",
       "    </tr>\n",
       "    <tr>\n",
       "      <th>9</th>\n",
       "      <td>50.0</td>\n",
       "      <td>1.0</td>\n",
       "      <td>2.0</td>\n",
       "      <td>Attchd</td>\n",
       "      <td>3.0</td>\n",
       "      <td>0.0</td>\n",
       "      <td>1.0</td>\n",
       "      <td>2.0</td>\n",
       "      <td>1.0</td>\n",
       "      <td>5.0</td>\n",
       "      <td>0.0</td>\n",
       "      <td>0.0</td>\n",
       "      <td>SBrkr</td>\n",
       "    </tr>\n",
       "    <tr>\n",
       "      <th>10</th>\n",
       "      <td>70.0</td>\n",
       "      <td>0.0</td>\n",
       "      <td>2.0</td>\n",
       "      <td>Detchd</td>\n",
       "      <td>2.0</td>\n",
       "      <td>0.0</td>\n",
       "      <td>1.0</td>\n",
       "      <td>2.0</td>\n",
       "      <td>1.0</td>\n",
       "      <td>2.0</td>\n",
       "      <td>0.0</td>\n",
       "      <td>0.0</td>\n",
       "      <td>SBrkr</td>\n",
       "    </tr>\n",
       "    <tr>\n",
       "      <th>11</th>\n",
       "      <td>85.0</td>\n",
       "      <td>2.0</td>\n",
       "      <td>2.0</td>\n",
       "      <td>BuiltIn</td>\n",
       "      <td>2.0</td>\n",
       "      <td>0.0</td>\n",
       "      <td>1.0</td>\n",
       "      <td>2.0</td>\n",
       "      <td>3.0</td>\n",
       "      <td>5.0</td>\n",
       "      <td>286.0</td>\n",
       "      <td>3.0</td>\n",
       "      <td>SBrkr</td>\n",
       "    </tr>\n",
       "    <tr>\n",
       "      <th>12</th>\n",
       "      <td>60.0</td>\n",
       "      <td>0.0</td>\n",
       "      <td>2.0</td>\n",
       "      <td>Detchd</td>\n",
       "      <td>2.0</td>\n",
       "      <td>0.0</td>\n",
       "      <td>1.0</td>\n",
       "      <td>2.0</td>\n",
       "      <td>1.0</td>\n",
       "      <td>4.0</td>\n",
       "      <td>0.0</td>\n",
       "      <td>0.0</td>\n",
       "      <td>SBrkr</td>\n",
       "    </tr>\n",
       "    <tr>\n",
       "      <th>13</th>\n",
       "      <td>91.0</td>\n",
       "      <td>1.0</td>\n",
       "      <td>2.0</td>\n",
       "      <td>Attchd</td>\n",
       "      <td>2.0</td>\n",
       "      <td>2.0</td>\n",
       "      <td>1.0</td>\n",
       "      <td>2.0</td>\n",
       "      <td>2.0</td>\n",
       "      <td>0.0</td>\n",
       "      <td>306.0</td>\n",
       "      <td>3.0</td>\n",
       "      <td>SBrkr</td>\n",
       "    </tr>\n",
       "    <tr>\n",
       "      <th>14</th>\n",
       "      <td>60.0</td>\n",
       "      <td>1.0</td>\n",
       "      <td>2.0</td>\n",
       "      <td>Attchd</td>\n",
       "      <td>2.0</td>\n",
       "      <td>0.0</td>\n",
       "      <td>1.0</td>\n",
       "      <td>2.0</td>\n",
       "      <td>1.0</td>\n",
       "      <td>3.0</td>\n",
       "      <td>212.0</td>\n",
       "      <td>2.0</td>\n",
       "      <td>SBrkr</td>\n",
       "    </tr>\n",
       "    <tr>\n",
       "      <th>15</th>\n",
       "      <td>51.0</td>\n",
       "      <td>0.0</td>\n",
       "      <td>2.0</td>\n",
       "      <td>Detchd</td>\n",
       "      <td>2.0</td>\n",
       "      <td>0.0</td>\n",
       "      <td>1.0</td>\n",
       "      <td>2.0</td>\n",
       "      <td>1.0</td>\n",
       "      <td>0.0</td>\n",
       "      <td>0.0</td>\n",
       "      <td>0.0</td>\n",
       "      <td>FuseA</td>\n",
       "    </tr>\n",
       "  </tbody>\n",
       "</table>\n",
       "</div>"
      ],
      "text/plain": [
       "   LotFrontage GarageFinish GarageCond GarageType GarageQual BsmtExposure  \\\n",
       "7         60.0          1.0        2.0     Attchd        2.0          1.0   \n",
       "8         51.0          0.0        2.0     Detchd        1.0          0.0   \n",
       "9         50.0          1.0        2.0     Attchd        3.0          0.0   \n",
       "10        70.0          0.0        2.0     Detchd        2.0          0.0   \n",
       "11        85.0          2.0        2.0    BuiltIn        2.0          0.0   \n",
       "12        60.0          0.0        2.0     Detchd        2.0          0.0   \n",
       "13        91.0          1.0        2.0     Attchd        2.0          2.0   \n",
       "14        60.0          1.0        2.0     Attchd        2.0          0.0   \n",
       "15        51.0          0.0        2.0     Detchd        2.0          0.0   \n",
       "\n",
       "   BsmtFinType2 BsmtCond BsmtQual BsmtFinType1 MasVnrArea MasVnrType  \\\n",
       "7           3.0      2.0      2.0          4.0      240.0        3.0   \n",
       "8           1.0      2.0      1.0          0.0        0.0        0.0   \n",
       "9           1.0      2.0      1.0          5.0        0.0        0.0   \n",
       "10          1.0      2.0      1.0          2.0        0.0        0.0   \n",
       "11          1.0      2.0      3.0          5.0      286.0        3.0   \n",
       "12          1.0      2.0      1.0          4.0        0.0        0.0   \n",
       "13          1.0      2.0      2.0          0.0      306.0        3.0   \n",
       "14          1.0      2.0      1.0          3.0      212.0        2.0   \n",
       "15          1.0      2.0      1.0          0.0        0.0        0.0   \n",
       "\n",
       "   Electrical  \n",
       "7       SBrkr  \n",
       "8       FuseF  \n",
       "9       SBrkr  \n",
       "10      SBrkr  \n",
       "11      SBrkr  \n",
       "12      SBrkr  \n",
       "13      SBrkr  \n",
       "14      SBrkr  \n",
       "15      FuseA  "
      ]
     },
     "execution_count": 24,
     "metadata": {},
     "output_type": "execute_result"
    }
   ],
   "source": [
    "df_cp[7:16]\n"
   ]
  },
  {
   "cell_type": "code",
   "execution_count": null,
   "metadata": {
    "id": "FJJNXxQD6bC6"
   },
   "outputs": [],
   "source": [
    "# we are not saving teh dataset resulted from the imputation because we are going to do it i nanother way later"
   ]
  },
  {
   "cell_type": "code",
   "execution_count": null,
   "metadata": {
    "id": "gRI_1rBwnchf"
   },
   "outputs": [],
   "source": []
  },
  {
   "cell_type": "code",
   "execution_count": null,
   "metadata": {
    "id": "Mk9oHHb8nckn"
   },
   "outputs": [],
   "source": []
  }
 ],
 "metadata": {
  "colab": {
   "authorship_tag": "ABX9TyM6T0O9f/UOpM9u/J8/eP4Z",
   "collapsed_sections": [],
   "mount_file_id": "1vgE16g145SW7lfPUm9eTGxzPPM_ZT-7Q",
   "name": "17_features_imputations.ipynb",
   "provenance": [
    {
     "file_id": "1mXN-av02Lhsj7xRP7GKNYF-nOVhpJhu1",
     "timestamp": 1598436608606
    },
    {
     "file_id": "1teTI-L4EgoTZa_16ufba0gqEdfUsrfJ6",
     "timestamp": 1598247331784
    },
    {
     "file_id": "11zUDQWrdMgwXh8Iv-qW0PvX0G4jyMW-I",
     "timestamp": 1597828052893
    },
    {
     "file_id": "1-6JcJIMq3KaxTGXiqCV3SV4AYx6kHuEf",
     "timestamp": 1597822077593
    }
   ]
  },
  "kernelspec": {
   "display_name": "Python 3",
   "name": "python3"
  },
  "language_info": {
   "codemirror_mode": {
    "name": "ipython",
    "version": 3
   },
   "file_extension": ".py",
   "mimetype": "text/x-python",
   "name": "python",
   "nbconvert_exporter": "python",
   "pygments_lexer": "ipython3",
   "version": "3.12.1"
  }
 },
 "nbformat": 4,
 "nbformat_minor": 0
}
