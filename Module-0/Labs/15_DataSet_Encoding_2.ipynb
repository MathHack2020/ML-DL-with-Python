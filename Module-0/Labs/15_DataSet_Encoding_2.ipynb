{
 "cells": [
  {
   "cell_type": "code",
   "execution_count": null,
   "metadata": {
    "id": "9xSaS9QBoDzq"
   },
   "outputs": [],
   "source": []
  },
  {
   "cell_type": "markdown",
   "metadata": {
    "id": "uR_3TLALIpvO"
   },
   "source": [
    "| |<font size=\"5\">Data Encoding ترميز البيانات </font>|\n",
    "|-:|-:|\n",
    "|<img src=\"https://www.genome.gov/sites/default/files/media/images/2019-03/2.4.8.6.6.4_ENCODE.jpg\" width=400></img>||\n",
    "||<font size=\"4\"> تحميل البيانات </font>| \n",
    "||<font size=\"4\">  تنويع استراتيجيات ترميز البيانات الترتيبية</font>| \n"
   ]
  },
  {
   "cell_type": "code",
   "execution_count": null,
   "metadata": {
    "id": "kfVkadx8oDrh"
   },
   "outputs": [],
   "source": []
  },
  {
   "cell_type": "markdown",
   "metadata": {
    "id": "NVNaTlNJ-zxb"
   },
   "source": [
    "- ترميز البينات بالطريقة التي تعرضنا اليها سابقا  افرزت علاقة تفاضلية فيما بين البيانات\n"
   ]
  },
  {
   "cell_type": "code",
   "execution_count": 1,
   "metadata": {
    "colab": {
     "base_uri": "https://localhost:8080/",
     "height": 253
    },
    "executionInfo": {
     "elapsed": 1302,
     "status": "ok",
     "timestamp": 1601404896354,
     "user": {
      "displayName": "Math Hack",
      "photoUrl": "https://lh3.googleusercontent.com/a-/AOh14GjOrJzQ2xAgyHRSCzQ3qBInmHzMPfMtIJGxB4HG=s64",
      "userId": "13730440483455885359"
     },
     "user_tz": -180
    },
    "id": "uC_c48ol0f4r",
    "outputId": "e0f23a3a-86dc-4591-a354-e30a76a81624"
   },
   "outputs": [
    {
     "data": {
      "text/html": [
       "<div>\n",
       "<style scoped>\n",
       "    .dataframe tbody tr th:only-of-type {\n",
       "        vertical-align: middle;\n",
       "    }\n",
       "\n",
       "    .dataframe tbody tr th {\n",
       "        vertical-align: top;\n",
       "    }\n",
       "\n",
       "    .dataframe thead th {\n",
       "        text-align: right;\n",
       "    }\n",
       "</style>\n",
       "<table border=\"1\" class=\"dataframe\">\n",
       "  <thead>\n",
       "    <tr style=\"text-align: right;\">\n",
       "      <th></th>\n",
       "      <th>MSSubClass</th>\n",
       "      <th>MSZoning</th>\n",
       "      <th>LotFrontage</th>\n",
       "      <th>LotArea</th>\n",
       "      <th>Street</th>\n",
       "      <th>Alley</th>\n",
       "      <th>LotShape</th>\n",
       "      <th>LandContour</th>\n",
       "      <th>Utilities</th>\n",
       "      <th>LotConfig</th>\n",
       "      <th>...</th>\n",
       "      <th>MiscVal</th>\n",
       "      <th>YrSold</th>\n",
       "      <th>SaleType</th>\n",
       "      <th>SaleCondition</th>\n",
       "      <th>SalePrice</th>\n",
       "      <th>TotalSF</th>\n",
       "      <th>TotalPorchSF</th>\n",
       "      <th>TotalBath</th>\n",
       "      <th>SnMoSold</th>\n",
       "      <th>CsMoSold</th>\n",
       "    </tr>\n",
       "  </thead>\n",
       "  <tbody>\n",
       "    <tr>\n",
       "      <th>0</th>\n",
       "      <td>60</td>\n",
       "      <td>RL</td>\n",
       "      <td>65.0</td>\n",
       "      <td>8450</td>\n",
       "      <td>Pave</td>\n",
       "      <td>NaN</td>\n",
       "      <td>Reg</td>\n",
       "      <td>Lvl</td>\n",
       "      <td>AllPub</td>\n",
       "      <td>Inside</td>\n",
       "      <td>...</td>\n",
       "      <td>0</td>\n",
       "      <td>2008</td>\n",
       "      <td>WD</td>\n",
       "      <td>Normal</td>\n",
       "      <td>208500</td>\n",
       "      <td>2566</td>\n",
       "      <td>61</td>\n",
       "      <td>3.5</td>\n",
       "      <td>8.660254e-01</td>\n",
       "      <td>5.000000e-01</td>\n",
       "    </tr>\n",
       "    <tr>\n",
       "      <th>1</th>\n",
       "      <td>20</td>\n",
       "      <td>RL</td>\n",
       "      <td>80.0</td>\n",
       "      <td>9600</td>\n",
       "      <td>Pave</td>\n",
       "      <td>NaN</td>\n",
       "      <td>Reg</td>\n",
       "      <td>Lvl</td>\n",
       "      <td>AllPub</td>\n",
       "      <td>FR2</td>\n",
       "      <td>...</td>\n",
       "      <td>0</td>\n",
       "      <td>2007</td>\n",
       "      <td>WD</td>\n",
       "      <td>Normal</td>\n",
       "      <td>181500</td>\n",
       "      <td>2524</td>\n",
       "      <td>0</td>\n",
       "      <td>2.5</td>\n",
       "      <td>5.000000e-01</td>\n",
       "      <td>-8.660254e-01</td>\n",
       "    </tr>\n",
       "    <tr>\n",
       "      <th>2</th>\n",
       "      <td>60</td>\n",
       "      <td>RL</td>\n",
       "      <td>68.0</td>\n",
       "      <td>11250</td>\n",
       "      <td>Pave</td>\n",
       "      <td>NaN</td>\n",
       "      <td>IR1</td>\n",
       "      <td>Lvl</td>\n",
       "      <td>AllPub</td>\n",
       "      <td>Inside</td>\n",
       "      <td>...</td>\n",
       "      <td>0</td>\n",
       "      <td>2008</td>\n",
       "      <td>WD</td>\n",
       "      <td>Normal</td>\n",
       "      <td>223500</td>\n",
       "      <td>2706</td>\n",
       "      <td>42</td>\n",
       "      <td>3.5</td>\n",
       "      <td>-1.000000e+00</td>\n",
       "      <td>-1.836970e-16</td>\n",
       "    </tr>\n",
       "    <tr>\n",
       "      <th>3</th>\n",
       "      <td>70</td>\n",
       "      <td>RL</td>\n",
       "      <td>60.0</td>\n",
       "      <td>9550</td>\n",
       "      <td>Pave</td>\n",
       "      <td>NaN</td>\n",
       "      <td>IR1</td>\n",
       "      <td>Lvl</td>\n",
       "      <td>AllPub</td>\n",
       "      <td>Corner</td>\n",
       "      <td>...</td>\n",
       "      <td>0</td>\n",
       "      <td>2006</td>\n",
       "      <td>WD</td>\n",
       "      <td>Abnorml</td>\n",
       "      <td>140000</td>\n",
       "      <td>2473</td>\n",
       "      <td>307</td>\n",
       "      <td>2.0</td>\n",
       "      <td>8.660254e-01</td>\n",
       "      <td>5.000000e-01</td>\n",
       "    </tr>\n",
       "    <tr>\n",
       "      <th>4</th>\n",
       "      <td>60</td>\n",
       "      <td>RL</td>\n",
       "      <td>84.0</td>\n",
       "      <td>14260</td>\n",
       "      <td>Pave</td>\n",
       "      <td>NaN</td>\n",
       "      <td>IR1</td>\n",
       "      <td>Lvl</td>\n",
       "      <td>AllPub</td>\n",
       "      <td>FR2</td>\n",
       "      <td>...</td>\n",
       "      <td>0</td>\n",
       "      <td>2008</td>\n",
       "      <td>WD</td>\n",
       "      <td>Normal</td>\n",
       "      <td>250000</td>\n",
       "      <td>3343</td>\n",
       "      <td>84</td>\n",
       "      <td>3.5</td>\n",
       "      <td>-2.449294e-16</td>\n",
       "      <td>1.000000e+00</td>\n",
       "    </tr>\n",
       "  </tbody>\n",
       "</table>\n",
       "<p>5 rows × 72 columns</p>\n",
       "</div>"
      ],
      "text/plain": [
       "   MSSubClass MSZoning  LotFrontage  LotArea Street Alley LotShape  \\\n",
       "0          60       RL         65.0     8450   Pave   NaN      Reg   \n",
       "1          20       RL         80.0     9600   Pave   NaN      Reg   \n",
       "2          60       RL         68.0    11250   Pave   NaN      IR1   \n",
       "3          70       RL         60.0     9550   Pave   NaN      IR1   \n",
       "4          60       RL         84.0    14260   Pave   NaN      IR1   \n",
       "\n",
       "  LandContour Utilities LotConfig  ... MiscVal YrSold SaleType SaleCondition  \\\n",
       "0         Lvl    AllPub    Inside  ...       0   2008       WD        Normal   \n",
       "1         Lvl    AllPub       FR2  ...       0   2007       WD        Normal   \n",
       "2         Lvl    AllPub    Inside  ...       0   2008       WD        Normal   \n",
       "3         Lvl    AllPub    Corner  ...       0   2006       WD       Abnorml   \n",
       "4         Lvl    AllPub       FR2  ...       0   2008       WD        Normal   \n",
       "\n",
       "  SalePrice TotalSF  TotalPorchSF  TotalBath      SnMoSold      CsMoSold  \n",
       "0    208500    2566            61        3.5  8.660254e-01  5.000000e-01  \n",
       "1    181500    2524             0        2.5  5.000000e-01 -8.660254e-01  \n",
       "2    223500    2706            42        3.5 -1.000000e+00 -1.836970e-16  \n",
       "3    140000    2473           307        2.0  8.660254e-01  5.000000e-01  \n",
       "4    250000    3343            84        3.5 -2.449294e-16  1.000000e+00  \n",
       "\n",
       "[5 rows x 72 columns]"
      ]
     },
     "execution_count": 1,
     "metadata": {},
     "output_type": "execute_result"
    }
   ],
   "source": [
    "#تحميل البيانات \n",
    "import pandas as pd\n",
    "# read_csv(..., nrows=999999)\n",
    "df= pd.read_csv(\"../data/HousePrice3.csv\", index_col=0)\n",
    "df.head()"
   ]
  },
  {
   "cell_type": "markdown",
   "metadata": {
    "id": "4rraL3wtJOHi"
   },
   "source": [
    "![](https://image.flaticon.com/icons/png/128/3079/3079166.png)"
   ]
  },
  {
   "cell_type": "code",
   "execution_count": 2,
   "metadata": {
    "executionInfo": {
     "elapsed": 1541,
     "status": "ok",
     "timestamp": 1601405859856,
     "user": {
      "displayName": "Math Hack",
      "photoUrl": "https://lh3.googleusercontent.com/a-/AOh14GjOrJzQ2xAgyHRSCzQ3qBInmHzMPfMtIJGxB4HG=s64",
      "userId": "13730440483455885359"
     },
     "user_tz": -180
    },
    "id": "JdmmUCLx359V"
   },
   "outputs": [],
   "source": [
    "# labelEncoder    الترميز \n",
    "from sklearn.preprocessing import LabelEncoder\n",
    "lblEnc=LabelEncoder()\n",
    "df[\"HouseStyle_Enc\"]=lblEnc.fit_transform(df.HouseStyle)\n"
   ]
  },
  {
   "cell_type": "code",
   "execution_count": 3,
   "metadata": {
    "colab": {
     "base_uri": "https://localhost:8080/",
     "height": 138
    },
    "executionInfo": {
     "elapsed": 1902,
     "status": "ok",
     "timestamp": 1601405861994,
     "user": {
      "displayName": "Math Hack",
      "photoUrl": "https://lh3.googleusercontent.com/a-/AOh14GjOrJzQ2xAgyHRSCzQ3qBInmHzMPfMtIJGxB4HG=s64",
      "userId": "13730440483455885359"
     },
     "user_tz": -180
    },
    "id": "MBZTbR_n7DZX",
    "outputId": "78c5736a-a438-4768-9b2d-7df9581d1261"
   },
   "outputs": [
    {
     "data": {
      "text/html": [
       "<div>\n",
       "<style scoped>\n",
       "    .dataframe tbody tr th:only-of-type {\n",
       "        vertical-align: middle;\n",
       "    }\n",
       "\n",
       "    .dataframe tbody tr th {\n",
       "        vertical-align: top;\n",
       "    }\n",
       "\n",
       "    .dataframe thead th {\n",
       "        text-align: right;\n",
       "    }\n",
       "</style>\n",
       "<table border=\"1\" class=\"dataframe\">\n",
       "  <thead>\n",
       "    <tr style=\"text-align: right;\">\n",
       "      <th></th>\n",
       "      <th>HouseStyle_Enc</th>\n",
       "    </tr>\n",
       "  </thead>\n",
       "  <tbody>\n",
       "    <tr>\n",
       "      <th>1236</th>\n",
       "      <td>5</td>\n",
       "    </tr>\n",
       "    <tr>\n",
       "      <th>1117</th>\n",
       "      <td>2</td>\n",
       "    </tr>\n",
       "    <tr>\n",
       "      <th>768</th>\n",
       "      <td>2</td>\n",
       "    </tr>\n",
       "  </tbody>\n",
       "</table>\n",
       "</div>"
      ],
      "text/plain": [
       "      HouseStyle_Enc\n",
       "1236               5\n",
       "1117               2\n",
       "768                2"
      ]
     },
     "execution_count": 3,
     "metadata": {},
     "output_type": "execute_result"
    }
   ],
   "source": [
    "df[[\"HouseStyle_Enc\"]].sample(3)\n",
    "#  لا يمكن الجزم بأن قيمة 3 هي اكبر من 0 إلا إذا تعمدنا ذلك خلال التريمز وإلا فوجب  الحيطة"
   ]
  },
  {
   "cell_type": "code",
   "execution_count": 4,
   "metadata": {
    "colab": {
     "base_uri": "https://localhost:8080/",
     "height": 35
    },
    "executionInfo": {
     "elapsed": 1007,
     "status": "ok",
     "timestamp": 1601405863201,
     "user": {
      "displayName": "Math Hack",
      "photoUrl": "https://lh3.googleusercontent.com/a-/AOh14GjOrJzQ2xAgyHRSCzQ3qBInmHzMPfMtIJGxB4HG=s64",
      "userId": "13730440483455885359"
     },
     "user_tz": -180
    },
    "id": "KWf-TTvg_nnj",
    "outputId": "ca4fe08b-d9e0-459c-bb18-604fd227f934"
   },
   "outputs": [
    {
     "data": {
      "text/plain": [
       "array(['Reg', 'IR1', 'IR2', 'IR3'], dtype=object)"
      ]
     },
     "execution_count": 4,
     "metadata": {},
     "output_type": "execute_result"
    }
   ],
   "source": [
    "df.LotShape.unique()"
   ]
  },
  {
   "cell_type": "code",
   "execution_count": 5,
   "metadata": {
    "colab": {
     "base_uri": "https://localhost:8080/",
     "height": 35
    },
    "executionInfo": {
     "elapsed": 806,
     "status": "ok",
     "timestamp": 1601405863641,
     "user": {
      "displayName": "Math Hack",
      "photoUrl": "https://lh3.googleusercontent.com/a-/AOh14GjOrJzQ2xAgyHRSCzQ3qBInmHzMPfMtIJGxB4HG=s64",
      "userId": "13730440483455885359"
     },
     "user_tz": -180
    },
    "id": "nl6sQKec_nqj",
    "outputId": "57954de2-3150-49bb-d43e-6b25418c1793"
   },
   "outputs": [
    {
     "data": {
      "text/plain": [
       "array([ 7,  6,  8,  5,  9,  4, 10,  3,  1,  2])"
      ]
     },
     "execution_count": 5,
     "metadata": {},
     "output_type": "execute_result"
    }
   ],
   "source": [
    "#OverAllQua فإذا ما قارنا ذلك بالقيم الخاصية \n",
    "# يتضح الفرق بينهما\n",
    "df.OverallQual.unique()"
   ]
  },
  {
   "cell_type": "markdown",
   "metadata": {
    "id": "Z3XqdePXA_Jr"
   },
   "source": [
    " - يتعرض الترميز الجديد إلى تلك الخصائص التي لا تفاضل فيما بين قيم الترميز فيها "
   ]
  },
  {
   "cell_type": "code",
   "execution_count": 6,
   "metadata": {
    "colab": {
     "base_uri": "https://localhost:8080/",
     "height": 199
    },
    "executionInfo": {
     "elapsed": 1105,
     "status": "ok",
     "timestamp": 1601405867901,
     "user": {
      "displayName": "Math Hack",
      "photoUrl": "https://lh3.googleusercontent.com/a-/AOh14GjOrJzQ2xAgyHRSCzQ3qBInmHzMPfMtIJGxB4HG=s64",
      "userId": "13730440483455885359"
     },
     "user_tz": -180
    },
    "id": "-Wc86NO__nuD",
    "outputId": "72a36e4b-ff52-4f25-a2e2-4c6285629ff9"
   },
   "outputs": [
    {
     "data": {
      "text/plain": [
       "Index(['MSZoning', 'Street', 'Alley', 'LotShape', 'LandContour', 'Utilities',\n",
       "       'LotConfig', 'LandSlope', 'Neighborhood', 'Condition1', 'Condition2',\n",
       "       'BldgType', 'HouseStyle', 'RoofStyle', 'RoofMatl', 'Exterior1st',\n",
       "       'Exterior2nd', 'MasVnrType', 'ExterQual', 'ExterCond', 'Foundation',\n",
       "       'BsmtQual', 'BsmtCond', 'BsmtExposure', 'BsmtFinType1', 'BsmtFinType2',\n",
       "       'Heating', 'HeatingQC', 'CentralAir', 'Electrical', 'KitchenQual',\n",
       "       'Functional', 'FireplaceQu', 'GarageType', 'GarageFinish', 'GarageQual',\n",
       "       'GarageCond', 'PavedDrive', 'PoolQC', 'Fence', 'MiscFeature',\n",
       "       'SaleType', 'SaleCondition'],\n",
       "      dtype='object')"
      ]
     },
     "execution_count": 6,
     "metadata": {},
     "output_type": "execute_result"
    }
   ],
   "source": [
    "df.select_dtypes(exclude=\"number\").columns"
   ]
  },
  {
   "cell_type": "code",
   "execution_count": 7,
   "metadata": {
    "colab": {
     "base_uri": "https://localhost:8080/",
     "height": 210
    },
    "executionInfo": {
     "elapsed": 1303,
     "status": "ok",
     "timestamp": 1601405877873,
     "user": {
      "displayName": "Math Hack",
      "photoUrl": "https://lh3.googleusercontent.com/a-/AOh14GjOrJzQ2xAgyHRSCzQ3qBInmHzMPfMtIJGxB4HG=s64",
      "userId": "13730440483455885359"
     },
     "user_tz": -180
    },
    "id": "F7PGQ1njGDCZ",
    "outputId": "f7910ed1-4786-4dbb-a343-5ad4027afeb7"
   },
   "outputs": [
    {
     "data": {
      "text/html": [
       "<div>\n",
       "<style scoped>\n",
       "    .dataframe tbody tr th:only-of-type {\n",
       "        vertical-align: middle;\n",
       "    }\n",
       "\n",
       "    .dataframe tbody tr th {\n",
       "        vertical-align: top;\n",
       "    }\n",
       "\n",
       "    .dataframe thead th {\n",
       "        text-align: right;\n",
       "    }\n",
       "</style>\n",
       "<table border=\"1\" class=\"dataframe\">\n",
       "  <thead>\n",
       "    <tr style=\"text-align: right;\">\n",
       "      <th></th>\n",
       "      <th>MSSubClass</th>\n",
       "      <th>MSZoning</th>\n",
       "      <th>LotFrontage</th>\n",
       "      <th>LotArea</th>\n",
       "      <th>Street</th>\n",
       "      <th>Alley</th>\n",
       "      <th>LotShape</th>\n",
       "      <th>LandContour</th>\n",
       "      <th>Utilities</th>\n",
       "      <th>LotConfig</th>\n",
       "      <th>...</th>\n",
       "      <th>YrSold</th>\n",
       "      <th>SaleType</th>\n",
       "      <th>SaleCondition</th>\n",
       "      <th>SalePrice</th>\n",
       "      <th>TotalSF</th>\n",
       "      <th>TotalPorchSF</th>\n",
       "      <th>TotalBath</th>\n",
       "      <th>SnMoSold</th>\n",
       "      <th>CsMoSold</th>\n",
       "      <th>HouseStyle_Enc</th>\n",
       "    </tr>\n",
       "  </thead>\n",
       "  <tbody>\n",
       "    <tr>\n",
       "      <th>861</th>\n",
       "      <td>190</td>\n",
       "      <td>RL</td>\n",
       "      <td>75.0</td>\n",
       "      <td>11625</td>\n",
       "      <td>Pave</td>\n",
       "      <td>NaN</td>\n",
       "      <td>Reg</td>\n",
       "      <td>Lvl</td>\n",
       "      <td>AllPub</td>\n",
       "      <td>Inside</td>\n",
       "      <td>...</td>\n",
       "      <td>2010</td>\n",
       "      <td>WD</td>\n",
       "      <td>Normal</td>\n",
       "      <td>131500</td>\n",
       "      <td>2078</td>\n",
       "      <td>0</td>\n",
       "      <td>2.5</td>\n",
       "      <td>0.866025</td>\n",
       "      <td>-0.500000</td>\n",
       "      <td>2</td>\n",
       "    </tr>\n",
       "    <tr>\n",
       "      <th>1314</th>\n",
       "      <td>20</td>\n",
       "      <td>RL</td>\n",
       "      <td>60.0</td>\n",
       "      <td>8190</td>\n",
       "      <td>Pave</td>\n",
       "      <td>NaN</td>\n",
       "      <td>Reg</td>\n",
       "      <td>Lvl</td>\n",
       "      <td>AllPub</td>\n",
       "      <td>Inside</td>\n",
       "      <td>...</td>\n",
       "      <td>2007</td>\n",
       "      <td>WD</td>\n",
       "      <td>Normal</td>\n",
       "      <td>119000</td>\n",
       "      <td>1896</td>\n",
       "      <td>36</td>\n",
       "      <td>2.0</td>\n",
       "      <td>-0.866025</td>\n",
       "      <td>0.500000</td>\n",
       "      <td>2</td>\n",
       "    </tr>\n",
       "    <tr>\n",
       "      <th>114</th>\n",
       "      <td>70</td>\n",
       "      <td>RL</td>\n",
       "      <td>61.0</td>\n",
       "      <td>7259</td>\n",
       "      <td>Pave</td>\n",
       "      <td>NaN</td>\n",
       "      <td>IR1</td>\n",
       "      <td>Lvl</td>\n",
       "      <td>AllPub</td>\n",
       "      <td>Inside</td>\n",
       "      <td>...</td>\n",
       "      <td>2007</td>\n",
       "      <td>WD</td>\n",
       "      <td>Normal</td>\n",
       "      <td>259500</td>\n",
       "      <td>3348</td>\n",
       "      <td>0</td>\n",
       "      <td>3.5</td>\n",
       "      <td>-0.500000</td>\n",
       "      <td>-0.866025</td>\n",
       "      <td>5</td>\n",
       "    </tr>\n",
       "  </tbody>\n",
       "</table>\n",
       "<p>3 rows × 73 columns</p>\n",
       "</div>"
      ],
      "text/plain": [
       "      MSSubClass MSZoning  LotFrontage  LotArea Street Alley LotShape  \\\n",
       "861          190       RL         75.0    11625   Pave   NaN      Reg   \n",
       "1314          20       RL         60.0     8190   Pave   NaN      Reg   \n",
       "114           70       RL         61.0     7259   Pave   NaN      IR1   \n",
       "\n",
       "     LandContour Utilities LotConfig  ... YrSold SaleType SaleCondition  \\\n",
       "861          Lvl    AllPub    Inside  ...   2010       WD        Normal   \n",
       "1314         Lvl    AllPub    Inside  ...   2007       WD        Normal   \n",
       "114          Lvl    AllPub    Inside  ...   2007       WD        Normal   \n",
       "\n",
       "     SalePrice TotalSF TotalPorchSF  TotalBath  SnMoSold  CsMoSold  \\\n",
       "861     131500    2078            0        2.5  0.866025 -0.500000   \n",
       "1314    119000    1896           36        2.0 -0.866025  0.500000   \n",
       "114     259500    3348            0        3.5 -0.500000 -0.866025   \n",
       "\n",
       "      HouseStyle_Enc  \n",
       "861                2  \n",
       "1314               2  \n",
       "114                5  \n",
       "\n",
       "[3 rows x 73 columns]"
      ]
     },
     "execution_count": 7,
     "metadata": {},
     "output_type": "execute_result"
    }
   ],
   "source": [
    "df.sample(3)"
   ]
  },
  {
   "cell_type": "code",
   "execution_count": 8,
   "metadata": {
    "colab": {
     "base_uri": "https://localhost:8080/",
     "height": 965
    },
    "executionInfo": {
     "elapsed": 1553,
     "status": "ok",
     "timestamp": 1601405900119,
     "user": {
      "displayName": "Math Hack",
      "photoUrl": "https://lh3.googleusercontent.com/a-/AOh14GjOrJzQ2xAgyHRSCzQ3qBInmHzMPfMtIJGxB4HG=s64",
      "userId": "13730440483455885359"
     },
     "user_tz": -180
    },
    "id": "wZcANfjxA9-s",
    "outputId": "70d00aa4-ab65-4c80-f084-5e6e11b67b42"
   },
   "outputs": [
    {
     "name": "stdout",
     "output_type": "stream",
     "text": [
      " MSZoning------------------------------------------ :   ['RL' 'RM' 'C (all)' 'FV' 'RH'] & Mising Values |(0.0) \n",
      " Street-------------------------------------------- :   ['Pave' 'Grvl'] & Mising Values |(0.0) \n",
      " Alley--------------------------------------------- :   [nan 'Grvl' 'Pave'] & Mising Values |(0.937) \n",
      " LotShape------------------------------------------ :   ['Reg' 'IR1' 'IR2' 'IR3'] & Mising Values |(0.0) \n",
      " LandContour--------------------------------------- :   ['Lvl' 'Bnk' 'Low' 'HLS'] & Mising Values |(0.0) \n",
      " Utilities----------------------------------------- :   ['AllPub' 'NoSeWa'] & Mising Values |(0.0) \n",
      " LotConfig----------------------------------------- :   ['Inside' 'FR2' 'Corner' 'CulDSac' 'FR3'] & Mising Values |(0.0) \n",
      " LandSlope----------------------------------------- :   ['Gtl' 'Mod' 'Sev'] & Mising Values |(0.0) \n",
      " Neighborhood-------------------------------------- :   ['CollgCr' 'Veenker' 'Crawfor' 'NoRidge' 'Mitchel' 'Somerst' 'NWAmes'\n",
      " 'OldTown' 'BrkSide' 'Sawyer' 'NridgHt' 'NAmes' 'SawyerW' 'IDOTRR'\n",
      " 'MeadowV' 'Edwards' 'Timber' 'Gilbert' 'StoneBr' 'ClearCr' 'NPkVill'\n",
      " 'Blmngtn' 'BrDale' 'SWISU' 'Blueste'] & Mising Values |(0.0) \n",
      " Condition1---------------------------------------- :   ['Norm' 'Feedr' 'PosN' 'Artery' 'RRAe' 'RRNn' 'RRAn' 'PosA' 'RRNe'] & Mising Values |(0.0) \n",
      " Condition2---------------------------------------- :   ['Norm' 'Artery' 'RRNn' 'Feedr' 'PosN' 'PosA' 'RRAn' 'RRAe'] & Mising Values |(0.0) \n",
      " BldgType------------------------------------------ :   ['1Fam' '2fmCon' 'Duplex' 'TwnhsE' 'Twnhs'] & Mising Values |(0.0) \n",
      " HouseStyle---------------------------------------- :   ['2Story' '1Story' '1.5Fin' '1.5Unf' 'SFoyer' 'SLvl' '2.5Unf' '2.5Fin'] & Mising Values |(0.0) \n",
      " RoofStyle----------------------------------------- :   ['Gable' 'Hip' 'Gambrel' 'Mansard' 'Flat' 'Shed'] & Mising Values |(0.0) \n",
      " RoofMatl------------------------------------------ :   ['CompShg' 'WdShngl' 'Metal' 'WdShake' 'Membran' 'Tar&Grv' 'Roll'] & Mising Values |(0.0) \n",
      " Exterior1st--------------------------------------- :   ['VinylSd' 'MetalSd' 'Wd Sdng' 'HdBoard' 'BrkFace' 'WdShing' 'CemntBd'\n",
      " 'Plywood' 'AsbShng' 'Stucco' 'BrkComm' 'AsphShn' 'Stone' 'ImStucc'\n",
      " 'CBlock'] & Mising Values |(0.0) \n",
      " Exterior2nd--------------------------------------- :   ['VinylSd' 'MetalSd' 'Wd Shng' 'HdBoard' 'Plywood' 'Wd Sdng' 'CmentBd'\n",
      " 'BrkFace' 'Stucco' 'AsbShng' 'Brk Cmn' 'ImStucc' 'AsphShn' 'Stone'\n",
      " 'Other' 'CBlock'] & Mising Values |(0.0) \n",
      " MasVnrType---------------------------------------- :   ['BrkFace' nan 'Stone' 'BrkCmn'] & Mising Values |(0.599) \n",
      " ExterQual----------------------------------------- :   ['Gd' 'TA' 'Ex' 'Fa'] & Mising Values |(0.0) \n",
      " ExterCond----------------------------------------- :   ['TA' 'Gd' 'Fa' 'Po' 'Ex'] & Mising Values |(0.0) \n",
      " Foundation---------------------------------------- :   ['PConc' 'CBlock' 'BrkTil' 'Wood' 'Slab' 'Stone'] & Mising Values |(0.0) \n",
      " BsmtQual------------------------------------------ :   ['Gd' 'TA' 'Ex' nan 'Fa'] & Mising Values |(0.0254) \n",
      " BsmtCond------------------------------------------ :   ['TA' 'Gd' nan 'Fa' 'Po'] & Mising Values |(0.0254) \n",
      " BsmtExposure-------------------------------------- :   ['No' 'Gd' 'Mn' 'Av' nan] & Mising Values |(0.0261) \n",
      " BsmtFinType1-------------------------------------- :   ['GLQ' 'ALQ' 'Unf' 'Rec' 'BLQ' nan 'LwQ'] & Mising Values |(0.0254) \n",
      " BsmtFinType2-------------------------------------- :   ['Unf' 'BLQ' nan 'ALQ' 'Rec' 'LwQ' 'GLQ'] & Mising Values |(0.0261) \n",
      " Heating------------------------------------------- :   ['GasA' 'GasW' 'Grav' 'Wall' 'OthW' 'Floor'] & Mising Values |(0.0) \n",
      " HeatingQC----------------------------------------- :   ['Ex' 'Gd' 'TA' 'Fa' 'Po'] & Mising Values |(0.0) \n",
      " CentralAir---------------------------------------- :   ['Y' 'N'] & Mising Values |(0.0) \n",
      " Electrical---------------------------------------- :   ['SBrkr' 'FuseF' 'FuseA' 'FuseP' 'Mix' nan] & Mising Values |(0.000687) \n",
      " KitchenQual--------------------------------------- :   ['Gd' 'TA' 'Ex' 'Fa'] & Mising Values |(0.0) \n",
      " Functional---------------------------------------- :   ['Typ' 'Min1' 'Maj1' 'Min2' 'Mod' 'Maj2' 'Sev'] & Mising Values |(0.0) \n",
      " FireplaceQu--------------------------------------- :   [nan 'TA' 'Gd' 'Fa' 'Ex' 'Po'] & Mising Values |(0.474) \n",
      " GarageType---------------------------------------- :   ['Attchd' 'Detchd' 'BuiltIn' 'CarPort' nan 'Basment' '2Types'] & Mising Values |(0.0557) \n",
      " GarageFinish-------------------------------------- :   ['RFn' 'Unf' 'Fin' nan] & Mising Values |(0.0557) \n",
      " GarageQual---------------------------------------- :   ['TA' 'Fa' 'Gd' nan 'Ex' 'Po'] & Mising Values |(0.0557) \n",
      " GarageCond---------------------------------------- :   ['TA' 'Fa' nan 'Gd' 'Po' 'Ex'] & Mising Values |(0.0557) \n",
      " PavedDrive---------------------------------------- :   ['Y' 'N' 'P'] & Mising Values |(0.0) \n",
      " PoolQC-------------------------------------------- :   [nan 'Ex' 'Fa' 'Gd'] & Mising Values |(0.996) \n",
      " Fence--------------------------------------------- :   [nan 'MnPrv' 'GdWo' 'GdPrv' 'MnWw'] & Mising Values |(0.807) \n",
      " MiscFeature--------------------------------------- :   [nan 'Shed' 'Gar2' 'Othr' 'TenC'] & Mising Values |(0.964) \n",
      " SaleType------------------------------------------ :   ['WD' 'New' 'COD' 'ConLD' 'ConLI' 'CWD' 'ConLw' 'Con' 'Oth'] & Mising Values |(0.0) \n",
      " SaleCondition------------------------------------- :   ['Normal' 'Abnorml' 'Partial' 'AdjLand' 'Alloca' 'Family'] & Mising Values |(0.0) \n"
     ]
    }
   ],
   "source": [
    "\n",
    "for col in df.select_dtypes(exclude=\"number\").columns:\n",
    "  print(f\" {col:-<50} :   {df[col].unique()} & Mising Values |({df[col].isna().sum()/df.shape[0]:.3}) \" )"
   ]
  },
  {
   "cell_type": "markdown",
   "metadata": {
    "id": "hp9IINX6A-B0"
   },
   "source": [
    "--   $$\\large \\text { كل القيم التي لا تشهد تغييرا في بيانتها وجب الاستغناء عنها}$$"
   ]
  },
  {
   "cell_type": "code",
   "execution_count": 9,
   "metadata": {
    "executionInfo": {
     "elapsed": 1099,
     "status": "ok",
     "timestamp": 1601405902220,
     "user": {
      "displayName": "Math Hack",
      "photoUrl": "https://lh3.googleusercontent.com/a-/AOh14GjOrJzQ2xAgyHRSCzQ3qBInmHzMPfMtIJGxB4HG=s64",
      "userId": "13730440483455885359"
     },
     "user_tz": -180
    },
    "id": "fJpb8i1hCydN"
   },
   "outputs": [],
   "source": [
    "for col in df.select_dtypes(exclude=\"number\").columns:\n",
    "  if df[col].nunique()<2:\n",
    "    print(f\" {col:-<30} {df[col].nunique()}\")"
   ]
  },
  {
   "cell_type": "markdown",
   "metadata": {
    "id": "sSNufvWwEUGS"
   },
   "source": [
    "- LotShape   لنفترض أن لا تفاضل فيما بين القيم التي تحتويها الخاصية شكل العقار \n",
    "-إذا فترميزها لا يفيدنا ، لذا سنلتتجئ إلى  الترميز الأفقي \n",
    "- لتبسيط العملية سيتم الاقتصار على خصائص أقل للتوضيح\n"
   ]
  },
  {
   "cell_type": "code",
   "execution_count": 10,
   "metadata": {
    "colab": {
     "base_uri": "https://localhost:8080/",
     "height": 498
    },
    "executionInfo": {
     "elapsed": 1123,
     "status": "ok",
     "timestamp": 1601405904915,
     "user": {
      "displayName": "Math Hack",
      "photoUrl": "https://lh3.googleusercontent.com/a-/AOh14GjOrJzQ2xAgyHRSCzQ3qBInmHzMPfMtIJGxB4HG=s64",
      "userId": "13730440483455885359"
     },
     "user_tz": -180
    },
    "id": "5qV2vL0URfkT",
    "outputId": "c61e0653-c0f8-41c8-ff1c-542c0a043287"
   },
   "outputs": [
    {
     "data": {
      "text/html": [
       "<div>\n",
       "<style scoped>\n",
       "    .dataframe tbody tr th:only-of-type {\n",
       "        vertical-align: middle;\n",
       "    }\n",
       "\n",
       "    .dataframe tbody tr th {\n",
       "        vertical-align: top;\n",
       "    }\n",
       "\n",
       "    .dataframe thead th {\n",
       "        text-align: right;\n",
       "    }\n",
       "</style>\n",
       "<table border=\"1\" class=\"dataframe\">\n",
       "  <thead>\n",
       "    <tr style=\"text-align: right;\">\n",
       "      <th></th>\n",
       "      <th>LotShape</th>\n",
       "      <th>LandSlope</th>\n",
       "      <th>CentralAir</th>\n",
       "      <th>OverallQual</th>\n",
       "    </tr>\n",
       "  </thead>\n",
       "  <tbody>\n",
       "    <tr>\n",
       "      <th>1379</th>\n",
       "      <td>Reg</td>\n",
       "      <td>Gtl</td>\n",
       "      <td>Y</td>\n",
       "      <td>5</td>\n",
       "    </tr>\n",
       "    <tr>\n",
       "      <th>1359</th>\n",
       "      <td>Reg</td>\n",
       "      <td>Gtl</td>\n",
       "      <td>Y</td>\n",
       "      <td>9</td>\n",
       "    </tr>\n",
       "    <tr>\n",
       "      <th>1094</th>\n",
       "      <td>Reg</td>\n",
       "      <td>Gtl</td>\n",
       "      <td>Y</td>\n",
       "      <td>5</td>\n",
       "    </tr>\n",
       "    <tr>\n",
       "      <th>920</th>\n",
       "      <td>IR1</td>\n",
       "      <td>Gtl</td>\n",
       "      <td>Y</td>\n",
       "      <td>6</td>\n",
       "    </tr>\n",
       "    <tr>\n",
       "      <th>37</th>\n",
       "      <td>Reg</td>\n",
       "      <td>Gtl</td>\n",
       "      <td>Y</td>\n",
       "      <td>5</td>\n",
       "    </tr>\n",
       "    <tr>\n",
       "      <th>1228</th>\n",
       "      <td>Reg</td>\n",
       "      <td>Gtl</td>\n",
       "      <td>Y</td>\n",
       "      <td>9</td>\n",
       "    </tr>\n",
       "    <tr>\n",
       "      <th>1274</th>\n",
       "      <td>Reg</td>\n",
       "      <td>Gtl</td>\n",
       "      <td>Y</td>\n",
       "      <td>5</td>\n",
       "    </tr>\n",
       "    <tr>\n",
       "      <th>91</th>\n",
       "      <td>Reg</td>\n",
       "      <td>Gtl</td>\n",
       "      <td>Y</td>\n",
       "      <td>5</td>\n",
       "    </tr>\n",
       "    <tr>\n",
       "      <th>1273</th>\n",
       "      <td>IR1</td>\n",
       "      <td>Gtl</td>\n",
       "      <td>Y</td>\n",
       "      <td>6</td>\n",
       "    </tr>\n",
       "    <tr>\n",
       "      <th>1133</th>\n",
       "      <td>IR1</td>\n",
       "      <td>Gtl</td>\n",
       "      <td>Y</td>\n",
       "      <td>8</td>\n",
       "    </tr>\n",
       "    <tr>\n",
       "      <th>424</th>\n",
       "      <td>Reg</td>\n",
       "      <td>Gtl</td>\n",
       "      <td>Y</td>\n",
       "      <td>6</td>\n",
       "    </tr>\n",
       "    <tr>\n",
       "      <th>1100</th>\n",
       "      <td>Reg</td>\n",
       "      <td>Gtl</td>\n",
       "      <td>N</td>\n",
       "      <td>2</td>\n",
       "    </tr>\n",
       "    <tr>\n",
       "      <th>464</th>\n",
       "      <td>Reg</td>\n",
       "      <td>Mod</td>\n",
       "      <td>Y</td>\n",
       "      <td>5</td>\n",
       "    </tr>\n",
       "    <tr>\n",
       "      <th>1050</th>\n",
       "      <td>IR1</td>\n",
       "      <td>Gtl</td>\n",
       "      <td>Y</td>\n",
       "      <td>7</td>\n",
       "    </tr>\n",
       "    <tr>\n",
       "      <th>525</th>\n",
       "      <td>Reg</td>\n",
       "      <td>Gtl</td>\n",
       "      <td>Y</td>\n",
       "      <td>7</td>\n",
       "    </tr>\n",
       "  </tbody>\n",
       "</table>\n",
       "</div>"
      ],
      "text/plain": [
       "     LotShape LandSlope CentralAir  OverallQual\n",
       "1379      Reg       Gtl          Y            5\n",
       "1359      Reg       Gtl          Y            9\n",
       "1094      Reg       Gtl          Y            5\n",
       "920       IR1       Gtl          Y            6\n",
       "37        Reg       Gtl          Y            5\n",
       "1228      Reg       Gtl          Y            9\n",
       "1274      Reg       Gtl          Y            5\n",
       "91        Reg       Gtl          Y            5\n",
       "1273      IR1       Gtl          Y            6\n",
       "1133      IR1       Gtl          Y            8\n",
       "424       Reg       Gtl          Y            6\n",
       "1100      Reg       Gtl          N            2\n",
       "464       Reg       Mod          Y            5\n",
       "1050      IR1       Gtl          Y            7\n",
       "525       Reg       Gtl          Y            7"
      ]
     },
     "execution_count": 10,
     "metadata": {},
     "output_type": "execute_result"
    }
   ],
   "source": [
    "\n",
    "df_Enc=df[[\"LotShape\",\"LandSlope\" ,\"CentralAir\" ,\"OverallQual\"]].sample(15, random_state=1)\n",
    "df_Enc"
   ]
  },
  {
   "cell_type": "code",
   "execution_count": 11,
   "metadata": {
    "colab": {
     "base_uri": "https://localhost:8080/",
     "height": 35
    },
    "executionInfo": {
     "elapsed": 1196,
     "status": "ok",
     "timestamp": 1601405906497,
     "user": {
      "displayName": "Math Hack",
      "photoUrl": "https://lh3.googleusercontent.com/a-/AOh14GjOrJzQ2xAgyHRSCzQ3qBInmHzMPfMtIJGxB4HG=s64",
      "userId": "13730440483455885359"
     },
     "user_tz": -180
    },
    "id": "DlrRrJWDVd1E",
    "outputId": "f07e0ef3-9926-482a-d127-d87123c83de5"
   },
   "outputs": [
    {
     "data": {
      "text/plain": [
       "Index(['LotShape', 'LandSlope', 'CentralAir', 'OverallQual'], dtype='object')"
      ]
     },
     "execution_count": 11,
     "metadata": {},
     "output_type": "execute_result"
    }
   ],
   "source": [
    "df_Enc.keys()"
   ]
  },
  {
   "cell_type": "code",
   "execution_count": 12,
   "metadata": {
    "colab": {
     "base_uri": "https://localhost:8080/",
     "height": 498
    },
    "executionInfo": {
     "elapsed": 794,
     "status": "ok",
     "timestamp": 1601405908171,
     "user": {
      "displayName": "Math Hack",
      "photoUrl": "https://lh3.googleusercontent.com/a-/AOh14GjOrJzQ2xAgyHRSCzQ3qBInmHzMPfMtIJGxB4HG=s64",
      "userId": "13730440483455885359"
     },
     "user_tz": -180
    },
    "id": "YUa8e_Jkfxrp",
    "outputId": "050e062e-a389-4444-b909-f35883afe3f1"
   },
   "outputs": [
    {
     "data": {
      "text/html": [
       "<div>\n",
       "<style scoped>\n",
       "    .dataframe tbody tr th:only-of-type {\n",
       "        vertical-align: middle;\n",
       "    }\n",
       "\n",
       "    .dataframe tbody tr th {\n",
       "        vertical-align: top;\n",
       "    }\n",
       "\n",
       "    .dataframe thead th {\n",
       "        text-align: right;\n",
       "    }\n",
       "</style>\n",
       "<table border=\"1\" class=\"dataframe\">\n",
       "  <thead>\n",
       "    <tr style=\"text-align: right;\">\n",
       "      <th></th>\n",
       "      <th>LotShape</th>\n",
       "      <th>LandSlope</th>\n",
       "      <th>CentralAir</th>\n",
       "      <th>OverallQual</th>\n",
       "    </tr>\n",
       "  </thead>\n",
       "  <tbody>\n",
       "    <tr>\n",
       "      <th>1379</th>\n",
       "      <td>Reg</td>\n",
       "      <td>Gtl</td>\n",
       "      <td>1</td>\n",
       "      <td>5</td>\n",
       "    </tr>\n",
       "    <tr>\n",
       "      <th>1359</th>\n",
       "      <td>Reg</td>\n",
       "      <td>Gtl</td>\n",
       "      <td>1</td>\n",
       "      <td>9</td>\n",
       "    </tr>\n",
       "    <tr>\n",
       "      <th>1094</th>\n",
       "      <td>Reg</td>\n",
       "      <td>Gtl</td>\n",
       "      <td>1</td>\n",
       "      <td>5</td>\n",
       "    </tr>\n",
       "    <tr>\n",
       "      <th>920</th>\n",
       "      <td>IR1</td>\n",
       "      <td>Gtl</td>\n",
       "      <td>1</td>\n",
       "      <td>6</td>\n",
       "    </tr>\n",
       "    <tr>\n",
       "      <th>37</th>\n",
       "      <td>Reg</td>\n",
       "      <td>Gtl</td>\n",
       "      <td>1</td>\n",
       "      <td>5</td>\n",
       "    </tr>\n",
       "    <tr>\n",
       "      <th>1228</th>\n",
       "      <td>Reg</td>\n",
       "      <td>Gtl</td>\n",
       "      <td>1</td>\n",
       "      <td>9</td>\n",
       "    </tr>\n",
       "    <tr>\n",
       "      <th>1274</th>\n",
       "      <td>Reg</td>\n",
       "      <td>Gtl</td>\n",
       "      <td>1</td>\n",
       "      <td>5</td>\n",
       "    </tr>\n",
       "    <tr>\n",
       "      <th>91</th>\n",
       "      <td>Reg</td>\n",
       "      <td>Gtl</td>\n",
       "      <td>1</td>\n",
       "      <td>5</td>\n",
       "    </tr>\n",
       "    <tr>\n",
       "      <th>1273</th>\n",
       "      <td>IR1</td>\n",
       "      <td>Gtl</td>\n",
       "      <td>1</td>\n",
       "      <td>6</td>\n",
       "    </tr>\n",
       "    <tr>\n",
       "      <th>1133</th>\n",
       "      <td>IR1</td>\n",
       "      <td>Gtl</td>\n",
       "      <td>1</td>\n",
       "      <td>8</td>\n",
       "    </tr>\n",
       "    <tr>\n",
       "      <th>424</th>\n",
       "      <td>Reg</td>\n",
       "      <td>Gtl</td>\n",
       "      <td>1</td>\n",
       "      <td>6</td>\n",
       "    </tr>\n",
       "    <tr>\n",
       "      <th>1100</th>\n",
       "      <td>Reg</td>\n",
       "      <td>Gtl</td>\n",
       "      <td>0</td>\n",
       "      <td>2</td>\n",
       "    </tr>\n",
       "    <tr>\n",
       "      <th>464</th>\n",
       "      <td>Reg</td>\n",
       "      <td>Mod</td>\n",
       "      <td>1</td>\n",
       "      <td>5</td>\n",
       "    </tr>\n",
       "    <tr>\n",
       "      <th>1050</th>\n",
       "      <td>IR1</td>\n",
       "      <td>Gtl</td>\n",
       "      <td>1</td>\n",
       "      <td>7</td>\n",
       "    </tr>\n",
       "    <tr>\n",
       "      <th>525</th>\n",
       "      <td>Reg</td>\n",
       "      <td>Gtl</td>\n",
       "      <td>1</td>\n",
       "      <td>7</td>\n",
       "    </tr>\n",
       "  </tbody>\n",
       "</table>\n",
       "</div>"
      ],
      "text/plain": [
       "     LotShape LandSlope  CentralAir  OverallQual\n",
       "1379      Reg       Gtl           1            5\n",
       "1359      Reg       Gtl           1            9\n",
       "1094      Reg       Gtl           1            5\n",
       "920       IR1       Gtl           1            6\n",
       "37        Reg       Gtl           1            5\n",
       "1228      Reg       Gtl           1            9\n",
       "1274      Reg       Gtl           1            5\n",
       "91        Reg       Gtl           1            5\n",
       "1273      IR1       Gtl           1            6\n",
       "1133      IR1       Gtl           1            8\n",
       "424       Reg       Gtl           1            6\n",
       "1100      Reg       Gtl           0            2\n",
       "464       Reg       Mod           1            5\n",
       "1050      IR1       Gtl           1            7\n",
       "525       Reg       Gtl           1            7"
      ]
     },
     "execution_count": 12,
     "metadata": {},
     "output_type": "execute_result"
    }
   ],
   "source": [
    "from sklearn.preprocessing import LabelEncoder\n",
    "lblEnc=LabelEncoder()\n",
    "df_Enc[\"CentralAir\"]=lblEnc.fit_transform(df_Enc.CentralAir)\n",
    "df_Enc"
   ]
  },
  {
   "cell_type": "markdown",
   "metadata": {
    "id": "l8d98tiJVqXK"
   },
   "source": [
    "## Get_Dummies"
   ]
  },
  {
   "cell_type": "code",
   "execution_count": 13,
   "metadata": {
    "colab": {
     "base_uri": "https://localhost:8080/",
     "height": 498
    },
    "executionInfo": {
     "elapsed": 1069,
     "status": "ok",
     "timestamp": 1601405911296,
     "user": {
      "displayName": "Math Hack",
      "photoUrl": "https://lh3.googleusercontent.com/a-/AOh14GjOrJzQ2xAgyHRSCzQ3qBInmHzMPfMtIJGxB4HG=s64",
      "userId": "13730440483455885359"
     },
     "user_tz": -180
    },
    "id": "P2BXePp5Vp46",
    "outputId": "15a02d82-3db7-4c19-84e7-9b1f62bf499b"
   },
   "outputs": [
    {
     "data": {
      "text/html": [
       "<div>\n",
       "<style scoped>\n",
       "    .dataframe tbody tr th:only-of-type {\n",
       "        vertical-align: middle;\n",
       "    }\n",
       "\n",
       "    .dataframe tbody tr th {\n",
       "        vertical-align: top;\n",
       "    }\n",
       "\n",
       "    .dataframe thead th {\n",
       "        text-align: right;\n",
       "    }\n",
       "</style>\n",
       "<table border=\"1\" class=\"dataframe\">\n",
       "  <thead>\n",
       "    <tr style=\"text-align: right;\">\n",
       "      <th></th>\n",
       "      <th>LandSlope</th>\n",
       "      <th>CentralAir</th>\n",
       "      <th>OverallQual</th>\n",
       "      <th>Shape_IR1</th>\n",
       "      <th>Shape_Reg</th>\n",
       "    </tr>\n",
       "  </thead>\n",
       "  <tbody>\n",
       "    <tr>\n",
       "      <th>1379</th>\n",
       "      <td>Gtl</td>\n",
       "      <td>1</td>\n",
       "      <td>5</td>\n",
       "      <td>False</td>\n",
       "      <td>True</td>\n",
       "    </tr>\n",
       "    <tr>\n",
       "      <th>1359</th>\n",
       "      <td>Gtl</td>\n",
       "      <td>1</td>\n",
       "      <td>9</td>\n",
       "      <td>False</td>\n",
       "      <td>True</td>\n",
       "    </tr>\n",
       "    <tr>\n",
       "      <th>1094</th>\n",
       "      <td>Gtl</td>\n",
       "      <td>1</td>\n",
       "      <td>5</td>\n",
       "      <td>False</td>\n",
       "      <td>True</td>\n",
       "    </tr>\n",
       "    <tr>\n",
       "      <th>920</th>\n",
       "      <td>Gtl</td>\n",
       "      <td>1</td>\n",
       "      <td>6</td>\n",
       "      <td>True</td>\n",
       "      <td>False</td>\n",
       "    </tr>\n",
       "    <tr>\n",
       "      <th>37</th>\n",
       "      <td>Gtl</td>\n",
       "      <td>1</td>\n",
       "      <td>5</td>\n",
       "      <td>False</td>\n",
       "      <td>True</td>\n",
       "    </tr>\n",
       "    <tr>\n",
       "      <th>1228</th>\n",
       "      <td>Gtl</td>\n",
       "      <td>1</td>\n",
       "      <td>9</td>\n",
       "      <td>False</td>\n",
       "      <td>True</td>\n",
       "    </tr>\n",
       "    <tr>\n",
       "      <th>1274</th>\n",
       "      <td>Gtl</td>\n",
       "      <td>1</td>\n",
       "      <td>5</td>\n",
       "      <td>False</td>\n",
       "      <td>True</td>\n",
       "    </tr>\n",
       "    <tr>\n",
       "      <th>91</th>\n",
       "      <td>Gtl</td>\n",
       "      <td>1</td>\n",
       "      <td>5</td>\n",
       "      <td>False</td>\n",
       "      <td>True</td>\n",
       "    </tr>\n",
       "    <tr>\n",
       "      <th>1273</th>\n",
       "      <td>Gtl</td>\n",
       "      <td>1</td>\n",
       "      <td>6</td>\n",
       "      <td>True</td>\n",
       "      <td>False</td>\n",
       "    </tr>\n",
       "    <tr>\n",
       "      <th>1133</th>\n",
       "      <td>Gtl</td>\n",
       "      <td>1</td>\n",
       "      <td>8</td>\n",
       "      <td>True</td>\n",
       "      <td>False</td>\n",
       "    </tr>\n",
       "    <tr>\n",
       "      <th>424</th>\n",
       "      <td>Gtl</td>\n",
       "      <td>1</td>\n",
       "      <td>6</td>\n",
       "      <td>False</td>\n",
       "      <td>True</td>\n",
       "    </tr>\n",
       "    <tr>\n",
       "      <th>1100</th>\n",
       "      <td>Gtl</td>\n",
       "      <td>0</td>\n",
       "      <td>2</td>\n",
       "      <td>False</td>\n",
       "      <td>True</td>\n",
       "    </tr>\n",
       "    <tr>\n",
       "      <th>464</th>\n",
       "      <td>Mod</td>\n",
       "      <td>1</td>\n",
       "      <td>5</td>\n",
       "      <td>False</td>\n",
       "      <td>True</td>\n",
       "    </tr>\n",
       "    <tr>\n",
       "      <th>1050</th>\n",
       "      <td>Gtl</td>\n",
       "      <td>1</td>\n",
       "      <td>7</td>\n",
       "      <td>True</td>\n",
       "      <td>False</td>\n",
       "    </tr>\n",
       "    <tr>\n",
       "      <th>525</th>\n",
       "      <td>Gtl</td>\n",
       "      <td>1</td>\n",
       "      <td>7</td>\n",
       "      <td>False</td>\n",
       "      <td>True</td>\n",
       "    </tr>\n",
       "  </tbody>\n",
       "</table>\n",
       "</div>"
      ],
      "text/plain": [
       "     LandSlope  CentralAir  OverallQual  Shape_IR1  Shape_Reg\n",
       "1379       Gtl           1            5      False       True\n",
       "1359       Gtl           1            9      False       True\n",
       "1094       Gtl           1            5      False       True\n",
       "920        Gtl           1            6       True      False\n",
       "37         Gtl           1            5      False       True\n",
       "1228       Gtl           1            9      False       True\n",
       "1274       Gtl           1            5      False       True\n",
       "91         Gtl           1            5      False       True\n",
       "1273       Gtl           1            6       True      False\n",
       "1133       Gtl           1            8       True      False\n",
       "424        Gtl           1            6      False       True\n",
       "1100       Gtl           0            2      False       True\n",
       "464        Mod           1            5      False       True\n",
       "1050       Gtl           1            7       True      False\n",
       "525        Gtl           1            7      False       True"
      ]
     },
     "execution_count": 13,
     "metadata": {},
     "output_type": "execute_result"
    }
   ],
   "source": [
    "pd.get_dummies(df_Enc, columns=['LotShape'], prefix = ['Shape'])\n"
   ]
  },
  {
   "cell_type": "code",
   "execution_count": 14,
   "metadata": {
    "colab": {
     "base_uri": "https://localhost:8080/",
     "height": 498
    },
    "executionInfo": {
     "elapsed": 651,
     "status": "ok",
     "timestamp": 1601405911855,
     "user": {
      "displayName": "Math Hack",
      "photoUrl": "https://lh3.googleusercontent.com/a-/AOh14GjOrJzQ2xAgyHRSCzQ3qBInmHzMPfMtIJGxB4HG=s64",
      "userId": "13730440483455885359"
     },
     "user_tz": -180
    },
    "id": "dwhiZJarVi9r",
    "outputId": "59b075fa-2823-4878-809a-a82dcc2d8abe"
   },
   "outputs": [
    {
     "data": {
      "text/html": [
       "<div>\n",
       "<style scoped>\n",
       "    .dataframe tbody tr th:only-of-type {\n",
       "        vertical-align: middle;\n",
       "    }\n",
       "\n",
       "    .dataframe tbody tr th {\n",
       "        vertical-align: top;\n",
       "    }\n",
       "\n",
       "    .dataframe thead th {\n",
       "        text-align: right;\n",
       "    }\n",
       "</style>\n",
       "<table border=\"1\" class=\"dataframe\">\n",
       "  <thead>\n",
       "    <tr style=\"text-align: right;\">\n",
       "      <th></th>\n",
       "      <th>CentralAir</th>\n",
       "      <th>OverallQual</th>\n",
       "      <th>Shape_IR1</th>\n",
       "      <th>Shape_Reg</th>\n",
       "      <th>Slope_Gtl</th>\n",
       "      <th>Slope_Mod</th>\n",
       "    </tr>\n",
       "  </thead>\n",
       "  <tbody>\n",
       "    <tr>\n",
       "      <th>1379</th>\n",
       "      <td>1</td>\n",
       "      <td>5</td>\n",
       "      <td>False</td>\n",
       "      <td>True</td>\n",
       "      <td>True</td>\n",
       "      <td>False</td>\n",
       "    </tr>\n",
       "    <tr>\n",
       "      <th>1359</th>\n",
       "      <td>1</td>\n",
       "      <td>9</td>\n",
       "      <td>False</td>\n",
       "      <td>True</td>\n",
       "      <td>True</td>\n",
       "      <td>False</td>\n",
       "    </tr>\n",
       "    <tr>\n",
       "      <th>1094</th>\n",
       "      <td>1</td>\n",
       "      <td>5</td>\n",
       "      <td>False</td>\n",
       "      <td>True</td>\n",
       "      <td>True</td>\n",
       "      <td>False</td>\n",
       "    </tr>\n",
       "    <tr>\n",
       "      <th>920</th>\n",
       "      <td>1</td>\n",
       "      <td>6</td>\n",
       "      <td>True</td>\n",
       "      <td>False</td>\n",
       "      <td>True</td>\n",
       "      <td>False</td>\n",
       "    </tr>\n",
       "    <tr>\n",
       "      <th>37</th>\n",
       "      <td>1</td>\n",
       "      <td>5</td>\n",
       "      <td>False</td>\n",
       "      <td>True</td>\n",
       "      <td>True</td>\n",
       "      <td>False</td>\n",
       "    </tr>\n",
       "    <tr>\n",
       "      <th>1228</th>\n",
       "      <td>1</td>\n",
       "      <td>9</td>\n",
       "      <td>False</td>\n",
       "      <td>True</td>\n",
       "      <td>True</td>\n",
       "      <td>False</td>\n",
       "    </tr>\n",
       "    <tr>\n",
       "      <th>1274</th>\n",
       "      <td>1</td>\n",
       "      <td>5</td>\n",
       "      <td>False</td>\n",
       "      <td>True</td>\n",
       "      <td>True</td>\n",
       "      <td>False</td>\n",
       "    </tr>\n",
       "    <tr>\n",
       "      <th>91</th>\n",
       "      <td>1</td>\n",
       "      <td>5</td>\n",
       "      <td>False</td>\n",
       "      <td>True</td>\n",
       "      <td>True</td>\n",
       "      <td>False</td>\n",
       "    </tr>\n",
       "    <tr>\n",
       "      <th>1273</th>\n",
       "      <td>1</td>\n",
       "      <td>6</td>\n",
       "      <td>True</td>\n",
       "      <td>False</td>\n",
       "      <td>True</td>\n",
       "      <td>False</td>\n",
       "    </tr>\n",
       "    <tr>\n",
       "      <th>1133</th>\n",
       "      <td>1</td>\n",
       "      <td>8</td>\n",
       "      <td>True</td>\n",
       "      <td>False</td>\n",
       "      <td>True</td>\n",
       "      <td>False</td>\n",
       "    </tr>\n",
       "    <tr>\n",
       "      <th>424</th>\n",
       "      <td>1</td>\n",
       "      <td>6</td>\n",
       "      <td>False</td>\n",
       "      <td>True</td>\n",
       "      <td>True</td>\n",
       "      <td>False</td>\n",
       "    </tr>\n",
       "    <tr>\n",
       "      <th>1100</th>\n",
       "      <td>0</td>\n",
       "      <td>2</td>\n",
       "      <td>False</td>\n",
       "      <td>True</td>\n",
       "      <td>True</td>\n",
       "      <td>False</td>\n",
       "    </tr>\n",
       "    <tr>\n",
       "      <th>464</th>\n",
       "      <td>1</td>\n",
       "      <td>5</td>\n",
       "      <td>False</td>\n",
       "      <td>True</td>\n",
       "      <td>False</td>\n",
       "      <td>True</td>\n",
       "    </tr>\n",
       "    <tr>\n",
       "      <th>1050</th>\n",
       "      <td>1</td>\n",
       "      <td>7</td>\n",
       "      <td>True</td>\n",
       "      <td>False</td>\n",
       "      <td>True</td>\n",
       "      <td>False</td>\n",
       "    </tr>\n",
       "    <tr>\n",
       "      <th>525</th>\n",
       "      <td>1</td>\n",
       "      <td>7</td>\n",
       "      <td>False</td>\n",
       "      <td>True</td>\n",
       "      <td>True</td>\n",
       "      <td>False</td>\n",
       "    </tr>\n",
       "  </tbody>\n",
       "</table>\n",
       "</div>"
      ],
      "text/plain": [
       "      CentralAir  OverallQual  Shape_IR1  Shape_Reg  Slope_Gtl  Slope_Mod\n",
       "1379           1            5      False       True       True      False\n",
       "1359           1            9      False       True       True      False\n",
       "1094           1            5      False       True       True      False\n",
       "920            1            6       True      False       True      False\n",
       "37             1            5      False       True       True      False\n",
       "1228           1            9      False       True       True      False\n",
       "1274           1            5      False       True       True      False\n",
       "91             1            5      False       True       True      False\n",
       "1273           1            6       True      False       True      False\n",
       "1133           1            8       True      False       True      False\n",
       "424            1            6      False       True       True      False\n",
       "1100           0            2      False       True       True      False\n",
       "464            1            5      False       True      False       True\n",
       "1050           1            7       True      False       True      False\n",
       "525            1            7      False       True       True      False"
      ]
     },
     "execution_count": 14,
     "metadata": {},
     "output_type": "execute_result"
    }
   ],
   "source": [
    "# التعميم\n",
    "df_Enc= pd.get_dummies(df_Enc, prefix = ['Shape', \"Slope\"])\n",
    "df_Enc"
   ]
  },
  {
   "cell_type": "markdown",
   "metadata": {
    "id": "56za6YSaWamS"
   },
   "source": [
    "- OverallQual يلاحظ عدم  ترميز البيانات الرقمية لعمود "
   ]
  },
  {
   "cell_type": "code",
   "execution_count": null,
   "metadata": {
    "executionInfo": {
     "elapsed": 669,
     "status": "ok",
     "timestamp": 1601405913066,
     "user": {
      "displayName": "Math Hack",
      "photoUrl": "https://lh3.googleusercontent.com/a-/AOh14GjOrJzQ2xAgyHRSCzQ3qBInmHzMPfMtIJGxB4HG=s64",
      "userId": "13730440483455885359"
     },
     "user_tz": -180
    },
    "id": "aKYk4jKFH7y8"
   },
   "outputs": [],
   "source": []
  },
  {
   "cell_type": "code",
   "execution_count": 15,
   "metadata": {
    "colab": {
     "base_uri": "https://localhost:8080/",
     "height": 35
    },
    "executionInfo": {
     "elapsed": 787,
     "status": "ok",
     "timestamp": 1601405913696,
     "user": {
      "displayName": "Math Hack",
      "photoUrl": "https://lh3.googleusercontent.com/a-/AOh14GjOrJzQ2xAgyHRSCzQ3qBInmHzMPfMtIJGxB4HG=s64",
      "userId": "13730440483455885359"
     },
     "user_tz": -180
    },
    "id": "ZxgSy_TdWaFK",
    "outputId": "4ee889d1-d8ff-4f59-f869-6df25d9fb787"
   },
   "outputs": [
    {
     "data": {
      "text/plain": [
       "(array(['Gtl', 'Mod'], dtype=object), array(['Y', 'N'], dtype=object))"
      ]
     },
     "execution_count": 15,
     "metadata": {},
     "output_type": "execute_result"
    }
   ],
   "source": [
    "#LandSlope  أما إذا أخذنا بعين الاعتبار درجة انحناء الأرض التي بني عليها العقار \n",
    "# يصبح من الضروري ترتيب قيم الخاصية المذكورة اعلاه كالتالي \n",
    "df_Enc=df[[\"LotShape\",\"LandSlope\" ,\"CentralAir\" ,\"OverallQual\"]].sample(15, random_state=1)\n",
    "df_Enc.LandSlope.unique(), df_Enc.CentralAir.unique()\n"
   ]
  },
  {
   "cell_type": "code",
   "execution_count": 16,
   "metadata": {
    "colab": {
     "base_uri": "https://localhost:8080/",
     "height": 138
    },
    "executionInfo": {
     "elapsed": 1044,
     "status": "ok",
     "timestamp": 1601405914655,
     "user": {
      "displayName": "Math Hack",
      "photoUrl": "https://lh3.googleusercontent.com/a-/AOh14GjOrJzQ2xAgyHRSCzQ3qBInmHzMPfMtIJGxB4HG=s64",
      "userId": "13730440483455885359"
     },
     "user_tz": -180
    },
    "id": "OTiZKgxuMhvM",
    "outputId": "6d140ed2-cfb6-4d58-dc34-9c49cfe9e42a"
   },
   "outputs": [
    {
     "data": {
      "text/html": [
       "<div>\n",
       "<style scoped>\n",
       "    .dataframe tbody tr th:only-of-type {\n",
       "        vertical-align: middle;\n",
       "    }\n",
       "\n",
       "    .dataframe tbody tr th {\n",
       "        vertical-align: top;\n",
       "    }\n",
       "\n",
       "    .dataframe thead th {\n",
       "        text-align: right;\n",
       "    }\n",
       "</style>\n",
       "<table border=\"1\" class=\"dataframe\">\n",
       "  <thead>\n",
       "    <tr style=\"text-align: right;\">\n",
       "      <th></th>\n",
       "      <th>LotShape</th>\n",
       "      <th>LandSlope</th>\n",
       "      <th>CentralAir</th>\n",
       "      <th>OverallQual</th>\n",
       "    </tr>\n",
       "  </thead>\n",
       "  <tbody>\n",
       "    <tr>\n",
       "      <th>1379</th>\n",
       "      <td>Reg</td>\n",
       "      <td>Gtl</td>\n",
       "      <td>Y</td>\n",
       "      <td>5</td>\n",
       "    </tr>\n",
       "    <tr>\n",
       "      <th>1359</th>\n",
       "      <td>Reg</td>\n",
       "      <td>Gtl</td>\n",
       "      <td>Y</td>\n",
       "      <td>9</td>\n",
       "    </tr>\n",
       "    <tr>\n",
       "      <th>1094</th>\n",
       "      <td>Reg</td>\n",
       "      <td>Gtl</td>\n",
       "      <td>Y</td>\n",
       "      <td>5</td>\n",
       "    </tr>\n",
       "  </tbody>\n",
       "</table>\n",
       "</div>"
      ],
      "text/plain": [
       "     LotShape LandSlope CentralAir  OverallQual\n",
       "1379      Reg       Gtl          Y            5\n",
       "1359      Reg       Gtl          Y            9\n",
       "1094      Reg       Gtl          Y            5"
      ]
     },
     "execution_count": 16,
     "metadata": {},
     "output_type": "execute_result"
    }
   ],
   "source": [
    "df_Enc.head(3)"
   ]
  },
  {
   "cell_type": "code",
   "execution_count": 17,
   "metadata": {
    "colab": {
     "base_uri": "https://localhost:8080/",
     "height": 198
    },
    "executionInfo": {
     "elapsed": 843,
     "status": "ok",
     "timestamp": 1601405915978,
     "user": {
      "displayName": "Math Hack",
      "photoUrl": "https://lh3.googleusercontent.com/a-/AOh14GjOrJzQ2xAgyHRSCzQ3qBInmHzMPfMtIJGxB4HG=s64",
      "userId": "13730440483455885359"
     },
     "user_tz": -180
    },
    "id": "-cPeQMaAIHSZ",
    "outputId": "f730d682-e8b8-4872-eb6b-4957e72019dd"
   },
   "outputs": [
    {
     "data": {
      "text/html": [
       "<div>\n",
       "<style scoped>\n",
       "    .dataframe tbody tr th:only-of-type {\n",
       "        vertical-align: middle;\n",
       "    }\n",
       "\n",
       "    .dataframe tbody tr th {\n",
       "        vertical-align: top;\n",
       "    }\n",
       "\n",
       "    .dataframe thead th {\n",
       "        text-align: right;\n",
       "    }\n",
       "</style>\n",
       "<table border=\"1\" class=\"dataframe\">\n",
       "  <thead>\n",
       "    <tr style=\"text-align: right;\">\n",
       "      <th></th>\n",
       "      <th>LotShape</th>\n",
       "      <th>LandSlope</th>\n",
       "      <th>CentralAir</th>\n",
       "      <th>OverallQual</th>\n",
       "    </tr>\n",
       "  </thead>\n",
       "  <tbody>\n",
       "    <tr>\n",
       "      <th>1379</th>\n",
       "      <td>Reg</td>\n",
       "      <td>2</td>\n",
       "      <td>1</td>\n",
       "      <td>5</td>\n",
       "    </tr>\n",
       "    <tr>\n",
       "      <th>1359</th>\n",
       "      <td>Reg</td>\n",
       "      <td>2</td>\n",
       "      <td>1</td>\n",
       "      <td>9</td>\n",
       "    </tr>\n",
       "    <tr>\n",
       "      <th>1094</th>\n",
       "      <td>Reg</td>\n",
       "      <td>2</td>\n",
       "      <td>1</td>\n",
       "      <td>5</td>\n",
       "    </tr>\n",
       "    <tr>\n",
       "      <th>920</th>\n",
       "      <td>IR1</td>\n",
       "      <td>2</td>\n",
       "      <td>1</td>\n",
       "      <td>6</td>\n",
       "    </tr>\n",
       "    <tr>\n",
       "      <th>37</th>\n",
       "      <td>Reg</td>\n",
       "      <td>2</td>\n",
       "      <td>1</td>\n",
       "      <td>5</td>\n",
       "    </tr>\n",
       "  </tbody>\n",
       "</table>\n",
       "</div>"
      ],
      "text/plain": [
       "     LotShape  LandSlope  CentralAir  OverallQual\n",
       "1379      Reg          2           1            5\n",
       "1359      Reg          2           1            9\n",
       "1094      Reg          2           1            5\n",
       "920       IR1          2           1            6\n",
       "37        Reg          2           1            5"
      ]
     },
     "execution_count": 17,
     "metadata": {},
     "output_type": "execute_result"
    }
   ],
   "source": [
    "dic_CentralAir={\"Y\":1, \"N\":0}\n",
    "dic_LandSlope={'Gtl':2, 'Mod':1, 'Sev':0}\n",
    "\n",
    "df_Enc[\"CentralAir\"]=df_Enc.CentralAir.map(dic_CentralAir)\n",
    "df_Enc[\"LandSlope\"]=df_Enc.LandSlope.map(dic_LandSlope)\n",
    "df_Enc.head()"
   ]
  },
  {
   "cell_type": "code",
   "execution_count": 18,
   "metadata": {
    "colab": {
     "base_uri": "https://localhost:8080/",
     "height": 198
    },
    "executionInfo": {
     "elapsed": 806,
     "status": "ok",
     "timestamp": 1601405917318,
     "user": {
      "displayName": "Math Hack",
      "photoUrl": "https://lh3.googleusercontent.com/a-/AOh14GjOrJzQ2xAgyHRSCzQ3qBInmHzMPfMtIJGxB4HG=s64",
      "userId": "13730440483455885359"
     },
     "user_tz": -180
    },
    "id": "R_0IBJHAVjBB",
    "outputId": "62f20c49-a1ae-45d8-84a9-640fd05bb5a3"
   },
   "outputs": [
    {
     "data": {
      "text/html": [
       "<div>\n",
       "<style scoped>\n",
       "    .dataframe tbody tr th:only-of-type {\n",
       "        vertical-align: middle;\n",
       "    }\n",
       "\n",
       "    .dataframe tbody tr th {\n",
       "        vertical-align: top;\n",
       "    }\n",
       "\n",
       "    .dataframe thead th {\n",
       "        text-align: right;\n",
       "    }\n",
       "</style>\n",
       "<table border=\"1\" class=\"dataframe\">\n",
       "  <thead>\n",
       "    <tr style=\"text-align: right;\">\n",
       "      <th></th>\n",
       "      <th>LandSlope</th>\n",
       "      <th>CentralAir</th>\n",
       "      <th>OverallQual</th>\n",
       "      <th>Shape_IR1</th>\n",
       "      <th>Shape_Reg</th>\n",
       "    </tr>\n",
       "  </thead>\n",
       "  <tbody>\n",
       "    <tr>\n",
       "      <th>1379</th>\n",
       "      <td>2</td>\n",
       "      <td>1</td>\n",
       "      <td>5</td>\n",
       "      <td>False</td>\n",
       "      <td>True</td>\n",
       "    </tr>\n",
       "    <tr>\n",
       "      <th>1359</th>\n",
       "      <td>2</td>\n",
       "      <td>1</td>\n",
       "      <td>9</td>\n",
       "      <td>False</td>\n",
       "      <td>True</td>\n",
       "    </tr>\n",
       "    <tr>\n",
       "      <th>1094</th>\n",
       "      <td>2</td>\n",
       "      <td>1</td>\n",
       "      <td>5</td>\n",
       "      <td>False</td>\n",
       "      <td>True</td>\n",
       "    </tr>\n",
       "    <tr>\n",
       "      <th>920</th>\n",
       "      <td>2</td>\n",
       "      <td>1</td>\n",
       "      <td>6</td>\n",
       "      <td>True</td>\n",
       "      <td>False</td>\n",
       "    </tr>\n",
       "    <tr>\n",
       "      <th>37</th>\n",
       "      <td>2</td>\n",
       "      <td>1</td>\n",
       "      <td>5</td>\n",
       "      <td>False</td>\n",
       "      <td>True</td>\n",
       "    </tr>\n",
       "  </tbody>\n",
       "</table>\n",
       "</div>"
      ],
      "text/plain": [
       "      LandSlope  CentralAir  OverallQual  Shape_IR1  Shape_Reg\n",
       "1379          2           1            5      False       True\n",
       "1359          2           1            9      False       True\n",
       "1094          2           1            5      False       True\n",
       "920           2           1            6       True      False\n",
       "37            2           1            5      False       True"
      ]
     },
     "execution_count": 18,
     "metadata": {},
     "output_type": "execute_result"
    }
   ],
   "source": [
    "pd.get_dummies(df_Enc, prefix = 'Shape').head()\n"
   ]
  },
  {
   "cell_type": "code",
   "execution_count": 21,
   "metadata": {
    "executionInfo": {
     "elapsed": 1184,
     "status": "ok",
     "timestamp": 1601405920911,
     "user": {
      "displayName": "Math Hack",
      "photoUrl": "https://lh3.googleusercontent.com/a-/AOh14GjOrJzQ2xAgyHRSCzQ3qBInmHzMPfMtIJGxB4HG=s64",
      "userId": "13730440483455885359"
     },
     "user_tz": -180
    },
    "id": "g3ibDySkX1m6"
   },
   "outputs": [],
   "source": []
  },
  {
   "cell_type": "markdown",
   "metadata": {
    "id": "TUNyl1I8Qe7K"
   },
   "source": [
    "##  OneHotEncoder ترميز   To implement and checl here\n",
    " "
   ]
  },
  {
   "cell_type": "code",
   "execution_count": 22,
   "metadata": {
    "colab": {
     "base_uri": "https://localhost:8080/",
     "height": 498
    },
    "executionInfo": {
     "elapsed": 674,
     "status": "ok",
     "timestamp": 1601405921520,
     "user": {
      "displayName": "Math Hack",
      "photoUrl": "https://lh3.googleusercontent.com/a-/AOh14GjOrJzQ2xAgyHRSCzQ3qBInmHzMPfMtIJGxB4HG=s64",
      "userId": "13730440483455885359"
     },
     "user_tz": -180
    },
    "id": "db_zrSb2Qe-y",
    "outputId": "063794a7-321b-481d-c06c-43f4f4536b2b"
   },
   "outputs": [
    {
     "data": {
      "text/html": [
       "<div>\n",
       "<style scoped>\n",
       "    .dataframe tbody tr th:only-of-type {\n",
       "        vertical-align: middle;\n",
       "    }\n",
       "\n",
       "    .dataframe tbody tr th {\n",
       "        vertical-align: top;\n",
       "    }\n",
       "\n",
       "    .dataframe thead th {\n",
       "        text-align: right;\n",
       "    }\n",
       "</style>\n",
       "<table border=\"1\" class=\"dataframe\">\n",
       "  <thead>\n",
       "    <tr style=\"text-align: right;\">\n",
       "      <th></th>\n",
       "      <th>LotShape</th>\n",
       "      <th>LandSlope</th>\n",
       "      <th>CentralAir</th>\n",
       "      <th>OverallQual</th>\n",
       "    </tr>\n",
       "  </thead>\n",
       "  <tbody>\n",
       "    <tr>\n",
       "      <th>258</th>\n",
       "      <td>Reg</td>\n",
       "      <td>Gtl</td>\n",
       "      <td>Y</td>\n",
       "      <td>7</td>\n",
       "    </tr>\n",
       "    <tr>\n",
       "      <th>267</th>\n",
       "      <td>Reg</td>\n",
       "      <td>Mod</td>\n",
       "      <td>Y</td>\n",
       "      <td>5</td>\n",
       "    </tr>\n",
       "    <tr>\n",
       "      <th>288</th>\n",
       "      <td>IR1</td>\n",
       "      <td>Gtl</td>\n",
       "      <td>Y</td>\n",
       "      <td>5</td>\n",
       "    </tr>\n",
       "    <tr>\n",
       "      <th>649</th>\n",
       "      <td>Reg</td>\n",
       "      <td>Gtl</td>\n",
       "      <td>Y</td>\n",
       "      <td>4</td>\n",
       "    </tr>\n",
       "    <tr>\n",
       "      <th>1233</th>\n",
       "      <td>IR1</td>\n",
       "      <td>Gtl</td>\n",
       "      <td>Y</td>\n",
       "      <td>5</td>\n",
       "    </tr>\n",
       "    <tr>\n",
       "      <th>167</th>\n",
       "      <td>Reg</td>\n",
       "      <td>Gtl</td>\n",
       "      <td>Y</td>\n",
       "      <td>8</td>\n",
       "    </tr>\n",
       "    <tr>\n",
       "      <th>926</th>\n",
       "      <td>Reg</td>\n",
       "      <td>Gtl</td>\n",
       "      <td>Y</td>\n",
       "      <td>8</td>\n",
       "    </tr>\n",
       "    <tr>\n",
       "      <th>831</th>\n",
       "      <td>Reg</td>\n",
       "      <td>Gtl</td>\n",
       "      <td>Y</td>\n",
       "      <td>7</td>\n",
       "    </tr>\n",
       "    <tr>\n",
       "      <th>1237</th>\n",
       "      <td>IR2</td>\n",
       "      <td>Gtl</td>\n",
       "      <td>Y</td>\n",
       "      <td>7</td>\n",
       "    </tr>\n",
       "    <tr>\n",
       "      <th>426</th>\n",
       "      <td>Reg</td>\n",
       "      <td>Mod</td>\n",
       "      <td>Y</td>\n",
       "      <td>7</td>\n",
       "    </tr>\n",
       "    <tr>\n",
       "      <th>487</th>\n",
       "      <td>IR1</td>\n",
       "      <td>Gtl</td>\n",
       "      <td>Y</td>\n",
       "      <td>5</td>\n",
       "    </tr>\n",
       "    <tr>\n",
       "      <th>375</th>\n",
       "      <td>IR1</td>\n",
       "      <td>Sev</td>\n",
       "      <td>N</td>\n",
       "      <td>1</td>\n",
       "    </tr>\n",
       "    <tr>\n",
       "      <th>1126</th>\n",
       "      <td>Reg</td>\n",
       "      <td>Gtl</td>\n",
       "      <td>Y</td>\n",
       "      <td>7</td>\n",
       "    </tr>\n",
       "    <tr>\n",
       "      <th>53</th>\n",
       "      <td>IR1</td>\n",
       "      <td>Gtl</td>\n",
       "      <td>Y</td>\n",
       "      <td>9</td>\n",
       "    </tr>\n",
       "    <tr>\n",
       "      <th>1033</th>\n",
       "      <td>Reg</td>\n",
       "      <td>Gtl</td>\n",
       "      <td>Y</td>\n",
       "      <td>7</td>\n",
       "    </tr>\n",
       "  </tbody>\n",
       "</table>\n",
       "</div>"
      ],
      "text/plain": [
       "     LotShape LandSlope CentralAir  OverallQual\n",
       "258       Reg       Gtl          Y            7\n",
       "267       Reg       Mod          Y            5\n",
       "288       IR1       Gtl          Y            5\n",
       "649       Reg       Gtl          Y            4\n",
       "1233      IR1       Gtl          Y            5\n",
       "167       Reg       Gtl          Y            8\n",
       "926       Reg       Gtl          Y            8\n",
       "831       Reg       Gtl          Y            7\n",
       "1237      IR2       Gtl          Y            7\n",
       "426       Reg       Mod          Y            7\n",
       "487       IR1       Gtl          Y            5\n",
       "375       IR1       Sev          N            1\n",
       "1126      Reg       Gtl          Y            7\n",
       "53        IR1       Gtl          Y            9\n",
       "1033      Reg       Gtl          Y            7"
      ]
     },
     "execution_count": 22,
     "metadata": {
      "tags": []
     },
     "output_type": "execute_result"
    }
   ],
   "source": [
    "df_OneHotEncoder=df[[\"LotShape\",\"LandSlope\" ,\"CentralAir\" ,\"OverallQual\"]].sample(15, random_state=1)\n",
    "df_OneHotEncoder"
   ]
  },
  {
   "cell_type": "code",
   "execution_count": 40,
   "metadata": {
    "colab": {
     "base_uri": "https://localhost:8080/",
     "height": 54
    },
    "executionInfo": {
     "elapsed": 686,
     "status": "ok",
     "timestamp": 1601406234735,
     "user": {
      "displayName": "Math Hack",
      "photoUrl": "https://lh3.googleusercontent.com/a-/AOh14GjOrJzQ2xAgyHRSCzQ3qBInmHzMPfMtIJGxB4HG=s64",
      "userId": "13730440483455885359"
     },
     "user_tz": -180
    },
    "id": "V1g4deE9QfCR",
    "outputId": "efc78d68-338e-42e8-c4ed-4fff8d908685"
   },
   "outputs": [
    {
     "data": {
      "text/plain": [
       "OneHotEncoder(categories='auto', drop=None, dtype=<class 'numpy.float64'>,\n",
       "              handle_unknown='ignore', sparse=False)"
      ]
     },
     "execution_count": 40,
     "metadata": {
      "tags": []
     },
     "output_type": "execute_result"
    }
   ],
   "source": [
    "\n",
    "from sklearn.preprocessing import OneHotEncoder\n",
    "enc = OneHotEncoder(handle_unknown='ignore', sparse=False)\n",
    "enc.fit(df_OneHotEncoder.iloc[:,0:3])"
   ]
  },
  {
   "cell_type": "code",
   "execution_count": 41,
   "metadata": {
    "colab": {
     "base_uri": "https://localhost:8080/",
     "height": 72
    },
    "executionInfo": {
     "elapsed": 1018,
     "status": "ok",
     "timestamp": 1601406237185,
     "user": {
      "displayName": "Math Hack",
      "photoUrl": "https://lh3.googleusercontent.com/a-/AOh14GjOrJzQ2xAgyHRSCzQ3qBInmHzMPfMtIJGxB4HG=s64",
      "userId": "13730440483455885359"
     },
     "user_tz": -180
    },
    "id": "HJftautVRlgj",
    "outputId": "90615364-c456-46ab-e0c0-51a488bba71b"
   },
   "outputs": [
    {
     "data": {
      "text/plain": [
       "[array(['IR1', 'IR2', 'Reg'], dtype=object),\n",
       " array(['Gtl', 'Mod', 'Sev'], dtype=object),\n",
       " array(['N', 'Y'], dtype=object)]"
      ]
     },
     "execution_count": 41,
     "metadata": {
      "tags": []
     },
     "output_type": "execute_result"
    }
   ],
   "source": [
    "enc.categories_"
   ]
  },
  {
   "cell_type": "code",
   "execution_count": 45,
   "metadata": {
    "colab": {
     "base_uri": "https://localhost:8080/",
     "height": 290
    },
    "executionInfo": {
     "elapsed": 1211,
     "status": "ok",
     "timestamp": 1601406275773,
     "user": {
      "displayName": "Math Hack",
      "photoUrl": "https://lh3.googleusercontent.com/a-/AOh14GjOrJzQ2xAgyHRSCzQ3qBInmHzMPfMtIJGxB4HG=s64",
      "userId": "13730440483455885359"
     },
     "user_tz": -180
    },
    "id": "2WPtK5_zRp-r",
    "outputId": "e39a86b2-5762-4e38-a47e-8a58b64146b5"
   },
   "outputs": [
    {
     "data": {
      "text/plain": [
       "array([[0., 0., 1., 1., 0., 0., 0., 1.],\n",
       "       [0., 0., 1., 0., 1., 0., 0., 1.],\n",
       "       [1., 0., 0., 1., 0., 0., 0., 1.],\n",
       "       [0., 0., 1., 1., 0., 0., 0., 1.],\n",
       "       [1., 0., 0., 1., 0., 0., 0., 1.],\n",
       "       [0., 0., 1., 1., 0., 0., 0., 1.],\n",
       "       [0., 0., 1., 1., 0., 0., 0., 1.],\n",
       "       [0., 0., 1., 1., 0., 0., 0., 1.],\n",
       "       [0., 1., 0., 1., 0., 0., 0., 1.],\n",
       "       [0., 0., 1., 0., 1., 0., 0., 1.],\n",
       "       [1., 0., 0., 1., 0., 0., 0., 1.],\n",
       "       [1., 0., 0., 0., 0., 1., 1., 0.],\n",
       "       [0., 0., 1., 1., 0., 0., 0., 1.],\n",
       "       [1., 0., 0., 1., 0., 0., 0., 1.],\n",
       "       [0., 0., 1., 1., 0., 0., 0., 1.]])"
      ]
     },
     "execution_count": 45,
     "metadata": {
      "tags": []
     },
     "output_type": "execute_result"
    }
   ],
   "source": [
    "enc.transform(df_OneHotEncoder.iloc[:,0:3])"
   ]
  },
  {
   "cell_type": "code",
   "execution_count": 47,
   "metadata": {
    "colab": {
     "base_uri": "https://localhost:8080/",
     "height": 290
    },
    "executionInfo": {
     "elapsed": 1422,
     "status": "ok",
     "timestamp": 1601406471224,
     "user": {
      "displayName": "Math Hack",
      "photoUrl": "https://lh3.googleusercontent.com/a-/AOh14GjOrJzQ2xAgyHRSCzQ3qBInmHzMPfMtIJGxB4HG=s64",
      "userId": "13730440483455885359"
     },
     "user_tz": -180
    },
    "id": "2u6uh84FR2y1",
    "outputId": "bce3a6c8-3812-47df-866f-a254607c6379"
   },
   "outputs": [
    {
     "data": {
      "text/plain": [
       "array([[0., 0., 1., 1., 0., 0., 0., 1.],\n",
       "       [0., 0., 1., 0., 1., 0., 0., 1.],\n",
       "       [1., 0., 0., 1., 0., 0., 0., 1.],\n",
       "       [0., 0., 1., 1., 0., 0., 0., 1.],\n",
       "       [1., 0., 0., 1., 0., 0., 0., 1.],\n",
       "       [0., 0., 1., 1., 0., 0., 0., 1.],\n",
       "       [0., 0., 1., 1., 0., 0., 0., 1.],\n",
       "       [0., 0., 1., 1., 0., 0., 0., 1.],\n",
       "       [0., 1., 0., 1., 0., 0., 0., 1.],\n",
       "       [0., 0., 1., 0., 1., 0., 0., 1.],\n",
       "       [1., 0., 0., 1., 0., 0., 0., 1.],\n",
       "       [1., 0., 0., 0., 0., 1., 1., 0.],\n",
       "       [0., 0., 1., 1., 0., 0., 0., 1.],\n",
       "       [1., 0., 0., 1., 0., 0., 0., 1.],\n",
       "       [0., 0., 1., 1., 0., 0., 0., 1.]])"
      ]
     },
     "execution_count": 47,
     "metadata": {
      "tags": []
     },
     "output_type": "execute_result"
    }
   ],
   "source": [
    "enc.fit_transform(df_OneHotEncoder.iloc[:,0:3])"
   ]
  },
  {
   "cell_type": "code",
   "execution_count": null,
   "metadata": {
    "id": "vEvGX5vNTB-P"
   },
   "outputs": [],
   "source": []
  }
 ],
 "metadata": {
  "colab": {
   "authorship_tag": "ABX9TyMJo27pzUqbNvD0B2FtdxTl",
   "collapsed_sections": [],
   "mount_file_id": "1teTI-L4EgoTZa_16ufba0gqEdfUsrfJ6",
   "name": "15_DataSet_Encoding_2.ipynb",
   "provenance": [
    {
     "file_id": "11zUDQWrdMgwXh8Iv-qW0PvX0G4jyMW-I",
     "timestamp": 1597828052893
    },
    {
     "file_id": "1-6JcJIMq3KaxTGXiqCV3SV4AYx6kHuEf",
     "timestamp": 1597822077593
    }
   ]
  },
  "kernelspec": {
   "display_name": "Python 3",
   "name": "python3"
  },
  "language_info": {
   "codemirror_mode": {
    "name": "ipython",
    "version": 3
   },
   "file_extension": ".py",
   "mimetype": "text/x-python",
   "name": "python",
   "nbconvert_exporter": "python",
   "pygments_lexer": "ipython3",
   "version": "3.12.1"
  }
 },
 "nbformat": 4,
 "nbformat_minor": 0
}
