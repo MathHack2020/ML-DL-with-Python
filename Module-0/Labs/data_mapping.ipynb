{
 "cells": [
  {
   "cell_type": "code",
   "execution_count": null,
   "metadata": {
    "id": "pvNainJGoWIS"
   },
   "outputs": [],
   "source": []
  },
  {
   "cell_type": "markdown",
   "metadata": {},
   "source": [
    "- 1. Set Up the Environment\n",
    "First, ensure you have pandas installed and create a sample DataFrame with a \"Grade\" column containing the categorical values you want to encode.\n",
    "\n"
   ]
  },
  {
   "cell_type": "code",
   "execution_count": 43,
   "metadata": {},
   "outputs": [],
   "source": [
    "import pandas as pd\n",
    "df= pd.read_csv('../data/student_performance_large_dataset.csv')"
   ]
  },
  {
   "cell_type": "code",
   "execution_count": 44,
   "metadata": {},
   "outputs": [
    {
     "data": {
      "text/html": [
       "<div>\n",
       "<style scoped>\n",
       "    .dataframe tbody tr th:only-of-type {\n",
       "        vertical-align: middle;\n",
       "    }\n",
       "\n",
       "    .dataframe tbody tr th {\n",
       "        vertical-align: top;\n",
       "    }\n",
       "\n",
       "    .dataframe thead th {\n",
       "        text-align: right;\n",
       "    }\n",
       "</style>\n",
       "<table border=\"1\" class=\"dataframe\">\n",
       "  <thead>\n",
       "    <tr style=\"text-align: right;\">\n",
       "      <th></th>\n",
       "      <th>Student_ID</th>\n",
       "      <th>Age</th>\n",
       "      <th>Gender</th>\n",
       "      <th>Study_Hours_per_Week</th>\n",
       "      <th>Preferred_Learning_Style</th>\n",
       "      <th>Online_Courses_Completed</th>\n",
       "      <th>Participation_in_Discussions</th>\n",
       "      <th>Assignment_Completion_Rate (%)</th>\n",
       "      <th>Exam_Score (%)</th>\n",
       "      <th>Attendance_Rate (%)</th>\n",
       "      <th>Use_of_Educational_Tech</th>\n",
       "      <th>Self_Reported_Stress_Level</th>\n",
       "      <th>Time_Spent_on_Social_Media (hours/week)</th>\n",
       "      <th>Sleep_Hours_per_Night</th>\n",
       "      <th>Final_Grade</th>\n",
       "    </tr>\n",
       "  </thead>\n",
       "  <tbody>\n",
       "    <tr>\n",
       "      <th>0</th>\n",
       "      <td>S00001</td>\n",
       "      <td>18</td>\n",
       "      <td>Female</td>\n",
       "      <td>48</td>\n",
       "      <td>Kinesthetic</td>\n",
       "      <td>14</td>\n",
       "      <td>Yes</td>\n",
       "      <td>100</td>\n",
       "      <td>69</td>\n",
       "      <td>66</td>\n",
       "      <td>Yes</td>\n",
       "      <td>High</td>\n",
       "      <td>9</td>\n",
       "      <td>8</td>\n",
       "      <td>C</td>\n",
       "    </tr>\n",
       "    <tr>\n",
       "      <th>1</th>\n",
       "      <td>S00002</td>\n",
       "      <td>29</td>\n",
       "      <td>Female</td>\n",
       "      <td>30</td>\n",
       "      <td>Reading/Writing</td>\n",
       "      <td>20</td>\n",
       "      <td>No</td>\n",
       "      <td>71</td>\n",
       "      <td>40</td>\n",
       "      <td>57</td>\n",
       "      <td>Yes</td>\n",
       "      <td>Medium</td>\n",
       "      <td>28</td>\n",
       "      <td>8</td>\n",
       "      <td>D</td>\n",
       "    </tr>\n",
       "    <tr>\n",
       "      <th>2</th>\n",
       "      <td>S00003</td>\n",
       "      <td>20</td>\n",
       "      <td>Female</td>\n",
       "      <td>47</td>\n",
       "      <td>Kinesthetic</td>\n",
       "      <td>11</td>\n",
       "      <td>No</td>\n",
       "      <td>60</td>\n",
       "      <td>43</td>\n",
       "      <td>79</td>\n",
       "      <td>Yes</td>\n",
       "      <td>Low</td>\n",
       "      <td>13</td>\n",
       "      <td>7</td>\n",
       "      <td>D</td>\n",
       "    </tr>\n",
       "    <tr>\n",
       "      <th>3</th>\n",
       "      <td>S00004</td>\n",
       "      <td>23</td>\n",
       "      <td>Female</td>\n",
       "      <td>13</td>\n",
       "      <td>Auditory</td>\n",
       "      <td>0</td>\n",
       "      <td>Yes</td>\n",
       "      <td>63</td>\n",
       "      <td>70</td>\n",
       "      <td>60</td>\n",
       "      <td>Yes</td>\n",
       "      <td>Low</td>\n",
       "      <td>24</td>\n",
       "      <td>10</td>\n",
       "      <td>B</td>\n",
       "    </tr>\n",
       "    <tr>\n",
       "      <th>4</th>\n",
       "      <td>S00005</td>\n",
       "      <td>19</td>\n",
       "      <td>Female</td>\n",
       "      <td>24</td>\n",
       "      <td>Auditory</td>\n",
       "      <td>19</td>\n",
       "      <td>Yes</td>\n",
       "      <td>59</td>\n",
       "      <td>63</td>\n",
       "      <td>93</td>\n",
       "      <td>Yes</td>\n",
       "      <td>Medium</td>\n",
       "      <td>26</td>\n",
       "      <td>8</td>\n",
       "      <td>C</td>\n",
       "    </tr>\n",
       "  </tbody>\n",
       "</table>\n",
       "</div>"
      ],
      "text/plain": [
       "  Student_ID  Age  Gender  Study_Hours_per_Week Preferred_Learning_Style  \\\n",
       "0     S00001   18  Female                    48              Kinesthetic   \n",
       "1     S00002   29  Female                    30          Reading/Writing   \n",
       "2     S00003   20  Female                    47              Kinesthetic   \n",
       "3     S00004   23  Female                    13                 Auditory   \n",
       "4     S00005   19  Female                    24                 Auditory   \n",
       "\n",
       "   Online_Courses_Completed Participation_in_Discussions  \\\n",
       "0                        14                          Yes   \n",
       "1                        20                           No   \n",
       "2                        11                           No   \n",
       "3                         0                          Yes   \n",
       "4                        19                          Yes   \n",
       "\n",
       "   Assignment_Completion_Rate (%)  Exam_Score (%)  Attendance_Rate (%)  \\\n",
       "0                             100              69                   66   \n",
       "1                              71              40                   57   \n",
       "2                              60              43                   79   \n",
       "3                              63              70                   60   \n",
       "4                              59              63                   93   \n",
       "\n",
       "  Use_of_Educational_Tech Self_Reported_Stress_Level  \\\n",
       "0                     Yes                       High   \n",
       "1                     Yes                     Medium   \n",
       "2                     Yes                        Low   \n",
       "3                     Yes                        Low   \n",
       "4                     Yes                     Medium   \n",
       "\n",
       "   Time_Spent_on_Social_Media (hours/week)  Sleep_Hours_per_Night Final_Grade  \n",
       "0                                        9                      8           C  \n",
       "1                                       28                      8           D  \n",
       "2                                       13                      7           D  \n",
       "3                                       24                     10           B  \n",
       "4                                       26                      8           C  "
      ]
     },
     "execution_count": 44,
     "metadata": {},
     "output_type": "execute_result"
    }
   ],
   "source": [
    "df.head()"
   ]
  },
  {
   "cell_type": "markdown",
   "metadata": {},
   "source": [
    "- Using cut for Binning Numerical Data\n",
    "\n",
    "cut is used to bin numerical data into discrete intervals. Let's use it to categorize the Age column into age groups:"
   ]
  },
  {
   "cell_type": "code",
   "execution_count": 45,
   "metadata": {},
   "outputs": [
    {
     "data": {
      "text/html": [
       "<div>\n",
       "<style scoped>\n",
       "    .dataframe tbody tr th:only-of-type {\n",
       "        vertical-align: middle;\n",
       "    }\n",
       "\n",
       "    .dataframe tbody tr th {\n",
       "        vertical-align: top;\n",
       "    }\n",
       "\n",
       "    .dataframe thead th {\n",
       "        text-align: right;\n",
       "    }\n",
       "</style>\n",
       "<table border=\"1\" class=\"dataframe\">\n",
       "  <thead>\n",
       "    <tr style=\"text-align: right;\">\n",
       "      <th></th>\n",
       "      <th>Age</th>\n",
       "      <th>Age_Group</th>\n",
       "    </tr>\n",
       "  </thead>\n",
       "  <tbody>\n",
       "    <tr>\n",
       "      <th>0</th>\n",
       "      <td>18</td>\n",
       "      <td>18-20</td>\n",
       "    </tr>\n",
       "    <tr>\n",
       "      <th>1</th>\n",
       "      <td>29</td>\n",
       "      <td>26-30</td>\n",
       "    </tr>\n",
       "    <tr>\n",
       "      <th>2</th>\n",
       "      <td>20</td>\n",
       "      <td>21-25</td>\n",
       "    </tr>\n",
       "    <tr>\n",
       "      <th>3</th>\n",
       "      <td>23</td>\n",
       "      <td>21-25</td>\n",
       "    </tr>\n",
       "    <tr>\n",
       "      <th>4</th>\n",
       "      <td>19</td>\n",
       "      <td>18-20</td>\n",
       "    </tr>\n",
       "  </tbody>\n",
       "</table>\n",
       "</div>"
      ],
      "text/plain": [
       "   Age Age_Group\n",
       "0   18     18-20\n",
       "1   29     26-30\n",
       "2   20     21-25\n",
       "3   23     21-25\n",
       "4   19     18-20"
      ]
     },
     "execution_count": 45,
     "metadata": {},
     "output_type": "execute_result"
    }
   ],
   "source": [
    "bins = [17, 20, 25, 30, 40]  # Define age bins\n",
    "labels = ['18-20', '21-25', '26-30', '31-40']  # Labels for the bins\n",
    "\n",
    "df['Age_Group'] = pd.cut(df['Age'], bins=bins, labels=labels, right=False)\n",
    "df[['Age', 'Age_Group']].head()"
   ]
  },
  {
   "cell_type": "markdown",
   "metadata": {},
   "source": [
    "- Using qcut for Quantile-Based Binning\n",
    "\n",
    "qcut is similar to cut, but it bins data into quantiles (equal-sized bins). Let's use it to categorize Study_Hours_per_Week into quartiles:"
   ]
  },
  {
   "cell_type": "code",
   "execution_count": 46,
   "metadata": {},
   "outputs": [
    {
     "data": {
      "text/html": [
       "<div>\n",
       "<style scoped>\n",
       "    .dataframe tbody tr th:only-of-type {\n",
       "        vertical-align: middle;\n",
       "    }\n",
       "\n",
       "    .dataframe tbody tr th {\n",
       "        vertical-align: top;\n",
       "    }\n",
       "\n",
       "    .dataframe thead th {\n",
       "        text-align: right;\n",
       "    }\n",
       "</style>\n",
       "<table border=\"1\" class=\"dataframe\">\n",
       "  <thead>\n",
       "    <tr style=\"text-align: right;\">\n",
       "      <th></th>\n",
       "      <th>Study_Hours_per_Week</th>\n",
       "      <th>Study_Hours_Quartile</th>\n",
       "    </tr>\n",
       "  </thead>\n",
       "  <tbody>\n",
       "    <tr>\n",
       "      <th>0</th>\n",
       "      <td>48</td>\n",
       "      <td>Very High</td>\n",
       "    </tr>\n",
       "    <tr>\n",
       "      <th>1</th>\n",
       "      <td>30</td>\n",
       "      <td>High</td>\n",
       "    </tr>\n",
       "    <tr>\n",
       "      <th>2</th>\n",
       "      <td>47</td>\n",
       "      <td>Very High</td>\n",
       "    </tr>\n",
       "    <tr>\n",
       "      <th>3</th>\n",
       "      <td>13</td>\n",
       "      <td>Low</td>\n",
       "    </tr>\n",
       "    <tr>\n",
       "      <th>4</th>\n",
       "      <td>24</td>\n",
       "      <td>Medium</td>\n",
       "    </tr>\n",
       "  </tbody>\n",
       "</table>\n",
       "</div>"
      ],
      "text/plain": [
       "   Study_Hours_per_Week Study_Hours_Quartile\n",
       "0                    48            Very High\n",
       "1                    30                 High\n",
       "2                    47            Very High\n",
       "3                    13                  Low\n",
       "4                    24               Medium"
      ]
     },
     "execution_count": 46,
     "metadata": {},
     "output_type": "execute_result"
    }
   ],
   "source": [
    "df['Study_Hours_Quartile'] = pd.qcut(df['Study_Hours_per_Week'], q=4, labels=['Low', 'Medium', 'High', 'Very High'])\n",
    "df[['Study_Hours_per_Week', 'Study_Hours_Quartile']].head()"
   ]
  },
  {
   "cell_type": "markdown",
   "metadata": {},
   "source": [
    "- Using map for Value Mapping\n",
    "\n",
    "map is used to transform values in a Series based on a mapping dictionary or a function. Let's use it to convert the Gender column to numerical values:"
   ]
  },
  {
   "cell_type": "code",
   "execution_count": 47,
   "metadata": {},
   "outputs": [
    {
     "data": {
      "text/plain": [
       "0    0\n",
       "1    0\n",
       "2    0\n",
       "3    0\n",
       "4    0\n",
       "Name: Gender, dtype: int64"
      ]
     },
     "execution_count": 47,
     "metadata": {},
     "output_type": "execute_result"
    }
   ],
   "source": [
    "((df.Gender == 'F')+0).head()"
   ]
  },
  {
   "cell_type": "code",
   "execution_count": 48,
   "metadata": {},
   "outputs": [
    {
     "data": {
      "text/html": [
       "<div>\n",
       "<style scoped>\n",
       "    .dataframe tbody tr th:only-of-type {\n",
       "        vertical-align: middle;\n",
       "    }\n",
       "\n",
       "    .dataframe tbody tr th {\n",
       "        vertical-align: top;\n",
       "    }\n",
       "\n",
       "    .dataframe thead th {\n",
       "        text-align: right;\n",
       "    }\n",
       "</style>\n",
       "<table border=\"1\" class=\"dataframe\">\n",
       "  <thead>\n",
       "    <tr style=\"text-align: right;\">\n",
       "      <th></th>\n",
       "      <th>Gender</th>\n",
       "      <th>Gender_Numerical</th>\n",
       "    </tr>\n",
       "  </thead>\n",
       "  <tbody>\n",
       "    <tr>\n",
       "      <th>0</th>\n",
       "      <td>Female</td>\n",
       "      <td>0.0</td>\n",
       "    </tr>\n",
       "    <tr>\n",
       "      <th>1</th>\n",
       "      <td>Female</td>\n",
       "      <td>0.0</td>\n",
       "    </tr>\n",
       "    <tr>\n",
       "      <th>2</th>\n",
       "      <td>Female</td>\n",
       "      <td>0.0</td>\n",
       "    </tr>\n",
       "    <tr>\n",
       "      <th>3</th>\n",
       "      <td>Female</td>\n",
       "      <td>0.0</td>\n",
       "    </tr>\n",
       "    <tr>\n",
       "      <th>4</th>\n",
       "      <td>Female</td>\n",
       "      <td>0.0</td>\n",
       "    </tr>\n",
       "  </tbody>\n",
       "</table>\n",
       "</div>"
      ],
      "text/plain": [
       "   Gender  Gender_Numerical\n",
       "0  Female               0.0\n",
       "1  Female               0.0\n",
       "2  Female               0.0\n",
       "3  Female               0.0\n",
       "4  Female               0.0"
      ]
     },
     "execution_count": 48,
     "metadata": {},
     "output_type": "execute_result"
    }
   ],
   "source": [
    "gender_mapping = {'Female': 0, 'Male': 1}\n",
    "df['Gender_Numerical'] = df['Gender'].map(gender_mapping)\n",
    "df[['Gender', 'Gender_Numerical']].head()"
   ]
  },
  {
   "cell_type": "markdown",
   "metadata": {},
   "source": [
    "- Using map for Custom Transformations\n",
    "\n",
    "You can also use map with a function to perform custom transformations. Let's create a simplified stress level category based on Self_Reported_Stress_Level:"
   ]
  },
  {
   "cell_type": "code",
   "execution_count": 49,
   "metadata": {},
   "outputs": [
    {
     "data": {
      "text/plain": [
       "array(['High', 'Medium', 'Low'], dtype=object)"
      ]
     },
     "execution_count": 49,
     "metadata": {},
     "output_type": "execute_result"
    }
   ],
   "source": [
    "df['Self_Reported_Stress_Level'].unique()"
   ]
  },
  {
   "cell_type": "code",
   "execution_count": 50,
   "metadata": {},
   "outputs": [
    {
     "data": {
      "text/html": [
       "<div>\n",
       "<style scoped>\n",
       "    .dataframe tbody tr th:only-of-type {\n",
       "        vertical-align: middle;\n",
       "    }\n",
       "\n",
       "    .dataframe tbody tr th {\n",
       "        vertical-align: top;\n",
       "    }\n",
       "\n",
       "    .dataframe thead th {\n",
       "        text-align: right;\n",
       "    }\n",
       "</style>\n",
       "<table border=\"1\" class=\"dataframe\">\n",
       "  <thead>\n",
       "    <tr style=\"text-align: right;\">\n",
       "      <th></th>\n",
       "      <th>Self_Reported_Stress_Level</th>\n",
       "      <th>Stress_Simplified</th>\n",
       "    </tr>\n",
       "  </thead>\n",
       "  <tbody>\n",
       "    <tr>\n",
       "      <th>3209</th>\n",
       "      <td>Medium</td>\n",
       "      <td>Moderate</td>\n",
       "    </tr>\n",
       "    <tr>\n",
       "      <th>9495</th>\n",
       "      <td>Low</td>\n",
       "      <td>LowS_tress</td>\n",
       "    </tr>\n",
       "    <tr>\n",
       "      <th>7997</th>\n",
       "      <td>Low</td>\n",
       "      <td>LowS_tress</td>\n",
       "    </tr>\n",
       "    <tr>\n",
       "      <th>5329</th>\n",
       "      <td>High</td>\n",
       "      <td>Stressed</td>\n",
       "    </tr>\n",
       "    <tr>\n",
       "      <th>945</th>\n",
       "      <td>Medium</td>\n",
       "      <td>Moderate</td>\n",
       "    </tr>\n",
       "  </tbody>\n",
       "</table>\n",
       "</div>"
      ],
      "text/plain": [
       "     Self_Reported_Stress_Level Stress_Simplified\n",
       "3209                     Medium          Moderate\n",
       "9495                        Low        LowS_tress\n",
       "7997                        Low        LowS_tress\n",
       "5329                       High          Stressed\n",
       "945                      Medium          Moderate"
      ]
     },
     "execution_count": 50,
     "metadata": {},
     "output_type": "execute_result"
    }
   ],
   "source": [
    "\n",
    "df['Stress_Simplified'] = df['Self_Reported_Stress_Level'].map({'High': \"Stressed\", 'Medium':\"Moderate\", \"Low\":\"LowS_tress\"})\n",
    "df[['Self_Reported_Stress_Level', 'Stress_Simplified']].sample(5)"
   ]
  },
  {
   "cell_type": "markdown",
   "metadata": {},
   "source": [
    "mportant Notes:\n",
    "\n",
    "Data Exploration: Before using these functions, explore your data to understand its distribution and characteristics.\n",
    "- Binning: Choose appropriate bins for cut and qcut based on your data and the desired categories.\n",
    "- Mapping: Ensure that your mapping dictionary or function covers all possible values in the column you are transforming.\n",
    "- Error Handling: If you encounter errors, check for typos in column names or mapping values.\n",
    "- Data Types: Be mindful of data types. cut and qcut work best with numerical data, while map can be used with any data type.\n",
    "- Missing Values: Handle missing values appropriately before or after applying these transformations."
   ]
  },
  {
   "cell_type": "code",
   "execution_count": null,
   "metadata": {},
   "outputs": [],
   "source": []
  },
  {
   "cell_type": "markdown",
   "metadata": {},
   "source": []
  }
 ],
 "metadata": {
  "colab": {
   "provenance": []
  },
  "kernelspec": {
   "display_name": "Python 3",
   "language": "python",
   "name": "python3"
  },
  "language_info": {
   "codemirror_mode": {
    "name": "ipython",
    "version": 3
   },
   "file_extension": ".py",
   "mimetype": "text/x-python",
   "name": "python",
   "nbconvert_exporter": "python",
   "pygments_lexer": "ipython3",
   "version": "3.12.1"
  }
 },
 "nbformat": 4,
 "nbformat_minor": 0
}
