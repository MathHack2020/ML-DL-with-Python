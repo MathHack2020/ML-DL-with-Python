{
 "cells": [
  {
   "cell_type": "markdown",
   "metadata": {},
   "source": [
    "<div style='color: #216969;\n",
    "           background-color: #EAF6F6;\n",
    "           font-size: 200%;\n",
    "           border-radius:15px;\n",
    "           text-align:center;\n",
    "           font-weight:600;\n",
    "           border-style: solid;\n",
    "           border-color: dark green;\n",
    "           font-family: \"Cambria\";'>\n",
    "feature Engingeering ....\n",
    "<a class=\"anchor\" id=\"1\"></a> "
   ]
  },
  {
   "cell_type": "markdown",
   "metadata": {},
   "source": [
    "<img src=\"https://miro.medium.com/max/1200/1*t8d6pcrhaZ3GZn31Y-U0pA.png\" width=500 ></img>\n",
    "-  Data loading\n",
    "- features restructuring\n",
    "- features elelimination"
   ]
  },
  {
   "cell_type": "code",
   "execution_count": 3,
   "metadata": {
    "id": "9ral2oVEf5HQ"
   },
   "outputs": [],
   "source": [
    "#تحميل البيانات \n",
    "import pandas as pd\n",
    "df= pd.read_csv(\"../data/HousePrice.csv\", index_col=0)"
   ]
  },
  {
   "cell_type": "markdown",
   "metadata": {},
   "source": [
    "![](../imgs/featureEngin.png)"
   ]
  },
  {
   "cell_type": "markdown",
   "metadata": {
    "id": "OxfrO8OtgX_L"
   },
   "source": [
    "![](https://image.flaticon.com/icons/png/128/3079/3079166.png)"
   ]
  },
  {
   "cell_type": "code",
   "execution_count": 4,
   "metadata": {
    "colab": {
     "base_uri": "https://localhost:8080/",
     "height": 748
    },
    "executionInfo": {
     "elapsed": 1072,
     "status": "ok",
     "timestamp": 1597831796726,
     "user": {
      "displayName": "Math Hack",
      "photoUrl": "https://lh3.googleusercontent.com/a-/AOh14GjOrJzQ2xAgyHRSCzQ3qBInmHzMPfMtIJGxB4HG=s64",
      "userId": "13730440483455885359"
     },
     "user_tz": -180
    },
    "id": "ecG8XUIJ52L8",
    "outputId": "0c2e230f-00bd-4dd3-851b-05152832c1c5"
   },
   "outputs": [
    {
     "data": {
      "text/plain": [
       "['MSZoning',\n",
       " 'Street',\n",
       " 'Alley',\n",
       " 'LotShape',\n",
       " 'LandContour',\n",
       " 'Utilities',\n",
       " 'LotConfig',\n",
       " 'LandSlope',\n",
       " 'Neighborhood',\n",
       " 'Condition1',\n",
       " 'Condition2',\n",
       " 'BldgType',\n",
       " 'HouseStyle',\n",
       " 'RoofStyle',\n",
       " 'RoofMatl',\n",
       " 'Exterior1st',\n",
       " 'Exterior2nd',\n",
       " 'MasVnrType',\n",
       " 'ExterQual',\n",
       " 'ExterCond',\n",
       " 'Foundation',\n",
       " 'BsmtQual',\n",
       " 'BsmtCond',\n",
       " 'BsmtExposure',\n",
       " 'BsmtFinType1',\n",
       " 'BsmtFinType2',\n",
       " 'Heating',\n",
       " 'HeatingQC',\n",
       " 'CentralAir',\n",
       " 'Electrical',\n",
       " 'KitchenQual',\n",
       " 'Functional',\n",
       " 'FireplaceQu',\n",
       " 'GarageType',\n",
       " 'GarageFinish',\n",
       " 'GarageQual',\n",
       " 'GarageCond',\n",
       " 'PavedDrive',\n",
       " 'PoolQC',\n",
       " 'Fence',\n",
       " 'MiscFeature',\n",
       " 'SaleType',\n",
       " 'SaleCondition']"
      ]
     },
     "execution_count": 4,
     "metadata": {},
     "output_type": "execute_result"
    }
   ],
   "source": [
    "\n",
    "# object_cols = list(df[df.select_dtypes(\"object\")].index)\n",
    "list(df.select_dtypes(\"object\").columns)"
   ]
  },
  {
   "cell_type": "code",
   "execution_count": 5,
   "metadata": {
    "colab": {
     "base_uri": "https://localhost:8080/",
     "height": 1000
    },
    "executionInfo": {
     "elapsed": 844,
     "status": "ok",
     "timestamp": 1597831796729,
     "user": {
      "displayName": "Math Hack",
      "photoUrl": "https://lh3.googleusercontent.com/a-/AOh14GjOrJzQ2xAgyHRSCzQ3qBInmHzMPfMtIJGxB4HG=s64",
      "userId": "13730440483455885359"
     },
     "user_tz": -180
    },
    "id": "LXFrFiNEGlvJ",
    "outputId": "4fece732-8e2d-465d-bce7-107dbf316fc6"
   },
   "outputs": [
    {
     "name": "stdout",
     "output_type": "stream",
     "text": [
      "<class 'pandas.core.frame.DataFrame'>\n",
      "Index: 1460 entries, 0 to 1459\n",
      "Data columns (total 81 columns):\n",
      " #   Column         Non-Null Count  Dtype  \n",
      "---  ------         --------------  -----  \n",
      " 0   Id             1460 non-null   int64  \n",
      " 1   MSSubClass     1460 non-null   int64  \n",
      " 2   MSZoning       1460 non-null   object \n",
      " 3   LotFrontage    1201 non-null   float64\n",
      " 4   LotArea        1460 non-null   int64  \n",
      " 5   Street         1460 non-null   object \n",
      " 6   Alley          91 non-null     object \n",
      " 7   LotShape       1460 non-null   object \n",
      " 8   LandContour    1460 non-null   object \n",
      " 9   Utilities      1460 non-null   object \n",
      " 10  LotConfig      1460 non-null   object \n",
      " 11  LandSlope      1460 non-null   object \n",
      " 12  Neighborhood   1460 non-null   object \n",
      " 13  Condition1     1460 non-null   object \n",
      " 14  Condition2     1460 non-null   object \n",
      " 15  BldgType       1460 non-null   object \n",
      " 16  HouseStyle     1460 non-null   object \n",
      " 17  OverallQual    1460 non-null   int64  \n",
      " 18  OverallCond    1460 non-null   int64  \n",
      " 19  YearBuilt      1460 non-null   int64  \n",
      " 20  YearRemodAdd   1460 non-null   int64  \n",
      " 21  RoofStyle      1460 non-null   object \n",
      " 22  RoofMatl       1460 non-null   object \n",
      " 23  Exterior1st    1460 non-null   object \n",
      " 24  Exterior2nd    1460 non-null   object \n",
      " 25  MasVnrType     588 non-null    object \n",
      " 26  MasVnrArea     1452 non-null   float64\n",
      " 27  ExterQual      1460 non-null   object \n",
      " 28  ExterCond      1460 non-null   object \n",
      " 29  Foundation     1460 non-null   object \n",
      " 30  BsmtQual       1423 non-null   object \n",
      " 31  BsmtCond       1423 non-null   object \n",
      " 32  BsmtExposure   1422 non-null   object \n",
      " 33  BsmtFinType1   1423 non-null   object \n",
      " 34  BsmtFinSF1     1460 non-null   int64  \n",
      " 35  BsmtFinType2   1422 non-null   object \n",
      " 36  BsmtFinSF2     1460 non-null   int64  \n",
      " 37  BsmtUnfSF      1460 non-null   int64  \n",
      " 38  TotalBsmtSF    1460 non-null   int64  \n",
      " 39  Heating        1460 non-null   object \n",
      " 40  HeatingQC      1460 non-null   object \n",
      " 41  CentralAir     1460 non-null   object \n",
      " 42  Electrical     1459 non-null   object \n",
      " 43  1stFlrSF       1460 non-null   int64  \n",
      " 44  2ndFlrSF       1460 non-null   int64  \n",
      " 45  LowQualFinSF   1460 non-null   int64  \n",
      " 46  GrLivArea      1460 non-null   int64  \n",
      " 47  BsmtFullBath   1460 non-null   int64  \n",
      " 48  BsmtHalfBath   1460 non-null   int64  \n",
      " 49  FullBath       1460 non-null   int64  \n",
      " 50  HalfBath       1460 non-null   int64  \n",
      " 51  BedroomAbvGr   1460 non-null   int64  \n",
      " 52  KitchenAbvGr   1460 non-null   int64  \n",
      " 53  KitchenQual    1460 non-null   object \n",
      " 54  TotRmsAbvGrd   1460 non-null   int64  \n",
      " 55  Functional     1460 non-null   object \n",
      " 56  Fireplaces     1460 non-null   int64  \n",
      " 57  FireplaceQu    770 non-null    object \n",
      " 58  GarageType     1379 non-null   object \n",
      " 59  GarageYrBlt    1379 non-null   float64\n",
      " 60  GarageFinish   1379 non-null   object \n",
      " 61  GarageCars     1460 non-null   int64  \n",
      " 62  GarageArea     1460 non-null   int64  \n",
      " 63  GarageQual     1379 non-null   object \n",
      " 64  GarageCond     1379 non-null   object \n",
      " 65  PavedDrive     1460 non-null   object \n",
      " 66  WoodDeckSF     1460 non-null   int64  \n",
      " 67  OpenPorchSF    1460 non-null   int64  \n",
      " 68  EnclosedPorch  1460 non-null   int64  \n",
      " 69  3SsnPorch      1460 non-null   int64  \n",
      " 70  ScreenPorch    1460 non-null   int64  \n",
      " 71  PoolArea       1460 non-null   int64  \n",
      " 72  PoolQC         7 non-null      object \n",
      " 73  Fence          281 non-null    object \n",
      " 74  MiscFeature    54 non-null     object \n",
      " 75  MiscVal        1460 non-null   int64  \n",
      " 76  MoSold         1460 non-null   int64  \n",
      " 77  YrSold         1460 non-null   int64  \n",
      " 78  SaleType       1460 non-null   object \n",
      " 79  SaleCondition  1460 non-null   object \n",
      " 80  SalePrice      1460 non-null   int64  \n",
      "dtypes: float64(3), int64(35), object(43)\n",
      "memory usage: 935.3+ KB\n"
     ]
    }
   ],
   "source": [
    "df.info()"
   ]
  },
  {
   "cell_type": "code",
   "execution_count": 6,
   "metadata": {
    "colab": {
     "base_uri": "https://localhost:8080/",
     "height": 191
    },
    "executionInfo": {
     "elapsed": 1141,
     "status": "ok",
     "timestamp": 1597831797298,
     "user": {
      "displayName": "Math Hack",
      "photoUrl": "https://lh3.googleusercontent.com/a-/AOh14GjOrJzQ2xAgyHRSCzQ3qBInmHzMPfMtIJGxB4HG=s64",
      "userId": "13730440483455885359"
     },
     "user_tz": -180
    },
    "id": "5Ygij5P93VAR",
    "outputId": "ef9014f8-3ec6-43ab-c969-b52f68b3e3e2"
   },
   "outputs": [
    {
     "data": {
      "text/html": [
       "<div>\n",
       "<style scoped>\n",
       "    .dataframe tbody tr th:only-of-type {\n",
       "        vertical-align: middle;\n",
       "    }\n",
       "\n",
       "    .dataframe tbody tr th {\n",
       "        vertical-align: top;\n",
       "    }\n",
       "\n",
       "    .dataframe thead th {\n",
       "        text-align: right;\n",
       "    }\n",
       "</style>\n",
       "<table border=\"1\" class=\"dataframe\">\n",
       "  <thead>\n",
       "    <tr style=\"text-align: right;\">\n",
       "      <th></th>\n",
       "      <th>Id</th>\n",
       "      <th>MSSubClass</th>\n",
       "      <th>MSZoning</th>\n",
       "      <th>LotFrontage</th>\n",
       "      <th>LotArea</th>\n",
       "      <th>Street</th>\n",
       "      <th>Alley</th>\n",
       "      <th>LotShape</th>\n",
       "      <th>LandContour</th>\n",
       "      <th>Utilities</th>\n",
       "      <th>...</th>\n",
       "      <th>PoolArea</th>\n",
       "      <th>PoolQC</th>\n",
       "      <th>Fence</th>\n",
       "      <th>MiscFeature</th>\n",
       "      <th>MiscVal</th>\n",
       "      <th>MoSold</th>\n",
       "      <th>YrSold</th>\n",
       "      <th>SaleType</th>\n",
       "      <th>SaleCondition</th>\n",
       "      <th>SalePrice</th>\n",
       "    </tr>\n",
       "  </thead>\n",
       "  <tbody>\n",
       "    <tr>\n",
       "      <th>210</th>\n",
       "      <td>211</td>\n",
       "      <td>30</td>\n",
       "      <td>RL</td>\n",
       "      <td>67.0</td>\n",
       "      <td>5604</td>\n",
       "      <td>Pave</td>\n",
       "      <td>NaN</td>\n",
       "      <td>Reg</td>\n",
       "      <td>Lvl</td>\n",
       "      <td>AllPub</td>\n",
       "      <td>...</td>\n",
       "      <td>0</td>\n",
       "      <td>NaN</td>\n",
       "      <td>NaN</td>\n",
       "      <td>NaN</td>\n",
       "      <td>0</td>\n",
       "      <td>4</td>\n",
       "      <td>2008</td>\n",
       "      <td>WD</td>\n",
       "      <td>Normal</td>\n",
       "      <td>98000</td>\n",
       "    </tr>\n",
       "    <tr>\n",
       "      <th>156</th>\n",
       "      <td>157</td>\n",
       "      <td>20</td>\n",
       "      <td>RL</td>\n",
       "      <td>60.0</td>\n",
       "      <td>7200</td>\n",
       "      <td>Pave</td>\n",
       "      <td>NaN</td>\n",
       "      <td>Reg</td>\n",
       "      <td>Lvl</td>\n",
       "      <td>AllPub</td>\n",
       "      <td>...</td>\n",
       "      <td>0</td>\n",
       "      <td>NaN</td>\n",
       "      <td>NaN</td>\n",
       "      <td>NaN</td>\n",
       "      <td>0</td>\n",
       "      <td>6</td>\n",
       "      <td>2006</td>\n",
       "      <td>WD</td>\n",
       "      <td>Normal</td>\n",
       "      <td>109500</td>\n",
       "    </tr>\n",
       "    <tr>\n",
       "      <th>659</th>\n",
       "      <td>660</td>\n",
       "      <td>20</td>\n",
       "      <td>RL</td>\n",
       "      <td>75.0</td>\n",
       "      <td>9937</td>\n",
       "      <td>Pave</td>\n",
       "      <td>NaN</td>\n",
       "      <td>Reg</td>\n",
       "      <td>Lvl</td>\n",
       "      <td>AllPub</td>\n",
       "      <td>...</td>\n",
       "      <td>0</td>\n",
       "      <td>NaN</td>\n",
       "      <td>MnPrv</td>\n",
       "      <td>NaN</td>\n",
       "      <td>0</td>\n",
       "      <td>3</td>\n",
       "      <td>2009</td>\n",
       "      <td>WD</td>\n",
       "      <td>Normal</td>\n",
       "      <td>167000</td>\n",
       "    </tr>\n",
       "  </tbody>\n",
       "</table>\n",
       "<p>3 rows × 81 columns</p>\n",
       "</div>"
      ],
      "text/plain": [
       "      Id  MSSubClass MSZoning  LotFrontage  LotArea Street Alley LotShape  \\\n",
       "210  211          30       RL         67.0     5604   Pave   NaN      Reg   \n",
       "156  157          20       RL         60.0     7200   Pave   NaN      Reg   \n",
       "659  660          20       RL         75.0     9937   Pave   NaN      Reg   \n",
       "\n",
       "    LandContour Utilities  ... PoolArea PoolQC  Fence MiscFeature MiscVal  \\\n",
       "210         Lvl    AllPub  ...        0    NaN    NaN         NaN       0   \n",
       "156         Lvl    AllPub  ...        0    NaN    NaN         NaN       0   \n",
       "659         Lvl    AllPub  ...        0    NaN  MnPrv         NaN       0   \n",
       "\n",
       "    MoSold YrSold  SaleType  SaleCondition  SalePrice  \n",
       "210      4   2008        WD         Normal      98000  \n",
       "156      6   2006        WD         Normal     109500  \n",
       "659      3   2009        WD         Normal     167000  \n",
       "\n",
       "[3 rows x 81 columns]"
      ]
     },
     "execution_count": 6,
     "metadata": {},
     "output_type": "execute_result"
    }
   ],
   "source": [
    "df.sample(3)"
   ]
  },
  {
   "cell_type": "code",
   "execution_count": 7,
   "metadata": {},
   "outputs": [
    {
     "data": {
      "text/plain": [
       "Index(['Id', 'MSSubClass', 'LotFrontage', 'LotArea', 'OverallQual',\n",
       "       'OverallCond', 'YearBuilt', 'YearRemodAdd', 'MasVnrArea', 'BsmtFinSF1',\n",
       "       'BsmtFinSF2', 'BsmtUnfSF', 'TotalBsmtSF', '1stFlrSF', '2ndFlrSF',\n",
       "       'LowQualFinSF', 'GrLivArea', 'BsmtFullBath', 'BsmtHalfBath', 'FullBath',\n",
       "       'HalfBath', 'BedroomAbvGr', 'KitchenAbvGr', 'TotRmsAbvGrd',\n",
       "       'Fireplaces', 'GarageYrBlt', 'GarageCars', 'GarageArea', 'WoodDeckSF',\n",
       "       'OpenPorchSF', 'EnclosedPorch', '3SsnPorch', 'ScreenPorch', 'PoolArea',\n",
       "       'MiscVal', 'MoSold', 'YrSold', 'SalePrice'],\n",
       "      dtype='object')"
      ]
     },
     "execution_count": 7,
     "metadata": {},
     "output_type": "execute_result"
    }
   ],
   "source": [
    "df.select_dtypes(include=\"number\").columns"
   ]
  },
  {
   "cell_type": "code",
   "execution_count": 8,
   "metadata": {
    "id": "lnl3SEfag62k"
   },
   "outputs": [],
   "source": [
    "df[\"TotalSF\"] = df[\"GarageArea\"] + df[\"TotalBsmtSF\"]\n",
    "df[\"TotalPorchSF\"] = df[\"OpenPorchSF\"] + df[\"EnclosedPorch\"] + df[\"3SsnPorch\"] + df[\"ScreenPorch\"]\n",
    "df[\"TotalBath\"] = df[\"FullBath\"] + df[\"BsmtFullBath\"] + 0.5 * (df[\"BsmtHalfBath\"] + df[\"HalfBath\"])"
   ]
  },
  {
   "cell_type": "code",
   "execution_count": 9,
   "metadata": {
    "id": "lTha7wj5hj9s"
   },
   "outputs": [],
   "source": [
    "#  حذف البيانات التي تم ادماجها   \n",
    "df.drop([\"GrLivArea\", \"TotalBsmtSF\" , \"OpenPorchSF\", \"EnclosedPorch\", \"3SsnPorch\", \"ScreenPorch\" , \"FullBath\" , \n",
    "         \"BsmtFullBath\", \"BsmtHalfBath\", \"HalfBath\"  ], axis=1, inplace=True)"
   ]
  },
  {
   "cell_type": "code",
   "execution_count": 10,
   "metadata": {
    "colab": {
     "base_uri": "https://localhost:8080/",
     "height": 193
    },
    "executionInfo": {
     "elapsed": 954,
     "status": "ok",
     "timestamp": 1597831798577,
     "user": {
      "displayName": "Math Hack",
      "photoUrl": "https://lh3.googleusercontent.com/a-/AOh14GjOrJzQ2xAgyHRSCzQ3qBInmHzMPfMtIJGxB4HG=s64",
      "userId": "13730440483455885359"
     },
     "user_tz": -180
    },
    "id": "PdTPoHmWo-1R",
    "outputId": "7a05f2d1-238f-4987-90d4-283ab7ba8050"
   },
   "outputs": [
    {
     "data": {
      "text/html": [
       "<div>\n",
       "<style scoped>\n",
       "    .dataframe tbody tr th:only-of-type {\n",
       "        vertical-align: middle;\n",
       "    }\n",
       "\n",
       "    .dataframe tbody tr th {\n",
       "        vertical-align: top;\n",
       "    }\n",
       "\n",
       "    .dataframe thead th {\n",
       "        text-align: right;\n",
       "    }\n",
       "</style>\n",
       "<table border=\"1\" class=\"dataframe\">\n",
       "  <thead>\n",
       "    <tr style=\"text-align: right;\">\n",
       "      <th></th>\n",
       "      <th>Id</th>\n",
       "      <th>MSSubClass</th>\n",
       "      <th>MSZoning</th>\n",
       "      <th>LotFrontage</th>\n",
       "      <th>LotArea</th>\n",
       "      <th>Street</th>\n",
       "      <th>Alley</th>\n",
       "      <th>LotShape</th>\n",
       "      <th>LandContour</th>\n",
       "      <th>Utilities</th>\n",
       "      <th>...</th>\n",
       "      <th>MiscFeature</th>\n",
       "      <th>MiscVal</th>\n",
       "      <th>MoSold</th>\n",
       "      <th>YrSold</th>\n",
       "      <th>SaleType</th>\n",
       "      <th>SaleCondition</th>\n",
       "      <th>SalePrice</th>\n",
       "      <th>TotalSF</th>\n",
       "      <th>TotalPorchSF</th>\n",
       "      <th>TotalBath</th>\n",
       "    </tr>\n",
       "  </thead>\n",
       "  <tbody>\n",
       "    <tr>\n",
       "      <th>0</th>\n",
       "      <td>1</td>\n",
       "      <td>60</td>\n",
       "      <td>RL</td>\n",
       "      <td>65.0</td>\n",
       "      <td>8450</td>\n",
       "      <td>Pave</td>\n",
       "      <td>NaN</td>\n",
       "      <td>Reg</td>\n",
       "      <td>Lvl</td>\n",
       "      <td>AllPub</td>\n",
       "      <td>...</td>\n",
       "      <td>NaN</td>\n",
       "      <td>0</td>\n",
       "      <td>2</td>\n",
       "      <td>2008</td>\n",
       "      <td>WD</td>\n",
       "      <td>Normal</td>\n",
       "      <td>208500</td>\n",
       "      <td>1404</td>\n",
       "      <td>61</td>\n",
       "      <td>3.5</td>\n",
       "    </tr>\n",
       "    <tr>\n",
       "      <th>1</th>\n",
       "      <td>2</td>\n",
       "      <td>20</td>\n",
       "      <td>RL</td>\n",
       "      <td>80.0</td>\n",
       "      <td>9600</td>\n",
       "      <td>Pave</td>\n",
       "      <td>NaN</td>\n",
       "      <td>Reg</td>\n",
       "      <td>Lvl</td>\n",
       "      <td>AllPub</td>\n",
       "      <td>...</td>\n",
       "      <td>NaN</td>\n",
       "      <td>0</td>\n",
       "      <td>5</td>\n",
       "      <td>2007</td>\n",
       "      <td>WD</td>\n",
       "      <td>Normal</td>\n",
       "      <td>181500</td>\n",
       "      <td>1722</td>\n",
       "      <td>0</td>\n",
       "      <td>2.5</td>\n",
       "    </tr>\n",
       "    <tr>\n",
       "      <th>2</th>\n",
       "      <td>3</td>\n",
       "      <td>60</td>\n",
       "      <td>RL</td>\n",
       "      <td>68.0</td>\n",
       "      <td>11250</td>\n",
       "      <td>Pave</td>\n",
       "      <td>NaN</td>\n",
       "      <td>IR1</td>\n",
       "      <td>Lvl</td>\n",
       "      <td>AllPub</td>\n",
       "      <td>...</td>\n",
       "      <td>NaN</td>\n",
       "      <td>0</td>\n",
       "      <td>9</td>\n",
       "      <td>2008</td>\n",
       "      <td>WD</td>\n",
       "      <td>Normal</td>\n",
       "      <td>223500</td>\n",
       "      <td>1528</td>\n",
       "      <td>42</td>\n",
       "      <td>3.5</td>\n",
       "    </tr>\n",
       "    <tr>\n",
       "      <th>3</th>\n",
       "      <td>4</td>\n",
       "      <td>70</td>\n",
       "      <td>RL</td>\n",
       "      <td>60.0</td>\n",
       "      <td>9550</td>\n",
       "      <td>Pave</td>\n",
       "      <td>NaN</td>\n",
       "      <td>IR1</td>\n",
       "      <td>Lvl</td>\n",
       "      <td>AllPub</td>\n",
       "      <td>...</td>\n",
       "      <td>NaN</td>\n",
       "      <td>0</td>\n",
       "      <td>2</td>\n",
       "      <td>2006</td>\n",
       "      <td>WD</td>\n",
       "      <td>Abnorml</td>\n",
       "      <td>140000</td>\n",
       "      <td>1398</td>\n",
       "      <td>307</td>\n",
       "      <td>2.0</td>\n",
       "    </tr>\n",
       "  </tbody>\n",
       "</table>\n",
       "<p>4 rows × 74 columns</p>\n",
       "</div>"
      ],
      "text/plain": [
       "   Id  MSSubClass MSZoning  LotFrontage  LotArea Street Alley LotShape  \\\n",
       "0   1          60       RL         65.0     8450   Pave   NaN      Reg   \n",
       "1   2          20       RL         80.0     9600   Pave   NaN      Reg   \n",
       "2   3          60       RL         68.0    11250   Pave   NaN      IR1   \n",
       "3   4          70       RL         60.0     9550   Pave   NaN      IR1   \n",
       "\n",
       "  LandContour Utilities  ... MiscFeature MiscVal MoSold YrSold SaleType  \\\n",
       "0         Lvl    AllPub  ...         NaN       0      2   2008       WD   \n",
       "1         Lvl    AllPub  ...         NaN       0      5   2007       WD   \n",
       "2         Lvl    AllPub  ...         NaN       0      9   2008       WD   \n",
       "3         Lvl    AllPub  ...         NaN       0      2   2006       WD   \n",
       "\n",
       "  SaleCondition SalePrice  TotalSF  TotalPorchSF  TotalBath  \n",
       "0        Normal    208500     1404            61        3.5  \n",
       "1        Normal    181500     1722             0        2.5  \n",
       "2        Normal    223500     1528            42        3.5  \n",
       "3       Abnorml    140000     1398           307        2.0  \n",
       "\n",
       "[4 rows x 74 columns]"
      ]
     },
     "execution_count": 10,
     "metadata": {},
     "output_type": "execute_result"
    }
   ],
   "source": [
    "df.head(4)"
   ]
  },
  {
   "cell_type": "markdown",
   "metadata": {
    "id": "-fozCDbUZcZM"
   },
   "source": [
    "## تحديد التصنيفات"
   ]
  },
  {
   "cell_type": "code",
   "execution_count": 11,
   "metadata": {
    "colab": {
     "base_uri": "https://localhost:8080/",
     "height": 1000
    },
    "executionInfo": {
     "elapsed": 778,
     "status": "ok",
     "timestamp": 1597831800474,
     "user": {
      "displayName": "Math Hack",
      "photoUrl": "https://lh3.googleusercontent.com/a-/AOh14GjOrJzQ2xAgyHRSCzQ3qBInmHzMPfMtIJGxB4HG=s64",
      "userId": "13730440483455885359"
     },
     "user_tz": -180
    },
    "id": "T_04aF3xz3yS",
    "outputId": "a44ff9c5-bf6d-4f89-e299-ba73ae714c21"
   },
   "outputs": [
    {
     "name": "stdout",
     "output_type": "stream",
     "text": [
      " MSSubClass :   [ 60  20  70  50 190  45  90 120  30  85  80 160  75 180  40]  \n",
      " MSZoning :   ['RL' 'RM' 'C (all)' 'FV' 'RH']  \n",
      " Street :   ['Pave' 'Grvl']  \n",
      " Alley :   [nan 'Grvl' 'Pave']  \n",
      " LotShape :   ['Reg' 'IR1' 'IR2' 'IR3']  \n",
      " LandContour :   ['Lvl' 'Bnk' 'Low' 'HLS']  \n",
      " Utilities :   ['AllPub' 'NoSeWa']  \n",
      " LotConfig :   ['Inside' 'FR2' 'Corner' 'CulDSac' 'FR3']  \n",
      " LandSlope :   ['Gtl' 'Mod' 'Sev']  \n",
      " Condition1 :   ['Norm' 'Feedr' 'PosN' 'Artery' 'RRAe' 'RRNn' 'RRAn' 'PosA' 'RRNe']  \n",
      " Condition2 :   ['Norm' 'Artery' 'RRNn' 'Feedr' 'PosN' 'PosA' 'RRAn' 'RRAe']  \n",
      " BldgType :   ['1Fam' '2fmCon' 'Duplex' 'TwnhsE' 'Twnhs']  \n",
      " HouseStyle :   ['2Story' '1Story' '1.5Fin' '1.5Unf' 'SFoyer' 'SLvl' '2.5Unf' '2.5Fin']  \n",
      " OverallQual :   [ 7  6  8  5  9  4 10  3  1  2]  \n",
      " OverallCond :   [5 8 6 7 4 2 3 9 1]  \n",
      " RoofStyle :   ['Gable' 'Hip' 'Gambrel' 'Mansard' 'Flat' 'Shed']  \n",
      " RoofMatl :   ['CompShg' 'WdShngl' 'Metal' 'WdShake' 'Membran' 'Tar&Grv' 'Roll'\n",
      " 'ClyTile']  \n",
      " Exterior1st :   ['VinylSd' 'MetalSd' 'Wd Sdng' 'HdBoard' 'BrkFace' 'WdShing' 'CemntBd'\n",
      " 'Plywood' 'AsbShng' 'Stucco' 'BrkComm' 'AsphShn' 'Stone' 'ImStucc'\n",
      " 'CBlock']  \n",
      " Exterior2nd :   ['VinylSd' 'MetalSd' 'Wd Shng' 'HdBoard' 'Plywood' 'Wd Sdng' 'CmentBd'\n",
      " 'BrkFace' 'Stucco' 'AsbShng' 'Brk Cmn' 'ImStucc' 'AsphShn' 'Stone'\n",
      " 'Other' 'CBlock']  \n",
      " MasVnrType :   ['BrkFace' nan 'Stone' 'BrkCmn']  \n",
      " ExterQual :   ['Gd' 'TA' 'Ex' 'Fa']  \n",
      " ExterCond :   ['TA' 'Gd' 'Fa' 'Po' 'Ex']  \n",
      " Foundation :   ['PConc' 'CBlock' 'BrkTil' 'Wood' 'Slab' 'Stone']  \n",
      " BsmtQual :   ['Gd' 'TA' 'Ex' nan 'Fa']  \n",
      " BsmtCond :   ['TA' 'Gd' nan 'Fa' 'Po']  \n",
      " BsmtExposure :   ['No' 'Gd' 'Mn' 'Av' nan]  \n",
      " BsmtFinType1 :   ['GLQ' 'ALQ' 'Unf' 'Rec' 'BLQ' nan 'LwQ']  \n",
      " BsmtFinType2 :   ['Unf' 'BLQ' nan 'ALQ' 'Rec' 'LwQ' 'GLQ']  \n",
      " Heating :   ['GasA' 'GasW' 'Grav' 'Wall' 'OthW' 'Floor']  \n",
      " HeatingQC :   ['Ex' 'Gd' 'TA' 'Fa' 'Po']  \n",
      " CentralAir :   ['Y' 'N']  \n",
      " Electrical :   ['SBrkr' 'FuseF' 'FuseA' 'FuseP' 'Mix' nan]  \n",
      " BedroomAbvGr :   [3 4 1 2 0 5 6 8]  \n",
      " KitchenAbvGr :   [1 2 3 0]  \n",
      " KitchenQual :   ['Gd' 'TA' 'Ex' 'Fa']  \n",
      " TotRmsAbvGrd :   [ 8  6  7  9  5 11  4 10 12  3  2 14]  \n",
      " Functional :   ['Typ' 'Min1' 'Maj1' 'Min2' 'Mod' 'Maj2' 'Sev']  \n",
      " Fireplaces :   [0 1 2 3]  \n",
      " FireplaceQu :   [nan 'TA' 'Gd' 'Fa' 'Ex' 'Po']  \n",
      " GarageType :   ['Attchd' 'Detchd' 'BuiltIn' 'CarPort' nan 'Basment' '2Types']  \n",
      " GarageFinish :   ['RFn' 'Unf' 'Fin' nan]  \n",
      " GarageCars :   [2 3 1 0 4]  \n",
      " GarageQual :   ['TA' 'Fa' 'Gd' nan 'Ex' 'Po']  \n",
      " GarageCond :   ['TA' 'Fa' nan 'Gd' 'Po' 'Ex']  \n",
      " PavedDrive :   ['Y' 'N' 'P']  \n",
      " PoolArea :   [  0 512 648 576 555 480 519 738]  \n",
      " PoolQC :   [nan 'Ex' 'Fa' 'Gd']  \n",
      " Fence :   [nan 'MnPrv' 'GdWo' 'GdPrv' 'MnWw']  \n",
      " MiscFeature :   [nan 'Shed' 'Gar2' 'Othr' 'TenC']  \n",
      " MoSold :   [ 2  5  9 12 10  8 11  4  1  7  3  6]  \n",
      " YrSold :   [2008 2007 2006 2009 2010]  \n",
      " SaleType :   ['WD' 'New' 'COD' 'ConLD' 'ConLI' 'CWD' 'ConLw' 'Con' 'Oth']  \n",
      " SaleCondition :   ['Normal' 'Abnorml' 'Partial' 'AdjLand' 'Alloca' 'Family']  \n",
      " TotalBath :   [3.5 2.5 2.  3.  4.  1.  1.5 4.5 6.  5. ]  \n"
     ]
    }
   ],
   "source": [
    "# تحديد المتغيرات التي تقل تصنيفاتها على 4 \n",
    "for col in df.columns:\n",
    "    if df[col].nunique()< 20:\n",
    "        print(f\" {col} :   {df[col].unique()}  \" )"
   ]
  },
  {
   "cell_type": "code",
   "execution_count": null,
   "metadata": {
    "id": "QklqXOlUGVDB"
   },
   "outputs": [],
   "source": []
  },
  {
   "cell_type": "code",
   "execution_count": null,
   "metadata": {
    "id": "LY26C-P3GVG4"
   },
   "outputs": [],
   "source": []
  },
  {
   "cell_type": "markdown",
   "metadata": {
    "id": "D9BUPnmNlkeK"
   },
   "source": [
    "-  Categoty تعديل المتغيرات التصنيفية من كائن إلى تصنيف  "
   ]
  },
  {
   "cell_type": "markdown",
   "metadata": {
    "id": "hp9IINX6A-B0"
   },
   "source": [
    "--   $$\\large \\text { كل القيم التي لا تشهد تغييرا في بيانتها وجب الاستغناء عنها}$$"
   ]
  },
  {
   "cell_type": "code",
   "execution_count": 12,
   "metadata": {
    "colab": {
     "base_uri": "https://localhost:8080/",
     "height": 904
    },
    "executionInfo": {
     "elapsed": 1151,
     "status": "ok",
     "timestamp": 1597831966164,
     "user": {
      "displayName": "Math Hack",
      "photoUrl": "https://lh3.googleusercontent.com/a-/AOh14GjOrJzQ2xAgyHRSCzQ3qBInmHzMPfMtIJGxB4HG=s64",
      "userId": "13730440483455885359"
     },
     "user_tz": -180
    },
    "id": "wZcANfjxA9-s",
    "outputId": "33f8d4cb-f526-4d0a-c098-18596eca7beb"
   },
   "outputs": [
    {
     "name": "stdout",
     "output_type": "stream",
     "text": [
      " MSZoning------------------------------------------ :   ['RL' 'RM' 'C (all)' 'FV' 'RH'] & Mising Values ( 0.0) \n",
      " Street-------------------------------------------- :   ['Pave' 'Grvl'] & Mising Values ( 0.0) \n",
      " Alley--------------------------------------------- :   [nan 'Grvl' 'Pave'] & Mising Values ( 0.938) \n",
      " LotShape------------------------------------------ :   ['Reg' 'IR1' 'IR2' 'IR3'] & Mising Values ( 0.0) \n",
      " LandContour--------------------------------------- :   ['Lvl' 'Bnk' 'Low' 'HLS'] & Mising Values ( 0.0) \n",
      " Utilities----------------------------------------- :   ['AllPub' 'NoSeWa'] & Mising Values ( 0.0) \n",
      " LotConfig----------------------------------------- :   ['Inside' 'FR2' 'Corner' 'CulDSac' 'FR3'] & Mising Values ( 0.0) \n",
      " LandSlope----------------------------------------- :   ['Gtl' 'Mod' 'Sev'] & Mising Values ( 0.0) \n",
      " Neighborhood-------------------------------------- :   ['CollgCr' 'Veenker' 'Crawfor' 'NoRidge' 'Mitchel' 'Somerst' 'NWAmes'\n",
      " 'OldTown' 'BrkSide' 'Sawyer' 'NridgHt' 'NAmes' 'SawyerW' 'IDOTRR'\n",
      " 'MeadowV' 'Edwards' 'Timber' 'Gilbert' 'StoneBr' 'ClearCr' 'NPkVill'\n",
      " 'Blmngtn' 'BrDale' 'SWISU' 'Blueste'] & Mising Values ( 0.0) \n",
      " Condition1---------------------------------------- :   ['Norm' 'Feedr' 'PosN' 'Artery' 'RRAe' 'RRNn' 'RRAn' 'PosA' 'RRNe'] & Mising Values ( 0.0) \n",
      " Condition2---------------------------------------- :   ['Norm' 'Artery' 'RRNn' 'Feedr' 'PosN' 'PosA' 'RRAn' 'RRAe'] & Mising Values ( 0.0) \n",
      " BldgType------------------------------------------ :   ['1Fam' '2fmCon' 'Duplex' 'TwnhsE' 'Twnhs'] & Mising Values ( 0.0) \n",
      " HouseStyle---------------------------------------- :   ['2Story' '1Story' '1.5Fin' '1.5Unf' 'SFoyer' 'SLvl' '2.5Unf' '2.5Fin'] & Mising Values ( 0.0) \n",
      " RoofStyle----------------------------------------- :   ['Gable' 'Hip' 'Gambrel' 'Mansard' 'Flat' 'Shed'] & Mising Values ( 0.0) \n",
      " RoofMatl------------------------------------------ :   ['CompShg' 'WdShngl' 'Metal' 'WdShake' 'Membran' 'Tar&Grv' 'Roll'\n",
      " 'ClyTile'] & Mising Values ( 0.0) \n",
      " Exterior1st--------------------------------------- :   ['VinylSd' 'MetalSd' 'Wd Sdng' 'HdBoard' 'BrkFace' 'WdShing' 'CemntBd'\n",
      " 'Plywood' 'AsbShng' 'Stucco' 'BrkComm' 'AsphShn' 'Stone' 'ImStucc'\n",
      " 'CBlock'] & Mising Values ( 0.0) \n",
      " Exterior2nd--------------------------------------- :   ['VinylSd' 'MetalSd' 'Wd Shng' 'HdBoard' 'Plywood' 'Wd Sdng' 'CmentBd'\n",
      " 'BrkFace' 'Stucco' 'AsbShng' 'Brk Cmn' 'ImStucc' 'AsphShn' 'Stone'\n",
      " 'Other' 'CBlock'] & Mising Values ( 0.0) \n",
      " MasVnrType---------------------------------------- :   ['BrkFace' nan 'Stone' 'BrkCmn'] & Mising Values ( 0.597) \n",
      " ExterQual----------------------------------------- :   ['Gd' 'TA' 'Ex' 'Fa'] & Mising Values ( 0.0) \n",
      " ExterCond----------------------------------------- :   ['TA' 'Gd' 'Fa' 'Po' 'Ex'] & Mising Values ( 0.0) \n",
      " Foundation---------------------------------------- :   ['PConc' 'CBlock' 'BrkTil' 'Wood' 'Slab' 'Stone'] & Mising Values ( 0.0) \n",
      " BsmtQual------------------------------------------ :   ['Gd' 'TA' 'Ex' nan 'Fa'] & Mising Values ( 0.0253) \n",
      " BsmtCond------------------------------------------ :   ['TA' 'Gd' nan 'Fa' 'Po'] & Mising Values ( 0.0253) \n",
      " BsmtExposure-------------------------------------- :   ['No' 'Gd' 'Mn' 'Av' nan] & Mising Values ( 0.026) \n",
      " BsmtFinType1-------------------------------------- :   ['GLQ' 'ALQ' 'Unf' 'Rec' 'BLQ' nan 'LwQ'] & Mising Values ( 0.0253) \n",
      " BsmtFinType2-------------------------------------- :   ['Unf' 'BLQ' nan 'ALQ' 'Rec' 'LwQ' 'GLQ'] & Mising Values ( 0.026) \n",
      " Heating------------------------------------------- :   ['GasA' 'GasW' 'Grav' 'Wall' 'OthW' 'Floor'] & Mising Values ( 0.0) \n",
      " HeatingQC----------------------------------------- :   ['Ex' 'Gd' 'TA' 'Fa' 'Po'] & Mising Values ( 0.0) \n",
      " CentralAir---------------------------------------- :   ['Y' 'N'] & Mising Values ( 0.0) \n",
      " Electrical---------------------------------------- :   ['SBrkr' 'FuseF' 'FuseA' 'FuseP' 'Mix' nan] & Mising Values ( 0.000685) \n",
      " KitchenQual--------------------------------------- :   ['Gd' 'TA' 'Ex' 'Fa'] & Mising Values ( 0.0) \n",
      " Functional---------------------------------------- :   ['Typ' 'Min1' 'Maj1' 'Min2' 'Mod' 'Maj2' 'Sev'] & Mising Values ( 0.0) \n",
      " FireplaceQu--------------------------------------- :   [nan 'TA' 'Gd' 'Fa' 'Ex' 'Po'] & Mising Values ( 0.473) \n",
      " GarageType---------------------------------------- :   ['Attchd' 'Detchd' 'BuiltIn' 'CarPort' nan 'Basment' '2Types'] & Mising Values ( 0.0555) \n",
      " GarageFinish-------------------------------------- :   ['RFn' 'Unf' 'Fin' nan] & Mising Values ( 0.0555) \n",
      " GarageQual---------------------------------------- :   ['TA' 'Fa' 'Gd' nan 'Ex' 'Po'] & Mising Values ( 0.0555) \n",
      " GarageCond---------------------------------------- :   ['TA' 'Fa' nan 'Gd' 'Po' 'Ex'] & Mising Values ( 0.0555) \n",
      " PavedDrive---------------------------------------- :   ['Y' 'N' 'P'] & Mising Values ( 0.0) \n",
      " PoolQC-------------------------------------------- :   [nan 'Ex' 'Fa' 'Gd'] & Mising Values ( 0.995) \n",
      " Fence--------------------------------------------- :   [nan 'MnPrv' 'GdWo' 'GdPrv' 'MnWw'] & Mising Values ( 0.808) \n",
      " MiscFeature--------------------------------------- :   [nan 'Shed' 'Gar2' 'Othr' 'TenC'] & Mising Values ( 0.963) \n",
      " SaleType------------------------------------------ :   ['WD' 'New' 'COD' 'ConLD' 'ConLI' 'CWD' 'ConLw' 'Con' 'Oth'] & Mising Values ( 0.0) \n",
      " SaleCondition------------------------------------- :   ['Normal' 'Abnorml' 'Partial' 'AdjLand' 'Alloca' 'Family'] & Mising Values ( 0.0) \n"
     ]
    }
   ],
   "source": [
    "\n",
    "for col in df.select_dtypes(exclude=\"number\").columns:\n",
    "  print(f\" {col:-<50} :   {df[col].unique()} & Mising Values ( {df[col].isna().sum()/df.shape[0]:.3}) \" )"
   ]
  },
  {
   "cell_type": "markdown",
   "metadata": {
    "id": "YTwjLXMQaKmp"
   },
   "source": [
    "--   $$\\large \\text { كل القيم التي لا تشهد تغييرا في بيانتها وجب الاستغناء عنها}$$\n",
    "$$\\large \\text {جميع البيانات التصنيفية التي لا ترتيب فيها سيتم ترميزها على شكل أعمدة }$$"
   ]
  },
  {
   "cell_type": "code",
   "execution_count": null,
   "metadata": {
    "id": "PgFexfDNGZy5"
   },
   "outputs": [],
   "source": []
  },
  {
   "cell_type": "code",
   "execution_count": 13,
   "metadata": {
    "id": "fJpb8i1hCydN"
   },
   "outputs": [],
   "source": [
    "\n",
    "for col in df.select_dtypes(exclude=\"number\").columns:\n",
    "  if df[col].nunique()<2:\n",
    "    print(f\" {col:-<30} {df[col].nunique()}\")"
   ]
  },
  {
   "cell_type": "code",
   "execution_count": 14,
   "metadata": {
    "colab": {
     "base_uri": "https://localhost:8080/",
     "height": 51
    },
    "executionInfo": {
     "elapsed": 2097,
     "status": "ok",
     "timestamp": 1597224958524,
     "user": {
      "displayName": "Math Hack",
      "photoUrl": "https://lh3.googleusercontent.com/a-/AOh14GjOrJzQ2xAgyHRSCzQ3qBInmHzMPfMtIJGxB4HG=s64",
      "userId": "13730440483455885359"
     },
     "user_tz": -180
    },
    "id": "dkMMqJknpcMG",
    "outputId": "d979ea28-7e20-4b10-ac6a-515d3d0ec330"
   },
   "outputs": [
    {
     "data": {
      "text/plain": [
       "array([ 60,  20,  70,  50, 190,  45,  90, 120,  30,  85,  80, 160,  75,\n",
       "       180,  40])"
      ]
     },
     "execution_count": 14,
     "metadata": {},
     "output_type": "execute_result"
    }
   ],
   "source": [
    "\n",
    "# MSSubClass متغير تصنيف العقار   \n",
    "df.MSSubClass.unique()"
   ]
  },
  {
   "cell_type": "code",
   "execution_count": 15,
   "metadata": {
    "colab": {
     "base_uri": "https://localhost:8080/",
     "height": 51
    },
    "executionInfo": {
     "elapsed": 2090,
     "status": "ok",
     "timestamp": 1597224958524,
     "user": {
      "displayName": "Math Hack",
      "photoUrl": "https://lh3.googleusercontent.com/a-/AOh14GjOrJzQ2xAgyHRSCzQ3qBInmHzMPfMtIJGxB4HG=s64",
      "userId": "13730440483455885359"
     },
     "user_tz": -180
    },
    "id": "dF8kAJVdwlkK",
    "outputId": "59d352f3-a7bb-4314-fd57-28156489a100"
   },
   "outputs": [
    {
     "name": "stdout",
     "output_type": "stream",
     "text": [
      "[ 2  5  9 12 10  8 11  4  1  7  3  6]\n",
      "[2008 2007 2006 2009 2010]\n"
     ]
    }
   ],
   "source": [
    "#  المتغيرات المرتبطة بالتواريخ\n",
    "# YearBuilt, YearRemodAdd , MoSold, YrSold\n",
    "print(df.MoSold.unique())\n",
    "print(df.YrSold.unique())"
   ]
  },
  {
   "cell_type": "code",
   "execution_count": 16,
   "metadata": {
    "id": "nUzYBVeAwlgE"
   },
   "outputs": [],
   "source": [
    "# Processing category dtype is much faster to process\n",
    "#تكون معالجة البيانات التصنيفية  اسرع\n",
    "\n",
    "cols=[\"MSSubClass\",\"YrSold\" ]\n",
    "df[cols]=df[cols].astype(\"category\")"
   ]
  },
  {
   "cell_type": "code",
   "execution_count": 17,
   "metadata": {
    "colab": {
     "base_uri": "https://localhost:8080/",
     "height": 170
    },
    "executionInfo": {
     "elapsed": 2080,
     "status": "ok",
     "timestamp": 1597224958525,
     "user": {
      "displayName": "Math Hack",
      "photoUrl": "https://lh3.googleusercontent.com/a-/AOh14GjOrJzQ2xAgyHRSCzQ3qBInmHzMPfMtIJGxB4HG=s64",
      "userId": "13730440483455885359"
     },
     "user_tz": -180
    },
    "id": "KeUApQUd4Aum",
    "outputId": "53972395-4cc7-406a-a588-5b82aa7fe90d"
   },
   "outputs": [
    {
     "name": "stdout",
     "output_type": "stream",
     "text": [
      "<class 'pandas.core.frame.DataFrame'>\n",
      "Index: 1460 entries, 0 to 1459\n",
      "Data columns (total 2 columns):\n",
      " #   Column      Non-Null Count  Dtype   \n",
      "---  ------      --------------  -----   \n",
      " 0   MSSubClass  1460 non-null   category\n",
      " 1   YrSold      1460 non-null   category\n",
      "dtypes: category(2)\n",
      "memory usage: 15.1 KB\n"
     ]
    }
   ],
   "source": [
    "df[cols].info()"
   ]
  },
  {
   "cell_type": "markdown",
   "metadata": {
    "id": "1RQxQnXyv--B"
   },
   "source": [
    "_To better exploit any seasonality in SalePrice, we transform MoSold (which is a cyclical feature)_ "
   ]
  },
  {
   "cell_type": "code",
   "execution_count": 18,
   "metadata": {
    "id": "XHroNzPh4X62"
   },
   "outputs": [],
   "source": [
    "# http://blog.davidkaleko.com/feature-engineering-cyclical-features.html\n",
    "\n",
    "import numpy as np\n",
    "df[\"SnMoSold\"] = np.sin(2 * np.pi * df.MoSold / 12)\n",
    "df[\"CsMoSold\"] = np.cos(2 * np.pi * df.MoSold / 12)\n",
    "df.drop(\"MoSold\", axis=1, inplace=True)"
   ]
  },
  {
   "cell_type": "code",
   "execution_count": 19,
   "metadata": {
    "colab": {
     "base_uri": "https://localhost:8080/",
     "height": 1000
    },
    "executionInfo": {
     "elapsed": 2071,
     "status": "ok",
     "timestamp": 1597224958526,
     "user": {
      "displayName": "Math Hack",
      "photoUrl": "https://lh3.googleusercontent.com/a-/AOh14GjOrJzQ2xAgyHRSCzQ3qBInmHzMPfMtIJGxB4HG=s64",
      "userId": "13730440483455885359"
     },
     "user_tz": -180
    },
    "id": "kEmRo8uqIFNe",
    "outputId": "116ca0e7-b341-4ad7-b1a2-d3a95d39da38"
   },
   "outputs": [
    {
     "name": "stdout",
     "output_type": "stream",
     "text": [
      "<class 'pandas.core.frame.DataFrame'>\n",
      "Index: 1460 entries, 0 to 1459\n",
      "Data columns (total 75 columns):\n",
      " #   Column         Non-Null Count  Dtype   \n",
      "---  ------         --------------  -----   \n",
      " 0   Id             1460 non-null   int64   \n",
      " 1   MSSubClass     1460 non-null   category\n",
      " 2   MSZoning       1460 non-null   object  \n",
      " 3   LotFrontage    1201 non-null   float64 \n",
      " 4   LotArea        1460 non-null   int64   \n",
      " 5   Street         1460 non-null   object  \n",
      " 6   Alley          91 non-null     object  \n",
      " 7   LotShape       1460 non-null   object  \n",
      " 8   LandContour    1460 non-null   object  \n",
      " 9   Utilities      1460 non-null   object  \n",
      " 10  LotConfig      1460 non-null   object  \n",
      " 11  LandSlope      1460 non-null   object  \n",
      " 12  Neighborhood   1460 non-null   object  \n",
      " 13  Condition1     1460 non-null   object  \n",
      " 14  Condition2     1460 non-null   object  \n",
      " 15  BldgType       1460 non-null   object  \n",
      " 16  HouseStyle     1460 non-null   object  \n",
      " 17  OverallQual    1460 non-null   int64   \n",
      " 18  OverallCond    1460 non-null   int64   \n",
      " 19  YearBuilt      1460 non-null   int64   \n",
      " 20  YearRemodAdd   1460 non-null   int64   \n",
      " 21  RoofStyle      1460 non-null   object  \n",
      " 22  RoofMatl       1460 non-null   object  \n",
      " 23  Exterior1st    1460 non-null   object  \n",
      " 24  Exterior2nd    1460 non-null   object  \n",
      " 25  MasVnrType     588 non-null    object  \n",
      " 26  MasVnrArea     1452 non-null   float64 \n",
      " 27  ExterQual      1460 non-null   object  \n",
      " 28  ExterCond      1460 non-null   object  \n",
      " 29  Foundation     1460 non-null   object  \n",
      " 30  BsmtQual       1423 non-null   object  \n",
      " 31  BsmtCond       1423 non-null   object  \n",
      " 32  BsmtExposure   1422 non-null   object  \n",
      " 33  BsmtFinType1   1423 non-null   object  \n",
      " 34  BsmtFinSF1     1460 non-null   int64   \n",
      " 35  BsmtFinType2   1422 non-null   object  \n",
      " 36  BsmtFinSF2     1460 non-null   int64   \n",
      " 37  BsmtUnfSF      1460 non-null   int64   \n",
      " 38  Heating        1460 non-null   object  \n",
      " 39  HeatingQC      1460 non-null   object  \n",
      " 40  CentralAir     1460 non-null   object  \n",
      " 41  Electrical     1459 non-null   object  \n",
      " 42  1stFlrSF       1460 non-null   int64   \n",
      " 43  2ndFlrSF       1460 non-null   int64   \n",
      " 44  LowQualFinSF   1460 non-null   int64   \n",
      " 45  BedroomAbvGr   1460 non-null   int64   \n",
      " 46  KitchenAbvGr   1460 non-null   int64   \n",
      " 47  KitchenQual    1460 non-null   object  \n",
      " 48  TotRmsAbvGrd   1460 non-null   int64   \n",
      " 49  Functional     1460 non-null   object  \n",
      " 50  Fireplaces     1460 non-null   int64   \n",
      " 51  FireplaceQu    770 non-null    object  \n",
      " 52  GarageType     1379 non-null   object  \n",
      " 53  GarageYrBlt    1379 non-null   float64 \n",
      " 54  GarageFinish   1379 non-null   object  \n",
      " 55  GarageCars     1460 non-null   int64   \n",
      " 56  GarageArea     1460 non-null   int64   \n",
      " 57  GarageQual     1379 non-null   object  \n",
      " 58  GarageCond     1379 non-null   object  \n",
      " 59  PavedDrive     1460 non-null   object  \n",
      " 60  WoodDeckSF     1460 non-null   int64   \n",
      " 61  PoolArea       1460 non-null   int64   \n",
      " 62  PoolQC         7 non-null      object  \n",
      " 63  Fence          281 non-null    object  \n",
      " 64  MiscFeature    54 non-null     object  \n",
      " 65  MiscVal        1460 non-null   int64   \n",
      " 66  YrSold         1460 non-null   category\n",
      " 67  SaleType       1460 non-null   object  \n",
      " 68  SaleCondition  1460 non-null   object  \n",
      " 69  SalePrice      1460 non-null   int64   \n",
      " 70  TotalSF        1460 non-null   int64   \n",
      " 71  TotalPorchSF   1460 non-null   int64   \n",
      " 72  TotalBath      1460 non-null   float64 \n",
      " 73  SnMoSold       1460 non-null   float64 \n",
      " 74  CsMoSold       1460 non-null   float64 \n",
      "dtypes: category(2), float64(6), int64(24), object(43)\n",
      "memory usage: 847.8+ KB\n"
     ]
    }
   ],
   "source": [
    "df.info()"
   ]
  },
  {
   "cell_type": "code",
   "execution_count": 21,
   "metadata": {
    "id": "3iLBnPMbH6TX"
   },
   "outputs": [],
   "source": [
    "# حفظ البيانات\n",
    "df.to_csv(\"../data/HousePrice1.csv\")"
   ]
  },
  {
   "cell_type": "markdown",
   "metadata": {
    "id": "ZaF_5ylFrwRu"
   },
   "source": [
    "\n",
    "\n",
    "Assessment :\n",
    " أي من التعليمات التالية تمنك من  تحميل ملف :\n",
    "\n",
    "\n",
    "*   pd.read_csv( ptath/fileName.csv)\n",
    "*   df.read( path/fileName.csv, index_col=0)\n",
    "\n",
    " Dataset أي تعليمة  من التعليمات أدناه تمكن من اظهار جميع حقول جدول البيانات  \n",
    " - df.info()\n",
    " - df.columns()\n",
    " - df.keys()\n",
    " - all of the above\n",
    "\n",
    "حدد التعليمة المناسبة من بين التعليمات أدناه والتي تمكن من اظهار صفوف بيانات بشكل عشوائي\n",
    "\n",
    "\n",
    "ID ,   Name حدد التعليمة التي تمكن  من تحميل حقلي   \n",
    "- read_csv(path/fileName, use_cols=[\"ID\", \"Name\"])\n",
    "\n",
    "اي تعليمة تمن من إضافة بيانات عشوائية لخاصية جديدة لمجموعة بيانات \n",
    "- df[\"newFeature\"]= (b - a) * random_sample() + a\n",
    "\n",
    "\n",
    "\n",
    "أي تعليمة من بيت التعليمات أدناه تمن من إظهار جميع الخصائص الرقمية لمجموعة بيانات \n",
    "- df.select_dtypes(exclude=\"number\").columns\n",
    "\n",
    " من   print(f\" {col:-<50} :   {df[col].unique()}    : تمكن التعليمة  التالية \n",
    "-  screenshot of the result\n",
    "\n",
    "  df[\"FeatureName\"].unique()  تمكت التعليمة التالية   \n",
    " - اظهار القيم التي تحتويها الخاصية دون تكرار\n",
    " - \n",
    " - \n",
    "  اي تعليمة من بين التعليمات أدناه تكن من حذف خاصية من مجموعة البيانات \n",
    "  - df.drop(\"FeatureName\", axis=1, inplace=True)\n",
    "\n"
   ]
  }
 ],
 "metadata": {
  "colab": {
   "authorship_tag": "ABX9TyO9hKvZWZKhDVpbBHotLdKz",
   "collapsed_sections": [],
   "mount_file_id": "11djQaaZ8VvoLxzZGAQzG8esCJ3U9i4rl",
   "name": "2_FeatureEngineering.ipynb",
   "provenance": []
  },
  "kernelspec": {
   "display_name": "Python 3",
   "name": "python3"
  },
  "language_info": {
   "codemirror_mode": {
    "name": "ipython",
    "version": 3
   },
   "file_extension": ".py",
   "mimetype": "text/x-python",
   "name": "python",
   "nbconvert_exporter": "python",
   "pygments_lexer": "ipython3",
   "version": "3.12.1"
  }
 },
 "nbformat": 4,
 "nbformat_minor": 0
}
