{
 "cells": [
  {
   "cell_type": "markdown",
   "metadata": {},
   "source": [
    "<div style='color: #216969;\n",
    "           background-color: #EAF6F6;\n",
    "           font-size: 200%;\n",
    "           border-radius:15px;\n",
    "           text-align:center;\n",
    "           font-weight:600;\n",
    "           border-style: solid;\n",
    "           border-color: dark green;\n",
    "           font-family: \"Cambria\";'>\n",
    "Lasso Regularization\n",
    "<a class=\"anchor\" id=\"1\"></a> "
   ]
  },
  {
   "cell_type": "code",
   "execution_count": null,
   "metadata": {
    "id": "1xEOb6tTf7Qc"
   },
   "outputs": [],
   "source": []
  },
  {
   "cell_type": "code",
   "execution_count": null,
   "metadata": {
    "id": "j9vHW_9Ff86z"
   },
   "outputs": [],
   "source": []
  },
  {
   "cell_type": "markdown",
   "metadata": {
    "id": "RvVnoomAECvz"
   },
   "source": [
    "| |<font size=\"5\">Lasso نموذج  </font>|\n",
    "|-:|-:|\n",
    "|<img src=\"https://cdn-images-1.medium.com/max/800/1*XC-8tHoMxrO3ogHKylRfRA.png\" width=400></img>||\n",
    "||<font size=\"4\"> تحميل البيانات ومعالجتها </font>| \n",
    "||<font size=\"4\"> Regularization الضبط في نماذج تعلم الآلة </font>| \n",
    "||<font size=\"4\">Ridge  توظيف خوارزمية </font>| \n",
    "||<font size=\"4\"> training   تدريب البيانات </font>| \n",
    "||<font size=\"4\"> Metrics   تقويم أداء الخوارزمية </font>|"
   ]
  },
  {
   "cell_type": "markdown",
   "metadata": {},
   "source": [
    "3. When to Use Lasso vs. Other Models\n",
    "You might choose Lasso over other regression techniques (e.g., Linear Regression, Ridge Regression, or Elastic Net) in the following scenarios:\n",
    "-    Many Features: When you have a large number of features, and you suspect many are irrelevant or redundant.\n",
    "\n",
    "-   Sparse Solutions Needed: When you want a model with fewer non-zero coefficients for simplicity or interpretability.\n",
    "\n",
    "- Multicollinearity Present: When your features are correlated, and you need a model that can handle this effectively.\n",
    "\n",
    "- Compared to Ridge: Use Lasso if you want feature selection (Ridge keeps all features but shrinks them toward zero, without eliminating them).\n",
    "\n",
    "- Compared to Elastic Net: Use Lasso if you prefer a simpler model or don’t need the flexibility of combining L1 and L2 regularization (Elastic Net is a hybrid of Lasso and Ridge).\n",
    "\n"
   ]
  },
  {
   "cell_type": "code",
   "execution_count": null,
   "metadata": {
    "id": "dIghuidRf896"
   },
   "outputs": [],
   "source": []
  },
  {
   "cell_type": "code",
   "execution_count": null,
   "metadata": {
    "id": "3DLdb7unf9Ay"
   },
   "outputs": [],
   "source": []
  },
  {
   "cell_type": "markdown",
   "metadata": {
    "id": "cz7bcHb1iA2x"
   },
   "source": [
    "https://www.kirenz.com/post/2019-08-12-python-lasso-regression-auto/\n",
    "\n",
    "https://www.nmthgiat.com/https://bit.ly/31vVC2u"
   ]
  },
  {
   "cell_type": "code",
   "execution_count": 3,
   "metadata": {
    "colab": {
     "base_uri": "https://localhost:8080/",
     "height": 35
    },
    "executionInfo": {
     "elapsed": 1116,
     "status": "ok",
     "timestamp": 1601402678766,
     "user": {
      "displayName": "Math Hack",
      "photoUrl": "https://lh3.googleusercontent.com/a-/AOh14GjOrJzQ2xAgyHRSCzQ3qBInmHzMPfMtIJGxB4HG=s64",
      "userId": "13730440483455885359"
     },
     "user_tz": -180
    },
    "id": "yHBe6yqlgC97",
    "outputId": "3a33bd1b-effd-489a-cfec-b5d4ee1af656"
   },
   "outputs": [
    {
     "data": {
      "text/plain": [
       "'/workspaces/ML-DL-with-Python/Module-0/Labs'"
      ]
     },
     "execution_count": 3,
     "metadata": {},
     "output_type": "execute_result"
    }
   ],
   "source": [
    "pwd"
   ]
  },
  {
   "cell_type": "code",
   "execution_count": 4,
   "metadata": {
    "id": "VqrIhNbTgDHD"
   },
   "outputs": [],
   "source": [
    "# تحميل البيانات الرقمية\n",
    "import pandas as pd\n",
    "df= pd.read_csv(\"../data/features_kept1.csv\", index_col=0)"
   ]
  },
  {
   "cell_type": "code",
   "execution_count": 5,
   "metadata": {
    "colab": {
     "base_uri": "https://localhost:8080/",
     "height": 198
    },
    "executionInfo": {
     "elapsed": 971,
     "status": "ok",
     "timestamp": 1601402715085,
     "user": {
      "displayName": "Math Hack",
      "photoUrl": "https://lh3.googleusercontent.com/a-/AOh14GjOrJzQ2xAgyHRSCzQ3qBInmHzMPfMtIJGxB4HG=s64",
      "userId": "13730440483455885359"
     },
     "user_tz": -180
    },
    "id": "m0h-2eSxgJsT",
    "outputId": "51fadbbf-9fab-41f0-966b-92b3b541c17d"
   },
   "outputs": [
    {
     "data": {
      "text/html": [
       "<div>\n",
       "<style scoped>\n",
       "    .dataframe tbody tr th:only-of-type {\n",
       "        vertical-align: middle;\n",
       "    }\n",
       "\n",
       "    .dataframe tbody tr th {\n",
       "        vertical-align: top;\n",
       "    }\n",
       "\n",
       "    .dataframe thead th {\n",
       "        text-align: right;\n",
       "    }\n",
       "</style>\n",
       "<table border=\"1\" class=\"dataframe\">\n",
       "  <thead>\n",
       "    <tr style=\"text-align: right;\">\n",
       "      <th></th>\n",
       "      <th>Age</th>\n",
       "      <th>GarageArea</th>\n",
       "      <th>TotalSF</th>\n",
       "      <th>MasVnrArea</th>\n",
       "      <th>WoodDeckSF</th>\n",
       "      <th>BsmtFinSF1</th>\n",
       "      <th>2ndFlrSF</th>\n",
       "      <th>BsmtFinSF2</th>\n",
       "      <th>MiscVal</th>\n",
       "      <th>LotArea</th>\n",
       "      <th>SalePrice</th>\n",
       "    </tr>\n",
       "  </thead>\n",
       "  <tbody>\n",
       "    <tr>\n",
       "      <th>0</th>\n",
       "      <td>5.0</td>\n",
       "      <td>548.0</td>\n",
       "      <td>2566.0</td>\n",
       "      <td>196.0</td>\n",
       "      <td>0.0</td>\n",
       "      <td>706.0</td>\n",
       "      <td>854.0</td>\n",
       "      <td>0.0</td>\n",
       "      <td>0.0</td>\n",
       "      <td>8450.0</td>\n",
       "      <td>208500.0</td>\n",
       "    </tr>\n",
       "    <tr>\n",
       "      <th>1</th>\n",
       "      <td>31.0</td>\n",
       "      <td>460.0</td>\n",
       "      <td>2524.0</td>\n",
       "      <td>0.0</td>\n",
       "      <td>298.0</td>\n",
       "      <td>978.0</td>\n",
       "      <td>0.0</td>\n",
       "      <td>0.0</td>\n",
       "      <td>0.0</td>\n",
       "      <td>9600.0</td>\n",
       "      <td>181500.0</td>\n",
       "    </tr>\n",
       "    <tr>\n",
       "      <th>2</th>\n",
       "      <td>6.0</td>\n",
       "      <td>608.0</td>\n",
       "      <td>2706.0</td>\n",
       "      <td>162.0</td>\n",
       "      <td>0.0</td>\n",
       "      <td>486.0</td>\n",
       "      <td>866.0</td>\n",
       "      <td>0.0</td>\n",
       "      <td>0.0</td>\n",
       "      <td>11250.0</td>\n",
       "      <td>223500.0</td>\n",
       "    </tr>\n",
       "    <tr>\n",
       "      <th>3</th>\n",
       "      <td>36.0</td>\n",
       "      <td>642.0</td>\n",
       "      <td>2473.0</td>\n",
       "      <td>0.0</td>\n",
       "      <td>0.0</td>\n",
       "      <td>216.0</td>\n",
       "      <td>756.0</td>\n",
       "      <td>0.0</td>\n",
       "      <td>0.0</td>\n",
       "      <td>9550.0</td>\n",
       "      <td>140000.0</td>\n",
       "    </tr>\n",
       "    <tr>\n",
       "      <th>4</th>\n",
       "      <td>8.0</td>\n",
       "      <td>836.0</td>\n",
       "      <td>3343.0</td>\n",
       "      <td>350.0</td>\n",
       "      <td>192.0</td>\n",
       "      <td>655.0</td>\n",
       "      <td>1053.0</td>\n",
       "      <td>0.0</td>\n",
       "      <td>0.0</td>\n",
       "      <td>14260.0</td>\n",
       "      <td>250000.0</td>\n",
       "    </tr>\n",
       "  </tbody>\n",
       "</table>\n",
       "</div>"
      ],
      "text/plain": [
       "    Age  GarageArea  TotalSF  MasVnrArea  WoodDeckSF  BsmtFinSF1  2ndFlrSF  \\\n",
       "0   5.0       548.0   2566.0       196.0         0.0       706.0     854.0   \n",
       "1  31.0       460.0   2524.0         0.0       298.0       978.0       0.0   \n",
       "2   6.0       608.0   2706.0       162.0         0.0       486.0     866.0   \n",
       "3  36.0       642.0   2473.0         0.0         0.0       216.0     756.0   \n",
       "4   8.0       836.0   3343.0       350.0       192.0       655.0    1053.0   \n",
       "\n",
       "   BsmtFinSF2  MiscVal  LotArea  SalePrice  \n",
       "0         0.0      0.0   8450.0   208500.0  \n",
       "1         0.0      0.0   9600.0   181500.0  \n",
       "2         0.0      0.0  11250.0   223500.0  \n",
       "3         0.0      0.0   9550.0   140000.0  \n",
       "4         0.0      0.0  14260.0   250000.0  "
      ]
     },
     "execution_count": 5,
     "metadata": {},
     "output_type": "execute_result"
    }
   ],
   "source": [
    "df.head()"
   ]
  },
  {
   "cell_type": "code",
   "execution_count": 6,
   "metadata": {},
   "outputs": [
    {
     "data": {
      "text/plain": [
       "Age           0.009589\n",
       "GarageArea    0.009589\n",
       "TotalSF       0.009589\n",
       "MasVnrArea    0.009589\n",
       "WoodDeckSF    0.009589\n",
       "BsmtFinSF1    0.009589\n",
       "2ndFlrSF      0.009589\n",
       "BsmtFinSF2    0.009589\n",
       "MiscVal       0.009589\n",
       "LotArea       0.009589\n",
       "SalePrice     0.009589\n",
       "dtype: float64"
      ]
     },
     "execution_count": 6,
     "metadata": {},
     "output_type": "execute_result"
    }
   ],
   "source": [
    "df.isna().sum()/df.shape[0]"
   ]
  },
  {
   "cell_type": "code",
   "execution_count": 7,
   "metadata": {},
   "outputs": [],
   "source": [
    "df.dropna(inplace=True)"
   ]
  },
  {
   "cell_type": "markdown",
   "metadata": {},
   "source": [
    "![](../imgs/target.jpeg)"
   ]
  },
  {
   "cell_type": "code",
   "execution_count": 8,
   "metadata": {
    "colab": {
     "base_uri": "https://localhost:8080/",
     "height": 85
    },
    "executionInfo": {
     "elapsed": 788,
     "status": "ok",
     "timestamp": 1597744284039,
     "user": {
      "displayName": "Math Hack",
      "photoUrl": "https://lh3.googleusercontent.com/a-/AOh14GjOrJzQ2xAgyHRSCzQ3qBInmHzMPfMtIJGxB4HG=s64",
      "userId": "13730440483455885359"
     },
     "user_tz": -180
    },
    "id": "DLipwwsnCMc_",
    "outputId": "cd93e7d4-0483-4517-bff6-0312bb075543"
   },
   "outputs": [
    {
     "data": {
      "text/plain": [
       "Index(['Age', 'GarageArea', 'TotalSF', 'MasVnrArea', 'WoodDeckSF',\n",
       "       'BsmtFinSF1', '2ndFlrSF', 'BsmtFinSF2', 'MiscVal', 'LotArea'],\n",
       "      dtype='object')"
      ]
     },
     "execution_count": 8,
     "metadata": {},
     "output_type": "execute_result"
    }
   ],
   "source": [
    "#Standardize the features by removing the mean and scaling to unit variance.\n",
    "import numpy as np\n",
    "X=df.drop(\"SalePrice\", axis=1)\n",
    "y=np.log1p(df.SalePrice)    # test 1st as df.Saleprice  then turn to log1p\n",
    "# y=df.SalePrice\n",
    "X.keys()"
   ]
  },
  {
   "cell_type": "markdown",
   "metadata": {
    "id": "kfIvoV4WDWr5"
   },
   "source": [
    "![](https://i.ibb.co/QChD6Y4/Train-test-1.jpg)"
   ]
  },
  {
   "cell_type": "code",
   "execution_count": 9,
   "metadata": {
    "id": "UUCzAQQLaZED"
   },
   "outputs": [],
   "source": [
    "# تقسيم البيانات \n",
    "from sklearn.model_selection import train_test_split\n",
    "X_train, X_test, y_train, y_test=train_test_split(X, y  ,test_size=.33, random_state=42)"
   ]
  },
  {
   "cell_type": "markdown",
   "metadata": {},
   "source": [
    "## Normalization"
   ]
  },
  {
   "cell_type": "code",
   "execution_count": 10,
   "metadata": {
    "id": "3g4TlXVLCMZX"
   },
   "outputs": [],
   "source": [
    "from sklearn.preprocessing import StandardScaler\n",
    "\n",
    "### test 1st   before the train_test_split\n",
    "scaler = StandardScaler()\n",
    "# X_scaled= scaler.fit_transform(X)"
   ]
  },
  {
   "cell_type": "code",
   "execution_count": 11,
   "metadata": {
    "id": "tqV_el3vxRp9"
   },
   "outputs": [],
   "source": [
    "# this to try   2nd \n",
    "X_train_scaled = scaler.fit_transform(X_train)\n",
    "X_test_scaled = scaler.transform(X_test)"
   ]
  },
  {
   "cell_type": "markdown",
   "metadata": {},
   "source": [
    "### Lasso "
   ]
  },
  {
   "cell_type": "markdown",
   "metadata": {
    "id": "M2VBCEw0DaT4"
   },
   "source": [
    "<image src=\"https://static.thenounproject.com/png/2010152-200.png\" width=10%></img>"
   ]
  },
  {
   "cell_type": "markdown",
   "metadata": {
    "id": "Zn3-5-9B3fXw"
   },
   "source": [
    "$\\Large  RSS_{Ridge}= \\sum (Y_i -\\beta_0 -\\beta_iX_i )^2 + \\alpha\\sum|\\beta_i|  $"
   ]
  },
  {
   "cell_type": "code",
   "execution_count": 12,
   "metadata": {
    "colab": {
     "base_uri": "https://localhost:8080/",
     "height": 68
    },
    "executionInfo": {
     "elapsed": 1072,
     "status": "ok",
     "timestamp": 1597744298528,
     "user": {
      "displayName": "Math Hack",
      "photoUrl": "https://lh3.googleusercontent.com/a-/AOh14GjOrJzQ2xAgyHRSCzQ3qBInmHzMPfMtIJGxB4HG=s64",
      "userId": "13730440483455885359"
     },
     "user_tz": -180
    },
    "id": "rQwbRkhWCMWW",
    "outputId": "9a1b76cb-0268-4a33-c203-d3f6eebb6896"
   },
   "outputs": [
    {
     "data": {
      "text/html": [
       "<style>#sk-container-id-1 {\n",
       "  /* Definition of color scheme common for light and dark mode */\n",
       "  --sklearn-color-text: #000;\n",
       "  --sklearn-color-text-muted: #666;\n",
       "  --sklearn-color-line: gray;\n",
       "  /* Definition of color scheme for unfitted estimators */\n",
       "  --sklearn-color-unfitted-level-0: #fff5e6;\n",
       "  --sklearn-color-unfitted-level-1: #f6e4d2;\n",
       "  --sklearn-color-unfitted-level-2: #ffe0b3;\n",
       "  --sklearn-color-unfitted-level-3: chocolate;\n",
       "  /* Definition of color scheme for fitted estimators */\n",
       "  --sklearn-color-fitted-level-0: #f0f8ff;\n",
       "  --sklearn-color-fitted-level-1: #d4ebff;\n",
       "  --sklearn-color-fitted-level-2: #b3dbfd;\n",
       "  --sklearn-color-fitted-level-3: cornflowerblue;\n",
       "\n",
       "  /* Specific color for light theme */\n",
       "  --sklearn-color-text-on-default-background: var(--sg-text-color, var(--theme-code-foreground, var(--jp-content-font-color1, black)));\n",
       "  --sklearn-color-background: var(--sg-background-color, var(--theme-background, var(--jp-layout-color0, white)));\n",
       "  --sklearn-color-border-box: var(--sg-text-color, var(--theme-code-foreground, var(--jp-content-font-color1, black)));\n",
       "  --sklearn-color-icon: #696969;\n",
       "\n",
       "  @media (prefers-color-scheme: dark) {\n",
       "    /* Redefinition of color scheme for dark theme */\n",
       "    --sklearn-color-text-on-default-background: var(--sg-text-color, var(--theme-code-foreground, var(--jp-content-font-color1, white)));\n",
       "    --sklearn-color-background: var(--sg-background-color, var(--theme-background, var(--jp-layout-color0, #111)));\n",
       "    --sklearn-color-border-box: var(--sg-text-color, var(--theme-code-foreground, var(--jp-content-font-color1, white)));\n",
       "    --sklearn-color-icon: #878787;\n",
       "  }\n",
       "}\n",
       "\n",
       "#sk-container-id-1 {\n",
       "  color: var(--sklearn-color-text);\n",
       "}\n",
       "\n",
       "#sk-container-id-1 pre {\n",
       "  padding: 0;\n",
       "}\n",
       "\n",
       "#sk-container-id-1 input.sk-hidden--visually {\n",
       "  border: 0;\n",
       "  clip: rect(1px 1px 1px 1px);\n",
       "  clip: rect(1px, 1px, 1px, 1px);\n",
       "  height: 1px;\n",
       "  margin: -1px;\n",
       "  overflow: hidden;\n",
       "  padding: 0;\n",
       "  position: absolute;\n",
       "  width: 1px;\n",
       "}\n",
       "\n",
       "#sk-container-id-1 div.sk-dashed-wrapped {\n",
       "  border: 1px dashed var(--sklearn-color-line);\n",
       "  margin: 0 0.4em 0.5em 0.4em;\n",
       "  box-sizing: border-box;\n",
       "  padding-bottom: 0.4em;\n",
       "  background-color: var(--sklearn-color-background);\n",
       "}\n",
       "\n",
       "#sk-container-id-1 div.sk-container {\n",
       "  /* jupyter's `normalize.less` sets `[hidden] { display: none; }`\n",
       "     but bootstrap.min.css set `[hidden] { display: none !important; }`\n",
       "     so we also need the `!important` here to be able to override the\n",
       "     default hidden behavior on the sphinx rendered scikit-learn.org.\n",
       "     See: https://github.com/scikit-learn/scikit-learn/issues/21755 */\n",
       "  display: inline-block !important;\n",
       "  position: relative;\n",
       "}\n",
       "\n",
       "#sk-container-id-1 div.sk-text-repr-fallback {\n",
       "  display: none;\n",
       "}\n",
       "\n",
       "div.sk-parallel-item,\n",
       "div.sk-serial,\n",
       "div.sk-item {\n",
       "  /* draw centered vertical line to link estimators */\n",
       "  background-image: linear-gradient(var(--sklearn-color-text-on-default-background), var(--sklearn-color-text-on-default-background));\n",
       "  background-size: 2px 100%;\n",
       "  background-repeat: no-repeat;\n",
       "  background-position: center center;\n",
       "}\n",
       "\n",
       "/* Parallel-specific style estimator block */\n",
       "\n",
       "#sk-container-id-1 div.sk-parallel-item::after {\n",
       "  content: \"\";\n",
       "  width: 100%;\n",
       "  border-bottom: 2px solid var(--sklearn-color-text-on-default-background);\n",
       "  flex-grow: 1;\n",
       "}\n",
       "\n",
       "#sk-container-id-1 div.sk-parallel {\n",
       "  display: flex;\n",
       "  align-items: stretch;\n",
       "  justify-content: center;\n",
       "  background-color: var(--sklearn-color-background);\n",
       "  position: relative;\n",
       "}\n",
       "\n",
       "#sk-container-id-1 div.sk-parallel-item {\n",
       "  display: flex;\n",
       "  flex-direction: column;\n",
       "}\n",
       "\n",
       "#sk-container-id-1 div.sk-parallel-item:first-child::after {\n",
       "  align-self: flex-end;\n",
       "  width: 50%;\n",
       "}\n",
       "\n",
       "#sk-container-id-1 div.sk-parallel-item:last-child::after {\n",
       "  align-self: flex-start;\n",
       "  width: 50%;\n",
       "}\n",
       "\n",
       "#sk-container-id-1 div.sk-parallel-item:only-child::after {\n",
       "  width: 0;\n",
       "}\n",
       "\n",
       "/* Serial-specific style estimator block */\n",
       "\n",
       "#sk-container-id-1 div.sk-serial {\n",
       "  display: flex;\n",
       "  flex-direction: column;\n",
       "  align-items: center;\n",
       "  background-color: var(--sklearn-color-background);\n",
       "  padding-right: 1em;\n",
       "  padding-left: 1em;\n",
       "}\n",
       "\n",
       "\n",
       "/* Toggleable style: style used for estimator/Pipeline/ColumnTransformer box that is\n",
       "clickable and can be expanded/collapsed.\n",
       "- Pipeline and ColumnTransformer use this feature and define the default style\n",
       "- Estimators will overwrite some part of the style using the `sk-estimator` class\n",
       "*/\n",
       "\n",
       "/* Pipeline and ColumnTransformer style (default) */\n",
       "\n",
       "#sk-container-id-1 div.sk-toggleable {\n",
       "  /* Default theme specific background. It is overwritten whether we have a\n",
       "  specific estimator or a Pipeline/ColumnTransformer */\n",
       "  background-color: var(--sklearn-color-background);\n",
       "}\n",
       "\n",
       "/* Toggleable label */\n",
       "#sk-container-id-1 label.sk-toggleable__label {\n",
       "  cursor: pointer;\n",
       "  display: flex;\n",
       "  width: 100%;\n",
       "  margin-bottom: 0;\n",
       "  padding: 0.5em;\n",
       "  box-sizing: border-box;\n",
       "  text-align: center;\n",
       "  align-items: start;\n",
       "  justify-content: space-between;\n",
       "  gap: 0.5em;\n",
       "}\n",
       "\n",
       "#sk-container-id-1 label.sk-toggleable__label .caption {\n",
       "  font-size: 0.6rem;\n",
       "  font-weight: lighter;\n",
       "  color: var(--sklearn-color-text-muted);\n",
       "}\n",
       "\n",
       "#sk-container-id-1 label.sk-toggleable__label-arrow:before {\n",
       "  /* Arrow on the left of the label */\n",
       "  content: \"▸\";\n",
       "  float: left;\n",
       "  margin-right: 0.25em;\n",
       "  color: var(--sklearn-color-icon);\n",
       "}\n",
       "\n",
       "#sk-container-id-1 label.sk-toggleable__label-arrow:hover:before {\n",
       "  color: var(--sklearn-color-text);\n",
       "}\n",
       "\n",
       "/* Toggleable content - dropdown */\n",
       "\n",
       "#sk-container-id-1 div.sk-toggleable__content {\n",
       "  max-height: 0;\n",
       "  max-width: 0;\n",
       "  overflow: hidden;\n",
       "  text-align: left;\n",
       "  /* unfitted */\n",
       "  background-color: var(--sklearn-color-unfitted-level-0);\n",
       "}\n",
       "\n",
       "#sk-container-id-1 div.sk-toggleable__content.fitted {\n",
       "  /* fitted */\n",
       "  background-color: var(--sklearn-color-fitted-level-0);\n",
       "}\n",
       "\n",
       "#sk-container-id-1 div.sk-toggleable__content pre {\n",
       "  margin: 0.2em;\n",
       "  border-radius: 0.25em;\n",
       "  color: var(--sklearn-color-text);\n",
       "  /* unfitted */\n",
       "  background-color: var(--sklearn-color-unfitted-level-0);\n",
       "}\n",
       "\n",
       "#sk-container-id-1 div.sk-toggleable__content.fitted pre {\n",
       "  /* unfitted */\n",
       "  background-color: var(--sklearn-color-fitted-level-0);\n",
       "}\n",
       "\n",
       "#sk-container-id-1 input.sk-toggleable__control:checked~div.sk-toggleable__content {\n",
       "  /* Expand drop-down */\n",
       "  max-height: 200px;\n",
       "  max-width: 100%;\n",
       "  overflow: auto;\n",
       "}\n",
       "\n",
       "#sk-container-id-1 input.sk-toggleable__control:checked~label.sk-toggleable__label-arrow:before {\n",
       "  content: \"▾\";\n",
       "}\n",
       "\n",
       "/* Pipeline/ColumnTransformer-specific style */\n",
       "\n",
       "#sk-container-id-1 div.sk-label input.sk-toggleable__control:checked~label.sk-toggleable__label {\n",
       "  color: var(--sklearn-color-text);\n",
       "  background-color: var(--sklearn-color-unfitted-level-2);\n",
       "}\n",
       "\n",
       "#sk-container-id-1 div.sk-label.fitted input.sk-toggleable__control:checked~label.sk-toggleable__label {\n",
       "  background-color: var(--sklearn-color-fitted-level-2);\n",
       "}\n",
       "\n",
       "/* Estimator-specific style */\n",
       "\n",
       "/* Colorize estimator box */\n",
       "#sk-container-id-1 div.sk-estimator input.sk-toggleable__control:checked~label.sk-toggleable__label {\n",
       "  /* unfitted */\n",
       "  background-color: var(--sklearn-color-unfitted-level-2);\n",
       "}\n",
       "\n",
       "#sk-container-id-1 div.sk-estimator.fitted input.sk-toggleable__control:checked~label.sk-toggleable__label {\n",
       "  /* fitted */\n",
       "  background-color: var(--sklearn-color-fitted-level-2);\n",
       "}\n",
       "\n",
       "#sk-container-id-1 div.sk-label label.sk-toggleable__label,\n",
       "#sk-container-id-1 div.sk-label label {\n",
       "  /* The background is the default theme color */\n",
       "  color: var(--sklearn-color-text-on-default-background);\n",
       "}\n",
       "\n",
       "/* On hover, darken the color of the background */\n",
       "#sk-container-id-1 div.sk-label:hover label.sk-toggleable__label {\n",
       "  color: var(--sklearn-color-text);\n",
       "  background-color: var(--sklearn-color-unfitted-level-2);\n",
       "}\n",
       "\n",
       "/* Label box, darken color on hover, fitted */\n",
       "#sk-container-id-1 div.sk-label.fitted:hover label.sk-toggleable__label.fitted {\n",
       "  color: var(--sklearn-color-text);\n",
       "  background-color: var(--sklearn-color-fitted-level-2);\n",
       "}\n",
       "\n",
       "/* Estimator label */\n",
       "\n",
       "#sk-container-id-1 div.sk-label label {\n",
       "  font-family: monospace;\n",
       "  font-weight: bold;\n",
       "  display: inline-block;\n",
       "  line-height: 1.2em;\n",
       "}\n",
       "\n",
       "#sk-container-id-1 div.sk-label-container {\n",
       "  text-align: center;\n",
       "}\n",
       "\n",
       "/* Estimator-specific */\n",
       "#sk-container-id-1 div.sk-estimator {\n",
       "  font-family: monospace;\n",
       "  border: 1px dotted var(--sklearn-color-border-box);\n",
       "  border-radius: 0.25em;\n",
       "  box-sizing: border-box;\n",
       "  margin-bottom: 0.5em;\n",
       "  /* unfitted */\n",
       "  background-color: var(--sklearn-color-unfitted-level-0);\n",
       "}\n",
       "\n",
       "#sk-container-id-1 div.sk-estimator.fitted {\n",
       "  /* fitted */\n",
       "  background-color: var(--sklearn-color-fitted-level-0);\n",
       "}\n",
       "\n",
       "/* on hover */\n",
       "#sk-container-id-1 div.sk-estimator:hover {\n",
       "  /* unfitted */\n",
       "  background-color: var(--sklearn-color-unfitted-level-2);\n",
       "}\n",
       "\n",
       "#sk-container-id-1 div.sk-estimator.fitted:hover {\n",
       "  /* fitted */\n",
       "  background-color: var(--sklearn-color-fitted-level-2);\n",
       "}\n",
       "\n",
       "/* Specification for estimator info (e.g. \"i\" and \"?\") */\n",
       "\n",
       "/* Common style for \"i\" and \"?\" */\n",
       "\n",
       ".sk-estimator-doc-link,\n",
       "a:link.sk-estimator-doc-link,\n",
       "a:visited.sk-estimator-doc-link {\n",
       "  float: right;\n",
       "  font-size: smaller;\n",
       "  line-height: 1em;\n",
       "  font-family: monospace;\n",
       "  background-color: var(--sklearn-color-background);\n",
       "  border-radius: 1em;\n",
       "  height: 1em;\n",
       "  width: 1em;\n",
       "  text-decoration: none !important;\n",
       "  margin-left: 0.5em;\n",
       "  text-align: center;\n",
       "  /* unfitted */\n",
       "  border: var(--sklearn-color-unfitted-level-1) 1pt solid;\n",
       "  color: var(--sklearn-color-unfitted-level-1);\n",
       "}\n",
       "\n",
       ".sk-estimator-doc-link.fitted,\n",
       "a:link.sk-estimator-doc-link.fitted,\n",
       "a:visited.sk-estimator-doc-link.fitted {\n",
       "  /* fitted */\n",
       "  border: var(--sklearn-color-fitted-level-1) 1pt solid;\n",
       "  color: var(--sklearn-color-fitted-level-1);\n",
       "}\n",
       "\n",
       "/* On hover */\n",
       "div.sk-estimator:hover .sk-estimator-doc-link:hover,\n",
       ".sk-estimator-doc-link:hover,\n",
       "div.sk-label-container:hover .sk-estimator-doc-link:hover,\n",
       ".sk-estimator-doc-link:hover {\n",
       "  /* unfitted */\n",
       "  background-color: var(--sklearn-color-unfitted-level-3);\n",
       "  color: var(--sklearn-color-background);\n",
       "  text-decoration: none;\n",
       "}\n",
       "\n",
       "div.sk-estimator.fitted:hover .sk-estimator-doc-link.fitted:hover,\n",
       ".sk-estimator-doc-link.fitted:hover,\n",
       "div.sk-label-container:hover .sk-estimator-doc-link.fitted:hover,\n",
       ".sk-estimator-doc-link.fitted:hover {\n",
       "  /* fitted */\n",
       "  background-color: var(--sklearn-color-fitted-level-3);\n",
       "  color: var(--sklearn-color-background);\n",
       "  text-decoration: none;\n",
       "}\n",
       "\n",
       "/* Span, style for the box shown on hovering the info icon */\n",
       ".sk-estimator-doc-link span {\n",
       "  display: none;\n",
       "  z-index: 9999;\n",
       "  position: relative;\n",
       "  font-weight: normal;\n",
       "  right: .2ex;\n",
       "  padding: .5ex;\n",
       "  margin: .5ex;\n",
       "  width: min-content;\n",
       "  min-width: 20ex;\n",
       "  max-width: 50ex;\n",
       "  color: var(--sklearn-color-text);\n",
       "  box-shadow: 2pt 2pt 4pt #999;\n",
       "  /* unfitted */\n",
       "  background: var(--sklearn-color-unfitted-level-0);\n",
       "  border: .5pt solid var(--sklearn-color-unfitted-level-3);\n",
       "}\n",
       "\n",
       ".sk-estimator-doc-link.fitted span {\n",
       "  /* fitted */\n",
       "  background: var(--sklearn-color-fitted-level-0);\n",
       "  border: var(--sklearn-color-fitted-level-3);\n",
       "}\n",
       "\n",
       ".sk-estimator-doc-link:hover span {\n",
       "  display: block;\n",
       "}\n",
       "\n",
       "/* \"?\"-specific style due to the `<a>` HTML tag */\n",
       "\n",
       "#sk-container-id-1 a.estimator_doc_link {\n",
       "  float: right;\n",
       "  font-size: 1rem;\n",
       "  line-height: 1em;\n",
       "  font-family: monospace;\n",
       "  background-color: var(--sklearn-color-background);\n",
       "  border-radius: 1rem;\n",
       "  height: 1rem;\n",
       "  width: 1rem;\n",
       "  text-decoration: none;\n",
       "  /* unfitted */\n",
       "  color: var(--sklearn-color-unfitted-level-1);\n",
       "  border: var(--sklearn-color-unfitted-level-1) 1pt solid;\n",
       "}\n",
       "\n",
       "#sk-container-id-1 a.estimator_doc_link.fitted {\n",
       "  /* fitted */\n",
       "  border: var(--sklearn-color-fitted-level-1) 1pt solid;\n",
       "  color: var(--sklearn-color-fitted-level-1);\n",
       "}\n",
       "\n",
       "/* On hover */\n",
       "#sk-container-id-1 a.estimator_doc_link:hover {\n",
       "  /* unfitted */\n",
       "  background-color: var(--sklearn-color-unfitted-level-3);\n",
       "  color: var(--sklearn-color-background);\n",
       "  text-decoration: none;\n",
       "}\n",
       "\n",
       "#sk-container-id-1 a.estimator_doc_link.fitted:hover {\n",
       "  /* fitted */\n",
       "  background-color: var(--sklearn-color-fitted-level-3);\n",
       "}\n",
       "</style><div id=\"sk-container-id-1\" class=\"sk-top-container\"><div class=\"sk-text-repr-fallback\"><pre>Lasso(alpha=0.001)</pre><b>In a Jupyter environment, please rerun this cell to show the HTML representation or trust the notebook. <br />On GitHub, the HTML representation is unable to render, please try loading this page with nbviewer.org.</b></div><div class=\"sk-container\" hidden><div class=\"sk-item\"><div class=\"sk-estimator fitted sk-toggleable\"><input class=\"sk-toggleable__control sk-hidden--visually\" id=\"sk-estimator-id-1\" type=\"checkbox\" checked><label for=\"sk-estimator-id-1\" class=\"sk-toggleable__label fitted sk-toggleable__label-arrow\"><div><div>Lasso</div></div><div><a class=\"sk-estimator-doc-link fitted\" rel=\"noreferrer\" target=\"_blank\" href=\"https://scikit-learn.org/1.6/modules/generated/sklearn.linear_model.Lasso.html\">?<span>Documentation for Lasso</span></a><span class=\"sk-estimator-doc-link fitted\">i<span>Fitted</span></span></div></label><div class=\"sk-toggleable__content fitted\"><pre>Lasso(alpha=0.001)</pre></div> </div></div></div></div>"
      ],
      "text/plain": [
       "Lasso(alpha=0.001)"
      ]
     },
     "execution_count": 12,
     "metadata": {},
     "output_type": "execute_result"
    }
   ],
   "source": [
    "from sklearn.linear_model import Lasso\n",
    "\n",
    "lasso = Lasso(alpha=0.001) # Adjust alpha for regularization strength\n",
    "lasso.fit(X_train_scaled , y_train)"
   ]
  },
  {
   "cell_type": "markdown",
   "metadata": {
    "id": "3hGk72RYDl20"
   },
   "source": [
    "![](../imgs/metrics.png)"
   ]
  },
  {
   "cell_type": "code",
   "execution_count": 17,
   "metadata": {
    "colab": {
     "base_uri": "https://localhost:8080/",
     "height": 51
    },
    "executionInfo": {
     "elapsed": 653,
     "status": "ok",
     "timestamp": 1597744299804,
     "user": {
      "displayName": "Math Hack",
      "photoUrl": "https://lh3.googleusercontent.com/a-/AOh14GjOrJzQ2xAgyHRSCzQ3qBInmHzMPfMtIJGxB4HG=s64",
      "userId": "13730440483455885359"
     },
     "user_tz": -180
    },
    "id": "G1EV_dwbCMSz",
    "outputId": "de93279a-e911-435c-fc72-370193805788"
   },
   "outputs": [
    {
     "name": "stdout",
     "output_type": "stream",
     "text": [
      "Lasso Regression: R^2 score on training set: 0.032\n",
      "Lasso Regression: R^2 score on test set: 0.013\n"
     ]
    }
   ],
   "source": [
    "print(f'Lasso Regression: R^2 score on training set: {lasso.score(X_train_scaled, y_train):.3f}' )\n",
    "\n",
    "print(f'Lasso Regression: R^2 score on test set: {    lasso.score(X_test_scaled, y_test):.3f}'   )"
   ]
  },
  {
   "cell_type": "code",
   "execution_count": 18,
   "metadata": {
    "colab": {
     "base_uri": "https://localhost:8080/",
     "height": 34
    },
    "executionInfo": {
     "elapsed": 1627,
     "status": "ok",
     "timestamp": 1597744307029,
     "user": {
      "displayName": "Math Hack",
      "photoUrl": "https://lh3.googleusercontent.com/a-/AOh14GjOrJzQ2xAgyHRSCzQ3qBInmHzMPfMtIJGxB4HG=s64",
      "userId": "13730440483455885359"
     },
     "user_tz": -180
    },
    "id": "sYSN87BnhsJO",
    "outputId": "f278b311-498e-4984-c234-6bad85a16235"
   },
   "outputs": [
    {
     "name": "stdout",
     "output_type": "stream",
     "text": [
      "RMSE : 97.278  \n"
     ]
    },
    {
     "name": "stderr",
     "output_type": "stream",
     "text": [
      "/home/codespace/.local/lib/python3.12/site-packages/sklearn/utils/validation.py:2732: UserWarning: X has feature names, but Lasso was fitted without feature names\n",
      "  warnings.warn(\n"
     ]
    }
   ],
   "source": [
    "from sklearn import metrics\n",
    "print(f'RMSE : {np.sqrt(metrics.mean_squared_error(y_test, lasso.predict(X_test))) :.3f}  ')"
   ]
  },
  {
   "cell_type": "code",
   "execution_count": 19,
   "metadata": {
    "colab": {
     "base_uri": "https://localhost:8080/",
     "height": 34
    },
    "executionInfo": {
     "elapsed": 1237,
     "status": "ok",
     "timestamp": 1597744308753,
     "user": {
      "displayName": "Math Hack",
      "photoUrl": "https://lh3.googleusercontent.com/a-/AOh14GjOrJzQ2xAgyHRSCzQ3qBInmHzMPfMtIJGxB4HG=s64",
      "userId": "13730440483455885359"
     },
     "user_tz": -180
    },
    "id": "crFbScTKwok-",
    "outputId": "c5226579-3b0c-43d5-d1c3-e52bb079ba60"
   },
   "outputs": [
    {
     "data": {
      "text/plain": [
       "np.float64(0.5113450259339937)"
      ]
     },
     "execution_count": 19,
     "metadata": {},
     "output_type": "execute_result"
    }
   ],
   "source": [
    "np.expm1(0.413)"
   ]
  },
  {
   "cell_type": "code",
   "execution_count": 20,
   "metadata": {},
   "outputs": [
    {
     "name": "stdout",
     "output_type": "stream",
     "text": [
      "\n",
      "Feature Coefficients:\n"
     ]
    },
    {
     "data": {
      "text/html": [
       "<div>\n",
       "<style scoped>\n",
       "    .dataframe tbody tr th:only-of-type {\n",
       "        vertical-align: middle;\n",
       "    }\n",
       "\n",
       "    .dataframe tbody tr th {\n",
       "        vertical-align: top;\n",
       "    }\n",
       "\n",
       "    .dataframe thead th {\n",
       "        text-align: right;\n",
       "    }\n",
       "</style>\n",
       "<table border=\"1\" class=\"dataframe\">\n",
       "  <thead>\n",
       "    <tr style=\"text-align: right;\">\n",
       "      <th></th>\n",
       "      <th>Feature</th>\n",
       "      <th>Coefficient</th>\n",
       "    </tr>\n",
       "  </thead>\n",
       "  <tbody>\n",
       "    <tr>\n",
       "      <th>2</th>\n",
       "      <td>TotalSF</td>\n",
       "      <td>0.037498</td>\n",
       "    </tr>\n",
       "    <tr>\n",
       "      <th>4</th>\n",
       "      <td>WoodDeckSF</td>\n",
       "      <td>0.030149</td>\n",
       "    </tr>\n",
       "    <tr>\n",
       "      <th>1</th>\n",
       "      <td>GarageArea</td>\n",
       "      <td>0.028694</td>\n",
       "    </tr>\n",
       "    <tr>\n",
       "      <th>6</th>\n",
       "      <td>2ndFlrSF</td>\n",
       "      <td>0.010600</td>\n",
       "    </tr>\n",
       "    <tr>\n",
       "      <th>0</th>\n",
       "      <td>Age</td>\n",
       "      <td>0.005046</td>\n",
       "    </tr>\n",
       "    <tr>\n",
       "      <th>8</th>\n",
       "      <td>MiscVal</td>\n",
       "      <td>0.000000</td>\n",
       "    </tr>\n",
       "    <tr>\n",
       "      <th>9</th>\n",
       "      <td>LotArea</td>\n",
       "      <td>-0.001855</td>\n",
       "    </tr>\n",
       "    <tr>\n",
       "      <th>7</th>\n",
       "      <td>BsmtFinSF2</td>\n",
       "      <td>-0.002356</td>\n",
       "    </tr>\n",
       "    <tr>\n",
       "      <th>5</th>\n",
       "      <td>BsmtFinSF1</td>\n",
       "      <td>-0.007129</td>\n",
       "    </tr>\n",
       "    <tr>\n",
       "      <th>3</th>\n",
       "      <td>MasVnrArea</td>\n",
       "      <td>-0.014322</td>\n",
       "    </tr>\n",
       "  </tbody>\n",
       "</table>\n",
       "</div>"
      ],
      "text/plain": [
       "      Feature  Coefficient\n",
       "2     TotalSF     0.037498\n",
       "4  WoodDeckSF     0.030149\n",
       "1  GarageArea     0.028694\n",
       "6    2ndFlrSF     0.010600\n",
       "0         Age     0.005046\n",
       "8     MiscVal     0.000000\n",
       "9     LotArea    -0.001855\n",
       "7  BsmtFinSF2    -0.002356\n",
       "5  BsmtFinSF1    -0.007129\n",
       "3  MasVnrArea    -0.014322"
      ]
     },
     "execution_count": 20,
     "metadata": {},
     "output_type": "execute_result"
    }
   ],
   "source": [
    "feature_names = X.columns\n",
    "coefficients = pd.DataFrame({'Feature': feature_names, 'Coefficient': lasso.coef_})\n",
    "print(\"\\nFeature Coefficients:\")\n",
    "coefficients.sort_values(by='Coefficient', ascending=False)"
   ]
  },
  {
   "cell_type": "markdown",
   "metadata": {},
   "source": [
    "5. Practical Considerations for Deployment\n",
    "Data Preprocessing: Lasso requires scaled features (e.g., using StandardScaler) because the L1 penalty is sensitive to the magnitude of input features.\n",
    "\n",
    "Hyperparameter Tuning: Use grid search or random search with cross-validation to find the optimal alpha value.\n",
    "\n",
    "Scalability: For very large datasets, consider using distributed computing frameworks like Dask or Spark, or leverage AWS SageMaker for scalable deployment.\n",
    "\n",
    "Monitoring: In production, monitor for data drift, model degradation, and new feature importance over time.\n",
    "\n"
   ]
  },
  {
   "cell_type": "code",
   "execution_count": null,
   "metadata": {},
   "outputs": [],
   "source": []
  },
  {
   "cell_type": "code",
   "execution_count": 21,
   "metadata": {},
   "outputs": [],
   "source": [
    "from sklearn.model_selection import learning_curve\n",
    "from sklearn.metrics import mean_squared_error, make_scorer\n",
    "\n",
    "mse_scorer = make_scorer(mean_squared_error, greater_is_better=False)\n",
    "\n",
    "train_sizes, train_scores, test_scores = learning_curve(\n",
    "    estimator=lasso,          # Your scikit-learn model\n",
    "    X=X_train,                # Training data features\n",
    "    y=y_train,                # Training data target\n",
    "    train_sizes=np.linspace(0.1, 1.0, 10),  # Relative/absolute sizes of training sets\n",
    "    cv=5,                     # Cross-validation strategy (e.g., 5-fold)\n",
    "    scoring=mse_scorer,        # Use the scorer object (or a string like 'neg_mean_squared_error')\n",
    "    n_jobs=-1,               # Use all available CPU cores\n",
    "    shuffle=True,              # Shuffle the data before splitting into batches\n",
    "    random_state=42,         # For reproducibility\n",
    "    return_times = False,      # if True will return fit and score times\n",
    "    verbose=0                  # Controls verbosity: higher values = more messages\n",
    ")"
   ]
  },
  {
   "cell_type": "code",
   "execution_count": 22,
   "metadata": {},
   "outputs": [
    {
     "data": {
      "image/png": "[encoded data removed]",
      "text/plain": [
       "<Figure size 1000x600 with 1 Axes>"
      ]
     },
     "metadata": {},
     "output_type": "display_data"
    },
    {
     "name": "stdout",
     "output_type": "stream",
     "text": [
      "Train Sizes: [ 76 153 230 306 383 460 536 613 690 767]\n",
      "Train Scores (Mean):\n",
      " [0.13545833 0.13050931 0.13969746 0.14032916 0.14291506 0.14667895\n",
      " 0.14412976 0.14710896 0.14674101 0.14632312]\n",
      "Train Scores (Std):\n",
      " [0.01830568 0.01230493 0.00951625 0.00813158 0.00225869 0.00287062\n",
      " 0.00403642 0.00304441 0.0043102  0.00251775]\n",
      "Test Scores (Mean):\n",
      " [0.19284375 0.16574889 0.15906017 0.15789793 0.15654396 0.15393748\n",
      " 0.15322252 0.15443939 0.15315696 0.15262597]\n",
      "Test Scores (Std):\n",
      " [0.02594156 0.01257875 0.01057536 0.01132542 0.0098757  0.00841747\n",
      " 0.00821455 0.00931013 0.01009263 0.01117212]\n"
     ]
    }
   ],
   "source": [
    "import matplotlib.pyplot as plt\n",
    "train_scores_mean = -np.mean(train_scores, axis=1)  # Average across folds (negate for MSE)\n",
    "train_scores_std = np.std(train_scores, axis=1)\n",
    "test_scores_mean = -np.mean(test_scores, axis=1)    # Average across folds (negate for MSE)\n",
    "test_scores_std = np.std(test_scores, axis=1)\n",
    "\n",
    "# 6. Plot the Learning Curve\n",
    "# ---------------------------\n",
    "plt.figure(figsize=(10, 6))\n",
    "plt.title(\"Learning Curve\")\n",
    "plt.xlabel(\"Training Examples\")\n",
    "plt.ylabel(\"Mean Squared Error\")  # Label appropriately for your metric\n",
    "plt.grid()\n",
    "\n",
    "# Plot the mean training scores\n",
    "plt.plot(train_sizes, train_scores_mean, 'o-', color=\"r\", label=\"Training score\")\n",
    "# Plot the mean test scores\n",
    "plt.plot(train_sizes, test_scores_mean, 'o-', color=\"g\", label=\"Cross-validation score\")\n",
    "\n",
    "# Plot the standard deviation (as shaded areas)\n",
    "plt.fill_between(train_sizes, train_scores_mean - train_scores_std,\n",
    "                 train_scores_mean + train_scores_std, alpha=0.1, color=\"r\")\n",
    "plt.fill_between(train_sizes, test_scores_mean - test_scores_std,\n",
    "                 test_scores_mean + test_scores_std, alpha=0.1, color=\"g\")\n",
    "\n",
    "plt.legend(loc=\"best\")  # Show the legend\n",
    "plt.show()\n",
    "\n",
    "\n",
    "# 7. (Optional)  Print raw results:\n",
    "#--------------------------------------\n",
    "print(\"Train Sizes:\", train_sizes)\n",
    "print(\"Train Scores (Mean):\\n\", train_scores_mean)\n",
    "print(\"Train Scores (Std):\\n\", train_scores_std)\n",
    "print(\"Test Scores (Mean):\\n\", test_scores_mean)\n",
    "print(\"Test Scores (Std):\\n\", test_scores_std)"
   ]
  },
  {
   "cell_type": "code",
   "execution_count": null,
   "metadata": {
    "id": "o1f9ta-q3sa1"
   },
   "outputs": [],
   "source": [
    "\n"
   ]
  },
  {
   "cell_type": "code",
   "execution_count": null,
   "metadata": {
    "id": "63n_lv8xfdl0"
   },
   "outputs": [],
   "source": []
  },
  {
   "cell_type": "code",
   "execution_count": 23,
   "metadata": {
    "colab": {
     "base_uri": "https://localhost:8080/",
     "height": 136
    },
    "executionInfo": {
     "elapsed": 1193,
     "status": "ok",
     "timestamp": 1597744400101,
     "user": {
      "displayName": "Math Hack",
      "photoUrl": "https://lh3.googleusercontent.com/a-/AOh14GjOrJzQ2xAgyHRSCzQ3qBInmHzMPfMtIJGxB4HG=s64",
      "userId": "13730440483455885359"
     },
     "user_tz": -180
    },
    "id": "wxnmK4csa09d",
    "outputId": "370867b2-372a-47d9-9094-fb1fb9c173c5"
   },
   "outputs": [
    {
     "name": "stdout",
     "output_type": "stream",
     "text": [
      "Lasso Regression: R^2 score on test set for  lamdbda= 0.001, 0.0133\n",
      "Lasso Regression: R^2 score on test set for  lamdbda= 0.01, 0.0189\n",
      "Lasso Regression: R^2 score on test set for  lamdbda= 0.1, -0.000255\n",
      "Lasso Regression: R^2 score on test set for  lamdbda= 0.5, -0.000255\n",
      "Lasso Regression: R^2 score on test set for  lamdbda= 1, -0.000255\n",
      "Lasso Regression: R^2 score on test set for  lamdbda= 2, -0.000255\n",
      "Lasso Regression: R^2 score on test set for  lamdbda= 10, -0.000255\n"
     ]
    }
   ],
   "source": [
    "alphas = (0.001, 0.01, 0.1, 0.5, 1, 2, 10)\n",
    "# enumerate through alphas with index and i\n",
    "for  i in  alphas:    \n",
    "    lasso = Lasso(alpha = i)\n",
    "    lasso.fit(X_train_scaled, y_train)\n",
    "    print(f'Lasso Regression: R^2 score on test set for  lamdbda= {i}, {lasso.score(X_test_scaled, y_test):.3}')\n"
   ]
  },
  {
   "cell_type": "code",
   "execution_count": 24,
   "metadata": {
    "colab": {
     "base_uri": "https://localhost:8080/",
     "height": 34
    },
    "executionInfo": {
     "elapsed": 1266,
     "status": "ok",
     "timestamp": 1597744426882,
     "user": {
      "displayName": "Math Hack",
      "photoUrl": "https://lh3.googleusercontent.com/a-/AOh14GjOrJzQ2xAgyHRSCzQ3qBInmHzMPfMtIJGxB4HG=s64",
      "userId": "13730440483455885359"
     },
     "user_tz": -180
    },
    "id": "x_JhOoGNe-2O",
    "outputId": "7a31f51a-58b8-42c7-dce1-1922cc6a58d5"
   },
   "outputs": [
    {
     "data": {
      "text/plain": [
       "((1432, 10), 7)"
      ]
     },
     "execution_count": 24,
     "metadata": {},
     "output_type": "execute_result"
    }
   ],
   "source": [
    "X.shape , len(alphas)"
   ]
  },
  {
   "cell_type": "code",
   "execution_count": 25,
   "metadata": {
    "id": "3ybNFLEpa06N"
   },
   "outputs": [],
   "source": [
    "# plot  alphas\n",
    "\n",
    "# prepare data for enumerate\n",
    "coeff_a = np.zeros((len(alphas), X.shape[1]))\n",
    "train_r_squared = np.zeros(len(alphas))\n",
    "test_r_squared = np.zeros(len(alphas))"
   ]
  },
  {
   "cell_type": "code",
   "execution_count": 26,
   "metadata": {
    "id": "Ei-PYOKeemCG"
   },
   "outputs": [],
   "source": [
    "# enumerate through alphas  with index and i\n",
    "for ind, i in enumerate(alphas):    \n",
    "    lasso = Lasso(alpha = i)\n",
    "    lasso.fit(X_train_scaled, y_train)\n",
    "\n",
    "    coeff_a[ind,:] = lasso.coef_\n",
    "    train_r_squared[ind] = lasso.score(X_train_scaled, y_train)\n",
    "    test_r_squared[ind] = lasso.score(X_test_scaled, y_test)"
   ]
  },
  {
   "cell_type": "code",
   "execution_count": 30,
   "metadata": {
    "colab": {
     "base_uri": "https://localhost:8080/",
     "height": 513
    },
    "executionInfo": {
     "elapsed": 1495,
     "status": "ok",
     "timestamp": 1597744429749,
     "user": {
      "displayName": "Math Hack",
      "photoUrl": "https://lh3.googleusercontent.com/a-/AOh14GjOrJzQ2xAgyHRSCzQ3qBInmHzMPfMtIJGxB4HG=s64",
      "userId": "13730440483455885359"
     },
     "user_tz": -180
    },
    "id": "0GrbrVT_el-f",
    "outputId": "4ef942b6-068f-4e05-8f42-b8ab3ad86e7d"
   },
   "outputs": [
    {
     "data": {
      "image/png": "[encoded data removed]",
      "text/plain": [
       "<Figure size 1000x800 with 1 Axes>"
      ]
     },
     "metadata": {},
     "output_type": "display_data"
    }
   ],
   "source": [
    "# Plotting\n",
    "import matplotlib.pyplot as plt\n",
    "\n",
    "plt.figure(figsize=(10, 8))\n",
    "plt.plot(train_r_squared, 'bo-', label=r'$R^2$ Training set', alpha=0.6, linewidth=3)\n",
    "plt.plot(test_r_squared, 'ro-', label=r'$R^2$ Test set',  alpha=0.6, linewidth=3)\n",
    "plt.xlabel('Alpha index'); plt.ylabel(r'$R^2$')\n",
    "plt.xlim(0, 6)\n",
    "plt.title(r'Evaluate lasso regression with alpha: 0 = 0.001, 1= 0.01, 2 = 0.1, 3 = 0.5, 4= 1, 5= 2, 6 = 10')\n",
    "plt.legend(loc='best')\n",
    "plt.grid()"
   ]
  },
  {
   "cell_type": "code",
   "execution_count": null,
   "metadata": {
    "id": "IDJXQ8jQel6t"
   },
   "outputs": [],
   "source": []
  },
  {
   "cell_type": "code",
   "execution_count": null,
   "metadata": {
    "id": "bhVhBMqr2eEO"
   },
   "outputs": [],
   "source": []
  },
  {
   "cell_type": "code",
   "execution_count": null,
   "metadata": {
    "id": "IHCUk-4p2eHa"
   },
   "outputs": [],
   "source": [
    "#  Validation_curve   توظيف "
   ]
  },
  {
   "cell_type": "code",
   "execution_count": 31,
   "metadata": {
    "id": "VfpYiCGa2eK9"
   },
   "outputs": [],
   "source": [
    "from sklearn.model_selection import validation_curve\n",
    "from sklearn.linear_model import Ridge\n",
    "import numpy as np\n",
    "\n",
    "alphas=np.logspace(-7, 30, 10)\n",
    "from sklearn.model_selection import validation_curve\n",
    "train_scores, test_scores = validation_curve(estimator=lasso, \n",
    "                                              X=X_train, \n",
    "                                              y=y_train,\n",
    "                                              param_name=\"alpha\" ,\n",
    "                                              param_range=alphas, \n",
    "                                              cv=10\n",
    " )"
   ]
  },
  {
   "cell_type": "code",
   "execution_count": 32,
   "metadata": {
    "colab": {
     "base_uri": "https://localhost:8080/",
     "height": 338
    },
    "executionInfo": {
     "elapsed": 1857,
     "status": "ok",
     "timestamp": 1597744435827,
     "user": {
      "displayName": "Math Hack",
      "photoUrl": "https://lh3.googleusercontent.com/a-/AOh14GjOrJzQ2xAgyHRSCzQ3qBInmHzMPfMtIJGxB4HG=s64",
      "userId": "13730440483455885359"
     },
     "user_tz": -180
    },
    "id": "fdAR7t8C2iq8",
    "outputId": "e5e68e17-b6f4-4eae-928c-39ae41dc8533"
   },
   "outputs": [
    {
     "name": "stderr",
     "output_type": "stream",
     "text": [
      "/tmp/ipykernel_2293/1528153738.py:11: UserWarning: Attempt to set non-positive xlim on a log-scaled axis will be ignored.\n",
      "  plt.xlim([0, 0.1])\n"
     ]
    },
    {
     "data": {
      "image/png": "[encoded data removed]",
      "text/plain": [
       "<Figure size 640x480 with 1 Axes>"
      ]
     },
     "metadata": {},
     "output_type": "display_data"
    }
   ],
   "source": [
    "train_mean = np.mean(train_scores, axis=1)\n",
    "test_mean = np.mean(test_scores, axis=1)\n",
    "plt.plot(alphas, train_mean, color='blue', marker='o',markersize=5, label='Training accuracy')\n",
    "plt.plot(alphas, test_mean,color='green', linestyle='--',marker='s', markersize=5,label='Validation accuracy')\n",
    "plt.grid()\n",
    "plt.xscale('log')\n",
    "\n",
    "plt.xlabel('Alpha Parameter')\n",
    "plt.ylabel('Accuracy')\n",
    "plt.legend(loc='lower right')\n",
    "plt.xlim([0, 0.1])\n",
    "plt.show()"
   ]
  },
  {
   "cell_type": "code",
   "execution_count": 33,
   "metadata": {
    "id": "DJDTDw9O2iuM"
   },
   "outputs": [],
   "source": [
    "lasso = Lasso(alpha=.001).fit(X_train_scaled, y_train)"
   ]
  },
  {
   "cell_type": "code",
   "execution_count": null,
   "metadata": {
    "colab": {
     "base_uri": "https://localhost:8080/",
     "height": 312
    },
    "executionInfo": {
     "elapsed": 1127,
     "status": "ok",
     "timestamp": 1597744464414,
     "user": {
      "displayName": "Math Hack",
      "photoUrl": "https://lh3.googleusercontent.com/a-/AOh14GjOrJzQ2xAgyHRSCzQ3qBInmHzMPfMtIJGxB4HG=s64",
      "userId": "13730440483455885359"
     },
     "user_tz": -180
    },
    "id": "7zkfiNLS2ixc",
    "outputId": "fa20294d-a006-4687-93ca-5acda0a63fe9"
   },
   "outputs": [
    {
     "ename": "ImportError",
     "evalue": "cannot import name 'interp' from 'scipy' (/home/codespace/.local/lib/python3.12/site-packages/scipy/__init__.py)",
     "output_type": "error",
     "traceback": [
      "\u001b[0;31m---------------------------------------------------------------------------\u001b[0m",
      "\u001b[0;31mImportError\u001b[0m                               Traceback (most recent call last)",
      "Cell \u001b[0;32mIn[27], line 2\u001b[0m\n\u001b[1;32m      1\u001b[0m \u001b[38;5;66;03m# تخطيط التعلّم \u001b[39;00m\n\u001b[0;32m----> 2\u001b[0m \u001b[38;5;28;01mimport\u001b[39;00m \u001b[38;5;21;01mscikitplot\u001b[39;00m \u001b[38;5;28;01mas\u001b[39;00m \u001b[38;5;21;01mskplt\u001b[39;00m\n\u001b[1;32m      3\u001b[0m skplt\u001b[38;5;241m.\u001b[39mestimators\u001b[38;5;241m.\u001b[39mplot_learning_curve(lasso, X_train, y_train, scoring\u001b[38;5;241m=\u001b[39m\u001b[38;5;124m\"\u001b[39m\u001b[38;5;124mr2\u001b[39m\u001b[38;5;124m\"\u001b[39m)  \u001b[38;5;66;03m#\"neg_mean_absolute_error\")\u001b[39;00m\n",
      "File \u001b[0;32m/usr/local/python/3.12.1/lib/python3.12/site-packages/scikitplot/__init__.py:2\u001b[0m\n\u001b[1;32m      1\u001b[0m \u001b[38;5;28;01mfrom\u001b[39;00m \u001b[38;5;21;01m__future__\u001b[39;00m \u001b[38;5;28;01mimport\u001b[39;00m absolute_import, division, print_function, unicode_literals\n\u001b[0;32m----> 2\u001b[0m \u001b[38;5;28;01mfrom\u001b[39;00m \u001b[38;5;21;01m.\u001b[39;00m \u001b[38;5;28;01mimport\u001b[39;00m metrics, cluster, decomposition, estimators\n\u001b[1;32m      3\u001b[0m __version__ \u001b[38;5;241m=\u001b[39m \u001b[38;5;124m'\u001b[39m\u001b[38;5;124m0.3.7\u001b[39m\u001b[38;5;124m'\u001b[39m\n\u001b[1;32m      6\u001b[0m \u001b[38;5;28;01mfrom\u001b[39;00m \u001b[38;5;21;01mscikitplot\u001b[39;00m\u001b[38;5;21;01m.\u001b[39;00m\u001b[38;5;21;01mclassifiers\u001b[39;00m \u001b[38;5;28;01mimport\u001b[39;00m classifier_factory\n",
      "File \u001b[0;32m/usr/local/python/3.12.1/lib/python3.12/site-packages/scikitplot/metrics.py:27\u001b[0m\n\u001b[1;32m     24\u001b[0m \u001b[38;5;28;01mfrom\u001b[39;00m \u001b[38;5;21;01msklearn\u001b[39;00m\u001b[38;5;21;01m.\u001b[39;00m\u001b[38;5;21;01mcalibration\u001b[39;00m \u001b[38;5;28;01mimport\u001b[39;00m calibration_curve\n\u001b[1;32m     25\u001b[0m \u001b[38;5;28;01mfrom\u001b[39;00m \u001b[38;5;21;01msklearn\u001b[39;00m\u001b[38;5;21;01m.\u001b[39;00m\u001b[38;5;21;01mutils\u001b[39;00m \u001b[38;5;28;01mimport\u001b[39;00m deprecated\n\u001b[0;32m---> 27\u001b[0m \u001b[38;5;28;01mfrom\u001b[39;00m \u001b[38;5;21;01mscipy\u001b[39;00m \u001b[38;5;28;01mimport\u001b[39;00m interp\n\u001b[1;32m     29\u001b[0m \u001b[38;5;28;01mfrom\u001b[39;00m \u001b[38;5;21;01mscikitplot\u001b[39;00m\u001b[38;5;21;01m.\u001b[39;00m\u001b[38;5;21;01mhelpers\u001b[39;00m \u001b[38;5;28;01mimport\u001b[39;00m binary_ks_curve, validate_labels\n\u001b[1;32m     30\u001b[0m \u001b[38;5;28;01mfrom\u001b[39;00m \u001b[38;5;21;01mscikitplot\u001b[39;00m\u001b[38;5;21;01m.\u001b[39;00m\u001b[38;5;21;01mhelpers\u001b[39;00m \u001b[38;5;28;01mimport\u001b[39;00m cumulative_gain_curve\n",
      "\u001b[0;31mImportError\u001b[0m: cannot import name 'interp' from 'scipy' (/home/codespace/.local/lib/python3.12/site-packages/scipy/__init__.py)"
     ]
    }
   ],
   "source": [
    "# تخطيط التعلّم \n",
    "import scikitplot as skplt\n",
    "skplt.estimators.plot_learning_curve(lasso, X_train, y_train, scoring=\"r2\")  #\"neg_mean_absolute_error\")"
   ]
  },
  {
   "cell_type": "markdown",
   "metadata": {},
   "source": [
    "- Why factro determine our choice of Lasso or Ridge "
   ]
  },
  {
   "cell_type": "code",
   "execution_count": null,
   "metadata": {
    "id": "sCT_mYqua007"
   },
   "outputs": [],
   "source": [
    "#  لا ننسى انا بصدد توظيف جميع الخصائص الرقمية فقط "
   ]
  },
  {
   "cell_type": "code",
   "execution_count": null,
   "metadata": {
    "id": "-acUlKWE17kI"
   },
   "outputs": [],
   "source": []
  }
 ],
 "metadata": {
  "colab": {
   "authorship_tag": "ABX9TyNb94hIe3ua+Rx+NCmed0Qj",
   "collapsed_sections": [],
   "mount_file_id": "1V5r8JhHpXyzpys2MPGVtrK4H3saez-iH",
   "name": "13_Lasso.ipynb",
   "provenance": []
  },
  "kernelspec": {
   "display_name": "Python 3",
   "name": "python3"
  },
  "language_info": {
   "codemirror_mode": {
    "name": "ipython",
    "version": 3
   },
   "file_extension": ".py",
   "mimetype": "text/x-python",
   "name": "python",
   "nbconvert_exporter": "python",
   "pygments_lexer": "ipython3",
   "version": "3.12.1"
  }
 },
 "nbformat": 4,
 "nbformat_minor": 0
}
