{
 "cells": [
  {
   "cell_type": "markdown",
   "metadata": {},
   "source": [
    "<div style='color: #216969;\n",
    "           background-color: #EAF6F6;\n",
    "           font-size: 200%;\n",
    "           border-radius:15px;\n",
    "           text-align:center;\n",
    "           font-weight:600;\n",
    "           border-style: solid;\n",
    "           border-color: dark green;\n",
    "           font-family: \"Cambria\";'>\n",
    "Ridge Regularization\n",
    "<a class=\"anchor\" id=\"1\"></a> "
   ]
  },
  {
   "cell_type": "code",
   "execution_count": null,
   "metadata": {
    "id": "cgvNToM5UROZ"
   },
   "outputs": [],
   "source": []
  },
  {
   "cell_type": "code",
   "execution_count": null,
   "metadata": {
    "id": "cB4EP4sZUTha"
   },
   "outputs": [],
   "source": []
  },
  {
   "cell_type": "markdown",
   "metadata": {
    "id": "d1KKPh0F_3Lk"
   },
   "source": [
    "| |<font size=\"5\">Ridge نموذج </font>|\n",
    "|-:|-:|\n",
    "|<img src=\"https://cdn-images-1.medium.com/max/800/1*XC-8tHoMxrO3ogHKylRfRA.png\" width=400></img>||\n",
    "||<font size=\"4\"> تحميل البيانات ومعالجتها </font>| \n",
    "||<font size=\"4\"> Regularization الضبط في نماذج تعلم الآلة </font>| \n",
    "||<font size=\"4\">Ridge  توظيف خوارزمية </font>| \n",
    "||<font size=\"4\"> training   تدريب البيانات </font>| \n",
    "||<font size=\"4\"> Metrics   تقويم أداء الخوارزمية </font>|"
   ]
  },
  {
   "cell_type": "code",
   "execution_count": null,
   "metadata": {
    "id": "HOAxeDVGUTlB"
   },
   "outputs": [],
   "source": []
  },
  {
   "cell_type": "code",
   "execution_count": null,
   "metadata": {
    "id": "cl6TYay1UTor"
   },
   "outputs": [],
   "source": []
  },
  {
   "cell_type": "markdown",
   "metadata": {
    "id": "GFjVwE6ACFME"
   },
   "source": [
    "### Regularization   الضبط في نماذج تعلم الآلة\n",
    " \n",
    " "
   ]
  },
  {
   "cell_type": "code",
   "execution_count": null,
   "metadata": {
    "id": "HUfNzLFcK6Zq"
   },
   "outputs": [],
   "source": []
  },
  {
   "cell_type": "code",
   "execution_count": null,
   "metadata": {
    "id": "ryXWs_TMhEzV"
   },
   "outputs": [],
   "source": []
  },
  {
   "cell_type": "markdown",
   "metadata": {
    "id": "PLnuNlEQuNHS"
   },
   "source": [
    "![](https://i0.wp.com/www.nmthgiat.com/wp-content/uploads/2019/04/Overfitting.png?resize=554%2C158&ssl=1)"
   ]
  },
  {
   "cell_type": "code",
   "execution_count": null,
   "metadata": {
    "id": "sSsZMlgeBWAp"
   },
   "outputs": [],
   "source": []
  },
  {
   "cell_type": "code",
   "execution_count": null,
   "metadata": {
    "id": "4CKTurjWhHIm"
   },
   "outputs": [],
   "source": []
  },
  {
   "cell_type": "code",
   "execution_count": null,
   "metadata": {
    "id": "DB88S6RxhHMM"
   },
   "outputs": [],
   "source": []
  },
  {
   "cell_type": "markdown",
   "metadata": {
    "id": "Qw43QaffkarF"
   },
   "source": [
    "![](https://media.geeksforgeeks.org/wp-content/uploads/20200107015710/HighBias.jpg)\n",
    "\n",
    "$\\large h_\\theta(x)= g(\\theta_0 +\\theta_1 x_1 + \\theta_2 x_2) $"
   ]
  },
  {
   "cell_type": "code",
   "execution_count": null,
   "metadata": {
    "id": "vKH7qfszhDUx"
   },
   "outputs": [],
   "source": []
  },
  {
   "cell_type": "code",
   "execution_count": null,
   "metadata": {
    "id": "whYqvCmHhDYh"
   },
   "outputs": [],
   "source": []
  },
  {
   "cell_type": "code",
   "execution_count": null,
   "metadata": {
    "id": "unpMCJc2hDjc"
   },
   "outputs": [],
   "source": []
  },
  {
   "cell_type": "markdown",
   "metadata": {
    "id": "q2dWz8_CpImf"
   },
   "source": [
    "درجة تباين عالية\n",
    "\n",
    "![](https://miro.medium.com/max/700/1*szpOBWtAkMwFkvVTBCGjqg.png)\n",
    "\n",
    "\n",
    "$\\large h_\\theta(x)= g(\\theta_0 +\\theta_1 x + \\theta_2 x^2+\\theta_3 x^3+\\theta_4 x^4) $"
   ]
  },
  {
   "cell_type": "code",
   "execution_count": null,
   "metadata": {
    "id": "Uqf1pRaFhX8d"
   },
   "outputs": [],
   "source": []
  },
  {
   "cell_type": "code",
   "execution_count": null,
   "metadata": {
    "id": "CzIIpBpGhX_p"
   },
   "outputs": [],
   "source": []
  },
  {
   "cell_type": "markdown",
   "metadata": {
    "id": "_f-HBGZbrra-"
   },
   "source": [
    "\n",
    "![](https://i1.wp.com/www.nmthgiat.com/wp-content/uploads/2019/04/beforeafter.png?resize=537%2C220&ssl=1)"
   ]
  },
  {
   "cell_type": "code",
   "execution_count": null,
   "metadata": {
    "id": "1DH70qawhlX2"
   },
   "outputs": [],
   "source": []
  },
  {
   "cell_type": "code",
   "execution_count": null,
   "metadata": {
    "id": "F9W1FFEXhlfz"
   },
   "outputs": [],
   "source": []
  },
  {
   "cell_type": "code",
   "execution_count": null,
   "metadata": {
    "id": "R6VHPgpdhlmE"
   },
   "outputs": [],
   "source": []
  },
  {
   "cell_type": "markdown",
   "metadata": {
    "id": "FMDluxEBr3Sk"
   },
   "source": [
    "\n",
    "- أفضل النماذج ملاءمة تكمن في  فرضية نقطة المقايضة \n",
    "![](https://media.geeksforgeeks.org/wp-content/uploads/20200107023418/1_oO0KYF7Z84nePqfsJ9E0WQ.png)"
   ]
  },
  {
   "cell_type": "markdown",
   "metadata": {
    "id": "SLRylxtT2IGx"
   },
   "source": [
    "![](https://miro.medium.com/max/700/1*OLh18FDyOhIEG5idV4kXFQ.png)"
   ]
  },
  {
   "cell_type": "code",
   "execution_count": null,
   "metadata": {
    "colab": {
     "base_uri": "https://localhost:8080/",
     "height": 35
    },
    "executionInfo": {
     "elapsed": 1973,
     "status": "ok",
     "timestamp": 1601401340042,
     "user": {
      "displayName": "Math Hack",
      "photoUrl": "https://lh3.googleusercontent.com/a-/AOh14GjOrJzQ2xAgyHRSCzQ3qBInmHzMPfMtIJGxB4HG=s64",
      "userId": "13730440483455885359"
     },
     "user_tz": -180
    },
    "id": "xzfVfIGiK9U4",
    "outputId": "a0e37141-e466-4d41-e704-a17b67ec65b1"
   },
   "outputs": [
    {
     "data": {
      "application/vnd.google.colaboratory.intrinsic+json": {
       "type": "string"
      },
      "text/plain": [
       "'/content/drive/My Drive/ML-Course'"
      ]
     },
     "execution_count": 10,
     "metadata": {
      "tags": []
     },
     "output_type": "execute_result"
    }
   ],
   "source": [
    "pwd"
   ]
  },
  {
   "cell_type": "code",
   "execution_count": null,
   "metadata": {
    "id": "0p-03R6iK9bm"
   },
   "outputs": [],
   "source": [
    "# Data Loading\n",
    "import pandas as pd\n",
    "df= pd.read_csv(\"../data/HousePrice3.csv\", index_col=0)"
   ]
  },
  {
   "cell_type": "code",
   "execution_count": 2,
   "metadata": {
    "colab": {
     "base_uri": "https://localhost:8080/",
     "height": 213
    },
    "executionInfo": {
     "elapsed": 1957,
     "status": "ok",
     "timestamp": 1601401340045,
     "user": {
      "displayName": "Math Hack",
      "photoUrl": "https://lh3.googleusercontent.com/a-/AOh14GjOrJzQ2xAgyHRSCzQ3qBInmHzMPfMtIJGxB4HG=s64",
      "userId": "13730440483455885359"
     },
     "user_tz": -180
    },
    "id": "c15he76SO5Db",
    "outputId": "ecb54452-c02b-40d8-dea4-a48ba4f28687"
   },
   "outputs": [
    {
     "data": {
      "text/html": [
       "<div>\n",
       "<style scoped>\n",
       "    .dataframe tbody tr th:only-of-type {\n",
       "        vertical-align: middle;\n",
       "    }\n",
       "\n",
       "    .dataframe tbody tr th {\n",
       "        vertical-align: top;\n",
       "    }\n",
       "\n",
       "    .dataframe thead th {\n",
       "        text-align: right;\n",
       "    }\n",
       "</style>\n",
       "<table border=\"1\" class=\"dataframe\">\n",
       "  <thead>\n",
       "    <tr style=\"text-align: right;\">\n",
       "      <th></th>\n",
       "      <th>Id</th>\n",
       "      <th>MSSubClass</th>\n",
       "      <th>MSZoning</th>\n",
       "      <th>LotFrontage</th>\n",
       "      <th>LotArea</th>\n",
       "      <th>Street</th>\n",
       "      <th>Alley</th>\n",
       "      <th>LotShape</th>\n",
       "      <th>LandContour</th>\n",
       "      <th>Utilities</th>\n",
       "      <th>...</th>\n",
       "      <th>PoolArea</th>\n",
       "      <th>PoolQC</th>\n",
       "      <th>Fence</th>\n",
       "      <th>MiscFeature</th>\n",
       "      <th>MiscVal</th>\n",
       "      <th>MoSold</th>\n",
       "      <th>YrSold</th>\n",
       "      <th>SaleType</th>\n",
       "      <th>SaleCondition</th>\n",
       "      <th>SalePrice</th>\n",
       "    </tr>\n",
       "  </thead>\n",
       "  <tbody>\n",
       "    <tr>\n",
       "      <th>0</th>\n",
       "      <td>1</td>\n",
       "      <td>60</td>\n",
       "      <td>RL</td>\n",
       "      <td>65.0</td>\n",
       "      <td>8450</td>\n",
       "      <td>Pave</td>\n",
       "      <td>NaN</td>\n",
       "      <td>Reg</td>\n",
       "      <td>Lvl</td>\n",
       "      <td>AllPub</td>\n",
       "      <td>...</td>\n",
       "      <td>0</td>\n",
       "      <td>NaN</td>\n",
       "      <td>NaN</td>\n",
       "      <td>NaN</td>\n",
       "      <td>0</td>\n",
       "      <td>2</td>\n",
       "      <td>2008</td>\n",
       "      <td>WD</td>\n",
       "      <td>Normal</td>\n",
       "      <td>208500</td>\n",
       "    </tr>\n",
       "    <tr>\n",
       "      <th>1</th>\n",
       "      <td>2</td>\n",
       "      <td>20</td>\n",
       "      <td>RL</td>\n",
       "      <td>80.0</td>\n",
       "      <td>9600</td>\n",
       "      <td>Pave</td>\n",
       "      <td>NaN</td>\n",
       "      <td>Reg</td>\n",
       "      <td>Lvl</td>\n",
       "      <td>AllPub</td>\n",
       "      <td>...</td>\n",
       "      <td>0</td>\n",
       "      <td>NaN</td>\n",
       "      <td>NaN</td>\n",
       "      <td>NaN</td>\n",
       "      <td>0</td>\n",
       "      <td>5</td>\n",
       "      <td>2007</td>\n",
       "      <td>WD</td>\n",
       "      <td>Normal</td>\n",
       "      <td>181500</td>\n",
       "    </tr>\n",
       "    <tr>\n",
       "      <th>2</th>\n",
       "      <td>3</td>\n",
       "      <td>60</td>\n",
       "      <td>RL</td>\n",
       "      <td>68.0</td>\n",
       "      <td>11250</td>\n",
       "      <td>Pave</td>\n",
       "      <td>NaN</td>\n",
       "      <td>IR1</td>\n",
       "      <td>Lvl</td>\n",
       "      <td>AllPub</td>\n",
       "      <td>...</td>\n",
       "      <td>0</td>\n",
       "      <td>NaN</td>\n",
       "      <td>NaN</td>\n",
       "      <td>NaN</td>\n",
       "      <td>0</td>\n",
       "      <td>9</td>\n",
       "      <td>2008</td>\n",
       "      <td>WD</td>\n",
       "      <td>Normal</td>\n",
       "      <td>223500</td>\n",
       "    </tr>\n",
       "  </tbody>\n",
       "</table>\n",
       "<p>3 rows × 78 columns</p>\n",
       "</div>"
      ],
      "text/plain": [
       "   Id  MSSubClass MSZoning  LotFrontage  LotArea Street Alley LotShape  \\\n",
       "0   1          60       RL         65.0     8450   Pave   NaN      Reg   \n",
       "1   2          20       RL         80.0     9600   Pave   NaN      Reg   \n",
       "2   3          60       RL         68.0    11250   Pave   NaN      IR1   \n",
       "\n",
       "  LandContour Utilities  ... PoolArea PoolQC Fence MiscFeature MiscVal MoSold  \\\n",
       "0         Lvl    AllPub  ...        0    NaN   NaN         NaN       0      2   \n",
       "1         Lvl    AllPub  ...        0    NaN   NaN         NaN       0      5   \n",
       "2         Lvl    AllPub  ...        0    NaN   NaN         NaN       0      9   \n",
       "\n",
       "  YrSold  SaleType  SaleCondition  SalePrice  \n",
       "0   2008        WD         Normal     208500  \n",
       "1   2007        WD         Normal     181500  \n",
       "2   2008        WD         Normal     223500  \n",
       "\n",
       "[3 rows x 78 columns]"
      ]
     },
     "execution_count": 2,
     "metadata": {},
     "output_type": "execute_result"
    }
   ],
   "source": [
    "df.head(3)"
   ]
  },
  {
   "cell_type": "markdown",
   "metadata": {},
   "source": [
    "![](../imgs/featureEngin.png)"
   ]
  },
  {
   "cell_type": "markdown",
   "metadata": {},
   "source": [
    "![](../data/features_kept1.csv)"
   ]
  },
  {
   "cell_type": "markdown",
   "metadata": {
    "id": "2uDPsINgJflv"
   },
   "source": [
    "![](https://image.flaticon.com/icons/png/128/3079/3079166.png)"
   ]
  },
  {
   "cell_type": "code",
   "execution_count": 3,
   "metadata": {
    "colab": {
     "base_uri": "https://localhost:8080/",
     "height": 527
    },
    "executionInfo": {
     "elapsed": 1952,
     "status": "ok",
     "timestamp": 1601401340046,
     "user": {
      "displayName": "Math Hack",
      "photoUrl": "https://lh3.googleusercontent.com/a-/AOh14GjOrJzQ2xAgyHRSCzQ3qBInmHzMPfMtIJGxB4HG=s64",
      "userId": "13730440483455885359"
     },
     "user_tz": -180
    },
    "id": "SCzNek-1PQrl",
    "outputId": "89b0ba9a-7d73-45a0-d41a-40b25ce0a4cf"
   },
   "outputs": [
    {
     "data": {
      "text/plain": [
       "SalePrice        1.000000\n",
       "OverallQual      0.790982\n",
       "GrLivArea        0.708624\n",
       "GarageArea       0.623431\n",
       "TotalBsmtSF      0.613581\n",
       "FullBath         0.560664\n",
       "TotRmsAbvGrd     0.533723\n",
       "YearBuilt        0.522897\n",
       "YearRemodAdd     0.507101\n",
       "MasVnrArea       0.477493\n",
       "Fireplaces       0.466929\n",
       "BsmtFinSF1       0.386420\n",
       "LotFrontage      0.351799\n",
       "WoodDeckSF       0.324413\n",
       "2ndFlrSF         0.319334\n",
       "OpenPorchSF      0.315856\n",
       "HalfBath         0.284108\n",
       "LotArea          0.263843\n",
       "BsmtFullBath     0.227122\n",
       "BsmtUnfSF        0.214479\n",
       "BedroomAbvGr     0.168213\n",
       "ScreenPorch      0.111447\n",
       "PoolArea         0.092404\n",
       "MoSold           0.046432\n",
       "3SsnPorch        0.044584\n",
       "BsmtFinSF2      -0.011378\n",
       "BsmtHalfBath    -0.016844\n",
       "MiscVal         -0.021190\n",
       "Id              -0.021917\n",
       "LowQualFinSF    -0.025606\n",
       "YrSold          -0.028923\n",
       "OverallCond     -0.077856\n",
       "MSSubClass      -0.084284\n",
       "EnclosedPorch   -0.128578\n",
       "KitchenAbvGr    -0.135907\n",
       "Name: SalePrice, dtype: float64"
      ]
     },
     "execution_count": 3,
     "metadata": {},
     "output_type": "execute_result"
    }
   ],
   "source": [
    "df.select_dtypes(\"number\").corr()['SalePrice'].sort_values(ascending=False)"
   ]
  },
  {
   "cell_type": "code",
   "execution_count": 4,
   "metadata": {
    "colab": {
     "base_uri": "https://localhost:8080/",
     "height": 119
    },
    "executionInfo": {
     "elapsed": 1947,
     "status": "ok",
     "timestamp": 1601401340047,
     "user": {
      "displayName": "Math Hack",
      "photoUrl": "https://lh3.googleusercontent.com/a-/AOh14GjOrJzQ2xAgyHRSCzQ3qBInmHzMPfMtIJGxB4HG=s64",
      "userId": "13730440483455885359"
     },
     "user_tz": -180
    },
    "id": "DsnqFi-nPQnt",
    "outputId": "63d44eba-32c4-45a3-8d0f-48546583eeae"
   },
   "outputs": [
    {
     "data": {
      "text/plain": [
       "SalePrice      1.000000\n",
       "OverallQual    0.790982\n",
       "GrLivArea      0.708624\n",
       "GarageArea     0.623431\n",
       "TotalBsmtSF    0.613581\n",
       "Name: SalePrice, dtype: float64"
      ]
     },
     "execution_count": 4,
     "metadata": {},
     "output_type": "execute_result"
    }
   ],
   "source": [
    "# قائمة المتغيرات الأكثر ارتباطا \n",
    "\n",
    "corr = df.select_dtypes(\"number\").corr()['SalePrice'].sort_values(ascending=False)\n",
    "corr[:5]\n",
    "#SalePrice الاكتفاء بالمتغيرات الأكثر ارتباطا ب   "
   ]
  },
  {
   "cell_type": "markdown",
   "metadata": {
    "id": "oKBVGKhvJlDp"
   },
   "source": [
    "![](../imgs/target.jpeg)"
   ]
  },
  {
   "cell_type": "code",
   "execution_count": 5,
   "metadata": {
    "id": "__OHW2_sBjwC"
   },
   "outputs": [],
   "source": [
    "X=df[[\"OverallQual\" ,\"GrLivArea\" , \"GarageArea\" , \"TotalBsmtSF\" ]]\n",
    "y=df.SalePrice "
   ]
  },
  {
   "cell_type": "markdown",
   "metadata": {
    "id": "RNu4r3SXJoN_"
   },
   "source": [
    "![](../imgs/dataSplit.jpg)"
   ]
  },
  {
   "cell_type": "code",
   "execution_count": 6,
   "metadata": {
    "id": "ISG0iQcEUBEl"
   },
   "outputs": [],
   "source": [
    "# تقسيم البيانات \n",
    "from sklearn.model_selection import train_test_split\n",
    "X_train, X_test, y_train, y_test=train_test_split(X, y  ,test_size=.33, random_state=42)"
   ]
  },
  {
   "cell_type": "code",
   "execution_count": 7,
   "metadata": {
    "id": "N52vEfXP25Oy"
   },
   "outputs": [],
   "source": [
    "#  معالجة البيانات المتطرفة وإإعادة توزيعها\n",
    "from sklearn.preprocessing import MinMaxScaler\n",
    "\n",
    "scaler = MinMaxScaler()\n",
    "X_train_scaled = scaler.fit_transform(X_train)\n",
    "X_test_scaled = scaler.transform(X_test)"
   ]
  },
  {
   "cell_type": "code",
   "execution_count": null,
   "metadata": {
    "id": "dG7oCvkfQUMy"
   },
   "outputs": [],
   "source": []
  },
  {
   "cell_type": "code",
   "execution_count": null,
   "metadata": {
    "id": "tViqk-GxUcOQ"
   },
   "outputs": [],
   "source": []
  },
  {
   "cell_type": "code",
   "execution_count": null,
   "metadata": {
    "id": "YWMgpURIUcR2"
   },
   "outputs": [],
   "source": []
  },
  {
   "cell_type": "markdown",
   "metadata": {
    "id": "RTwRZEcHIwDa"
   },
   "source": [
    "###  RIdhe Model"
   ]
  },
  {
   "cell_type": "markdown",
   "metadata": {
    "id": "Mya6n9-P-Gep"
   },
   "source": [
    "<image src=\"https://static.thenounproject.com/png/2010152-200.png\" width=10%></img>"
   ]
  },
  {
   "cell_type": "markdown",
   "metadata": {
    "id": "MCL09a-73CnR"
   },
   "source": [
    "$\\Large  RSS_{Ridge}= \\sum (Y_i -\\hat Y_i )^2 + \\alpha\\sum\\beta_i^2  $\n",
    "\n",
    "$\\Large  RSS_{Ridge}= \\sum (Y_i -\\beta_0 -\\beta_iX_i )^2 + \\alpha\\sum\\beta_i^2  $"
   ]
  },
  {
   "cell_type": "markdown",
   "metadata": {},
   "source": [
    "![](../imgs/model.png)"
   ]
  },
  {
   "cell_type": "code",
   "execution_count": 8,
   "metadata": {
    "id": "o9HzAYULUBAd"
   },
   "outputs": [],
   "source": [
    "\n",
    "from sklearn.linear_model import Ridge\n",
    "\n",
    "linRidge = Ridge(alpha=20.0).fit(X_train_scaled, y_train)"
   ]
  },
  {
   "cell_type": "markdown",
   "metadata": {
    "id": "IGfpoU1Z-Xjj"
   },
   "source": [
    "![](../imgs/metrics.png)"
   ]
  },
  {
   "cell_type": "code",
   "execution_count": 9,
   "metadata": {
    "colab": {
     "base_uri": "https://localhost:8080/",
     "height": 34
    },
    "executionInfo": {
     "elapsed": 1055,
     "status": "ok",
     "timestamp": 1597700251442,
     "user": {
      "displayName": "Math Hack",
      "photoUrl": "https://lh3.googleusercontent.com/a-/AOh14GjOrJzQ2xAgyHRSCzQ3qBInmHzMPfMtIJGxB4HG=s64",
      "userId": "13730440483455885359"
     },
     "user_tz": -180
    },
    "id": "2RHU9PWtZ5yc",
    "outputId": "c5e58ecb-65f1-4dd3-b5ff-ed37f1892898"
   },
   "outputs": [
    {
     "data": {
      "text/plain": [
       "array([153967.54184004,  94814.42818117,  98276.85818078,  59617.62543581])"
      ]
     },
     "execution_count": 9,
     "metadata": {},
     "output_type": "execute_result"
    }
   ],
   "source": [
    "linRidge.coef_\n"
   ]
  },
  {
   "cell_type": "code",
   "execution_count": 10,
   "metadata": {
    "colab": {
     "base_uri": "https://localhost:8080/",
     "height": 34
    },
    "executionInfo": {
     "elapsed": 837,
     "status": "ok",
     "timestamp": 1597700251444,
     "user": {
      "displayName": "Math Hack",
      "photoUrl": "https://lh3.googleusercontent.com/a-/AOh14GjOrJzQ2xAgyHRSCzQ3qBInmHzMPfMtIJGxB4HG=s64",
      "userId": "13730440483455885359"
     },
     "user_tz": -180
    },
    "id": "ixogF8DLzNVy",
    "outputId": "bd1f717c-8fb7-4cea-c924-6c8c4af04b97"
   },
   "outputs": [
    {
     "data": {
      "text/plain": [
       "np.float64(101669.1134094499)"
      ]
     },
     "execution_count": 10,
     "metadata": {},
     "output_type": "execute_result"
    }
   ],
   "source": [
    "linRidge.coef_.mean()"
   ]
  },
  {
   "cell_type": "code",
   "execution_count": 11,
   "metadata": {
    "colab": {
     "base_uri": "https://localhost:8080/",
     "height": 35
    },
    "executionInfo": {
     "elapsed": 1273,
     "status": "ok",
     "timestamp": 1597700252037,
     "user": {
      "displayName": "Math Hack",
      "photoUrl": "https://lh3.googleusercontent.com/a-/AOh14GjOrJzQ2xAgyHRSCzQ3qBInmHzMPfMtIJGxB4HG=s64",
      "userId": "13730440483455885359"
     },
     "user_tz": -180
    },
    "id": "RgDGaks1Z_aP",
    "outputId": "38b7c919-8591-45ab-e657-94d6da709f69"
   },
   "outputs": [
    {
     "data": {
      "text/plain": [
       "'y intercept  :2.88e+04    : y  تقاطع  '"
      ]
     },
     "execution_count": 11,
     "metadata": {},
     "output_type": "execute_result"
    }
   ],
   "source": [
    "f'y intercept  :{linRidge.intercept_:.3}    : y  تقاطع  '"
   ]
  },
  {
   "cell_type": "code",
   "execution_count": 12,
   "metadata": {
    "id": "lCGnz1q9aDmZ"
   },
   "outputs": [],
   "source": [
    "# المعادلة \n"
   ]
  },
  {
   "cell_type": "code",
   "execution_count": 13,
   "metadata": {
    "id": "3l0QXB2iWtvb"
   },
   "outputs": [],
   "source": [
    "#  التنبؤ\n",
    "y_pred = linRidge.predict(X_test_scaled)"
   ]
  },
  {
   "cell_type": "code",
   "execution_count": 14,
   "metadata": {
    "cellView": "both",
    "colab": {
     "base_uri": "https://localhost:8080/",
     "height": 35
    },
    "executionInfo": {
     "elapsed": 1298,
     "status": "ok",
     "timestamp": 1597700252660,
     "user": {
      "displayName": "Math Hack",
      "photoUrl": "https://lh3.googleusercontent.com/a-/AOh14GjOrJzQ2xAgyHRSCzQ3qBInmHzMPfMtIJGxB4HG=s64",
      "userId": "13730440483455885359"
     },
     "user_tz": -180
    },
    "id": "LdqDBK5_Wtru",
    "outputId": "5225a9d7-34b5-4ea0-d4e2-7810c9f522f7"
   },
   "outputs": [
    {
     "data": {
      "text/plain": [
       "' Score :  0.637'"
      ]
     },
     "execution_count": 14,
     "metadata": {},
     "output_type": "execute_result"
    }
   ],
   "source": [
    "# تقويم  النموذج \n",
    "from sklearn import metrics \n",
    "f' Score :  {metrics.r2_score(y_test, y_pred):.3}'"
   ]
  },
  {
   "cell_type": "code",
   "execution_count": 15,
   "metadata": {
    "colab": {
     "base_uri": "https://localhost:8080/",
     "height": 34
    },
    "executionInfo": {
     "elapsed": 1098,
     "status": "ok",
     "timestamp": 1597700252662,
     "user": {
      "displayName": "Math Hack",
      "photoUrl": "https://lh3.googleusercontent.com/a-/AOh14GjOrJzQ2xAgyHRSCzQ3qBInmHzMPfMtIJGxB4HG=s64",
      "userId": "13730440483455885359"
     },
     "user_tz": -180
    },
    "id": "Xr2MjpiBjzAX",
    "outputId": "934d724c-441a-4451-9af6-d50fdc2c799d"
   },
   "outputs": [
    {
     "data": {
      "text/plain": [
       "0.6371039316346094"
      ]
     },
     "execution_count": 15,
     "metadata": {},
     "output_type": "execute_result"
    }
   ],
   "source": [
    "linRidge.score(X_test_scaled, y_test)"
   ]
  },
  {
   "cell_type": "code",
   "execution_count": 16,
   "metadata": {
    "colab": {
     "base_uri": "https://localhost:8080/",
     "height": 35
    },
    "executionInfo": {
     "elapsed": 907,
     "status": "ok",
     "timestamp": 1597700252663,
     "user": {
      "displayName": "Math Hack",
      "photoUrl": "https://lh3.googleusercontent.com/a-/AOh14GjOrJzQ2xAgyHRSCzQ3qBInmHzMPfMtIJGxB4HG=s64",
      "userId": "13730440483455885359"
     },
     "user_tz": -180
    },
    "id": "j9rO69EaWtnj",
    "outputId": "ca64b60b-2c30-4473-a38b-11033fb46f22"
   },
   "outputs": [
    {
     "data": {
      "text/plain": [
       "' Score :  3.03e+04'"
      ]
     },
     "execution_count": 16,
     "metadata": {},
     "output_type": "execute_result"
    }
   ],
   "source": [
    "f' Score :  {metrics.mean_absolute_error(y_test, y_pred):.3}'"
   ]
  },
  {
   "cell_type": "code",
   "execution_count": 17,
   "metadata": {
    "colab": {
     "base_uri": "https://localhost:8080/",
     "height": 35
    },
    "executionInfo": {
     "elapsed": 1418,
     "status": "ok",
     "timestamp": 1597700253362,
     "user": {
      "displayName": "Math Hack",
      "photoUrl": "https://lh3.googleusercontent.com/a-/AOh14GjOrJzQ2xAgyHRSCzQ3qBInmHzMPfMtIJGxB4HG=s64",
      "userId": "13730440483455885359"
     },
     "user_tz": -180
    },
    "id": "IZPpEkRxWtjw",
    "outputId": "c4efcc5b-9f30-4619-d167-b35bea701224"
   },
   "outputs": [
    {
     "data": {
      "text/plain": [
       "' RMSE :  1.74e+02'"
      ]
     },
     "execution_count": 17,
     "metadata": {},
     "output_type": "execute_result"
    }
   ],
   "source": [
    "import numpy as np\n",
    "f' RMSE :  {np.sqrt(metrics.mean_absolute_error(y_test, y_pred)):.3}'"
   ]
  },
  {
   "cell_type": "code",
   "execution_count": 18,
   "metadata": {
    "colab": {
     "base_uri": "https://localhost:8080/",
     "height": 295
    },
    "executionInfo": {
     "elapsed": 1227,
     "status": "ok",
     "timestamp": 1597700286322,
     "user": {
      "displayName": "Math Hack",
      "photoUrl": "https://lh3.googleusercontent.com/a-/AOh14GjOrJzQ2xAgyHRSCzQ3qBInmHzMPfMtIJGxB4HG=s64",
      "userId": "13730440483455885359"
     },
     "user_tz": -180
    },
    "id": "v4EUFRGsWtf2",
    "outputId": "ce70afa1-8d1c-4726-9dce-68583b2d4637"
   },
   "outputs": [
    {
     "data": {
      "image/png": "[encoded data removed]",
      "text/plain": [
       "<Figure size 640x480 with 1 Axes>"
      ]
     },
     "metadata": {},
     "output_type": "display_data"
    }
   ],
   "source": [
    "import matplotlib.pyplot as plt\n",
    "\n",
    "fig, ax = plt.subplots()\n",
    "ax.scatter(y_test, y_pred, edgecolors=(0, 0, 0))\n",
    "ax.plot([y_test.min(), y_test.max()], [y_test.min(), y_test.max()], 'k--', lw=4)\n",
    "ax.set_xlabel('Actual')\n",
    "ax.set_ylabel('Predicted')\n",
    "ax.set_title(\"Ground Truth vs Predicted\")\n",
    "plt.show()"
   ]
  },
  {
   "cell_type": "code",
   "execution_count": null,
   "metadata": {
    "colab": {
     "base_uri": "https://localhost:8080/",
     "height": 153
    },
    "executionInfo": {
     "elapsed": 1315,
     "status": "ok",
     "timestamp": 1597700288529,
     "user": {
      "displayName": "Math Hack",
      "photoUrl": "https://lh3.googleusercontent.com/a-/AOh14GjOrJzQ2xAgyHRSCzQ3qBInmHzMPfMtIJGxB4HG=s64",
      "userId": "13730440483455885359"
     },
     "user_tz": -180
    },
    "id": "YGqhjnL4ZAtZ",
    "outputId": "7259aa01-edf1-4b98-d4ee-e2938caaecef"
   },
   "outputs": [
    {
     "name": "stderr",
     "output_type": "stream",
     "text": [
      "/usr/local/lib/python3.6/dist-packages/pandas/core/series.py:679: RuntimeWarning: overflow encountered in exp\n",
      "  result = getattr(ufunc, method)(*inputs, **kwargs)\n"
     ]
    },
    {
     "data": {
      "text/plain": [
       "0    inf\n",
       "1    inf\n",
       "2    inf\n",
       "3    inf\n",
       "4    inf\n",
       "Name: SalePrice, dtype: float64"
      ]
     },
     "execution_count": 23,
     "metadata": {
      "tags": []
     },
     "output_type": "execute_result"
    }
   ],
   "source": [
    "np.exp(y.head())"
   ]
  },
  {
   "cell_type": "code",
   "execution_count": null,
   "metadata": {
    "colab": {
     "base_uri": "https://localhost:8080/",
     "height": 312
    },
    "executionInfo": {
     "elapsed": 1408,
     "status": "ok",
     "timestamp": 1597700352665,
     "user": {
      "displayName": "Math Hack",
      "photoUrl": "https://lh3.googleusercontent.com/a-/AOh14GjOrJzQ2xAgyHRSCzQ3qBInmHzMPfMtIJGxB4HG=s64",
      "userId": "13730440483455885359"
     },
     "user_tz": -180
    },
    "id": "cI-VLPqTXvaM",
    "outputId": "efa44382-542f-49c9-9fc9-c3d50f605f82"
   },
   "outputs": [],
   "source": [
    "# Import necessary libraries\n",
    "from sklearn.model_selection import learning_curve\n",
    "import numpy as np\n",
    "import matplotlib.pyplot as plt\n",
    "\n",
    "# linRidge is your linear regression model (or Ridge if you're using regularization)\n",
    "# X_train_scaled and y_train are your scaled training features and target\n",
    "\n",
    "# Compute the learning curve\n",
    "train_sizes, train_scores, test_scores = learning_curve(\n",
    "    linRidge, X_train_scaled, y_train, cv=5, scoring=\"r2\", n_jobs=-1, \n",
    "    train_sizes=np.linspace(0.1, 1.0, 10)  # Adjust train sizes (10 points from 10% to 100%)\n",
    ")\n"
   ]
  },
  {
   "cell_type": "code",
   "execution_count": 24,
   "metadata": {
    "id": "rLG9feD3BV8b"
   },
   "outputs": [],
   "source": [
    "# Calculate mean and standard deviation of training and test scores\n",
    "train_scores_mean = np.mean(train_scores, axis=1)\n",
    "train_scores_std = np.std(train_scores, axis=1)\n",
    "test_scores_mean = np.mean(test_scores, axis=1)\n",
    "test_scores_std = np.std(test_scores, axis=1)"
   ]
  },
  {
   "cell_type": "code",
   "execution_count": 28,
   "metadata": {
    "id": "NVVp0vJ9WyRJ"
   },
   "outputs": [
    {
     "data": {
      "image/png": "[encoded data removed]",
      "text/plain": [
       "<Figure size 1000x600 with 1 Axes>"
      ]
     },
     "metadata": {},
     "output_type": "display_data"
    }
   ],
   "source": [
    "import numpy as np\n",
    "import matplotlib.pyplot as plt\n",
    "plt.figure(figsize=(10, 6))\n",
    "plt.plot(train_sizes, train_scores_mean, label=\"Training R²\", color=\"blue\")\n",
    "plt.plot(train_sizes, test_scores_mean, label=\"Cross-validation R²\", color=\"green\")\n",
    "\n",
    "# Add shaded areas for standard deviation\n",
    "plt.fill_between(train_sizes, train_scores_mean - train_scores_std, train_scores_mean + train_scores_std, \n",
    "                 alpha=0.1, color=\"blue\")\n",
    "plt.fill_between(train_sizes, test_scores_mean - test_scores_std, test_scores_mean + test_scores_std, \n",
    "                 alpha=0.1, color=\"green\")\n",
    "\n",
    "# Add labels and title\n",
    "plt.xlabel(\"Training Examples\")\n",
    "plt.ylabel(\"R² Score\")\n",
    "plt.title(\"Learning Curve (R²)\")\n",
    "plt.legend(loc=\"best\")\n",
    "plt.grid(True)\n",
    "plt.show()\n"
   ]
  },
  {
   "cell_type": "code",
   "execution_count": null,
   "metadata": {
    "id": "1OyNesszXPAJ"
   },
   "outputs": [],
   "source": []
  },
  {
   "cell_type": "code",
   "execution_count": null,
   "metadata": {
    "id": "NxcT3xrJXPkA"
   },
   "outputs": [],
   "source": []
  },
  {
   "cell_type": "code",
   "execution_count": null,
   "metadata": {
    "id": "URm8pMXKXPqr"
   },
   "outputs": [],
   "source": []
  },
  {
   "cell_type": "code",
   "execution_count": null,
   "metadata": {
    "id": "a-8Lg-AFXPvr"
   },
   "outputs": [],
   "source": []
  },
  {
   "cell_type": "code",
   "execution_count": null,
   "metadata": {
    "colab": {
     "base_uri": "https://localhost:8080/",
     "height": 136
    },
    "executionInfo": {
     "elapsed": 1272,
     "status": "ok",
     "timestamp": 1597700402443,
     "user": {
      "displayName": "Math Hack",
      "photoUrl": "https://lh3.googleusercontent.com/a-/AOh14GjOrJzQ2xAgyHRSCzQ3qBInmHzMPfMtIJGxB4HG=s64",
      "userId": "13730440483455885359"
     },
     "user_tz": -180
    },
    "id": "EGQ_Gf-LXPzm",
    "outputId": "314d5063-977d-4658-8cfc-03421c3bff6a"
   },
   "outputs": [
    {
     "name": "stdout",
     "output_type": "stream",
     "text": [
      "Ridge Regression: R^2 score on test set for  lamdbda= 0.001, 0.786\n",
      "Ridge Regression: R^2 score on test set for  lamdbda= 0.01, 0.786\n",
      "Ridge Regression: R^2 score on test set for  lamdbda= 0.1, 0.786\n",
      "Ridge Regression: R^2 score on test set for  lamdbda= 0.5, 0.786\n",
      "Ridge Regression: R^2 score on test set for  lamdbda= 1, 0.786\n",
      "Ridge Regression: R^2 score on test set for  lamdbda= 2, 0.786\n",
      "Ridge Regression: R^2 score on test set for  lamdbda= 10, 0.786\n"
     ]
    }
   ],
   "source": [
    "\n",
    "alphas = (0.001, 0.01, 0.1, 0.5, 1, 2, 10)\n",
    "# enumerate through alphas with index and i\n",
    "for  i in  alphas:    \n",
    "    reg = Ridge(alpha = i)\n",
    "    reg.fit(X_train, y_train)\n",
    "    print(f'Ridge Regression: R^2 score on test set for  lamdbda= {i}, {reg.score(X_test, y_test):.3}')\n"
   ]
  },
  {
   "cell_type": "code",
   "execution_count": 29,
   "metadata": {
    "colab": {
     "base_uri": "https://localhost:8080/",
     "height": 187
    },
    "executionInfo": {
     "elapsed": 1249,
     "status": "ok",
     "timestamp": 1597700541310,
     "user": {
      "displayName": "Math Hack",
      "photoUrl": "https://lh3.googleusercontent.com/a-/AOh14GjOrJzQ2xAgyHRSCzQ3qBInmHzMPfMtIJGxB4HG=s64",
      "userId": "13730440483455885359"
     },
     "user_tz": -180
    },
    "id": "hdAbKHK4XQmi",
    "outputId": "823a7037-7b5c-4766-b837-dff2526fe36a"
   },
   "outputs": [
    {
     "name": "stdout",
     "output_type": "stream",
     "text": [
      "Ridge Regression: R^2 score on test set for  alpha= 1e-07, 0.785\n",
      "Ridge Regression: R^2 score on test set for  alpha= 0.0012915496650148827, 0.785\n",
      "Ridge Regression: R^2 score on test set for  alpha= 16.681005372000556, 0.785\n",
      "Ridge Regression: R^2 score on test set for  alpha= 215443.46900318778, 0.718\n",
      "Ridge Regression: R^2 score on test set for  alpha= 2782559402.2071147, 0.125\n",
      "Ridge Regression: R^2 score on test set for  alpha= 35938136638046.11, -8.36e-06\n",
      "Ridge Regression: R^2 score on test set for  alpha= 4.641588833612753e+17, -1.98e-05\n",
      "Ridge Regression: R^2 score on test set for  alpha= 5.994842503189372e+21, -1.98e-05\n",
      "Ridge Regression: R^2 score on test set for  alpha= 7.742636826811214e+25, -1.98e-05\n",
      "Ridge Regression: R^2 score on test set for  alpha= 1e+30, -1.98e-05\n"
     ]
    }
   ],
   "source": [
    "# \n",
    "alphas = np.logspace(-7, 30, 10)\n",
    "# enumerate through alphas with index and i\n",
    "for  i in  alphas:    \n",
    "    reg = Ridge(alpha = i)\n",
    "    reg.fit(X_train, y_train)\n",
    "    print(f'Ridge Regression: R^2 score on test set for  alpha= {i}, {reg.score(X_test, y_test):.3}')\n"
   ]
  },
  {
   "cell_type": "code",
   "execution_count": 30,
   "metadata": {
    "id": "uKe3r1-aXrT4"
   },
   "outputs": [],
   "source": [
    "\n",
    "\n",
    "\n",
    "from sklearn.model_selection import validation_curve\n",
    "from sklearn.linear_model import Ridge\n",
    "import numpy as np\n",
    "\n",
    "alphas=np.logspace(-7, 30, 10)\n",
    "from sklearn.model_selection import validation_curve\n",
    "train_scores, test_scores = validation_curve(estimator=Ridge(), \n",
    "                                              X=X_train, \n",
    "                                              y=y_train,\n",
    "                                              param_name=\"alpha\" ,\n",
    "                                              param_range=alphas, \n",
    "                                              cv=10\n",
    " )"
   ]
  },
  {
   "cell_type": "code",
   "execution_count": 31,
   "metadata": {
    "colab": {
     "base_uri": "https://localhost:8080/",
     "height": 527
    },
    "executionInfo": {
     "elapsed": 1041,
     "status": "ok",
     "timestamp": 1597700860470,
     "user": {
      "displayName": "Math Hack",
      "photoUrl": "https://lh3.googleusercontent.com/a-/AOh14GjOrJzQ2xAgyHRSCzQ3qBInmHzMPfMtIJGxB4HG=s64",
      "userId": "13730440483455885359"
     },
     "user_tz": -180
    },
    "id": "7kL2GJ2oYN0m",
    "outputId": "3c1bd18f-93a4-4bb7-b268-4e9387470b26"
   },
   "outputs": [
    {
     "data": {
      "text/plain": [
       "array([[7.22537691e-01, 7.46056015e-01, 7.38407382e-01, 7.73729247e-01,\n",
       "        7.23900383e-01, 7.30761118e-01, 7.26767074e-01, 7.26390876e-01,\n",
       "        7.31372057e-01, 7.25847535e-01],\n",
       "       [7.22537691e-01, 7.46056015e-01, 7.38407382e-01, 7.73729247e-01,\n",
       "        7.23900383e-01, 7.30761118e-01, 7.26767074e-01, 7.26390876e-01,\n",
       "        7.31372057e-01, 7.25847535e-01],\n",
       "       [7.22496359e-01, 7.46016056e-01, 7.38366321e-01, 7.73695511e-01,\n",
       "        7.23858192e-01, 7.30719989e-01, 7.26726048e-01, 7.26349111e-01,\n",
       "        7.31331869e-01, 7.25807248e-01],\n",
       "       [6.03727076e-01, 6.34932212e-01, 6.24907606e-01, 6.86995937e-01,\n",
       "        6.00693014e-01, 6.18411710e-01, 6.09877083e-01, 6.19550559e-01,\n",
       "        6.10941886e-01, 6.10805384e-01],\n",
       "       [1.12363414e-01, 1.15252740e-01, 1.15935488e-01, 1.17499765e-01,\n",
       "        1.10203693e-01, 1.16417464e-01, 1.11202771e-01, 1.15366149e-01,\n",
       "        1.15732594e-01, 1.13837476e-01],\n",
       "       [1.02488772e-05, 1.04447108e-05, 1.05772707e-05, 1.05274734e-05,\n",
       "        1.00278698e-05, 1.06330669e-05, 1.01033645e-05, 1.05219766e-05,\n",
       "        1.05866308e-05, 1.03882165e-05],\n",
       "       [7.93544008e-10, 8.08706546e-10, 8.18971002e-10, 8.15113865e-10,\n",
       "        7.76431808e-10, 8.23290991e-10, 7.82277243e-10, 8.14689316e-10,\n",
       "        8.19695645e-10, 8.04332712e-10],\n",
       "       [6.13953333e-14, 6.26165786e-14, 6.36157793e-14, 6.31716901e-14,\n",
       "        6.01740879e-14, 6.37268016e-14, 6.09512441e-14, 6.30606678e-14,\n",
       "        6.32827124e-14, 6.20614671e-14],\n",
       "       [0.00000000e+00, 0.00000000e+00, 0.00000000e+00, 0.00000000e+00,\n",
       "        0.00000000e+00, 0.00000000e+00, 0.00000000e+00, 0.00000000e+00,\n",
       "        0.00000000e+00, 0.00000000e+00],\n",
       "       [0.00000000e+00, 0.00000000e+00, 0.00000000e+00, 0.00000000e+00,\n",
       "        0.00000000e+00, 0.00000000e+00, 0.00000000e+00, 0.00000000e+00,\n",
       "        0.00000000e+00, 0.00000000e+00]])"
      ]
     },
     "execution_count": 31,
     "metadata": {},
     "output_type": "execute_result"
    }
   ],
   "source": [
    "train_scores"
   ]
  },
  {
   "cell_type": "code",
   "execution_count": 32,
   "metadata": {
    "colab": {
     "base_uri": "https://localhost:8080/",
     "height": 697
    },
    "executionInfo": {
     "elapsed": 1184,
     "status": "ok",
     "timestamp": 1597700867963,
     "user": {
      "displayName": "Math Hack",
      "photoUrl": "https://lh3.googleusercontent.com/a-/AOh14GjOrJzQ2xAgyHRSCzQ3qBInmHzMPfMtIJGxB4HG=s64",
      "userId": "13730440483455885359"
     },
     "user_tz": -180
    },
    "id": "UbuM4CG8YPO5",
    "outputId": "c9e025fd-bafd-4437-ddd6-24d9e4747ce2"
   },
   "outputs": [
    {
     "data": {
      "text/plain": [
       "array([[ 8.17322481e-01,  5.93829133e-01,  6.79095432e-01,\n",
       "         3.87258719e-01,  7.93127338e-01,  7.56214470e-01,\n",
       "         8.07214197e-01,  8.06001581e-01,  7.59564348e-01,\n",
       "         7.96136575e-01],\n",
       "       [ 8.17322515e-01,  5.93829138e-01,  6.79095488e-01,\n",
       "         3.87258383e-01,  7.93127367e-01,  7.56214471e-01,\n",
       "         8.07214289e-01,  8.06001583e-01,  7.59564478e-01,\n",
       "         7.96136584e-01],\n",
       "       [ 8.17727429e-01,  5.93838311e-01,  6.79750147e-01,\n",
       "         3.82956328e-01,  7.93473727e-01,  7.56186226e-01,\n",
       "         8.08337277e-01,  8.05955108e-01,  7.61168869e-01,\n",
       "         7.96212651e-01],\n",
       "       [ 7.50706912e-01,  4.63393767e-01,  5.73843849e-01,\n",
       "         6.65297900e-02,  7.43723020e-01,  6.38100057e-01,\n",
       "         7.41150980e-01,  6.30791461e-01,  7.42308113e-01,\n",
       "         7.02480470e-01],\n",
       "       [ 1.03609468e-01,  1.17090357e-01,  1.13816906e-01,\n",
       "         8.92884475e-02,  1.10238216e-01,  9.97070762e-02,\n",
       "         1.42694823e-01,  1.10378838e-01,  1.20470722e-01,\n",
       "         1.05937560e-01],\n",
       "       [-1.19457576e-02, -2.93296796e-03, -2.05035955e-03,\n",
       "        -6.63233356e-03, -5.64747858e-04, -2.46950896e-03,\n",
       "        -2.99218238e-05, -5.50076331e-03, -4.39114882e-03,\n",
       "        -8.67800735e-03],\n",
       "       [-1.19561400e-02, -2.94407466e-03, -2.06091867e-03,\n",
       "        -6.64136836e-03, -5.74675726e-04, -2.47874487e-03,\n",
       "        -4.29103051e-05, -5.51129783e-03, -4.40246692e-03,\n",
       "        -8.68834198e-03],\n",
       "       [-1.19561408e-02, -2.94407552e-03, -2.06091949e-03,\n",
       "        -6.64136906e-03, -5.74676494e-04, -2.47874558e-03,\n",
       "        -4.29113108e-05, -5.51129865e-03, -4.40246779e-03,\n",
       "        -8.68834278e-03],\n",
       "       [-1.19561408e-02, -2.94407552e-03, -2.06091949e-03,\n",
       "        -6.64136906e-03, -5.74676495e-04, -2.47874558e-03,\n",
       "        -4.29113108e-05, -5.51129865e-03, -4.40246779e-03,\n",
       "        -8.68834278e-03],\n",
       "       [-1.19561408e-02, -2.94407552e-03, -2.06091949e-03,\n",
       "        -6.64136906e-03, -5.74676495e-04, -2.47874558e-03,\n",
       "        -4.29113108e-05, -5.51129865e-03, -4.40246779e-03,\n",
       "        -8.68834278e-03]])"
      ]
     },
     "execution_count": 32,
     "metadata": {},
     "output_type": "execute_result"
    }
   ],
   "source": [
    "test_scores"
   ]
  },
  {
   "cell_type": "code",
   "execution_count": null,
   "metadata": {
    "id": "TbybguGKjGjX"
   },
   "outputs": [],
   "source": []
  },
  {
   "cell_type": "markdown",
   "metadata": {
    "id": "84fdGgBRjMR0"
   },
   "source": [
    "If the training score and the validation score are both low, the estimator will be underfitting. If the training score is high and the validation score is low, the estimator is overfitting and otherwise it is working very well. A low training score and a high validation score is usually not possible. All three cases can be found in the plot below where we vary the parameter  of an SVM on the digits dataset."
   ]
  },
  {
   "cell_type": "markdown",
   "metadata": {
    "id": "VNwD9JySjMMQ"
   },
   "source": []
  },
  {
   "cell_type": "code",
   "execution_count": 33,
   "metadata": {
    "colab": {
     "base_uri": "https://localhost:8080/",
     "height": 283
    },
    "executionInfo": {
     "elapsed": 1420,
     "status": "ok",
     "timestamp": 1597700884780,
     "user": {
      "displayName": "Math Hack",
      "photoUrl": "https://lh3.googleusercontent.com/a-/AOh14GjOrJzQ2xAgyHRSCzQ3qBInmHzMPfMtIJGxB4HG=s64",
      "userId": "13730440483455885359"
     },
     "user_tz": -180
    },
    "id": "lX8m7xRgYQra",
    "outputId": "26acfaf0-051a-4dcc-fe5d-59f44bc90368"
   },
   "outputs": [
    {
     "data": {
      "image/png": "[encoded data removed]",
      "text/plain": [
       "<Figure size 640x480 with 1 Axes>"
      ]
     },
     "metadata": {},
     "output_type": "display_data"
    }
   ],
   "source": [
    "train_mean = np.mean(train_scores, axis=1)\n",
    "test_mean = np.mean(test_scores, axis=1)\n",
    "plt.plot(alphas, train_mean, color='blue', marker='o',markersize=5, label='Training accuracy')\n",
    "plt.plot(alphas, test_mean,color='green', linestyle='--',marker='s', markersize=5,label='Validation accuracy')\n",
    "plt.grid()\n",
    "plt.xscale('log')\n",
    "\n",
    "plt.xlabel('Alpha Parameter')\n",
    "plt.ylabel('Accuracy')\n",
    "plt.legend(loc='lower right')\n",
    "# plt.ylim([0.8, 1.03])\n",
    "plt.show()"
   ]
  },
  {
   "cell_type": "code",
   "execution_count": 34,
   "metadata": {
    "colab": {
     "base_uri": "https://localhost:8080/",
     "height": 34
    },
    "executionInfo": {
     "elapsed": 1319,
     "status": "ok",
     "timestamp": 1597701103854,
     "user": {
      "displayName": "Math Hack",
      "photoUrl": "https://lh3.googleusercontent.com/a-/AOh14GjOrJzQ2xAgyHRSCzQ3qBInmHzMPfMtIJGxB4HG=s64",
      "userId": "13730440483455885359"
     },
     "user_tz": -180
    },
    "id": "8EQozsmKZxeY",
    "outputId": "1dd3b491-7eb4-472f-8286-2d37d10c21aa"
   },
   "outputs": [
    {
     "data": {
      "text/plain": [
       "np.int64(1000)"
      ]
     },
     "execution_count": 34,
     "metadata": {},
     "output_type": "execute_result"
    }
   ],
   "source": [
    "np.power(10,3)"
   ]
  },
  {
   "cell_type": "markdown",
   "metadata": {
    "id": "JOe-X1ArJ3gh"
   },
   "source": [
    "<image src=\"https://static.thenounproject.com/png/2010152-200.png\" width=10%></img>"
   ]
  },
  {
   "cell_type": "code",
   "execution_count": 36,
   "metadata": {
    "id": "DlLJU2vfZmYB"
   },
   "outputs": [],
   "source": [
    "\n",
    "\n",
    "linRidge = Ridge(alpha=10).fit(X_train_scaled, y_train)"
   ]
  },
  {
   "cell_type": "code",
   "execution_count": 37,
   "metadata": {
    "colab": {
     "base_uri": "https://localhost:8080/",
     "height": 312
    },
    "executionInfo": {
     "elapsed": 1550,
     "status": "ok",
     "timestamp": 1597701284052,
     "user": {
      "displayName": "Math Hack",
      "photoUrl": "https://lh3.googleusercontent.com/a-/AOh14GjOrJzQ2xAgyHRSCzQ3qBInmHzMPfMtIJGxB4HG=s64",
      "userId": "13730440483455885359"
     },
     "user_tz": -180
    },
    "id": "6XaOU1iwYeXD",
    "outputId": "dd9ee345-4d22-4d2b-8cba-24e7b464a1d9"
   },
   "outputs": [
    {
     "ename": "ImportError",
     "evalue": "cannot import name 'interp' from 'scipy' (/home/codespace/.local/lib/python3.12/site-packages/scipy/__init__.py)",
     "output_type": "error",
     "traceback": [
      "\u001b[0;31m---------------------------------------------------------------------------\u001b[0m",
      "\u001b[0;31mImportError\u001b[0m                               Traceback (most recent call last)",
      "Cell \u001b[0;32mIn[37], line 2\u001b[0m\n\u001b[1;32m      1\u001b[0m \u001b[38;5;66;03m# تخطيط التعلّم \u001b[39;00m\n\u001b[0;32m----> 2\u001b[0m \u001b[38;5;28;01mimport\u001b[39;00m \u001b[38;5;21;01mscikitplot\u001b[39;00m \u001b[38;5;28;01mas\u001b[39;00m \u001b[38;5;21;01mskplt\u001b[39;00m\n\u001b[1;32m      4\u001b[0m skplt\u001b[38;5;241m.\u001b[39mestimators\u001b[38;5;241m.\u001b[39mplot_learning_curve(linRidge, X_train_scaled, y_train, scoring\u001b[38;5;241m=\u001b[39m\u001b[38;5;124m\"\u001b[39m\u001b[38;5;124mr2\u001b[39m\u001b[38;5;124m\"\u001b[39m) \u001b[38;5;66;03m# neg_mean_absolute_error\")\u001b[39;00m\n",
      "File \u001b[0;32m/usr/local/python/3.12.1/lib/python3.12/site-packages/scikitplot/__init__.py:2\u001b[0m\n\u001b[1;32m      1\u001b[0m \u001b[38;5;28;01mfrom\u001b[39;00m \u001b[38;5;21;01m__future__\u001b[39;00m \u001b[38;5;28;01mimport\u001b[39;00m absolute_import, division, print_function, unicode_literals\n\u001b[0;32m----> 2\u001b[0m \u001b[38;5;28;01mfrom\u001b[39;00m \u001b[38;5;21;01m.\u001b[39;00m \u001b[38;5;28;01mimport\u001b[39;00m metrics, cluster, decomposition, estimators\n\u001b[1;32m      3\u001b[0m __version__ \u001b[38;5;241m=\u001b[39m \u001b[38;5;124m'\u001b[39m\u001b[38;5;124m0.3.7\u001b[39m\u001b[38;5;124m'\u001b[39m\n\u001b[1;32m      6\u001b[0m \u001b[38;5;28;01mfrom\u001b[39;00m \u001b[38;5;21;01mscikitplot\u001b[39;00m\u001b[38;5;21;01m.\u001b[39;00m\u001b[38;5;21;01mclassifiers\u001b[39;00m \u001b[38;5;28;01mimport\u001b[39;00m classifier_factory\n",
      "File \u001b[0;32m/usr/local/python/3.12.1/lib/python3.12/site-packages/scikitplot/metrics.py:27\u001b[0m\n\u001b[1;32m     24\u001b[0m \u001b[38;5;28;01mfrom\u001b[39;00m \u001b[38;5;21;01msklearn\u001b[39;00m\u001b[38;5;21;01m.\u001b[39;00m\u001b[38;5;21;01mcalibration\u001b[39;00m \u001b[38;5;28;01mimport\u001b[39;00m calibration_curve\n\u001b[1;32m     25\u001b[0m \u001b[38;5;28;01mfrom\u001b[39;00m \u001b[38;5;21;01msklearn\u001b[39;00m\u001b[38;5;21;01m.\u001b[39;00m\u001b[38;5;21;01mutils\u001b[39;00m \u001b[38;5;28;01mimport\u001b[39;00m deprecated\n\u001b[0;32m---> 27\u001b[0m \u001b[38;5;28;01mfrom\u001b[39;00m \u001b[38;5;21;01mscipy\u001b[39;00m \u001b[38;5;28;01mimport\u001b[39;00m interp\n\u001b[1;32m     29\u001b[0m \u001b[38;5;28;01mfrom\u001b[39;00m \u001b[38;5;21;01mscikitplot\u001b[39;00m\u001b[38;5;21;01m.\u001b[39;00m\u001b[38;5;21;01mhelpers\u001b[39;00m \u001b[38;5;28;01mimport\u001b[39;00m binary_ks_curve, validate_labels\n\u001b[1;32m     30\u001b[0m \u001b[38;5;28;01mfrom\u001b[39;00m \u001b[38;5;21;01mscikitplot\u001b[39;00m\u001b[38;5;21;01m.\u001b[39;00m\u001b[38;5;21;01mhelpers\u001b[39;00m \u001b[38;5;28;01mimport\u001b[39;00m cumulative_gain_curve\n",
      "\u001b[0;31mImportError\u001b[0m: cannot import name 'interp' from 'scipy' (/home/codespace/.local/lib/python3.12/site-packages/scipy/__init__.py)"
     ]
    }
   ],
   "source": [
    "# تخطيط التعلّم \n",
    "import scikitplot as skplt\n",
    "\n",
    "skplt.estimators.plot_learning_curve(linRidge, X_train_scaled, y_train, scoring=\"r2\") # neg_mean_absolute_error\")"
   ]
  },
  {
   "cell_type": "code",
   "execution_count": null,
   "metadata": {
    "id": "CBV_LkeWaLdv"
   },
   "outputs": [],
   "source": []
  }
 ],
 "metadata": {
  "colab": {
   "authorship_tag": "ABX9TyPC5C1mJhHFroElmLxph3ZM",
   "collapsed_sections": [],
   "mount_file_id": "1KbvGHdg6_7VoOHDaQ8z8pM14RAdHJ4E9",
   "name": "12_Ridge.ipynb",
   "provenance": []
  },
  "kernelspec": {
   "display_name": "Python 3",
   "name": "python3"
  },
  "language_info": {
   "codemirror_mode": {
    "name": "ipython",
    "version": 3
   },
   "file_extension": ".py",
   "mimetype": "text/x-python",
   "name": "python",
   "nbconvert_exporter": "python",
   "pygments_lexer": "ipython3",
   "version": "3.12.1"
  }
 },
 "nbformat": 4,
 "nbformat_minor": 0
}
