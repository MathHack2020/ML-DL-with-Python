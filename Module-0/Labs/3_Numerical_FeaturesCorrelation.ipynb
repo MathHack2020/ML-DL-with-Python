{
 "cells": [
  {
   "cell_type": "code",
   "execution_count": null,
   "metadata": {
    "id": "w1JysjXbe1k2"
   },
   "outputs": [],
   "source": []
  },
  {
   "cell_type": "markdown",
   "metadata": {
    "id": "cNj7nMVqWFlN"
   },
   "source": [
    "| |<font size=\"5\">LinearRegression الانحدار الخطي البسيط    </font>|\n",
    "|-:|-|\n",
    "|<img src=\"https://miro.medium.com/max/500/0*MMQLAfII2jEB91-y.png\" width=300></img>||\n",
    "||<font size=\"4\"> تحميل البيانات وحفظها </font>| \n",
    "||<font size=\"4\">  تحديد ارتباطات البيانات </font>| \n",
    "||<font size=\"4\"> انشاء تخطيط ارتباطات البيانات  </font>|  \n"
   ]
  },
  {
   "cell_type": "markdown",
   "metadata": {
    "id": "yiQgCOJz3e5o"
   },
   "source": [
    "<div style='color: #216969;\n",
    "           background-color: #EAF6F6;\n",
    "           font-size: 200%;\n",
    "           border-radius:15px;\n",
    "           text-align:center;\n",
    "           font-weight:600;\n",
    "           border-style: solid;\n",
    "           border-color: dark green;\n",
    "           font-family: \"Cambria\";'>\n",
    "Data Loading ....\n",
    "<a class=\"anchor\" id=\"1\"></a> "
   ]
  },
  {
   "cell_type": "code",
   "execution_count": 1,
   "metadata": {
    "colab": {
     "base_uri": "https://localhost:8080/",
     "height": 35
    },
    "executionInfo": {
     "elapsed": 1105,
     "status": "ok",
     "timestamp": 1597139311593,
     "user": {
      "displayName": "Math Hack",
      "photoUrl": "https://lh3.googleusercontent.com/a-/AOh14GjOrJzQ2xAgyHRSCzQ3qBInmHzMPfMtIJGxB4HG=s64",
      "userId": "13730440483455885359"
     },
     "user_tz": -180
    },
    "id": "dzmcO_S26oMX",
    "outputId": "7f728614-2e75-4b37-f01f-f482c032dcca"
   },
   "outputs": [
    {
     "data": {
      "text/plain": [
       "'/workspaces/ML-DL-with-Python/Module-0/Labs'"
      ]
     },
     "execution_count": 1,
     "metadata": {},
     "output_type": "execute_result"
    }
   ],
   "source": [
    "pwd"
   ]
  },
  {
   "cell_type": "code",
   "execution_count": 1,
   "metadata": {
    "id": "BAgEz0Lhe9u1"
   },
   "outputs": [],
   "source": [
    "#تحميل البيانات \n",
    "import pandas as pd\n",
    "df= pd.read_csv(\"../data/HousePrice1.csv\")"
   ]
  },
  {
   "cell_type": "markdown",
   "metadata": {},
   "source": [
    "<div style='color: #216969;\n",
    "           background-color: #EAF6F6;\n",
    "           font-size: 200%;\n",
    "           border-radius:15px;\n",
    "           text-align:center;\n",
    "           font-weight:600;\n",
    "           border-style: solid;\n",
    "           border-color: dark green;\n",
    "           font-family: \"Cambria\";'>\n",
    "Feature Engineering ....\n",
    "<a class=\"anchor\" id=\"1\"></a> "
   ]
  },
  {
   "cell_type": "markdown",
   "metadata": {
    "id": "X-5o1oZAgqBp"
   },
   "source": [
    "![](https://image.flaticon.com/icons/png/128/3079/3079166.png)"
   ]
  },
  {
   "cell_type": "code",
   "execution_count": 2,
   "metadata": {
    "colab": {
     "base_uri": "https://localhost:8080/",
     "height": 612
    },
    "executionInfo": {
     "elapsed": 1078,
     "status": "ok",
     "timestamp": 1597139311594,
     "user": {
      "displayName": "Math Hack",
      "photoUrl": "https://lh3.googleusercontent.com/a-/AOh14GjOrJzQ2xAgyHRSCzQ3qBInmHzMPfMtIJGxB4HG=s64",
      "userId": "13730440483455885359"
     },
     "user_tz": -180
    },
    "id": "7JqB8fTe3e5m",
    "outputId": "68bfc8e1-009e-4bd2-82c0-ee9352f39722"
   },
   "outputs": [
    {
     "data": {
      "text/plain": [
       "Unnamed: 0        int64\n",
       "Id                int64\n",
       "MSSubClass        int64\n",
       "LotFrontage     float64\n",
       "LotArea           int64\n",
       "OverallQual       int64\n",
       "OverallCond       int64\n",
       "YearBuilt         int64\n",
       "YearRemodAdd      int64\n",
       "MasVnrArea      float64\n",
       "BsmtFinSF1        int64\n",
       "BsmtFinSF2        int64\n",
       "BsmtUnfSF         int64\n",
       "1stFlrSF          int64\n",
       "2ndFlrSF          int64\n",
       "LowQualFinSF      int64\n",
       "BedroomAbvGr      int64\n",
       "KitchenAbvGr      int64\n",
       "TotRmsAbvGrd      int64\n",
       "Fireplaces        int64\n",
       "GarageYrBlt     float64\n",
       "GarageCars        int64\n",
       "GarageArea        int64\n",
       "WoodDeckSF        int64\n",
       "PoolArea          int64\n",
       "MiscVal           int64\n",
       "YrSold            int64\n",
       "SalePrice         int64\n",
       "TotalSF           int64\n",
       "TotalPorchSF      int64\n",
       "TotalBath       float64\n",
       "SnMoSold        float64\n",
       "CsMoSold        float64\n",
       "dtype: object"
      ]
     },
     "execution_count": 2,
     "metadata": {},
     "output_type": "execute_result"
    }
   ],
   "source": [
    "# المتغيرات الرقمية\n",
    "num_features= df.select_dtypes(include=\"number\")\n",
    "num_features.dtypes"
   ]
  },
  {
   "cell_type": "code",
   "execution_count": null,
   "metadata": {
    "id": "xmZj64IYPj7R"
   },
   "outputs": [],
   "source": []
  },
  {
   "cell_type": "code",
   "execution_count": 3,
   "metadata": {
    "colab": {
     "base_uri": "https://localhost:8080/",
     "height": 612
    },
    "executionInfo": {
     "elapsed": 509,
     "status": "ok",
     "timestamp": 1597139331122,
     "user": {
      "displayName": "Math Hack",
      "photoUrl": "https://lh3.googleusercontent.com/a-/AOh14GjOrJzQ2xAgyHRSCzQ3qBInmHzMPfMtIJGxB4HG=s64",
      "userId": "13730440483455885359"
     },
     "user_tz": -180
    },
    "id": "RqW4Wk693e5p",
    "outputId": "255eefdb-159f-4ea9-f5e9-80ff919364c1"
   },
   "outputs": [
    {
     "data": {
      "text/plain": [
       "SalePrice       1.000000\n",
       "OverallQual     0.790982\n",
       "TotalSF         0.701179\n",
       "GarageCars      0.640409\n",
       "TotalBath       0.631731\n",
       "GarageArea      0.623431\n",
       "1stFlrSF        0.605852\n",
       "TotRmsAbvGrd    0.533723\n",
       "YearBuilt       0.522897\n",
       "YearRemodAdd    0.507101\n",
       "GarageYrBlt     0.486362\n",
       "MasVnrArea      0.477493\n",
       "Fireplaces      0.466929\n",
       "BsmtFinSF1      0.386420\n",
       "LotFrontage     0.351799\n",
       "WoodDeckSF      0.324413\n",
       "2ndFlrSF        0.319334\n",
       "LotArea         0.263843\n",
       "BsmtUnfSF       0.214479\n",
       "TotalPorchSF    0.195739\n",
       "BedroomAbvGr    0.168213\n",
       "KitchenAbvGr    0.135907\n",
       "PoolArea        0.092404\n",
       "MSSubClass      0.084284\n",
       "OverallCond     0.077856\n",
       "SnMoSold        0.055101\n",
       "CsMoSold        0.036300\n",
       "YrSold          0.028923\n",
       "LowQualFinSF    0.025606\n",
       "Unnamed: 0      0.021917\n",
       "Id              0.021917\n",
       "MiscVal         0.021190\n",
       "BsmtFinSF2      0.011378\n",
       "Name: SalePrice, dtype: float64"
      ]
     },
     "execution_count": 3,
     "metadata": {},
     "output_type": "execute_result"
    }
   ],
   "source": [
    "# ترتيب درجة الارتباط \n",
    "import numpy as np\n",
    "cormat=np.abs(num_features.corr()[\"SalePrice\"]).sort_values(ascending=False)\n",
    "cormat"
   ]
  },
  {
   "cell_type": "code",
   "execution_count": 4,
   "metadata": {
    "colab": {
     "base_uri": "https://localhost:8080/",
     "height": 153
    },
    "executionInfo": {
     "elapsed": 827,
     "status": "ok",
     "timestamp": 1597139333299,
     "user": {
      "displayName": "Math Hack",
      "photoUrl": "https://lh3.googleusercontent.com/a-/AOh14GjOrJzQ2xAgyHRSCzQ3qBInmHzMPfMtIJGxB4HG=s64",
      "userId": "13730440483455885359"
     },
     "user_tz": -180
    },
    "id": "5VnPz1gyf-5V",
    "outputId": "a248d837-6e82-47e0-d274-0fbd8a542871"
   },
   "outputs": [
    {
     "data": {
      "text/plain": [
       "SalePrice      1.000000\n",
       "OverallQual    0.790982\n",
       "TotalSF        0.701179\n",
       "GarageCars     0.640409\n",
       "TotalBath      0.631731\n",
       "GarageArea     0.623431\n",
       "1stFlrSF       0.605852\n",
       "Name: SalePrice, dtype: float64"
      ]
     },
     "execution_count": 4,
     "metadata": {},
     "output_type": "execute_result"
    }
   ],
   "source": [
    "# المتغيرات الأكثر ارتباطا بالمتغير الهدف\n",
    "cormat[cormat>.6]"
   ]
  },
  {
   "cell_type": "code",
   "execution_count": 5,
   "metadata": {
    "colab": {
     "base_uri": "https://localhost:8080/",
     "height": 153
    },
    "executionInfo": {
     "elapsed": 683,
     "status": "ok",
     "timestamp": 1597139334421,
     "user": {
      "displayName": "Math Hack",
      "photoUrl": "https://lh3.googleusercontent.com/a-/AOh14GjOrJzQ2xAgyHRSCzQ3qBInmHzMPfMtIJGxB4HG=s64",
      "userId": "13730440483455885359"
     },
     "user_tz": -180
    },
    "id": "Mz6DATaFcpH6",
    "outputId": "8d824c1f-4adb-4fad-c4d7-6186ab008c07"
   },
   "outputs": [
    {
     "data": {
      "text/plain": [
       "SalePrice      1.000000\n",
       "OverallQual    0.790982\n",
       "TotalSF        0.701179\n",
       "GarageCars     0.640409\n",
       "TotalBath      0.631731\n",
       "GarageArea     0.623431\n",
       "1stFlrSF       0.605852\n",
       "Name: SalePrice, dtype: float64"
      ]
     },
     "execution_count": 5,
     "metadata": {},
     "output_type": "execute_result"
    }
   ],
   "source": [
    "# اكبر 7 ارتباطات \n",
    "cormat.nlargest(7)"
   ]
  },
  {
   "cell_type": "code",
   "execution_count": 6,
   "metadata": {
    "colab": {
     "base_uri": "https://localhost:8080/",
     "height": 266
    },
    "executionInfo": {
     "elapsed": 500,
     "status": "ok",
     "timestamp": 1597139334802,
     "user": {
      "displayName": "Math Hack",
      "photoUrl": "https://lh3.googleusercontent.com/a-/AOh14GjOrJzQ2xAgyHRSCzQ3qBInmHzMPfMtIJGxB4HG=s64",
      "userId": "13730440483455885359"
     },
     "user_tz": -180
    },
    "id": "FiBXXtfYeINJ",
    "outputId": "e9cfb5da-cc4d-4af2-b160-1b5977c8735f"
   },
   "outputs": [
    {
     "data": {
      "text/html": [
       "<div>\n",
       "<style scoped>\n",
       "    .dataframe tbody tr th:only-of-type {\n",
       "        vertical-align: middle;\n",
       "    }\n",
       "\n",
       "    .dataframe tbody tr th {\n",
       "        vertical-align: top;\n",
       "    }\n",
       "\n",
       "    .dataframe thead th {\n",
       "        text-align: right;\n",
       "    }\n",
       "</style>\n",
       "<table border=\"1\" class=\"dataframe\">\n",
       "  <thead>\n",
       "    <tr style=\"text-align: right;\">\n",
       "      <th></th>\n",
       "      <th>OverallQual</th>\n",
       "      <th>TotalSF</th>\n",
       "      <th>GarageCars</th>\n",
       "      <th>TotalBath</th>\n",
       "      <th>GarageArea</th>\n",
       "      <th>1stFlrSF</th>\n",
       "      <th>SalePrice</th>\n",
       "    </tr>\n",
       "  </thead>\n",
       "  <tbody>\n",
       "    <tr>\n",
       "      <th>OverallQual</th>\n",
       "      <td>1.000000</td>\n",
       "      <td>0.620392</td>\n",
       "      <td>0.600671</td>\n",
       "      <td>0.541063</td>\n",
       "      <td>0.562022</td>\n",
       "      <td>0.476224</td>\n",
       "      <td>0.790982</td>\n",
       "    </tr>\n",
       "    <tr>\n",
       "      <th>TotalSF</th>\n",
       "      <td>0.620392</td>\n",
       "      <td>1.000000</td>\n",
       "      <td>0.660863</td>\n",
       "      <td>0.484980</td>\n",
       "      <td>0.744444</td>\n",
       "      <td>0.808804</td>\n",
       "      <td>0.701179</td>\n",
       "    </tr>\n",
       "    <tr>\n",
       "      <th>GarageCars</th>\n",
       "      <td>0.600671</td>\n",
       "      <td>0.660863</td>\n",
       "      <td>1.000000</td>\n",
       "      <td>0.483578</td>\n",
       "      <td>0.882475</td>\n",
       "      <td>0.439317</td>\n",
       "      <td>0.640409</td>\n",
       "    </tr>\n",
       "    <tr>\n",
       "      <th>TotalBath</th>\n",
       "      <td>0.541063</td>\n",
       "      <td>0.484980</td>\n",
       "      <td>0.483578</td>\n",
       "      <td>1.000000</td>\n",
       "      <td>0.451567</td>\n",
       "      <td>0.390557</td>\n",
       "      <td>0.631731</td>\n",
       "    </tr>\n",
       "    <tr>\n",
       "      <th>GarageArea</th>\n",
       "      <td>0.562022</td>\n",
       "      <td>0.744444</td>\n",
       "      <td>0.882475</td>\n",
       "      <td>0.451567</td>\n",
       "      <td>1.000000</td>\n",
       "      <td>0.489782</td>\n",
       "      <td>0.623431</td>\n",
       "    </tr>\n",
       "    <tr>\n",
       "      <th>1stFlrSF</th>\n",
       "      <td>0.476224</td>\n",
       "      <td>0.808804</td>\n",
       "      <td>0.439317</td>\n",
       "      <td>0.390557</td>\n",
       "      <td>0.489782</td>\n",
       "      <td>1.000000</td>\n",
       "      <td>0.605852</td>\n",
       "    </tr>\n",
       "    <tr>\n",
       "      <th>SalePrice</th>\n",
       "      <td>0.790982</td>\n",
       "      <td>0.701179</td>\n",
       "      <td>0.640409</td>\n",
       "      <td>0.631731</td>\n",
       "      <td>0.623431</td>\n",
       "      <td>0.605852</td>\n",
       "      <td>1.000000</td>\n",
       "    </tr>\n",
       "  </tbody>\n",
       "</table>\n",
       "</div>"
      ],
      "text/plain": [
       "             OverallQual   TotalSF  GarageCars  TotalBath  GarageArea  \\\n",
       "OverallQual     1.000000  0.620392    0.600671   0.541063    0.562022   \n",
       "TotalSF         0.620392  1.000000    0.660863   0.484980    0.744444   \n",
       "GarageCars      0.600671  0.660863    1.000000   0.483578    0.882475   \n",
       "TotalBath       0.541063  0.484980    0.483578   1.000000    0.451567   \n",
       "GarageArea      0.562022  0.744444    0.882475   0.451567    1.000000   \n",
       "1stFlrSF        0.476224  0.808804    0.439317   0.390557    0.489782   \n",
       "SalePrice       0.790982  0.701179    0.640409   0.631731    0.623431   \n",
       "\n",
       "             1stFlrSF  SalePrice  \n",
       "OverallQual  0.476224   0.790982  \n",
       "TotalSF      0.808804   0.701179  \n",
       "GarageCars   0.439317   0.640409  \n",
       "TotalBath    0.390557   0.631731  \n",
       "GarageArea   0.489782   0.623431  \n",
       "1stFlrSF     1.000000   0.605852  \n",
       "SalePrice    0.605852   1.000000  "
      ]
     },
     "execution_count": 6,
     "metadata": {},
     "output_type": "execute_result"
    }
   ],
   "source": [
    "# الاقتصار على المتغيرات الأكثر ارتباطا\n",
    "df[[\"OverallQual\", \"TotalSF\",\"GarageCars\",\"TotalBath\",\"GarageArea\",\"1stFlrSF\",\"SalePrice\"]].corr()"
   ]
  },
  {
   "cell_type": "code",
   "execution_count": 7,
   "metadata": {
    "colab": {
     "base_uri": "https://localhost:8080/",
     "height": 68
    },
    "executionInfo": {
     "elapsed": 578,
     "status": "ok",
     "timestamp": 1597139336008,
     "user": {
      "displayName": "Math Hack",
      "photoUrl": "https://lh3.googleusercontent.com/a-/AOh14GjOrJzQ2xAgyHRSCzQ3qBInmHzMPfMtIJGxB4HG=s64",
      "userId": "13730440483455885359"
     },
     "user_tz": -180
    },
    "id": "kb2aIqa2tmxc",
    "outputId": "4fface0c-5f33-49a6-cdad-1f56105e4c4b"
   },
   "outputs": [
    {
     "data": {
      "text/plain": [
       "Index(['SalePrice', 'OverallQual', 'TotalSF', 'GarageCars', 'TotalBath',\n",
       "       'GarageArea', '1stFlrSF'],\n",
       "      dtype='object')"
      ]
     },
     "execution_count": 7,
     "metadata": {},
     "output_type": "execute_result"
    }
   ],
   "source": [
    "cormat_col= cormat.nlargest(7).index\n",
    "cormat_col"
   ]
  },
  {
   "cell_type": "code",
   "execution_count": 8,
   "metadata": {
    "colab": {
     "base_uri": "https://localhost:8080/",
     "height": 266
    },
    "executionInfo": {
     "elapsed": 527,
     "status": "ok",
     "timestamp": 1597139336517,
     "user": {
      "displayName": "Math Hack",
      "photoUrl": "https://lh3.googleusercontent.com/a-/AOh14GjOrJzQ2xAgyHRSCzQ3qBInmHzMPfMtIJGxB4HG=s64",
      "userId": "13730440483455885359"
     },
     "user_tz": -180
    },
    "id": "sZdUv7qWuGwd",
    "outputId": "31aacd1b-940a-4149-c775-ebf1e4517153"
   },
   "outputs": [
    {
     "data": {
      "text/html": [
       "<div>\n",
       "<style scoped>\n",
       "    .dataframe tbody tr th:only-of-type {\n",
       "        vertical-align: middle;\n",
       "    }\n",
       "\n",
       "    .dataframe tbody tr th {\n",
       "        vertical-align: top;\n",
       "    }\n",
       "\n",
       "    .dataframe thead th {\n",
       "        text-align: right;\n",
       "    }\n",
       "</style>\n",
       "<table border=\"1\" class=\"dataframe\">\n",
       "  <thead>\n",
       "    <tr style=\"text-align: right;\">\n",
       "      <th></th>\n",
       "      <th>SalePrice</th>\n",
       "      <th>OverallQual</th>\n",
       "      <th>TotalSF</th>\n",
       "      <th>GarageCars</th>\n",
       "      <th>TotalBath</th>\n",
       "      <th>GarageArea</th>\n",
       "      <th>1stFlrSF</th>\n",
       "    </tr>\n",
       "  </thead>\n",
       "  <tbody>\n",
       "    <tr>\n",
       "      <th>SalePrice</th>\n",
       "      <td>1.000000</td>\n",
       "      <td>0.790982</td>\n",
       "      <td>0.701179</td>\n",
       "      <td>0.640409</td>\n",
       "      <td>0.631731</td>\n",
       "      <td>0.623431</td>\n",
       "      <td>0.605852</td>\n",
       "    </tr>\n",
       "    <tr>\n",
       "      <th>OverallQual</th>\n",
       "      <td>0.790982</td>\n",
       "      <td>1.000000</td>\n",
       "      <td>0.620392</td>\n",
       "      <td>0.600671</td>\n",
       "      <td>0.541063</td>\n",
       "      <td>0.562022</td>\n",
       "      <td>0.476224</td>\n",
       "    </tr>\n",
       "    <tr>\n",
       "      <th>TotalSF</th>\n",
       "      <td>0.701179</td>\n",
       "      <td>0.620392</td>\n",
       "      <td>1.000000</td>\n",
       "      <td>0.660863</td>\n",
       "      <td>0.484980</td>\n",
       "      <td>0.744444</td>\n",
       "      <td>0.808804</td>\n",
       "    </tr>\n",
       "    <tr>\n",
       "      <th>GarageCars</th>\n",
       "      <td>0.640409</td>\n",
       "      <td>0.600671</td>\n",
       "      <td>0.660863</td>\n",
       "      <td>1.000000</td>\n",
       "      <td>0.483578</td>\n",
       "      <td>0.882475</td>\n",
       "      <td>0.439317</td>\n",
       "    </tr>\n",
       "    <tr>\n",
       "      <th>TotalBath</th>\n",
       "      <td>0.631731</td>\n",
       "      <td>0.541063</td>\n",
       "      <td>0.484980</td>\n",
       "      <td>0.483578</td>\n",
       "      <td>1.000000</td>\n",
       "      <td>0.451567</td>\n",
       "      <td>0.390557</td>\n",
       "    </tr>\n",
       "    <tr>\n",
       "      <th>GarageArea</th>\n",
       "      <td>0.623431</td>\n",
       "      <td>0.562022</td>\n",
       "      <td>0.744444</td>\n",
       "      <td>0.882475</td>\n",
       "      <td>0.451567</td>\n",
       "      <td>1.000000</td>\n",
       "      <td>0.489782</td>\n",
       "    </tr>\n",
       "    <tr>\n",
       "      <th>1stFlrSF</th>\n",
       "      <td>0.605852</td>\n",
       "      <td>0.476224</td>\n",
       "      <td>0.808804</td>\n",
       "      <td>0.439317</td>\n",
       "      <td>0.390557</td>\n",
       "      <td>0.489782</td>\n",
       "      <td>1.000000</td>\n",
       "    </tr>\n",
       "  </tbody>\n",
       "</table>\n",
       "</div>"
      ],
      "text/plain": [
       "             SalePrice  OverallQual   TotalSF  GarageCars  TotalBath  \\\n",
       "SalePrice     1.000000     0.790982  0.701179    0.640409   0.631731   \n",
       "OverallQual   0.790982     1.000000  0.620392    0.600671   0.541063   \n",
       "TotalSF       0.701179     0.620392  1.000000    0.660863   0.484980   \n",
       "GarageCars    0.640409     0.600671  0.660863    1.000000   0.483578   \n",
       "TotalBath     0.631731     0.541063  0.484980    0.483578   1.000000   \n",
       "GarageArea    0.623431     0.562022  0.744444    0.882475   0.451567   \n",
       "1stFlrSF      0.605852     0.476224  0.808804    0.439317   0.390557   \n",
       "\n",
       "             GarageArea  1stFlrSF  \n",
       "SalePrice      0.623431  0.605852  \n",
       "OverallQual    0.562022  0.476224  \n",
       "TotalSF        0.744444  0.808804  \n",
       "GarageCars     0.882475  0.439317  \n",
       "TotalBath      0.451567  0.390557  \n",
       "GarageArea     1.000000  0.489782  \n",
       "1stFlrSF       0.489782  1.000000  "
      ]
     },
     "execution_count": 8,
     "metadata": {},
     "output_type": "execute_result"
    }
   ],
   "source": [
    "df[cormat_col].corr()"
   ]
  },
  {
   "cell_type": "code",
   "execution_count": 9,
   "metadata": {
    "colab": {
     "base_uri": "https://localhost:8080/",
     "height": 538
    },
    "executionInfo": {
     "elapsed": 1300,
     "status": "ok",
     "timestamp": 1597139368952,
     "user": {
      "displayName": "Math Hack",
      "photoUrl": "https://lh3.googleusercontent.com/a-/AOh14GjOrJzQ2xAgyHRSCzQ3qBInmHzMPfMtIJGxB4HG=s64",
      "userId": "13730440483455885359"
     },
     "user_tz": -180
    },
    "id": "etLMzFAck3tK",
    "outputId": "33e1b260-b242-41db-a217-c92fdd864d75"
   },
   "outputs": [
    {
     "data": {
      "image/png": "[encoded data removed]",
      "text/plain": [
       "<Figure size 1000x1000 with 2 Axes>"
      ]
     },
     "metadata": {},
     "output_type": "display_data"
    }
   ],
   "source": [
    "# مصفوفة الارتباطات \n",
    "import numpy as np\n",
    "import seaborn as sns\n",
    "import matplotlib.pyplot as plt\n",
    "\n",
    "plt.figure(figsize=(10,10))\n",
    "df_cor=df[cormat_col].corr()\n",
    "\n",
    "_=sns.heatmap(df_cor, \n",
    "              mask=np.triu(df_cor),  \n",
    "              cbar_kws={\"orientation\": \"horizontal\"})"
   ]
  },
  {
   "cell_type": "code",
   "execution_count": null,
   "metadata": {
    "id": "YArVTHYVk-4w"
   },
   "outputs": [],
   "source": []
  },
  {
   "cell_type": "markdown",
   "metadata": {
    "id": "yVaxgNnH3e5r"
   },
   "source": [
    "-  OverallQual  & GrLivArea   with respectively   0.79 and       0.71 are toppping aall other featuers"
   ]
  },
  {
   "cell_type": "code",
   "execution_count": 10,
   "metadata": {
    "colab": {
     "base_uri": "https://localhost:8080/",
     "height": 34
    },
    "executionInfo": {
     "elapsed": 838,
     "status": "ok",
     "timestamp": 1597139378366,
     "user": {
      "displayName": "Math Hack",
      "photoUrl": "https://lh3.googleusercontent.com/a-/AOh14GjOrJzQ2xAgyHRSCzQ3qBInmHzMPfMtIJGxB4HG=s64",
      "userId": "13730440483455885359"
     },
     "user_tz": -180
    },
    "id": "RhwrAQlp3e5r",
    "outputId": "1fbfeee6-7333-406b-d1d7-d781aff7f042"
   },
   "outputs": [
    {
     "data": {
      "text/plain": [
       "array([ 7,  6,  8,  5,  9,  4, 10,  3,  1,  2])"
      ]
     },
     "execution_count": 10,
     "metadata": {},
     "output_type": "execute_result"
    }
   ],
   "source": [
    "#  OverallQual  قيم المتغير \n",
    "df.OverallQual.unique()"
   ]
  },
  {
   "cell_type": "code",
   "execution_count": 11,
   "metadata": {
    "colab": {
     "base_uri": "https://localhost:8080/",
     "height": 390
    },
    "executionInfo": {
     "elapsed": 766,
     "status": "ok",
     "timestamp": 1597139388669,
     "user": {
      "displayName": "Math Hack",
      "photoUrl": "https://lh3.googleusercontent.com/a-/AOh14GjOrJzQ2xAgyHRSCzQ3qBInmHzMPfMtIJGxB4HG=s64",
      "userId": "13730440483455885359"
     },
     "user_tz": -180
    },
    "id": "1_Y7hZM83e5t",
    "outputId": "d6717242-4318-4cbf-c559-2e9bf92debe4"
   },
   "outputs": [
    {
     "data": {
      "text/html": [
       "<div>\n",
       "<style scoped>\n",
       "    .dataframe tbody tr th:only-of-type {\n",
       "        vertical-align: middle;\n",
       "    }\n",
       "\n",
       "    .dataframe tbody tr th {\n",
       "        vertical-align: top;\n",
       "    }\n",
       "\n",
       "    .dataframe thead th {\n",
       "        text-align: right;\n",
       "    }\n",
       "</style>\n",
       "<table border=\"1\" class=\"dataframe\">\n",
       "  <thead>\n",
       "    <tr style=\"text-align: right;\">\n",
       "      <th></th>\n",
       "      <th>SalePrice</th>\n",
       "    </tr>\n",
       "    <tr>\n",
       "      <th>OverallQual</th>\n",
       "      <th></th>\n",
       "    </tr>\n",
       "  </thead>\n",
       "  <tbody>\n",
       "    <tr>\n",
       "      <th>1</th>\n",
       "      <td>50150.0</td>\n",
       "    </tr>\n",
       "    <tr>\n",
       "      <th>2</th>\n",
       "      <td>60000.0</td>\n",
       "    </tr>\n",
       "    <tr>\n",
       "      <th>3</th>\n",
       "      <td>86250.0</td>\n",
       "    </tr>\n",
       "    <tr>\n",
       "      <th>4</th>\n",
       "      <td>108000.0</td>\n",
       "    </tr>\n",
       "    <tr>\n",
       "      <th>5</th>\n",
       "      <td>133000.0</td>\n",
       "    </tr>\n",
       "    <tr>\n",
       "      <th>6</th>\n",
       "      <td>160000.0</td>\n",
       "    </tr>\n",
       "    <tr>\n",
       "      <th>7</th>\n",
       "      <td>200141.0</td>\n",
       "    </tr>\n",
       "    <tr>\n",
       "      <th>8</th>\n",
       "      <td>269750.0</td>\n",
       "    </tr>\n",
       "    <tr>\n",
       "      <th>9</th>\n",
       "      <td>345000.0</td>\n",
       "    </tr>\n",
       "    <tr>\n",
       "      <th>10</th>\n",
       "      <td>432390.0</td>\n",
       "    </tr>\n",
       "  </tbody>\n",
       "</table>\n",
       "</div>"
      ],
      "text/plain": [
       "             SalePrice\n",
       "OverallQual           \n",
       "1              50150.0\n",
       "2              60000.0\n",
       "3              86250.0\n",
       "4             108000.0\n",
       "5             133000.0\n",
       "6             160000.0\n",
       "7             200141.0\n",
       "8             269750.0\n",
       "9             345000.0\n",
       "10            432390.0"
      ]
     },
     "execution_count": 11,
     "metadata": {},
     "output_type": "execute_result"
    }
   ],
   "source": [
    "#  pivolt table  for median SalePrice regarding     OverallQual  \n",
    "#OverallQual جدول تحديد الوسيط لتصنيفات المتغير  \n",
    "median_SalePrice_OvalQ= pd.pivot_table(df, index=\"OverallQual\", values=\"SalePrice\" , aggfunc=\"median\")\n",
    "median_SalePrice_OvalQ"
   ]
  },
  {
   "cell_type": "code",
   "execution_count": null,
   "metadata": {
    "id": "Tmsv3fJgKF2Q"
   },
   "outputs": [],
   "source": []
  }
 ],
 "metadata": {
  "colab": {
   "authorship_tag": "ABX9TyMKOLzWY5NHuXwBRYK/CzhR",
   "collapsed_sections": [],
   "mount_file_id": "11dI0l7whNJO00JYcO9ktGQ4jZ-hr52cj",
   "name": "3_Numerical_FeaturesCorrelation.ipynb",
   "provenance": []
  },
  "kernelspec": {
   "display_name": "Python 3",
   "name": "python3"
  },
  "language_info": {
   "codemirror_mode": {
    "name": "ipython",
    "version": 3
   },
   "file_extension": ".py",
   "mimetype": "text/x-python",
   "name": "python",
   "nbconvert_exporter": "python",
   "pygments_lexer": "ipython3",
   "version": "3.12.1"
  }
 },
 "nbformat": 4,
 "nbformat_minor": 0
}
