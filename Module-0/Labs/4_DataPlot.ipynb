{
 "cells": [
  {
   "cell_type": "markdown",
   "metadata": {
    "id": "vTXQfCZaXhuO"
   },
   "source": [
    "| |<font size=\"5\">DataSet Plot التخطيطات البيانية   </font>|\n",
    "|-:|-|\n",
    "|<img src=\"https://www.dotnetlovers.com/Images/Irisspeciesscatterplot928201821341AM.png\" width=300></img>||\n",
    "||<font size=\"4\"> تحميل البيانات وحفظها </font>| \n",
    "||<font size=\"4\">  تحديد خصائص التخطيات البيانية </font>| \n",
    "||<font size=\"4\"> تحديد الخصائص التمطرفة  </font>|  "
   ]
  },
  {
   "cell_type": "code",
   "execution_count": 1,
   "metadata": {
    "id": "S5YDVwathEGb"
   },
   "outputs": [],
   "source": [
    "#تحميل البيانات \n",
    "import pandas as pd\n",
    "df= pd.read_csv(\"../data/HousePrice1.csv\" , index_col=0)"
   ]
  },
  {
   "cell_type": "code",
   "execution_count": 2,
   "metadata": {
    "colab": {
     "base_uri": "https://localhost:8080/",
     "height": 213
    },
    "executionInfo": {
     "elapsed": 2276,
     "status": "ok",
     "timestamp": 1597297969622,
     "user": {
      "displayName": "Math Hack",
      "photoUrl": "https://lh3.googleusercontent.com/a-/AOh14GjOrJzQ2xAgyHRSCzQ3qBInmHzMPfMtIJGxB4HG=s64",
      "userId": "13730440483455885359"
     },
     "user_tz": -180
    },
    "id": "jQhYi18z2_LL",
    "outputId": "df364e1f-e7bd-486c-c77c-2ae16cb27e3c"
   },
   "outputs": [
    {
     "data": {
      "text/html": [
       "<div>\n",
       "<style scoped>\n",
       "    .dataframe tbody tr th:only-of-type {\n",
       "        vertical-align: middle;\n",
       "    }\n",
       "\n",
       "    .dataframe tbody tr th {\n",
       "        vertical-align: top;\n",
       "    }\n",
       "\n",
       "    .dataframe thead th {\n",
       "        text-align: right;\n",
       "    }\n",
       "</style>\n",
       "<table border=\"1\" class=\"dataframe\">\n",
       "  <thead>\n",
       "    <tr style=\"text-align: right;\">\n",
       "      <th></th>\n",
       "      <th>Id</th>\n",
       "      <th>MSSubClass</th>\n",
       "      <th>MSZoning</th>\n",
       "      <th>LotFrontage</th>\n",
       "      <th>LotArea</th>\n",
       "      <th>Street</th>\n",
       "      <th>Alley</th>\n",
       "      <th>LotShape</th>\n",
       "      <th>LandContour</th>\n",
       "      <th>Utilities</th>\n",
       "      <th>...</th>\n",
       "      <th>MiscVal</th>\n",
       "      <th>YrSold</th>\n",
       "      <th>SaleType</th>\n",
       "      <th>SaleCondition</th>\n",
       "      <th>SalePrice</th>\n",
       "      <th>TotalSF</th>\n",
       "      <th>TotalPorchSF</th>\n",
       "      <th>TotalBath</th>\n",
       "      <th>SnMoSold</th>\n",
       "      <th>CsMoSold</th>\n",
       "    </tr>\n",
       "  </thead>\n",
       "  <tbody>\n",
       "    <tr>\n",
       "      <th>979</th>\n",
       "      <td>980</td>\n",
       "      <td>20</td>\n",
       "      <td>RL</td>\n",
       "      <td>80.0</td>\n",
       "      <td>8816</td>\n",
       "      <td>Pave</td>\n",
       "      <td>NaN</td>\n",
       "      <td>Reg</td>\n",
       "      <td>Lvl</td>\n",
       "      <td>AllPub</td>\n",
       "      <td>...</td>\n",
       "      <td>0</td>\n",
       "      <td>2009</td>\n",
       "      <td>WD</td>\n",
       "      <td>Normal</td>\n",
       "      <td>139000</td>\n",
       "      <td>2242</td>\n",
       "      <td>80</td>\n",
       "      <td>2.0</td>\n",
       "      <td>1.224647e-16</td>\n",
       "      <td>-1.000000e+00</td>\n",
       "    </tr>\n",
       "    <tr>\n",
       "      <th>730</th>\n",
       "      <td>731</td>\n",
       "      <td>120</td>\n",
       "      <td>RL</td>\n",
       "      <td>39.0</td>\n",
       "      <td>5389</td>\n",
       "      <td>Pave</td>\n",
       "      <td>NaN</td>\n",
       "      <td>IR1</td>\n",
       "      <td>Lvl</td>\n",
       "      <td>AllPub</td>\n",
       "      <td>...</td>\n",
       "      <td>0</td>\n",
       "      <td>2010</td>\n",
       "      <td>WD</td>\n",
       "      <td>Normal</td>\n",
       "      <td>236500</td>\n",
       "      <td>3211</td>\n",
       "      <td>152</td>\n",
       "      <td>3.0</td>\n",
       "      <td>1.000000e+00</td>\n",
       "      <td>6.123234e-17</td>\n",
       "    </tr>\n",
       "    <tr>\n",
       "      <th>1310</th>\n",
       "      <td>1311</td>\n",
       "      <td>20</td>\n",
       "      <td>RL</td>\n",
       "      <td>100.0</td>\n",
       "      <td>17500</td>\n",
       "      <td>Pave</td>\n",
       "      <td>NaN</td>\n",
       "      <td>Reg</td>\n",
       "      <td>Lvl</td>\n",
       "      <td>AllPub</td>\n",
       "      <td>...</td>\n",
       "      <td>0</td>\n",
       "      <td>2010</td>\n",
       "      <td>WD</td>\n",
       "      <td>Normal</td>\n",
       "      <td>335000</td>\n",
       "      <td>3804</td>\n",
       "      <td>369</td>\n",
       "      <td>3.0</td>\n",
       "      <td>5.000000e-01</td>\n",
       "      <td>-8.660254e-01</td>\n",
       "    </tr>\n",
       "  </tbody>\n",
       "</table>\n",
       "<p>3 rows × 75 columns</p>\n",
       "</div>"
      ],
      "text/plain": [
       "        Id  MSSubClass MSZoning  LotFrontage  LotArea Street Alley LotShape  \\\n",
       "979    980          20       RL         80.0     8816   Pave   NaN      Reg   \n",
       "730    731         120       RL         39.0     5389   Pave   NaN      IR1   \n",
       "1310  1311          20       RL        100.0    17500   Pave   NaN      Reg   \n",
       "\n",
       "     LandContour Utilities  ... MiscVal YrSold SaleType SaleCondition  \\\n",
       "979          Lvl    AllPub  ...       0   2009       WD        Normal   \n",
       "730          Lvl    AllPub  ...       0   2010       WD        Normal   \n",
       "1310         Lvl    AllPub  ...       0   2010       WD        Normal   \n",
       "\n",
       "     SalePrice TotalSF TotalPorchSF  TotalBath      SnMoSold      CsMoSold  \n",
       "979     139000    2242           80        2.0  1.224647e-16 -1.000000e+00  \n",
       "730     236500    3211          152        3.0  1.000000e+00  6.123234e-17  \n",
       "1310    335000    3804          369        3.0  5.000000e-01 -8.660254e-01  \n",
       "\n",
       "[3 rows x 75 columns]"
      ]
     },
     "execution_count": 2,
     "metadata": {},
     "output_type": "execute_result"
    }
   ],
   "source": [
    "df.sample(3)"
   ]
  },
  {
   "cell_type": "markdown",
   "metadata": {
    "id": "4EhL5nXRg1Iw"
   },
   "source": [
    "![](https://image.flaticon.com/icons/png/128/3079/3079166.png)"
   ]
  },
  {
   "cell_type": "code",
   "execution_count": 3,
   "metadata": {
    "colab": {
     "base_uri": "https://localhost:8080/",
     "height": 306
    },
    "executionInfo": {
     "elapsed": 2261,
     "status": "ok",
     "timestamp": 1597297969622,
     "user": {
      "displayName": "Math Hack",
      "photoUrl": "https://lh3.googleusercontent.com/a-/AOh14GjOrJzQ2xAgyHRSCzQ3qBInmHzMPfMtIJGxB4HG=s64",
      "userId": "13730440483455885359"
     },
     "user_tz": -180
    },
    "id": "kgo56uzF8YHF",
    "outputId": "eb6d23e8-84ae-4664-bbdc-07c5acd85679"
   },
   "outputs": [
    {
     "data": {
      "text/plain": [
       "Index(['Id', 'MSSubClass', 'MSZoning', 'LotFrontage', 'LotArea', 'Street',\n",
       "       'Alley', 'LotShape', 'LandContour', 'Utilities', 'LotConfig',\n",
       "       'LandSlope', 'Neighborhood', 'Condition1', 'Condition2', 'BldgType',\n",
       "       'HouseStyle', 'OverallQual', 'OverallCond', 'YearBuilt', 'YearRemodAdd',\n",
       "       'RoofStyle', 'RoofMatl', 'Exterior1st', 'Exterior2nd', 'MasVnrType',\n",
       "       'MasVnrArea', 'ExterQual', 'ExterCond', 'Foundation', 'BsmtQual',\n",
       "       'BsmtCond', 'BsmtExposure', 'BsmtFinType1', 'BsmtFinSF1',\n",
       "       'BsmtFinType2', 'BsmtFinSF2', 'BsmtUnfSF', 'Heating', 'HeatingQC',\n",
       "       'CentralAir', 'Electrical', '1stFlrSF', '2ndFlrSF', 'LowQualFinSF',\n",
       "       'BedroomAbvGr', 'KitchenAbvGr', 'KitchenQual', 'TotRmsAbvGrd',\n",
       "       'Functional', 'Fireplaces', 'FireplaceQu', 'GarageType', 'GarageYrBlt',\n",
       "       'GarageFinish', 'GarageCars', 'GarageArea', 'GarageQual', 'GarageCond',\n",
       "       'PavedDrive', 'WoodDeckSF', 'PoolArea', 'PoolQC', 'Fence',\n",
       "       'MiscFeature', 'MiscVal', 'YrSold', 'SaleType', 'SaleCondition',\n",
       "       'SalePrice', 'TotalSF', 'TotalPorchSF', 'TotalBath', 'SnMoSold',\n",
       "       'CsMoSold'],\n",
       "      dtype='object')"
      ]
     },
     "execution_count": 3,
     "metadata": {},
     "output_type": "execute_result"
    }
   ],
   "source": [
    "df.keys()"
   ]
  },
  {
   "cell_type": "code",
   "execution_count": 4,
   "metadata": {
    "colab": {
     "base_uri": "https://localhost:8080/",
     "height": 390
    },
    "executionInfo": {
     "elapsed": 2248,
     "status": "ok",
     "timestamp": 1597297969623,
     "user": {
      "displayName": "Math Hack",
      "photoUrl": "https://lh3.googleusercontent.com/a-/AOh14GjOrJzQ2xAgyHRSCzQ3qBInmHzMPfMtIJGxB4HG=s64",
      "userId": "13730440483455885359"
     },
     "user_tz": -180
    },
    "id": "F7PQxiiM8Wr-",
    "outputId": "9bd5b3ed-dde2-4086-88dc-a633b724822b"
   },
   "outputs": [
    {
     "data": {
      "text/html": [
       "<div>\n",
       "<style scoped>\n",
       "    .dataframe tbody tr th:only-of-type {\n",
       "        vertical-align: middle;\n",
       "    }\n",
       "\n",
       "    .dataframe tbody tr th {\n",
       "        vertical-align: top;\n",
       "    }\n",
       "\n",
       "    .dataframe thead th {\n",
       "        text-align: right;\n",
       "    }\n",
       "</style>\n",
       "<table border=\"1\" class=\"dataframe\">\n",
       "  <thead>\n",
       "    <tr style=\"text-align: right;\">\n",
       "      <th></th>\n",
       "      <th>SalePrice</th>\n",
       "    </tr>\n",
       "    <tr>\n",
       "      <th>OverallQual</th>\n",
       "      <th></th>\n",
       "    </tr>\n",
       "  </thead>\n",
       "  <tbody>\n",
       "    <tr>\n",
       "      <th>1</th>\n",
       "      <td>50150.0</td>\n",
       "    </tr>\n",
       "    <tr>\n",
       "      <th>2</th>\n",
       "      <td>60000.0</td>\n",
       "    </tr>\n",
       "    <tr>\n",
       "      <th>3</th>\n",
       "      <td>86250.0</td>\n",
       "    </tr>\n",
       "    <tr>\n",
       "      <th>4</th>\n",
       "      <td>108000.0</td>\n",
       "    </tr>\n",
       "    <tr>\n",
       "      <th>5</th>\n",
       "      <td>133000.0</td>\n",
       "    </tr>\n",
       "    <tr>\n",
       "      <th>6</th>\n",
       "      <td>160000.0</td>\n",
       "    </tr>\n",
       "    <tr>\n",
       "      <th>7</th>\n",
       "      <td>200141.0</td>\n",
       "    </tr>\n",
       "    <tr>\n",
       "      <th>8</th>\n",
       "      <td>269750.0</td>\n",
       "    </tr>\n",
       "    <tr>\n",
       "      <th>9</th>\n",
       "      <td>345000.0</td>\n",
       "    </tr>\n",
       "    <tr>\n",
       "      <th>10</th>\n",
       "      <td>432390.0</td>\n",
       "    </tr>\n",
       "  </tbody>\n",
       "</table>\n",
       "</div>"
      ],
      "text/plain": [
       "             SalePrice\n",
       "OverallQual           \n",
       "1              50150.0\n",
       "2              60000.0\n",
       "3              86250.0\n",
       "4             108000.0\n",
       "5             133000.0\n",
       "6             160000.0\n",
       "7             200141.0\n",
       "8             269750.0\n",
       "9             345000.0\n",
       "10            432390.0"
      ]
     },
     "execution_count": 4,
     "metadata": {},
     "output_type": "execute_result"
    }
   ],
   "source": [
    "#  pivolt table  for median SalePrice regarding     OverallQual  \n",
    "#OverallQual جدول تحديد الوسيط لتصنيفات المتغير  \n",
    "median_SalePrice_OvalQ= pd.pivot_table(df, index=\"OverallQual\", values=\"SalePrice\" , aggfunc=\"median\")\n",
    "median_SalePrice_OvalQ"
   ]
  },
  {
   "cell_type": "code",
   "execution_count": 5,
   "metadata": {
    "colab": {
     "base_uri": "https://localhost:8080/",
     "height": 285
    },
    "executionInfo": {
     "elapsed": 2234,
     "status": "ok",
     "timestamp": 1597297969623,
     "user": {
      "displayName": "Math Hack",
      "photoUrl": "https://lh3.googleusercontent.com/a-/AOh14GjOrJzQ2xAgyHRSCzQ3qBInmHzMPfMtIJGxB4HG=s64",
      "userId": "13730440483455885359"
     },
     "user_tz": -180
    },
    "id": "suKr3PyY3e5v",
    "outputId": "a1d95704-aacd-45cd-d1b9-65b9cdff1ab7"
   },
   "outputs": [
    {
     "data": {
      "image/png": "[encoded data removed]",
      "text/plain": [
       "<Figure size 640x480 with 1 Axes>"
      ]
     },
     "metadata": {},
     "output_type": "display_data"
    }
   ],
   "source": [
    "#  سعر العقار في ضوء تصنيفه\n",
    "import seaborn as sns\n",
    "import matplotlib.pyplot as plt\n",
    "sns.set(style=\"whitegrid\")\n",
    "_=sns.barplot( x=\"OverallQual\", y=\"SalePrice\", data=median_SalePrice_OvalQ.reset_index())"
   ]
  },
  {
   "cell_type": "code",
   "execution_count": 6,
   "metadata": {
    "colab": {
     "base_uri": "https://localhost:8080/",
     "height": 285
    },
    "executionInfo": {
     "elapsed": 2686,
     "status": "ok",
     "timestamp": 1597297970084,
     "user": {
      "displayName": "Math Hack",
      "photoUrl": "https://lh3.googleusercontent.com/a-/AOh14GjOrJzQ2xAgyHRSCzQ3qBInmHzMPfMtIJGxB4HG=s64",
      "userId": "13730440483455885359"
     },
     "user_tz": -180
    },
    "id": "GDGug5ho3e5x",
    "outputId": "870adf25-91f7-4a85-c845-8436efdbbf50"
   },
   "outputs": [
    {
     "data": {
      "image/png": "[encoded data removed]",
      "text/plain": [
       "<Figure size 640x480 with 1 Axes>"
      ]
     },
     "metadata": {},
     "output_type": "display_data"
    }
   ],
   "source": [
    "#معدل  سعر العقار في ضوء تصنيفه\n",
    "import numpy as np\n",
    "_=sns.barplot( x=\"OverallQual\", y=\"SalePrice\", data=df , estimator=np.mean) #, capsize=True)"
   ]
  },
  {
   "cell_type": "code",
   "execution_count": 7,
   "metadata": {
    "colab": {
     "base_uri": "https://localhost:8080/",
     "height": 285
    },
    "executionInfo": {
     "elapsed": 3233,
     "status": "ok",
     "timestamp": 1597297970644,
     "user": {
      "displayName": "Math Hack",
      "photoUrl": "https://lh3.googleusercontent.com/a-/AOh14GjOrJzQ2xAgyHRSCzQ3qBInmHzMPfMtIJGxB4HG=s64",
      "userId": "13730440483455885359"
     },
     "user_tz": -180
    },
    "id": "VlfxEMgi3e5y",
    "outputId": "6e9e0179-a4a2-4105-fc22-451ad8beb51a"
   },
   "outputs": [
    {
     "data": {
      "image/png": "[encoded data removed]",
      "text/plain": [
       "<Figure size 640x480 with 1 Axes>"
      ]
     },
     "metadata": {},
     "output_type": "display_data"
    }
   ],
   "source": [
    "# المعدل هو الذي يعتمد في الأساس \n",
    "_=sns.barplot( x=\"OverallQual\", y=\"SalePrice\", data=df) # ,  ci=\"sd\")"
   ]
  },
  {
   "cell_type": "code",
   "execution_count": 8,
   "metadata": {
    "colab": {
     "base_uri": "https://localhost:8080/",
     "height": 111
    },
    "executionInfo": {
     "elapsed": 3216,
     "status": "ok",
     "timestamp": 1597297970645,
     "user": {
      "displayName": "Math Hack",
      "photoUrl": "https://lh3.googleusercontent.com/a-/AOh14GjOrJzQ2xAgyHRSCzQ3qBInmHzMPfMtIJGxB4HG=s64",
      "userId": "13730440483455885359"
     },
     "user_tz": -180
    },
    "id": "ekTMZJ3h3e50",
    "outputId": "94fcd9e2-09ed-4220-d449-a607457908f3"
   },
   "outputs": [
    {
     "data": {
      "text/html": [
       "<div>\n",
       "<style scoped>\n",
       "    .dataframe tbody tr th:only-of-type {\n",
       "        vertical-align: middle;\n",
       "    }\n",
       "\n",
       "    .dataframe tbody tr th {\n",
       "        vertical-align: top;\n",
       "    }\n",
       "\n",
       "    .dataframe thead th {\n",
       "        text-align: right;\n",
       "    }\n",
       "</style>\n",
       "<table border=\"1\" class=\"dataframe\">\n",
       "  <thead>\n",
       "    <tr style=\"text-align: right;\">\n",
       "      <th>OverallQual</th>\n",
       "      <th>1</th>\n",
       "      <th>2</th>\n",
       "      <th>3</th>\n",
       "      <th>4</th>\n",
       "      <th>5</th>\n",
       "      <th>6</th>\n",
       "      <th>7</th>\n",
       "      <th>8</th>\n",
       "      <th>9</th>\n",
       "      <th>10</th>\n",
       "    </tr>\n",
       "  </thead>\n",
       "  <tbody>\n",
       "    <tr>\n",
       "      <th>mean</th>\n",
       "      <td>50150.0</td>\n",
       "      <td>51770.33</td>\n",
       "      <td>87473.75</td>\n",
       "      <td>108420.66</td>\n",
       "      <td>133523.35</td>\n",
       "      <td>161603.03</td>\n",
       "      <td>207716.42</td>\n",
       "      <td>274735.54</td>\n",
       "      <td>367513.02</td>\n",
       "      <td>438588.39</td>\n",
       "    </tr>\n",
       "    <tr>\n",
       "      <th>median</th>\n",
       "      <td>50150.0</td>\n",
       "      <td>60000.00</td>\n",
       "      <td>86250.00</td>\n",
       "      <td>108000.00</td>\n",
       "      <td>133000.00</td>\n",
       "      <td>160000.00</td>\n",
       "      <td>200141.00</td>\n",
       "      <td>269750.00</td>\n",
       "      <td>345000.00</td>\n",
       "      <td>432390.00</td>\n",
       "    </tr>\n",
       "  </tbody>\n",
       "</table>\n",
       "</div>"
      ],
      "text/plain": [
       "OverallQual       1         2         3          4          5          6   \\\n",
       "mean         50150.0  51770.33  87473.75  108420.66  133523.35  161603.03   \n",
       "median       50150.0  60000.00  86250.00  108000.00  133000.00  160000.00   \n",
       "\n",
       "OverallQual         7          8          9          10  \n",
       "mean         207716.42  274735.54  367513.02  438588.39  \n",
       "median       200141.00  269750.00  345000.00  432390.00  "
      ]
     },
     "execution_count": 8,
     "metadata": {},
     "output_type": "execute_result"
    }
   ],
   "source": [
    "#OverallQual  معدا ووسيط المتغير  \n",
    "df.groupby(\"OverallQual\").SalePrice.agg([\"mean\", \"median\"]).T.round(2)"
   ]
  },
  {
   "cell_type": "code",
   "execution_count": 9,
   "metadata": {
    "colab": {
     "base_uri": "https://localhost:8080/",
     "height": 502
    },
    "executionInfo": {
     "elapsed": 4129,
     "status": "ok",
     "timestamp": 1597297971569,
     "user": {
      "displayName": "Math Hack",
      "photoUrl": "https://lh3.googleusercontent.com/a-/AOh14GjOrJzQ2xAgyHRSCzQ3qBInmHzMPfMtIJGxB4HG=s64",
      "userId": "13730440483455885359"
     },
     "user_tz": -180
    },
    "id": "jJni9uVi3e52",
    "outputId": "302202e1-e0fe-4b5c-d1e2-f51d265c90ec"
   },
   "outputs": [
    {
     "data": {
      "image/png": "[encoded data removed]",
      "text/plain": [
       "<Figure size 1000x800 with 1 Axes>"
      ]
     },
     "metadata": {},
     "output_type": "display_data"
    }
   ],
   "source": [
    "import matplotlib.pyplot as plt\n",
    "\n",
    "plt.figure(figsize=(10,8))\n",
    "_=sns.violinplot( x=\"OverallQual\", y=\"SalePrice\", data=df )"
   ]
  },
  {
   "cell_type": "code",
   "execution_count": 10,
   "metadata": {
    "colab": {
     "base_uri": "https://localhost:8080/",
     "height": 213
    },
    "executionInfo": {
     "elapsed": 4118,
     "status": "ok",
     "timestamp": 1597297971570,
     "user": {
      "displayName": "Math Hack",
      "photoUrl": "https://lh3.googleusercontent.com/a-/AOh14GjOrJzQ2xAgyHRSCzQ3qBInmHzMPfMtIJGxB4HG=s64",
      "userId": "13730440483455885359"
     },
     "user_tz": -180
    },
    "id": "NKEYoQBs3e54",
    "outputId": "bb9c4030-3194-4da9-8fa0-5917367b2a60"
   },
   "outputs": [
    {
     "data": {
      "text/html": [
       "<div>\n",
       "<style scoped>\n",
       "    .dataframe tbody tr th:only-of-type {\n",
       "        vertical-align: middle;\n",
       "    }\n",
       "\n",
       "    .dataframe tbody tr th {\n",
       "        vertical-align: top;\n",
       "    }\n",
       "\n",
       "    .dataframe thead th {\n",
       "        text-align: right;\n",
       "    }\n",
       "</style>\n",
       "<table border=\"1\" class=\"dataframe\">\n",
       "  <thead>\n",
       "    <tr style=\"text-align: right;\">\n",
       "      <th></th>\n",
       "      <th>Id</th>\n",
       "      <th>MSSubClass</th>\n",
       "      <th>MSZoning</th>\n",
       "      <th>LotFrontage</th>\n",
       "      <th>LotArea</th>\n",
       "      <th>Street</th>\n",
       "      <th>Alley</th>\n",
       "      <th>LotShape</th>\n",
       "      <th>LandContour</th>\n",
       "      <th>Utilities</th>\n",
       "      <th>...</th>\n",
       "      <th>MiscVal</th>\n",
       "      <th>YrSold</th>\n",
       "      <th>SaleType</th>\n",
       "      <th>SaleCondition</th>\n",
       "      <th>SalePrice</th>\n",
       "      <th>TotalSF</th>\n",
       "      <th>TotalPorchSF</th>\n",
       "      <th>TotalBath</th>\n",
       "      <th>SnMoSold</th>\n",
       "      <th>CsMoSold</th>\n",
       "    </tr>\n",
       "  </thead>\n",
       "  <tbody>\n",
       "    <tr>\n",
       "      <th>1090</th>\n",
       "      <td>1091</td>\n",
       "      <td>90</td>\n",
       "      <td>RL</td>\n",
       "      <td>60.0</td>\n",
       "      <td>8544</td>\n",
       "      <td>Pave</td>\n",
       "      <td>NaN</td>\n",
       "      <td>Reg</td>\n",
       "      <td>Lvl</td>\n",
       "      <td>AllPub</td>\n",
       "      <td>...</td>\n",
       "      <td>0</td>\n",
       "      <td>2009</td>\n",
       "      <td>WD</td>\n",
       "      <td>Normal</td>\n",
       "      <td>92900</td>\n",
       "      <td>1040</td>\n",
       "      <td>0</td>\n",
       "      <td>2.0</td>\n",
       "      <td>1.224647e-16</td>\n",
       "      <td>-1.000000</td>\n",
       "    </tr>\n",
       "    <tr>\n",
       "      <th>329</th>\n",
       "      <td>330</td>\n",
       "      <td>70</td>\n",
       "      <td>RM</td>\n",
       "      <td>60.0</td>\n",
       "      <td>6402</td>\n",
       "      <td>Pave</td>\n",
       "      <td>NaN</td>\n",
       "      <td>Reg</td>\n",
       "      <td>Lvl</td>\n",
       "      <td>AllPub</td>\n",
       "      <td>...</td>\n",
       "      <td>0</td>\n",
       "      <td>2009</td>\n",
       "      <td>WD</td>\n",
       "      <td>Normal</td>\n",
       "      <td>78000</td>\n",
       "      <td>1788</td>\n",
       "      <td>137</td>\n",
       "      <td>1.0</td>\n",
       "      <td>-5.000000e-01</td>\n",
       "      <td>-0.866025</td>\n",
       "    </tr>\n",
       "    <tr>\n",
       "      <th>120</th>\n",
       "      <td>121</td>\n",
       "      <td>80</td>\n",
       "      <td>RL</td>\n",
       "      <td>NaN</td>\n",
       "      <td>21453</td>\n",
       "      <td>Pave</td>\n",
       "      <td>NaN</td>\n",
       "      <td>IR1</td>\n",
       "      <td>Low</td>\n",
       "      <td>AllPub</td>\n",
       "      <td>...</td>\n",
       "      <td>0</td>\n",
       "      <td>2006</td>\n",
       "      <td>WD</td>\n",
       "      <td>Normal</td>\n",
       "      <td>180000</td>\n",
       "      <td>1926</td>\n",
       "      <td>260</td>\n",
       "      <td>2.0</td>\n",
       "      <td>-8.660254e-01</td>\n",
       "      <td>0.500000</td>\n",
       "    </tr>\n",
       "  </tbody>\n",
       "</table>\n",
       "<p>3 rows × 75 columns</p>\n",
       "</div>"
      ],
      "text/plain": [
       "        Id  MSSubClass MSZoning  LotFrontage  LotArea Street Alley LotShape  \\\n",
       "1090  1091          90       RL         60.0     8544   Pave   NaN      Reg   \n",
       "329    330          70       RM         60.0     6402   Pave   NaN      Reg   \n",
       "120    121          80       RL          NaN    21453   Pave   NaN      IR1   \n",
       "\n",
       "     LandContour Utilities  ... MiscVal YrSold SaleType SaleCondition  \\\n",
       "1090         Lvl    AllPub  ...       0   2009       WD        Normal   \n",
       "329          Lvl    AllPub  ...       0   2009       WD        Normal   \n",
       "120          Low    AllPub  ...       0   2006       WD        Normal   \n",
       "\n",
       "     SalePrice TotalSF TotalPorchSF  TotalBath      SnMoSold  CsMoSold  \n",
       "1090     92900    1040            0        2.0  1.224647e-16 -1.000000  \n",
       "329      78000    1788          137        1.0 -5.000000e-01 -0.866025  \n",
       "120     180000    1926          260        2.0 -8.660254e-01  0.500000  \n",
       "\n",
       "[3 rows x 75 columns]"
      ]
     },
     "execution_count": 10,
     "metadata": {},
     "output_type": "execute_result"
    }
   ],
   "source": [
    "df.sample(3)"
   ]
  },
  {
   "cell_type": "code",
   "execution_count": 11,
   "metadata": {
    "colab": {
     "base_uri": "https://localhost:8080/",
     "height": 153
    },
    "executionInfo": {
     "elapsed": 4108,
     "status": "ok",
     "timestamp": 1597297971571,
     "user": {
      "displayName": "Math Hack",
      "photoUrl": "https://lh3.googleusercontent.com/a-/AOh14GjOrJzQ2xAgyHRSCzQ3qBInmHzMPfMtIJGxB4HG=s64",
      "userId": "13730440483455885359"
     },
     "user_tz": -180
    },
    "id": "Jn_Q39G13e56",
    "outputId": "4bcf1e54-7f85-4f59-80c0-8d8dfcb00fa6"
   },
   "outputs": [
    {
     "name": "stdout",
     "output_type": "stream",
     "text": [
      " Street :   ['Pave' 'Grvl'] values \n",
      " Alley :   [nan 'Grvl' 'Pave'] values \n",
      " Utilities :   ['AllPub' 'NoSeWa'] values \n",
      " LandSlope :   ['Gtl' 'Mod' 'Sev'] values \n",
      " MasVnrType :   ['BrkFace' nan 'Stone' 'BrkCmn'] values \n",
      " CentralAir :   ['Y' 'N'] values \n",
      " GarageFinish :   ['RFn' 'Unf' 'Fin' nan] values \n",
      " PavedDrive :   ['Y' 'N' 'P'] values \n",
      " PoolQC :   [nan 'Ex' 'Fa' 'Gd'] values \n"
     ]
    }
   ],
   "source": [
    "# تحديد المتغيرات التي تقل تصنيفاتها على 4 \n",
    "for col in df.select_dtypes(exclude=\"number\").columns:\n",
    "    if df[col].nunique()< 4:\n",
    "        print(f\" {col} :   {df[col].unique()} values \" )"
   ]
  },
  {
   "cell_type": "code",
   "execution_count": 12,
   "metadata": {
    "colab": {
     "base_uri": "https://localhost:8080/",
     "height": 365
    },
    "executionInfo": {
     "elapsed": 5473,
     "status": "ok",
     "timestamp": 1597297972948,
     "user": {
      "displayName": "Math Hack",
      "photoUrl": "https://lh3.googleusercontent.com/a-/AOh14GjOrJzQ2xAgyHRSCzQ3qBInmHzMPfMtIJGxB4HG=s64",
      "userId": "13730440483455885359"
     },
     "user_tz": -180
    },
    "id": "31M_BSAL3e58",
    "outputId": "c38a91a5-8160-488e-f4bc-3085b7cbbaf7"
   },
   "outputs": [
    {
     "data": {
      "image/png": "[encoded data removed]",
      "text/plain": [
       "<Figure size 1512.22x500 with 2 Axes>"
      ]
     },
     "metadata": {},
     "output_type": "display_data"
    }
   ],
   "source": [
    "#  معدل  سعر العقار في ضوء تصنيفه حسب نوعية تعبيد الطريق\n",
    "\n",
    "\n",
    "_=sns.catplot( x=\"OverallQual\", y=\"SalePrice\", col=\"Street\",kind=\"bar\",  data=df, height=5, aspect=1.5)"
   ]
  },
  {
   "cell_type": "markdown",
   "metadata": {
    "id": "M4M01aeucRIE"
   },
   "source": [
    "##  V-score   تحديد القيم المتطرفة من خلال توظيف "
   ]
  },
  {
   "cell_type": "markdown",
   "metadata": {
    "id": "QIyPzmHkfxl4"
   },
   "source": [
    "![](https://upload.wikimedia.org/wikipedia/commons/thumb/8/8c/Standard_deviation_diagram.svg/500px-Standard_deviation_diagram.svg.png)"
   ]
  },
  {
   "cell_type": "markdown",
   "metadata": {
    "id": "yZ0Z0ycFhhXE"
   },
   "source": [
    "![](https://datajango.com/wp-content/uploads/2019/06/true-distribution.jpg)"
   ]
  },
  {
   "cell_type": "code",
   "execution_count": 13,
   "metadata": {
    "colab": {
     "base_uri": "https://localhost:8080/",
     "height": 153
    },
    "executionInfo": {
     "elapsed": 648,
     "status": "ok",
     "timestamp": 1597299484182,
     "user": {
      "displayName": "Math Hack",
      "photoUrl": "https://lh3.googleusercontent.com/a-/AOh14GjOrJzQ2xAgyHRSCzQ3qBInmHzMPfMtIJGxB4HG=s64",
      "userId": "13730440483455885359"
     },
     "user_tz": -180
    },
    "id": "pnIaswmYcO1Q",
    "outputId": "ec333e3a-4d61-4353-dd9e-eb584d7879dd"
   },
   "outputs": [
    {
     "data": {
      "text/plain": [
       "Index(['Id', 'MSSubClass', 'LotFrontage', 'LotArea', 'OverallQual',\n",
       "       'OverallCond', 'YearBuilt', 'YearRemodAdd', 'MasVnrArea', 'BsmtFinSF1',\n",
       "       'BsmtFinSF2', 'BsmtUnfSF', '1stFlrSF', '2ndFlrSF', 'LowQualFinSF',\n",
       "       'BedroomAbvGr', 'KitchenAbvGr', 'TotRmsAbvGrd', 'Fireplaces',\n",
       "       'GarageYrBlt', 'GarageCars', 'GarageArea', 'WoodDeckSF', 'PoolArea',\n",
       "       'MiscVal', 'YrSold', 'SalePrice', 'TotalSF', 'TotalPorchSF',\n",
       "       'TotalBath', 'SnMoSold', 'CsMoSold'],\n",
       "      dtype='object')"
      ]
     },
     "execution_count": 13,
     "metadata": {},
     "output_type": "execute_result"
    }
   ],
   "source": [
    "df.select_dtypes(\"number\").columns"
   ]
  },
  {
   "cell_type": "code",
   "execution_count": 14,
   "metadata": {
    "colab": {
     "base_uri": "https://localhost:8080/",
     "height": 162
    },
    "executionInfo": {
     "elapsed": 669,
     "status": "ok",
     "timestamp": 1597299511401,
     "user": {
      "displayName": "Math Hack",
      "photoUrl": "https://lh3.googleusercontent.com/a-/AOh14GjOrJzQ2xAgyHRSCzQ3qBInmHzMPfMtIJGxB4HG=s64",
      "userId": "13730440483455885359"
     },
     "user_tz": -180
    },
    "id": "mW7tjll3cO9H",
    "outputId": "9e6fdb8d-b53c-4f2f-8231-1c87b619a4ab"
   },
   "outputs": [
    {
     "data": {
      "text/html": [
       "<div>\n",
       "<style scoped>\n",
       "    .dataframe tbody tr th:only-of-type {\n",
       "        vertical-align: middle;\n",
       "    }\n",
       "\n",
       "    .dataframe tbody tr th {\n",
       "        vertical-align: top;\n",
       "    }\n",
       "\n",
       "    .dataframe thead th {\n",
       "        text-align: right;\n",
       "    }\n",
       "</style>\n",
       "<table border=\"1\" class=\"dataframe\">\n",
       "  <thead>\n",
       "    <tr style=\"text-align: right;\">\n",
       "      <th></th>\n",
       "      <th>Id</th>\n",
       "      <th>MSSubClass</th>\n",
       "      <th>LotFrontage</th>\n",
       "      <th>LotArea</th>\n",
       "      <th>OverallQual</th>\n",
       "      <th>OverallCond</th>\n",
       "      <th>YearBuilt</th>\n",
       "      <th>YearRemodAdd</th>\n",
       "      <th>MasVnrArea</th>\n",
       "      <th>BsmtFinSF1</th>\n",
       "      <th>...</th>\n",
       "      <th>WoodDeckSF</th>\n",
       "      <th>PoolArea</th>\n",
       "      <th>MiscVal</th>\n",
       "      <th>YrSold</th>\n",
       "      <th>SalePrice</th>\n",
       "      <th>TotalSF</th>\n",
       "      <th>TotalPorchSF</th>\n",
       "      <th>TotalBath</th>\n",
       "      <th>SnMoSold</th>\n",
       "      <th>CsMoSold</th>\n",
       "    </tr>\n",
       "  </thead>\n",
       "  <tbody>\n",
       "    <tr>\n",
       "      <th>925</th>\n",
       "      <td>926</td>\n",
       "      <td>20</td>\n",
       "      <td>NaN</td>\n",
       "      <td>15611</td>\n",
       "      <td>5</td>\n",
       "      <td>6</td>\n",
       "      <td>1977</td>\n",
       "      <td>1977</td>\n",
       "      <td>0.0</td>\n",
       "      <td>767</td>\n",
       "      <td>...</td>\n",
       "      <td>180</td>\n",
       "      <td>0</td>\n",
       "      <td>0</td>\n",
       "      <td>2008</td>\n",
       "      <td>175000</td>\n",
       "      <td>2252</td>\n",
       "      <td>0</td>\n",
       "      <td>2.5</td>\n",
       "      <td>1.000000e+00</td>\n",
       "      <td>6.123234e-17</td>\n",
       "    </tr>\n",
       "    <tr>\n",
       "      <th>449</th>\n",
       "      <td>450</td>\n",
       "      <td>50</td>\n",
       "      <td>50.0</td>\n",
       "      <td>6000</td>\n",
       "      <td>3</td>\n",
       "      <td>7</td>\n",
       "      <td>1948</td>\n",
       "      <td>2002</td>\n",
       "      <td>0.0</td>\n",
       "      <td>331</td>\n",
       "      <td>...</td>\n",
       "      <td>0</td>\n",
       "      <td>0</td>\n",
       "      <td>0</td>\n",
       "      <td>2007</td>\n",
       "      <td>120000</td>\n",
       "      <td>1832</td>\n",
       "      <td>176</td>\n",
       "      <td>1.5</td>\n",
       "      <td>1.224647e-16</td>\n",
       "      <td>-1.000000e+00</td>\n",
       "    </tr>\n",
       "    <tr>\n",
       "      <th>232</th>\n",
       "      <td>233</td>\n",
       "      <td>160</td>\n",
       "      <td>21.0</td>\n",
       "      <td>1680</td>\n",
       "      <td>6</td>\n",
       "      <td>5</td>\n",
       "      <td>1972</td>\n",
       "      <td>1972</td>\n",
       "      <td>297.0</td>\n",
       "      <td>0</td>\n",
       "      <td>...</td>\n",
       "      <td>0</td>\n",
       "      <td>0</td>\n",
       "      <td>0</td>\n",
       "      <td>2006</td>\n",
       "      <td>94500</td>\n",
       "      <td>1470</td>\n",
       "      <td>0</td>\n",
       "      <td>1.5</td>\n",
       "      <td>1.224647e-16</td>\n",
       "      <td>-1.000000e+00</td>\n",
       "    </tr>\n",
       "  </tbody>\n",
       "</table>\n",
       "<p>3 rows × 32 columns</p>\n",
       "</div>"
      ],
      "text/plain": [
       "      Id  MSSubClass  LotFrontage  LotArea  OverallQual  OverallCond  \\\n",
       "925  926          20          NaN    15611            5            6   \n",
       "449  450          50         50.0     6000            3            7   \n",
       "232  233         160         21.0     1680            6            5   \n",
       "\n",
       "     YearBuilt  YearRemodAdd  MasVnrArea  BsmtFinSF1  ...  WoodDeckSF  \\\n",
       "925       1977          1977         0.0         767  ...         180   \n",
       "449       1948          2002         0.0         331  ...           0   \n",
       "232       1972          1972       297.0           0  ...           0   \n",
       "\n",
       "     PoolArea  MiscVal  YrSold  SalePrice  TotalSF  TotalPorchSF  TotalBath  \\\n",
       "925         0        0    2008     175000     2252             0        2.5   \n",
       "449         0        0    2007     120000     1832           176        1.5   \n",
       "232         0        0    2006      94500     1470             0        1.5   \n",
       "\n",
       "         SnMoSold      CsMoSold  \n",
       "925  1.000000e+00  6.123234e-17  \n",
       "449  1.224647e-16 -1.000000e+00  \n",
       "232  1.224647e-16 -1.000000e+00  \n",
       "\n",
       "[3 rows x 32 columns]"
      ]
     },
     "execution_count": 14,
     "metadata": {},
     "output_type": "execute_result"
    }
   ],
   "source": [
    "df.select_dtypes(\"number\").sample(3)"
   ]
  },
  {
   "cell_type": "code",
   "execution_count": 15,
   "metadata": {
    "colab": {
     "base_uri": "https://localhost:8080/",
     "height": 578
    },
    "executionInfo": {
     "elapsed": 620,
     "status": "ok",
     "timestamp": 1597299785014,
     "user": {
      "displayName": "Math Hack",
      "photoUrl": "https://lh3.googleusercontent.com/a-/AOh14GjOrJzQ2xAgyHRSCzQ3qBInmHzMPfMtIJGxB4HG=s64",
      "userId": "13730440483455885359"
     },
     "user_tz": -180
    },
    "id": "DV-nYBWgeO7A",
    "outputId": "641abd19-3b32-4d96-db26-3fe7a0c2c13e"
   },
   "outputs": [
    {
     "data": {
      "text/plain": [
       "SalePrice       1.000000\n",
       "OverallQual     0.790982\n",
       "TotalSF         0.778959\n",
       "GarageCars      0.640409\n",
       "TotalBath       0.631731\n",
       "GarageArea      0.623431\n",
       "1stFlrSF        0.605852\n",
       "TotRmsAbvGrd    0.533723\n",
       "YearBuilt       0.522897\n",
       "YearRemodAdd    0.507101\n",
       "GarageYrBlt     0.486362\n",
       "MasVnrArea      0.477493\n",
       "Fireplaces      0.466929\n",
       "BsmtFinSF1      0.386420\n",
       "LotFrontage     0.351799\n",
       "WoodDeckSF      0.324413\n",
       "2ndFlrSF        0.319334\n",
       "LotArea         0.263843\n",
       "BsmtUnfSF       0.214479\n",
       "TotalPorchSF    0.195739\n",
       "BedroomAbvGr    0.168213\n",
       "PoolArea        0.092404\n",
       "CsMoSold        0.036300\n",
       "BsmtFinSF2     -0.011378\n",
       "MiscVal        -0.021190\n",
       "Id             -0.021917\n",
       "LowQualFinSF   -0.025606\n",
       "YrSold         -0.028923\n",
       "SnMoSold       -0.055101\n",
       "OverallCond    -0.077856\n",
       "MSSubClass     -0.084284\n",
       "KitchenAbvGr   -0.135907\n",
       "Name: SalePrice, dtype: float64"
      ]
     },
     "execution_count": 15,
     "metadata": {},
     "output_type": "execute_result"
    }
   ],
   "source": [
    "df.select_dtypes(\"number\").corr()[\"SalePrice\"].sort_values(ascending=False)"
   ]
  },
  {
   "cell_type": "code",
   "execution_count": 16,
   "metadata": {
    "colab": {
     "base_uri": "https://localhost:8080/",
     "height": 285
    },
    "executionInfo": {
     "elapsed": 1434,
     "status": "ok",
     "timestamp": 1597300136882,
     "user": {
      "displayName": "Math Hack",
      "photoUrl": "https://lh3.googleusercontent.com/a-/AOh14GjOrJzQ2xAgyHRSCzQ3qBInmHzMPfMtIJGxB4HG=s64",
      "userId": "13730440483455885359"
     },
     "user_tz": -180
    },
    "id": "cGMulhjPgDoP",
    "outputId": "712ae150-e61f-4a7e-c3c6-f6c6e4736bd3"
   },
   "outputs": [
    {
     "data": {
      "image/png": "[encoded data removed]",
      "text/plain": [
       "<Figure size 640x480 with 1 Axes>"
      ]
     },
     "metadata": {},
     "output_type": "display_data"
    }
   ],
   "source": [
    "# توزيع  أسعار العقارات في ضوء مساحة الطابق الأول من البناية   \n",
    "_=sns.scatterplot( data=df,  x=\"1stFlrSF\", y=\"SalePrice\" )\n",
    "plt.xlabel('Garage Area square feet')\n",
    "plt.show()"
   ]
  },
  {
   "cell_type": "code",
   "execution_count": 17,
   "metadata": {
    "colab": {
     "base_uri": "https://localhost:8080/",
     "height": 285
    },
    "executionInfo": {
     "elapsed": 1144,
     "status": "ok",
     "timestamp": 1597302516939,
     "user": {
      "displayName": "Math Hack",
      "photoUrl": "https://lh3.googleusercontent.com/a-/AOh14GjOrJzQ2xAgyHRSCzQ3qBInmHzMPfMtIJGxB4HG=s64",
      "userId": "13730440483455885359"
     },
     "user_tz": -180
    },
    "id": "P6cAA_0HpdoH",
    "outputId": "147ec3b9-8bf0-4198-eb21-d70aa34e3514"
   },
   "outputs": [
    {
     "data": {
      "image/png": "[encoded data removed]",
      "text/plain": [
       "<Figure size 640x480 with 1 Axes>"
      ]
     },
     "metadata": {},
     "output_type": "display_data"
    }
   ],
   "source": [
    "#  مساحة المرآب في ضوء درجة انحدار الطريق \n",
    "_=sns.boxplot( df[\"1stFlrSF\"] )"
   ]
  },
  {
   "cell_type": "code",
   "execution_count": 18,
   "metadata": {
    "colab": {
     "base_uri": "https://localhost:8080/",
     "height": 319
    },
    "executionInfo": {
     "elapsed": 1242,
     "status": "ok",
     "timestamp": 1597300478022,
     "user": {
      "displayName": "Math Hack",
      "photoUrl": "https://lh3.googleusercontent.com/a-/AOh14GjOrJzQ2xAgyHRSCzQ3qBInmHzMPfMtIJGxB4HG=s64",
      "userId": "13730440483455885359"
     },
     "user_tz": -180
    },
    "id": "FnQjGFoKhAfY",
    "outputId": "6c8e53f0-1b43-41a9-ec75-46cf105c0d4a"
   },
   "outputs": [
    {
     "name": "stderr",
     "output_type": "stream",
     "text": [
      "/tmp/ipykernel_29304/3086531964.py:2: UserWarning: \n",
      "\n",
      "`distplot` is a deprecated function and will be removed in seaborn v0.14.0.\n",
      "\n",
      "Please adapt your code to use either `displot` (a figure-level function with\n",
      "similar flexibility) or `histplot` (an axes-level function for histograms).\n",
      "\n",
      "For a guide to updating your code to use the new functions, please see\n",
      "https://gist.github.com/mwaskom/de44147ed2974457ad6372750bbe5751\n",
      "\n",
      "  _=sns.distplot(df[\"1stFlrSF\"] )\n"
     ]
    },
    {
     "name": "stdout",
     "output_type": "stream",
     "text": [
      "1.377\n",
      "5.746\n"
     ]
    },
    {
     "data": {
      "image/png": "[encoded data removed]",
      "text/plain": [
       "<Figure size 640x480 with 1 Axes>"
      ]
     },
     "metadata": {},
     "output_type": "display_data"
    }
   ],
   "source": [
    "#    توزيع مساحة الطابق الأول للعقارات \n",
    "_=sns.distplot(df[\"1stFlrSF\"] )\n",
    "print(df[\"1stFlrSF\"].skew().round(3))\n",
    "print(df[\"1stFlrSF\"].kurtosis().round(3))"
   ]
  },
  {
   "cell_type": "markdown",
   "metadata": {
    "id": "iXkc8hDMi19-"
   },
   "source": [
    "![](https://c.mql5.com/2/2/8hfgbqhb.gif)"
   ]
  },
  {
   "cell_type": "code",
   "execution_count": 19,
   "metadata": {
    "colab": {
     "base_uri": "https://localhost:8080/",
     "height": 51
    },
    "executionInfo": {
     "elapsed": 1042,
     "status": "ok",
     "timestamp": 1597302588707,
     "user": {
      "displayName": "Math Hack",
      "photoUrl": "https://lh3.googleusercontent.com/a-/AOh14GjOrJzQ2xAgyHRSCzQ3qBInmHzMPfMtIJGxB4HG=s64",
      "userId": "13730440483455885359"
     },
     "user_tz": -180
    },
    "id": "ZLwcursxcPAV",
    "outputId": "af035dd6-f0ea-426c-a570-103d387318ce"
   },
   "outputs": [
    {
     "data": {
      "text/plain": [
       "0       0.793434\n",
       "1       0.257140\n",
       "2       0.627826\n",
       "3       0.521734\n",
       "4       0.045611\n",
       "          ...   \n",
       "1455    0.542435\n",
       "1456    2.355701\n",
       "1457    0.065656\n",
       "1458    0.218982\n",
       "1459    0.241615\n",
       "Name: 1stFlrSF, Length: 1460, dtype: float64"
      ]
     },
     "execution_count": 19,
     "metadata": {},
     "output_type": "execute_result"
    }
   ],
   "source": [
    "# \"1stFlrSF\"  تغيير  توزيع بيانات  خاصية مساحة الطابق الأول   \n",
    "from scipy import stats\n",
    "import numpy as np\n",
    "z=np.abs(stats.zscore(df[\"1stFlrSF\"]))\n",
    "z"
   ]
  },
  {
   "cell_type": "code",
   "execution_count": 20,
   "metadata": {
    "colab": {
     "base_uri": "https://localhost:8080/",
     "height": 34
    },
    "executionInfo": {
     "elapsed": 1031,
     "status": "ok",
     "timestamp": 1597302611958,
     "user": {
      "displayName": "Math Hack",
      "photoUrl": "https://lh3.googleusercontent.com/a-/AOh14GjOrJzQ2xAgyHRSCzQ3qBInmHzMPfMtIJGxB4HG=s64",
      "userId": "13730440483455885359"
     },
     "user_tz": -180
    },
    "id": "eOUw_EcbcPEA",
    "outputId": "bf96137d-ab36-4039-ee59-dc1bfe7d3b06"
   },
   "outputs": [
    {
     "name": "stdout",
     "output_type": "stream",
     "text": [
      "(array([ 224,  440,  496,  523,  529,  691,  898, 1024, 1044, 1182, 1298,\n",
      "       1373]),)\n"
     ]
    }
   ],
   "source": [
    "# تحديد القيم المتطرفة\n",
    "threshold = 3\n",
    "print(np.where(z > 3))"
   ]
  },
  {
   "cell_type": "code",
   "execution_count": 21,
   "metadata": {
    "colab": {
     "base_uri": "https://localhost:8080/",
     "height": 238
    },
    "executionInfo": {
     "elapsed": 1106,
     "status": "ok",
     "timestamp": 1597303198856,
     "user": {
      "displayName": "Math Hack",
      "photoUrl": "https://lh3.googleusercontent.com/a-/AOh14GjOrJzQ2xAgyHRSCzQ3qBInmHzMPfMtIJGxB4HG=s64",
      "userId": "13730440483455885359"
     },
     "user_tz": -180
    },
    "id": "lW8UB0mhqJ_e",
    "outputId": "e0d6778f-5978-4522-8333-378456aa4aef"
   },
   "outputs": [
    {
     "data": {
      "text/html": [
       "<div>\n",
       "<style scoped>\n",
       "    .dataframe tbody tr th:only-of-type {\n",
       "        vertical-align: middle;\n",
       "    }\n",
       "\n",
       "    .dataframe tbody tr th {\n",
       "        vertical-align: top;\n",
       "    }\n",
       "\n",
       "    .dataframe thead th {\n",
       "        text-align: right;\n",
       "    }\n",
       "</style>\n",
       "<table border=\"1\" class=\"dataframe\">\n",
       "  <thead>\n",
       "    <tr style=\"text-align: right;\">\n",
       "      <th></th>\n",
       "      <th>Id</th>\n",
       "      <th>MSSubClass</th>\n",
       "      <th>LotFrontage</th>\n",
       "      <th>LotArea</th>\n",
       "      <th>OverallQual</th>\n",
       "      <th>OverallCond</th>\n",
       "      <th>YearBuilt</th>\n",
       "      <th>YearRemodAdd</th>\n",
       "      <th>MasVnrArea</th>\n",
       "      <th>BsmtFinSF1</th>\n",
       "      <th>...</th>\n",
       "      <th>WoodDeckSF</th>\n",
       "      <th>PoolArea</th>\n",
       "      <th>MiscVal</th>\n",
       "      <th>YrSold</th>\n",
       "      <th>SalePrice</th>\n",
       "      <th>TotalSF</th>\n",
       "      <th>TotalPorchSF</th>\n",
       "      <th>TotalBath</th>\n",
       "      <th>SnMoSold</th>\n",
       "      <th>CsMoSold</th>\n",
       "    </tr>\n",
       "  </thead>\n",
       "  <tbody>\n",
       "    <tr>\n",
       "      <th>0</th>\n",
       "      <td>1.730865</td>\n",
       "      <td>0.073375</td>\n",
       "      <td>NaN</td>\n",
       "      <td>0.207142</td>\n",
       "      <td>0.651479</td>\n",
       "      <td>0.517200</td>\n",
       "      <td>1.050994</td>\n",
       "      <td>0.878668</td>\n",
       "      <td>NaN</td>\n",
       "      <td>0.575425</td>\n",
       "      <td>...</td>\n",
       "      <td>0.752176</td>\n",
       "      <td>0.068692</td>\n",
       "      <td>0.087688</td>\n",
       "      <td>0.138777</td>\n",
       "      <td>0.347273</td>\n",
       "      <td>0.008372</td>\n",
       "      <td>0.248063</td>\n",
       "      <td>1.642256</td>\n",
       "      <td>1.331523</td>\n",
       "      <td>1.266956</td>\n",
       "    </tr>\n",
       "    <tr>\n",
       "      <th>1</th>\n",
       "      <td>1.728492</td>\n",
       "      <td>0.872563</td>\n",
       "      <td>NaN</td>\n",
       "      <td>0.091886</td>\n",
       "      <td>0.071836</td>\n",
       "      <td>2.179628</td>\n",
       "      <td>0.156734</td>\n",
       "      <td>0.429577</td>\n",
       "      <td>NaN</td>\n",
       "      <td>1.171992</td>\n",
       "      <td>...</td>\n",
       "      <td>1.626195</td>\n",
       "      <td>0.068692</td>\n",
       "      <td>0.087688</td>\n",
       "      <td>0.614439</td>\n",
       "      <td>0.007288</td>\n",
       "      <td>0.059386</td>\n",
       "      <td>0.828163</td>\n",
       "      <td>0.368581</td>\n",
       "      <td>0.767903</td>\n",
       "      <td>0.761516</td>\n",
       "    </tr>\n",
       "    <tr>\n",
       "      <th>2</th>\n",
       "      <td>1.726120</td>\n",
       "      <td>0.073375</td>\n",
       "      <td>NaN</td>\n",
       "      <td>0.073480</td>\n",
       "      <td>0.651479</td>\n",
       "      <td>0.517200</td>\n",
       "      <td>0.984752</td>\n",
       "      <td>0.830215</td>\n",
       "      <td>NaN</td>\n",
       "      <td>0.092907</td>\n",
       "      <td>...</td>\n",
       "      <td>0.752176</td>\n",
       "      <td>0.068692</td>\n",
       "      <td>0.087688</td>\n",
       "      <td>0.138777</td>\n",
       "      <td>0.536154</td>\n",
       "      <td>0.161672</td>\n",
       "      <td>0.428750</td>\n",
       "      <td>1.642256</td>\n",
       "      <td>1.541854</td>\n",
       "      <td>0.524484</td>\n",
       "    </tr>\n",
       "    <tr>\n",
       "      <th>3</th>\n",
       "      <td>1.723747</td>\n",
       "      <td>0.309859</td>\n",
       "      <td>NaN</td>\n",
       "      <td>0.096897</td>\n",
       "      <td>0.651479</td>\n",
       "      <td>0.517200</td>\n",
       "      <td>1.863632</td>\n",
       "      <td>0.720298</td>\n",
       "      <td>NaN</td>\n",
       "      <td>0.499274</td>\n",
       "      <td>...</td>\n",
       "      <td>0.752176</td>\n",
       "      <td>0.068692</td>\n",
       "      <td>0.087688</td>\n",
       "      <td>1.367655</td>\n",
       "      <td>0.515281</td>\n",
       "      <td>0.121330</td>\n",
       "      <td>2.091355</td>\n",
       "      <td>0.268257</td>\n",
       "      <td>1.331523</td>\n",
       "      <td>1.266956</td>\n",
       "    </tr>\n",
       "    <tr>\n",
       "      <th>4</th>\n",
       "      <td>1.721374</td>\n",
       "      <td>0.073375</td>\n",
       "      <td>NaN</td>\n",
       "      <td>0.375148</td>\n",
       "      <td>1.374795</td>\n",
       "      <td>0.517200</td>\n",
       "      <td>0.951632</td>\n",
       "      <td>0.733308</td>\n",
       "      <td>NaN</td>\n",
       "      <td>0.463568</td>\n",
       "      <td>...</td>\n",
       "      <td>0.780197</td>\n",
       "      <td>0.068692</td>\n",
       "      <td>0.087688</td>\n",
       "      <td>0.138777</td>\n",
       "      <td>0.869843</td>\n",
       "      <td>0.935372</td>\n",
       "      <td>0.029337</td>\n",
       "      <td>1.642256</td>\n",
       "      <td>0.002016</td>\n",
       "      <td>2.009429</td>\n",
       "    </tr>\n",
       "    <tr>\n",
       "      <th>...</th>\n",
       "      <td>...</td>\n",
       "      <td>...</td>\n",
       "      <td>...</td>\n",
       "      <td>...</td>\n",
       "      <td>...</td>\n",
       "      <td>...</td>\n",
       "      <td>...</td>\n",
       "      <td>...</td>\n",
       "      <td>...</td>\n",
       "      <td>...</td>\n",
       "      <td>...</td>\n",
       "      <td>...</td>\n",
       "      <td>...</td>\n",
       "      <td>...</td>\n",
       "      <td>...</td>\n",
       "      <td>...</td>\n",
       "      <td>...</td>\n",
       "      <td>...</td>\n",
       "      <td>...</td>\n",
       "      <td>...</td>\n",
       "      <td>...</td>\n",
       "    </tr>\n",
       "    <tr>\n",
       "      <th>1455</th>\n",
       "      <td>1.721374</td>\n",
       "      <td>0.073375</td>\n",
       "      <td>NaN</td>\n",
       "      <td>0.260560</td>\n",
       "      <td>0.071836</td>\n",
       "      <td>0.517200</td>\n",
       "      <td>0.918511</td>\n",
       "      <td>0.733308</td>\n",
       "      <td>NaN</td>\n",
       "      <td>0.973018</td>\n",
       "      <td>...</td>\n",
       "      <td>0.752176</td>\n",
       "      <td>0.068692</td>\n",
       "      <td>0.087688</td>\n",
       "      <td>0.614439</td>\n",
       "      <td>0.074560</td>\n",
       "      <td>0.032924</td>\n",
       "      <td>0.447770</td>\n",
       "      <td>0.368581</td>\n",
       "      <td>1.335555</td>\n",
       "      <td>0.217988</td>\n",
       "    </tr>\n",
       "    <tr>\n",
       "      <th>1456</th>\n",
       "      <td>1.723747</td>\n",
       "      <td>0.872563</td>\n",
       "      <td>NaN</td>\n",
       "      <td>0.266407</td>\n",
       "      <td>0.071836</td>\n",
       "      <td>0.381743</td>\n",
       "      <td>0.222975</td>\n",
       "      <td>0.151865</td>\n",
       "      <td>NaN</td>\n",
       "      <td>0.759659</td>\n",
       "      <td>...</td>\n",
       "      <td>2.033231</td>\n",
       "      <td>0.068692</td>\n",
       "      <td>0.087688</td>\n",
       "      <td>1.645210</td>\n",
       "      <td>0.366161</td>\n",
       "      <td>1.265743</td>\n",
       "      <td>0.828163</td>\n",
       "      <td>1.005418</td>\n",
       "      <td>1.331523</td>\n",
       "      <td>1.266956</td>\n",
       "    </tr>\n",
       "    <tr>\n",
       "      <th>1457</th>\n",
       "      <td>1.726120</td>\n",
       "      <td>0.309859</td>\n",
       "      <td>NaN</td>\n",
       "      <td>0.147810</td>\n",
       "      <td>0.651479</td>\n",
       "      <td>3.078570</td>\n",
       "      <td>1.002492</td>\n",
       "      <td>1.024029</td>\n",
       "      <td>NaN</td>\n",
       "      <td>0.369871</td>\n",
       "      <td>...</td>\n",
       "      <td>0.752176</td>\n",
       "      <td>0.068692</td>\n",
       "      <td>4.953112</td>\n",
       "      <td>1.645210</td>\n",
       "      <td>1.077611</td>\n",
       "      <td>1.116347</td>\n",
       "      <td>0.257573</td>\n",
       "      <td>0.268257</td>\n",
       "      <td>0.767903</td>\n",
       "      <td>0.761516</td>\n",
       "    </tr>\n",
       "    <tr>\n",
       "      <th>1458</th>\n",
       "      <td>1.728492</td>\n",
       "      <td>0.872563</td>\n",
       "      <td>NaN</td>\n",
       "      <td>0.080160</td>\n",
       "      <td>0.795151</td>\n",
       "      <td>0.381743</td>\n",
       "      <td>0.704406</td>\n",
       "      <td>0.539493</td>\n",
       "      <td>NaN</td>\n",
       "      <td>0.865548</td>\n",
       "      <td>...</td>\n",
       "      <td>2.168910</td>\n",
       "      <td>0.068692</td>\n",
       "      <td>0.087688</td>\n",
       "      <td>1.645210</td>\n",
       "      <td>0.488523</td>\n",
       "      <td>0.506358</td>\n",
       "      <td>0.236938</td>\n",
       "      <td>0.268257</td>\n",
       "      <td>1.331523</td>\n",
       "      <td>0.217988</td>\n",
       "    </tr>\n",
       "    <tr>\n",
       "      <th>1459</th>\n",
       "      <td>1.730865</td>\n",
       "      <td>0.872563</td>\n",
       "      <td>NaN</td>\n",
       "      <td>0.058112</td>\n",
       "      <td>0.795151</td>\n",
       "      <td>0.381743</td>\n",
       "      <td>0.207594</td>\n",
       "      <td>0.962566</td>\n",
       "      <td>NaN</td>\n",
       "      <td>0.847389</td>\n",
       "      <td>...</td>\n",
       "      <td>5.121921</td>\n",
       "      <td>0.068692</td>\n",
       "      <td>0.087688</td>\n",
       "      <td>0.138777</td>\n",
       "      <td>0.420841</td>\n",
       "      <td>0.073961</td>\n",
       "      <td>0.181494</td>\n",
       "      <td>0.368581</td>\n",
       "      <td>0.002016</td>\n",
       "      <td>0.960460</td>\n",
       "    </tr>\n",
       "  </tbody>\n",
       "</table>\n",
       "<p>1460 rows × 32 columns</p>\n",
       "</div>"
      ],
      "text/plain": [
       "            Id  MSSubClass  LotFrontage   LotArea  OverallQual  OverallCond  \\\n",
       "0     1.730865    0.073375          NaN  0.207142     0.651479     0.517200   \n",
       "1     1.728492    0.872563          NaN  0.091886     0.071836     2.179628   \n",
       "2     1.726120    0.073375          NaN  0.073480     0.651479     0.517200   \n",
       "3     1.723747    0.309859          NaN  0.096897     0.651479     0.517200   \n",
       "4     1.721374    0.073375          NaN  0.375148     1.374795     0.517200   \n",
       "...        ...         ...          ...       ...          ...          ...   \n",
       "1455  1.721374    0.073375          NaN  0.260560     0.071836     0.517200   \n",
       "1456  1.723747    0.872563          NaN  0.266407     0.071836     0.381743   \n",
       "1457  1.726120    0.309859          NaN  0.147810     0.651479     3.078570   \n",
       "1458  1.728492    0.872563          NaN  0.080160     0.795151     0.381743   \n",
       "1459  1.730865    0.872563          NaN  0.058112     0.795151     0.381743   \n",
       "\n",
       "      YearBuilt  YearRemodAdd  MasVnrArea  BsmtFinSF1  ...  WoodDeckSF  \\\n",
       "0      1.050994      0.878668         NaN    0.575425  ...    0.752176   \n",
       "1      0.156734      0.429577         NaN    1.171992  ...    1.626195   \n",
       "2      0.984752      0.830215         NaN    0.092907  ...    0.752176   \n",
       "3      1.863632      0.720298         NaN    0.499274  ...    0.752176   \n",
       "4      0.951632      0.733308         NaN    0.463568  ...    0.780197   \n",
       "...         ...           ...         ...         ...  ...         ...   \n",
       "1455   0.918511      0.733308         NaN    0.973018  ...    0.752176   \n",
       "1456   0.222975      0.151865         NaN    0.759659  ...    2.033231   \n",
       "1457   1.002492      1.024029         NaN    0.369871  ...    0.752176   \n",
       "1458   0.704406      0.539493         NaN    0.865548  ...    2.168910   \n",
       "1459   0.207594      0.962566         NaN    0.847389  ...    5.121921   \n",
       "\n",
       "      PoolArea   MiscVal    YrSold  SalePrice   TotalSF  TotalPorchSF  \\\n",
       "0     0.068692  0.087688  0.138777   0.347273  0.008372      0.248063   \n",
       "1     0.068692  0.087688  0.614439   0.007288  0.059386      0.828163   \n",
       "2     0.068692  0.087688  0.138777   0.536154  0.161672      0.428750   \n",
       "3     0.068692  0.087688  1.367655   0.515281  0.121330      2.091355   \n",
       "4     0.068692  0.087688  0.138777   0.869843  0.935372      0.029337   \n",
       "...        ...       ...       ...        ...       ...           ...   \n",
       "1455  0.068692  0.087688  0.614439   0.074560  0.032924      0.447770   \n",
       "1456  0.068692  0.087688  1.645210   0.366161  1.265743      0.828163   \n",
       "1457  0.068692  4.953112  1.645210   1.077611  1.116347      0.257573   \n",
       "1458  0.068692  0.087688  1.645210   0.488523  0.506358      0.236938   \n",
       "1459  0.068692  0.087688  0.138777   0.420841  0.073961      0.181494   \n",
       "\n",
       "      TotalBath  SnMoSold  CsMoSold  \n",
       "0      1.642256  1.331523  1.266956  \n",
       "1      0.368581  0.767903  0.761516  \n",
       "2      1.642256  1.541854  0.524484  \n",
       "3      0.268257  1.331523  1.266956  \n",
       "4      1.642256  0.002016  2.009429  \n",
       "...         ...       ...       ...  \n",
       "1455   0.368581  1.335555  0.217988  \n",
       "1456   1.005418  1.331523  1.266956  \n",
       "1457   0.268257  0.767903  0.761516  \n",
       "1458   0.268257  1.331523  0.217988  \n",
       "1459   0.368581  0.002016  0.960460  \n",
       "\n",
       "[1460 rows x 32 columns]"
      ]
     },
     "execution_count": 21,
     "metadata": {},
     "output_type": "execute_result"
    }
   ],
   "source": [
    "# تعميم معالجة القيم المتطرفة على جميع الأعمدة ذات الخاصية الرقمية \n",
    "from scipy import stats\n",
    "import numpy as np\n",
    "z = np.abs(stats.zscore(df.select_dtypes(\"number\")))\n",
    "z"
   ]
  },
  {
   "cell_type": "code",
   "execution_count": 22,
   "metadata": {
    "colab": {
     "base_uri": "https://localhost:8080/",
     "height": 258
    },
    "executionInfo": {
     "elapsed": 1144,
     "status": "ok",
     "timestamp": 1597303204343,
     "user": {
      "displayName": "Math Hack",
      "photoUrl": "https://lh3.googleusercontent.com/a-/AOh14GjOrJzQ2xAgyHRSCzQ3qBInmHzMPfMtIJGxB4HG=s64",
      "userId": "13730440483455885359"
     },
     "user_tz": -180
    },
    "id": "NDEwPn9rqBlI",
    "outputId": "c9b5e1ea-cda8-4ad3-9fa5-78f877c0e1d6"
   },
   "outputs": [
    {
     "data": {
      "text/html": [
       "<div>\n",
       "<style scoped>\n",
       "    .dataframe tbody tr th:only-of-type {\n",
       "        vertical-align: middle;\n",
       "    }\n",
       "\n",
       "    .dataframe tbody tr th {\n",
       "        vertical-align: top;\n",
       "    }\n",
       "\n",
       "    .dataframe thead th {\n",
       "        text-align: right;\n",
       "    }\n",
       "</style>\n",
       "<table border=\"1\" class=\"dataframe\">\n",
       "  <thead>\n",
       "    <tr style=\"text-align: right;\">\n",
       "      <th></th>\n",
       "      <th>Id</th>\n",
       "      <th>MSSubClass</th>\n",
       "      <th>MSZoning</th>\n",
       "      <th>LotFrontage</th>\n",
       "      <th>LotArea</th>\n",
       "      <th>Street</th>\n",
       "      <th>Alley</th>\n",
       "      <th>LotShape</th>\n",
       "      <th>LandContour</th>\n",
       "      <th>Utilities</th>\n",
       "      <th>...</th>\n",
       "      <th>MiscVal</th>\n",
       "      <th>YrSold</th>\n",
       "      <th>SaleType</th>\n",
       "      <th>SaleCondition</th>\n",
       "      <th>SalePrice</th>\n",
       "      <th>TotalSF</th>\n",
       "      <th>TotalPorchSF</th>\n",
       "      <th>TotalBath</th>\n",
       "      <th>SnMoSold</th>\n",
       "      <th>CsMoSold</th>\n",
       "    </tr>\n",
       "  </thead>\n",
       "  <tbody>\n",
       "    <tr>\n",
       "      <th>0</th>\n",
       "      <td>1</td>\n",
       "      <td>60.0</td>\n",
       "      <td>NaN</td>\n",
       "      <td>NaN</td>\n",
       "      <td>8450.0</td>\n",
       "      <td>NaN</td>\n",
       "      <td>NaN</td>\n",
       "      <td>NaN</td>\n",
       "      <td>NaN</td>\n",
       "      <td>NaN</td>\n",
       "      <td>...</td>\n",
       "      <td>0.0</td>\n",
       "      <td>2008</td>\n",
       "      <td>NaN</td>\n",
       "      <td>NaN</td>\n",
       "      <td>208500.0</td>\n",
       "      <td>2566.0</td>\n",
       "      <td>61.0</td>\n",
       "      <td>3.5</td>\n",
       "      <td>8.660254e-01</td>\n",
       "      <td>5.000000e-01</td>\n",
       "    </tr>\n",
       "    <tr>\n",
       "      <th>1</th>\n",
       "      <td>2</td>\n",
       "      <td>20.0</td>\n",
       "      <td>NaN</td>\n",
       "      <td>NaN</td>\n",
       "      <td>9600.0</td>\n",
       "      <td>NaN</td>\n",
       "      <td>NaN</td>\n",
       "      <td>NaN</td>\n",
       "      <td>NaN</td>\n",
       "      <td>NaN</td>\n",
       "      <td>...</td>\n",
       "      <td>0.0</td>\n",
       "      <td>2007</td>\n",
       "      <td>NaN</td>\n",
       "      <td>NaN</td>\n",
       "      <td>181500.0</td>\n",
       "      <td>2524.0</td>\n",
       "      <td>0.0</td>\n",
       "      <td>2.5</td>\n",
       "      <td>5.000000e-01</td>\n",
       "      <td>-8.660254e-01</td>\n",
       "    </tr>\n",
       "    <tr>\n",
       "      <th>2</th>\n",
       "      <td>3</td>\n",
       "      <td>60.0</td>\n",
       "      <td>NaN</td>\n",
       "      <td>NaN</td>\n",
       "      <td>11250.0</td>\n",
       "      <td>NaN</td>\n",
       "      <td>NaN</td>\n",
       "      <td>NaN</td>\n",
       "      <td>NaN</td>\n",
       "      <td>NaN</td>\n",
       "      <td>...</td>\n",
       "      <td>0.0</td>\n",
       "      <td>2008</td>\n",
       "      <td>NaN</td>\n",
       "      <td>NaN</td>\n",
       "      <td>223500.0</td>\n",
       "      <td>2706.0</td>\n",
       "      <td>42.0</td>\n",
       "      <td>3.5</td>\n",
       "      <td>-1.000000e+00</td>\n",
       "      <td>-1.836970e-16</td>\n",
       "    </tr>\n",
       "    <tr>\n",
       "      <th>3</th>\n",
       "      <td>4</td>\n",
       "      <td>70.0</td>\n",
       "      <td>NaN</td>\n",
       "      <td>NaN</td>\n",
       "      <td>9550.0</td>\n",
       "      <td>NaN</td>\n",
       "      <td>NaN</td>\n",
       "      <td>NaN</td>\n",
       "      <td>NaN</td>\n",
       "      <td>NaN</td>\n",
       "      <td>...</td>\n",
       "      <td>0.0</td>\n",
       "      <td>2006</td>\n",
       "      <td>NaN</td>\n",
       "      <td>NaN</td>\n",
       "      <td>140000.0</td>\n",
       "      <td>2473.0</td>\n",
       "      <td>307.0</td>\n",
       "      <td>2.0</td>\n",
       "      <td>8.660254e-01</td>\n",
       "      <td>5.000000e-01</td>\n",
       "    </tr>\n",
       "    <tr>\n",
       "      <th>4</th>\n",
       "      <td>5</td>\n",
       "      <td>60.0</td>\n",
       "      <td>NaN</td>\n",
       "      <td>NaN</td>\n",
       "      <td>14260.0</td>\n",
       "      <td>NaN</td>\n",
       "      <td>NaN</td>\n",
       "      <td>NaN</td>\n",
       "      <td>NaN</td>\n",
       "      <td>NaN</td>\n",
       "      <td>...</td>\n",
       "      <td>0.0</td>\n",
       "      <td>2008</td>\n",
       "      <td>NaN</td>\n",
       "      <td>NaN</td>\n",
       "      <td>250000.0</td>\n",
       "      <td>3343.0</td>\n",
       "      <td>84.0</td>\n",
       "      <td>3.5</td>\n",
       "      <td>-2.449294e-16</td>\n",
       "      <td>1.000000e+00</td>\n",
       "    </tr>\n",
       "  </tbody>\n",
       "</table>\n",
       "<p>5 rows × 75 columns</p>\n",
       "</div>"
      ],
      "text/plain": [
       "   Id  MSSubClass MSZoning  LotFrontage  LotArea Street Alley LotShape  \\\n",
       "0   1        60.0      NaN          NaN   8450.0    NaN   NaN      NaN   \n",
       "1   2        20.0      NaN          NaN   9600.0    NaN   NaN      NaN   \n",
       "2   3        60.0      NaN          NaN  11250.0    NaN   NaN      NaN   \n",
       "3   4        70.0      NaN          NaN   9550.0    NaN   NaN      NaN   \n",
       "4   5        60.0      NaN          NaN  14260.0    NaN   NaN      NaN   \n",
       "\n",
       "  LandContour Utilities  ... MiscVal YrSold SaleType SaleCondition SalePrice  \\\n",
       "0         NaN       NaN  ...     0.0   2008      NaN           NaN  208500.0   \n",
       "1         NaN       NaN  ...     0.0   2007      NaN           NaN  181500.0   \n",
       "2         NaN       NaN  ...     0.0   2008      NaN           NaN  223500.0   \n",
       "3         NaN       NaN  ...     0.0   2006      NaN           NaN  140000.0   \n",
       "4         NaN       NaN  ...     0.0   2008      NaN           NaN  250000.0   \n",
       "\n",
       "  TotalSF TotalPorchSF  TotalBath      SnMoSold      CsMoSold  \n",
       "0  2566.0         61.0        3.5  8.660254e-01  5.000000e-01  \n",
       "1  2524.0          0.0        2.5  5.000000e-01 -8.660254e-01  \n",
       "2  2706.0         42.0        3.5 -1.000000e+00 -1.836970e-16  \n",
       "3  2473.0        307.0        2.0  8.660254e-01  5.000000e-01  \n",
       "4  3343.0         84.0        3.5 -2.449294e-16  1.000000e+00  \n",
       "\n",
       "[5 rows x 75 columns]"
      ]
     },
     "execution_count": 22,
     "metadata": {},
     "output_type": "execute_result"
    }
   ],
   "source": [
    "df[(z < 3)].head()"
   ]
  },
  {
   "cell_type": "markdown",
   "metadata": {
    "id": "257S01aqtH_M"
   },
   "source": []
  },
  {
   "cell_type": "markdown",
   "metadata": {
    "id": "pS3t_zIuscrE"
   },
   "source": [
    "### التصنيفات"
   ]
  },
  {
   "cell_type": "code",
   "execution_count": 23,
   "metadata": {
    "colab": {
     "base_uri": "https://localhost:8080/",
     "height": 374
    },
    "executionInfo": {
     "elapsed": 1380,
     "status": "ok",
     "timestamp": 1597139810233,
     "user": {
      "displayName": "Math Hack",
      "photoUrl": "https://lh3.googleusercontent.com/a-/AOh14GjOrJzQ2xAgyHRSCzQ3qBInmHzMPfMtIJGxB4HG=s64",
      "userId": "13730440483455885359"
     },
     "user_tz": -180
    },
    "id": "R_Z9NasytRnk",
    "outputId": "6520434d-b038-49f5-8e61-5da75afa1dd0"
   },
   "outputs": [
    {
     "name": "stdout",
     "output_type": "stream",
     "text": [
      " MSSubClass :   [ 60  20  70  50 190  45  90 120  30  85  80 160  75 180  40] values \n",
      " OverallQual :   [ 7  6  8  5  9  4 10  3  1  2] values \n",
      " OverallCond :   [5 8 6 7 4 2 3 9 1] values \n",
      " LowQualFinSF :   [  0 360 513 234 528 572 144 392 371 390 420 473 156 515  80  53 232 481\n",
      " 120 514 397 479 205 384] values \n",
      " BedroomAbvGr :   [3 4 1 2 0 5 6 8] values \n",
      " KitchenAbvGr :   [1 2 3 0] values \n",
      " TotRmsAbvGrd :   [ 8  6  7  9  5 11  4 10 12  3  2 14] values \n",
      " Fireplaces :   [0 1 2 3] values \n",
      " GarageCars :   [2 3 1 0 4] values \n",
      " PoolArea :   [  0 512 648 576 555 480 519 738] values \n",
      " MiscVal :   [    0   700   350   500   400   480   450 15500  1200   800  2000   600\n",
      "  3500  1300    54   620   560  1400  8300  1150  2500] values \n",
      " YrSold :   [2008 2007 2006 2009 2010] values \n",
      " TotalBath :   [3.5 2.5 2.  3.  4.  1.  1.5 4.5 6.  5. ] values \n",
      " SnMoSold :   [ 8.66025404e-01  5.00000000e-01 -1.00000000e+00 -2.44929360e-16\n",
      " -8.66025404e-01 -8.66025404e-01 -5.00000000e-01  8.66025404e-01\n",
      " -5.00000000e-01  1.00000000e+00  1.22464680e-16] values \n",
      " CsMoSold :   [ 5.00000000e-01 -8.66025404e-01 -1.83697020e-16  1.00000000e+00\n",
      " -5.00000000e-01  8.66025404e-01 -5.00000000e-01  8.66025404e-01\n",
      " -8.66025404e-01  6.12323400e-17 -1.00000000e+00] values \n"
     ]
    }
   ],
   "source": [
    "# تحديد المتغيرات الرقمية التي تقل تصنيفاتها على 4 \n",
    "for col in df.select_dtypes(\"number\").columns:\n",
    "    if df[col].nunique()<25:\n",
    "        print(f\" {col} :   {df[col].unique()} values \" )"
   ]
  },
  {
   "cell_type": "code",
   "execution_count": null,
   "metadata": {},
   "outputs": [],
   "source": []
  }
 ],
 "metadata": {
  "colab": {
   "authorship_tag": "ABX9TyOCO8oa6qpIXRJTZFwuCFQD",
   "collapsed_sections": [],
   "mount_file_id": "11i4YTewH21kJUXJYxEcUL0TMJrXqqxUs",
   "name": "4_DataPlot.ipynb",
   "provenance": []
  },
  "kernelspec": {
   "display_name": "Python 3",
   "name": "python3"
  },
  "language_info": {
   "codemirror_mode": {
    "name": "ipython",
    "version": 3
   },
   "file_extension": ".py",
   "mimetype": "text/x-python",
   "name": "python",
   "nbconvert_exporter": "python",
   "pygments_lexer": "ipython3",
   "version": "3.12.1"
  }
 },
 "nbformat": 4,
 "nbformat_minor": 0
}
