{
 "cells": [
  {
   "cell_type": "markdown",
   "metadata": {},
   "source": [
    "<div style='color: #216969;\n",
    "           background-color: #EAF6F6;\n",
    "           font-size: 200%;\n",
    "           border-radius:15px;\n",
    "           text-align:center;\n",
    "           font-weight:600;\n",
    "           border-style: solid;\n",
    "           border-color: dark green;\n",
    "           font-family: \"Cambria\";'>\n",
    "Data Split\n",
    "<a class=\"anchor\" id=\"1\"></a> "
   ]
  },
  {
   "cell_type": "code",
   "execution_count": null,
   "metadata": {
    "id": "1xEOb6tTf7Qc"
   },
   "outputs": [],
   "source": []
  },
  {
   "cell_type": "code",
   "execution_count": null,
   "metadata": {
    "id": "j9vHW_9Ff86z"
   },
   "outputs": [],
   "source": []
  },
  {
   "cell_type": "markdown",
   "metadata": {
    "id": "RvVnoomAECvz"
   },
   "source": [
    "| Data Split & Normalization ||\n",
    "|-:|-:|\n",
    "|<img src=\"../imgs/dataSplit.jpg\"></img>||\n",
    "||<font size=\"4\"> تحميل البيانات ومعالجتها </font>| \n",
    "||<font size=\"4\"> Regularization الضبط في نماذج تعلم الآلة </font>| \n",
    "||<font size=\"4\">Ridge  توظيف خوارزمية </font>| \n",
    "||<font size=\"4\"> training   تدريب البيانات </font>| \n",
    "||<font size=\"4\"> Metrics   تقويم أداء الخوارزمية </font>|"
   ]
  },
  {
   "cell_type": "code",
   "execution_count": null,
   "metadata": {
    "id": "dIghuidRf896"
   },
   "outputs": [],
   "source": []
  },
  {
   "cell_type": "code",
   "execution_count": null,
   "metadata": {
    "id": "3DLdb7unf9Ay"
   },
   "outputs": [],
   "source": []
  },
  {
   "cell_type": "markdown",
   "metadata": {
    "id": "cz7bcHb1iA2x"
   },
   "source": [
    "https://www.kirenz.com/post/2019-08-12-python-lasso-regression-auto/\n",
    "\n",
    "https://www.nmthgiat.com/https://bit.ly/31vVC2u"
   ]
  },
  {
   "cell_type": "code",
   "execution_count": null,
   "metadata": {
    "colab": {
     "base_uri": "https://localhost:8080/",
     "height": 35
    },
    "executionInfo": {
     "elapsed": 1116,
     "status": "ok",
     "timestamp": 1601402678766,
     "user": {
      "displayName": "Math Hack",
      "photoUrl": "https://lh3.googleusercontent.com/a-/AOh14GjOrJzQ2xAgyHRSCzQ3qBInmHzMPfMtIJGxB4HG=s64",
      "userId": "13730440483455885359"
     },
     "user_tz": -180
    },
    "id": "yHBe6yqlgC97",
    "outputId": "3a33bd1b-effd-489a-cfec-b5d4ee1af656"
   },
   "outputs": [
    {
     "data": {
      "application/vnd.google.colaboratory.intrinsic+json": {
       "type": "string"
      },
      "text/plain": [
       "'/content'"
      ]
     },
     "execution_count": 1,
     "metadata": {
      "tags": []
     },
     "output_type": "execute_result"
    }
   ],
   "source": [
    "pwd"
   ]
  },
  {
   "cell_type": "code",
   "execution_count": 1,
   "metadata": {
    "id": "VqrIhNbTgDHD"
   },
   "outputs": [],
   "source": [
    "# تحميل البيانات الرقمية\n",
    "import pandas as pd\n",
    "df= pd.read_csv(\"../data/features_kept1.csv\", index_col=0)"
   ]
  },
  {
   "cell_type": "code",
   "execution_count": 2,
   "metadata": {
    "colab": {
     "base_uri": "https://localhost:8080/",
     "height": 198
    },
    "executionInfo": {
     "elapsed": 971,
     "status": "ok",
     "timestamp": 1601402715085,
     "user": {
      "displayName": "Math Hack",
      "photoUrl": "https://lh3.googleusercontent.com/a-/AOh14GjOrJzQ2xAgyHRSCzQ3qBInmHzMPfMtIJGxB4HG=s64",
      "userId": "13730440483455885359"
     },
     "user_tz": -180
    },
    "id": "m0h-2eSxgJsT",
    "outputId": "51fadbbf-9fab-41f0-966b-92b3b541c17d"
   },
   "outputs": [
    {
     "data": {
      "text/html": [
       "<div>\n",
       "<style scoped>\n",
       "    .dataframe tbody tr th:only-of-type {\n",
       "        vertical-align: middle;\n",
       "    }\n",
       "\n",
       "    .dataframe tbody tr th {\n",
       "        vertical-align: top;\n",
       "    }\n",
       "\n",
       "    .dataframe thead th {\n",
       "        text-align: right;\n",
       "    }\n",
       "</style>\n",
       "<table border=\"1\" class=\"dataframe\">\n",
       "  <thead>\n",
       "    <tr style=\"text-align: right;\">\n",
       "      <th></th>\n",
       "      <th>Age</th>\n",
       "      <th>GarageArea</th>\n",
       "      <th>TotalSF</th>\n",
       "      <th>MasVnrArea</th>\n",
       "      <th>WoodDeckSF</th>\n",
       "      <th>BsmtFinSF1</th>\n",
       "      <th>2ndFlrSF</th>\n",
       "      <th>BsmtFinSF2</th>\n",
       "      <th>MiscVal</th>\n",
       "      <th>LotArea</th>\n",
       "      <th>SalePrice</th>\n",
       "    </tr>\n",
       "  </thead>\n",
       "  <tbody>\n",
       "    <tr>\n",
       "      <th>0</th>\n",
       "      <td>5.0</td>\n",
       "      <td>548.0</td>\n",
       "      <td>2566.0</td>\n",
       "      <td>196.0</td>\n",
       "      <td>0.0</td>\n",
       "      <td>706.0</td>\n",
       "      <td>854.0</td>\n",
       "      <td>0.0</td>\n",
       "      <td>0.0</td>\n",
       "      <td>8450.0</td>\n",
       "      <td>208500.0</td>\n",
       "    </tr>\n",
       "    <tr>\n",
       "      <th>1</th>\n",
       "      <td>31.0</td>\n",
       "      <td>460.0</td>\n",
       "      <td>2524.0</td>\n",
       "      <td>0.0</td>\n",
       "      <td>298.0</td>\n",
       "      <td>978.0</td>\n",
       "      <td>0.0</td>\n",
       "      <td>0.0</td>\n",
       "      <td>0.0</td>\n",
       "      <td>9600.0</td>\n",
       "      <td>181500.0</td>\n",
       "    </tr>\n",
       "    <tr>\n",
       "      <th>2</th>\n",
       "      <td>6.0</td>\n",
       "      <td>608.0</td>\n",
       "      <td>2706.0</td>\n",
       "      <td>162.0</td>\n",
       "      <td>0.0</td>\n",
       "      <td>486.0</td>\n",
       "      <td>866.0</td>\n",
       "      <td>0.0</td>\n",
       "      <td>0.0</td>\n",
       "      <td>11250.0</td>\n",
       "      <td>223500.0</td>\n",
       "    </tr>\n",
       "    <tr>\n",
       "      <th>3</th>\n",
       "      <td>36.0</td>\n",
       "      <td>642.0</td>\n",
       "      <td>2473.0</td>\n",
       "      <td>0.0</td>\n",
       "      <td>0.0</td>\n",
       "      <td>216.0</td>\n",
       "      <td>756.0</td>\n",
       "      <td>0.0</td>\n",
       "      <td>0.0</td>\n",
       "      <td>9550.0</td>\n",
       "      <td>140000.0</td>\n",
       "    </tr>\n",
       "    <tr>\n",
       "      <th>4</th>\n",
       "      <td>8.0</td>\n",
       "      <td>836.0</td>\n",
       "      <td>3343.0</td>\n",
       "      <td>350.0</td>\n",
       "      <td>192.0</td>\n",
       "      <td>655.0</td>\n",
       "      <td>1053.0</td>\n",
       "      <td>0.0</td>\n",
       "      <td>0.0</td>\n",
       "      <td>14260.0</td>\n",
       "      <td>250000.0</td>\n",
       "    </tr>\n",
       "  </tbody>\n",
       "</table>\n",
       "</div>"
      ],
      "text/plain": [
       "    Age  GarageArea  TotalSF  MasVnrArea  WoodDeckSF  BsmtFinSF1  2ndFlrSF  \\\n",
       "0   5.0       548.0   2566.0       196.0         0.0       706.0     854.0   \n",
       "1  31.0       460.0   2524.0         0.0       298.0       978.0       0.0   \n",
       "2   6.0       608.0   2706.0       162.0         0.0       486.0     866.0   \n",
       "3  36.0       642.0   2473.0         0.0         0.0       216.0     756.0   \n",
       "4   8.0       836.0   3343.0       350.0       192.0       655.0    1053.0   \n",
       "\n",
       "   BsmtFinSF2  MiscVal  LotArea  SalePrice  \n",
       "0         0.0      0.0   8450.0   208500.0  \n",
       "1         0.0      0.0   9600.0   181500.0  \n",
       "2         0.0      0.0  11250.0   223500.0  \n",
       "3         0.0      0.0   9550.0   140000.0  \n",
       "4         0.0      0.0  14260.0   250000.0  "
      ]
     },
     "execution_count": 2,
     "metadata": {},
     "output_type": "execute_result"
    }
   ],
   "source": [
    "df.head()"
   ]
  },
  {
   "cell_type": "code",
   "execution_count": 3,
   "metadata": {},
   "outputs": [
    {
     "data": {
      "text/plain": [
       "Age           0.003425\n",
       "GarageArea    0.003425\n",
       "TotalSF       0.003425\n",
       "MasVnrArea    0.003425\n",
       "WoodDeckSF    0.003425\n",
       "BsmtFinSF1    0.003425\n",
       "2ndFlrSF      0.003425\n",
       "BsmtFinSF2    0.003425\n",
       "MiscVal       0.003425\n",
       "LotArea       0.003425\n",
       "SalePrice     0.003425\n",
       "dtype: float64"
      ]
     },
     "execution_count": 3,
     "metadata": {},
     "output_type": "execute_result"
    }
   ],
   "source": [
    "df.isna().sum()/df.shape[0]"
   ]
  },
  {
   "cell_type": "code",
   "execution_count": 4,
   "metadata": {},
   "outputs": [],
   "source": [
    "df.dropna(inplace=True)"
   ]
  },
  {
   "cell_type": "markdown",
   "metadata": {},
   "source": [
    "![](../imgs/target.jpeg)"
   ]
  },
  {
   "cell_type": "code",
   "execution_count": 5,
   "metadata": {
    "colab": {
     "base_uri": "https://localhost:8080/",
     "height": 85
    },
    "executionInfo": {
     "elapsed": 788,
     "status": "ok",
     "timestamp": 1597744284039,
     "user": {
      "displayName": "Math Hack",
      "photoUrl": "https://lh3.googleusercontent.com/a-/AOh14GjOrJzQ2xAgyHRSCzQ3qBInmHzMPfMtIJGxB4HG=s64",
      "userId": "13730440483455885359"
     },
     "user_tz": -180
    },
    "id": "DLipwwsnCMc_",
    "outputId": "cd93e7d4-0483-4517-bff6-0312bb075543"
   },
   "outputs": [
    {
     "data": {
      "text/plain": [
       "Index(['Age', 'GarageArea', 'TotalSF', 'MasVnrArea', 'WoodDeckSF',\n",
       "       'BsmtFinSF1', '2ndFlrSF', 'BsmtFinSF2', 'MiscVal', 'LotArea'],\n",
       "      dtype='object')"
      ]
     },
     "execution_count": 5,
     "metadata": {},
     "output_type": "execute_result"
    }
   ],
   "source": [
    "#Standardize the features by removing the mean and scaling to unit variance.\n",
    "import numpy as np\n",
    "X=df.drop(\"SalePrice\", axis=1)\n",
    "y=np.log1p(df.SalePrice)    # test 1st as df.Saleprice  then turn to log1p\n",
    "# y=df.SalePrice\n",
    "X.keys()"
   ]
  },
  {
   "cell_type": "markdown",
   "metadata": {
    "id": "kfIvoV4WDWr5"
   },
   "source": [
    "![](https://i.ibb.co/QChD6Y4/Train-test-1.jpg)"
   ]
  },
  {
   "cell_type": "code",
   "execution_count": 6,
   "metadata": {
    "id": "UUCzAQQLaZED"
   },
   "outputs": [],
   "source": [
    "# تقسيم البيانات \n",
    "from sklearn.model_selection import train_test_split\n",
    "X_train, X_test, y_train, y_test=train_test_split(X, y  ,test_size=.33, random_state=42)"
   ]
  },
  {
   "cell_type": "code",
   "execution_count": 7,
   "metadata": {
    "id": "3g4TlXVLCMZX"
   },
   "outputs": [],
   "source": [
    "from sklearn.preprocessing import StandardScaler\n",
    "\n",
    "### test 1st   before the train_test_split\n",
    "scaler = StandardScaler()\n",
    "# X_scaled= scaler.fit_transform(X)"
   ]
  },
  {
   "cell_type": "code",
   "execution_count": 8,
   "metadata": {
    "id": "tqV_el3vxRp9"
   },
   "outputs": [],
   "source": [
    "# this to try   2nd \n",
    "X_train_scaled = scaler.fit_transform(X_train)\n",
    "X_test_scaled = scaler.transform(X_test)"
   ]
  },
  {
   "cell_type": "code",
   "execution_count": null,
   "metadata": {},
   "outputs": [],
   "source": []
  },
  {
   "cell_type": "markdown",
   "metadata": {
    "id": "M2VBCEw0DaT4"
   },
   "source": [
    "<image src=\"https://static.thenounproject.com/png/2010152-200.png\" width=10%></img>"
   ]
  }
 ],
 "metadata": {
  "colab": {
   "authorship_tag": "ABX9TyNb94hIe3ua+Rx+NCmed0Qj",
   "collapsed_sections": [],
   "mount_file_id": "1V5r8JhHpXyzpys2MPGVtrK4H3saez-iH",
   "name": "13_Lasso.ipynb",
   "provenance": []
  },
  "kernelspec": {
   "display_name": "Python 3",
   "name": "python3"
  },
  "language_info": {
   "codemirror_mode": {
    "name": "ipython",
    "version": 3
   },
   "file_extension": ".py",
   "mimetype": "text/x-python",
   "name": "python",
   "nbconvert_exporter": "python",
   "pygments_lexer": "ipython3",
   "version": "3.12.1"
  }
 },
 "nbformat": 4,
 "nbformat_minor": 0
}
