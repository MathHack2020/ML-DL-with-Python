{
 "cells": [
  {
   "cell_type": "code",
   "execution_count": null,
   "metadata": {
    "id": "cgvNToM5UROZ"
   },
   "outputs": [],
   "source": []
  },
  {
   "cell_type": "code",
   "execution_count": null,
   "metadata": {
    "id": "cB4EP4sZUTha"
   },
   "outputs": [],
   "source": []
  },
  {
   "cell_type": "markdown",
   "metadata": {
    "id": "d1KKPh0F_3Lk"
   },
   "source": [
    "| |<font size=\"5\">Ridge نموذج </font>|\n",
    "|-:|-:|\n",
    "|<img src=\"https://cdn-images-1.medium.com/max/800/1*XC-8tHoMxrO3ogHKylRfRA.png\" width=400></img>||\n",
    "||<font size=\"4\"> تحميل البيانات ومعالجتها </font>| \n",
    "||<font size=\"4\"> Regularization الضبط في نماذج تعلم الآلة </font>| \n",
    "||<font size=\"4\">Ridge  توظيف خوارزمية </font>| \n",
    "||<font size=\"4\"> training   تدريب البيانات </font>| \n",
    "||<font size=\"4\"> Metrics   تقويم أداء الخوارزمية </font>|"
   ]
  },
  {
   "cell_type": "code",
   "execution_count": null,
   "metadata": {
    "id": "HOAxeDVGUTlB"
   },
   "outputs": [],
   "source": []
  },
  {
   "cell_type": "code",
   "execution_count": null,
   "metadata": {
    "id": "cl6TYay1UTor"
   },
   "outputs": [],
   "source": []
  },
  {
   "cell_type": "markdown",
   "metadata": {
    "id": "GFjVwE6ACFME"
   },
   "source": [
    "### Regularization   الضبط في نماذج تعلم الآلة\n",
    " \n",
    " "
   ]
  },
  {
   "cell_type": "code",
   "execution_count": null,
   "metadata": {
    "id": "HUfNzLFcK6Zq"
   },
   "outputs": [],
   "source": []
  },
  {
   "cell_type": "code",
   "execution_count": null,
   "metadata": {
    "id": "ryXWs_TMhEzV"
   },
   "outputs": [],
   "source": []
  },
  {
   "cell_type": "markdown",
   "metadata": {
    "id": "PLnuNlEQuNHS"
   },
   "source": [
    "![](https://i0.wp.com/www.nmthgiat.com/wp-content/uploads/2019/04/Overfitting.png?resize=554%2C158&ssl=1)"
   ]
  },
  {
   "cell_type": "code",
   "execution_count": null,
   "metadata": {
    "id": "sSsZMlgeBWAp"
   },
   "outputs": [],
   "source": []
  },
  {
   "cell_type": "code",
   "execution_count": null,
   "metadata": {
    "id": "4CKTurjWhHIm"
   },
   "outputs": [],
   "source": []
  },
  {
   "cell_type": "code",
   "execution_count": null,
   "metadata": {
    "id": "DB88S6RxhHMM"
   },
   "outputs": [],
   "source": []
  },
  {
   "cell_type": "markdown",
   "metadata": {
    "id": "Qw43QaffkarF"
   },
   "source": [
    "![](https://media.geeksforgeeks.org/wp-content/uploads/20200107015710/HighBias.jpg)\n",
    "\n",
    "$\\large h_\\theta(x)= g(\\theta_0 +\\theta_1 x_1 + \\theta_2 x_2) $"
   ]
  },
  {
   "cell_type": "code",
   "execution_count": null,
   "metadata": {
    "id": "vKH7qfszhDUx"
   },
   "outputs": [],
   "source": []
  },
  {
   "cell_type": "code",
   "execution_count": null,
   "metadata": {
    "id": "whYqvCmHhDYh"
   },
   "outputs": [],
   "source": []
  },
  {
   "cell_type": "code",
   "execution_count": null,
   "metadata": {
    "id": "unpMCJc2hDjc"
   },
   "outputs": [],
   "source": []
  },
  {
   "cell_type": "markdown",
   "metadata": {
    "id": "q2dWz8_CpImf"
   },
   "source": [
    "درجة تباين عالية\n",
    "\n",
    "![](https://miro.medium.com/max/700/1*szpOBWtAkMwFkvVTBCGjqg.png)\n",
    "\n",
    "\n",
    "$\\large h_\\theta(x)= g(\\theta_0 +\\theta_1 x + \\theta_2 x^2+\\theta_3 x^3+\\theta_4 x^4) $"
   ]
  },
  {
   "cell_type": "code",
   "execution_count": null,
   "metadata": {
    "id": "Uqf1pRaFhX8d"
   },
   "outputs": [],
   "source": []
  },
  {
   "cell_type": "code",
   "execution_count": null,
   "metadata": {
    "id": "CzIIpBpGhX_p"
   },
   "outputs": [],
   "source": []
  },
  {
   "cell_type": "markdown",
   "metadata": {
    "id": "_f-HBGZbrra-"
   },
   "source": [
    "\n",
    "![](https://i1.wp.com/www.nmthgiat.com/wp-content/uploads/2019/04/beforeafter.png?resize=537%2C220&ssl=1)"
   ]
  },
  {
   "cell_type": "code",
   "execution_count": null,
   "metadata": {
    "id": "1DH70qawhlX2"
   },
   "outputs": [],
   "source": []
  },
  {
   "cell_type": "code",
   "execution_count": null,
   "metadata": {
    "id": "F9W1FFEXhlfz"
   },
   "outputs": [],
   "source": []
  },
  {
   "cell_type": "code",
   "execution_count": null,
   "metadata": {
    "id": "R6VHPgpdhlmE"
   },
   "outputs": [],
   "source": []
  },
  {
   "cell_type": "markdown",
   "metadata": {
    "id": "FMDluxEBr3Sk"
   },
   "source": [
    "\n",
    "- أفضل النماذج ملاءمة تكمن في  فرضية نقطة المقايضة \n",
    "![](https://media.geeksforgeeks.org/wp-content/uploads/20200107023418/1_oO0KYF7Z84nePqfsJ9E0WQ.png)"
   ]
  },
  {
   "cell_type": "markdown",
   "metadata": {
    "id": "SLRylxtT2IGx"
   },
   "source": [
    "![](https://miro.medium.com/max/700/1*OLh18FDyOhIEG5idV4kXFQ.png)"
   ]
  },
  {
   "cell_type": "code",
   "execution_count": null,
   "metadata": {
    "colab": {
     "base_uri": "https://localhost:8080/",
     "height": 35
    },
    "executionInfo": {
     "elapsed": 1973,
     "status": "ok",
     "timestamp": 1601401340042,
     "user": {
      "displayName": "Math Hack",
      "photoUrl": "https://lh3.googleusercontent.com/a-/AOh14GjOrJzQ2xAgyHRSCzQ3qBInmHzMPfMtIJGxB4HG=s64",
      "userId": "13730440483455885359"
     },
     "user_tz": -180
    },
    "id": "xzfVfIGiK9U4",
    "outputId": "a0e37141-e466-4d41-e704-a17b67ec65b1"
   },
   "outputs": [
    {
     "data": {
      "application/vnd.google.colaboratory.intrinsic+json": {
       "type": "string"
      },
      "text/plain": [
       "'/content/drive/My Drive/ML-Course'"
      ]
     },
     "execution_count": 10,
     "metadata": {
      "tags": []
     },
     "output_type": "execute_result"
    }
   ],
   "source": [
    "pwd"
   ]
  },
  {
   "cell_type": "code",
   "execution_count": 1,
   "metadata": {
    "id": "0p-03R6iK9bm"
   },
   "outputs": [],
   "source": [
    "#تحميل البيانات \n",
    "import pandas as pd\n",
    "df= pd.read_csv(\"../data/HousePrice3.csv\", index_col=0)"
   ]
  },
  {
   "cell_type": "code",
   "execution_count": 2,
   "metadata": {
    "colab": {
     "base_uri": "https://localhost:8080/",
     "height": 213
    },
    "executionInfo": {
     "elapsed": 1957,
     "status": "ok",
     "timestamp": 1601401340045,
     "user": {
      "displayName": "Math Hack",
      "photoUrl": "https://lh3.googleusercontent.com/a-/AOh14GjOrJzQ2xAgyHRSCzQ3qBInmHzMPfMtIJGxB4HG=s64",
      "userId": "13730440483455885359"
     },
     "user_tz": -180
    },
    "id": "c15he76SO5Db",
    "outputId": "ecb54452-c02b-40d8-dea4-a48ba4f28687"
   },
   "outputs": [
    {
     "data": {
      "text/html": [
       "<div>\n",
       "<style scoped>\n",
       "    .dataframe tbody tr th:only-of-type {\n",
       "        vertical-align: middle;\n",
       "    }\n",
       "\n",
       "    .dataframe tbody tr th {\n",
       "        vertical-align: top;\n",
       "    }\n",
       "\n",
       "    .dataframe thead th {\n",
       "        text-align: right;\n",
       "    }\n",
       "</style>\n",
       "<table border=\"1\" class=\"dataframe\">\n",
       "  <thead>\n",
       "    <tr style=\"text-align: right;\">\n",
       "      <th></th>\n",
       "      <th>MSSubClass</th>\n",
       "      <th>MSZoning</th>\n",
       "      <th>LotFrontage</th>\n",
       "      <th>LotArea</th>\n",
       "      <th>Street</th>\n",
       "      <th>Alley</th>\n",
       "      <th>LotShape</th>\n",
       "      <th>LandContour</th>\n",
       "      <th>Utilities</th>\n",
       "      <th>LotConfig</th>\n",
       "      <th>...</th>\n",
       "      <th>MiscVal</th>\n",
       "      <th>YrSold</th>\n",
       "      <th>SaleType</th>\n",
       "      <th>SaleCondition</th>\n",
       "      <th>SalePrice</th>\n",
       "      <th>TotalSF</th>\n",
       "      <th>TotalPorchSF</th>\n",
       "      <th>TotalBath</th>\n",
       "      <th>SnMoSold</th>\n",
       "      <th>CsMoSold</th>\n",
       "    </tr>\n",
       "  </thead>\n",
       "  <tbody>\n",
       "    <tr>\n",
       "      <th>0</th>\n",
       "      <td>60</td>\n",
       "      <td>RL</td>\n",
       "      <td>65.0</td>\n",
       "      <td>8450</td>\n",
       "      <td>Pave</td>\n",
       "      <td>NaN</td>\n",
       "      <td>Reg</td>\n",
       "      <td>Lvl</td>\n",
       "      <td>AllPub</td>\n",
       "      <td>Inside</td>\n",
       "      <td>...</td>\n",
       "      <td>0</td>\n",
       "      <td>2008</td>\n",
       "      <td>WD</td>\n",
       "      <td>Normal</td>\n",
       "      <td>208500</td>\n",
       "      <td>2566</td>\n",
       "      <td>61</td>\n",
       "      <td>3.5</td>\n",
       "      <td>0.866025</td>\n",
       "      <td>5.000000e-01</td>\n",
       "    </tr>\n",
       "    <tr>\n",
       "      <th>1</th>\n",
       "      <td>20</td>\n",
       "      <td>RL</td>\n",
       "      <td>80.0</td>\n",
       "      <td>9600</td>\n",
       "      <td>Pave</td>\n",
       "      <td>NaN</td>\n",
       "      <td>Reg</td>\n",
       "      <td>Lvl</td>\n",
       "      <td>AllPub</td>\n",
       "      <td>FR2</td>\n",
       "      <td>...</td>\n",
       "      <td>0</td>\n",
       "      <td>2007</td>\n",
       "      <td>WD</td>\n",
       "      <td>Normal</td>\n",
       "      <td>181500</td>\n",
       "      <td>2524</td>\n",
       "      <td>0</td>\n",
       "      <td>2.5</td>\n",
       "      <td>0.500000</td>\n",
       "      <td>-8.660254e-01</td>\n",
       "    </tr>\n",
       "    <tr>\n",
       "      <th>2</th>\n",
       "      <td>60</td>\n",
       "      <td>RL</td>\n",
       "      <td>68.0</td>\n",
       "      <td>11250</td>\n",
       "      <td>Pave</td>\n",
       "      <td>NaN</td>\n",
       "      <td>IR1</td>\n",
       "      <td>Lvl</td>\n",
       "      <td>AllPub</td>\n",
       "      <td>Inside</td>\n",
       "      <td>...</td>\n",
       "      <td>0</td>\n",
       "      <td>2008</td>\n",
       "      <td>WD</td>\n",
       "      <td>Normal</td>\n",
       "      <td>223500</td>\n",
       "      <td>2706</td>\n",
       "      <td>42</td>\n",
       "      <td>3.5</td>\n",
       "      <td>-1.000000</td>\n",
       "      <td>-1.836970e-16</td>\n",
       "    </tr>\n",
       "  </tbody>\n",
       "</table>\n",
       "<p>3 rows × 72 columns</p>\n",
       "</div>"
      ],
      "text/plain": [
       "   MSSubClass MSZoning  LotFrontage  LotArea Street Alley LotShape  \\\n",
       "0          60       RL         65.0     8450   Pave   NaN      Reg   \n",
       "1          20       RL         80.0     9600   Pave   NaN      Reg   \n",
       "2          60       RL         68.0    11250   Pave   NaN      IR1   \n",
       "\n",
       "  LandContour Utilities LotConfig  ... MiscVal YrSold SaleType SaleCondition  \\\n",
       "0         Lvl    AllPub    Inside  ...       0   2008       WD        Normal   \n",
       "1         Lvl    AllPub       FR2  ...       0   2007       WD        Normal   \n",
       "2         Lvl    AllPub    Inside  ...       0   2008       WD        Normal   \n",
       "\n",
       "  SalePrice TotalSF  TotalPorchSF  TotalBath  SnMoSold      CsMoSold  \n",
       "0    208500    2566            61        3.5  0.866025  5.000000e-01  \n",
       "1    181500    2524             0        2.5  0.500000 -8.660254e-01  \n",
       "2    223500    2706            42        3.5 -1.000000 -1.836970e-16  \n",
       "\n",
       "[3 rows x 72 columns]"
      ]
     },
     "execution_count": 2,
     "metadata": {},
     "output_type": "execute_result"
    }
   ],
   "source": [
    "df.head(3)"
   ]
  },
  {
   "cell_type": "markdown",
   "metadata": {
    "id": "2uDPsINgJflv"
   },
   "source": [
    "![](https://image.flaticon.com/icons/png/128/3079/3079166.png)"
   ]
  },
  {
   "cell_type": "code",
   "execution_count": 3,
   "metadata": {
    "colab": {
     "base_uri": "https://localhost:8080/",
     "height": 527
    },
    "executionInfo": {
     "elapsed": 1952,
     "status": "ok",
     "timestamp": 1601401340046,
     "user": {
      "displayName": "Math Hack",
      "photoUrl": "https://lh3.googleusercontent.com/a-/AOh14GjOrJzQ2xAgyHRSCzQ3qBInmHzMPfMtIJGxB4HG=s64",
      "userId": "13730440483455885359"
     },
     "user_tz": -180
    },
    "id": "SCzNek-1PQrl",
    "outputId": "89b0ba9a-7d73-45a0-d41a-40b25ce0a4cf"
   },
   "outputs": [
    {
     "data": {
      "text/plain": [
       "SalePrice       1.000000\n",
       "TotalSF         0.815996\n",
       "OverallQual     0.792879\n",
       "GarageArea      0.638807\n",
       "TotalBath       0.633500\n",
       "1stFlrSF        0.624230\n",
       "TotRmsAbvGrd    0.536972\n",
       "YearBuilt       0.521888\n",
       "YearRemodAdd    0.505876\n",
       "MasVnrArea      0.476749\n",
       "Fireplaces      0.469402\n",
       "BsmtFinSF1      0.405131\n",
       "LotFrontage     0.369805\n",
       "WoodDeckSF      0.325546\n",
       "2ndFlrSF        0.322203\n",
       "LotArea         0.268806\n",
       "BsmtUnfSF       0.214996\n",
       "TotalPorchSF    0.197092\n",
       "BedroomAbvGr    0.169781\n",
       "PoolArea        0.099888\n",
       "CsMoSold        0.038504\n",
       "BsmtFinSF2     -0.011058\n",
       "MiscVal        -0.020180\n",
       "LowQualFinSF   -0.025538\n",
       "YrSold         -0.029754\n",
       "SnMoSold       -0.055401\n",
       "OverallCond    -0.078465\n",
       "MSSubClass     -0.082984\n",
       "KitchenAbvGr   -0.136082\n",
       "Name: SalePrice, dtype: float64"
      ]
     },
     "execution_count": 3,
     "metadata": {},
     "output_type": "execute_result"
    }
   ],
   "source": [
    "df.select_dtypes(\"number\").corr()['SalePrice'].sort_values(ascending=False)"
   ]
  },
  {
   "cell_type": "code",
   "execution_count": 4,
   "metadata": {
    "colab": {
     "base_uri": "https://localhost:8080/",
     "height": 119
    },
    "executionInfo": {
     "elapsed": 1947,
     "status": "ok",
     "timestamp": 1601401340047,
     "user": {
      "displayName": "Math Hack",
      "photoUrl": "https://lh3.googleusercontent.com/a-/AOh14GjOrJzQ2xAgyHRSCzQ3qBInmHzMPfMtIJGxB4HG=s64",
      "userId": "13730440483455885359"
     },
     "user_tz": -180
    },
    "id": "DsnqFi-nPQnt",
    "outputId": "63d44eba-32c4-45a3-8d0f-48546583eeae"
   },
   "outputs": [
    {
     "data": {
      "text/plain": [
       "SalePrice      1.000000\n",
       "TotalSF        0.815996\n",
       "OverallQual    0.792879\n",
       "GarageArea     0.638807\n",
       "TotalBath      0.633500\n",
       "Name: SalePrice, dtype: float64"
      ]
     },
     "execution_count": 4,
     "metadata": {},
     "output_type": "execute_result"
    }
   ],
   "source": [
    "# قائمة المتغيرات الأكثر ارتباطا \n",
    "\n",
    "corr = df.select_dtypes(\"number\").corr()['SalePrice'].sort_values(ascending=False)\n",
    "corr[:5]\n",
    "#SalePrice الاكتفاء بالمتغيرات الأكثر ارتباطا ب   "
   ]
  },
  {
   "cell_type": "markdown",
   "metadata": {
    "id": "oKBVGKhvJlDp"
   },
   "source": [
    "<img src=\"https://encrypted-tbn0.gstatic.com/images?q=tbn%3AANd9GcT9GPc3te-hV52pZv1105UrkoNttMfzawJwFg&usqp=CAU\" width=100></img>"
   ]
  },
  {
   "cell_type": "code",
   "execution_count": 5,
   "metadata": {
    "id": "__OHW2_sBjwC"
   },
   "outputs": [],
   "source": [
    "X=df[[\"OverallQual\" ,\"TotalSF\" , \"GarageArea\" , \"TotalBath\" ]]\n",
    "y=df.SalePrice "
   ]
  },
  {
   "cell_type": "markdown",
   "metadata": {
    "id": "RNu4r3SXJoN_"
   },
   "source": [
    "![](https://i.ibb.co/QChD6Y4/Train-test-1.jpg)"
   ]
  },
  {
   "cell_type": "code",
   "execution_count": 6,
   "metadata": {
    "id": "ISG0iQcEUBEl"
   },
   "outputs": [],
   "source": [
    "# تقسيم البيانات \n",
    "from sklearn.model_selection import train_test_split\n",
    "X_train, X_test, y_train, y_test=train_test_split(X, y  ,test_size=.33, random_state=42)"
   ]
  },
  {
   "cell_type": "code",
   "execution_count": 7,
   "metadata": {
    "id": "N52vEfXP25Oy"
   },
   "outputs": [],
   "source": [
    "#  معالجة البيانات المتطرفة وإإعادة توزيعها\n",
    "from sklearn.preprocessing import MinMaxScaler\n",
    "\n",
    "scaler = MinMaxScaler()\n",
    "X_train_scaled = scaler.fit_transform(X_train)\n",
    "X_test_scaled = scaler.transform(X_test)"
   ]
  },
  {
   "cell_type": "code",
   "execution_count": null,
   "metadata": {
    "id": "dG7oCvkfQUMy"
   },
   "outputs": [],
   "source": []
  },
  {
   "cell_type": "code",
   "execution_count": null,
   "metadata": {
    "id": "tViqk-GxUcOQ"
   },
   "outputs": [],
   "source": []
  },
  {
   "cell_type": "code",
   "execution_count": null,
   "metadata": {
    "id": "YWMgpURIUcR2"
   },
   "outputs": [],
   "source": []
  },
  {
   "cell_type": "markdown",
   "metadata": {
    "id": "RTwRZEcHIwDa"
   },
   "source": [
    "## Ridge   نموذج "
   ]
  },
  {
   "cell_type": "markdown",
   "metadata": {
    "id": "Mya6n9-P-Gep"
   },
   "source": [
    "<image src=\"https://static.thenounproject.com/png/2010152-200.png\" width=10%></img>"
   ]
  },
  {
   "cell_type": "markdown",
   "metadata": {
    "id": "MCL09a-73CnR"
   },
   "source": [
    "$\\Large  RSS_{Ridge}= \\sum (Y_i -\\hat Y_i )^2 + \\alpha\\sum\\beta_i^2  $\n",
    "\n",
    "$\\Large  RSS_{Ridge}= \\sum (Y_i -\\beta_0 -\\beta_iX_i )^2 + \\alpha\\sum\\beta_i^2  $"
   ]
  },
  {
   "cell_type": "code",
   "execution_count": null,
   "metadata": {
    "id": "o9HzAYULUBAd"
   },
   "outputs": [],
   "source": [
    "\n",
    "from sklearn.linear_model import Ridge\n",
    "\n",
    "linRidge = Ridge(alpha=20.0).fit(X_train_scaled, y_train)"
   ]
  },
  {
   "cell_type": "markdown",
   "metadata": {
    "id": "IGfpoU1Z-Xjj"
   },
   "source": [
    "![](https://i.ibb.co/wQC2qF6/ruler.png)"
   ]
  },
  {
   "cell_type": "code",
   "execution_count": null,
   "metadata": {
    "colab": {
     "base_uri": "https://localhost:8080/",
     "height": 34
    },
    "executionInfo": {
     "elapsed": 1055,
     "status": "ok",
     "timestamp": 1597700251442,
     "user": {
      "displayName": "Math Hack",
      "photoUrl": "https://lh3.googleusercontent.com/a-/AOh14GjOrJzQ2xAgyHRSCzQ3qBInmHzMPfMtIJGxB4HG=s64",
      "userId": "13730440483455885359"
     },
     "user_tz": -180
    },
    "id": "2RHU9PWtZ5yc",
    "outputId": "c5e58ecb-65f1-4dd3-b5ff-ed37f1892898"
   },
   "outputs": [
    {
     "data": {
      "text/plain": [
       "array([144887.8578349 ,  74260.82777648,  91563.53151215,  92948.88932605])"
      ]
     },
     "execution_count": 11,
     "metadata": {
      "tags": []
     },
     "output_type": "execute_result"
    }
   ],
   "source": [
    "linRidge.coef_\n"
   ]
  },
  {
   "cell_type": "code",
   "execution_count": null,
   "metadata": {
    "colab": {
     "base_uri": "https://localhost:8080/",
     "height": 34
    },
    "executionInfo": {
     "elapsed": 837,
     "status": "ok",
     "timestamp": 1597700251444,
     "user": {
      "displayName": "Math Hack",
      "photoUrl": "https://lh3.googleusercontent.com/a-/AOh14GjOrJzQ2xAgyHRSCzQ3qBInmHzMPfMtIJGxB4HG=s64",
      "userId": "13730440483455885359"
     },
     "user_tz": -180
    },
    "id": "ixogF8DLzNVy",
    "outputId": "bd1f717c-8fb7-4cea-c924-6c8c4af04b97"
   },
   "outputs": [
    {
     "data": {
      "text/plain": [
       "100915.27661239555"
      ]
     },
     "execution_count": 12,
     "metadata": {
      "tags": []
     },
     "output_type": "execute_result"
    }
   ],
   "source": [
    "linRidge.coef_.mean()"
   ]
  },
  {
   "cell_type": "code",
   "execution_count": null,
   "metadata": {
    "colab": {
     "base_uri": "https://localhost:8080/",
     "height": 35
    },
    "executionInfo": {
     "elapsed": 1273,
     "status": "ok",
     "timestamp": 1597700252037,
     "user": {
      "displayName": "Math Hack",
      "photoUrl": "https://lh3.googleusercontent.com/a-/AOh14GjOrJzQ2xAgyHRSCzQ3qBInmHzMPfMtIJGxB4HG=s64",
      "userId": "13730440483455885359"
     },
     "user_tz": -180
    },
    "id": "RgDGaks1Z_aP",
    "outputId": "38b7c919-8591-45ab-e657-94d6da709f69"
   },
   "outputs": [
    {
     "data": {
      "application/vnd.google.colaboratory.intrinsic+json": {
       "type": "string"
      },
      "text/plain": [
       "'y intercept  :3.04e+04    : y  تقاطع  '"
      ]
     },
     "execution_count": 13,
     "metadata": {
      "tags": []
     },
     "output_type": "execute_result"
    }
   ],
   "source": [
    "f'y intercept  :{linRidge.intercept_:.3}    : y  تقاطع  '"
   ]
  },
  {
   "cell_type": "code",
   "execution_count": null,
   "metadata": {
    "id": "lCGnz1q9aDmZ"
   },
   "outputs": [],
   "source": [
    "# المعادلة \n"
   ]
  },
  {
   "cell_type": "code",
   "execution_count": null,
   "metadata": {
    "id": "3l0QXB2iWtvb"
   },
   "outputs": [],
   "source": [
    "#  التنبؤ\n",
    "y_pred = linRidge.predict(X_test_scaled)"
   ]
  },
  {
   "cell_type": "code",
   "execution_count": null,
   "metadata": {
    "cellView": "both",
    "colab": {
     "base_uri": "https://localhost:8080/",
     "height": 35
    },
    "executionInfo": {
     "elapsed": 1298,
     "status": "ok",
     "timestamp": 1597700252660,
     "user": {
      "displayName": "Math Hack",
      "photoUrl": "https://lh3.googleusercontent.com/a-/AOh14GjOrJzQ2xAgyHRSCzQ3qBInmHzMPfMtIJGxB4HG=s64",
      "userId": "13730440483455885359"
     },
     "user_tz": -180
    },
    "id": "LdqDBK5_Wtru",
    "outputId": "5225a9d7-34b5-4ea0-d4e2-7810c9f522f7"
   },
   "outputs": [
    {
     "data": {
      "application/vnd.google.colaboratory.intrinsic+json": {
       "type": "string"
      },
      "text/plain": [
       "' Score :  0.65'"
      ]
     },
     "execution_count": 16,
     "metadata": {
      "tags": []
     },
     "output_type": "execute_result"
    }
   ],
   "source": [
    "# تقويم  النموذج \n",
    "from sklearn import metrics \n",
    "f' Score :  {metrics.r2_score(y_test, y_pred):.3}'"
   ]
  },
  {
   "cell_type": "code",
   "execution_count": null,
   "metadata": {
    "colab": {
     "base_uri": "https://localhost:8080/",
     "height": 34
    },
    "executionInfo": {
     "elapsed": 1098,
     "status": "ok",
     "timestamp": 1597700252662,
     "user": {
      "displayName": "Math Hack",
      "photoUrl": "https://lh3.googleusercontent.com/a-/AOh14GjOrJzQ2xAgyHRSCzQ3qBInmHzMPfMtIJGxB4HG=s64",
      "userId": "13730440483455885359"
     },
     "user_tz": -180
    },
    "id": "Xr2MjpiBjzAX",
    "outputId": "934d724c-441a-4451-9af6-d50fdc2c799d"
   },
   "outputs": [
    {
     "data": {
      "text/plain": [
       "0.6500262303996329"
      ]
     },
     "execution_count": 17,
     "metadata": {
      "tags": []
     },
     "output_type": "execute_result"
    }
   ],
   "source": [
    "linRidge.score(X_test_scaled, y_test)"
   ]
  },
  {
   "cell_type": "code",
   "execution_count": null,
   "metadata": {
    "colab": {
     "base_uri": "https://localhost:8080/",
     "height": 35
    },
    "executionInfo": {
     "elapsed": 907,
     "status": "ok",
     "timestamp": 1597700252663,
     "user": {
      "displayName": "Math Hack",
      "photoUrl": "https://lh3.googleusercontent.com/a-/AOh14GjOrJzQ2xAgyHRSCzQ3qBInmHzMPfMtIJGxB4HG=s64",
      "userId": "13730440483455885359"
     },
     "user_tz": -180
    },
    "id": "j9rO69EaWtnj",
    "outputId": "ca64b60b-2c30-4473-a38b-11033fb46f22"
   },
   "outputs": [
    {
     "data": {
      "application/vnd.google.colaboratory.intrinsic+json": {
       "type": "string"
      },
      "text/plain": [
       "' Score :  2.98e+04'"
      ]
     },
     "execution_count": 18,
     "metadata": {
      "tags": []
     },
     "output_type": "execute_result"
    }
   ],
   "source": [
    "f' Score :  {metrics.mean_absolute_error(y_test, y_pred):.3}'"
   ]
  },
  {
   "cell_type": "code",
   "execution_count": null,
   "metadata": {
    "colab": {
     "base_uri": "https://localhost:8080/",
     "height": 35
    },
    "executionInfo": {
     "elapsed": 1418,
     "status": "ok",
     "timestamp": 1597700253362,
     "user": {
      "displayName": "Math Hack",
      "photoUrl": "https://lh3.googleusercontent.com/a-/AOh14GjOrJzQ2xAgyHRSCzQ3qBInmHzMPfMtIJGxB4HG=s64",
      "userId": "13730440483455885359"
     },
     "user_tz": -180
    },
    "id": "IZPpEkRxWtjw",
    "outputId": "c4efcc5b-9f30-4619-d167-b35bea701224"
   },
   "outputs": [
    {
     "data": {
      "application/vnd.google.colaboratory.intrinsic+json": {
       "type": "string"
      },
      "text/plain": [
       "' RMSE :  1.73e+02'"
      ]
     },
     "execution_count": 19,
     "metadata": {
      "tags": []
     },
     "output_type": "execute_result"
    }
   ],
   "source": [
    "import numpy as np\n",
    "f' RMSE :  {np.sqrt(metrics.mean_absolute_error(y_test, y_pred)):.3}'"
   ]
  },
  {
   "cell_type": "code",
   "execution_count": null,
   "metadata": {
    "colab": {
     "base_uri": "https://localhost:8080/",
     "height": 295
    },
    "executionInfo": {
     "elapsed": 1227,
     "status": "ok",
     "timestamp": 1597700286322,
     "user": {
      "displayName": "Math Hack",
      "photoUrl": "https://lh3.googleusercontent.com/a-/AOh14GjOrJzQ2xAgyHRSCzQ3qBInmHzMPfMtIJGxB4HG=s64",
      "userId": "13730440483455885359"
     },
     "user_tz": -180
    },
    "id": "v4EUFRGsWtf2",
    "outputId": "ce70afa1-8d1c-4726-9dce-68583b2d4637"
   },
   "outputs": [
    {
     "data": {
      "image/png": "[encoded data removed]",
      "text/plain": [
       "<Figure size 432x288 with 1 Axes>"
      ]
     },
     "metadata": {
      "needs_background": "light",
      "tags": []
     },
     "output_type": "display_data"
    }
   ],
   "source": [
    "import matplotlib.pyplot as plt\n",
    "\n",
    "fig, ax = plt.subplots()\n",
    "ax.scatter(y_test, y_pred, edgecolors=(0, 0, 0))\n",
    "ax.plot([y_test.min(), y_test.max()], [y_test.min(), y_test.max()], 'k--', lw=4)\n",
    "ax.set_xlabel('Actual')\n",
    "ax.set_ylabel('Predicted')\n",
    "ax.set_title(\"Ground Truth vs Predicted\")\n",
    "plt.show()"
   ]
  },
  {
   "cell_type": "code",
   "execution_count": null,
   "metadata": {
    "colab": {
     "base_uri": "https://localhost:8080/",
     "height": 153
    },
    "executionInfo": {
     "elapsed": 1315,
     "status": "ok",
     "timestamp": 1597700288529,
     "user": {
      "displayName": "Math Hack",
      "photoUrl": "https://lh3.googleusercontent.com/a-/AOh14GjOrJzQ2xAgyHRSCzQ3qBInmHzMPfMtIJGxB4HG=s64",
      "userId": "13730440483455885359"
     },
     "user_tz": -180
    },
    "id": "YGqhjnL4ZAtZ",
    "outputId": "7259aa01-edf1-4b98-d4ee-e2938caaecef"
   },
   "outputs": [
    {
     "name": "stderr",
     "output_type": "stream",
     "text": [
      "/usr/local/lib/python3.6/dist-packages/pandas/core/series.py:679: RuntimeWarning: overflow encountered in exp\n",
      "  result = getattr(ufunc, method)(*inputs, **kwargs)\n"
     ]
    },
    {
     "data": {
      "text/plain": [
       "0    inf\n",
       "1    inf\n",
       "2    inf\n",
       "3    inf\n",
       "4    inf\n",
       "Name: SalePrice, dtype: float64"
      ]
     },
     "execution_count": 23,
     "metadata": {
      "tags": []
     },
     "output_type": "execute_result"
    }
   ],
   "source": [
    "np.exp(y.head())"
   ]
  },
  {
   "cell_type": "code",
   "execution_count": null,
   "metadata": {
    "colab": {
     "base_uri": "https://localhost:8080/",
     "height": 255
    },
    "executionInfo": {
     "elapsed": 6661,
     "status": "ok",
     "timestamp": 1597700324414,
     "user": {
      "displayName": "Math Hack",
      "photoUrl": "https://lh3.googleusercontent.com/a-/AOh14GjOrJzQ2xAgyHRSCzQ3qBInmHzMPfMtIJGxB4HG=s64",
      "userId": "13730440483455885359"
     },
     "user_tz": -180
    },
    "id": "IPXqe11nXBVM",
    "outputId": "2c07d7a3-2451-4b30-c808-3203e84f0ff7"
   },
   "outputs": [
    {
     "name": "stdout",
     "output_type": "stream",
     "text": [
      "Collecting scikit-plot\n",
      "  Downloading https://files.pythonhosted.org/packages/7c/47/32520e259340c140a4ad27c1b97050dd3254fdc517b1d59974d47037510e/scikit_plot-0.3.7-py3-none-any.whl\n",
      "Requirement already satisfied: matplotlib>=1.4.0 in /usr/local/lib/python3.6/dist-packages (from scikit-plot) (3.2.2)\n",
      "Requirement already satisfied: scikit-learn>=0.18 in /usr/local/lib/python3.6/dist-packages (from scikit-plot) (0.22.2.post1)\n",
      "Requirement already satisfied: joblib>=0.10 in /usr/local/lib/python3.6/dist-packages (from scikit-plot) (0.16.0)\n",
      "Requirement already satisfied: scipy>=0.9 in /usr/local/lib/python3.6/dist-packages (from scikit-plot) (1.4.1)\n",
      "Requirement already satisfied: cycler>=0.10 in /usr/local/lib/python3.6/dist-packages (from matplotlib>=1.4.0->scikit-plot) (0.10.0)\n",
      "Requirement already satisfied: python-dateutil>=2.1 in /usr/local/lib/python3.6/dist-packages (from matplotlib>=1.4.0->scikit-plot) (2.8.1)\n",
      "Requirement already satisfied: numpy>=1.11 in /usr/local/lib/python3.6/dist-packages (from matplotlib>=1.4.0->scikit-plot) (1.18.5)\n",
      "Requirement already satisfied: pyparsing!=2.0.4,!=2.1.2,!=2.1.6,>=2.0.1 in /usr/local/lib/python3.6/dist-packages (from matplotlib>=1.4.0->scikit-plot) (2.4.7)\n",
      "Requirement already satisfied: kiwisolver>=1.0.1 in /usr/local/lib/python3.6/dist-packages (from matplotlib>=1.4.0->scikit-plot) (1.2.0)\n",
      "Requirement already satisfied: six in /usr/local/lib/python3.6/dist-packages (from cycler>=0.10->matplotlib>=1.4.0->scikit-plot) (1.15.0)\n",
      "Installing collected packages: scikit-plot\n",
      "Successfully installed scikit-plot-0.3.7\n"
     ]
    }
   ],
   "source": [
    "! pip install scikit-plot"
   ]
  },
  {
   "cell_type": "code",
   "execution_count": null,
   "metadata": {
    "colab": {
     "base_uri": "https://localhost:8080/",
     "height": 312
    },
    "executionInfo": {
     "elapsed": 1408,
     "status": "ok",
     "timestamp": 1597700352665,
     "user": {
      "displayName": "Math Hack",
      "photoUrl": "https://lh3.googleusercontent.com/a-/AOh14GjOrJzQ2xAgyHRSCzQ3qBInmHzMPfMtIJGxB4HG=s64",
      "userId": "13730440483455885359"
     },
     "user_tz": -180
    },
    "id": "cI-VLPqTXvaM",
    "outputId": "efa44382-542f-49c9-9fc9-c3d50f605f82"
   },
   "outputs": [
    {
     "data": {
      "text/plain": [
       "<matplotlib.axes._subplots.AxesSubplot at 0x7f313003f0f0>"
      ]
     },
     "execution_count": 27,
     "metadata": {
      "tags": []
     },
     "output_type": "execute_result"
    },
    {
     "data": {
      "image/png": "[encoded data removed]",
      "text/plain": [
       "<Figure size 432x288 with 1 Axes>"
      ]
     },
     "metadata": {
      "needs_background": "light",
      "tags": []
     },
     "output_type": "display_data"
    }
   ],
   "source": [
    "# تخطيط التعلّم \n",
    "import scikitplot as skplt\n",
    "skplt.estimators.plot_learning_curve(linRidge, X_train_scaled, y_train, scoring=\"r2\") # neg_mean_absolute_error\")"
   ]
  },
  {
   "cell_type": "code",
   "execution_count": null,
   "metadata": {
    "id": "rLG9feD3BV8b"
   },
   "outputs": [],
   "source": [
    "# P = PolynomialFeatures(3, interaction_only=False, include_bias=False)\n",
    "# model = make_pipeline(P, Ridge(tol=0.001, alpha=1, fit_intercept=False))\n",
    "# model.fit(initial_conditions, times_of_flight)"
   ]
  },
  {
   "cell_type": "code",
   "execution_count": null,
   "metadata": {
    "id": "NVVp0vJ9WyRJ"
   },
   "outputs": [],
   "source": []
  },
  {
   "cell_type": "code",
   "execution_count": null,
   "metadata": {
    "id": "1OyNesszXPAJ"
   },
   "outputs": [],
   "source": []
  },
  {
   "cell_type": "code",
   "execution_count": null,
   "metadata": {
    "id": "NxcT3xrJXPkA"
   },
   "outputs": [],
   "source": []
  },
  {
   "cell_type": "code",
   "execution_count": null,
   "metadata": {
    "id": "URm8pMXKXPqr"
   },
   "outputs": [],
   "source": []
  },
  {
   "cell_type": "code",
   "execution_count": null,
   "metadata": {
    "id": "a-8Lg-AFXPvr"
   },
   "outputs": [],
   "source": []
  },
  {
   "cell_type": "code",
   "execution_count": null,
   "metadata": {
    "colab": {
     "base_uri": "https://localhost:8080/",
     "height": 136
    },
    "executionInfo": {
     "elapsed": 1272,
     "status": "ok",
     "timestamp": 1597700402443,
     "user": {
      "displayName": "Math Hack",
      "photoUrl": "https://lh3.googleusercontent.com/a-/AOh14GjOrJzQ2xAgyHRSCzQ3qBInmHzMPfMtIJGxB4HG=s64",
      "userId": "13730440483455885359"
     },
     "user_tz": -180
    },
    "id": "EGQ_Gf-LXPzm",
    "outputId": "314d5063-977d-4658-8cfc-03421c3bff6a"
   },
   "outputs": [
    {
     "name": "stdout",
     "output_type": "stream",
     "text": [
      "Ridge Regression: R^2 score on test set for  lamdbda= 0.001, 0.786\n",
      "Ridge Regression: R^2 score on test set for  lamdbda= 0.01, 0.786\n",
      "Ridge Regression: R^2 score on test set for  lamdbda= 0.1, 0.786\n",
      "Ridge Regression: R^2 score on test set for  lamdbda= 0.5, 0.786\n",
      "Ridge Regression: R^2 score on test set for  lamdbda= 1, 0.786\n",
      "Ridge Regression: R^2 score on test set for  lamdbda= 2, 0.786\n",
      "Ridge Regression: R^2 score on test set for  lamdbda= 10, 0.786\n"
     ]
    }
   ],
   "source": [
    "\n",
    "alphas = (0.001, 0.01, 0.1, 0.5, 1, 2, 10)\n",
    "# enumerate through alphas with index and i\n",
    "for  i in  alphas:    \n",
    "    reg = Ridge(alpha = i)\n",
    "    reg.fit(X_train, y_train)\n",
    "    print(f'Ridge Regression: R^2 score on test set for  lamdbda= {i}, {reg.score(X_test, y_test):.3}')\n"
   ]
  },
  {
   "cell_type": "code",
   "execution_count": null,
   "metadata": {
    "colab": {
     "base_uri": "https://localhost:8080/",
     "height": 187
    },
    "executionInfo": {
     "elapsed": 1249,
     "status": "ok",
     "timestamp": 1597700541310,
     "user": {
      "displayName": "Math Hack",
      "photoUrl": "https://lh3.googleusercontent.com/a-/AOh14GjOrJzQ2xAgyHRSCzQ3qBInmHzMPfMtIJGxB4HG=s64",
      "userId": "13730440483455885359"
     },
     "user_tz": -180
    },
    "id": "hdAbKHK4XQmi",
    "outputId": "823a7037-7b5c-4766-b837-dff2526fe36a"
   },
   "outputs": [
    {
     "name": "stdout",
     "output_type": "stream",
     "text": [
      "Ridge Regression: R^2 score on test set for  alpha= 1e-07, 0.786\n",
      "Ridge Regression: R^2 score on test set for  alpha= 0.0012915496650148827, 0.786\n",
      "Ridge Regression: R^2 score on test set for  alpha= 16.681005372000556, 0.786\n",
      "Ridge Regression: R^2 score on test set for  alpha= 215443.46900318778, 0.714\n",
      "Ridge Regression: R^2 score on test set for  alpha= 2782559402.2071147, 0.205\n",
      "Ridge Regression: R^2 score on test set for  alpha= 35938136638046.11, 1.62e-06\n",
      "Ridge Regression: R^2 score on test set for  alpha= 4.641588833612753e+17, -1.98e-05\n",
      "Ridge Regression: R^2 score on test set for  alpha= 5.994842503189372e+21, -1.98e-05\n",
      "Ridge Regression: R^2 score on test set for  alpha= 7.742636826811214e+25, -1.98e-05\n",
      "Ridge Regression: R^2 score on test set for  alpha= 1e+30, -1.98e-05\n"
     ]
    }
   ],
   "source": [
    "# \n",
    "alphas = np.logspace(-7, 30, 10)\n",
    "# enumerate through alphas with index and i\n",
    "for  i in  alphas:    \n",
    "    reg = Ridge(alpha = i)\n",
    "    reg.fit(X_train, y_train)\n",
    "    print(f'Ridge Regression: R^2 score on test set for  alpha= {i}, {reg.score(X_test, y_test):.3}')\n"
   ]
  },
  {
   "cell_type": "code",
   "execution_count": null,
   "metadata": {
    "id": "uKe3r1-aXrT4"
   },
   "outputs": [],
   "source": [
    "\n",
    "\n",
    "\n",
    "from sklearn.model_selection import validation_curve\n",
    "from sklearn.linear_model import Ridge\n",
    "import numpy as np\n",
    "\n",
    "alphas=np.logspace(-7, 30, 10)\n",
    "from sklearn.model_selection import validation_curve\n",
    "train_scores, test_scores = validation_curve(estimator=Ridge(), \n",
    "                                              X=X_train, \n",
    "                                              y=y_train,\n",
    "                                              param_name=\"alpha\" ,\n",
    "                                              param_range=alphas, \n",
    "                                              cv=10\n",
    " )"
   ]
  },
  {
   "cell_type": "code",
   "execution_count": null,
   "metadata": {
    "colab": {
     "base_uri": "https://localhost:8080/",
     "height": 527
    },
    "executionInfo": {
     "elapsed": 1041,
     "status": "ok",
     "timestamp": 1597700860470,
     "user": {
      "displayName": "Math Hack",
      "photoUrl": "https://lh3.googleusercontent.com/a-/AOh14GjOrJzQ2xAgyHRSCzQ3qBInmHzMPfMtIJGxB4HG=s64",
      "userId": "13730440483455885359"
     },
     "user_tz": -180
    },
    "id": "7kL2GJ2oYN0m",
    "outputId": "3c1bd18f-93a4-4bb7-b268-4e9387470b26"
   },
   "outputs": [
    {
     "data": {
      "text/plain": [
       "array([[7.38245582e-01, 7.60475079e-01, 7.50441986e-01, 7.87778316e-01,\n",
       "        7.40716388e-01, 7.44083870e-01, 7.40055636e-01, 7.43444084e-01,\n",
       "        7.46780934e-01, 7.43225354e-01],\n",
       "       [7.38245582e-01, 7.60475079e-01, 7.50441986e-01, 7.87778316e-01,\n",
       "        7.40716388e-01, 7.44083870e-01, 7.40055636e-01, 7.43444084e-01,\n",
       "        7.46780934e-01, 7.43225354e-01],\n",
       "       [7.38179825e-01, 7.60413860e-01, 7.50382886e-01, 7.87723139e-01,\n",
       "        7.40650801e-01, 7.44017196e-01, 7.39996036e-01, 7.43374522e-01,\n",
       "        7.46719388e-01, 7.43160915e-01],\n",
       "       [6.00041192e-01, 6.30619919e-01, 6.19848283e-01, 6.86684287e-01,\n",
       "        5.98464775e-01, 6.13139648e-01, 6.06149052e-01, 6.15009489e-01,\n",
       "        6.08002824e-01, 6.07990589e-01],\n",
       "       [1.84648330e-01, 1.90294684e-01, 1.89434296e-01, 1.96311309e-01,\n",
       "        1.81950916e-01, 1.90697776e-01, 1.83331916e-01, 1.89290580e-01,\n",
       "        1.89972505e-01, 1.87130514e-01],\n",
       "       [1.92719858e-05, 1.96433683e-05, 1.97777500e-05, 1.98121790e-05,\n",
       "        1.89313071e-05, 1.99534090e-05, 1.90218871e-05, 1.97645256e-05,\n",
       "        1.99342923e-05, 1.95547877e-05],\n",
       "       [1.49219881e-09, 1.52095270e-09, 1.53135937e-09, 1.53402013e-09,\n",
       "        1.46582013e-09, 1.54496071e-09, 1.47283330e-09, 1.53033541e-09,\n",
       "        1.54348090e-09, 1.51409585e-09],\n",
       "       [1.15352172e-13, 1.17683641e-13, 1.18682841e-13, 1.18793864e-13,\n",
       "        1.13242749e-13, 1.19571020e-13, 1.14241949e-13, 1.18349774e-13,\n",
       "        1.19348975e-13, 1.17239551e-13],\n",
       "       [0.00000000e+00, 0.00000000e+00, 0.00000000e+00, 0.00000000e+00,\n",
       "        0.00000000e+00, 0.00000000e+00, 0.00000000e+00, 0.00000000e+00,\n",
       "        0.00000000e+00, 0.00000000e+00],\n",
       "       [0.00000000e+00, 0.00000000e+00, 0.00000000e+00, 0.00000000e+00,\n",
       "        0.00000000e+00, 0.00000000e+00, 0.00000000e+00, 0.00000000e+00,\n",
       "        0.00000000e+00, 0.00000000e+00]])"
      ]
     },
     "execution_count": 42,
     "metadata": {
      "tags": []
     },
     "output_type": "execute_result"
    }
   ],
   "source": [
    "train_scores"
   ]
  },
  {
   "cell_type": "code",
   "execution_count": null,
   "metadata": {
    "colab": {
     "base_uri": "https://localhost:8080/",
     "height": 697
    },
    "executionInfo": {
     "elapsed": 1184,
     "status": "ok",
     "timestamp": 1597700867963,
     "user": {
      "displayName": "Math Hack",
      "photoUrl": "https://lh3.googleusercontent.com/a-/AOh14GjOrJzQ2xAgyHRSCzQ3qBInmHzMPfMtIJGxB4HG=s64",
      "userId": "13730440483455885359"
     },
     "user_tz": -180
    },
    "id": "UbuM4CG8YPO5",
    "outputId": "c9e025fd-bafd-4437-ddd6-24d9e4747ce2"
   },
   "outputs": [
    {
     "data": {
      "text/plain": [
       "array([[ 8.27690061e-01,  6.16412127e-01,  7.28156176e-01,\n",
       "         4.22503179e-01,  7.98159600e-01,  7.87850296e-01,\n",
       "         8.42274698e-01,  8.00334250e-01,  7.71684693e-01,\n",
       "         7.92126808e-01],\n",
       "       [ 8.27690120e-01,  6.16412122e-01,  7.28156161e-01,\n",
       "         4.22502777e-01,  7.98159625e-01,  7.87850319e-01,\n",
       "         8.42274726e-01,  8.00334377e-01,  7.71684810e-01,\n",
       "         7.92126852e-01],\n",
       "       [ 8.28379340e-01,  6.16283722e-01,  7.27922509e-01,\n",
       "         4.17365451e-01,  7.98435235e-01,  7.88050374e-01,\n",
       "         8.42598985e-01,  8.01808140e-01,  7.73103259e-01,\n",
       "         7.92620113e-01],\n",
       "       [ 7.50512965e-01,  4.71143144e-01,  5.91057368e-01,\n",
       "         5.18707122e-02,  7.34136443e-01,  6.53315733e-01,\n",
       "         7.42443570e-01,  6.40901673e-01,  7.34361395e-01,\n",
       "         6.95036322e-01],\n",
       "       [ 1.80405751e-01,  1.91705427e-01,  1.94733247e-01,\n",
       "         1.44537886e-01,  1.82500078e-01,  1.68735249e-01,\n",
       "         2.34405713e-01,  1.86848695e-01,  2.00597078e-01,\n",
       "         1.80920843e-01],\n",
       "       [-1.19366002e-02, -2.92319431e-03, -2.04046907e-03,\n",
       "        -6.62442208e-03, -5.56186443e-04, -2.46119198e-03,\n",
       "        -1.85621221e-05, -5.49138191e-03, -4.38132620e-03,\n",
       "        -8.66897221e-03],\n",
       "       [-1.19561392e-02, -2.94407390e-03, -2.06091791e-03,\n",
       "        -6.64136775e-03, -5.74675063e-04, -2.47874422e-03,\n",
       "        -4.29094255e-05, -5.51129711e-03, -4.40246616e-03,\n",
       "        -8.68834128e-03],\n",
       "       [-1.19561408e-02, -2.94407552e-03, -2.06091949e-03,\n",
       "        -6.64136906e-03, -5.74676494e-04, -2.47874558e-03,\n",
       "        -4.29113107e-05, -5.51129865e-03, -4.40246779e-03,\n",
       "        -8.68834278e-03],\n",
       "       [-1.19561408e-02, -2.94407552e-03, -2.06091949e-03,\n",
       "        -6.64136906e-03, -5.74676495e-04, -2.47874558e-03,\n",
       "        -4.29113108e-05, -5.51129865e-03, -4.40246779e-03,\n",
       "        -8.68834278e-03],\n",
       "       [-1.19561408e-02, -2.94407552e-03, -2.06091949e-03,\n",
       "        -6.64136906e-03, -5.74676495e-04, -2.47874558e-03,\n",
       "        -4.29113108e-05, -5.51129865e-03, -4.40246779e-03,\n",
       "        -8.68834278e-03]])"
      ]
     },
     "execution_count": 43,
     "metadata": {
      "tags": []
     },
     "output_type": "execute_result"
    }
   ],
   "source": [
    "test_scores"
   ]
  },
  {
   "cell_type": "code",
   "execution_count": null,
   "metadata": {
    "id": "TbybguGKjGjX"
   },
   "outputs": [],
   "source": []
  },
  {
   "cell_type": "markdown",
   "metadata": {
    "id": "84fdGgBRjMR0"
   },
   "source": [
    "If the training score and the validation score are both low, the estimator will be underfitting. If the training score is high and the validation score is low, the estimator is overfitting and otherwise it is working very well. A low training score and a high validation score is usually not possible. All three cases can be found in the plot below where we vary the parameter  of an SVM on the digits dataset."
   ]
  },
  {
   "cell_type": "markdown",
   "metadata": {
    "id": "VNwD9JySjMMQ"
   },
   "source": []
  },
  {
   "cell_type": "code",
   "execution_count": null,
   "metadata": {
    "colab": {
     "base_uri": "https://localhost:8080/",
     "height": 283
    },
    "executionInfo": {
     "elapsed": 1420,
     "status": "ok",
     "timestamp": 1597700884780,
     "user": {
      "displayName": "Math Hack",
      "photoUrl": "https://lh3.googleusercontent.com/a-/AOh14GjOrJzQ2xAgyHRSCzQ3qBInmHzMPfMtIJGxB4HG=s64",
      "userId": "13730440483455885359"
     },
     "user_tz": -180
    },
    "id": "lX8m7xRgYQra",
    "outputId": "26acfaf0-051a-4dcc-fe5d-59f44bc90368"
   },
   "outputs": [
    {
     "data": {
      "image/png": "[encoded data removed]",
      "text/plain": [
       "<Figure size 432x288 with 1 Axes>"
      ]
     },
     "metadata": {
      "needs_background": "light",
      "tags": []
     },
     "output_type": "display_data"
    }
   ],
   "source": [
    "train_mean = np.mean(train_scores, axis=1)\n",
    "test_mean = np.mean(test_scores, axis=1)\n",
    "plt.plot(alphas, train_mean, color='blue', marker='o',markersize=5, label='Training accuracy')\n",
    "plt.plot(alphas, test_mean,color='green', linestyle='--',marker='s', markersize=5,label='Validation accuracy')\n",
    "plt.grid()\n",
    "plt.xscale('log')\n",
    "\n",
    "plt.xlabel('Alpha Parameter')\n",
    "plt.ylabel('Accuracy')\n",
    "plt.legend(loc='lower right')\n",
    "# plt.ylim([0.8, 1.03])\n",
    "plt.show()"
   ]
  },
  {
   "cell_type": "code",
   "execution_count": null,
   "metadata": {
    "colab": {
     "base_uri": "https://localhost:8080/",
     "height": 34
    },
    "executionInfo": {
     "elapsed": 1319,
     "status": "ok",
     "timestamp": 1597701103854,
     "user": {
      "displayName": "Math Hack",
      "photoUrl": "https://lh3.googleusercontent.com/a-/AOh14GjOrJzQ2xAgyHRSCzQ3qBInmHzMPfMtIJGxB4HG=s64",
      "userId": "13730440483455885359"
     },
     "user_tz": -180
    },
    "id": "8EQozsmKZxeY",
    "outputId": "1dd3b491-7eb4-472f-8286-2d37d10c21aa"
   },
   "outputs": [
    {
     "data": {
      "text/plain": [
       "1000"
      ]
     },
     "execution_count": 48,
     "metadata": {
      "tags": []
     },
     "output_type": "execute_result"
    }
   ],
   "source": [
    "np.power(10,3)"
   ]
  },
  {
   "cell_type": "markdown",
   "metadata": {
    "id": "JOe-X1ArJ3gh"
   },
   "source": [
    "<image src=\"https://static.thenounproject.com/png/2010152-200.png\" width=10%></img>"
   ]
  },
  {
   "cell_type": "code",
   "execution_count": null,
   "metadata": {
    "id": "DlLJU2vfZmYB"
   },
   "outputs": [],
   "source": [
    "\n",
    "\n",
    "linRidge = Ridge(alpha=.0001).fit(X_train_scaled, y_train)"
   ]
  },
  {
   "cell_type": "code",
   "execution_count": null,
   "metadata": {
    "colab": {
     "base_uri": "https://localhost:8080/",
     "height": 312
    },
    "executionInfo": {
     "elapsed": 1550,
     "status": "ok",
     "timestamp": 1597701284052,
     "user": {
      "displayName": "Math Hack",
      "photoUrl": "https://lh3.googleusercontent.com/a-/AOh14GjOrJzQ2xAgyHRSCzQ3qBInmHzMPfMtIJGxB4HG=s64",
      "userId": "13730440483455885359"
     },
     "user_tz": -180
    },
    "id": "6XaOU1iwYeXD",
    "outputId": "dd9ee345-4d22-4d2b-8cba-24e7b464a1d9"
   },
   "outputs": [
    {
     "data": {
      "text/plain": [
       "<matplotlib.axes._subplots.AxesSubplot at 0x7f3128130fd0>"
      ]
     },
     "execution_count": 54,
     "metadata": {
      "tags": []
     },
     "output_type": "execute_result"
    },
    {
     "data": {
      "image/png": "[encoded data removed]",
      "text/plain": [
       "<Figure size 432x288 with 1 Axes>"
      ]
     },
     "metadata": {
      "needs_background": "light",
      "tags": []
     },
     "output_type": "display_data"
    }
   ],
   "source": [
    "# تخطيط التعلّم \n",
    "import scikitplot as skplt\n",
    "\n",
    "skplt.estimators.plot_learning_curve(linRidge, X_train_scaled, y_train, scoring=\"r2\") # neg_mean_absolute_error\")"
   ]
  },
  {
   "cell_type": "code",
   "execution_count": null,
   "metadata": {
    "id": "CBV_LkeWaLdv"
   },
   "outputs": [],
   "source": []
  }
 ],
 "metadata": {
  "colab": {
   "authorship_tag": "ABX9TyPC5C1mJhHFroElmLxph3ZM",
   "collapsed_sections": [],
   "mount_file_id": "1KbvGHdg6_7VoOHDaQ8z8pM14RAdHJ4E9",
   "name": "12_Ridge.ipynb",
   "provenance": []
  },
  "kernelspec": {
   "display_name": "Python 3",
   "name": "python3"
  },
  "language_info": {
   "codemirror_mode": {
    "name": "ipython",
    "version": 3
   },
   "file_extension": ".py",
   "mimetype": "text/x-python",
   "name": "python",
   "nbconvert_exporter": "python",
   "pygments_lexer": "ipython3",
   "version": "3.12.1"
  }
 },
 "nbformat": 4,
 "nbformat_minor": 0
}
