{
 "cells": [
  {
   "cell_type": "code",
   "execution_count": null,
   "metadata": {
    "executionInfo": {
     "elapsed": 536,
     "status": "ok",
     "timestamp": 1739712063823,
     "user": {
      "displayName": "Math Hack",
      "userId": "13730440483455885359"
     },
     "user_tz": -180
    },
    "id": "w57bf3DLaMMi"
   },
   "outputs": [],
   "source": []
  },
  {
   "cell_type": "code",
   "execution_count": null,
   "metadata": {
    "executionInfo": {
     "elapsed": 354,
     "status": "ok",
     "timestamp": 1739712064762,
     "user": {
      "displayName": "Math Hack",
      "userId": "13730440483455885359"
     },
     "user_tz": -180
    },
    "id": "9eJqmuMfaMMm"
   },
   "outputs": [],
   "source": []
  },
  {
   "cell_type": "code",
   "execution_count": 1,
   "metadata": {
    "colab": {
     "base_uri": "https://localhost:8080/"
    },
    "executionInfo": {
     "elapsed": 5163,
     "status": "ok",
     "timestamp": 1739712069924,
     "user": {
      "displayName": "Math Hack",
      "userId": "13730440483455885359"
     },
     "user_tz": -180
    },
    "id": "fjRD1mtAaMMp",
    "outputId": "71a22ca3-5337-4d60-e820-d4f9771e464e"
   },
   "outputs": [
    {
     "data": {
      "text/plain": [
       "array([[0.0, 0.0, 1.0, ..., 1, 0, 7.25],\n",
       "       [1.0, 0.0, 0.0, ..., 1, 0, 71.2833],\n",
       "       [0.0, 0.0, 1.0, ..., 0, 0, 7.925],\n",
       "       ...,\n",
       "       [0.0, 0.0, 1.0, ..., 1, 2, 23.45],\n",
       "       [1.0, 0.0, 0.0, ..., 0, 0, 30.0],\n",
       "       [0.0, 0.0, 1.0, ..., 0, 0, 7.75]], dtype=object)"
      ]
     },
     "execution_count": 1,
     "metadata": {},
     "output_type": "execute_result"
    }
   ],
   "source": [
    "# Load Python Package\n",
    "import pandas as pd\n",
    "from sklearn.preprocessing import OneHotEncoder\n",
    "from sklearn.impute import SimpleImputer\n",
    "from sklearn.compose import make_column_transformer\n",
    "\n",
    "# Load data (loading Titanic dataset)\n",
    "data  = pd.read_csv('https://web.stanford.edu/class/archive/cs/cs109/cs109.1166/stuff/titanic.csv')\n",
    "# Make Transformer\n",
    "preprocessing = make_column_transformer(\n",
    "    (OneHotEncoder(), ['Pclass','Sex']),\n",
    "    (SimpleImputer(), ['Age']),\n",
    "    remainder='passthrough')\n",
    "\n",
    "# Fit-Transform data with transformer\n",
    "preprocessing.fit_transform(data)"
   ]
  },
  {
   "cell_type": "code",
   "execution_count": null,
   "metadata": {
    "executionInfo": {
     "elapsed": 4,
     "status": "ok",
     "timestamp": 1739712069924,
     "user": {
      "displayName": "Math Hack",
      "userId": "13730440483455885359"
     },
     "user_tz": -180
    },
    "id": "1bZGsRRjaMMr"
   },
   "outputs": [],
   "source": []
  },
  {
   "cell_type": "code",
   "execution_count": null,
   "metadata": {
    "executionInfo": {
     "elapsed": 3,
     "status": "ok",
     "timestamp": 1739712069924,
     "user": {
      "displayName": "Math Hack",
      "userId": "13730440483455885359"
     },
     "user_tz": -180
    },
    "id": "axoakchyaMMu"
   },
   "outputs": [],
   "source": []
  },
  {
   "cell_type": "code",
   "execution_count": 2,
   "metadata": {
    "colab": {
     "base_uri": "https://localhost:8080/"
    },
    "executionInfo": {
     "elapsed": 558,
     "status": "ok",
     "timestamp": 1739712070479,
     "user": {
      "displayName": "Math Hack",
      "userId": "13730440483455885359"
     },
     "user_tz": -180
    },
    "id": "3A2HkdE7aMMx",
    "outputId": "c6ef0e56-3224-466d-b4fe-c1f2f61f925c"
   },
   "outputs": [
    {
     "data": {
      "text/plain": [
       "<Compressed Sparse Row sparse matrix of dtype 'float64'\n",
       "\twith 3499 stored elements and shape (887, 893)>"
      ]
     },
     "execution_count": 2,
     "metadata": {},
     "output_type": "execute_result"
    }
   ],
   "source": [
    "# Load Python Package\n",
    "import pandas as pd\n",
    "from sklearn.preprocessing import OneHotEncoder\n",
    "from sklearn.impute import SimpleImputer\n",
    "from sklearn.compose import make_column_transformer\n",
    "from sklearn.compose import make_column_selector\n",
    "# Load data (loading Titanic dataset)\n",
    "data = pd.read_csv('https://web.stanford.edu/class/archive/cs/cs109/cs109.1166/stuff/titanic.csv')\n",
    "# Make Transformer\n",
    "preprocessing = make_column_transformer(\n",
    "    (OneHotEncoder(), make_column_selector(dtype_include='object')),\n",
    "    (SimpleImputer(), make_column_selector(dtype_include='int')),\n",
    "    remainder='drop'\n",
    ")\n",
    "\n",
    "# Fit-Transform data with transformer\n",
    "preprocessing.fit_transform(data)"
   ]
  },
  {
   "cell_type": "code",
   "execution_count": null,
   "metadata": {
    "executionInfo": {
     "elapsed": 3,
     "status": "ok",
     "timestamp": 1739712070479,
     "user": {
      "displayName": "Math Hack",
      "userId": "13730440483455885359"
     },
     "user_tz": -180
    },
    "id": "_j4X_qo_aMMz"
   },
   "outputs": [],
   "source": []
  },
  {
   "cell_type": "code",
   "execution_count": null,
   "metadata": {
    "executionInfo": {
     "elapsed": 2,
     "status": "ok",
     "timestamp": 1739712070479,
     "user": {
      "displayName": "Math Hack",
      "userId": "13730440483455885359"
     },
     "user_tz": -180
    },
    "id": "gRjdUJJ-aMM3"
   },
   "outputs": [],
   "source": []
  },
  {
   "cell_type": "code",
   "execution_count": 3,
   "metadata": {
    "colab": {
     "base_uri": "https://localhost:8080/"
    },
    "executionInfo": {
     "elapsed": 1204,
     "status": "ok",
     "timestamp": 1739712071681,
     "user": {
      "displayName": "Math Hack",
      "userId": "13730440483455885359"
     },
     "user_tz": -180
    },
    "id": "1SqWFOL1aMM5",
    "outputId": "dc0d6ecd-2da4-4c6e-a560-784224c5b167"
   },
   "outputs": [
    {
     "name": "stdout",
     "output_type": "stream",
     "text": [
      "Best score : 0.788396\n"
     ]
    }
   ],
   "source": [
    "# Load Python Package\n",
    "import pandas as pd\n",
    "from sklearn.preprocessing import OneHotEncoder, StandardScaler\n",
    "from sklearn.impute import SimpleImputer\n",
    "from sklearn.compose import make_column_transformer\n",
    "from sklearn.pipeline import make_pipeline\n",
    "from sklearn.tree import DecisionTreeClassifier\n",
    "from sklearn.model_selection import train_test_split\n",
    "# Load data (loading Titanic dataset)\n",
    "data = pd.read_csv('https://web.stanford.edu/class/archive/cs/cs109/cs109.1166/stuff/titanic.csv')\n",
    "# Set X and y\n",
    "X = data.drop('Survived',axis=1)\n",
    "y = data[['Survived']]\n",
    "# Split Train and Test\n",
    "X_train, X_test, y_train, y_test = train_test_split(X,y, test_size=0.33, random_state=42)\n",
    "# Set variables\n",
    "ohe = OneHotEncoder(handle_unknown='ignore', sparse_output=True)\n",
    "imputer = SimpleImputer(add_indicator=True)\n",
    "scaler = StandardScaler()\n",
    "clf = DecisionTreeClassifier()\n",
    "# Make Transformer\n",
    "preprocessing = make_column_transformer(\n",
    "(make_pipeline(imputer,scaler),['Age','Siblings/Spouses Aboard','Parents/Children Aboard','Fare'])\n",
    ",(ohe, ['Pclass','Sex','Name'])\n",
    ",remainder='passthrough')\n",
    "# Make pipeline\n",
    "pipe = make_pipeline(preprocessing, clf)\n",
    "# Fit model\n",
    "pipe.fit(X_train, y_train.values.ravel())\n",
    "print(\"Best score : %f\" % pipe.score(X_test, y_test.values.ravel()))"
   ]
  },
  {
   "cell_type": "code",
   "execution_count": null,
   "metadata": {
    "executionInfo": {
     "elapsed": 4,
     "status": "ok",
     "timestamp": 1739712071681,
     "user": {
      "displayName": "Math Hack",
      "userId": "13730440483455885359"
     },
     "user_tz": -180
    },
    "id": "Rw3nuhssaMM7"
   },
   "outputs": [],
   "source": []
  },
  {
   "cell_type": "code",
   "execution_count": null,
   "metadata": {
    "executionInfo": {
     "elapsed": 4,
     "status": "ok",
     "timestamp": 1739712071681,
     "user": {
      "displayName": "Math Hack",
      "userId": "13730440483455885359"
     },
     "user_tz": -180
    },
    "id": "9Anrc5UjaMM_"
   },
   "outputs": [],
   "source": []
  },
  {
   "cell_type": "code",
   "execution_count": 4,
   "metadata": {
    "colab": {
     "base_uri": "https://localhost:8080/"
    },
    "executionInfo": {
     "elapsed": 4,
     "status": "ok",
     "timestamp": 1739712071681,
     "user": {
      "displayName": "Math Hack",
      "userId": "13730440483455885359"
     },
     "user_tz": -180
    },
    "id": "QKOM2HSbaMNB",
    "outputId": "2168054c-a27c-49e4-9712-1e6b4eb0705f"
   },
   "outputs": [
    {
     "name": "stderr",
     "output_type": "stream",
     "text": [
      "/home/codespace/.local/lib/python3.12/site-packages/sklearn/experimental/enable_hist_gradient_boosting.py:19: UserWarning: Since version 1.0, it is not needed to import enable_hist_gradient_boosting anymore. HistGradientBoostingClassifier and HistGradientBoostingRegressor are now stable and can be normally imported from sklearn.ensemble.\n",
      "  warnings.warn(\n"
     ]
    }
   ],
   "source": [
    "# Load Python Package\n",
    "from sklearn.experimental import enable_iterative_imputer, enable_hist_gradient_boosting\n",
    "from sklearn.impute import SimpleImputer, IterativeImputer, KNNImputer"
   ]
  },
  {
   "cell_type": "code",
   "execution_count": 5,
   "metadata": {
    "colab": {
     "base_uri": "https://localhost:8080/"
    },
    "executionInfo": {
     "elapsed": 2135,
     "status": "ok",
     "timestamp": 1739712073813,
     "user": {
      "displayName": "Math Hack",
      "userId": "13730440483455885359"
     },
     "user_tz": -180
    },
    "id": "kv2Ma7ooaMND",
    "outputId": "8cbf333a-269f-4634-b533-d2b12006535e"
   },
   "outputs": [
    {
     "data": {
      "text/plain": [
       "np.float64(0.8264394083666604)"
      ]
     },
     "execution_count": 5,
     "metadata": {},
     "output_type": "execute_result"
    }
   ],
   "source": [
    "# Load Python Package\n",
    "import pandas as pd\n",
    "from sklearn.preprocessing import OneHotEncoder\n",
    "from sklearn.impute import SimpleImputer\n",
    "from sklearn.compose import make_column_transformer\n",
    "from sklearn.pipeline import make_pipeline\n",
    "from sklearn.tree import DecisionTreeClassifier\n",
    "from sklearn.model_selection import cross_val_score\n",
    "# Load data (loading Titanic dataset)\n",
    "data = pd.read_csv('https://web.stanford.edu/class/archive/cs/cs109/cs109.1166/stuff/titanic.csv')\n",
    "# Set X and y\n",
    "X = data.drop('Survived',axis=1)\n",
    "y = data[['Survived']]\n",
    "# Set variables\n",
    "ohe = OneHotEncoder(handle_unknown='ignore', sparse_output=True)\n",
    "imputer = SimpleImputer(add_indicator=True, )\n",
    "clf = DecisionTreeClassifier()\n",
    "# Make Transformer\n",
    "preprocessing = make_column_transformer(\n",
    "(make_pipeline(imputer),['Age','Siblings/Spouses Aboard','Parents/Children Aboard','Fare']),\n",
    "(ohe, ['Pclass','Sex','Name']),remainder='passthrough')\n",
    "# Make pipeline\n",
    "pipe = make_pipeline(preprocessing, clf)\n",
    "# Cross-validation\n",
    "cross_val_score(pipe, X, y, cv=5, scoring='accuracy').mean()"
   ]
  },
  {
   "cell_type": "code",
   "execution_count": null,
   "metadata": {
    "executionInfo": {
     "elapsed": 3,
     "status": "ok",
     "timestamp": 1739712073813,
     "user": {
      "displayName": "Math Hack",
      "userId": "13730440483455885359"
     },
     "user_tz": -180
    },
    "id": "x9_2jtk2aMNG"
   },
   "outputs": [],
   "source": []
  },
  {
   "cell_type": "code",
   "execution_count": null,
   "metadata": {
    "executionInfo": {
     "elapsed": 2,
     "status": "ok",
     "timestamp": 1739712073813,
     "user": {
      "displayName": "Math Hack",
      "userId": "13730440483455885359"
     },
     "user_tz": -180
    },
    "id": "rMQLqKg3aMNI"
   },
   "outputs": [],
   "source": []
  },
  {
   "cell_type": "code",
   "execution_count": 6,
   "metadata": {
    "colab": {
     "base_uri": "https://localhost:8080/"
    },
    "executionInfo": {
     "elapsed": 6129,
     "status": "ok",
     "timestamp": 1739712079940,
     "user": {
      "displayName": "Math Hack",
      "userId": "13730440483455885359"
     },
     "user_tz": -180
    },
    "id": "huU7c665aMNK",
    "outputId": "6ae2d8b7-a7b8-4a80-d03c-1bf38cdfd709"
   },
   "outputs": [
    {
     "name": "stdout",
     "output_type": "stream",
     "text": [
      "0.7868977337649972\n",
      "{'logisticregression__C': 0.3, 'logisticregression__max_iter': 200}\n"
     ]
    }
   ],
   "source": [
    "# Import Python Package\n",
    "import pandas as pd\n",
    "from sklearn.preprocessing import OneHotEncoder, StandardScaler\n",
    "from sklearn.impute import SimpleImputer\n",
    "from sklearn.compose import make_column_transformer\n",
    "from sklearn.pipeline import make_pipeline\n",
    "from sklearn.linear_model import LogisticRegression\n",
    "from sklearn.model_selection import GridSearchCV\n",
    "# Load data (loading Titanic dataset)\n",
    "data = pd.read_csv('https://web.stanford.edu/class/archive/cs/cs109/cs109.1166/stuff/titanic.csv')\n",
    "# Set X and y\n",
    "X = data.drop('Survived',axis=1)\n",
    "y = data[['Survived']]\n",
    "# Set variables\n",
    "clf = LogisticRegression()\n",
    "ohe = OneHotEncoder()\n",
    "scaler = StandardScaler()\n",
    "imputer = SimpleImputer()\n",
    "# Make Transformer\n",
    "preprocessing = make_column_transformer((make_pipeline(imputer,scaler),['Age','Siblings/Spouses Aboard','Parents/Children Aboard','Fare']),(ohe, ['Sex']),remainder='drop')\n",
    "# Make pipeline\n",
    "pipe = make_pipeline(preprocessing, clf)\n",
    "# Set params for Grid Search\n",
    "params = {}\n",
    "params['logisticregression__C'] = [0.1,0.2,0.3]\n",
    "params['logisticregression__max_iter'] = [200,500]\n",
    "# Run grid search\n",
    "grid = GridSearchCV(pipe, params, cv=5, scoring='accuracy')\n",
    "grid.fit(X,y.values.ravel())\n",
    "print(grid.best_score_)\n",
    "print(grid.best_params_)"
   ]
  },
  {
   "cell_type": "code",
   "execution_count": null,
   "metadata": {
    "executionInfo": {
     "elapsed": 3,
     "status": "ok",
     "timestamp": 1739712079940,
     "user": {
      "displayName": "Math Hack",
      "userId": "13730440483455885359"
     },
     "user_tz": -180
    },
    "id": "-UnhJvhbaMNM"
   },
   "outputs": [],
   "source": []
  },
  {
   "cell_type": "code",
   "execution_count": 7,
   "metadata": {
    "executionInfo": {
     "elapsed": 589,
     "status": "ok",
     "timestamp": 1739712080526,
     "user": {
      "displayName": "Math Hack",
      "userId": "13730440483455885359"
     },
     "user_tz": -180
    },
    "id": "5S3_LcM0aMNP"
   },
   "outputs": [],
   "source": [
    "# Import Python Package\n",
    "import pandas as pd\n",
    "from sklearn.model_selection import train_test_split\n",
    "# Load data (loading Titanic dataset)\n",
    "data = pd.read_csv('https://web.stanford.edu/class/archive/cs/cs109/cs109.1166/stuff/titanic.csv')\n",
    "# Set X and y\n",
    "X = data.drop('Survived',axis=1)\n",
    "y = data[['Survived']]\n",
    "# Split Train Test\n",
    "X_train, X_test, y_train, y_test = train_test_split(X, y, test_size=0.33, stratify=y)"
   ]
  },
  {
   "cell_type": "code",
   "execution_count": null,
   "metadata": {
    "executionInfo": {
     "elapsed": 3,
     "status": "ok",
     "timestamp": 1739712080527,
     "user": {
      "displayName": "Math Hack",
      "userId": "13730440483455885359"
     },
     "user_tz": -180
    },
    "id": "XtJce5V-aMNS"
   },
   "outputs": [],
   "source": []
  },
  {
   "cell_type": "code",
   "execution_count": 8,
   "metadata": {
    "colab": {
     "base_uri": "https://localhost:8080/"
    },
    "executionInfo": {
     "elapsed": 748,
     "status": "ok",
     "timestamp": 1739712081273,
     "user": {
      "displayName": "Math Hack",
      "userId": "13730440483455885359"
     },
     "user_tz": -180
    },
    "id": "sv7YKt8eaMNU",
    "outputId": "a77bd8d8-ae48-4c34-b52e-0ac4b0f9fa1d"
   },
   "outputs": [
    {
     "name": "stdout",
     "output_type": "stream",
     "text": [
      "(531, 7)\n",
      "(178, 7)\n",
      "(178, 7)\n"
     ]
    }
   ],
   "source": [
    "# Import Python Package\n",
    "import pandas as pd\n",
    "from sklearn.model_selection import train_test_split\n",
    "# Load data (loading Titanic dataset)\n",
    "data = pd.read_csv('https://web.stanford.edu/class/archive/cs/cs109/cs109.1166/stuff/titanic.csv')\n",
    "# Set X and y\n",
    "X = data.drop('Survived',axis=1)\n",
    "y = data[['Survived']]\n",
    "# Split Train, Val and Test\n",
    "X_train, X_test, y_train, y_test = train_test_split(X, y, test_size=0.2)\n",
    "X_train, X_val, y_train, y_val = train_test_split(X_train, y_train, test_size=0.25)\n",
    "# Print dataFrames size\n",
    "print(X_train.shape)\n",
    "print(X_val.shape)\n",
    "print(X_test.shape)"
   ]
  },
  {
   "cell_type": "code",
   "execution_count": null,
   "metadata": {
    "executionInfo": {
     "elapsed": 2,
     "status": "ok",
     "timestamp": 1739712081273,
     "user": {
      "displayName": "Math Hack",
      "userId": "13730440483455885359"
     },
     "user_tz": -180
    },
    "id": "uFNhz-f6aMNW"
   },
   "outputs": [],
   "source": []
  },
  {
   "cell_type": "code",
   "execution_count": 9,
   "metadata": {
    "colab": {
     "base_uri": "https://localhost:8080/"
    },
    "executionInfo": {
     "elapsed": 608,
     "status": "ok",
     "timestamp": 1739712081879,
     "user": {
      "displayName": "Math Hack",
      "userId": "13730440483455885359"
     },
     "user_tz": -180
    },
    "id": "WTNmTQjLaMNY",
    "outputId": "377dce62-6d53-4a8e-984f-05a7b1bef3ee"
   },
   "outputs": [
    {
     "data": {
      "text/plain": [
       "array([[22.0, 'mr. owen harris braund'],\n",
       "       [38.0, 'mrs. john bradley (florence briggs thayer) cumings'],\n",
       "       [26.0, 'miss. laina heikkinen'],\n",
       "       ...,\n",
       "       [7.0, 'miss. catherine helen johnston'],\n",
       "       [26.0, 'mr. karl howell behr'],\n",
       "       [32.0, 'mr. patrick dooley']], dtype=object)"
      ]
     },
     "execution_count": 9,
     "metadata": {},
     "output_type": "execute_result"
    }
   ],
   "source": [
    "# Import Python Package\n",
    "import pandas as pd\n",
    "from sklearn.model_selection import train_test_split\n",
    "from sklearn.impute import SimpleImputer\n",
    "from sklearn.preprocessing import FunctionTransformer\n",
    "from sklearn.compose import make_column_transformer\n",
    "from sklearn.pipeline import make_pipeline\n",
    "imputer = SimpleImputer()\n",
    "# Load data (loading Titanic dataset)\n",
    "data = pd.read_csv('https://web.stanford.edu/class/archive/cs/cs109/cs109.1166/stuff/titanic.csv')\n",
    "# Set X and y\n",
    "X = data.drop('Survived',axis=1)\n",
    "y = data[['Survived']]\n",
    "# Write function\n",
    "def lower_letter(df):\n",
    "   return df.apply(lambda x : x.str.lower())\n",
    "# Convert function\n",
    "get_lower_letter = FunctionTransformer(lower_letter)\n",
    "# Make Pipeline\n",
    "preprocess = make_column_transformer((imputer, ['Age']),(get_lower_letter,['Name']),remainder='drop')\n",
    "preprocess.fit_transform(X)"
   ]
  }
 ],
 "metadata": {
  "colab": {
   "provenance": []
  },
  "kernelspec": {
   "display_name": "Python 3",
   "language": "python",
   "name": "python3"
  },
  "language_info": {
   "codemirror_mode": {
    "name": "ipython",
    "version": 3
   },
   "file_extension": ".py",
   "mimetype": "text/x-python",
   "name": "python",
   "nbconvert_exporter": "python",
   "pygments_lexer": "ipython3",
   "version": "3.12.1"
  }
 },
 "nbformat": 4,
 "nbformat_minor": 0
}
