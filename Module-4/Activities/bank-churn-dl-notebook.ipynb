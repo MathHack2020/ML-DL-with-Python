{
 "cells": [
  {
   "cell_type": "markdown",
   "metadata": {
    "id": "xIiCGrLlRao5"
   },
   "source": [
    "# **Bank Churn Prediction - Deep Learning Neuron Network Model**\n",
    "## **Author: Sameer Khan**\n",
    "### **LinkedIn: [Sameer Khan](https://www.linkedin.com/in/sameer-khan-a68a211b2)**\n",
    "## **Project Overview**\n",
    "This project focuses on predicting customer churn in a bank using Deep learning models. The dataset contains various customer attributes, and the goal is to identify customers who are likely to leave the bank."
   ]
  },
  {
   "cell_type": "code",
   "execution_count": 1,
   "metadata": {
    "execution": {
     "iopub.execute_input": "2025-03-16T00:04:13.461385Z",
     "iopub.status.busy": "2025-03-16T00:04:13.461029Z",
     "iopub.status.idle": "2025-03-16T00:04:13.465728Z",
     "shell.execute_reply": "2025-03-16T00:04:13.464698Z",
     "shell.execute_reply.started": "2025-03-16T00:04:13.461359Z"
    },
    "executionInfo": {
     "elapsed": 81,
     "status": "ok",
     "timestamp": 1741865140953,
     "user": {
      "displayName": "ONLY 4 U",
      "userId": "10955013242325755559"
     },
     "user_tz": -330
    },
    "id": "baSC60mByPHx",
    "trusted": true
   },
   "outputs": [],
   "source": [
    "test_url = \"/kaggle/input/playground-series-s4e1/test.csv\"\n",
    "train_url =\"/kaggle/input/playground-series-s4e1/train.csv\"\n",
    "sample_submision = \"/kaggle/input/playground-series-s4e1/sample_submission.csv\""
   ]
  },
  {
   "cell_type": "markdown",
   "metadata": {
    "id": "n-f6uRR0y1QL"
   },
   "source": [
    "#Import Libraries"
   ]
  },
  {
   "cell_type": "code",
   "execution_count": 1,
   "metadata": {
    "execution": {
     "iopub.execute_input": "2025-03-16T00:04:13.467471Z",
     "iopub.status.busy": "2025-03-16T00:04:13.467131Z",
     "iopub.status.idle": "2025-03-16T00:04:16.780611Z",
     "shell.execute_reply": "2025-03-16T00:04:16.779640Z",
     "shell.execute_reply.started": "2025-03-16T00:04:13.467444Z"
    },
    "executionInfo": {
     "elapsed": 18,
     "status": "ok",
     "timestamp": 1741865140982,
     "user": {
      "displayName": "ONLY 4 U",
      "userId": "10955013242325755559"
     },
     "user_tz": -330
    },
    "id": "YWGNQ3B0yUuC",
    "trusted": true
   },
   "outputs": [],
   "source": [
    "import pandas as pd\n",
    "import numpy as np\n",
    "import seaborn as snb\n",
    "import matplotlib.pyplot as plt\n",
    "import plotly as px\n",
    "import warnings \n",
    "warnings.filterwarnings(\"ignore\")\n",
    "%matplotlib inline"
   ]
  },
  {
   "cell_type": "markdown",
   "metadata": {
    "id": "LjVO66I0y5Pb"
   },
   "source": [
    "# ML And DL Models"
   ]
  },
  {
   "cell_type": "code",
   "execution_count": 2,
   "metadata": {
    "execution": {
     "iopub.execute_input": "2025-03-16T00:04:16.782819Z",
     "iopub.status.busy": "2025-03-16T00:04:16.782305Z",
     "iopub.status.idle": "2025-03-16T00:04:34.443839Z",
     "shell.execute_reply": "2025-03-16T00:04:34.442855Z",
     "shell.execute_reply.started": "2025-03-16T00:04:16.782773Z"
    },
    "executionInfo": {
     "elapsed": 215,
     "status": "ok",
     "timestamp": 1741865141211,
     "user": {
      "displayName": "ONLY 4 U",
      "userId": "10955013242325755559"
     },
     "user_tz": -330
    },
    "id": "XcseUplpyhDC",
    "trusted": true
   },
   "outputs": [
    {
     "name": "stderr",
     "output_type": "stream",
     "text": [
      "2025-03-16 00:27:04.107730: I external/local_xla/xla/tsl/cuda/cudart_stub.cc:32] Could not find cuda drivers on your machine, GPU will not be used.\n",
      "2025-03-16 00:27:04.582620: I external/local_xla/xla/tsl/cuda/cudart_stub.cc:32] Could not find cuda drivers on your machine, GPU will not be used.\n",
      "2025-03-16 00:27:04.853033: E external/local_xla/xla/stream_executor/cuda/cuda_fft.cc:477] Unable to register cuFFT factory: Attempting to register factory for plugin cuFFT when one has already been registered\n",
      "WARNING: All log messages before absl::InitializeLog() is called are written to STDERR\n",
      "E0000 00:00:1742084825.220245    3201 cuda_dnn.cc:8310] Unable to register cuDNN factory: Attempting to register factory for plugin cuDNN when one has already been registered\n",
      "E0000 00:00:1742084825.307433    3201 cuda_blas.cc:1418] Unable to register cuBLAS factory: Attempting to register factory for plugin cuBLAS when one has already been registered\n",
      "2025-03-16 00:27:06.217740: I tensorflow/core/platform/cpu_feature_guard.cc:210] This TensorFlow binary is optimized to use available CPU instructions in performance-critical operations.\n",
      "To enable the following instructions: AVX2 FMA, in other operations, rebuild TensorFlow with the appropriate compiler flags.\n"
     ]
    }
   ],
   "source": [
    "\n",
    "from sklearn.preprocessing import LabelEncoder , StandardScaler\n",
    "from sklearn.model_selection import train_test_split\n",
    "from sklearn.feature_selection import mutual_info_classif\n",
    "from sklearn.metrics import accuracy_score , classification_report ,confusion_matrix\n",
    "from sklearn.ensemble import RandomForestClassifier\n",
    "from tensorflow.keras.models import Sequential\n",
    "from tensorflow.keras.layers import Dense , ReLU , Dropout\n",
    "from tensorflow.keras.optimizers import Adam\n",
    "import tensorflow as tf\n",
    "from tensorflow.keras.callbacks import EarlyStopping"
   ]
  },
  {
   "cell_type": "code",
   "execution_count": 3,
   "metadata": {
    "execution": {
     "iopub.execute_input": "2025-03-16T00:04:34.448578Z",
     "iopub.status.busy": "2025-03-16T00:04:34.448246Z",
     "iopub.status.idle": "2025-03-16T00:04:34.950447Z",
     "shell.execute_reply": "2025-03-16T00:04:34.949377Z",
     "shell.execute_reply.started": "2025-03-16T00:04:34.448553Z"
    },
    "executionInfo": {
     "elapsed": 10,
     "status": "ok",
     "timestamp": 1741865141231,
     "user": {
      "displayName": "ONLY 4 U",
      "userId": "10955013242325755559"
     },
     "user_tz": -330
    },
    "id": "Mvcuhga4AAD8",
    "trusted": true
   },
   "outputs": [],
   "source": [
    "\n",
    "data = pd.read_csv(\"../data/churn/train.csv\")"
   ]
  },
  {
   "cell_type": "code",
   "execution_count": 4,
   "metadata": {
    "execution": {
     "iopub.execute_input": "2025-03-16T00:04:34.952029Z",
     "iopub.status.busy": "2025-03-16T00:04:34.951629Z",
     "iopub.status.idle": "2025-03-16T00:04:34.987862Z",
     "shell.execute_reply": "2025-03-16T00:04:34.986736Z",
     "shell.execute_reply.started": "2025-03-16T00:04:34.951991Z"
    },
    "executionInfo": {
     "elapsed": 37,
     "status": "ok",
     "timestamp": 1741865141276,
     "user": {
      "displayName": "ONLY 4 U",
      "userId": "10955013242325755559"
     },
     "user_tz": -330
    },
    "id": "UQ0s5cESyw-0",
    "outputId": "3bdd43d6-6584-4a91-b006-f73d1370f217",
    "trusted": true
   },
   "outputs": [
    {
     "data": {
      "text/html": [
       "<div>\n",
       "<style scoped>\n",
       "    .dataframe tbody tr th:only-of-type {\n",
       "        vertical-align: middle;\n",
       "    }\n",
       "\n",
       "    .dataframe tbody tr th {\n",
       "        vertical-align: top;\n",
       "    }\n",
       "\n",
       "    .dataframe thead th {\n",
       "        text-align: right;\n",
       "    }\n",
       "</style>\n",
       "<table border=\"1\" class=\"dataframe\">\n",
       "  <thead>\n",
       "    <tr style=\"text-align: right;\">\n",
       "      <th></th>\n",
       "      <th>id</th>\n",
       "      <th>CustomerId</th>\n",
       "      <th>Surname</th>\n",
       "      <th>CreditScore</th>\n",
       "      <th>Geography</th>\n",
       "      <th>Gender</th>\n",
       "      <th>Age</th>\n",
       "      <th>Tenure</th>\n",
       "      <th>Balance</th>\n",
       "      <th>NumOfProducts</th>\n",
       "      <th>HasCrCard</th>\n",
       "      <th>IsActiveMember</th>\n",
       "      <th>EstimatedSalary</th>\n",
       "      <th>Exited</th>\n",
       "    </tr>\n",
       "  </thead>\n",
       "  <tbody>\n",
       "    <tr>\n",
       "      <th>0</th>\n",
       "      <td>0</td>\n",
       "      <td>15674932</td>\n",
       "      <td>Okwudilichukwu</td>\n",
       "      <td>668</td>\n",
       "      <td>France</td>\n",
       "      <td>Male</td>\n",
       "      <td>33.0</td>\n",
       "      <td>3</td>\n",
       "      <td>0.00</td>\n",
       "      <td>2</td>\n",
       "      <td>1.0</td>\n",
       "      <td>0.0</td>\n",
       "      <td>181449.97</td>\n",
       "      <td>0</td>\n",
       "    </tr>\n",
       "    <tr>\n",
       "      <th>1</th>\n",
       "      <td>1</td>\n",
       "      <td>15749177</td>\n",
       "      <td>Okwudiliolisa</td>\n",
       "      <td>627</td>\n",
       "      <td>France</td>\n",
       "      <td>Male</td>\n",
       "      <td>33.0</td>\n",
       "      <td>1</td>\n",
       "      <td>0.00</td>\n",
       "      <td>2</td>\n",
       "      <td>1.0</td>\n",
       "      <td>1.0</td>\n",
       "      <td>49503.50</td>\n",
       "      <td>0</td>\n",
       "    </tr>\n",
       "    <tr>\n",
       "      <th>2</th>\n",
       "      <td>2</td>\n",
       "      <td>15694510</td>\n",
       "      <td>Hsueh</td>\n",
       "      <td>678</td>\n",
       "      <td>France</td>\n",
       "      <td>Male</td>\n",
       "      <td>40.0</td>\n",
       "      <td>10</td>\n",
       "      <td>0.00</td>\n",
       "      <td>2</td>\n",
       "      <td>1.0</td>\n",
       "      <td>0.0</td>\n",
       "      <td>184866.69</td>\n",
       "      <td>0</td>\n",
       "    </tr>\n",
       "    <tr>\n",
       "      <th>3</th>\n",
       "      <td>3</td>\n",
       "      <td>15741417</td>\n",
       "      <td>Kao</td>\n",
       "      <td>581</td>\n",
       "      <td>France</td>\n",
       "      <td>Male</td>\n",
       "      <td>34.0</td>\n",
       "      <td>2</td>\n",
       "      <td>148882.54</td>\n",
       "      <td>1</td>\n",
       "      <td>1.0</td>\n",
       "      <td>1.0</td>\n",
       "      <td>84560.88</td>\n",
       "      <td>0</td>\n",
       "    </tr>\n",
       "    <tr>\n",
       "      <th>4</th>\n",
       "      <td>4</td>\n",
       "      <td>15766172</td>\n",
       "      <td>Chiemenam</td>\n",
       "      <td>716</td>\n",
       "      <td>Spain</td>\n",
       "      <td>Male</td>\n",
       "      <td>33.0</td>\n",
       "      <td>5</td>\n",
       "      <td>0.00</td>\n",
       "      <td>2</td>\n",
       "      <td>1.0</td>\n",
       "      <td>1.0</td>\n",
       "      <td>15068.83</td>\n",
       "      <td>0</td>\n",
       "    </tr>\n",
       "  </tbody>\n",
       "</table>\n",
       "</div>"
      ],
      "text/plain": [
       "   id  CustomerId         Surname  CreditScore Geography Gender   Age  Tenure  \\\n",
       "0   0    15674932  Okwudilichukwu          668    France   Male  33.0       3   \n",
       "1   1    15749177   Okwudiliolisa          627    France   Male  33.0       1   \n",
       "2   2    15694510           Hsueh          678    France   Male  40.0      10   \n",
       "3   3    15741417             Kao          581    France   Male  34.0       2   \n",
       "4   4    15766172       Chiemenam          716     Spain   Male  33.0       5   \n",
       "\n",
       "     Balance  NumOfProducts  HasCrCard  IsActiveMember  EstimatedSalary  \\\n",
       "0       0.00              2        1.0             0.0        181449.97   \n",
       "1       0.00              2        1.0             1.0         49503.50   \n",
       "2       0.00              2        1.0             0.0        184866.69   \n",
       "3  148882.54              1        1.0             1.0         84560.88   \n",
       "4       0.00              2        1.0             1.0         15068.83   \n",
       "\n",
       "   Exited  \n",
       "0       0  \n",
       "1       0  \n",
       "2       0  \n",
       "3       0  \n",
       "4       0  "
      ]
     },
     "execution_count": 4,
     "metadata": {},
     "output_type": "execute_result"
    }
   ],
   "source": [
    "\n",
    "data.head()"
   ]
  },
  {
   "cell_type": "markdown",
   "metadata": {
    "id": "SlUzF5rDz07k"
   },
   "source": [
    "#Describtive Analysis"
   ]
  },
  {
   "cell_type": "code",
   "execution_count": 5,
   "metadata": {
    "execution": {
     "iopub.execute_input": "2025-03-16T00:04:39.688156Z",
     "iopub.status.busy": "2025-03-16T00:04:39.687818Z",
     "iopub.status.idle": "2025-03-16T00:04:39.749694Z",
     "shell.execute_reply": "2025-03-16T00:04:39.748717Z",
     "shell.execute_reply.started": "2025-03-16T00:04:39.688129Z"
    },
    "executionInfo": {
     "elapsed": 124,
     "status": "ok",
     "timestamp": 1741865141389,
     "user": {
      "displayName": "ONLY 4 U",
      "userId": "10955013242325755559"
     },
     "user_tz": -330
    },
    "id": "aU2G_Nw4z9pD",
    "outputId": "34e264ee-f40d-487a-cd02-855e06aeec6c",
    "trusted": true
   },
   "outputs": [
    {
     "name": "stdout",
     "output_type": "stream",
     "text": [
      "<class 'pandas.core.frame.DataFrame'>\n",
      "RangeIndex: 165034 entries, 0 to 165033\n",
      "Data columns (total 14 columns):\n",
      " #   Column           Non-Null Count   Dtype  \n",
      "---  ------           --------------   -----  \n",
      " 0   id               165034 non-null  int64  \n",
      " 1   CustomerId       165034 non-null  int64  \n",
      " 2   Surname          165034 non-null  object \n",
      " 3   CreditScore      165034 non-null  int64  \n",
      " 4   Geography        165034 non-null  object \n",
      " 5   Gender           165034 non-null  object \n",
      " 6   Age              165034 non-null  float64\n",
      " 7   Tenure           165034 non-null  int64  \n",
      " 8   Balance          165034 non-null  float64\n",
      " 9   NumOfProducts    165034 non-null  int64  \n",
      " 10  HasCrCard        165034 non-null  float64\n",
      " 11  IsActiveMember   165034 non-null  float64\n",
      " 12  EstimatedSalary  165034 non-null  float64\n",
      " 13  Exited           165034 non-null  int64  \n",
      "dtypes: float64(5), int64(6), object(3)\n",
      "memory usage: 17.6+ MB\n"
     ]
    }
   ],
   "source": [
    "data.info()"
   ]
  },
  {
   "cell_type": "code",
   "execution_count": 6,
   "metadata": {
    "execution": {
     "iopub.execute_input": "2025-03-16T00:04:41.203709Z",
     "iopub.status.busy": "2025-03-16T00:04:41.203378Z",
     "iopub.status.idle": "2025-03-16T00:04:41.240870Z",
     "shell.execute_reply": "2025-03-16T00:04:41.240046Z",
     "shell.execute_reply.started": "2025-03-16T00:04:41.203684Z"
    },
    "executionInfo": {
     "elapsed": 43,
     "status": "ok",
     "timestamp": 1741865141421,
     "user": {
      "displayName": "ONLY 4 U",
      "userId": "10955013242325755559"
     },
     "user_tz": -330
    },
    "id": "L7sodeikzwRG",
    "outputId": "929cdacc-3f5d-41ea-c0f8-ca6a6d62f7c6",
    "trusted": true
   },
   "outputs": [
    {
     "data": {
      "text/plain": [
       "id                 0\n",
       "CustomerId         0\n",
       "Surname            0\n",
       "CreditScore        0\n",
       "Geography          0\n",
       "Gender             0\n",
       "Age                0\n",
       "Tenure             0\n",
       "Balance            0\n",
       "NumOfProducts      0\n",
       "HasCrCard          0\n",
       "IsActiveMember     0\n",
       "EstimatedSalary    0\n",
       "Exited             0\n",
       "dtype: int64"
      ]
     },
     "execution_count": 6,
     "metadata": {},
     "output_type": "execute_result"
    }
   ],
   "source": [
    "data.isnull().sum()"
   ]
  },
  {
   "cell_type": "code",
   "execution_count": 7,
   "metadata": {
    "execution": {
     "iopub.execute_input": "2025-03-16T00:04:46.908660Z",
     "iopub.status.busy": "2025-03-16T00:04:46.908243Z",
     "iopub.status.idle": "2025-03-16T00:04:46.992816Z",
     "shell.execute_reply": "2025-03-16T00:04:46.991876Z",
     "shell.execute_reply.started": "2025-03-16T00:04:46.908628Z"
    },
    "executionInfo": {
     "elapsed": 53,
     "status": "ok",
     "timestamp": 1741865141464,
     "user": {
      "displayName": "ONLY 4 U",
      "userId": "10955013242325755559"
     },
     "user_tz": -330
    },
    "id": "pWQJMPuHz0fa",
    "outputId": "3f8733b4-5d75-4c53-a183-5317b0b272b7",
    "trusted": true
   },
   "outputs": [
    {
     "data": {
      "text/plain": [
       "np.int64(0)"
      ]
     },
     "execution_count": 7,
     "metadata": {},
     "output_type": "execute_result"
    }
   ],
   "source": [
    "data.duplicated().sum()"
   ]
  },
  {
   "cell_type": "code",
   "execution_count": 8,
   "metadata": {
    "execution": {
     "iopub.execute_input": "2025-03-16T00:04:48.278389Z",
     "iopub.status.busy": "2025-03-16T00:04:48.277994Z",
     "iopub.status.idle": "2025-03-16T00:04:48.570538Z",
     "shell.execute_reply": "2025-03-16T00:04:48.569508Z",
     "shell.execute_reply.started": "2025-03-16T00:04:48.278356Z"
    },
    "executionInfo": {
     "elapsed": 144,
     "status": "ok",
     "timestamp": 1741865141599,
     "user": {
      "displayName": "ONLY 4 U",
      "userId": "10955013242325755559"
     },
     "user_tz": -330
    },
    "id": "9qcjBHyN0C7_",
    "outputId": "99f53799-78fc-4cbb-cf04-3d05097a4572",
    "trusted": true
   },
   "outputs": [
    {
     "data": {
      "text/html": [
       "<div>\n",
       "<style scoped>\n",
       "    .dataframe tbody tr th:only-of-type {\n",
       "        vertical-align: middle;\n",
       "    }\n",
       "\n",
       "    .dataframe tbody tr th {\n",
       "        vertical-align: top;\n",
       "    }\n",
       "\n",
       "    .dataframe thead th {\n",
       "        text-align: right;\n",
       "    }\n",
       "</style>\n",
       "<table border=\"1\" class=\"dataframe\">\n",
       "  <thead>\n",
       "    <tr style=\"text-align: right;\">\n",
       "      <th></th>\n",
       "      <th>Column</th>\n",
       "      <th>Count</th>\n",
       "      <th>Unique</th>\n",
       "      <th>Null</th>\n",
       "      <th>% Unique</th>\n",
       "      <th>Min</th>\n",
       "      <th>Max</th>\n",
       "    </tr>\n",
       "  </thead>\n",
       "  <tbody>\n",
       "    <tr>\n",
       "      <th>5</th>\n",
       "      <td>Gender</td>\n",
       "      <td>165034</td>\n",
       "      <td>2</td>\n",
       "      <td>0</td>\n",
       "      <td>0.00</td>\n",
       "      <td>Female</td>\n",
       "      <td>Male</td>\n",
       "    </tr>\n",
       "    <tr>\n",
       "      <th>13</th>\n",
       "      <td>Exited</td>\n",
       "      <td>165034</td>\n",
       "      <td>2</td>\n",
       "      <td>0</td>\n",
       "      <td>0.00</td>\n",
       "      <td>0</td>\n",
       "      <td>1</td>\n",
       "    </tr>\n",
       "    <tr>\n",
       "      <th>10</th>\n",
       "      <td>HasCrCard</td>\n",
       "      <td>165034</td>\n",
       "      <td>2</td>\n",
       "      <td>0</td>\n",
       "      <td>0.00</td>\n",
       "      <td>0.0</td>\n",
       "      <td>1.0</td>\n",
       "    </tr>\n",
       "    <tr>\n",
       "      <th>11</th>\n",
       "      <td>IsActiveMember</td>\n",
       "      <td>165034</td>\n",
       "      <td>2</td>\n",
       "      <td>0</td>\n",
       "      <td>0.00</td>\n",
       "      <td>0.0</td>\n",
       "      <td>1.0</td>\n",
       "    </tr>\n",
       "    <tr>\n",
       "      <th>4</th>\n",
       "      <td>Geography</td>\n",
       "      <td>165034</td>\n",
       "      <td>3</td>\n",
       "      <td>0</td>\n",
       "      <td>0.00</td>\n",
       "      <td>France</td>\n",
       "      <td>Spain</td>\n",
       "    </tr>\n",
       "    <tr>\n",
       "      <th>9</th>\n",
       "      <td>NumOfProducts</td>\n",
       "      <td>165034</td>\n",
       "      <td>4</td>\n",
       "      <td>0</td>\n",
       "      <td>0.00</td>\n",
       "      <td>1</td>\n",
       "      <td>4</td>\n",
       "    </tr>\n",
       "    <tr>\n",
       "      <th>7</th>\n",
       "      <td>Tenure</td>\n",
       "      <td>165034</td>\n",
       "      <td>11</td>\n",
       "      <td>0</td>\n",
       "      <td>0.01</td>\n",
       "      <td>0</td>\n",
       "      <td>10</td>\n",
       "    </tr>\n",
       "    <tr>\n",
       "      <th>6</th>\n",
       "      <td>Age</td>\n",
       "      <td>165034</td>\n",
       "      <td>71</td>\n",
       "      <td>0</td>\n",
       "      <td>0.04</td>\n",
       "      <td>18.0</td>\n",
       "      <td>92.0</td>\n",
       "    </tr>\n",
       "    <tr>\n",
       "      <th>3</th>\n",
       "      <td>CreditScore</td>\n",
       "      <td>165034</td>\n",
       "      <td>457</td>\n",
       "      <td>0</td>\n",
       "      <td>0.28</td>\n",
       "      <td>350</td>\n",
       "      <td>850</td>\n",
       "    </tr>\n",
       "    <tr>\n",
       "      <th>2</th>\n",
       "      <td>Surname</td>\n",
       "      <td>165034</td>\n",
       "      <td>2797</td>\n",
       "      <td>0</td>\n",
       "      <td>1.69</td>\n",
       "      <td>Abazu</td>\n",
       "      <td>Zuyeva</td>\n",
       "    </tr>\n",
       "    <tr>\n",
       "      <th>1</th>\n",
       "      <td>CustomerId</td>\n",
       "      <td>165034</td>\n",
       "      <td>23221</td>\n",
       "      <td>0</td>\n",
       "      <td>14.07</td>\n",
       "      <td>15565701</td>\n",
       "      <td>15815690</td>\n",
       "    </tr>\n",
       "    <tr>\n",
       "      <th>8</th>\n",
       "      <td>Balance</td>\n",
       "      <td>165034</td>\n",
       "      <td>30075</td>\n",
       "      <td>0</td>\n",
       "      <td>18.22</td>\n",
       "      <td>0.0</td>\n",
       "      <td>250898.09</td>\n",
       "    </tr>\n",
       "    <tr>\n",
       "      <th>12</th>\n",
       "      <td>EstimatedSalary</td>\n",
       "      <td>165034</td>\n",
       "      <td>55298</td>\n",
       "      <td>0</td>\n",
       "      <td>33.51</td>\n",
       "      <td>11.58</td>\n",
       "      <td>199992.48</td>\n",
       "    </tr>\n",
       "    <tr>\n",
       "      <th>0</th>\n",
       "      <td>id</td>\n",
       "      <td>165034</td>\n",
       "      <td>165034</td>\n",
       "      <td>0</td>\n",
       "      <td>100.00</td>\n",
       "      <td>0</td>\n",
       "      <td>165033</td>\n",
       "    </tr>\n",
       "  </tbody>\n",
       "</table>\n",
       "</div>"
      ],
      "text/plain": [
       "             Column   Count  Unique  Null  % Unique       Min        Max\n",
       "5            Gender  165034       2     0      0.00    Female       Male\n",
       "13           Exited  165034       2     0      0.00         0          1\n",
       "10        HasCrCard  165034       2     0      0.00       0.0        1.0\n",
       "11   IsActiveMember  165034       2     0      0.00       0.0        1.0\n",
       "4         Geography  165034       3     0      0.00    France      Spain\n",
       "9     NumOfProducts  165034       4     0      0.00         1          4\n",
       "7            Tenure  165034      11     0      0.01         0         10\n",
       "6               Age  165034      71     0      0.04      18.0       92.0\n",
       "3       CreditScore  165034     457     0      0.28       350        850\n",
       "2           Surname  165034    2797     0      1.69     Abazu     Zuyeva\n",
       "1        CustomerId  165034   23221     0     14.07  15565701   15815690\n",
       "8           Balance  165034   30075     0     18.22       0.0  250898.09\n",
       "12  EstimatedSalary  165034   55298     0     33.51     11.58  199992.48\n",
       "0                id  165034  165034     0    100.00         0     165033"
      ]
     },
     "execution_count": 8,
     "metadata": {},
     "output_type": "execute_result"
    }
   ],
   "source": [
    "desc = pd.DataFrame()\n",
    "desc[\"Column\"] = data.columns\n",
    "desc[\"Count\"] = data.count().values\n",
    "desc[\"Unique\"] = data.nunique().values\n",
    "desc[\"Null\"] = data.isnull().sum().values\n",
    "desc[\"% Unique\"] = round(data.nunique() / len(data)*100,2).values\n",
    "desc[\"Min\"] = data.min().values\n",
    "desc[\"Max\"] = data.max().values\n",
    "#desc[\"Mean\"] = data.mean().values\n",
    "desc.sort_values(by= \"Unique\",ascending=True)"
   ]
  },
  {
   "cell_type": "markdown",
   "metadata": {
    "id": "n_9slo7Q1qEU"
   },
   "source": [
    "#Preprocessing"
   ]
  },
  {
   "cell_type": "markdown",
   "metadata": {
    "id": "mfxhmUYO4e25"
   },
   "source": [
    "## Drop Columns"
   ]
  },
  {
   "cell_type": "code",
   "execution_count": 9,
   "metadata": {
    "execution": {
     "iopub.execute_input": "2025-03-16T00:05:10.648494Z",
     "iopub.status.busy": "2025-03-16T00:05:10.648044Z",
     "iopub.status.idle": "2025-03-16T00:05:10.658598Z",
     "shell.execute_reply": "2025-03-16T00:05:10.657234Z",
     "shell.execute_reply.started": "2025-03-16T00:05:10.648451Z"
    },
    "executionInfo": {
     "elapsed": 10,
     "status": "ok",
     "timestamp": 1741865141613,
     "user": {
      "displayName": "ONLY 4 U",
      "userId": "10955013242325755559"
     },
     "user_tz": -330
    },
    "id": "5WIbYTHH4hFq",
    "trusted": true
   },
   "outputs": [],
   "source": [
    "data.drop([\"Surname\",\"CustomerId\",\"id\"] , inplace = True , axis = 1)"
   ]
  },
  {
   "cell_type": "markdown",
   "metadata": {
    "id": "rj01-O8O4w5t"
   },
   "source": [
    "## Distribution"
   ]
  },
  {
   "cell_type": "code",
   "execution_count": 10,
   "metadata": {
    "execution": {
     "iopub.execute_input": "2025-03-16T00:05:14.008764Z",
     "iopub.status.busy": "2025-03-16T00:05:14.008404Z",
     "iopub.status.idle": "2025-03-16T00:05:15.366684Z",
     "shell.execute_reply": "2025-03-16T00:05:15.365626Z",
     "shell.execute_reply.started": "2025-03-16T00:05:14.008737Z"
    },
    "executionInfo": {
     "elapsed": 698,
     "status": "ok",
     "timestamp": 1741865142320,
     "user": {
      "displayName": "ONLY 4 U",
      "userId": "10955013242325755559"
     },
     "user_tz": -330
    },
    "id": "J3lUuRPs4ybZ",
    "outputId": "181efa40-03f2-4507-e9c6-e1d404596870",
    "trusted": true
   },
   "outputs": [
    {
     "data": {
      "text/plain": [
       "<Axes: xlabel='Age', ylabel='Count'>"
      ]
     },
     "execution_count": 10,
     "metadata": {},
     "output_type": "execute_result"
    },
    {
     "data": {
      "image/png": "[encoded data removed]",
      "text/plain": [
       "<Figure size 640x480 with 1 Axes>"
      ]
     },
     "metadata": {},
     "output_type": "display_data"
    }
   ],
   "source": [
    "snb.histplot(data[\"Age\"], kde = True , color = \"green\")"
   ]
  },
  {
   "cell_type": "code",
   "execution_count": 12,
   "metadata": {
    "execution": {
     "iopub.execute_input": "2025-03-16T00:05:33.074118Z",
     "iopub.status.busy": "2025-03-16T00:05:33.073789Z",
     "iopub.status.idle": "2025-03-16T00:05:34.167029Z",
     "shell.execute_reply": "2025-03-16T00:05:34.165883Z",
     "shell.execute_reply.started": "2025-03-16T00:05:33.074093Z"
    },
    "executionInfo": {
     "elapsed": 1164,
     "status": "ok",
     "timestamp": 1741865143488,
     "user": {
      "displayName": "ONLY 4 U",
      "userId": "10955013242325755559"
     },
     "user_tz": -330
    },
    "id": "CG0vTlC85RCL",
    "outputId": "eedddf4e-13d5-4f8d-88b4-52bd005e57ac",
    "trusted": true
   },
   "outputs": [
    {
     "data": {
      "image/png": "[encoded data removed]",
      "text/plain": [
       "<Figure size 640x480 with 1 Axes>"
      ]
     },
     "metadata": {},
     "output_type": "display_data"
    }
   ],
   "source": [
    "_= snb.histplot(data[\"CreditScore\"] , kde = True , color = \"green\")"
   ]
  },
  {
   "cell_type": "markdown",
   "metadata": {
    "id": "RPOM6FA55h7_"
   },
   "source": [
    "## Feature Engineering\n",
    "![](../../imgs/featureEngin.png)"
   ]
  },
  {
   "cell_type": "code",
   "execution_count": 13,
   "metadata": {
    "execution": {
     "iopub.execute_input": "2025-03-16T00:05:42.568623Z",
     "iopub.status.busy": "2025-03-16T00:05:42.568215Z",
     "iopub.status.idle": "2025-03-16T00:05:42.583174Z",
     "shell.execute_reply": "2025-03-16T00:05:42.581862Z",
     "shell.execute_reply.started": "2025-03-16T00:05:42.568595Z"
    },
    "executionInfo": {
     "elapsed": 21,
     "status": "ok",
     "timestamp": 1741865143514,
     "user": {
      "displayName": "ONLY 4 U",
      "userId": "10955013242325755559"
     },
     "user_tz": -330
    },
    "id": "ARmerhB35j7f",
    "trusted": true
   },
   "outputs": [],
   "source": [
    "data[\"F_CreditScore\"] = pd.cut(data[\"CreditScore\"],bins = [300,500,700,800,900] , labels = [\"Low\", \"Moderate\",\"High\",\"Best\"] )"
   ]
  },
  {
   "cell_type": "code",
   "execution_count": 14,
   "metadata": {
    "execution": {
     "iopub.execute_input": "2025-03-16T00:06:05.248265Z",
     "iopub.status.busy": "2025-03-16T00:06:05.247864Z",
     "iopub.status.idle": "2025-03-16T00:06:05.252417Z",
     "shell.execute_reply": "2025-03-16T00:06:05.251396Z",
     "shell.execute_reply.started": "2025-03-16T00:06:05.248233Z"
    },
    "executionInfo": {
     "elapsed": 22,
     "status": "ok",
     "timestamp": 1741865143525,
     "user": {
      "displayName": "ONLY 4 U",
      "userId": "10955013242325755559"
     },
     "user_tz": -330
    },
    "id": "uWzld2c46aZl",
    "trusted": true
   },
   "outputs": [],
   "source": [
    "#data[\"F_Age\"] = pd.cut(data[\"Age\"] , bins = [18,30,50,80] , labels = [\"Young\",\"Seniors\" , \"Old\"])"
   ]
  },
  {
   "cell_type": "code",
   "execution_count": 15,
   "metadata": {
    "execution": {
     "iopub.execute_input": "2025-03-16T00:06:05.508458Z",
     "iopub.status.busy": "2025-03-16T00:06:05.508059Z",
     "iopub.status.idle": "2025-03-16T00:06:05.512499Z",
     "shell.execute_reply": "2025-03-16T00:06:05.511345Z",
     "shell.execute_reply.started": "2025-03-16T00:06:05.508426Z"
    },
    "executionInfo": {
     "elapsed": 11,
     "status": "ok",
     "timestamp": 1741865143546,
     "user": {
      "displayName": "ONLY 4 U",
      "userId": "10955013242325755559"
     },
     "user_tz": -330
    },
    "id": "zQd6IaXd7AgI",
    "trusted": true
   },
   "outputs": [],
   "source": [
    "#data[\"Balance\"] = np.log1p(data[\"Balance\"])"
   ]
  },
  {
   "cell_type": "code",
   "execution_count": 16,
   "metadata": {
    "execution": {
     "iopub.execute_input": "2025-03-16T00:06:05.723425Z",
     "iopub.status.busy": "2025-03-16T00:06:05.723051Z",
     "iopub.status.idle": "2025-03-16T00:06:05.727726Z",
     "shell.execute_reply": "2025-03-16T00:06:05.726380Z",
     "shell.execute_reply.started": "2025-03-16T00:06:05.723396Z"
    },
    "executionInfo": {
     "elapsed": 11,
     "status": "ok",
     "timestamp": 1741865143565,
     "user": {
      "displayName": "ONLY 4 U",
      "userId": "10955013242325755559"
     },
     "user_tz": -330
    },
    "id": "r4UgMQUP8HQM",
    "trusted": true
   },
   "outputs": [],
   "source": [
    "#data[\"EstimatedSalary\"] = np.log1p(data[\"EstimatedSalary\"])"
   ]
  },
  {
   "cell_type": "markdown",
   "metadata": {
    "id": "rmecwy_n9mCt"
   },
   "source": [
    "##Label Encoding"
   ]
  },
  {
   "cell_type": "code",
   "execution_count": 17,
   "metadata": {
    "execution": {
     "iopub.execute_input": "2025-03-16T00:06:06.713599Z",
     "iopub.status.busy": "2025-03-16T00:06:06.713182Z",
     "iopub.status.idle": "2025-03-16T00:06:06.825217Z",
     "shell.execute_reply": "2025-03-16T00:06:06.824236Z",
     "shell.execute_reply.started": "2025-03-16T00:06:06.713569Z"
    },
    "executionInfo": {
     "elapsed": 117,
     "status": "ok",
     "timestamp": 1741865143817,
     "user": {
      "displayName": "ONLY 4 U",
      "userId": "10955013242325755559"
     },
     "user_tz": -330
    },
    "id": "ObNQ5KlC9Lfd",
    "trusted": true
   },
   "outputs": [],
   "source": [
    "# Initialize dictionary to store encoders for each column\n",
    "encoders = {}\n",
    "\n",
    "# Train Data Encoding\n",
    "for col in data.select_dtypes(include=[\"object\", \"category\"]):\n",
    "    le = LabelEncoder()\n",
    "    data[col] = le.fit_transform(data[col])  # ✅ Fit only once on train data\n",
    "    encoders[col] = le"
   ]
  },
  {
   "cell_type": "markdown",
   "metadata": {
    "id": "nSFAME98-ooA"
   },
   "source": [
    "## Select Best Features"
   ]
  },
  {
   "cell_type": "code",
   "execution_count": 18,
   "metadata": {
    "execution": {
     "iopub.execute_input": "2025-03-16T00:06:21.044328Z",
     "iopub.status.busy": "2025-03-16T00:06:21.043926Z",
     "iopub.status.idle": "2025-03-16T00:06:21.058939Z",
     "shell.execute_reply": "2025-03-16T00:06:21.057656Z",
     "shell.execute_reply.started": "2025-03-16T00:06:21.044256Z"
    },
    "executionInfo": {
     "elapsed": 68,
     "status": "ok",
     "timestamp": 1741865143896,
     "user": {
      "displayName": "ONLY 4 U",
      "userId": "10955013242325755559"
     },
     "user_tz": -330
    },
    "id": "FktneKej-qu9",
    "trusted": true
   },
   "outputs": [],
   "source": [
    "# Select X And Y Feature\n",
    "x = data.drop(\"Exited\" , axis = 1) # Feature\n",
    "y = data.Exited # Target"
   ]
  },
  {
   "cell_type": "code",
   "execution_count": 19,
   "metadata": {
    "execution": {
     "iopub.execute_input": "2025-03-16T00:08:00.069129Z",
     "iopub.status.busy": "2025-03-16T00:08:00.068806Z",
     "iopub.status.idle": "2025-03-16T00:08:11.686228Z",
     "shell.execute_reply": "2025-03-16T00:08:11.685175Z",
     "shell.execute_reply.started": "2025-03-16T00:08:00.069105Z"
    },
    "executionInfo": {
     "elapsed": 16721,
     "status": "ok",
     "timestamp": 1741865160609,
     "user": {
      "displayName": "ONLY 4 U",
      "userId": "10955013242325755559"
     },
     "user_tz": -330
    },
    "id": "AJjvEU8M_W2z",
    "outputId": "60ff5a0b-7128-445e-fa34-be907233a7f0",
    "trusted": true
   },
   "outputs": [
    {
     "name": "stdout",
     "output_type": "stream",
     "text": [
      "CPU times: user 3 μs, sys: 0 ns, total: 3 μs\n",
      "Wall time: 5.48 μs\n"
     ]
    }
   ],
   "source": [
    "\n",
    "%time\n",
    "mi_score = mutual_info_classif(x,y)\n",
    "mi_score = pd.DataFrame({\"Features\":x.columns , \"Mi Score\" : mi_score})\n",
    "mi_score_sort = mi_score.sort_values(by = \"Mi Score\" , ascending = False)"
   ]
  },
  {
   "cell_type": "code",
   "execution_count": 20,
   "metadata": {
    "execution": {
     "iopub.execute_input": "2025-03-16T00:08:11.687888Z",
     "iopub.status.busy": "2025-03-16T00:08:11.687591Z",
     "iopub.status.idle": "2025-03-16T00:08:11.984456Z",
     "shell.execute_reply": "2025-03-16T00:08:11.983413Z",
     "shell.execute_reply.started": "2025-03-16T00:08:11.687854Z"
    },
    "executionInfo": {
     "elapsed": 775,
     "status": "ok",
     "timestamp": 1741865161342,
     "user": {
      "displayName": "ONLY 4 U",
      "userId": "10955013242325755559"
     },
     "user_tz": -330
    },
    "id": "EOzzbwYF_9Gw",
    "outputId": "dd01bcbe-81f0-402f-974d-0f728db1317e",
    "trusted": true
   },
   "outputs": [
    {
     "name": "stdout",
     "output_type": "stream",
     "text": [
      "CPU times: user 3 μs, sys: 0 ns, total: 3 μs\n",
      "Wall time: 5.72 μs\n"
     ]
    },
    {
     "data": {
      "image/png": "[encoded data removed]",
      "text/plain": [
       "<Figure size 1000x1200 with 1 Axes>"
      ]
     },
     "metadata": {},
     "output_type": "display_data"
    }
   ],
   "source": [
    "\n",
    "%time\n",
    "plt.figure(figsize = (10,12))\n",
    "snb.barplot( x = \"Mi Score\", y = \"Features\" , data = mi_score_sort , palette=\"viridis\")\n",
    "plt.xlabel(\"MI Score\")\n",
    "plt.ylabel(\"Features\")\n",
    "plt.axvline(x=0.01, color='black', linestyle='dotted', linewidth=2)\n",
    "plt.title(\"Feature Selection Based On MI Score\")\n",
    "plt.show()"
   ]
  },
  {
   "cell_type": "code",
   "execution_count": 21,
   "metadata": {
    "execution": {
     "iopub.execute_input": "2025-03-16T00:09:09.688659Z",
     "iopub.status.busy": "2025-03-16T00:09:09.688255Z",
     "iopub.status.idle": "2025-03-16T00:09:38.310460Z",
     "shell.execute_reply": "2025-03-16T00:09:38.309386Z",
     "shell.execute_reply.started": "2025-03-16T00:09:09.688613Z"
    },
    "executionInfo": {
     "elapsed": 35937,
     "status": "ok",
     "timestamp": 1741865197283,
     "user": {
      "displayName": "ONLY 4 U",
      "userId": "10955013242325755559"
     },
     "user_tz": -330
    },
    "id": "myW0v_lGBmf8",
    "outputId": "963d7bcb-1f45-40c5-c654-e2d3070b7bd8",
    "trusted": true
   },
   "outputs": [
    {
     "name": "stdout",
     "output_type": "stream",
     "text": [
      "CPU times: user 2 μs, sys: 0 ns, total: 2 μs\n",
      "Wall time: 4.77 μs\n"
     ]
    },
    {
     "data": {
      "text/html": [
       "<div>\n",
       "<style scoped>\n",
       "    .dataframe tbody tr th:only-of-type {\n",
       "        vertical-align: middle;\n",
       "    }\n",
       "\n",
       "    .dataframe tbody tr th {\n",
       "        vertical-align: top;\n",
       "    }\n",
       "\n",
       "    .dataframe thead th {\n",
       "        text-align: right;\n",
       "    }\n",
       "</style>\n",
       "<table border=\"1\" class=\"dataframe\">\n",
       "  <thead>\n",
       "    <tr style=\"text-align: right;\">\n",
       "      <th></th>\n",
       "      <th>Feature</th>\n",
       "      <th>RF Score</th>\n",
       "    </tr>\n",
       "  </thead>\n",
       "  <tbody>\n",
       "    <tr>\n",
       "      <th>3</th>\n",
       "      <td>Age</td>\n",
       "      <td>0.232585</td>\n",
       "    </tr>\n",
       "    <tr>\n",
       "      <th>9</th>\n",
       "      <td>EstimatedSalary</td>\n",
       "      <td>0.165271</td>\n",
       "    </tr>\n",
       "    <tr>\n",
       "      <th>0</th>\n",
       "      <td>CreditScore</td>\n",
       "      <td>0.149144</td>\n",
       "    </tr>\n",
       "    <tr>\n",
       "      <th>6</th>\n",
       "      <td>NumOfProducts</td>\n",
       "      <td>0.142548</td>\n",
       "    </tr>\n",
       "    <tr>\n",
       "      <th>5</th>\n",
       "      <td>Balance</td>\n",
       "      <td>0.110913</td>\n",
       "    </tr>\n",
       "    <tr>\n",
       "      <th>4</th>\n",
       "      <td>Tenure</td>\n",
       "      <td>0.077066</td>\n",
       "    </tr>\n",
       "    <tr>\n",
       "      <th>8</th>\n",
       "      <td>IsActiveMember</td>\n",
       "      <td>0.046373</td>\n",
       "    </tr>\n",
       "    <tr>\n",
       "      <th>1</th>\n",
       "      <td>Geography</td>\n",
       "      <td>0.031067</td>\n",
       "    </tr>\n",
       "    <tr>\n",
       "      <th>2</th>\n",
       "      <td>Gender</td>\n",
       "      <td>0.018288</td>\n",
       "    </tr>\n",
       "    <tr>\n",
       "      <th>10</th>\n",
       "      <td>F_CreditScore</td>\n",
       "      <td>0.013519</td>\n",
       "    </tr>\n",
       "    <tr>\n",
       "      <th>7</th>\n",
       "      <td>HasCrCard</td>\n",
       "      <td>0.013226</td>\n",
       "    </tr>\n",
       "  </tbody>\n",
       "</table>\n",
       "</div>"
      ],
      "text/plain": [
       "            Feature  RF Score\n",
       "3               Age  0.232585\n",
       "9   EstimatedSalary  0.165271\n",
       "0       CreditScore  0.149144\n",
       "6     NumOfProducts  0.142548\n",
       "5           Balance  0.110913\n",
       "4            Tenure  0.077066\n",
       "8    IsActiveMember  0.046373\n",
       "1         Geography  0.031067\n",
       "2            Gender  0.018288\n",
       "10    F_CreditScore  0.013519\n",
       "7         HasCrCard  0.013226"
      ]
     },
     "execution_count": 21,
     "metadata": {},
     "output_type": "execute_result"
    }
   ],
   "source": [
    "\n",
    "%time\n",
    "# Random Forest Model Train Karna\n",
    "rf = RandomForestClassifier(n_estimators=100, random_state=42)\n",
    "rf.fit(x, y)\n",
    "\n",
    "# Feature Importance Nikalna\n",
    "rf_importance = rf.feature_importances_\n",
    "\n",
    "# Random Forest Scores ko DataFrame me Convert Karna\n",
    "rf_df = pd.DataFrame({\"Feature\": x.columns, \"RF Score\": rf_importance})\n",
    "\n",
    "# RF Scores ko Descending Order me Sort Karna\n",
    "rf_df = rf_df.sort_values(by=\"RF Score\", ascending=False)\n",
    "rf_df"
   ]
  },
  {
   "cell_type": "code",
   "execution_count": 22,
   "metadata": {
    "execution": {
     "iopub.execute_input": "2025-03-16T00:10:42.148640Z",
     "iopub.status.busy": "2025-03-16T00:10:42.148242Z",
     "iopub.status.idle": "2025-03-16T00:10:42.448338Z",
     "shell.execute_reply": "2025-03-16T00:10:42.447218Z",
     "shell.execute_reply.started": "2025-03-16T00:10:42.148612Z"
    },
    "executionInfo": {
     "elapsed": 410,
     "status": "ok",
     "timestamp": 1741865197699,
     "user": {
      "displayName": "ONLY 4 U",
      "userId": "10955013242325755559"
     },
     "user_tz": -330
    },
    "id": "Nfi9uDpuCJn6",
    "outputId": "83d52ccc-05c4-4080-ff40-179f880e726a",
    "trusted": true
   },
   "outputs": [
    {
     "data": {
      "image/png": "[encoded data removed]",
      "text/plain": [
       "<Figure size 1000x1200 with 1 Axes>"
      ]
     },
     "metadata": {},
     "output_type": "display_data"
    }
   ],
   "source": [
    "plt.figure(figsize = (10,12))\n",
    "snb.barplot( x = \"RF Score\", y = \"Feature\" , data = rf_df , palette=\"viridis\")\n",
    "plt.xlabel(\"Random Forest Feature Selection Score\")\n",
    "plt.ylabel(\"Random Forest Features\")\n",
    "plt.title(\"Feature Selection Based On Random Forest\")\n",
    "plt.axvline(x=0.05, color='red', linestyle='dotted', linewidth=2)\n",
    "plt.show()\n"
   ]
  },
  {
   "cell_type": "code",
   "execution_count": 23,
   "metadata": {
    "execution": {
     "iopub.execute_input": "2025-03-16T00:10:54.389496Z",
     "iopub.status.busy": "2025-03-16T00:10:54.389047Z",
     "iopub.status.idle": "2025-03-16T00:10:54.406727Z",
     "shell.execute_reply": "2025-03-16T00:10:54.405421Z",
     "shell.execute_reply.started": "2025-03-16T00:10:54.389459Z"
    },
    "trusted": true
   },
   "outputs": [
    {
     "data": {
      "text/html": [
       "<div>\n",
       "<style scoped>\n",
       "    .dataframe tbody tr th:only-of-type {\n",
       "        vertical-align: middle;\n",
       "    }\n",
       "\n",
       "    .dataframe tbody tr th {\n",
       "        vertical-align: top;\n",
       "    }\n",
       "\n",
       "    .dataframe thead th {\n",
       "        text-align: right;\n",
       "    }\n",
       "</style>\n",
       "<table border=\"1\" class=\"dataframe\">\n",
       "  <thead>\n",
       "    <tr style=\"text-align: right;\">\n",
       "      <th></th>\n",
       "      <th>CreditScore</th>\n",
       "      <th>Geography</th>\n",
       "      <th>Gender</th>\n",
       "      <th>Age</th>\n",
       "      <th>Tenure</th>\n",
       "      <th>Balance</th>\n",
       "      <th>NumOfProducts</th>\n",
       "      <th>HasCrCard</th>\n",
       "      <th>IsActiveMember</th>\n",
       "      <th>EstimatedSalary</th>\n",
       "      <th>Exited</th>\n",
       "      <th>F_CreditScore</th>\n",
       "    </tr>\n",
       "  </thead>\n",
       "  <tbody>\n",
       "    <tr>\n",
       "      <th>0</th>\n",
       "      <td>668</td>\n",
       "      <td>0</td>\n",
       "      <td>1</td>\n",
       "      <td>33.0</td>\n",
       "      <td>3</td>\n",
       "      <td>0.00</td>\n",
       "      <td>2</td>\n",
       "      <td>1.0</td>\n",
       "      <td>0.0</td>\n",
       "      <td>181449.97</td>\n",
       "      <td>0</td>\n",
       "      <td>3</td>\n",
       "    </tr>\n",
       "    <tr>\n",
       "      <th>1</th>\n",
       "      <td>627</td>\n",
       "      <td>0</td>\n",
       "      <td>1</td>\n",
       "      <td>33.0</td>\n",
       "      <td>1</td>\n",
       "      <td>0.00</td>\n",
       "      <td>2</td>\n",
       "      <td>1.0</td>\n",
       "      <td>1.0</td>\n",
       "      <td>49503.50</td>\n",
       "      <td>0</td>\n",
       "      <td>3</td>\n",
       "    </tr>\n",
       "    <tr>\n",
       "      <th>2</th>\n",
       "      <td>678</td>\n",
       "      <td>0</td>\n",
       "      <td>1</td>\n",
       "      <td>40.0</td>\n",
       "      <td>10</td>\n",
       "      <td>0.00</td>\n",
       "      <td>2</td>\n",
       "      <td>1.0</td>\n",
       "      <td>0.0</td>\n",
       "      <td>184866.69</td>\n",
       "      <td>0</td>\n",
       "      <td>3</td>\n",
       "    </tr>\n",
       "    <tr>\n",
       "      <th>3</th>\n",
       "      <td>581</td>\n",
       "      <td>0</td>\n",
       "      <td>1</td>\n",
       "      <td>34.0</td>\n",
       "      <td>2</td>\n",
       "      <td>148882.54</td>\n",
       "      <td>1</td>\n",
       "      <td>1.0</td>\n",
       "      <td>1.0</td>\n",
       "      <td>84560.88</td>\n",
       "      <td>0</td>\n",
       "      <td>3</td>\n",
       "    </tr>\n",
       "    <tr>\n",
       "      <th>4</th>\n",
       "      <td>716</td>\n",
       "      <td>2</td>\n",
       "      <td>1</td>\n",
       "      <td>33.0</td>\n",
       "      <td>5</td>\n",
       "      <td>0.00</td>\n",
       "      <td>2</td>\n",
       "      <td>1.0</td>\n",
       "      <td>1.0</td>\n",
       "      <td>15068.83</td>\n",
       "      <td>0</td>\n",
       "      <td>1</td>\n",
       "    </tr>\n",
       "  </tbody>\n",
       "</table>\n",
       "</div>"
      ],
      "text/plain": [
       "   CreditScore  Geography  Gender   Age  Tenure    Balance  NumOfProducts  \\\n",
       "0          668          0       1  33.0       3       0.00              2   \n",
       "1          627          0       1  33.0       1       0.00              2   \n",
       "2          678          0       1  40.0      10       0.00              2   \n",
       "3          581          0       1  34.0       2  148882.54              1   \n",
       "4          716          2       1  33.0       5       0.00              2   \n",
       "\n",
       "   HasCrCard  IsActiveMember  EstimatedSalary  Exited  F_CreditScore  \n",
       "0        1.0             0.0        181449.97       0              3  \n",
       "1        1.0             1.0         49503.50       0              3  \n",
       "2        1.0             0.0        184866.69       0              3  \n",
       "3        1.0             1.0         84560.88       0              3  \n",
       "4        1.0             1.0         15068.83       0              1  "
      ]
     },
     "execution_count": 23,
     "metadata": {},
     "output_type": "execute_result"
    }
   ],
   "source": [
    "data.head()"
   ]
  },
  {
   "cell_type": "markdown",
   "metadata": {
    "id": "fagl4LAVNStk"
   },
   "source": [
    "\n",
    "Mutual Score Best Features\n",
    "- NumOfProducts\n",
    "- Age\n",
    "- IsActiveMember\n",
    "- Gender\n",
    "- F_Balance\n",
    "- Geo"
   ]
  },
  {
   "cell_type": "markdown",
   "metadata": {
    "id": "ZczXJ5iGVVJK"
   },
   "source": [
    "# Define Model"
   ]
  },
  {
   "cell_type": "code",
   "execution_count": 24,
   "metadata": {
    "execution": {
     "iopub.execute_input": "2025-03-16T00:11:09.349208Z",
     "iopub.status.busy": "2025-03-16T00:11:09.348880Z",
     "iopub.status.idle": "2025-03-16T00:11:09.364967Z",
     "shell.execute_reply": "2025-03-16T00:11:09.363870Z",
     "shell.execute_reply.started": "2025-03-16T00:11:09.349182Z"
    },
    "executionInfo": {
     "elapsed": 34,
     "status": "ok",
     "timestamp": 1741865197737,
     "user": {
      "displayName": "ONLY 4 U",
      "userId": "10955013242325755559"
     },
     "user_tz": -330
    },
    "id": "L2B6xbbikGMw",
    "outputId": "3bc5433b-8882-4f96-e905-0f8dddbf1408",
    "trusted": true
   },
   "outputs": [
    {
     "data": {
      "text/html": [
       "<div>\n",
       "<style scoped>\n",
       "    .dataframe tbody tr th:only-of-type {\n",
       "        vertical-align: middle;\n",
       "    }\n",
       "\n",
       "    .dataframe tbody tr th {\n",
       "        vertical-align: top;\n",
       "    }\n",
       "\n",
       "    .dataframe thead th {\n",
       "        text-align: right;\n",
       "    }\n",
       "</style>\n",
       "<table border=\"1\" class=\"dataframe\">\n",
       "  <thead>\n",
       "    <tr style=\"text-align: right;\">\n",
       "      <th></th>\n",
       "      <th>CreditScore</th>\n",
       "      <th>Geography</th>\n",
       "      <th>Gender</th>\n",
       "      <th>Age</th>\n",
       "      <th>Tenure</th>\n",
       "      <th>Balance</th>\n",
       "      <th>NumOfProducts</th>\n",
       "      <th>HasCrCard</th>\n",
       "      <th>IsActiveMember</th>\n",
       "      <th>EstimatedSalary</th>\n",
       "      <th>Exited</th>\n",
       "      <th>F_CreditScore</th>\n",
       "    </tr>\n",
       "  </thead>\n",
       "  <tbody>\n",
       "    <tr>\n",
       "      <th>0</th>\n",
       "      <td>668</td>\n",
       "      <td>0</td>\n",
       "      <td>1</td>\n",
       "      <td>33.0</td>\n",
       "      <td>3</td>\n",
       "      <td>0.00</td>\n",
       "      <td>2</td>\n",
       "      <td>1.0</td>\n",
       "      <td>0.0</td>\n",
       "      <td>181449.97</td>\n",
       "      <td>0</td>\n",
       "      <td>3</td>\n",
       "    </tr>\n",
       "    <tr>\n",
       "      <th>1</th>\n",
       "      <td>627</td>\n",
       "      <td>0</td>\n",
       "      <td>1</td>\n",
       "      <td>33.0</td>\n",
       "      <td>1</td>\n",
       "      <td>0.00</td>\n",
       "      <td>2</td>\n",
       "      <td>1.0</td>\n",
       "      <td>1.0</td>\n",
       "      <td>49503.50</td>\n",
       "      <td>0</td>\n",
       "      <td>3</td>\n",
       "    </tr>\n",
       "    <tr>\n",
       "      <th>2</th>\n",
       "      <td>678</td>\n",
       "      <td>0</td>\n",
       "      <td>1</td>\n",
       "      <td>40.0</td>\n",
       "      <td>10</td>\n",
       "      <td>0.00</td>\n",
       "      <td>2</td>\n",
       "      <td>1.0</td>\n",
       "      <td>0.0</td>\n",
       "      <td>184866.69</td>\n",
       "      <td>0</td>\n",
       "      <td>3</td>\n",
       "    </tr>\n",
       "    <tr>\n",
       "      <th>3</th>\n",
       "      <td>581</td>\n",
       "      <td>0</td>\n",
       "      <td>1</td>\n",
       "      <td>34.0</td>\n",
       "      <td>2</td>\n",
       "      <td>148882.54</td>\n",
       "      <td>1</td>\n",
       "      <td>1.0</td>\n",
       "      <td>1.0</td>\n",
       "      <td>84560.88</td>\n",
       "      <td>0</td>\n",
       "      <td>3</td>\n",
       "    </tr>\n",
       "    <tr>\n",
       "      <th>4</th>\n",
       "      <td>716</td>\n",
       "      <td>2</td>\n",
       "      <td>1</td>\n",
       "      <td>33.0</td>\n",
       "      <td>5</td>\n",
       "      <td>0.00</td>\n",
       "      <td>2</td>\n",
       "      <td>1.0</td>\n",
       "      <td>1.0</td>\n",
       "      <td>15068.83</td>\n",
       "      <td>0</td>\n",
       "      <td>1</td>\n",
       "    </tr>\n",
       "  </tbody>\n",
       "</table>\n",
       "</div>"
      ],
      "text/plain": [
       "   CreditScore  Geography  Gender   Age  Tenure    Balance  NumOfProducts  \\\n",
       "0          668          0       1  33.0       3       0.00              2   \n",
       "1          627          0       1  33.0       1       0.00              2   \n",
       "2          678          0       1  40.0      10       0.00              2   \n",
       "3          581          0       1  34.0       2  148882.54              1   \n",
       "4          716          2       1  33.0       5       0.00              2   \n",
       "\n",
       "   HasCrCard  IsActiveMember  EstimatedSalary  Exited  F_CreditScore  \n",
       "0        1.0             0.0        181449.97       0              3  \n",
       "1        1.0             1.0         49503.50       0              3  \n",
       "2        1.0             0.0        184866.69       0              3  \n",
       "3        1.0             1.0         84560.88       0              3  \n",
       "4        1.0             1.0         15068.83       0              1  "
      ]
     },
     "execution_count": 24,
     "metadata": {},
     "output_type": "execute_result"
    }
   ],
   "source": [
    "data.head()"
   ]
  },
  {
   "cell_type": "markdown",
   "metadata": {},
   "source": [
    "![](../../imgs/dataSplit.jpg)"
   ]
  },
  {
   "cell_type": "code",
   "execution_count": 25,
   "metadata": {
    "execution": {
     "iopub.execute_input": "2025-03-16T00:11:15.608578Z",
     "iopub.status.busy": "2025-03-16T00:11:15.608172Z",
     "iopub.status.idle": "2025-03-16T00:11:15.701946Z",
     "shell.execute_reply": "2025-03-16T00:11:15.700775Z",
     "shell.execute_reply.started": "2025-03-16T00:11:15.608545Z"
    },
    "executionInfo": {
     "elapsed": 79,
     "status": "ok",
     "timestamp": 1741865197806,
     "user": {
      "displayName": "ONLY 4 U",
      "userId": "10955013242325755559"
     },
     "user_tz": -330
    },
    "id": "bP9N0hQNVnnU",
    "trusted": true
   },
   "outputs": [],
   "source": [
    "\n",
    "x = data.drop([\"Exited\",\"CreditScore\"] , axis = 1 )\n",
    "y = data.Exited\n",
    "from sklearn.preprocessing import StandardScaler\n",
    "\n",
    "scaler = StandardScaler()\n",
    "\n",
    "# Train Test Split\n",
    "x_train , x_test , y_train , y_test = train_test_split( x , y , test_size = 0.2 , random_state = 42)\n",
    "x_train = scaler.fit_transform(x_train)\n",
    "x_test = scaler.transform(x_test)"
   ]
  },
  {
   "cell_type": "markdown",
   "metadata": {},
   "source": [
    "![](../../imgs/model.png)"
   ]
  },
  {
   "cell_type": "code",
   "execution_count": 26,
   "metadata": {
    "execution": {
     "iopub.execute_input": "2025-03-16T00:11:32.408660Z",
     "iopub.status.busy": "2025-03-16T00:11:32.408242Z",
     "iopub.status.idle": "2025-03-16T00:11:32.415632Z",
     "shell.execute_reply": "2025-03-16T00:11:32.414498Z",
     "shell.execute_reply.started": "2025-03-16T00:11:32.408628Z"
    },
    "executionInfo": {
     "elapsed": 9,
     "status": "ok",
     "timestamp": 1741865197823,
     "user": {
      "displayName": "ONLY 4 U",
      "userId": "10955013242325755559"
     },
     "user_tz": -330
    },
    "id": "uylqpSjBVYYN",
    "trusted": true
   },
   "outputs": [],
   "source": [
    "model = Sequential()"
   ]
  },
  {
   "cell_type": "code",
   "execution_count": 27,
   "metadata": {
    "execution": {
     "iopub.execute_input": "2025-03-16T00:11:41.648929Z",
     "iopub.status.busy": "2025-03-16T00:11:41.648581Z",
     "iopub.status.idle": "2025-03-16T00:11:41.654083Z",
     "shell.execute_reply": "2025-03-16T00:11:41.652981Z",
     "shell.execute_reply.started": "2025-03-16T00:11:41.648903Z"
    },
    "executionInfo": {
     "elapsed": 21,
     "status": "ok",
     "timestamp": 1741865197850,
     "user": {
      "displayName": "ONLY 4 U",
      "userId": "10955013242325755559"
     },
     "user_tz": -330
    },
    "id": "qR1Tg-VwaTEE",
    "trusted": true
   },
   "outputs": [],
   "source": [
    "stop = tf.keras.callbacks.EarlyStopping(\n",
    "    monitor='val_loss',\n",
    "    min_delta=0,\n",
    "    patience=5,\n",
    "    verbose=0,\n",
    "    mode='auto',\n",
    "    baseline=None,\n",
    "    restore_best_weights=False,\n",
    "    start_from_epoch=0\n",
    ")"
   ]
  },
  {
   "cell_type": "markdown",
   "metadata": {
    "id": "DQ3v-C_OYl_F"
   },
   "source": [
    "## Train The Model"
   ]
  },
  {
   "cell_type": "code",
   "execution_count": 28,
   "metadata": {
    "execution": {
     "iopub.execute_input": "2025-03-16T00:12:14.409310Z",
     "iopub.status.busy": "2025-03-16T00:12:14.408939Z",
     "iopub.status.idle": "2025-03-16T00:12:44.312107Z",
     "shell.execute_reply": "2025-03-16T00:12:44.310820Z",
     "shell.execute_reply.started": "2025-03-16T00:12:14.409257Z"
    },
    "executionInfo": {
     "elapsed": 92390,
     "status": "ok",
     "timestamp": 1741865290377,
     "user": {
      "displayName": "ONLY 4 U",
      "userId": "10955013242325755559"
     },
     "user_tz": -330
    },
    "id": "37edIxxiVha9",
    "outputId": "31690687-1acb-45ae-80bd-ee7bb0be7112",
    "trusted": true
   },
   "outputs": [
    {
     "name": "stdout",
     "output_type": "stream",
     "text": [
      "Epoch 1/50\n"
     ]
    },
    {
     "name": "stderr",
     "output_type": "stream",
     "text": [
      "2025-03-16 00:29:19.110019: E external/local_xla/xla/stream_executor/cuda/cuda_driver.cc:152] failed call to cuInit: INTERNAL: CUDA error: Failed call to cuInit: UNKNOWN ERROR (303)\n"
     ]
    },
    {
     "name": "stdout",
     "output_type": "stream",
     "text": [
      "\u001b[1m265/265\u001b[0m \u001b[32m━━━━━━━━━━━━━━━━━━━━\u001b[0m\u001b[37m\u001b[0m \u001b[1m3s\u001b[0m 4ms/step - accuracy: 0.8122 - loss: 0.4315 - val_accuracy: 0.8630 - val_loss: 0.3269\n",
      "Epoch 2/50\n",
      "\u001b[1m265/265\u001b[0m \u001b[32m━━━━━━━━━━━━━━━━━━━━\u001b[0m\u001b[37m\u001b[0m \u001b[1m1s\u001b[0m 3ms/step - accuracy: 0.8631 - loss: 0.3282 - val_accuracy: 0.8618 - val_loss: 0.3289\n",
      "Epoch 3/50\n",
      "\u001b[1m265/265\u001b[0m \u001b[32m━━━━━━━━━━━━━━━━━━━━\u001b[0m\u001b[37m\u001b[0m \u001b[1m1s\u001b[0m 3ms/step - accuracy: 0.8625 - loss: 0.3292 - val_accuracy: 0.8643 - val_loss: 0.3262\n",
      "Epoch 4/50\n",
      "\u001b[1m265/265\u001b[0m \u001b[32m━━━━━━━━━━━━━━━━━━━━\u001b[0m\u001b[37m\u001b[0m \u001b[1m1s\u001b[0m 3ms/step - accuracy: 0.8618 - loss: 0.3258 - val_accuracy: 0.8650 - val_loss: 0.3226\n",
      "Epoch 5/50\n",
      "\u001b[1m265/265\u001b[0m \u001b[32m━━━━━━━━━━━━━━━━━━━━\u001b[0m\u001b[37m\u001b[0m \u001b[1m1s\u001b[0m 3ms/step - accuracy: 0.8622 - loss: 0.3265 - val_accuracy: 0.8636 - val_loss: 0.3252\n",
      "Epoch 6/50\n",
      "\u001b[1m265/265\u001b[0m \u001b[32m━━━━━━━━━━━━━━━━━━━━\u001b[0m\u001b[37m\u001b[0m \u001b[1m1s\u001b[0m 3ms/step - accuracy: 0.8630 - loss: 0.3254 - val_accuracy: 0.8647 - val_loss: 0.3228\n",
      "Epoch 7/50\n",
      "\u001b[1m265/265\u001b[0m \u001b[32m━━━━━━━━━━━━━━━━━━━━\u001b[0m\u001b[37m\u001b[0m \u001b[1m1s\u001b[0m 4ms/step - accuracy: 0.8656 - loss: 0.3206 - val_accuracy: 0.8649 - val_loss: 0.3212\n",
      "Epoch 8/50\n",
      "\u001b[1m265/265\u001b[0m \u001b[32m━━━━━━━━━━━━━━━━━━━━\u001b[0m\u001b[37m\u001b[0m \u001b[1m1s\u001b[0m 3ms/step - accuracy: 0.8650 - loss: 0.3237 - val_accuracy: 0.8647 - val_loss: 0.3226\n",
      "Epoch 9/50\n",
      "\u001b[1m265/265\u001b[0m \u001b[32m━━━━━━━━━━━━━━━━━━━━\u001b[0m\u001b[37m\u001b[0m \u001b[1m1s\u001b[0m 3ms/step - accuracy: 0.8632 - loss: 0.3242 - val_accuracy: 0.8656 - val_loss: 0.3200\n",
      "Epoch 10/50\n",
      "\u001b[1m265/265\u001b[0m \u001b[32m━━━━━━━━━━━━━━━━━━━━\u001b[0m\u001b[37m\u001b[0m \u001b[1m1s\u001b[0m 3ms/step - accuracy: 0.8639 - loss: 0.3229 - val_accuracy: 0.8657 - val_loss: 0.3201\n",
      "Epoch 11/50\n",
      "\u001b[1m265/265\u001b[0m \u001b[32m━━━━━━━━━━━━━━━━━━━━\u001b[0m\u001b[37m\u001b[0m \u001b[1m1s\u001b[0m 3ms/step - accuracy: 0.8638 - loss: 0.3235 - val_accuracy: 0.8654 - val_loss: 0.3201\n",
      "Epoch 12/50\n",
      "\u001b[1m265/265\u001b[0m \u001b[32m━━━━━━━━━━━━━━━━━━━━\u001b[0m\u001b[37m\u001b[0m \u001b[1m1s\u001b[0m 3ms/step - accuracy: 0.8646 - loss: 0.3219 - val_accuracy: 0.8656 - val_loss: 0.3206\n",
      "Epoch 13/50\n",
      "\u001b[1m265/265\u001b[0m \u001b[32m━━━━━━━━━━━━━━━━━━━━\u001b[0m\u001b[37m\u001b[0m \u001b[1m1s\u001b[0m 3ms/step - accuracy: 0.8644 - loss: 0.3221 - val_accuracy: 0.8655 - val_loss: 0.3205\n",
      "Epoch 14/50\n",
      "\u001b[1m265/265\u001b[0m \u001b[32m━━━━━━━━━━━━━━━━━━━━\u001b[0m\u001b[37m\u001b[0m \u001b[1m1s\u001b[0m 3ms/step - accuracy: 0.8653 - loss: 0.3219 - val_accuracy: 0.8646 - val_loss: 0.3211\n",
      "\u001b[1m1032/1032\u001b[0m \u001b[32m━━━━━━━━━━━━━━━━━━━━\u001b[0m\u001b[37m\u001b[0m \u001b[1m1s\u001b[0m 1ms/step - accuracy: 0.8650 - loss: 0.3209\n",
      "Test Accuracy: 0.8648\n"
     ]
    }
   ],
   "source": [
    "\n",
    "from tensorflow.keras.layers import Dense, Dropout, BatchNormalization, Input\n",
    "from tensorflow.keras.regularizers import l2\n",
    "from tensorflow.keras.optimizers import Adam\n",
    "from tensorflow.keras.models import Sequential\n",
    "\n",
    "# Build the model\n",
    "model = Sequential([\n",
    "    Input(shape=(x_train.shape[1],)),  # Explicit input definition\n",
    "    Dense(64, activation='relu'),\n",
    "    BatchNormalization(),\n",
    "\n",
    "    Dense(32, activation='relu'),\n",
    "    BatchNormalization(),\n",
    "\n",
    "    Dense(8, activation='relu'),\n",
    "    BatchNormalization(),\n",
    "\n",
    "    Dense(1, activation='sigmoid')  # Binary Classification Output\n",
    "])\n",
    "\n",
    "# Compile the model\n",
    "optimizer = Adam(learning_rate=0.005)  # Lower learning rate for better convergence\n",
    "model.compile(optimizer=optimizer, loss='binary_crossentropy', metrics=['accuracy'])\n",
    "\n",
    "# Train the model\n",
    "history = model.fit(x_train, y_train, validation_data=(x_train, y_train),\n",
    "                    epochs=50, batch_size=500, callbacks=[stop])  # Increased batch size for stability\n",
    "\n",
    "# Evaluate the model\n",
    "test_loss, test_acc = model.evaluate(x_test, y_test)\n",
    "print(f\"Test Accuracy: {test_acc:.4f}\")"
   ]
  },
  {
   "cell_type": "markdown",
   "metadata": {
    "id": "8NKusa3VCsxq"
   },
   "source": [
    "#Predict"
   ]
  },
  {
   "cell_type": "code",
   "execution_count": 34,
   "metadata": {
    "execution": {
     "iopub.execute_input": "2025-03-16T00:13:07.468958Z",
     "iopub.status.busy": "2025-03-16T00:13:07.468574Z",
     "iopub.status.idle": "2025-03-16T00:13:09.434519Z",
     "shell.execute_reply": "2025-03-16T00:13:09.433432Z",
     "shell.execute_reply.started": "2025-03-16T00:13:07.468927Z"
    },
    "executionInfo": {
     "elapsed": 2538,
     "status": "ok",
     "timestamp": 1741865292919,
     "user": {
      "displayName": "ONLY 4 U",
      "userId": "10955013242325755559"
     },
     "user_tz": -330
    },
    "id": "LXP1t_wEXisa",
    "outputId": "76cbce21-d1b7-4fb6-d0d4-69a18dde1d49",
    "trusted": true
   },
   "outputs": [
    {
     "name": "stdout",
     "output_type": "stream",
     "text": [
      "\u001b[1m   1/1032\u001b[0m \u001b[37m━━━━━━━━━━━━━━━━━━━━\u001b[0m \u001b[1m12s\u001b[0m 12ms/step"
     ]
    },
    {
     "name": "stdout",
     "output_type": "stream",
     "text": [
      "\u001b[1m1032/1032\u001b[0m \u001b[32m━━━━━━━━━━━━━━━━━━━━\u001b[0m\u001b[37m\u001b[0m \u001b[1m1s\u001b[0m 726us/step\n"
     ]
    }
   ],
   "source": [
    "predict = model.predict(x_test)"
   ]
  },
  {
   "cell_type": "code",
   "execution_count": 35,
   "metadata": {
    "execution": {
     "iopub.execute_input": "2025-03-16T00:13:12.329794Z",
     "iopub.status.busy": "2025-03-16T00:13:12.329425Z",
     "iopub.status.idle": "2025-03-16T00:13:12.337249Z",
     "shell.execute_reply": "2025-03-16T00:13:12.336324Z",
     "shell.execute_reply.started": "2025-03-16T00:13:12.329764Z"
    },
    "executionInfo": {
     "elapsed": 65,
     "status": "ok",
     "timestamp": 1741865292989,
     "user": {
      "displayName": "ONLY 4 U",
      "userId": "10955013242325755559"
     },
     "user_tz": -330
    },
    "id": "4FcXVpeDDKx6",
    "outputId": "abe7e65b-7a17-4103-8bc4-1cae55bae1f9",
    "trusted": true
   },
   "outputs": [
    {
     "data": {
      "text/plain": [
       "array([[0.13622442],\n",
       "       [0.01672194],\n",
       "       [0.8885581 ],\n",
       "       ...,\n",
       "       [0.4622611 ],\n",
       "       [0.0069455 ],\n",
       "       [0.05460074]], dtype=float32)"
      ]
     },
     "execution_count": 35,
     "metadata": {},
     "output_type": "execute_result"
    }
   ],
   "source": [
    "predict"
   ]
  },
  {
   "cell_type": "code",
   "execution_count": 36,
   "metadata": {
    "execution": {
     "iopub.execute_input": "2025-03-16T00:13:14.368625Z",
     "iopub.status.busy": "2025-03-16T00:13:14.368241Z",
     "iopub.status.idle": "2025-03-16T00:13:14.376043Z",
     "shell.execute_reply": "2025-03-16T00:13:14.374970Z",
     "shell.execute_reply.started": "2025-03-16T00:13:14.368598Z"
    },
    "executionInfo": {
     "elapsed": 24,
     "status": "ok",
     "timestamp": 1741865293017,
     "user": {
      "displayName": "ONLY 4 U",
      "userId": "10955013242325755559"
     },
     "user_tz": -330
    },
    "id": "BXjkk886EfmT",
    "outputId": "0d78f6a6-6384-4b57-ed1f-053a441303f5",
    "trusted": true
   },
   "outputs": [
    {
     "data": {
      "text/plain": [
       "33042     0\n",
       "36330     0\n",
       "59446     1\n",
       "92278     0\n",
       "146750    0\n",
       "         ..\n",
       "32661     0\n",
       "117592    0\n",
       "2194      0\n",
       "141678    0\n",
       "20040     0\n",
       "Name: Exited, Length: 33007, dtype: int64"
      ]
     },
     "execution_count": 36,
     "metadata": {},
     "output_type": "execute_result"
    }
   ],
   "source": [
    "y_test"
   ]
  },
  {
   "cell_type": "markdown",
   "metadata": {
    "id": "ReWKi4GZC7CH"
   },
   "source": [
    "# Evaluate The Model"
   ]
  },
  {
   "cell_type": "code",
   "execution_count": 37,
   "metadata": {
    "execution": {
     "iopub.execute_input": "2025-03-16T00:13:21.108323Z",
     "iopub.status.busy": "2025-03-16T00:13:21.107961Z",
     "iopub.status.idle": "2025-03-16T00:13:21.119593Z",
     "shell.execute_reply": "2025-03-16T00:13:21.118432Z",
     "shell.execute_reply.started": "2025-03-16T00:13:21.108296Z"
    },
    "executionInfo": {
     "elapsed": 246,
     "status": "ok",
     "timestamp": 1741865293266,
     "user": {
      "displayName": "ONLY 4 U",
      "userId": "10955013242325755559"
     },
     "user_tz": -330
    },
    "id": "932u096-Ylbl",
    "outputId": "a99b3ce9-b282-415a-9fdb-eaa52da5b136",
    "trusted": true
   },
   "outputs": [
    {
     "name": "stdout",
     "output_type": "stream",
     "text": [
      "Accuracy Score: 0.8648\n"
     ]
    }
   ],
   "source": [
    "from sklearn.metrics import accuracy_score\n",
    "\n",
    "# Convert probabilities to binary outputs\n",
    "predict_binary = (predict > 0.5).astype(int).flatten()  # Convert float predictions to 0 or 1\n",
    "\n",
    "# Now compute accuracy\n",
    "accuracy = accuracy_score(y_test, predict_binary)\n",
    "print(f\"Accuracy Score: {accuracy:.4f}\")  # Print accuracy correctly"
   ]
  },
  {
   "cell_type": "markdown",
   "metadata": {
    "id": "PbOfaD_VFtUp"
   },
   "source": [
    "**I Get 86% Accuracy On My Test Data**"
   ]
  },
  {
   "cell_type": "markdown",
   "metadata": {
    "id": "86uwmykcF5zB"
   },
   "source": [
    "#Test Data Prediction"
   ]
  },
  {
   "cell_type": "code",
   "execution_count": 39,
   "metadata": {
    "execution": {
     "iopub.execute_input": "2025-03-16T00:13:28.089455Z",
     "iopub.status.busy": "2025-03-16T00:13:28.088998Z",
     "iopub.status.idle": "2025-03-16T00:13:28.380352Z",
     "shell.execute_reply": "2025-03-16T00:13:28.379019Z",
     "shell.execute_reply.started": "2025-03-16T00:13:28.089421Z"
    },
    "executionInfo": {
     "elapsed": 220,
     "status": "ok",
     "timestamp": 1741865293489,
     "user": {
      "displayName": "ONLY 4 U",
      "userId": "10955013242325755559"
     },
     "user_tz": -330
    },
    "id": "_rrCzDU-F5cO",
    "outputId": "5f3dc40d-101d-41e8-d821-37422a4f66fa",
    "trusted": true
   },
   "outputs": [
    {
     "data": {
      "text/html": [
       "<div>\n",
       "<style scoped>\n",
       "    .dataframe tbody tr th:only-of-type {\n",
       "        vertical-align: middle;\n",
       "    }\n",
       "\n",
       "    .dataframe tbody tr th {\n",
       "        vertical-align: top;\n",
       "    }\n",
       "\n",
       "    .dataframe thead th {\n",
       "        text-align: right;\n",
       "    }\n",
       "</style>\n",
       "<table border=\"1\" class=\"dataframe\">\n",
       "  <thead>\n",
       "    <tr style=\"text-align: right;\">\n",
       "      <th></th>\n",
       "      <th>id</th>\n",
       "      <th>CustomerId</th>\n",
       "      <th>Surname</th>\n",
       "      <th>CreditScore</th>\n",
       "      <th>Geography</th>\n",
       "      <th>Gender</th>\n",
       "      <th>Age</th>\n",
       "      <th>Tenure</th>\n",
       "      <th>Balance</th>\n",
       "      <th>NumOfProducts</th>\n",
       "      <th>HasCrCard</th>\n",
       "      <th>IsActiveMember</th>\n",
       "      <th>EstimatedSalary</th>\n",
       "    </tr>\n",
       "  </thead>\n",
       "  <tbody>\n",
       "    <tr>\n",
       "      <th>0</th>\n",
       "      <td>165034</td>\n",
       "      <td>15773898</td>\n",
       "      <td>Lucchese</td>\n",
       "      <td>586</td>\n",
       "      <td>France</td>\n",
       "      <td>Female</td>\n",
       "      <td>23.0</td>\n",
       "      <td>2</td>\n",
       "      <td>0.00</td>\n",
       "      <td>2</td>\n",
       "      <td>0.0</td>\n",
       "      <td>1.0</td>\n",
       "      <td>160976.75</td>\n",
       "    </tr>\n",
       "    <tr>\n",
       "      <th>1</th>\n",
       "      <td>165035</td>\n",
       "      <td>15782418</td>\n",
       "      <td>Nott</td>\n",
       "      <td>683</td>\n",
       "      <td>France</td>\n",
       "      <td>Female</td>\n",
       "      <td>46.0</td>\n",
       "      <td>2</td>\n",
       "      <td>0.00</td>\n",
       "      <td>1</td>\n",
       "      <td>1.0</td>\n",
       "      <td>0.0</td>\n",
       "      <td>72549.27</td>\n",
       "    </tr>\n",
       "    <tr>\n",
       "      <th>2</th>\n",
       "      <td>165036</td>\n",
       "      <td>15807120</td>\n",
       "      <td>K?</td>\n",
       "      <td>656</td>\n",
       "      <td>France</td>\n",
       "      <td>Female</td>\n",
       "      <td>34.0</td>\n",
       "      <td>7</td>\n",
       "      <td>0.00</td>\n",
       "      <td>2</td>\n",
       "      <td>1.0</td>\n",
       "      <td>0.0</td>\n",
       "      <td>138882.09</td>\n",
       "    </tr>\n",
       "    <tr>\n",
       "      <th>3</th>\n",
       "      <td>165037</td>\n",
       "      <td>15808905</td>\n",
       "      <td>O'Donnell</td>\n",
       "      <td>681</td>\n",
       "      <td>France</td>\n",
       "      <td>Male</td>\n",
       "      <td>36.0</td>\n",
       "      <td>8</td>\n",
       "      <td>0.00</td>\n",
       "      <td>1</td>\n",
       "      <td>1.0</td>\n",
       "      <td>0.0</td>\n",
       "      <td>113931.57</td>\n",
       "    </tr>\n",
       "    <tr>\n",
       "      <th>4</th>\n",
       "      <td>165038</td>\n",
       "      <td>15607314</td>\n",
       "      <td>Higgins</td>\n",
       "      <td>752</td>\n",
       "      <td>Germany</td>\n",
       "      <td>Male</td>\n",
       "      <td>38.0</td>\n",
       "      <td>10</td>\n",
       "      <td>121263.62</td>\n",
       "      <td>1</td>\n",
       "      <td>1.0</td>\n",
       "      <td>0.0</td>\n",
       "      <td>139431.00</td>\n",
       "    </tr>\n",
       "  </tbody>\n",
       "</table>\n",
       "</div>"
      ],
      "text/plain": [
       "       id  CustomerId    Surname  CreditScore Geography  Gender   Age  Tenure  \\\n",
       "0  165034    15773898   Lucchese          586    France  Female  23.0       2   \n",
       "1  165035    15782418       Nott          683    France  Female  46.0       2   \n",
       "2  165036    15807120         K?          656    France  Female  34.0       7   \n",
       "3  165037    15808905  O'Donnell          681    France    Male  36.0       8   \n",
       "4  165038    15607314    Higgins          752   Germany    Male  38.0      10   \n",
       "\n",
       "     Balance  NumOfProducts  HasCrCard  IsActiveMember  EstimatedSalary  \n",
       "0       0.00              2        0.0             1.0        160976.75  \n",
       "1       0.00              1        1.0             0.0         72549.27  \n",
       "2       0.00              2        1.0             0.0        138882.09  \n",
       "3       0.00              1        1.0             0.0        113931.57  \n",
       "4  121263.62              1        1.0             0.0        139431.00  "
      ]
     },
     "execution_count": 39,
     "metadata": {},
     "output_type": "execute_result"
    }
   ],
   "source": [
    "test = pd.read_csv(\"../data/churn/test.csv\")\n",
    "test.head()"
   ]
  },
  {
   "cell_type": "markdown",
   "metadata": {
    "id": "D7zBpGwUGJ00"
   },
   "source": [
    "## Test Data Preprocessing"
   ]
  },
  {
   "cell_type": "code",
   "execution_count": 40,
   "metadata": {
    "execution": {
     "iopub.execute_input": "2025-03-16T00:13:59.333898Z",
     "iopub.status.busy": "2025-03-16T00:13:59.333578Z",
     "iopub.status.idle": "2025-03-16T00:13:59.346725Z",
     "shell.execute_reply": "2025-03-16T00:13:59.345617Z",
     "shell.execute_reply.started": "2025-03-16T00:13:59.333873Z"
    },
    "executionInfo": {
     "elapsed": 10,
     "status": "ok",
     "timestamp": 1741865293503,
     "user": {
      "displayName": "ONLY 4 U",
      "userId": "10955013242325755559"
     },
     "user_tz": -330
    },
    "id": "4CzT0vxOGOMx",
    "trusted": true
   },
   "outputs": [],
   "source": [
    "\n",
    "test[\"F_CreditScore\"] = pd.cut(test[\"CreditScore\"],bins = [300,500,700,800,900] , labels = [\"Low\", \"Moderate\",\"High\",\"Best\"] )\n",
    "test.drop([\"id\",\"CustomerId\",\"Surname\",\"CreditScore\"] , inplace = True , axis = 1)"
   ]
  },
  {
   "cell_type": "code",
   "execution_count": 41,
   "metadata": {
    "execution": {
     "iopub.execute_input": "2025-03-16T00:14:06.869850Z",
     "iopub.status.busy": "2025-03-16T00:14:06.869515Z",
     "iopub.status.idle": "2025-03-16T00:14:18.018480Z",
     "shell.execute_reply": "2025-03-16T00:14:18.017272Z",
     "shell.execute_reply.started": "2025-03-16T00:14:06.869823Z"
    },
    "executionInfo": {
     "elapsed": 14691,
     "status": "ok",
     "timestamp": 1741865365567,
     "user": {
      "displayName": "ONLY 4 U",
      "userId": "10955013242325755559"
     },
     "user_tz": -330
    },
    "id": "gYmuTGzTIpmf",
    "trusted": true
   },
   "outputs": [],
   "source": [
    "\n",
    "# Test Data Encoding\n",
    "for col in test.select_dtypes(include=[\"object\", \"category\"]):\n",
    "    le = encoders[col]  # Get trained encoder\n",
    "\n",
    "    # Convert test data labels to match the encoder classes\n",
    "    test[col] = test[col].apply(lambda x: le.transform([x])[0] if x in le.classes_ else -1)"
   ]
  },
  {
   "cell_type": "code",
   "execution_count": 42,
   "metadata": {
    "execution": {
     "iopub.execute_input": "2025-03-16T00:14:18.020313Z",
     "iopub.status.busy": "2025-03-16T00:14:18.019962Z",
     "iopub.status.idle": "2025-03-16T00:14:18.036003Z",
     "shell.execute_reply": "2025-03-16T00:14:18.034596Z",
     "shell.execute_reply.started": "2025-03-16T00:14:18.020259Z"
    },
    "executionInfo": {
     "elapsed": 209,
     "status": "ok",
     "timestamp": 1741865365662,
     "user": {
      "displayName": "ONLY 4 U",
      "userId": "10955013242325755559"
     },
     "user_tz": -330
    },
    "id": "HC86SAyBMf_t",
    "outputId": "20a68719-9950-4efb-e663-620c38877de8",
    "trusted": true
   },
   "outputs": [
    {
     "data": {
      "text/html": [
       "<div>\n",
       "<style scoped>\n",
       "    .dataframe tbody tr th:only-of-type {\n",
       "        vertical-align: middle;\n",
       "    }\n",
       "\n",
       "    .dataframe tbody tr th {\n",
       "        vertical-align: top;\n",
       "    }\n",
       "\n",
       "    .dataframe thead th {\n",
       "        text-align: right;\n",
       "    }\n",
       "</style>\n",
       "<table border=\"1\" class=\"dataframe\">\n",
       "  <thead>\n",
       "    <tr style=\"text-align: right;\">\n",
       "      <th></th>\n",
       "      <th>Geography</th>\n",
       "      <th>Gender</th>\n",
       "      <th>Age</th>\n",
       "      <th>Tenure</th>\n",
       "      <th>Balance</th>\n",
       "      <th>NumOfProducts</th>\n",
       "      <th>HasCrCard</th>\n",
       "      <th>IsActiveMember</th>\n",
       "      <th>EstimatedSalary</th>\n",
       "      <th>F_CreditScore</th>\n",
       "    </tr>\n",
       "  </thead>\n",
       "  <tbody>\n",
       "    <tr>\n",
       "      <th>0</th>\n",
       "      <td>0</td>\n",
       "      <td>0</td>\n",
       "      <td>23.0</td>\n",
       "      <td>2</td>\n",
       "      <td>0.00</td>\n",
       "      <td>2</td>\n",
       "      <td>0.0</td>\n",
       "      <td>1.0</td>\n",
       "      <td>160976.75</td>\n",
       "      <td>3</td>\n",
       "    </tr>\n",
       "    <tr>\n",
       "      <th>1</th>\n",
       "      <td>0</td>\n",
       "      <td>0</td>\n",
       "      <td>46.0</td>\n",
       "      <td>2</td>\n",
       "      <td>0.00</td>\n",
       "      <td>1</td>\n",
       "      <td>1.0</td>\n",
       "      <td>0.0</td>\n",
       "      <td>72549.27</td>\n",
       "      <td>3</td>\n",
       "    </tr>\n",
       "    <tr>\n",
       "      <th>2</th>\n",
       "      <td>0</td>\n",
       "      <td>0</td>\n",
       "      <td>34.0</td>\n",
       "      <td>7</td>\n",
       "      <td>0.00</td>\n",
       "      <td>2</td>\n",
       "      <td>1.0</td>\n",
       "      <td>0.0</td>\n",
       "      <td>138882.09</td>\n",
       "      <td>3</td>\n",
       "    </tr>\n",
       "    <tr>\n",
       "      <th>3</th>\n",
       "      <td>0</td>\n",
       "      <td>1</td>\n",
       "      <td>36.0</td>\n",
       "      <td>8</td>\n",
       "      <td>0.00</td>\n",
       "      <td>1</td>\n",
       "      <td>1.0</td>\n",
       "      <td>0.0</td>\n",
       "      <td>113931.57</td>\n",
       "      <td>3</td>\n",
       "    </tr>\n",
       "    <tr>\n",
       "      <th>4</th>\n",
       "      <td>1</td>\n",
       "      <td>1</td>\n",
       "      <td>38.0</td>\n",
       "      <td>10</td>\n",
       "      <td>121263.62</td>\n",
       "      <td>1</td>\n",
       "      <td>1.0</td>\n",
       "      <td>0.0</td>\n",
       "      <td>139431.00</td>\n",
       "      <td>1</td>\n",
       "    </tr>\n",
       "  </tbody>\n",
       "</table>\n",
       "</div>"
      ],
      "text/plain": [
       "   Geography  Gender   Age  Tenure    Balance  NumOfProducts  HasCrCard  \\\n",
       "0          0       0  23.0       2       0.00              2        0.0   \n",
       "1          0       0  46.0       2       0.00              1        1.0   \n",
       "2          0       0  34.0       7       0.00              2        1.0   \n",
       "3          0       1  36.0       8       0.00              1        1.0   \n",
       "4          1       1  38.0      10  121263.62              1        1.0   \n",
       "\n",
       "   IsActiveMember  EstimatedSalary F_CreditScore  \n",
       "0             1.0        160976.75             3  \n",
       "1             0.0         72549.27             3  \n",
       "2             0.0        138882.09             3  \n",
       "3             0.0        113931.57             3  \n",
       "4             0.0        139431.00             1  "
      ]
     },
     "execution_count": 42,
     "metadata": {},
     "output_type": "execute_result"
    }
   ],
   "source": [
    "test.head()"
   ]
  },
  {
   "cell_type": "code",
   "execution_count": null,
   "metadata": {},
   "outputs": [],
   "source": []
  },
  {
   "cell_type": "code",
   "execution_count": 43,
   "metadata": {
    "execution": {
     "iopub.execute_input": "2025-03-16T00:14:18.038441Z",
     "iopub.status.busy": "2025-03-16T00:14:18.037996Z",
     "iopub.status.idle": "2025-03-16T00:14:18.079198Z",
     "shell.execute_reply": "2025-03-16T00:14:18.078254Z",
     "shell.execute_reply.started": "2025-03-16T00:14:18.038410Z"
    },
    "executionInfo": {
     "elapsed": 117,
     "status": "ok",
     "timestamp": 1741865365674,
     "user": {
      "displayName": "ONLY 4 U",
      "userId": "10955013242325755559"
     },
     "user_tz": -330
    },
    "id": "bHq1UbNuImJ6",
    "trusted": true
   },
   "outputs": [],
   "source": [
    "test[\"EstimatedSalary\"] = np.log1p(test[\"EstimatedSalary\"])\n",
    "test[\"Balance\"] = np.log1p(test[\"Balance\"])\n",
    "test = scaler.transform(test)"
   ]
  },
  {
   "cell_type": "code",
   "execution_count": 44,
   "metadata": {
    "execution": {
     "iopub.execute_input": "2025-03-16T00:14:26.053435Z",
     "iopub.status.busy": "2025-03-16T00:14:26.053047Z",
     "iopub.status.idle": "2025-03-16T00:14:32.122859Z",
     "shell.execute_reply": "2025-03-16T00:14:32.121829Z",
     "shell.execute_reply.started": "2025-03-16T00:14:26.053404Z"
    },
    "executionInfo": {
     "elapsed": 6104,
     "status": "ok",
     "timestamp": 1741865371771,
     "user": {
      "displayName": "ONLY 4 U",
      "userId": "10955013242325755559"
     },
     "user_tz": -330
    },
    "id": "OWzhnx0hHnFm",
    "outputId": "0c0dcb4b-7aa0-4408-bddd-b2b363eabd09",
    "trusted": true
   },
   "outputs": [
    {
     "name": "stdout",
     "output_type": "stream",
     "text": [
      "\u001b[1m   1/3439\u001b[0m \u001b[37m━━━━━━━━━━━━━━━━━━━━\u001b[0m \u001b[1m43s\u001b[0m 13ms/step"
     ]
    },
    {
     "name": "stdout",
     "output_type": "stream",
     "text": [
      "\u001b[1m3439/3439\u001b[0m \u001b[32m━━━━━━━━━━━━━━━━━━━━\u001b[0m\u001b[37m\u001b[0m \u001b[1m3s\u001b[0m 734us/step\n"
     ]
    }
   ],
   "source": [
    "test_predict = model.predict(test)"
   ]
  },
  {
   "cell_type": "code",
   "execution_count": null,
   "metadata": {
    "execution": {
     "iopub.execute_input": "2025-03-16T00:14:44.269259Z",
     "iopub.status.busy": "2025-03-16T00:14:44.268817Z",
     "iopub.status.idle": "2025-03-16T00:14:44.546840Z",
     "shell.execute_reply": "2025-03-16T00:14:44.545713Z",
     "shell.execute_reply.started": "2025-03-16T00:14:44.269213Z"
    },
    "executionInfo": {
     "elapsed": 645,
     "status": "ok",
     "timestamp": 1741865389810,
     "user": {
      "displayName": "ONLY 4 U",
      "userId": "10955013242325755559"
     },
     "user_tz": -330
    },
    "id": "EcDJY4eaN_xe",
    "outputId": "9cafcc79-b90a-4027-b2f2-c79a5bf11014",
    "trusted": true
   },
   "outputs": [
    {
     "name": "stdout",
     "output_type": "stream",
     "text": [
      "(110023, 13)\n"
     ]
    }
   ],
   "source": [
    "id = pd.read_csv(\"../data/churn/test.csv\")\n",
    "print(id.shape)\n",
    "id = id[\"id\"]\n",
    "binary = (test_predict > 0.5).astype(int).flatten()\n",
    "# Assuming `predictions` contains your model's output\n",
    "submission = pd.DataFrame({\n",
    "    \"id\": id,\n",
    "    \"Exited\": binary\n",
    "})\n",
    "\n",
    "# Save as CSV (without index)\n",
    "submission.to_csv(\"../data/submission_2.csv\", index=False)"
   ]
  },
  {
   "cell_type": "code",
   "execution_count": null,
   "metadata": {
    "executionInfo": {
     "elapsed": 107,
     "status": "ok",
     "timestamp": 1741865392275,
     "user": {
      "displayName": "ONLY 4 U",
      "userId": "10955013242325755559"
     },
     "user_tz": -330
    },
    "id": "9_M7sgWqOTny",
    "outputId": "52c8f2fc-e740-4c0d-b26b-84f795a8039d",
    "trusted": true
   },
   "outputs": [],
   "source": []
  },
  {
   "cell_type": "code",
   "execution_count": null,
   "metadata": {},
   "outputs": [],
   "source": []
  }
 ],
 "metadata": {
  "colab": {
   "authorship_tag": "ABX9TyOVGcmKrCQKdxuz4lpSsws+",
   "provenance": []
  },
  "kaggle": {
   "accelerator": "none",
   "dataSources": [
    {
     "databundleVersionId": 7405009,
     "sourceId": 65711,
     "sourceType": "competition"
    }
   ],
   "dockerImageVersionId": 30918,
   "isGpuEnabled": false,
   "isInternetEnabled": true,
   "language": "python",
   "sourceType": "notebook"
  },
  "kernelspec": {
   "display_name": "Python 3",
   "language": "python",
   "name": "python3"
  },
  "language_info": {
   "codemirror_mode": {
    "name": "ipython",
    "version": 3
   },
   "file_extension": ".py",
   "mimetype": "text/x-python",
   "name": "python",
   "nbconvert_exporter": "python",
   "pygments_lexer": "ipython3",
   "version": "3.12.1"
  }
 },
 "nbformat": 4,
 "nbformat_minor": 4
}
