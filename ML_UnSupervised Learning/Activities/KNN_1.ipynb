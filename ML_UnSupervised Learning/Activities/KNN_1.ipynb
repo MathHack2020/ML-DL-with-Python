{
 "cells": [
  {
   "cell_type": "code",
   "execution_count": null,
   "metadata": {
    "id": "OjJjpPF31Kaq"
   },
   "outputs": [],
   "source": []
  },
  {
   "cell_type": "code",
   "execution_count": 3,
   "metadata": {
    "colab": {
     "base_uri": "https://localhost:8080/",
     "height": 204
    },
    "executionInfo": {
     "elapsed": 578,
     "status": "ok",
     "timestamp": 1601885458521,
     "user": {
      "displayName": "Math Hack",
      "photoUrl": "https://lh3.googleusercontent.com/a-/AOh14GjOrJzQ2xAgyHRSCzQ3qBInmHzMPfMtIJGxB4HG=s64",
      "userId": "13730440483455885359"
     },
     "user_tz": -180
    },
    "id": "IoCZkF5jejKC",
    "outputId": "9d24e47c-5285-4c36-9614-5ad46976ee64"
   },
   "outputs": [
    {
     "data": {
      "text/html": [
       "<div>\n",
       "<style scoped>\n",
       "    .dataframe tbody tr th:only-of-type {\n",
       "        vertical-align: middle;\n",
       "    }\n",
       "\n",
       "    .dataframe tbody tr th {\n",
       "        vertical-align: top;\n",
       "    }\n",
       "\n",
       "    .dataframe thead th {\n",
       "        text-align: right;\n",
       "    }\n",
       "</style>\n",
       "<table border=\"1\" class=\"dataframe\">\n",
       "  <thead>\n",
       "    <tr style=\"text-align: right;\">\n",
       "      <th></th>\n",
       "      <th>User ID</th>\n",
       "      <th>Gender</th>\n",
       "      <th>Age</th>\n",
       "      <th>EstimatedSalary</th>\n",
       "      <th>Purchased</th>\n",
       "    </tr>\n",
       "  </thead>\n",
       "  <tbody>\n",
       "    <tr>\n",
       "      <th>0</th>\n",
       "      <td>15624510</td>\n",
       "      <td>Male</td>\n",
       "      <td>19</td>\n",
       "      <td>19000</td>\n",
       "      <td>0</td>\n",
       "    </tr>\n",
       "    <tr>\n",
       "      <th>1</th>\n",
       "      <td>15810944</td>\n",
       "      <td>Male</td>\n",
       "      <td>35</td>\n",
       "      <td>20000</td>\n",
       "      <td>0</td>\n",
       "    </tr>\n",
       "    <tr>\n",
       "      <th>2</th>\n",
       "      <td>15668575</td>\n",
       "      <td>Female</td>\n",
       "      <td>26</td>\n",
       "      <td>43000</td>\n",
       "      <td>0</td>\n",
       "    </tr>\n",
       "    <tr>\n",
       "      <th>3</th>\n",
       "      <td>15603246</td>\n",
       "      <td>Female</td>\n",
       "      <td>27</td>\n",
       "      <td>57000</td>\n",
       "      <td>0</td>\n",
       "    </tr>\n",
       "    <tr>\n",
       "      <th>4</th>\n",
       "      <td>15804002</td>\n",
       "      <td>Male</td>\n",
       "      <td>19</td>\n",
       "      <td>76000</td>\n",
       "      <td>0</td>\n",
       "    </tr>\n",
       "  </tbody>\n",
       "</table>\n",
       "</div>"
      ],
      "text/plain": [
       "    User ID  Gender  Age  EstimatedSalary  Purchased\n",
       "0  15624510    Male   19            19000          0\n",
       "1  15810944    Male   35            20000          0\n",
       "2  15668575  Female   26            43000          0\n",
       "3  15603246  Female   27            57000          0\n",
       "4  15804002    Male   19            76000          0"
      ]
     },
     "execution_count": 3,
     "metadata": {},
     "output_type": "execute_result"
    }
   ],
   "source": [
    "import pandas as pd\n",
    "\n",
    "df=pd.read_csv('../data/Social_Network_Ads.csv')\n",
    "df.head()"
   ]
  },
  {
   "cell_type": "markdown",
   "metadata": {
    "id": "QCy-4aQ2nF5v"
   },
   "source": [
    "![](https://image.flaticon.com/icons/png/128/3079/3079166.png)"
   ]
  },
  {
   "cell_type": "code",
   "execution_count": 4,
   "metadata": {
    "colab": {
     "base_uri": "https://localhost:8080/",
     "height": 221
    },
    "executionInfo": {
     "elapsed": 919,
     "status": "ok",
     "timestamp": 1601885462609,
     "user": {
      "displayName": "Math Hack",
      "photoUrl": "https://lh3.googleusercontent.com/a-/AOh14GjOrJzQ2xAgyHRSCzQ3qBInmHzMPfMtIJGxB4HG=s64",
      "userId": "13730440483455885359"
     },
     "user_tz": -180
    },
    "id": "7IEAFB4om-ay",
    "outputId": "18ffb88b-3bfa-476a-ef58-21f49e036863"
   },
   "outputs": [
    {
     "data": {
      "text/plain": [
       "User ID             int64\n",
       "Gender             object\n",
       "Age                 int64\n",
       "EstimatedSalary     int64\n",
       "Purchased           int64\n",
       "dtype: object"
      ]
     },
     "execution_count": 4,
     "metadata": {},
     "output_type": "execute_result"
    }
   ],
   "source": [
    "df.dtypes"
   ]
  },
  {
   "cell_type": "code",
   "execution_count": 5,
   "metadata": {
    "colab": {
     "base_uri": "https://localhost:8080/",
     "height": 34
    },
    "executionInfo": {
     "elapsed": 678,
     "status": "ok",
     "timestamp": 1601885462958,
     "user": {
      "displayName": "Math Hack",
      "photoUrl": "https://lh3.googleusercontent.com/a-/AOh14GjOrJzQ2xAgyHRSCzQ3qBInmHzMPfMtIJGxB4HG=s64",
      "userId": "13730440483455885359"
     },
     "user_tz": -180
    },
    "id": "Yq_Q7WkHrhRX",
    "outputId": "70c4553d-c1f0-4241-dfb2-bd37381e7577"
   },
   "outputs": [
    {
     "data": {
      "text/plain": [
       "Index(['User ID', 'Gender', 'Age', 'EstimatedSalary', 'Purchased'], dtype='object')"
      ]
     },
     "execution_count": 5,
     "metadata": {},
     "output_type": "execute_result"
    }
   ],
   "source": [
    "df.keys()"
   ]
  },
  {
   "cell_type": "code",
   "execution_count": 6,
   "metadata": {
    "colab": {
     "base_uri": "https://localhost:8080/",
     "height": 119
    },
    "executionInfo": {
     "elapsed": 944,
     "status": "ok",
     "timestamp": 1601885465671,
     "user": {
      "displayName": "Math Hack",
      "photoUrl": "https://lh3.googleusercontent.com/a-/AOh14GjOrJzQ2xAgyHRSCzQ3qBInmHzMPfMtIJGxB4HG=s64",
      "userId": "13730440483455885359"
     },
     "user_tz": -180
    },
    "id": "CTdBwmRjq8Ii",
    "outputId": "c214aded-b767-44c6-eff4-f0428c702d35"
   },
   "outputs": [
    {
     "data": {
      "text/plain": [
       "User ID            0\n",
       "Gender             0\n",
       "Age                0\n",
       "EstimatedSalary    0\n",
       "Purchased          0\n",
       "dtype: int64"
      ]
     },
     "execution_count": 6,
     "metadata": {},
     "output_type": "execute_result"
    }
   ],
   "source": [
    "df.isna().sum()"
   ]
  },
  {
   "cell_type": "code",
   "execution_count": 7,
   "metadata": {
    "executionInfo": {
     "elapsed": 1083,
     "status": "ok",
     "timestamp": 1601885468319,
     "user": {
      "displayName": "Math Hack",
      "photoUrl": "https://lh3.googleusercontent.com/a-/AOh14GjOrJzQ2xAgyHRSCzQ3qBInmHzMPfMtIJGxB4HG=s64",
      "userId": "13730440483455885359"
     },
     "user_tz": -180
    },
    "id": "LWOUs-idsSSS"
   },
   "outputs": [],
   "source": [
    "df.set_index('User ID', inplace=True)"
   ]
  },
  {
   "cell_type": "code",
   "execution_count": 8,
   "metadata": {
    "colab": {
     "base_uri": "https://localhost:8080/",
     "height": 173
    },
    "executionInfo": {
     "elapsed": 592,
     "status": "ok",
     "timestamp": 1601885468320,
     "user": {
      "displayName": "Math Hack",
      "photoUrl": "https://lh3.googleusercontent.com/a-/AOh14GjOrJzQ2xAgyHRSCzQ3qBInmHzMPfMtIJGxB4HG=s64",
      "userId": "13730440483455885359"
     },
     "user_tz": -180
    },
    "id": "zb-kRyTesqiY",
    "outputId": "d54f7233-e540-4ad4-8ebd-09db73384536"
   },
   "outputs": [
    {
     "data": {
      "text/plain": [
       "Purchased\n",
       "0    257\n",
       "1    143\n",
       "Name: count, dtype: int64"
      ]
     },
     "execution_count": 8,
     "metadata": {},
     "output_type": "execute_result"
    }
   ],
   "source": [
    "df.Purchased.value_counts()"
   ]
  },
  {
   "cell_type": "markdown",
   "metadata": {
    "id": "F0T5--PsnQiP"
   },
   "source": [
    "<img src=\"https://encrypted-tbn0.gstatic.com/images?q=tbn%3AANd9GcT9GPc3te-hV52pZv1105UrkoNttMfzawJwFg&usqp=CAU\" width=100></img>"
   ]
  },
  {
   "cell_type": "code",
   "execution_count": 9,
   "metadata": {
    "executionInfo": {
     "elapsed": 912,
     "status": "ok",
     "timestamp": 1601885471832,
     "user": {
      "displayName": "Math Hack",
      "photoUrl": "https://lh3.googleusercontent.com/a-/AOh14GjOrJzQ2xAgyHRSCzQ3qBInmHzMPfMtIJGxB4HG=s64",
      "userId": "13730440483455885359"
     },
     "user_tz": -180
    },
    "id": "EugbdSR6ixGb"
   },
   "outputs": [],
   "source": [
    "X = df.drop('Purchased', axis=1)\n",
    "y = df.Purchased"
   ]
  },
  {
   "cell_type": "code",
   "execution_count": 10,
   "metadata": {
    "colab": {
     "base_uri": "https://localhost:8080/",
     "height": 235
    },
    "executionInfo": {
     "elapsed": 557,
     "status": "ok",
     "timestamp": 1601885472867,
     "user": {
      "displayName": "Math Hack",
      "photoUrl": "https://lh3.googleusercontent.com/a-/AOh14GjOrJzQ2xAgyHRSCzQ3qBInmHzMPfMtIJGxB4HG=s64",
      "userId": "13730440483455885359"
     },
     "user_tz": -180
    },
    "id": "_PBKPKz-i6GZ",
    "outputId": "e147b53c-07c1-4c2a-d0c4-331972ec648d"
   },
   "outputs": [
    {
     "data": {
      "text/html": [
       "<div>\n",
       "<style scoped>\n",
       "    .dataframe tbody tr th:only-of-type {\n",
       "        vertical-align: middle;\n",
       "    }\n",
       "\n",
       "    .dataframe tbody tr th {\n",
       "        vertical-align: top;\n",
       "    }\n",
       "\n",
       "    .dataframe thead th {\n",
       "        text-align: right;\n",
       "    }\n",
       "</style>\n",
       "<table border=\"1\" class=\"dataframe\">\n",
       "  <thead>\n",
       "    <tr style=\"text-align: right;\">\n",
       "      <th></th>\n",
       "      <th>Gender</th>\n",
       "      <th>Age</th>\n",
       "      <th>EstimatedSalary</th>\n",
       "    </tr>\n",
       "    <tr>\n",
       "      <th>User ID</th>\n",
       "      <th></th>\n",
       "      <th></th>\n",
       "      <th></th>\n",
       "    </tr>\n",
       "  </thead>\n",
       "  <tbody>\n",
       "    <tr>\n",
       "      <th>15624510</th>\n",
       "      <td>Male</td>\n",
       "      <td>19</td>\n",
       "      <td>19000</td>\n",
       "    </tr>\n",
       "    <tr>\n",
       "      <th>15810944</th>\n",
       "      <td>Male</td>\n",
       "      <td>35</td>\n",
       "      <td>20000</td>\n",
       "    </tr>\n",
       "    <tr>\n",
       "      <th>15668575</th>\n",
       "      <td>Female</td>\n",
       "      <td>26</td>\n",
       "      <td>43000</td>\n",
       "    </tr>\n",
       "    <tr>\n",
       "      <th>15603246</th>\n",
       "      <td>Female</td>\n",
       "      <td>27</td>\n",
       "      <td>57000</td>\n",
       "    </tr>\n",
       "    <tr>\n",
       "      <th>15804002</th>\n",
       "      <td>Male</td>\n",
       "      <td>19</td>\n",
       "      <td>76000</td>\n",
       "    </tr>\n",
       "  </tbody>\n",
       "</table>\n",
       "</div>"
      ],
      "text/plain": [
       "          Gender  Age  EstimatedSalary\n",
       "User ID                               \n",
       "15624510    Male   19            19000\n",
       "15810944    Male   35            20000\n",
       "15668575  Female   26            43000\n",
       "15603246  Female   27            57000\n",
       "15804002    Male   19            76000"
      ]
     },
     "execution_count": 10,
     "metadata": {},
     "output_type": "execute_result"
    }
   ],
   "source": [
    "X.head()"
   ]
  },
  {
   "cell_type": "markdown",
   "metadata": {
    "id": "pNW5OjMDnUwv"
   },
   "source": [
    "![](https://i.ibb.co/QChD6Y4/Train-test-1.jpg)"
   ]
  },
  {
   "cell_type": "code",
   "execution_count": 11,
   "metadata": {
    "executionInfo": {
     "elapsed": 922,
     "status": "ok",
     "timestamp": 1601885475280,
     "user": {
      "displayName": "Math Hack",
      "photoUrl": "https://lh3.googleusercontent.com/a-/AOh14GjOrJzQ2xAgyHRSCzQ3qBInmHzMPfMtIJGxB4HG=s64",
      "userId": "13730440483455885359"
     },
     "user_tz": -180
    },
    "id": "PuVIsHHyjc9z"
   },
   "outputs": [],
   "source": [
    "# Splitting the dataset into the Training set and Test set\n",
    "from sklearn.model_selection import train_test_split\n",
    "X_train, X_test, y_train, y_test = train_test_split(X, y, test_size = 0.25, random_state = 0)"
   ]
  },
  {
   "cell_type": "markdown",
   "metadata": {
    "id": "TkLGpStHniEp"
   },
   "source": [
    "<img src=\"https://i.ibb.co/16B5Nq1/grid-Search-CV.png\" width=500></img>\n"
   ]
  },
  {
   "cell_type": "code",
   "execution_count": 12,
   "metadata": {},
   "outputs": [
    {
     "name": "stdout",
     "output_type": "stream",
     "text": [
      "Requirement already satisfied: scikit-learn in /home/codespace/.python/current/lib/python3.12/site-packages (1.6.1)\n",
      "Requirement already satisfied: numpy>=1.19.5 in /home/codespace/.python/current/lib/python3.12/site-packages (from scikit-learn) (2.0.2)\n",
      "Requirement already satisfied: scipy>=1.6.0 in /home/codespace/.local/lib/python3.12/site-packages (from scikit-learn) (1.14.1)\n",
      "Requirement already satisfied: joblib>=1.2.0 in /home/codespace/.local/lib/python3.12/site-packages (from scikit-learn) (1.4.2)\n",
      "Requirement already satisfied: threadpoolctl>=3.1.0 in /home/codespace/.local/lib/python3.12/site-packages (from scikit-learn) (3.5.0)\n"
     ]
    }
   ],
   "source": [
    "! pip install scikit-learn"
   ]
  },
  {
   "cell_type": "code",
   "execution_count": 13,
   "metadata": {
    "executionInfo": {
     "elapsed": 847,
     "status": "ok",
     "timestamp": 1601885485586,
     "user": {
      "displayName": "Math Hack",
      "photoUrl": "https://lh3.googleusercontent.com/a-/AOh14GjOrJzQ2xAgyHRSCzQ3qBInmHzMPfMtIJGxB4HG=s64",
      "userId": "13730440483455885359"
     },
     "user_tz": -180
    },
    "id": "ACjh00u4oCI_"
   },
   "outputs": [],
   "source": [
    "from sklearn.preprocessing import StandardScaler , OneHotEncoder\n",
    "from sklearn.compose import make_column_transformer , make_column_selector  as selector\n",
    "# from sklearn.compose import  \n",
    "\n",
    "from sklearn.impute import SimpleImputer\n",
    "from sklearn.pipeline import make_pipeline\n",
    "  \n",
    "num_pipeline= make_pipeline(\n",
    "    StandardScaler()    # تغيير سلم البيانات الرقمية \n",
    ")\n",
    "\n",
    "cat_pipeline= make_pipeline(\n",
    "    OneHotEncoder(drop=\"if_binary\") #, sparse=False )  #   بما ان جميع القيم الناقصة قد تم تعويضا فلا فائدة من معالجتها لذا نقوم هنا باسقاط احد العمودين في حالة المتغير الثنائي\n",
    ")\n",
    "\n",
    "preprocess= make_column_transformer(\n",
    "     ( num_pipeline,  selector(dtype_include=\"number\") ),  #توظيف  سلسة معالجة الباينات أعلاه على جميع البيانات الرقمية  \n",
    "     (cat_pipeline, selector(dtype_include=\"object\")) , #category  كان بالامكان تغيير  نوع المتغيرات الى تصنيف  \n",
    "     remainder=\"passthrough\"  # واسقاط باقي البيانات الغير رقمية \n",
    ")"
   ]
  },
  {
   "cell_type": "code",
   "execution_count": 14,
   "metadata": {
    "colab": {
     "base_uri": "https://localhost:8080/",
     "height": 34
    },
    "executionInfo": {
     "elapsed": 582,
     "status": "ok",
     "timestamp": 1601885503073,
     "user": {
      "displayName": "Math Hack",
      "photoUrl": "https://lh3.googleusercontent.com/a-/AOh14GjOrJzQ2xAgyHRSCzQ3qBInmHzMPfMtIJGxB4HG=s64",
      "userId": "13730440483455885359"
     },
     "user_tz": -180
    },
    "id": "aX4dJNYfuNQe",
    "outputId": "c769941f-1788-4953-dece-239fd9425a93"
   },
   "outputs": [
    {
     "data": {
      "text/plain": [
       "(300, 3)"
      ]
     },
     "execution_count": 14,
     "metadata": {},
     "output_type": "execute_result"
    }
   ],
   "source": [
    "# التحقق من تحويل  البيانات \n",
    "preprocess.fit_transform(X_train).shape"
   ]
  },
  {
   "cell_type": "code",
   "execution_count": 15,
   "metadata": {
    "colab": {
     "base_uri": "https://localhost:8080/",
     "height": 34
    },
    "executionInfo": {
     "elapsed": 1155,
     "status": "ok",
     "timestamp": 1601885510465,
     "user": {
      "displayName": "Math Hack",
      "photoUrl": "https://lh3.googleusercontent.com/a-/AOh14GjOrJzQ2xAgyHRSCzQ3qBInmHzMPfMtIJGxB4HG=s64",
      "userId": "13730440483455885359"
     },
     "user_tz": -180
    },
    "id": "WkyAm206uNUA",
    "outputId": "1af9699d-bf7f-4358-8c31-5e7bc71934bc"
   },
   "outputs": [
    {
     "data": {
      "text/plain": [
       "array([-0.30964085, -1.29261101,  0.        ])"
      ]
     },
     "execution_count": 15,
     "metadata": {},
     "output_type": "execute_result"
    }
   ],
   "source": [
    "# حجم البيانات الجديد\n",
    "preprocess.fit_transform(X_train)[10]"
   ]
  },
  {
   "cell_type": "markdown",
   "metadata": {
    "id": "mZGJj60oue5e"
   },
   "source": [
    "<image src=\"https://static.thenounproject.com/png/2010152-200.png\" width=10%></img>"
   ]
  },
  {
   "cell_type": "code",
   "execution_count": 16,
   "metadata": {
    "executionInfo": {
     "elapsed": 936,
     "status": "ok",
     "timestamp": 1601885526386,
     "user": {
      "displayName": "Math Hack",
      "photoUrl": "https://lh3.googleusercontent.com/a-/AOh14GjOrJzQ2xAgyHRSCzQ3qBInmHzMPfMtIJGxB4HG=s64",
      "userId": "13730440483455885359"
     },
     "user_tz": -180
    },
    "id": "nRUDbJp_ucM5"
   },
   "outputs": [],
   "source": [
    "from sklearn.linear_model import Lasso\n",
    "from sklearn.neighbors import KNeighborsClassifier  \n",
    "pipe_KNN= make_pipeline(\n",
    "    preprocess,    # تغيير سلم البيانات الرقمية \n",
    "    KNeighborsClassifier( )  #    يعوض لاحقا ضمن المعايير أدناه \n",
    ")"
   ]
  },
  {
   "cell_type": "code",
   "execution_count": 17,
   "metadata": {
    "executionInfo": {
     "elapsed": 903,
     "status": "ok",
     "timestamp": 1601885531641,
     "user": {
      "displayName": "Math Hack",
      "photoUrl": "https://lh3.googleusercontent.com/a-/AOh14GjOrJzQ2xAgyHRSCzQ3qBInmHzMPfMtIJGxB4HG=s64",
      "userId": "13730440483455885359"
     },
     "user_tz": -180
    },
    "id": "4emJPVmQucRV"
   },
   "outputs": [],
   "source": [
    "from sklearn import set_config\n",
    "set_config(display='diagram')"
   ]
  },
  {
   "cell_type": "code",
   "execution_count": 18,
   "metadata": {
    "colab": {
     "base_uri": "https://localhost:8080/",
     "height": 164
    },
    "executionInfo": {
     "elapsed": 934,
     "status": "ok",
     "timestamp": 1601885534968,
     "user": {
      "displayName": "Math Hack",
      "photoUrl": "https://lh3.googleusercontent.com/a-/AOh14GjOrJzQ2xAgyHRSCzQ3qBInmHzMPfMtIJGxB4HG=s64",
      "userId": "13730440483455885359"
     },
     "user_tz": -180
    },
    "id": "oq55O38_uzif",
    "outputId": "8b2a6a97-abce-4317-c169-3ead4b3a843a"
   },
   "outputs": [
    {
     "data": {
      "text/html": [
       "<style>#sk-container-id-1 {\n",
       "  /* Definition of color scheme common for light and dark mode */\n",
       "  --sklearn-color-text: #000;\n",
       "  --sklearn-color-text-muted: #666;\n",
       "  --sklearn-color-line: gray;\n",
       "  /* Definition of color scheme for unfitted estimators */\n",
       "  --sklearn-color-unfitted-level-0: #fff5e6;\n",
       "  --sklearn-color-unfitted-level-1: #f6e4d2;\n",
       "  --sklearn-color-unfitted-level-2: #ffe0b3;\n",
       "  --sklearn-color-unfitted-level-3: chocolate;\n",
       "  /* Definition of color scheme for fitted estimators */\n",
       "  --sklearn-color-fitted-level-0: #f0f8ff;\n",
       "  --sklearn-color-fitted-level-1: #d4ebff;\n",
       "  --sklearn-color-fitted-level-2: #b3dbfd;\n",
       "  --sklearn-color-fitted-level-3: cornflowerblue;\n",
       "\n",
       "  /* Specific color for light theme */\n",
       "  --sklearn-color-text-on-default-background: var(--sg-text-color, var(--theme-code-foreground, var(--jp-content-font-color1, black)));\n",
       "  --sklearn-color-background: var(--sg-background-color, var(--theme-background, var(--jp-layout-color0, white)));\n",
       "  --sklearn-color-border-box: var(--sg-text-color, var(--theme-code-foreground, var(--jp-content-font-color1, black)));\n",
       "  --sklearn-color-icon: #696969;\n",
       "\n",
       "  @media (prefers-color-scheme: dark) {\n",
       "    /* Redefinition of color scheme for dark theme */\n",
       "    --sklearn-color-text-on-default-background: var(--sg-text-color, var(--theme-code-foreground, var(--jp-content-font-color1, white)));\n",
       "    --sklearn-color-background: var(--sg-background-color, var(--theme-background, var(--jp-layout-color0, #111)));\n",
       "    --sklearn-color-border-box: var(--sg-text-color, var(--theme-code-foreground, var(--jp-content-font-color1, white)));\n",
       "    --sklearn-color-icon: #878787;\n",
       "  }\n",
       "}\n",
       "\n",
       "#sk-container-id-1 {\n",
       "  color: var(--sklearn-color-text);\n",
       "}\n",
       "\n",
       "#sk-container-id-1 pre {\n",
       "  padding: 0;\n",
       "}\n",
       "\n",
       "#sk-container-id-1 input.sk-hidden--visually {\n",
       "  border: 0;\n",
       "  clip: rect(1px 1px 1px 1px);\n",
       "  clip: rect(1px, 1px, 1px, 1px);\n",
       "  height: 1px;\n",
       "  margin: -1px;\n",
       "  overflow: hidden;\n",
       "  padding: 0;\n",
       "  position: absolute;\n",
       "  width: 1px;\n",
       "}\n",
       "\n",
       "#sk-container-id-1 div.sk-dashed-wrapped {\n",
       "  border: 1px dashed var(--sklearn-color-line);\n",
       "  margin: 0 0.4em 0.5em 0.4em;\n",
       "  box-sizing: border-box;\n",
       "  padding-bottom: 0.4em;\n",
       "  background-color: var(--sklearn-color-background);\n",
       "}\n",
       "\n",
       "#sk-container-id-1 div.sk-container {\n",
       "  /* jupyter's `normalize.less` sets `[hidden] { display: none; }`\n",
       "     but bootstrap.min.css set `[hidden] { display: none !important; }`\n",
       "     so we also need the `!important` here to be able to override the\n",
       "     default hidden behavior on the sphinx rendered scikit-learn.org.\n",
       "     See: https://github.com/scikit-learn/scikit-learn/issues/21755 */\n",
       "  display: inline-block !important;\n",
       "  position: relative;\n",
       "}\n",
       "\n",
       "#sk-container-id-1 div.sk-text-repr-fallback {\n",
       "  display: none;\n",
       "}\n",
       "\n",
       "div.sk-parallel-item,\n",
       "div.sk-serial,\n",
       "div.sk-item {\n",
       "  /* draw centered vertical line to link estimators */\n",
       "  background-image: linear-gradient(var(--sklearn-color-text-on-default-background), var(--sklearn-color-text-on-default-background));\n",
       "  background-size: 2px 100%;\n",
       "  background-repeat: no-repeat;\n",
       "  background-position: center center;\n",
       "}\n",
       "\n",
       "/* Parallel-specific style estimator block */\n",
       "\n",
       "#sk-container-id-1 div.sk-parallel-item::after {\n",
       "  content: \"\";\n",
       "  width: 100%;\n",
       "  border-bottom: 2px solid var(--sklearn-color-text-on-default-background);\n",
       "  flex-grow: 1;\n",
       "}\n",
       "\n",
       "#sk-container-id-1 div.sk-parallel {\n",
       "  display: flex;\n",
       "  align-items: stretch;\n",
       "  justify-content: center;\n",
       "  background-color: var(--sklearn-color-background);\n",
       "  position: relative;\n",
       "}\n",
       "\n",
       "#sk-container-id-1 div.sk-parallel-item {\n",
       "  display: flex;\n",
       "  flex-direction: column;\n",
       "}\n",
       "\n",
       "#sk-container-id-1 div.sk-parallel-item:first-child::after {\n",
       "  align-self: flex-end;\n",
       "  width: 50%;\n",
       "}\n",
       "\n",
       "#sk-container-id-1 div.sk-parallel-item:last-child::after {\n",
       "  align-self: flex-start;\n",
       "  width: 50%;\n",
       "}\n",
       "\n",
       "#sk-container-id-1 div.sk-parallel-item:only-child::after {\n",
       "  width: 0;\n",
       "}\n",
       "\n",
       "/* Serial-specific style estimator block */\n",
       "\n",
       "#sk-container-id-1 div.sk-serial {\n",
       "  display: flex;\n",
       "  flex-direction: column;\n",
       "  align-items: center;\n",
       "  background-color: var(--sklearn-color-background);\n",
       "  padding-right: 1em;\n",
       "  padding-left: 1em;\n",
       "}\n",
       "\n",
       "\n",
       "/* Toggleable style: style used for estimator/Pipeline/ColumnTransformer box that is\n",
       "clickable and can be expanded/collapsed.\n",
       "- Pipeline and ColumnTransformer use this feature and define the default style\n",
       "- Estimators will overwrite some part of the style using the `sk-estimator` class\n",
       "*/\n",
       "\n",
       "/* Pipeline and ColumnTransformer style (default) */\n",
       "\n",
       "#sk-container-id-1 div.sk-toggleable {\n",
       "  /* Default theme specific background. It is overwritten whether we have a\n",
       "  specific estimator or a Pipeline/ColumnTransformer */\n",
       "  background-color: var(--sklearn-color-background);\n",
       "}\n",
       "\n",
       "/* Toggleable label */\n",
       "#sk-container-id-1 label.sk-toggleable__label {\n",
       "  cursor: pointer;\n",
       "  display: flex;\n",
       "  width: 100%;\n",
       "  margin-bottom: 0;\n",
       "  padding: 0.5em;\n",
       "  box-sizing: border-box;\n",
       "  text-align: center;\n",
       "  align-items: start;\n",
       "  justify-content: space-between;\n",
       "  gap: 0.5em;\n",
       "}\n",
       "\n",
       "#sk-container-id-1 label.sk-toggleable__label .caption {\n",
       "  font-size: 0.6rem;\n",
       "  font-weight: lighter;\n",
       "  color: var(--sklearn-color-text-muted);\n",
       "}\n",
       "\n",
       "#sk-container-id-1 label.sk-toggleable__label-arrow:before {\n",
       "  /* Arrow on the left of the label */\n",
       "  content: \"▸\";\n",
       "  float: left;\n",
       "  margin-right: 0.25em;\n",
       "  color: var(--sklearn-color-icon);\n",
       "}\n",
       "\n",
       "#sk-container-id-1 label.sk-toggleable__label-arrow:hover:before {\n",
       "  color: var(--sklearn-color-text);\n",
       "}\n",
       "\n",
       "/* Toggleable content - dropdown */\n",
       "\n",
       "#sk-container-id-1 div.sk-toggleable__content {\n",
       "  max-height: 0;\n",
       "  max-width: 0;\n",
       "  overflow: hidden;\n",
       "  text-align: left;\n",
       "  /* unfitted */\n",
       "  background-color: var(--sklearn-color-unfitted-level-0);\n",
       "}\n",
       "\n",
       "#sk-container-id-1 div.sk-toggleable__content.fitted {\n",
       "  /* fitted */\n",
       "  background-color: var(--sklearn-color-fitted-level-0);\n",
       "}\n",
       "\n",
       "#sk-container-id-1 div.sk-toggleable__content pre {\n",
       "  margin: 0.2em;\n",
       "  border-radius: 0.25em;\n",
       "  color: var(--sklearn-color-text);\n",
       "  /* unfitted */\n",
       "  background-color: var(--sklearn-color-unfitted-level-0);\n",
       "}\n",
       "\n",
       "#sk-container-id-1 div.sk-toggleable__content.fitted pre {\n",
       "  /* unfitted */\n",
       "  background-color: var(--sklearn-color-fitted-level-0);\n",
       "}\n",
       "\n",
       "#sk-container-id-1 input.sk-toggleable__control:checked~div.sk-toggleable__content {\n",
       "  /* Expand drop-down */\n",
       "  max-height: 200px;\n",
       "  max-width: 100%;\n",
       "  overflow: auto;\n",
       "}\n",
       "\n",
       "#sk-container-id-1 input.sk-toggleable__control:checked~label.sk-toggleable__label-arrow:before {\n",
       "  content: \"▾\";\n",
       "}\n",
       "\n",
       "/* Pipeline/ColumnTransformer-specific style */\n",
       "\n",
       "#sk-container-id-1 div.sk-label input.sk-toggleable__control:checked~label.sk-toggleable__label {\n",
       "  color: var(--sklearn-color-text);\n",
       "  background-color: var(--sklearn-color-unfitted-level-2);\n",
       "}\n",
       "\n",
       "#sk-container-id-1 div.sk-label.fitted input.sk-toggleable__control:checked~label.sk-toggleable__label {\n",
       "  background-color: var(--sklearn-color-fitted-level-2);\n",
       "}\n",
       "\n",
       "/* Estimator-specific style */\n",
       "\n",
       "/* Colorize estimator box */\n",
       "#sk-container-id-1 div.sk-estimator input.sk-toggleable__control:checked~label.sk-toggleable__label {\n",
       "  /* unfitted */\n",
       "  background-color: var(--sklearn-color-unfitted-level-2);\n",
       "}\n",
       "\n",
       "#sk-container-id-1 div.sk-estimator.fitted input.sk-toggleable__control:checked~label.sk-toggleable__label {\n",
       "  /* fitted */\n",
       "  background-color: var(--sklearn-color-fitted-level-2);\n",
       "}\n",
       "\n",
       "#sk-container-id-1 div.sk-label label.sk-toggleable__label,\n",
       "#sk-container-id-1 div.sk-label label {\n",
       "  /* The background is the default theme color */\n",
       "  color: var(--sklearn-color-text-on-default-background);\n",
       "}\n",
       "\n",
       "/* On hover, darken the color of the background */\n",
       "#sk-container-id-1 div.sk-label:hover label.sk-toggleable__label {\n",
       "  color: var(--sklearn-color-text);\n",
       "  background-color: var(--sklearn-color-unfitted-level-2);\n",
       "}\n",
       "\n",
       "/* Label box, darken color on hover, fitted */\n",
       "#sk-container-id-1 div.sk-label.fitted:hover label.sk-toggleable__label.fitted {\n",
       "  color: var(--sklearn-color-text);\n",
       "  background-color: var(--sklearn-color-fitted-level-2);\n",
       "}\n",
       "\n",
       "/* Estimator label */\n",
       "\n",
       "#sk-container-id-1 div.sk-label label {\n",
       "  font-family: monospace;\n",
       "  font-weight: bold;\n",
       "  display: inline-block;\n",
       "  line-height: 1.2em;\n",
       "}\n",
       "\n",
       "#sk-container-id-1 div.sk-label-container {\n",
       "  text-align: center;\n",
       "}\n",
       "\n",
       "/* Estimator-specific */\n",
       "#sk-container-id-1 div.sk-estimator {\n",
       "  font-family: monospace;\n",
       "  border: 1px dotted var(--sklearn-color-border-box);\n",
       "  border-radius: 0.25em;\n",
       "  box-sizing: border-box;\n",
       "  margin-bottom: 0.5em;\n",
       "  /* unfitted */\n",
       "  background-color: var(--sklearn-color-unfitted-level-0);\n",
       "}\n",
       "\n",
       "#sk-container-id-1 div.sk-estimator.fitted {\n",
       "  /* fitted */\n",
       "  background-color: var(--sklearn-color-fitted-level-0);\n",
       "}\n",
       "\n",
       "/* on hover */\n",
       "#sk-container-id-1 div.sk-estimator:hover {\n",
       "  /* unfitted */\n",
       "  background-color: var(--sklearn-color-unfitted-level-2);\n",
       "}\n",
       "\n",
       "#sk-container-id-1 div.sk-estimator.fitted:hover {\n",
       "  /* fitted */\n",
       "  background-color: var(--sklearn-color-fitted-level-2);\n",
       "}\n",
       "\n",
       "/* Specification for estimator info (e.g. \"i\" and \"?\") */\n",
       "\n",
       "/* Common style for \"i\" and \"?\" */\n",
       "\n",
       ".sk-estimator-doc-link,\n",
       "a:link.sk-estimator-doc-link,\n",
       "a:visited.sk-estimator-doc-link {\n",
       "  float: right;\n",
       "  font-size: smaller;\n",
       "  line-height: 1em;\n",
       "  font-family: monospace;\n",
       "  background-color: var(--sklearn-color-background);\n",
       "  border-radius: 1em;\n",
       "  height: 1em;\n",
       "  width: 1em;\n",
       "  text-decoration: none !important;\n",
       "  margin-left: 0.5em;\n",
       "  text-align: center;\n",
       "  /* unfitted */\n",
       "  border: var(--sklearn-color-unfitted-level-1) 1pt solid;\n",
       "  color: var(--sklearn-color-unfitted-level-1);\n",
       "}\n",
       "\n",
       ".sk-estimator-doc-link.fitted,\n",
       "a:link.sk-estimator-doc-link.fitted,\n",
       "a:visited.sk-estimator-doc-link.fitted {\n",
       "  /* fitted */\n",
       "  border: var(--sklearn-color-fitted-level-1) 1pt solid;\n",
       "  color: var(--sklearn-color-fitted-level-1);\n",
       "}\n",
       "\n",
       "/* On hover */\n",
       "div.sk-estimator:hover .sk-estimator-doc-link:hover,\n",
       ".sk-estimator-doc-link:hover,\n",
       "div.sk-label-container:hover .sk-estimator-doc-link:hover,\n",
       ".sk-estimator-doc-link:hover {\n",
       "  /* unfitted */\n",
       "  background-color: var(--sklearn-color-unfitted-level-3);\n",
       "  color: var(--sklearn-color-background);\n",
       "  text-decoration: none;\n",
       "}\n",
       "\n",
       "div.sk-estimator.fitted:hover .sk-estimator-doc-link.fitted:hover,\n",
       ".sk-estimator-doc-link.fitted:hover,\n",
       "div.sk-label-container:hover .sk-estimator-doc-link.fitted:hover,\n",
       ".sk-estimator-doc-link.fitted:hover {\n",
       "  /* fitted */\n",
       "  background-color: var(--sklearn-color-fitted-level-3);\n",
       "  color: var(--sklearn-color-background);\n",
       "  text-decoration: none;\n",
       "}\n",
       "\n",
       "/* Span, style for the box shown on hovering the info icon */\n",
       ".sk-estimator-doc-link span {\n",
       "  display: none;\n",
       "  z-index: 9999;\n",
       "  position: relative;\n",
       "  font-weight: normal;\n",
       "  right: .2ex;\n",
       "  padding: .5ex;\n",
       "  margin: .5ex;\n",
       "  width: min-content;\n",
       "  min-width: 20ex;\n",
       "  max-width: 50ex;\n",
       "  color: var(--sklearn-color-text);\n",
       "  box-shadow: 2pt 2pt 4pt #999;\n",
       "  /* unfitted */\n",
       "  background: var(--sklearn-color-unfitted-level-0);\n",
       "  border: .5pt solid var(--sklearn-color-unfitted-level-3);\n",
       "}\n",
       "\n",
       ".sk-estimator-doc-link.fitted span {\n",
       "  /* fitted */\n",
       "  background: var(--sklearn-color-fitted-level-0);\n",
       "  border: var(--sklearn-color-fitted-level-3);\n",
       "}\n",
       "\n",
       ".sk-estimator-doc-link:hover span {\n",
       "  display: block;\n",
       "}\n",
       "\n",
       "/* \"?\"-specific style due to the `<a>` HTML tag */\n",
       "\n",
       "#sk-container-id-1 a.estimator_doc_link {\n",
       "  float: right;\n",
       "  font-size: 1rem;\n",
       "  line-height: 1em;\n",
       "  font-family: monospace;\n",
       "  background-color: var(--sklearn-color-background);\n",
       "  border-radius: 1rem;\n",
       "  height: 1rem;\n",
       "  width: 1rem;\n",
       "  text-decoration: none;\n",
       "  /* unfitted */\n",
       "  color: var(--sklearn-color-unfitted-level-1);\n",
       "  border: var(--sklearn-color-unfitted-level-1) 1pt solid;\n",
       "}\n",
       "\n",
       "#sk-container-id-1 a.estimator_doc_link.fitted {\n",
       "  /* fitted */\n",
       "  border: var(--sklearn-color-fitted-level-1) 1pt solid;\n",
       "  color: var(--sklearn-color-fitted-level-1);\n",
       "}\n",
       "\n",
       "/* On hover */\n",
       "#sk-container-id-1 a.estimator_doc_link:hover {\n",
       "  /* unfitted */\n",
       "  background-color: var(--sklearn-color-unfitted-level-3);\n",
       "  color: var(--sklearn-color-background);\n",
       "  text-decoration: none;\n",
       "}\n",
       "\n",
       "#sk-container-id-1 a.estimator_doc_link.fitted:hover {\n",
       "  /* fitted */\n",
       "  background-color: var(--sklearn-color-fitted-level-3);\n",
       "}\n",
       "</style><div id=\"sk-container-id-1\" class=\"sk-top-container\"><div class=\"sk-text-repr-fallback\"><pre>Pipeline(steps=[(&#x27;columntransformer&#x27;,\n",
       "                 ColumnTransformer(remainder=&#x27;passthrough&#x27;,\n",
       "                                   transformers=[(&#x27;pipeline-1&#x27;,\n",
       "                                                  Pipeline(steps=[(&#x27;standardscaler&#x27;,\n",
       "                                                                   StandardScaler())]),\n",
       "                                                  &lt;sklearn.compose._column_transformer.make_column_selector object at 0x7ed51774af60&gt;),\n",
       "                                                 (&#x27;pipeline-2&#x27;,\n",
       "                                                  Pipeline(steps=[(&#x27;onehotencoder&#x27;,\n",
       "                                                                   OneHotEncoder(drop=&#x27;if_binary&#x27;))]),\n",
       "                                                  &lt;sklearn.compose._column_transformer.make_column_selector object at 0x7ed51774bd10&gt;)])),\n",
       "                (&#x27;kneighborsclassifier&#x27;, KNeighborsClassifier())])</pre><b>In a Jupyter environment, please rerun this cell to show the HTML representation or trust the notebook. <br />On GitHub, the HTML representation is unable to render, please try loading this page with nbviewer.org.</b></div><div class=\"sk-container\" hidden><div class=\"sk-item sk-dashed-wrapped\"><div class=\"sk-label-container\"><div class=\"sk-label fitted sk-toggleable\"><input class=\"sk-toggleable__control sk-hidden--visually\" id=\"sk-estimator-id-1\" type=\"checkbox\" ><label for=\"sk-estimator-id-1\" class=\"sk-toggleable__label fitted sk-toggleable__label-arrow\"><div><div>Pipeline</div></div><div><a class=\"sk-estimator-doc-link fitted\" rel=\"noreferrer\" target=\"_blank\" href=\"https://scikit-learn.org/1.6/modules/generated/sklearn.pipeline.Pipeline.html\">?<span>Documentation for Pipeline</span></a><span class=\"sk-estimator-doc-link fitted\">i<span>Fitted</span></span></div></label><div class=\"sk-toggleable__content fitted\"><pre>Pipeline(steps=[(&#x27;columntransformer&#x27;,\n",
       "                 ColumnTransformer(remainder=&#x27;passthrough&#x27;,\n",
       "                                   transformers=[(&#x27;pipeline-1&#x27;,\n",
       "                                                  Pipeline(steps=[(&#x27;standardscaler&#x27;,\n",
       "                                                                   StandardScaler())]),\n",
       "                                                  &lt;sklearn.compose._column_transformer.make_column_selector object at 0x7ed51774af60&gt;),\n",
       "                                                 (&#x27;pipeline-2&#x27;,\n",
       "                                                  Pipeline(steps=[(&#x27;onehotencoder&#x27;,\n",
       "                                                                   OneHotEncoder(drop=&#x27;if_binary&#x27;))]),\n",
       "                                                  &lt;sklearn.compose._column_transformer.make_column_selector object at 0x7ed51774bd10&gt;)])),\n",
       "                (&#x27;kneighborsclassifier&#x27;, KNeighborsClassifier())])</pre></div> </div></div><div class=\"sk-serial\"><div class=\"sk-item sk-dashed-wrapped\"><div class=\"sk-label-container\"><div class=\"sk-label fitted sk-toggleable\"><input class=\"sk-toggleable__control sk-hidden--visually\" id=\"sk-estimator-id-2\" type=\"checkbox\" ><label for=\"sk-estimator-id-2\" class=\"sk-toggleable__label fitted sk-toggleable__label-arrow\"><div><div>columntransformer: ColumnTransformer</div></div><div><a class=\"sk-estimator-doc-link fitted\" rel=\"noreferrer\" target=\"_blank\" href=\"https://scikit-learn.org/1.6/modules/generated/sklearn.compose.ColumnTransformer.html\">?<span>Documentation for columntransformer: ColumnTransformer</span></a></div></label><div class=\"sk-toggleable__content fitted\"><pre>ColumnTransformer(remainder=&#x27;passthrough&#x27;,\n",
       "                  transformers=[(&#x27;pipeline-1&#x27;,\n",
       "                                 Pipeline(steps=[(&#x27;standardscaler&#x27;,\n",
       "                                                  StandardScaler())]),\n",
       "                                 &lt;sklearn.compose._column_transformer.make_column_selector object at 0x7ed51774af60&gt;),\n",
       "                                (&#x27;pipeline-2&#x27;,\n",
       "                                 Pipeline(steps=[(&#x27;onehotencoder&#x27;,\n",
       "                                                  OneHotEncoder(drop=&#x27;if_binary&#x27;))]),\n",
       "                                 &lt;sklearn.compose._column_transformer.make_column_selector object at 0x7ed51774bd10&gt;)])</pre></div> </div></div><div class=\"sk-parallel\"><div class=\"sk-parallel-item\"><div class=\"sk-item\"><div class=\"sk-label-container\"><div class=\"sk-label fitted sk-toggleable\"><input class=\"sk-toggleable__control sk-hidden--visually\" id=\"sk-estimator-id-3\" type=\"checkbox\" ><label for=\"sk-estimator-id-3\" class=\"sk-toggleable__label fitted sk-toggleable__label-arrow\"><div><div>pipeline-1</div></div></label><div class=\"sk-toggleable__content fitted\"><pre>&lt;sklearn.compose._column_transformer.make_column_selector object at 0x7ed51774af60&gt;</pre></div> </div></div><div class=\"sk-serial\"><div class=\"sk-item\"><div class=\"sk-serial\"><div class=\"sk-item\"><div class=\"sk-estimator fitted sk-toggleable\"><input class=\"sk-toggleable__control sk-hidden--visually\" id=\"sk-estimator-id-4\" type=\"checkbox\" ><label for=\"sk-estimator-id-4\" class=\"sk-toggleable__label fitted sk-toggleable__label-arrow\"><div><div>StandardScaler</div></div><div><a class=\"sk-estimator-doc-link fitted\" rel=\"noreferrer\" target=\"_blank\" href=\"https://scikit-learn.org/1.6/modules/generated/sklearn.preprocessing.StandardScaler.html\">?<span>Documentation for StandardScaler</span></a></div></label><div class=\"sk-toggleable__content fitted\"><pre>StandardScaler()</pre></div> </div></div></div></div></div></div></div><div class=\"sk-parallel-item\"><div class=\"sk-item\"><div class=\"sk-label-container\"><div class=\"sk-label fitted sk-toggleable\"><input class=\"sk-toggleable__control sk-hidden--visually\" id=\"sk-estimator-id-5\" type=\"checkbox\" ><label for=\"sk-estimator-id-5\" class=\"sk-toggleable__label fitted sk-toggleable__label-arrow\"><div><div>pipeline-2</div></div></label><div class=\"sk-toggleable__content fitted\"><pre>&lt;sklearn.compose._column_transformer.make_column_selector object at 0x7ed51774bd10&gt;</pre></div> </div></div><div class=\"sk-serial\"><div class=\"sk-item\"><div class=\"sk-serial\"><div class=\"sk-item\"><div class=\"sk-estimator fitted sk-toggleable\"><input class=\"sk-toggleable__control sk-hidden--visually\" id=\"sk-estimator-id-6\" type=\"checkbox\" ><label for=\"sk-estimator-id-6\" class=\"sk-toggleable__label fitted sk-toggleable__label-arrow\"><div><div>OneHotEncoder</div></div><div><a class=\"sk-estimator-doc-link fitted\" rel=\"noreferrer\" target=\"_blank\" href=\"https://scikit-learn.org/1.6/modules/generated/sklearn.preprocessing.OneHotEncoder.html\">?<span>Documentation for OneHotEncoder</span></a></div></label><div class=\"sk-toggleable__content fitted\"><pre>OneHotEncoder(drop=&#x27;if_binary&#x27;)</pre></div> </div></div></div></div></div></div></div><div class=\"sk-parallel-item\"><div class=\"sk-item\"><div class=\"sk-label-container\"><div class=\"sk-label fitted sk-toggleable\"><input class=\"sk-toggleable__control sk-hidden--visually\" id=\"sk-estimator-id-7\" type=\"checkbox\" ><label for=\"sk-estimator-id-7\" class=\"sk-toggleable__label fitted sk-toggleable__label-arrow\"><div><div>remainder</div></div></label><div class=\"sk-toggleable__content fitted\"><pre>[]</pre></div> </div></div><div class=\"sk-serial\"><div class=\"sk-item\"><div class=\"sk-estimator fitted sk-toggleable\"><input class=\"sk-toggleable__control sk-hidden--visually\" id=\"sk-estimator-id-8\" type=\"checkbox\" ><label for=\"sk-estimator-id-8\" class=\"sk-toggleable__label fitted sk-toggleable__label-arrow\"><div><div>passthrough</div></div></label><div class=\"sk-toggleable__content fitted\"><pre>passthrough</pre></div> </div></div></div></div></div></div></div><div class=\"sk-item\"><div class=\"sk-estimator fitted sk-toggleable\"><input class=\"sk-toggleable__control sk-hidden--visually\" id=\"sk-estimator-id-9\" type=\"checkbox\" ><label for=\"sk-estimator-id-9\" class=\"sk-toggleable__label fitted sk-toggleable__label-arrow\"><div><div>KNeighborsClassifier</div></div><div><a class=\"sk-estimator-doc-link fitted\" rel=\"noreferrer\" target=\"_blank\" href=\"https://scikit-learn.org/1.6/modules/generated/sklearn.neighbors.KNeighborsClassifier.html\">?<span>Documentation for KNeighborsClassifier</span></a></div></label><div class=\"sk-toggleable__content fitted\"><pre>KNeighborsClassifier()</pre></div> </div></div></div></div></div></div>"
      ],
      "text/plain": [
       "Pipeline(steps=[('columntransformer',\n",
       "                 ColumnTransformer(remainder='passthrough',\n",
       "                                   transformers=[('pipeline-1',\n",
       "                                                  Pipeline(steps=[('standardscaler',\n",
       "                                                                   StandardScaler())]),\n",
       "                                                  <sklearn.compose._column_transformer.make_column_selector object at 0x7ed51774af60>),\n",
       "                                                 ('pipeline-2',\n",
       "                                                  Pipeline(steps=[('onehotencoder',\n",
       "                                                                   OneHotEncoder(drop='if_binary'))]),\n",
       "                                                  <sklearn.compose._column_transformer.make_column_selector object at 0x7ed51774bd10>)])),\n",
       "                ('kneighborsclassifier', KNeighborsClassifier())])"
      ]
     },
     "execution_count": 18,
     "metadata": {},
     "output_type": "execute_result"
    }
   ],
   "source": [
    "# تدريب البيانات\n",
    "pipe_KNN.fit(X_train, y_train)"
   ]
  },
  {
   "cell_type": "markdown",
   "metadata": {
    "id": "a8E0vIzZu_IQ"
   },
   "source": [
    "![](https://i.ibb.co/wQC2qF6/ruler.png)"
   ]
  },
  {
   "cell_type": "code",
   "execution_count": 19,
   "metadata": {
    "colab": {
     "base_uri": "https://localhost:8080/",
     "height": 35
    },
    "executionInfo": {
     "elapsed": 977,
     "status": "ok",
     "timestamp": 1601885539619,
     "user": {
      "displayName": "Math Hack",
      "photoUrl": "https://lh3.googleusercontent.com/a-/AOh14GjOrJzQ2xAgyHRSCzQ3qBInmHzMPfMtIJGxB4HG=s64",
      "userId": "13730440483455885359"
     },
     "user_tz": -180
    },
    "id": "rcbyQR4hu8nv",
    "outputId": "30743cbd-fc2e-4e41-b565-e1dfce3dfdc9"
   },
   "outputs": [
    {
     "data": {
      "text/plain": [
       "' Accurcary 0.93'"
      ]
     },
     "execution_count": 19,
     "metadata": {},
     "output_type": "execute_result"
    }
   ],
   "source": [
    "# قياس درجة  دقة  التنبؤ\n",
    "f\" Accurcary {pipe_KNN.score(X_test, y_test):.3}\"\n",
    "#  الاصلي  alpha   باعتمدنا  هنا على   معيار   "
   ]
  },
  {
   "cell_type": "code",
   "execution_count": 20,
   "metadata": {
    "colab": {
     "base_uri": "https://localhost:8080/",
     "height": 646
    },
    "executionInfo": {
     "elapsed": 1132,
     "status": "ok",
     "timestamp": 1601885543531,
     "user": {
      "displayName": "Math Hack",
      "photoUrl": "https://lh3.googleusercontent.com/a-/AOh14GjOrJzQ2xAgyHRSCzQ3qBInmHzMPfMtIJGxB4HG=s64",
      "userId": "13730440483455885359"
     },
     "user_tz": -180
    },
    "id": "fE9GRyUuu8rH",
    "outputId": "08bb3d57-ad96-4e3b-9959-08c2b33fa110"
   },
   "outputs": [
    {
     "data": {
      "text/plain": [
       "['memory',\n",
       " 'steps',\n",
       " 'transform_input',\n",
       " 'verbose',\n",
       " 'columntransformer',\n",
       " 'kneighborsclassifier',\n",
       " 'columntransformer__force_int_remainder_cols',\n",
       " 'columntransformer__n_jobs',\n",
       " 'columntransformer__remainder',\n",
       " 'columntransformer__sparse_threshold',\n",
       " 'columntransformer__transformer_weights',\n",
       " 'columntransformer__transformers',\n",
       " 'columntransformer__verbose',\n",
       " 'columntransformer__verbose_feature_names_out',\n",
       " 'columntransformer__pipeline-1',\n",
       " 'columntransformer__pipeline-2',\n",
       " 'columntransformer__pipeline-1__memory',\n",
       " 'columntransformer__pipeline-1__steps',\n",
       " 'columntransformer__pipeline-1__transform_input',\n",
       " 'columntransformer__pipeline-1__verbose',\n",
       " 'columntransformer__pipeline-1__standardscaler',\n",
       " 'columntransformer__pipeline-1__standardscaler__copy',\n",
       " 'columntransformer__pipeline-1__standardscaler__with_mean',\n",
       " 'columntransformer__pipeline-1__standardscaler__with_std',\n",
       " 'columntransformer__pipeline-2__memory',\n",
       " 'columntransformer__pipeline-2__steps',\n",
       " 'columntransformer__pipeline-2__transform_input',\n",
       " 'columntransformer__pipeline-2__verbose',\n",
       " 'columntransformer__pipeline-2__onehotencoder',\n",
       " 'columntransformer__pipeline-2__onehotencoder__categories',\n",
       " 'columntransformer__pipeline-2__onehotencoder__drop',\n",
       " 'columntransformer__pipeline-2__onehotencoder__dtype',\n",
       " 'columntransformer__pipeline-2__onehotencoder__feature_name_combiner',\n",
       " 'columntransformer__pipeline-2__onehotencoder__handle_unknown',\n",
       " 'columntransformer__pipeline-2__onehotencoder__max_categories',\n",
       " 'columntransformer__pipeline-2__onehotencoder__min_frequency',\n",
       " 'columntransformer__pipeline-2__onehotencoder__sparse_output',\n",
       " 'kneighborsclassifier__algorithm',\n",
       " 'kneighborsclassifier__leaf_size',\n",
       " 'kneighborsclassifier__metric',\n",
       " 'kneighborsclassifier__metric_params',\n",
       " 'kneighborsclassifier__n_jobs',\n",
       " 'kneighborsclassifier__n_neighbors',\n",
       " 'kneighborsclassifier__p',\n",
       " 'kneighborsclassifier__weights']"
      ]
     },
     "execution_count": 20,
     "metadata": {},
     "output_type": "execute_result"
    }
   ],
   "source": [
    "#pipeline  معايير  \n",
    "list(pipe_KNN.get_params().keys())"
   ]
  },
  {
   "cell_type": "markdown",
   "metadata": {
    "id": "mPVvNlBAvLcm"
   },
   "source": [
    "<img src=\"https://i.ibb.co/2vW8dtL/hyper-Parameters.png\" width=300></img>"
   ]
  },
  {
   "cell_type": "code",
   "execution_count": null,
   "metadata": {
    "executionInfo": {
     "elapsed": 918,
     "status": "ok",
     "timestamp": 1601885547224,
     "user": {
      "displayName": "Math Hack",
      "photoUrl": "https://lh3.googleusercontent.com/a-/AOh14GjOrJzQ2xAgyHRSCzQ3qBInmHzMPfMtIJGxB4HG=s64",
      "userId": "13730440483455885359"
     },
     "user_tz": -180
    },
    "id": "kR8ByuxzxmDK"
   },
   "outputs": [],
   "source": []
  },
  {
   "cell_type": "code",
   "execution_count": 21,
   "metadata": {
    "executionInfo": {
     "elapsed": 920,
     "status": "ok",
     "timestamp": 1601885802231,
     "user": {
      "displayName": "Math Hack",
      "photoUrl": "https://lh3.googleusercontent.com/a-/AOh14GjOrJzQ2xAgyHRSCzQ3qBInmHzMPfMtIJGxB4HG=s64",
      "userId": "13730440483455885359"
     },
     "user_tz": -180
    },
    "id": "EETWKqgtu8ug"
   },
   "outputs": [],
   "source": [
    "import numpy as np\n",
    "param_grid = {\n",
    "    'kneighborsclassifier__leaf_size': np.arange(1,10),\n",
    "    'kneighborsclassifier__n_neighbors': np.arange(1,20),\n",
    "    'kneighborsclassifier__p' : [1,2]\n",
    "}"
   ]
  },
  {
   "cell_type": "code",
   "execution_count": 22,
   "metadata": {
    "executionInfo": {
     "elapsed": 964,
     "status": "ok",
     "timestamp": 1601885806475,
     "user": {
      "displayName": "Math Hack",
      "photoUrl": "https://lh3.googleusercontent.com/a-/AOh14GjOrJzQ2xAgyHRSCzQ3qBInmHzMPfMtIJGxB4HG=s64",
      "userId": "13730440483455885359"
     },
     "user_tz": -180
    },
    "id": "cbnI_7eX1QuF"
   },
   "outputs": [],
   "source": [
    "# Define cross validation\n",
    "from sklearn.model_selection import KFold\n",
    "\n",
    "kf = KFold(n_splits=5, random_state=42, shuffle=True)"
   ]
  },
  {
   "cell_type": "code",
   "execution_count": 23,
   "metadata": {
    "executionInfo": {
     "elapsed": 612,
     "status": "ok",
     "timestamp": 1601885807683,
     "user": {
      "displayName": "Math Hack",
      "photoUrl": "https://lh3.googleusercontent.com/a-/AOh14GjOrJzQ2xAgyHRSCzQ3qBInmHzMPfMtIJGxB4HG=s64",
      "userId": "13730440483455885359"
     },
     "user_tz": -180
    },
    "id": "1PUoXgt91UzG"
   },
   "outputs": [],
   "source": [
    "from sklearn.metrics import roc_curve, precision_recall_curve, auc, make_scorer, recall_score, accuracy_score, precision_score, confusion_matrix, roc_auc_score\n",
    "scorers = {\n",
    "    'precision_score': make_scorer(precision_score),\n",
    "    'recall_score': make_scorer(recall_score),\n",
    "    'accuracy_score': make_scorer(accuracy_score ),\n",
    "    'roc_auc': make_scorer(roc_auc_score)\n",
    "}"
   ]
  },
  {
   "cell_type": "code",
   "execution_count": 24,
   "metadata": {
    "executionInfo": {
     "elapsed": 563,
     "status": "ok",
     "timestamp": 1601885819808,
     "user": {
      "displayName": "Math Hack",
      "photoUrl": "https://lh3.googleusercontent.com/a-/AOh14GjOrJzQ2xAgyHRSCzQ3qBInmHzMPfMtIJGxB4HG=s64",
      "userId": "13730440483455885359"
     },
     "user_tz": -180
    },
    "id": "CiGP-UuRvMde"
   },
   "outputs": [],
   "source": [
    "# %%timeit\n",
    "from sklearn.model_selection import RandomizedSearchCV\n",
    "RdSearch = RandomizedSearchCV(pipe_KNN, param_distributions=param_grid, cv=kf, verbose=3, \n",
    "                                n_jobs=-1 ,scoring= scorers   , n_iter=50 , refit=\"roc_auc\" )"
   ]
  },
  {
   "cell_type": "code",
   "execution_count": 25,
   "metadata": {
    "colab": {
     "base_uri": "https://localhost:8080/",
     "height": 284
    },
    "executionInfo": {
     "elapsed": 89151,
     "status": "ok",
     "timestamp": 1601885922104,
     "user": {
      "displayName": "Math Hack",
      "photoUrl": "https://lh3.googleusercontent.com/a-/AOh14GjOrJzQ2xAgyHRSCzQ3qBInmHzMPfMtIJGxB4HG=s64",
      "userId": "13730440483455885359"
     },
     "user_tz": -180
    },
    "id": "RoUHFCETvMj_",
    "outputId": "d053159f-10c2-436d-b273-46b4df705605"
   },
   "outputs": [
    {
     "name": "stdout",
     "output_type": "stream",
     "text": [
      "Fitting 5 folds for each of 50 candidates, totalling 250 fits\n"
     ]
    },
    {
     "name": "stdout",
     "output_type": "stream",
     "text": [
      "[CV 1/5] END kneighborsclassifier__leaf_size=3, kneighborsclassifier__n_neighbors=7, kneighborsclassifier__p=2; accuracy_score: (test=0.900) precision_score: (test=0.880) recall_score: (test=0.880) roc_auc: (test=0.897) total time=   0.0s\n",
      "[CV 2/5] END kneighborsclassifier__leaf_size=3, kneighborsclassifier__n_neighbors=7, kneighborsclassifier__p=2; accuracy_score: (test=0.917) precision_score: (test=0.826) recall_score: (test=0.950) roc_auc: (test=0.925) total time=   0.0s\n",
      "[CV 3/5] END kneighborsclassifier__leaf_size=3, kneighborsclassifier__n_neighbors=7, kneighborsclassifier__p=2; accuracy_score: (test=0.933) precision_score: (test=0.842) recall_score: (test=0.941) roc_auc: (test=0.936) total time=   0.0s\n",
      "[CV 4/5] END kneighborsclassifier__leaf_size=3, kneighborsclassifier__n_neighbors=7, kneighborsclassifier__p=2; accuracy_score: (test=0.883) precision_score: (test=0.870) recall_score: (test=0.833) roc_auc: (test=0.875) total time=   0.0s\n",
      "[CV 5/5] END kneighborsclassifier__leaf_size=3, kneighborsclassifier__n_neighbors=7, kneighborsclassifier__p=2; accuracy_score: (test=0.900) precision_score: (test=0.880) recall_score: (test=0.880) roc_auc: (test=0.897) total time=   0.0s\n",
      "[CV 1/5] END kneighborsclassifier__leaf_size=9, kneighborsclassifier__n_neighbors=8, kneighborsclassifier__p=2; accuracy_score: (test=0.867) precision_score: (test=0.870) recall_score: (test=0.800) roc_auc: (test=0.857) total time=   0.0s\n",
      "[CV 2/5] END kneighborsclassifier__leaf_size=9, kneighborsclassifier__n_neighbors=8, kneighborsclassifier__p=2; accuracy_score: (test=0.917) precision_score: (test=0.826) recall_score: (test=0.950) roc_auc: (test=0.925) total time=   0.0s\n",
      "[CV 4/5] END kneighborsclassifier__leaf_size=9, kneighborsclassifier__n_neighbors=8, kneighborsclassifier__p=2; accuracy_score: (test=0.883) precision_score: (test=0.870) recall_score: (test=0.833) roc_auc: (test=0.875) total time=   0.0s\n",
      "[CV 3/5] END kneighborsclassifier__leaf_size=9, kneighborsclassifier__n_neighbors=8, kneighborsclassifier__p=2; accuracy_score: (test=0.933) precision_score: (test=0.842) recall_score: (test=0.941) roc_auc: (test=0.936) total time=   0.1s\n",
      "[CV 5/5] END kneighborsclassifier__leaf_size=9, kneighborsclassifier__n_neighbors=8, kneighborsclassifier__p=2; accuracy_score: (test=0.900) precision_score: (test=0.913) recall_score: (test=0.840) roc_auc: (test=0.891) total time=   0.0s\n",
      "[CV 1/5] END kneighborsclassifier__leaf_size=5, kneighborsclassifier__n_neighbors=4, kneighborsclassifier__p=1; accuracy_score: (test=0.883) precision_score: (test=0.875) recall_score: (test=0.840) roc_auc: (test=0.877) total time=   0.0s\n",
      "[CV 2/5] END kneighborsclassifier__leaf_size=5, kneighborsclassifier__n_neighbors=4, kneighborsclassifier__p=1; accuracy_score: (test=0.867) precision_score: (test=0.800) recall_score: (test=0.800) roc_auc: (test=0.850) total time=   0.0s\n",
      "[CV 3/5] END kneighborsclassifier__leaf_size=5, kneighborsclassifier__n_neighbors=4, kneighborsclassifier__p=1; accuracy_score: (test=0.850) precision_score: (test=0.786) recall_score: (test=0.647) roc_auc: (test=0.789) total time=   0.1s\n",
      "[CV 5/5] END kneighborsclassifier__leaf_size=5, kneighborsclassifier__n_neighbors=4, kneighborsclassifier__p=1; accuracy_score: (test=0.867) precision_score: (test=0.840) recall_score: (test=0.840) roc_auc: (test=0.863) total time=   0.0s\n",
      "[CV 1/5] END kneighborsclassifier__leaf_size=9, kneighborsclassifier__n_neighbors=19, kneighborsclassifier__p=1; accuracy_score: (test=0.883) precision_score: (test=0.875) recall_score: (test=0.840) roc_auc: (test=0.877) total time=   0.0s\n",
      "[CV 4/5] END kneighborsclassifier__leaf_size=5, kneighborsclassifier__n_neighbors=4, kneighborsclassifier__p=1; accuracy_score: (test=0.883) precision_score: (test=0.870) recall_score: (test=0.833) roc_auc: (test=0.875) total time=   0.1s\n",
      "[CV 2/5] END kneighborsclassifier__leaf_size=9, kneighborsclassifier__n_neighbors=19, kneighborsclassifier__p=1; accuracy_score: (test=0.867) precision_score: (test=0.773) recall_score: (test=0.850) roc_auc: (test=0.863) total time=   0.0s\n",
      "[CV 3/5] END kneighborsclassifier__leaf_size=9, kneighborsclassifier__n_neighbors=19, kneighborsclassifier__p=1; accuracy_score: (test=0.933) precision_score: (test=0.882) recall_score: (test=0.882) roc_auc: (test=0.918) total time=   0.0s\n",
      "[CV 5/5] END kneighborsclassifier__leaf_size=9, kneighborsclassifier__n_neighbors=19, kneighborsclassifier__p=1; accuracy_score: (test=0.867) precision_score: (test=0.870) recall_score: (test=0.800) roc_auc: (test=0.857) total time=   0.0s\n",
      "[CV 4/5] END kneighborsclassifier__leaf_size=9, kneighborsclassifier__n_neighbors=19, kneighborsclassifier__p=1; accuracy_score: (test=0.883) precision_score: (test=0.870) recall_score: (test=0.833) roc_auc: (test=0.875) total time=   0.1s\n",
      "[CV 1/5] END kneighborsclassifier__leaf_size=3, kneighborsclassifier__n_neighbors=15, kneighborsclassifier__p=2; accuracy_score: (test=0.883) precision_score: (test=0.875) recall_score: (test=0.840) roc_auc: (test=0.877) total time=   0.0s\n",
      "[CV 2/5] END kneighborsclassifier__leaf_size=3, kneighborsclassifier__n_neighbors=15, kneighborsclassifier__p=2; accuracy_score: (test=0.883) precision_score: (test=0.783) recall_score: (test=0.900) roc_auc: (test=0.887) total time=   0.0s\n",
      "[CV 3/5] END kneighborsclassifier__leaf_size=3, kneighborsclassifier__n_neighbors=15, kneighborsclassifier__p=2; accuracy_score: (test=0.933) precision_score: (test=0.882) recall_score: (test=0.882) roc_auc: (test=0.918) total time=   0.0s\n",
      "[CV 4/5] END kneighborsclassifier__leaf_size=3, kneighborsclassifier__n_neighbors=15, kneighborsclassifier__p=2; accuracy_score: (test=0.867) precision_score: (test=0.864) recall_score: (test=0.792) roc_auc: (test=0.854) total time=   0.0s\n",
      "[CV 5/5] END kneighborsclassifier__leaf_size=3, kneighborsclassifier__n_neighbors=15, kneighborsclassifier__p=2; accuracy_score: (test=0.883) precision_score: (test=0.909) recall_score: (test=0.800) roc_auc: (test=0.871) total time=   0.0s\n",
      "[CV 2/5] END kneighborsclassifier__leaf_size=4, kneighborsclassifier__n_neighbors=8, kneighborsclassifier__p=2; accuracy_score: (test=0.917) precision_score: (test=0.826) recall_score: (test=0.950) roc_auc: (test=0.925) total time=   0.0s\n",
      "[CV 1/5] END kneighborsclassifier__leaf_size=4, kneighborsclassifier__n_neighbors=8, kneighborsclassifier__p=2; accuracy_score: (test=0.867) precision_score: (test=0.870) recall_score: (test=0.800) roc_auc: (test=0.857) total time=   0.1s\n",
      "[CV 3/5] END kneighborsclassifier__leaf_size=4, kneighborsclassifier__n_neighbors=8, kneighborsclassifier__p=2; accuracy_score: (test=0.933) precision_score: (test=0.842) recall_score: (test=0.941) roc_auc: (test=0.936) total time=   0.0s\n",
      "[CV 4/5] END kneighborsclassifier__leaf_size=4, kneighborsclassifier__n_neighbors=8, kneighborsclassifier__p=2; accuracy_score: (test=0.883) precision_score: (test=0.870) recall_score: (test=0.833) roc_auc: (test=0.875) total time=   0.0s\n",
      "[CV 1/5] END kneighborsclassifier__leaf_size=6, kneighborsclassifier__n_neighbors=2, kneighborsclassifier__p=1; accuracy_score: (test=0.800) precision_score: (test=0.842) recall_score: (test=0.640) roc_auc: (test=0.777) total time=   0.0s\n",
      "[CV 5/5] END kneighborsclassifier__leaf_size=4, kneighborsclassifier__n_neighbors=8, kneighborsclassifier__p=2; accuracy_score: (test=0.900) precision_score: (test=0.913) recall_score: (test=0.840) roc_auc: (test=0.891) total time=   0.0s\n",
      "[CV 2/5] END kneighborsclassifier__leaf_size=6, kneighborsclassifier__n_neighbors=2, kneighborsclassifier__p=1; accuracy_score: (test=0.850) precision_score: (test=0.824) recall_score: (test=0.700) roc_auc: (test=0.812) total time=   0.0s\n",
      "[CV 5/5] END kneighborsclassifier__leaf_size=6, kneighborsclassifier__n_neighbors=2, kneighborsclassifier__p=1; accuracy_score: (test=0.883) precision_score: (test=0.909) recall_score: (test=0.800) roc_auc: (test=0.871) total time=   0.1s\n",
      "[CV 3/5] END kneighborsclassifier__leaf_size=6, kneighborsclassifier__n_neighbors=2, kneighborsclassifier__p=1; accuracy_score: (test=0.867) precision_score: (test=0.846) recall_score: (test=0.647) roc_auc: (test=0.800) total time=   0.1s\n",
      "[CV 1/5] END kneighborsclassifier__leaf_size=3, kneighborsclassifier__n_neighbors=3, kneighborsclassifier__p=2; accuracy_score: (test=0.883) precision_score: (test=0.875) recall_score: (test=0.840) roc_auc: (test=0.877) total time=   0.0s\n",
      "[CV 2/5] END kneighborsclassifier__leaf_size=3, kneighborsclassifier__n_neighbors=3, kneighborsclassifier__p=2; accuracy_score: (test=0.883) precision_score: (test=0.810) recall_score: (test=0.850) roc_auc: (test=0.875) total time=   0.0s\n",
      "[CV 4/5] END kneighborsclassifier__leaf_size=6, kneighborsclassifier__n_neighbors=2, kneighborsclassifier__p=1; accuracy_score: (test=0.800) precision_score: (test=0.875) recall_score: (test=0.583) roc_auc: (test=0.764) total time=   0.1s\n",
      "[CV 3/5] END kneighborsclassifier__leaf_size=3, kneighborsclassifier__n_neighbors=3, kneighborsclassifier__p=2; accuracy_score: (test=0.867) precision_score: (test=0.765) recall_score: (test=0.765) roc_auc: (test=0.836) total time=   0.0s\n",
      "[CV 4/5] END kneighborsclassifier__leaf_size=3, kneighborsclassifier__n_neighbors=3, kneighborsclassifier__p=2; accuracy_score: (test=0.900) precision_score: (test=0.875) recall_score: (test=0.875) roc_auc: (test=0.896) total time=   0.1s\n",
      "[CV 3/5] END kneighborsclassifier__leaf_size=6, kneighborsclassifier__n_neighbors=14, kneighborsclassifier__p=1; accuracy_score: (test=0.933) precision_score: (test=0.882) recall_score: (test=0.882) roc_auc: (test=0.918) total time=   0.1s\n",
      "[CV 5/5] END kneighborsclassifier__leaf_size=3, kneighborsclassifier__n_neighbors=3, kneighborsclassifier__p=2; accuracy_score: (test=0.867) precision_score: (test=0.840) recall_score: (test=0.840) roc_auc: (test=0.863) total time=   0.0s\n",
      "[CV 4/5] END kneighborsclassifier__leaf_size=6, kneighborsclassifier__n_neighbors=14, kneighborsclassifier__p=1; accuracy_score: (test=0.867) precision_score: (test=0.864) recall_score: (test=0.792) roc_auc: (test=0.854) total time=   0.0s\n",
      "[CV 1/5] END kneighborsclassifier__leaf_size=6, kneighborsclassifier__n_neighbors=14, kneighborsclassifier__p=1; accuracy_score: (test=0.883) precision_score: (test=0.875) recall_score: (test=0.840) roc_auc: (test=0.877) total time=   0.0s\n",
      "[CV 5/5] END kneighborsclassifier__leaf_size=6, kneighborsclassifier__n_neighbors=14, kneighborsclassifier__p=1; accuracy_score: (test=0.850) precision_score: (test=0.864) recall_score: (test=0.760) roc_auc: (test=0.837) total time=   0.0s\n",
      "[CV 2/5] END kneighborsclassifier__leaf_size=6, kneighborsclassifier__n_neighbors=14, kneighborsclassifier__p=1; accuracy_score: (test=0.900) precision_score: (test=0.792) recall_score: (test=0.950) roc_auc: (test=0.912) total time=   0.0s\n",
      "[CV 2/5] END kneighborsclassifier__leaf_size=5, kneighborsclassifier__n_neighbors=14, kneighborsclassifier__p=2; accuracy_score: (test=0.883) precision_score: (test=0.783) recall_score: (test=0.900) roc_auc: (test=0.887) total time=   0.0s\n",
      "[CV 1/5] END kneighborsclassifier__leaf_size=5, kneighborsclassifier__n_neighbors=14, kneighborsclassifier__p=2; accuracy_score: (test=0.883) precision_score: (test=0.875) recall_score: (test=0.840) roc_auc: (test=0.877) total time=   0.0s\n",
      "[CV 3/5] END kneighborsclassifier__leaf_size=5, kneighborsclassifier__n_neighbors=14, kneighborsclassifier__p=2; accuracy_score: (test=0.933) precision_score: (test=0.882) recall_score: (test=0.882) roc_auc: (test=0.918) total time=   0.0s\n",
      "[CV 1/5] END kneighborsclassifier__leaf_size=2, kneighborsclassifier__n_neighbors=13, kneighborsclassifier__p=2; accuracy_score: (test=0.900) precision_score: (test=0.880) recall_score: (test=0.880) roc_auc: (test=0.897) total time=   0.0s\n",
      "[CV 4/5] END kneighborsclassifier__leaf_size=5, kneighborsclassifier__n_neighbors=14, kneighborsclassifier__p=2; accuracy_score: (test=0.867) precision_score: (test=0.864) recall_score: (test=0.792) roc_auc: (test=0.854) total time=   0.0s\n",
      "[CV 2/5] END kneighborsclassifier__leaf_size=2, kneighborsclassifier__n_neighbors=13, kneighborsclassifier__p=2; accuracy_score: (test=0.883) precision_score: (test=0.783) recall_score: (test=0.900) roc_auc: (test=0.887) total time=   0.0s\n",
      "[CV 5/5] END kneighborsclassifier__leaf_size=5, kneighborsclassifier__n_neighbors=14, kneighborsclassifier__p=2; accuracy_score: (test=0.883) precision_score: (test=0.909) recall_score: (test=0.800) roc_auc: (test=0.871) total time=   0.0s\n",
      "[CV 3/5] END kneighborsclassifier__leaf_size=2, kneighborsclassifier__n_neighbors=13, kneighborsclassifier__p=2; accuracy_score: (test=0.950) precision_score: (test=0.889) recall_score: (test=0.941) roc_auc: (test=0.947) total time=   0.0s\n",
      "[CV 5/5] END kneighborsclassifier__leaf_size=2, kneighborsclassifier__n_neighbors=13, kneighborsclassifier__p=2; accuracy_score: (test=0.883) precision_score: (test=0.909) recall_score: (test=0.800) roc_auc: (test=0.871) total time=   0.0s\n",
      "[CV 4/5] END kneighborsclassifier__leaf_size=2, kneighborsclassifier__n_neighbors=13, kneighborsclassifier__p=2; accuracy_score: (test=0.883) precision_score: (test=0.870) recall_score: (test=0.833) roc_auc: (test=0.875) total time=   0.1s\n",
      "[CV 1/5] END kneighborsclassifier__leaf_size=7, kneighborsclassifier__n_neighbors=3, kneighborsclassifier__p=1; accuracy_score: (test=0.883) precision_score: (test=0.875) recall_score: (test=0.840) roc_auc: (test=0.877) total time=   0.1s\n",
      "[CV 4/5] END kneighborsclassifier__leaf_size=7, kneighborsclassifier__n_neighbors=3, kneighborsclassifier__p=1; accuracy_score: (test=0.900) precision_score: (test=0.875) recall_score: (test=0.875) roc_auc: (test=0.896) total time=   0.0s\n",
      "[CV 2/5] END kneighborsclassifier__leaf_size=7, kneighborsclassifier__n_neighbors=3, kneighborsclassifier__p=1; accuracy_score: (test=0.867) precision_score: (test=0.800) recall_score: (test=0.800) roc_auc: (test=0.850) total time=   0.0s\n",
      "[CV 5/5] END kneighborsclassifier__leaf_size=7, kneighborsclassifier__n_neighbors=3, kneighborsclassifier__p=1; accuracy_score: (test=0.867) precision_score: (test=0.840) recall_score: (test=0.840) roc_auc: (test=0.863) total time=   0.0s\n",
      "[CV 3/5] END kneighborsclassifier__leaf_size=7, kneighborsclassifier__n_neighbors=3, kneighborsclassifier__p=1; accuracy_score: (test=0.867) precision_score: (test=0.765) recall_score: (test=0.765) roc_auc: (test=0.836) total time=   0.1s\n",
      "[CV 1/5] END kneighborsclassifier__leaf_size=7, kneighborsclassifier__n_neighbors=13, kneighborsclassifier__p=1; accuracy_score: (test=0.900) precision_score: (test=0.880) recall_score: (test=0.880) roc_auc: (test=0.897) total time=   0.1s\n",
      "[CV 3/5] END kneighborsclassifier__leaf_size=7, kneighborsclassifier__n_neighbors=13, kneighborsclassifier__p=1; accuracy_score: (test=0.950) precision_score: (test=0.889) recall_score: (test=0.941) roc_auc: (test=0.947) total time=   0.0s\n",
      "[CV 2/5] END kneighborsclassifier__leaf_size=7, kneighborsclassifier__n_neighbors=13, kneighborsclassifier__p=1; accuracy_score: (test=0.900) precision_score: (test=0.792) recall_score: (test=0.950) roc_auc: (test=0.912) total time=   0.0s\n",
      "[CV 4/5] END kneighborsclassifier__leaf_size=7, kneighborsclassifier__n_neighbors=13, kneighborsclassifier__p=1; accuracy_score: (test=0.883) precision_score: (test=0.870) recall_score: (test=0.833) roc_auc: (test=0.875) total time=   0.0s\n",
      "[CV 2/5] END kneighborsclassifier__leaf_size=2, kneighborsclassifier__n_neighbors=7, kneighborsclassifier__p=2; accuracy_score: (test=0.917) precision_score: (test=0.826) recall_score: (test=0.950) roc_auc: (test=0.925) total time=   0.0s\n",
      "[CV 5/5] END kneighborsclassifier__leaf_size=7, kneighborsclassifier__n_neighbors=13, kneighborsclassifier__p=1; accuracy_score: (test=0.883) precision_score: (test=0.875) recall_score: (test=0.840) roc_auc: (test=0.877) total time=   0.0s\n",
      "[CV 3/5] END kneighborsclassifier__leaf_size=2, kneighborsclassifier__n_neighbors=7, kneighborsclassifier__p=2; accuracy_score: (test=0.933) precision_score: (test=0.842) recall_score: (test=0.941) roc_auc: (test=0.936) total time=   0.0s\n",
      "[CV 1/5] END kneighborsclassifier__leaf_size=2, kneighborsclassifier__n_neighbors=7, kneighborsclassifier__p=2; accuracy_score: (test=0.900) precision_score: (test=0.880) recall_score: (test=0.880) roc_auc: (test=0.897) total time=   0.0s\n",
      "[CV 4/5] END kneighborsclassifier__leaf_size=2, kneighborsclassifier__n_neighbors=7, kneighborsclassifier__p=2; accuracy_score: (test=0.883) precision_score: (test=0.870) recall_score: (test=0.833) roc_auc: (test=0.875) total time=   0.0s\n",
      "[CV 1/5] END kneighborsclassifier__leaf_size=4, kneighborsclassifier__n_neighbors=4, kneighborsclassifier__p=1; accuracy_score: (test=0.883) precision_score: (test=0.875) recall_score: (test=0.840) roc_auc: (test=0.877) total time=   0.0s\n",
      "[CV 5/5] END kneighborsclassifier__leaf_size=2, kneighborsclassifier__n_neighbors=7, kneighborsclassifier__p=2; accuracy_score: (test=0.900) precision_score: (test=0.880) recall_score: (test=0.880) roc_auc: (test=0.897) total time=   0.0s\n",
      "[CV 2/5] END kneighborsclassifier__leaf_size=4, kneighborsclassifier__n_neighbors=4, kneighborsclassifier__p=1; accuracy_score: (test=0.867) precision_score: (test=0.800) recall_score: (test=0.800) roc_auc: (test=0.850) total time=   0.0s\n",
      "[CV 5/5] END kneighborsclassifier__leaf_size=4, kneighborsclassifier__n_neighbors=4, kneighborsclassifier__p=1; accuracy_score: (test=0.867) precision_score: (test=0.840) recall_score: (test=0.840) roc_auc: (test=0.863) total time=   0.0s\n",
      "[CV 3/5] END kneighborsclassifier__leaf_size=4, kneighborsclassifier__n_neighbors=4, kneighborsclassifier__p=1; accuracy_score: (test=0.850) precision_score: (test=0.786) recall_score: (test=0.647) roc_auc: (test=0.789) total time=   0.0s\n",
      "[CV 1/5] END kneighborsclassifier__leaf_size=1, kneighborsclassifier__n_neighbors=11, kneighborsclassifier__p=2; accuracy_score: (test=0.900) precision_score: (test=0.880) recall_score: (test=0.880) roc_auc: (test=0.897) total time=   0.0s\n",
      "[CV 4/5] END kneighborsclassifier__leaf_size=4, kneighborsclassifier__n_neighbors=4, kneighborsclassifier__p=1; accuracy_score: (test=0.883) precision_score: (test=0.870) recall_score: (test=0.833) roc_auc: (test=0.875) total time=   0.0s\n",
      "[CV 4/5] END kneighborsclassifier__leaf_size=1, kneighborsclassifier__n_neighbors=11, kneighborsclassifier__p=2; accuracy_score: (test=0.883) precision_score: (test=0.870) recall_score: (test=0.833) roc_auc: (test=0.875) total time=   0.0s\n",
      "[CV 2/5] END kneighborsclassifier__leaf_size=1, kneighborsclassifier__n_neighbors=11, kneighborsclassifier__p=2; accuracy_score: (test=0.867) precision_score: (test=0.750) recall_score: (test=0.900) roc_auc: (test=0.875) total time=   0.0s\n",
      "[CV 3/5] END kneighborsclassifier__leaf_size=1, kneighborsclassifier__n_neighbors=11, kneighborsclassifier__p=2; accuracy_score: (test=0.933) precision_score: (test=0.842) recall_score: (test=0.941) roc_auc: (test=0.936) total time=   0.0s\n",
      "[CV 5/5] END kneighborsclassifier__leaf_size=1, kneighborsclassifier__n_neighbors=11, kneighborsclassifier__p=2; accuracy_score: (test=0.867) precision_score: (test=0.870) recall_score: (test=0.800) roc_auc: (test=0.857) total time=   0.0s\n",
      "[CV 3/5] END kneighborsclassifier__leaf_size=6, kneighborsclassifier__n_neighbors=4, kneighborsclassifier__p=2; accuracy_score: (test=0.867) precision_score: (test=0.846) recall_score: (test=0.647) roc_auc: (test=0.800) total time=   0.0s\n",
      "[CV 1/5] END kneighborsclassifier__leaf_size=6, kneighborsclassifier__n_neighbors=4, kneighborsclassifier__p=2; accuracy_score: (test=0.883) precision_score: (test=0.875) recall_score: (test=0.840) roc_auc: (test=0.877) total time=   0.0s\n",
      "[CV 2/5] END kneighborsclassifier__leaf_size=6, kneighborsclassifier__n_neighbors=4, kneighborsclassifier__p=2; accuracy_score: (test=0.883) precision_score: (test=0.810) recall_score: (test=0.850) roc_auc: (test=0.875) total time=   0.0s\n",
      "[CV 4/5] END kneighborsclassifier__leaf_size=6, kneighborsclassifier__n_neighbors=4, kneighborsclassifier__p=2; accuracy_score: (test=0.883) precision_score: (test=0.905) recall_score: (test=0.792) roc_auc: (test=0.868) total time=   0.1s\n",
      "[CV 2/5] END kneighborsclassifier__leaf_size=8, kneighborsclassifier__n_neighbors=3, kneighborsclassifier__p=2; accuracy_score: (test=0.883) precision_score: (test=0.810) recall_score: (test=0.850) roc_auc: (test=0.875) total time=   0.0s\n",
      "[CV 5/5] END kneighborsclassifier__leaf_size=6, kneighborsclassifier__n_neighbors=4, kneighborsclassifier__p=2; accuracy_score: (test=0.867) precision_score: (test=0.840) recall_score: (test=0.840) roc_auc: (test=0.863) total time=   0.0s\n",
      "[CV 3/5] END kneighborsclassifier__leaf_size=8, kneighborsclassifier__n_neighbors=3, kneighborsclassifier__p=2; accuracy_score: (test=0.867) precision_score: (test=0.765) recall_score: (test=0.765) roc_auc: (test=0.836) total time=   0.0s\n",
      "[CV 1/5] END kneighborsclassifier__leaf_size=8, kneighborsclassifier__n_neighbors=3, kneighborsclassifier__p=2; accuracy_score: (test=0.883) precision_score: (test=0.875) recall_score: (test=0.840) roc_auc: (test=0.877) total time=   0.0s\n",
      "[CV 4/5] END kneighborsclassifier__leaf_size=8, kneighborsclassifier__n_neighbors=3, kneighborsclassifier__p=2; accuracy_score: (test=0.900) precision_score: (test=0.875) recall_score: (test=0.875) roc_auc: (test=0.896) total time=   0.0s\n",
      "[CV 1/5] END kneighborsclassifier__leaf_size=2, kneighborsclassifier__n_neighbors=16, kneighborsclassifier__p=2; accuracy_score: (test=0.850) precision_score: (test=0.864) recall_score: (test=0.760) roc_auc: (test=0.837) total time=   0.0s\n",
      "[CV 5/5] END kneighborsclassifier__leaf_size=8, kneighborsclassifier__n_neighbors=3, kneighborsclassifier__p=2; accuracy_score: (test=0.867) precision_score: (test=0.840) recall_score: (test=0.840) roc_auc: (test=0.863) total time=   0.0s\n",
      "[CV 2/5] END kneighborsclassifier__leaf_size=2, kneighborsclassifier__n_neighbors=16, kneighborsclassifier__p=2; accuracy_score: (test=0.883) precision_score: (test=0.783) recall_score: (test=0.900) roc_auc: (test=0.887) total time=   0.0s\n",
      "[CV 3/5] END kneighborsclassifier__leaf_size=2, kneighborsclassifier__n_neighbors=16, kneighborsclassifier__p=2; accuracy_score: (test=0.933) precision_score: (test=0.882) recall_score: (test=0.882) roc_auc: (test=0.918) total time=   0.0s\n",
      "[CV 5/5] END kneighborsclassifier__leaf_size=2, kneighborsclassifier__n_neighbors=16, kneighborsclassifier__p=2; accuracy_score: (test=0.883) precision_score: (test=0.909) recall_score: (test=0.800) roc_auc: (test=0.871) total time=   0.0s\n",
      "[CV 4/5] END kneighborsclassifier__leaf_size=2, kneighborsclassifier__n_neighbors=16, kneighborsclassifier__p=2; accuracy_score: (test=0.867) precision_score: (test=0.864) recall_score: (test=0.792) roc_auc: (test=0.854) total time=   0.0s\n",
      "[CV 1/5] END kneighborsclassifier__leaf_size=5, kneighborsclassifier__n_neighbors=14, kneighborsclassifier__p=1; accuracy_score: (test=0.883) precision_score: (test=0.875) recall_score: (test=0.840) roc_auc: (test=0.877) total time=   0.0s\n",
      "[CV 4/5] END kneighborsclassifier__leaf_size=5, kneighborsclassifier__n_neighbors=14, kneighborsclassifier__p=1; accuracy_score: (test=0.867) precision_score: (test=0.864) recall_score: (test=0.792) roc_auc: (test=0.854) total time=   0.0s\n",
      "[CV 2/5] END kneighborsclassifier__leaf_size=5, kneighborsclassifier__n_neighbors=14, kneighborsclassifier__p=1; accuracy_score: (test=0.900) precision_score: (test=0.792) recall_score: (test=0.950) roc_auc: (test=0.912) total time=   0.0s\n",
      "[CV 5/5] END kneighborsclassifier__leaf_size=5, kneighborsclassifier__n_neighbors=14, kneighborsclassifier__p=1; accuracy_score: (test=0.850) precision_score: (test=0.864) recall_score: (test=0.760) roc_auc: (test=0.837) total time=   0.0s\n",
      "[CV 3/5] END kneighborsclassifier__leaf_size=5, kneighborsclassifier__n_neighbors=14, kneighborsclassifier__p=1; accuracy_score: (test=0.933) precision_score: (test=0.882) recall_score: (test=0.882) roc_auc: (test=0.918) total time=   0.0s\n",
      "[CV 1/5] END kneighborsclassifier__leaf_size=6, kneighborsclassifier__n_neighbors=1, kneighborsclassifier__p=2; accuracy_score: (test=0.850) precision_score: (test=0.864) recall_score: (test=0.760) roc_auc: (test=0.837) total time=   0.0s\n",
      "[CV 3/5] END kneighborsclassifier__leaf_size=6, kneighborsclassifier__n_neighbors=1, kneighborsclassifier__p=2; accuracy_score: (test=0.833) precision_score: (test=0.706) recall_score: (test=0.706) roc_auc: (test=0.795) total time=   0.0s\n",
      "[CV 2/5] END kneighborsclassifier__leaf_size=6, kneighborsclassifier__n_neighbors=1, kneighborsclassifier__p=2; accuracy_score: (test=0.900) precision_score: (test=0.850) recall_score: (test=0.850) roc_auc: (test=0.888) total time=   0.0s\n",
      "[CV 4/5] END kneighborsclassifier__leaf_size=6, kneighborsclassifier__n_neighbors=1, kneighborsclassifier__p=2; accuracy_score: (test=0.833) precision_score: (test=0.792) recall_score: (test=0.792) roc_auc: (test=0.826) total time=   0.0s\n",
      "[CV 2/5] END kneighborsclassifier__leaf_size=6, kneighborsclassifier__n_neighbors=13, kneighborsclassifier__p=1; accuracy_score: (test=0.900) precision_score: (test=0.792) recall_score: (test=0.950) roc_auc: (test=0.912) total time=   0.0s\n",
      "[CV 5/5] END kneighborsclassifier__leaf_size=6, kneighborsclassifier__n_neighbors=1, kneighborsclassifier__p=2; accuracy_score: (test=0.867) precision_score: (test=0.870) recall_score: (test=0.800) roc_auc: (test=0.857) total time=   0.0s\n",
      "[CV 3/5] END kneighborsclassifier__leaf_size=6, kneighborsclassifier__n_neighbors=13, kneighborsclassifier__p=1; accuracy_score: (test=0.950) precision_score: (test=0.889) recall_score: (test=0.941) roc_auc: (test=0.947) total time=   0.0s\n",
      "[CV 1/5] END kneighborsclassifier__leaf_size=6, kneighborsclassifier__n_neighbors=13, kneighborsclassifier__p=1; accuracy_score: (test=0.900) precision_score: (test=0.880) recall_score: (test=0.880) roc_auc: (test=0.897) total time=   0.0s\n",
      "[CV 4/5] END kneighborsclassifier__leaf_size=6, kneighborsclassifier__n_neighbors=13, kneighborsclassifier__p=1; accuracy_score: (test=0.883) precision_score: (test=0.870) recall_score: (test=0.833) roc_auc: (test=0.875) total time=   0.0s\n",
      "[CV 1/5] END kneighborsclassifier__leaf_size=7, kneighborsclassifier__n_neighbors=7, kneighborsclassifier__p=2; accuracy_score: (test=0.900) precision_score: (test=0.880) recall_score: (test=0.880) roc_auc: (test=0.897) total time=   0.0s\n",
      "[CV 5/5] END kneighborsclassifier__leaf_size=6, kneighborsclassifier__n_neighbors=13, kneighborsclassifier__p=1; accuracy_score: (test=0.883) precision_score: (test=0.875) recall_score: (test=0.840) roc_auc: (test=0.877) total time=   0.0s\n",
      "[CV 2/5] END kneighborsclassifier__leaf_size=7, kneighborsclassifier__n_neighbors=7, kneighborsclassifier__p=2; accuracy_score: (test=0.917) precision_score: (test=0.826) recall_score: (test=0.950) roc_auc: (test=0.925) total time=   0.0s\n",
      "[CV 5/5] END kneighborsclassifier__leaf_size=7, kneighborsclassifier__n_neighbors=7, kneighborsclassifier__p=2; accuracy_score: (test=0.900) precision_score: (test=0.880) recall_score: (test=0.880) roc_auc: (test=0.897) total time=   0.0s\n",
      "[CV 3/5] END kneighborsclassifier__leaf_size=7, kneighborsclassifier__n_neighbors=7, kneighborsclassifier__p=2; accuracy_score: (test=0.933) precision_score: (test=0.842) recall_score: (test=0.941) roc_auc: (test=0.936) total time=   0.0s\n",
      "[CV 1/5] END kneighborsclassifier__leaf_size=1, kneighborsclassifier__n_neighbors=16, kneighborsclassifier__p=1; accuracy_score: (test=0.883) precision_score: (test=0.875) recall_score: (test=0.840) roc_auc: (test=0.877) total time=   0.0s\n",
      "[CV 4/5] END kneighborsclassifier__leaf_size=7, kneighborsclassifier__n_neighbors=7, kneighborsclassifier__p=2; accuracy_score: (test=0.883) precision_score: (test=0.870) recall_score: (test=0.833) roc_auc: (test=0.875) total time=   0.0s\n",
      "[CV 2/5] END kneighborsclassifier__leaf_size=1, kneighborsclassifier__n_neighbors=16, kneighborsclassifier__p=1; accuracy_score: (test=0.867) precision_score: (test=0.773) recall_score: (test=0.850) roc_auc: (test=0.863) total time=   0.0s\n",
      "[CV 4/5] END kneighborsclassifier__leaf_size=1, kneighborsclassifier__n_neighbors=16, kneighborsclassifier__p=1; accuracy_score: (test=0.867) precision_score: (test=0.864) recall_score: (test=0.792) roc_auc: (test=0.854) total time=   0.0s\n",
      "[CV 3/5] END kneighborsclassifier__leaf_size=1, kneighborsclassifier__n_neighbors=16, kneighborsclassifier__p=1; accuracy_score: (test=0.933) precision_score: (test=0.882) recall_score: (test=0.882) roc_auc: (test=0.918) total time=   0.0s\n",
      "[CV 5/5] END kneighborsclassifier__leaf_size=1, kneighborsclassifier__n_neighbors=16, kneighborsclassifier__p=1; accuracy_score: (test=0.867) precision_score: (test=0.870) recall_score: (test=0.800) roc_auc: (test=0.857) total time=   0.0s\n",
      "[CV 3/5] END kneighborsclassifier__leaf_size=9, kneighborsclassifier__n_neighbors=1, kneighborsclassifier__p=1; accuracy_score: (test=0.817) precision_score: (test=0.667) recall_score: (test=0.706) roc_auc: (test=0.783) total time=   0.1s\n",
      "[CV 1/5] END kneighborsclassifier__leaf_size=9, kneighborsclassifier__n_neighbors=1, kneighborsclassifier__p=1; accuracy_score: (test=0.867) precision_score: (test=0.870) recall_score: (test=0.800) roc_auc: (test=0.857) total time=   0.0s\n",
      "[CV 2/5] END kneighborsclassifier__leaf_size=9, kneighborsclassifier__n_neighbors=1, kneighborsclassifier__p=1; accuracy_score: (test=0.900) precision_score: (test=0.850) recall_score: (test=0.850) roc_auc: (test=0.888) total time=   0.0s\n",
      "[CV 4/5] END kneighborsclassifier__leaf_size=9, kneighborsclassifier__n_neighbors=1, kneighborsclassifier__p=1; accuracy_score: (test=0.817) precision_score: (test=0.783) recall_score: (test=0.750) roc_auc: (test=0.806) total time=   0.0s\n",
      "[CV 5/5] END kneighborsclassifier__leaf_size=9, kneighborsclassifier__n_neighbors=1, kneighborsclassifier__p=1; accuracy_score: (test=0.883) precision_score: (test=0.875) recall_score: (test=0.840) roc_auc: (test=0.877) total time=   0.0s\n",
      "[CV 2/5] END kneighborsclassifier__leaf_size=5, kneighborsclassifier__n_neighbors=3, kneighborsclassifier__p=1; accuracy_score: (test=0.867) precision_score: (test=0.800) recall_score: (test=0.800) roc_auc: (test=0.850) total time=   0.0s\n",
      "[CV 1/5] END kneighborsclassifier__leaf_size=5, kneighborsclassifier__n_neighbors=3, kneighborsclassifier__p=1; accuracy_score: (test=0.883) precision_score: (test=0.875) recall_score: (test=0.840) roc_auc: (test=0.877) total time=   0.0s\n",
      "[CV 3/5] END kneighborsclassifier__leaf_size=5, kneighborsclassifier__n_neighbors=3, kneighborsclassifier__p=1; accuracy_score: (test=0.867) precision_score: (test=0.765) recall_score: (test=0.765) roc_auc: (test=0.836) total time=   0.0s\n",
      "[CV 4/5] END kneighborsclassifier__leaf_size=5, kneighborsclassifier__n_neighbors=3, kneighborsclassifier__p=1; accuracy_score: (test=0.900) precision_score: (test=0.875) recall_score: (test=0.875) roc_auc: (test=0.896) total time=   0.0s\n",
      "[CV 1/5] END kneighborsclassifier__leaf_size=9, kneighborsclassifier__n_neighbors=7, kneighborsclassifier__p=1; accuracy_score: (test=0.900) precision_score: (test=0.880) recall_score: (test=0.880) roc_auc: (test=0.897) total time=   0.0s\n",
      "[CV 5/5] END kneighborsclassifier__leaf_size=5, kneighborsclassifier__n_neighbors=3, kneighborsclassifier__p=1; accuracy_score: (test=0.867) precision_score: (test=0.840) recall_score: (test=0.840) roc_auc: (test=0.863) total time=   0.0s\n",
      "[CV 2/5] END kneighborsclassifier__leaf_size=9, kneighborsclassifier__n_neighbors=7, kneighborsclassifier__p=1; accuracy_score: (test=0.883) precision_score: (test=0.783) recall_score: (test=0.900) roc_auc: (test=0.887) total time=   0.0s\n",
      "[CV 5/5] END kneighborsclassifier__leaf_size=9, kneighborsclassifier__n_neighbors=7, kneighborsclassifier__p=1; accuracy_score: (test=0.883) precision_score: (test=0.875) recall_score: (test=0.840) roc_auc: (test=0.877) total time=   0.0s\n",
      "[CV 3/5] END kneighborsclassifier__leaf_size=9, kneighborsclassifier__n_neighbors=7, kneighborsclassifier__p=1; accuracy_score: (test=0.933) precision_score: (test=0.842) recall_score: (test=0.941) roc_auc: (test=0.936) total time=   0.0s\n",
      "[CV 1/5] END kneighborsclassifier__leaf_size=1, kneighborsclassifier__n_neighbors=8, kneighborsclassifier__p=2; accuracy_score: (test=0.867) precision_score: (test=0.870) recall_score: (test=0.800) roc_auc: (test=0.857) total time=   0.0s\n",
      "[CV 4/5] END kneighborsclassifier__leaf_size=9, kneighborsclassifier__n_neighbors=7, kneighborsclassifier__p=1; accuracy_score: (test=0.883) precision_score: (test=0.870) recall_score: (test=0.833) roc_auc: (test=0.875) total time=   0.0s\n",
      "[CV 2/5] END kneighborsclassifier__leaf_size=1, kneighborsclassifier__n_neighbors=8, kneighborsclassifier__p=2; accuracy_score: (test=0.917) precision_score: (test=0.826) recall_score: (test=0.950) roc_auc: (test=0.925) total time=   0.0s\n",
      "[CV 4/5] END kneighborsclassifier__leaf_size=1, kneighborsclassifier__n_neighbors=8, kneighborsclassifier__p=2; accuracy_score: (test=0.883) precision_score: (test=0.870) recall_score: (test=0.833) roc_auc: (test=0.875) total time=   0.0s\n",
      "[CV 3/5] END kneighborsclassifier__leaf_size=1, kneighborsclassifier__n_neighbors=8, kneighborsclassifier__p=2; accuracy_score: (test=0.933) precision_score: (test=0.842) recall_score: (test=0.941) roc_auc: (test=0.936) total time=   0.0s\n",
      "[CV 5/5] END kneighborsclassifier__leaf_size=1, kneighborsclassifier__n_neighbors=8, kneighborsclassifier__p=2; accuracy_score: (test=0.900) precision_score: (test=0.913) recall_score: (test=0.840) roc_auc: (test=0.891) total time=   0.0s\n",
      "[CV 3/5] END kneighborsclassifier__leaf_size=3, kneighborsclassifier__n_neighbors=7, kneighborsclassifier__p=1; accuracy_score: (test=0.933) precision_score: (test=0.842) recall_score: (test=0.941) roc_auc: (test=0.936) total time=   0.0s\n",
      "[CV 1/5] END kneighborsclassifier__leaf_size=3, kneighborsclassifier__n_neighbors=7, kneighborsclassifier__p=1; accuracy_score: (test=0.900) precision_score: (test=0.880) recall_score: (test=0.880) roc_auc: (test=0.897) total time=   0.0s\n",
      "[CV 4/5] END kneighborsclassifier__leaf_size=3, kneighborsclassifier__n_neighbors=7, kneighborsclassifier__p=1; accuracy_score: (test=0.883) precision_score: (test=0.870) recall_score: (test=0.833) roc_auc: (test=0.875) total time=   0.1s[CV 2/5] END kneighborsclassifier__leaf_size=3, kneighborsclassifier__n_neighbors=7, kneighborsclassifier__p=1; accuracy_score: (test=0.883) precision_score: (test=0.783) recall_score: (test=0.900) roc_auc: (test=0.887) total time=   0.0s\n",
      "\n",
      "[CV 5/5] END kneighborsclassifier__leaf_size=3, kneighborsclassifier__n_neighbors=7, kneighborsclassifier__p=1; accuracy_score: (test=0.883) precision_score: (test=0.875) recall_score: (test=0.840) roc_auc: (test=0.877) total time=   0.1s\n",
      "[CV 2/5] END kneighborsclassifier__leaf_size=2, kneighborsclassifier__n_neighbors=17, kneighborsclassifier__p=1; accuracy_score: (test=0.867) precision_score: (test=0.773) recall_score: (test=0.850) roc_auc: (test=0.863) total time=   0.1s\n",
      "[CV 1/5] END kneighborsclassifier__leaf_size=2, kneighborsclassifier__n_neighbors=17, kneighborsclassifier__p=1; accuracy_score: (test=0.883) precision_score: (test=0.875) recall_score: (test=0.840) roc_auc: (test=0.877) total time=   0.0s\n",
      "[CV 1/5] END kneighborsclassifier__leaf_size=8, kneighborsclassifier__n_neighbors=2, kneighborsclassifier__p=2; accuracy_score: (test=0.833) precision_score: (test=0.857) recall_score: (test=0.720) roc_auc: (test=0.817) total time=   0.1s\n",
      "[CV 3/5] END kneighborsclassifier__leaf_size=2, kneighborsclassifier__n_neighbors=17, kneighborsclassifier__p=1; accuracy_score: (test=0.933) precision_score: (test=0.882) recall_score: (test=0.882) roc_auc: (test=0.918) total time=   0.1s\n",
      "[CV 2/5] END kneighborsclassifier__leaf_size=8, kneighborsclassifier__n_neighbors=2, kneighborsclassifier__p=2; accuracy_score: (test=0.883) precision_score: (test=0.842) recall_score: (test=0.800) roc_auc: (test=0.863) total time=   0.0s\n",
      "[CV 3/5] END kneighborsclassifier__leaf_size=8, kneighborsclassifier__n_neighbors=2, kneighborsclassifier__p=2; accuracy_score: (test=0.850) precision_score: (test=0.786) recall_score: (test=0.647) roc_auc: (test=0.789) total time=   0.1s\n",
      "[CV 4/5] END kneighborsclassifier__leaf_size=2, kneighborsclassifier__n_neighbors=17, kneighborsclassifier__p=1; accuracy_score: (test=0.867) precision_score: (test=0.864) recall_score: (test=0.792) roc_auc: (test=0.854) total time=   0.1s\n",
      "[CV 4/5] END kneighborsclassifier__leaf_size=8, kneighborsclassifier__n_neighbors=2, kneighborsclassifier__p=2; accuracy_score: (test=0.800) precision_score: (test=0.875) recall_score: (test=0.583) roc_auc: (test=0.764) total time=   0.0s\n",
      "[CV 5/5] END kneighborsclassifier__leaf_size=2, kneighborsclassifier__n_neighbors=17, kneighborsclassifier__p=1; accuracy_score: (test=0.867) precision_score: (test=0.870) recall_score: (test=0.800) roc_auc: (test=0.857) total time=   0.1s\n",
      "[CV 5/5] END kneighborsclassifier__leaf_size=8, kneighborsclassifier__n_neighbors=2, kneighborsclassifier__p=2; accuracy_score: (test=0.867) precision_score: (test=0.905) recall_score: (test=0.760) roc_auc: (test=0.851) total time=   0.0s\n",
      "[CV 4/5] END kneighborsclassifier__leaf_size=4, kneighborsclassifier__n_neighbors=17, kneighborsclassifier__p=1; accuracy_score: (test=0.867) precision_score: (test=0.864) recall_score: (test=0.792) roc_auc: (test=0.854) total time=   0.0s\n",
      "[CV 1/5] END kneighborsclassifier__leaf_size=4, kneighborsclassifier__n_neighbors=17, kneighborsclassifier__p=1; accuracy_score: (test=0.883) precision_score: (test=0.875) recall_score: (test=0.840) roc_auc: (test=0.877) total time=   0.0s\n",
      "[CV 5/5] END kneighborsclassifier__leaf_size=4, kneighborsclassifier__n_neighbors=17, kneighborsclassifier__p=1; accuracy_score: (test=0.867) precision_score: (test=0.870) recall_score: (test=0.800) roc_auc: (test=0.857) total time=   0.0s\n",
      "[CV 2/5] END kneighborsclassifier__leaf_size=4, kneighborsclassifier__n_neighbors=17, kneighborsclassifier__p=1; accuracy_score: (test=0.867) precision_score: (test=0.773) recall_score: (test=0.850) roc_auc: (test=0.863) total time=   0.0s\n",
      "[CV 1/5] END kneighborsclassifier__leaf_size=6, kneighborsclassifier__n_neighbors=7, kneighborsclassifier__p=1; accuracy_score: (test=0.900) precision_score: (test=0.880) recall_score: (test=0.880) roc_auc: (test=0.897) total time=   0.0s\n",
      "[CV 3/5] END kneighborsclassifier__leaf_size=4, kneighborsclassifier__n_neighbors=17, kneighborsclassifier__p=1; accuracy_score: (test=0.933) precision_score: (test=0.882) recall_score: (test=0.882) roc_auc: (test=0.918) total time=   0.0s\n",
      "[CV 2/5] END kneighborsclassifier__leaf_size=6, kneighborsclassifier__n_neighbors=7, kneighborsclassifier__p=1; accuracy_score: (test=0.883) precision_score: (test=0.783) recall_score: (test=0.900) roc_auc: (test=0.887) total time=   0.0s\n",
      "[CV 3/5] END kneighborsclassifier__leaf_size=6, kneighborsclassifier__n_neighbors=7, kneighborsclassifier__p=1; accuracy_score: (test=0.933) precision_score: (test=0.842) recall_score: (test=0.941) roc_auc: (test=0.936) total time=   0.1s\n",
      "[CV 2/5] END kneighborsclassifier__leaf_size=1, kneighborsclassifier__n_neighbors=7, kneighborsclassifier__p=2; accuracy_score: (test=0.917) precision_score: (test=0.826) recall_score: (test=0.950) roc_auc: (test=0.925) total time=   0.1s\n",
      "[CV 4/5] END kneighborsclassifier__leaf_size=6, kneighborsclassifier__n_neighbors=7, kneighborsclassifier__p=1; accuracy_score: (test=0.883) precision_score: (test=0.870) recall_score: (test=0.833) roc_auc: (test=0.875) total time=   0.1s\n",
      "[CV 3/5] END kneighborsclassifier__leaf_size=1, kneighborsclassifier__n_neighbors=7, kneighborsclassifier__p=2; accuracy_score: (test=0.933) precision_score: (test=0.842) recall_score: (test=0.941) roc_auc: (test=0.936) total time=   0.0s\n",
      "[CV 5/5] END kneighborsclassifier__leaf_size=6, kneighborsclassifier__n_neighbors=7, kneighborsclassifier__p=1; accuracy_score: (test=0.883) precision_score: (test=0.875) recall_score: (test=0.840) roc_auc: (test=0.877) total time=   0.0s\n",
      "[CV 4/5] END kneighborsclassifier__leaf_size=1, kneighborsclassifier__n_neighbors=7, kneighborsclassifier__p=2; accuracy_score: (test=0.883) precision_score: (test=0.870) recall_score: (test=0.833) roc_auc: (test=0.875) total time=   0.0s\n",
      "[CV 1/5] END kneighborsclassifier__leaf_size=1, kneighborsclassifier__n_neighbors=7, kneighborsclassifier__p=2; accuracy_score: (test=0.900) precision_score: (test=0.880) recall_score: (test=0.880) roc_auc: (test=0.897) total time=   0.0s\n",
      "[CV 5/5] END kneighborsclassifier__leaf_size=1, kneighborsclassifier__n_neighbors=7, kneighborsclassifier__p=2; accuracy_score: (test=0.900) precision_score: (test=0.880) recall_score: (test=0.880) roc_auc: (test=0.897) total time=   0.0s\n",
      "[CV 1/5] END kneighborsclassifier__leaf_size=9, kneighborsclassifier__n_neighbors=18, kneighborsclassifier__p=1; accuracy_score: (test=0.883) precision_score: (test=0.875) recall_score: (test=0.840) roc_auc: (test=0.877) total time=   0.1s\n",
      "[CV 5/5] END kneighborsclassifier__leaf_size=9, kneighborsclassifier__n_neighbors=18, kneighborsclassifier__p=1; accuracy_score: (test=0.867) precision_score: (test=0.870) recall_score: (test=0.800) roc_auc: (test=0.857) total time=   0.1s\n",
      "[CV 2/5] END kneighborsclassifier__leaf_size=9, kneighborsclassifier__n_neighbors=18, kneighborsclassifier__p=1; accuracy_score: (test=0.867) precision_score: (test=0.773) recall_score: (test=0.850) roc_auc: (test=0.863) total time=   0.0s\n",
      "[CV 1/5] END kneighborsclassifier__leaf_size=1, kneighborsclassifier__n_neighbors=6, kneighborsclassifier__p=1; accuracy_score: (test=0.867) precision_score: (test=0.870) recall_score: (test=0.800) roc_auc: (test=0.857) total time=   0.0s\n",
      "[CV 3/5] END kneighborsclassifier__leaf_size=9, kneighborsclassifier__n_neighbors=18, kneighborsclassifier__p=1; accuracy_score: (test=0.917) precision_score: (test=0.875) recall_score: (test=0.824) roc_auc: (test=0.889) total time=   0.0s\n",
      "[CV 2/5] END kneighborsclassifier__leaf_size=1, kneighborsclassifier__n_neighbors=6, kneighborsclassifier__p=1; accuracy_score: (test=0.850) precision_score: (test=0.762) recall_score: (test=0.800) roc_auc: (test=0.838) total time=   0.0s\n",
      "[CV 4/5] END kneighborsclassifier__leaf_size=9, kneighborsclassifier__n_neighbors=18, kneighborsclassifier__p=1; accuracy_score: (test=0.867) precision_score: (test=0.900) recall_score: (test=0.750) roc_auc: (test=0.847) total time=   0.0s\n",
      "[CV 3/5] END kneighborsclassifier__leaf_size=1, kneighborsclassifier__n_neighbors=6, kneighborsclassifier__p=1; accuracy_score: (test=0.950) precision_score: (test=0.889) recall_score: (test=0.941) roc_auc: (test=0.947) total time=   0.0s\n",
      "[CV 4/5] END kneighborsclassifier__leaf_size=1, kneighborsclassifier__n_neighbors=6, kneighborsclassifier__p=1; accuracy_score: (test=0.883) precision_score: (test=0.870) recall_score: (test=0.833) roc_auc: (test=0.875) total time=   0.0s\n",
      "[CV 5/5] END kneighborsclassifier__leaf_size=1, kneighborsclassifier__n_neighbors=6, kneighborsclassifier__p=1; accuracy_score: (test=0.883) precision_score: (test=0.875) recall_score: (test=0.840) roc_auc: (test=0.877) total time=   0.0s\n",
      "[CV 3/5] END kneighborsclassifier__leaf_size=8, kneighborsclassifier__n_neighbors=4, kneighborsclassifier__p=1; accuracy_score: (test=0.850) precision_score: (test=0.786) recall_score: (test=0.647) roc_auc: (test=0.789) total time=   0.1s\n",
      "[CV 1/5] END kneighborsclassifier__leaf_size=8, kneighborsclassifier__n_neighbors=4, kneighborsclassifier__p=1; accuracy_score: (test=0.883) precision_score: (test=0.875) recall_score: (test=0.840) roc_auc: (test=0.877) total time=   0.1s\n",
      "[CV 4/5] END kneighborsclassifier__leaf_size=8, kneighborsclassifier__n_neighbors=4, kneighborsclassifier__p=1; accuracy_score: (test=0.883) precision_score: (test=0.870) recall_score: (test=0.833) roc_auc: (test=0.875) total time=   0.1s\n",
      "[CV 2/5] END kneighborsclassifier__leaf_size=8, kneighborsclassifier__n_neighbors=4, kneighborsclassifier__p=1; accuracy_score: (test=0.867) precision_score: (test=0.800) recall_score: (test=0.800) roc_auc: (test=0.850) total time=   0.0s\n",
      "[CV 5/5] END kneighborsclassifier__leaf_size=8, kneighborsclassifier__n_neighbors=4, kneighborsclassifier__p=1; accuracy_score: (test=0.867) precision_score: (test=0.840) recall_score: (test=0.840) roc_auc: (test=0.863) total time=   0.0s\n",
      "[CV 2/5] END kneighborsclassifier__leaf_size=3, kneighborsclassifier__n_neighbors=4, kneighborsclassifier__p=1; accuracy_score: (test=0.867) precision_score: (test=0.800) recall_score: (test=0.800) roc_auc: (test=0.850) total time=   0.0s\n",
      "[CV 1/5] END kneighborsclassifier__leaf_size=3, kneighborsclassifier__n_neighbors=4, kneighborsclassifier__p=1; accuracy_score: (test=0.883) precision_score: (test=0.875) recall_score: (test=0.840) roc_auc: (test=0.877) total time=   0.0s\n",
      "[CV 3/5] END kneighborsclassifier__leaf_size=3, kneighborsclassifier__n_neighbors=4, kneighborsclassifier__p=1; accuracy_score: (test=0.850) precision_score: (test=0.786) recall_score: (test=0.647) roc_auc: (test=0.789) total time=   0.0s\n",
      "[CV 1/5] END kneighborsclassifier__leaf_size=4, kneighborsclassifier__n_neighbors=8, kneighborsclassifier__p=1; accuracy_score: (test=0.867) precision_score: (test=0.870) recall_score: (test=0.800) roc_auc: (test=0.857) total time=   0.0s\n",
      "[CV 2/5] END kneighborsclassifier__leaf_size=4, kneighborsclassifier__n_neighbors=8, kneighborsclassifier__p=1; accuracy_score: (test=0.900) precision_score: (test=0.818) recall_score: (test=0.900) roc_auc: (test=0.900) total time=   0.0s\n",
      "[CV 4/5] END kneighborsclassifier__leaf_size=3, kneighborsclassifier__n_neighbors=4, kneighborsclassifier__p=1; accuracy_score: (test=0.883) precision_score: (test=0.870) recall_score: (test=0.833) roc_auc: (test=0.875) total time=   0.0s\n",
      "[CV 3/5] END kneighborsclassifier__leaf_size=4, kneighborsclassifier__n_neighbors=8, kneighborsclassifier__p=1; accuracy_score: (test=0.950) precision_score: (test=0.889) recall_score: (test=0.941) roc_auc: (test=0.947) total time=   0.0s\n",
      "[CV 5/5] END kneighborsclassifier__leaf_size=3, kneighborsclassifier__n_neighbors=4, kneighborsclassifier__p=1; accuracy_score: (test=0.867) precision_score: (test=0.840) recall_score: (test=0.840) roc_auc: (test=0.863) total time=   0.1s\n",
      "[CV 4/5] END kneighborsclassifier__leaf_size=4, kneighborsclassifier__n_neighbors=8, kneighborsclassifier__p=1; accuracy_score: (test=0.867) precision_score: (test=0.864) recall_score: (test=0.792) roc_auc: (test=0.854) total time=   0.0s\n",
      "[CV 5/5] END kneighborsclassifier__leaf_size=4, kneighborsclassifier__n_neighbors=8, kneighborsclassifier__p=1; accuracy_score: (test=0.883) precision_score: (test=0.875) recall_score: (test=0.840) roc_auc: (test=0.877) total time=   0.0s\n",
      "[CV 4/5] END kneighborsclassifier__leaf_size=5, kneighborsclassifier__n_neighbors=17, kneighborsclassifier__p=1; accuracy_score: (test=0.867) precision_score: (test=0.864) recall_score: (test=0.792) roc_auc: (test=0.854) total time=   0.0s\n",
      "[CV 1/5] END kneighborsclassifier__leaf_size=5, kneighborsclassifier__n_neighbors=17, kneighborsclassifier__p=1; accuracy_score: (test=0.883) precision_score: (test=0.875) recall_score: (test=0.840) roc_auc: (test=0.877) total time=   0.0s\n",
      "[CV 5/5] END kneighborsclassifier__leaf_size=5, kneighborsclassifier__n_neighbors=17, kneighborsclassifier__p=1; accuracy_score: (test=0.867) precision_score: (test=0.870) recall_score: (test=0.800) roc_auc: (test=0.857) total time=   0.0s\n",
      "[CV 2/5] END kneighborsclassifier__leaf_size=5, kneighborsclassifier__n_neighbors=17, kneighborsclassifier__p=1; accuracy_score: (test=0.867) precision_score: (test=0.773) recall_score: (test=0.850) roc_auc: (test=0.863) total time=   0.0s\n",
      "[CV 3/5] END kneighborsclassifier__leaf_size=5, kneighborsclassifier__n_neighbors=17, kneighborsclassifier__p=1; accuracy_score: (test=0.933) precision_score: (test=0.882) recall_score: (test=0.882) roc_auc: (test=0.918) total time=   0.0s\n",
      "[CV 1/5] END kneighborsclassifier__leaf_size=6, kneighborsclassifier__n_neighbors=19, kneighborsclassifier__p=1; accuracy_score: (test=0.883) precision_score: (test=0.875) recall_score: (test=0.840) roc_auc: (test=0.877) total time=   0.0s\n",
      "[CV 2/5] END kneighborsclassifier__leaf_size=6, kneighborsclassifier__n_neighbors=19, kneighborsclassifier__p=1; accuracy_score: (test=0.867) precision_score: (test=0.773) recall_score: (test=0.850) roc_auc: (test=0.863) total time=   0.0s\n",
      "[CV 3/5] END kneighborsclassifier__leaf_size=6, kneighborsclassifier__n_neighbors=19, kneighborsclassifier__p=1; accuracy_score: (test=0.933) precision_score: (test=0.882) recall_score: (test=0.882) roc_auc: (test=0.918) total time=   0.0s\n",
      "[CV 4/5] END kneighborsclassifier__leaf_size=6, kneighborsclassifier__n_neighbors=19, kneighborsclassifier__p=1; accuracy_score: (test=0.883) precision_score: (test=0.870) recall_score: (test=0.833) roc_auc: (test=0.875) total time=   0.0s\n",
      "[CV 2/5] END kneighborsclassifier__leaf_size=2, kneighborsclassifier__n_neighbors=4, kneighborsclassifier__p=1; accuracy_score: (test=0.867) precision_score: (test=0.800) recall_score: (test=0.800) roc_auc: (test=0.850) total time=   0.0s\n",
      "[CV 5/5] END kneighborsclassifier__leaf_size=6, kneighborsclassifier__n_neighbors=19, kneighborsclassifier__p=1; accuracy_score: (test=0.867) precision_score: (test=0.870) recall_score: (test=0.800) roc_auc: (test=0.857) total time=   0.0s\n",
      "[CV 3/5] END kneighborsclassifier__leaf_size=2, kneighborsclassifier__n_neighbors=4, kneighborsclassifier__p=1; accuracy_score: (test=0.850) precision_score: (test=0.786) recall_score: (test=0.647) roc_auc: (test=0.789) total time=   0.0s\n",
      "[CV 1/5] END kneighborsclassifier__leaf_size=2, kneighborsclassifier__n_neighbors=4, kneighborsclassifier__p=1; accuracy_score: (test=0.883) precision_score: (test=0.875) recall_score: (test=0.840) roc_auc: (test=0.877) total time=   0.0s\n",
      "[CV 4/5] END kneighborsclassifier__leaf_size=2, kneighborsclassifier__n_neighbors=4, kneighborsclassifier__p=1; accuracy_score: (test=0.883) precision_score: (test=0.870) recall_score: (test=0.833) roc_auc: (test=0.875) total time=   0.0s\n",
      "[CV 1/5] END kneighborsclassifier__leaf_size=3, kneighborsclassifier__n_neighbors=14, kneighborsclassifier__p=2; accuracy_score: (test=0.883) precision_score: (test=0.875) recall_score: (test=0.840) roc_auc: (test=0.877) total time=   0.0s\n",
      "[CV 5/5] END kneighborsclassifier__leaf_size=2, kneighborsclassifier__n_neighbors=4, kneighborsclassifier__p=1; accuracy_score: (test=0.867) precision_score: (test=0.840) recall_score: (test=0.840) roc_auc: (test=0.863) total time=   0.0s\n",
      "[CV 2/5] END kneighborsclassifier__leaf_size=3, kneighborsclassifier__n_neighbors=14, kneighborsclassifier__p=2; accuracy_score: (test=0.883) precision_score: (test=0.783) recall_score: (test=0.900) roc_auc: (test=0.887) total time=   0.0s\n",
      "[CV 5/5] END kneighborsclassifier__leaf_size=3, kneighborsclassifier__n_neighbors=14, kneighborsclassifier__p=2; accuracy_score: (test=0.883) precision_score: (test=0.909) recall_score: (test=0.800) roc_auc: (test=0.871) total time=   0.0s\n",
      "[CV 3/5] END kneighborsclassifier__leaf_size=3, kneighborsclassifier__n_neighbors=14, kneighborsclassifier__p=2; accuracy_score: (test=0.933) precision_score: (test=0.882) recall_score: (test=0.882) roc_auc: (test=0.918) total time=   0.0s\n",
      "[CV 1/5] END kneighborsclassifier__leaf_size=2, kneighborsclassifier__n_neighbors=5, kneighborsclassifier__p=1; accuracy_score: (test=0.900) precision_score: (test=0.880) recall_score: (test=0.880) roc_auc: (test=0.897) total time=   0.0s\n",
      "[CV 4/5] END kneighborsclassifier__leaf_size=3, kneighborsclassifier__n_neighbors=14, kneighborsclassifier__p=2; accuracy_score: (test=0.867) precision_score: (test=0.864) recall_score: (test=0.792) roc_auc: (test=0.854) total time=   0.0s\n",
      "[CV 2/5] END kneighborsclassifier__leaf_size=2, kneighborsclassifier__n_neighbors=5, kneighborsclassifier__p=1; accuracy_score: (test=0.850) precision_score: (test=0.739) recall_score: (test=0.850) roc_auc: (test=0.850) total time=   0.0s\n",
      "[CV 4/5] END kneighborsclassifier__leaf_size=2, kneighborsclassifier__n_neighbors=5, kneighborsclassifier__p=1; accuracy_score: (test=0.917) precision_score: (test=0.880) recall_score: (test=0.917) roc_auc: (test=0.917) total time=   0.0s\n",
      "[CV 3/5] END kneighborsclassifier__leaf_size=2, kneighborsclassifier__n_neighbors=5, kneighborsclassifier__p=1; accuracy_score: (test=0.933) precision_score: (test=0.842) recall_score: (test=0.941) roc_auc: (test=0.936) total time=   0.0s\n",
      "[CV 5/5] END kneighborsclassifier__leaf_size=2, kneighborsclassifier__n_neighbors=5, kneighborsclassifier__p=1; accuracy_score: (test=0.867) precision_score: (test=0.840) recall_score: (test=0.840) roc_auc: (test=0.863) total time=   0.0s\n",
      "[CV 3/5] END kneighborsclassifier__leaf_size=4, kneighborsclassifier__n_neighbors=3, kneighborsclassifier__p=2; accuracy_score: (test=0.867) precision_score: (test=0.765) recall_score: (test=0.765) roc_auc: (test=0.836) total time=   0.0s\n",
      "[CV 1/5] END kneighborsclassifier__leaf_size=4, kneighborsclassifier__n_neighbors=3, kneighborsclassifier__p=2; accuracy_score: (test=0.883) precision_score: (test=0.875) recall_score: (test=0.840) roc_auc: (test=0.877) total time=   0.0s\n",
      "[CV 4/5] END kneighborsclassifier__leaf_size=4, kneighborsclassifier__n_neighbors=3, kneighborsclassifier__p=2; accuracy_score: (test=0.900) precision_score: (test=0.875) recall_score: (test=0.875) roc_auc: (test=0.896) total time=   0.0s\n",
      "[CV 2/5] END kneighborsclassifier__leaf_size=4, kneighborsclassifier__n_neighbors=3, kneighborsclassifier__p=2; accuracy_score: (test=0.883) precision_score: (test=0.810) recall_score: (test=0.850) roc_auc: (test=0.875) total time=   0.0s\n",
      "[CV 5/5] END kneighborsclassifier__leaf_size=4, kneighborsclassifier__n_neighbors=3, kneighborsclassifier__p=2; accuracy_score: (test=0.867) precision_score: (test=0.840) recall_score: (test=0.840) roc_auc: (test=0.863) total time=   0.0s\n",
      "[CV 2/5] END kneighborsclassifier__leaf_size=9, kneighborsclassifier__n_neighbors=8, kneighborsclassifier__p=1; accuracy_score: (test=0.900) precision_score: (test=0.818) recall_score: (test=0.900) roc_auc: (test=0.900) total time=   0.0s\n",
      "[CV 1/5] END kneighborsclassifier__leaf_size=9, kneighborsclassifier__n_neighbors=8, kneighborsclassifier__p=1; accuracy_score: (test=0.867) precision_score: (test=0.870) recall_score: (test=0.800) roc_auc: (test=0.857) total time=   0.0s\n",
      "[CV 3/5] END kneighborsclassifier__leaf_size=9, kneighborsclassifier__n_neighbors=8, kneighborsclassifier__p=1; accuracy_score: (test=0.950) precision_score: (test=0.889) recall_score: (test=0.941) roc_auc: (test=0.947) total time=   0.0s\n",
      "[CV 1/5] END kneighborsclassifier__leaf_size=1, kneighborsclassifier__n_neighbors=11, kneighborsclassifier__p=1; accuracy_score: (test=0.900) precision_score: (test=0.880) recall_score: (test=0.880) roc_auc: (test=0.897) total time=   0.0s\n",
      "[CV 4/5] END kneighborsclassifier__leaf_size=9, kneighborsclassifier__n_neighbors=8, kneighborsclassifier__p=1; accuracy_score: (test=0.867) precision_score: (test=0.864) recall_score: (test=0.792) roc_auc: (test=0.854) total time=   0.0s\n",
      "[CV 2/5] END kneighborsclassifier__leaf_size=1, kneighborsclassifier__n_neighbors=11, kneighborsclassifier__p=1; accuracy_score: (test=0.900) precision_score: (test=0.792) recall_score: (test=0.950) roc_auc: (test=0.912) total time=   0.0s\n",
      "[CV 5/5] END kneighborsclassifier__leaf_size=9, kneighborsclassifier__n_neighbors=8, kneighborsclassifier__p=1; accuracy_score: (test=0.883) precision_score: (test=0.875) recall_score: (test=0.840) roc_auc: (test=0.877) total time=   0.0s\n",
      "[CV 3/5] END kneighborsclassifier__leaf_size=1, kneighborsclassifier__n_neighbors=11, kneighborsclassifier__p=1; accuracy_score: (test=0.917) precision_score: (test=0.833) recall_score: (test=0.882) roc_auc: (test=0.906) total time=   0.0s\n",
      "[CV 5/5] END kneighborsclassifier__leaf_size=1, kneighborsclassifier__n_neighbors=11, kneighborsclassifier__p=1; accuracy_score: (test=0.883) precision_score: (test=0.875) recall_score: (test=0.840) roc_auc: (test=0.877) total time=   0.0s\n",
      "[CV 4/5] END kneighborsclassifier__leaf_size=1, kneighborsclassifier__n_neighbors=11, kneighborsclassifier__p=1; accuracy_score: (test=0.883) precision_score: (test=0.870) recall_score: (test=0.833) roc_auc: (test=0.875) total time=   0.0s\n",
      "[CV 4/5] END kneighborsclassifier__leaf_size=7, kneighborsclassifier__n_neighbors=14, kneighborsclassifier__p=2; accuracy_score: (test=0.867) precision_score: (test=0.864) recall_score: (test=0.792) roc_auc: (test=0.854) total time=   0.0s\n",
      "[CV 1/5] END kneighborsclassifier__leaf_size=7, kneighborsclassifier__n_neighbors=14, kneighborsclassifier__p=2; accuracy_score: (test=0.883) precision_score: (test=0.875) recall_score: (test=0.840) roc_auc: (test=0.877) total time=   0.1s\n",
      "[CV 5/5] END kneighborsclassifier__leaf_size=7, kneighborsclassifier__n_neighbors=14, kneighborsclassifier__p=2; accuracy_score: (test=0.883) precision_score: (test=0.909) recall_score: (test=0.800) roc_auc: (test=0.871) total time=   0.0s\n",
      "[CV 2/5] END kneighborsclassifier__leaf_size=7, kneighborsclassifier__n_neighbors=14, kneighborsclassifier__p=2; accuracy_score: (test=0.883) precision_score: (test=0.783) recall_score: (test=0.900) roc_auc: (test=0.887) total time=   0.0s\n",
      "[CV 1/5] END kneighborsclassifier__leaf_size=3, kneighborsclassifier__n_neighbors=18, kneighborsclassifier__p=1; accuracy_score: (test=0.883) precision_score: (test=0.875) recall_score: (test=0.840) roc_auc: (test=0.877) total time=   0.0s\n",
      "[CV 3/5] END kneighborsclassifier__leaf_size=7, kneighborsclassifier__n_neighbors=14, kneighborsclassifier__p=2; accuracy_score: (test=0.933) precision_score: (test=0.882) recall_score: (test=0.882) roc_auc: (test=0.918) total time=   0.0s\n",
      "[CV 2/5] END kneighborsclassifier__leaf_size=3, kneighborsclassifier__n_neighbors=18, kneighborsclassifier__p=1; accuracy_score: (test=0.867) precision_score: (test=0.773) recall_score: (test=0.850) roc_auc: (test=0.863) total time=   0.0s\n",
      "[CV 3/5] END kneighborsclassifier__leaf_size=3, kneighborsclassifier__n_neighbors=18, kneighborsclassifier__p=1; accuracy_score: (test=0.917) precision_score: (test=0.875) recall_score: (test=0.824) roc_auc: (test=0.889) total time=   0.0s\n",
      "[CV 2/5] END kneighborsclassifier__leaf_size=2, kneighborsclassifier__n_neighbors=8, kneighborsclassifier__p=1; accuracy_score: (test=0.900) precision_score: (test=0.818) recall_score: (test=0.900) roc_auc: (test=0.900) total time=   0.0s\n",
      "[CV 4/5] END kneighborsclassifier__leaf_size=3, kneighborsclassifier__n_neighbors=18, kneighborsclassifier__p=1; accuracy_score: (test=0.867) precision_score: (test=0.900) recall_score: (test=0.750) roc_auc: (test=0.847) total time=   0.0s\n",
      "[CV 3/5] END kneighborsclassifier__leaf_size=2, kneighborsclassifier__n_neighbors=8, kneighborsclassifier__p=1; accuracy_score: (test=0.950) precision_score: (test=0.889) recall_score: (test=0.941) roc_auc: (test=0.947) total time=   0.0s\n",
      "[CV 5/5] END kneighborsclassifier__leaf_size=3, kneighborsclassifier__n_neighbors=18, kneighborsclassifier__p=1; accuracy_score: (test=0.867) precision_score: (test=0.870) recall_score: (test=0.800) roc_auc: (test=0.857) total time=   0.0s\n",
      "[CV 4/5] END kneighborsclassifier__leaf_size=2, kneighborsclassifier__n_neighbors=8, kneighborsclassifier__p=1; accuracy_score: (test=0.867) precision_score: (test=0.864) recall_score: (test=0.792) roc_auc: (test=0.854) total time=   0.0s\n",
      "[CV 1/5] END kneighborsclassifier__leaf_size=2, kneighborsclassifier__n_neighbors=8, kneighborsclassifier__p=1; accuracy_score: (test=0.867) precision_score: (test=0.870) recall_score: (test=0.800) roc_auc: (test=0.857) total time=   0.0s\n",
      "[CV 5/5] END kneighborsclassifier__leaf_size=2, kneighborsclassifier__n_neighbors=8, kneighborsclassifier__p=1; accuracy_score: (test=0.883) precision_score: (test=0.875) recall_score: (test=0.840) roc_auc: (test=0.877) total time=   0.0s\n"
     ]
    },
    {
     "data": {
      "text/html": [
       "<style>#sk-container-id-2 {\n",
       "  /* Definition of color scheme common for light and dark mode */\n",
       "  --sklearn-color-text: #000;\n",
       "  --sklearn-color-text-muted: #666;\n",
       "  --sklearn-color-line: gray;\n",
       "  /* Definition of color scheme for unfitted estimators */\n",
       "  --sklearn-color-unfitted-level-0: #fff5e6;\n",
       "  --sklearn-color-unfitted-level-1: #f6e4d2;\n",
       "  --sklearn-color-unfitted-level-2: #ffe0b3;\n",
       "  --sklearn-color-unfitted-level-3: chocolate;\n",
       "  /* Definition of color scheme for fitted estimators */\n",
       "  --sklearn-color-fitted-level-0: #f0f8ff;\n",
       "  --sklearn-color-fitted-level-1: #d4ebff;\n",
       "  --sklearn-color-fitted-level-2: #b3dbfd;\n",
       "  --sklearn-color-fitted-level-3: cornflowerblue;\n",
       "\n",
       "  /* Specific color for light theme */\n",
       "  --sklearn-color-text-on-default-background: var(--sg-text-color, var(--theme-code-foreground, var(--jp-content-font-color1, black)));\n",
       "  --sklearn-color-background: var(--sg-background-color, var(--theme-background, var(--jp-layout-color0, white)));\n",
       "  --sklearn-color-border-box: var(--sg-text-color, var(--theme-code-foreground, var(--jp-content-font-color1, black)));\n",
       "  --sklearn-color-icon: #696969;\n",
       "\n",
       "  @media (prefers-color-scheme: dark) {\n",
       "    /* Redefinition of color scheme for dark theme */\n",
       "    --sklearn-color-text-on-default-background: var(--sg-text-color, var(--theme-code-foreground, var(--jp-content-font-color1, white)));\n",
       "    --sklearn-color-background: var(--sg-background-color, var(--theme-background, var(--jp-layout-color0, #111)));\n",
       "    --sklearn-color-border-box: var(--sg-text-color, var(--theme-code-foreground, var(--jp-content-font-color1, white)));\n",
       "    --sklearn-color-icon: #878787;\n",
       "  }\n",
       "}\n",
       "\n",
       "#sk-container-id-2 {\n",
       "  color: var(--sklearn-color-text);\n",
       "}\n",
       "\n",
       "#sk-container-id-2 pre {\n",
       "  padding: 0;\n",
       "}\n",
       "\n",
       "#sk-container-id-2 input.sk-hidden--visually {\n",
       "  border: 0;\n",
       "  clip: rect(1px 1px 1px 1px);\n",
       "  clip: rect(1px, 1px, 1px, 1px);\n",
       "  height: 1px;\n",
       "  margin: -1px;\n",
       "  overflow: hidden;\n",
       "  padding: 0;\n",
       "  position: absolute;\n",
       "  width: 1px;\n",
       "}\n",
       "\n",
       "#sk-container-id-2 div.sk-dashed-wrapped {\n",
       "  border: 1px dashed var(--sklearn-color-line);\n",
       "  margin: 0 0.4em 0.5em 0.4em;\n",
       "  box-sizing: border-box;\n",
       "  padding-bottom: 0.4em;\n",
       "  background-color: var(--sklearn-color-background);\n",
       "}\n",
       "\n",
       "#sk-container-id-2 div.sk-container {\n",
       "  /* jupyter's `normalize.less` sets `[hidden] { display: none; }`\n",
       "     but bootstrap.min.css set `[hidden] { display: none !important; }`\n",
       "     so we also need the `!important` here to be able to override the\n",
       "     default hidden behavior on the sphinx rendered scikit-learn.org.\n",
       "     See: https://github.com/scikit-learn/scikit-learn/issues/21755 */\n",
       "  display: inline-block !important;\n",
       "  position: relative;\n",
       "}\n",
       "\n",
       "#sk-container-id-2 div.sk-text-repr-fallback {\n",
       "  display: none;\n",
       "}\n",
       "\n",
       "div.sk-parallel-item,\n",
       "div.sk-serial,\n",
       "div.sk-item {\n",
       "  /* draw centered vertical line to link estimators */\n",
       "  background-image: linear-gradient(var(--sklearn-color-text-on-default-background), var(--sklearn-color-text-on-default-background));\n",
       "  background-size: 2px 100%;\n",
       "  background-repeat: no-repeat;\n",
       "  background-position: center center;\n",
       "}\n",
       "\n",
       "/* Parallel-specific style estimator block */\n",
       "\n",
       "#sk-container-id-2 div.sk-parallel-item::after {\n",
       "  content: \"\";\n",
       "  width: 100%;\n",
       "  border-bottom: 2px solid var(--sklearn-color-text-on-default-background);\n",
       "  flex-grow: 1;\n",
       "}\n",
       "\n",
       "#sk-container-id-2 div.sk-parallel {\n",
       "  display: flex;\n",
       "  align-items: stretch;\n",
       "  justify-content: center;\n",
       "  background-color: var(--sklearn-color-background);\n",
       "  position: relative;\n",
       "}\n",
       "\n",
       "#sk-container-id-2 div.sk-parallel-item {\n",
       "  display: flex;\n",
       "  flex-direction: column;\n",
       "}\n",
       "\n",
       "#sk-container-id-2 div.sk-parallel-item:first-child::after {\n",
       "  align-self: flex-end;\n",
       "  width: 50%;\n",
       "}\n",
       "\n",
       "#sk-container-id-2 div.sk-parallel-item:last-child::after {\n",
       "  align-self: flex-start;\n",
       "  width: 50%;\n",
       "}\n",
       "\n",
       "#sk-container-id-2 div.sk-parallel-item:only-child::after {\n",
       "  width: 0;\n",
       "}\n",
       "\n",
       "/* Serial-specific style estimator block */\n",
       "\n",
       "#sk-container-id-2 div.sk-serial {\n",
       "  display: flex;\n",
       "  flex-direction: column;\n",
       "  align-items: center;\n",
       "  background-color: var(--sklearn-color-background);\n",
       "  padding-right: 1em;\n",
       "  padding-left: 1em;\n",
       "}\n",
       "\n",
       "\n",
       "/* Toggleable style: style used for estimator/Pipeline/ColumnTransformer box that is\n",
       "clickable and can be expanded/collapsed.\n",
       "- Pipeline and ColumnTransformer use this feature and define the default style\n",
       "- Estimators will overwrite some part of the style using the `sk-estimator` class\n",
       "*/\n",
       "\n",
       "/* Pipeline and ColumnTransformer style (default) */\n",
       "\n",
       "#sk-container-id-2 div.sk-toggleable {\n",
       "  /* Default theme specific background. It is overwritten whether we have a\n",
       "  specific estimator or a Pipeline/ColumnTransformer */\n",
       "  background-color: var(--sklearn-color-background);\n",
       "}\n",
       "\n",
       "/* Toggleable label */\n",
       "#sk-container-id-2 label.sk-toggleable__label {\n",
       "  cursor: pointer;\n",
       "  display: flex;\n",
       "  width: 100%;\n",
       "  margin-bottom: 0;\n",
       "  padding: 0.5em;\n",
       "  box-sizing: border-box;\n",
       "  text-align: center;\n",
       "  align-items: start;\n",
       "  justify-content: space-between;\n",
       "  gap: 0.5em;\n",
       "}\n",
       "\n",
       "#sk-container-id-2 label.sk-toggleable__label .caption {\n",
       "  font-size: 0.6rem;\n",
       "  font-weight: lighter;\n",
       "  color: var(--sklearn-color-text-muted);\n",
       "}\n",
       "\n",
       "#sk-container-id-2 label.sk-toggleable__label-arrow:before {\n",
       "  /* Arrow on the left of the label */\n",
       "  content: \"▸\";\n",
       "  float: left;\n",
       "  margin-right: 0.25em;\n",
       "  color: var(--sklearn-color-icon);\n",
       "}\n",
       "\n",
       "#sk-container-id-2 label.sk-toggleable__label-arrow:hover:before {\n",
       "  color: var(--sklearn-color-text);\n",
       "}\n",
       "\n",
       "/* Toggleable content - dropdown */\n",
       "\n",
       "#sk-container-id-2 div.sk-toggleable__content {\n",
       "  max-height: 0;\n",
       "  max-width: 0;\n",
       "  overflow: hidden;\n",
       "  text-align: left;\n",
       "  /* unfitted */\n",
       "  background-color: var(--sklearn-color-unfitted-level-0);\n",
       "}\n",
       "\n",
       "#sk-container-id-2 div.sk-toggleable__content.fitted {\n",
       "  /* fitted */\n",
       "  background-color: var(--sklearn-color-fitted-level-0);\n",
       "}\n",
       "\n",
       "#sk-container-id-2 div.sk-toggleable__content pre {\n",
       "  margin: 0.2em;\n",
       "  border-radius: 0.25em;\n",
       "  color: var(--sklearn-color-text);\n",
       "  /* unfitted */\n",
       "  background-color: var(--sklearn-color-unfitted-level-0);\n",
       "}\n",
       "\n",
       "#sk-container-id-2 div.sk-toggleable__content.fitted pre {\n",
       "  /* unfitted */\n",
       "  background-color: var(--sklearn-color-fitted-level-0);\n",
       "}\n",
       "\n",
       "#sk-container-id-2 input.sk-toggleable__control:checked~div.sk-toggleable__content {\n",
       "  /* Expand drop-down */\n",
       "  max-height: 200px;\n",
       "  max-width: 100%;\n",
       "  overflow: auto;\n",
       "}\n",
       "\n",
       "#sk-container-id-2 input.sk-toggleable__control:checked~label.sk-toggleable__label-arrow:before {\n",
       "  content: \"▾\";\n",
       "}\n",
       "\n",
       "/* Pipeline/ColumnTransformer-specific style */\n",
       "\n",
       "#sk-container-id-2 div.sk-label input.sk-toggleable__control:checked~label.sk-toggleable__label {\n",
       "  color: var(--sklearn-color-text);\n",
       "  background-color: var(--sklearn-color-unfitted-level-2);\n",
       "}\n",
       "\n",
       "#sk-container-id-2 div.sk-label.fitted input.sk-toggleable__control:checked~label.sk-toggleable__label {\n",
       "  background-color: var(--sklearn-color-fitted-level-2);\n",
       "}\n",
       "\n",
       "/* Estimator-specific style */\n",
       "\n",
       "/* Colorize estimator box */\n",
       "#sk-container-id-2 div.sk-estimator input.sk-toggleable__control:checked~label.sk-toggleable__label {\n",
       "  /* unfitted */\n",
       "  background-color: var(--sklearn-color-unfitted-level-2);\n",
       "}\n",
       "\n",
       "#sk-container-id-2 div.sk-estimator.fitted input.sk-toggleable__control:checked~label.sk-toggleable__label {\n",
       "  /* fitted */\n",
       "  background-color: var(--sklearn-color-fitted-level-2);\n",
       "}\n",
       "\n",
       "#sk-container-id-2 div.sk-label label.sk-toggleable__label,\n",
       "#sk-container-id-2 div.sk-label label {\n",
       "  /* The background is the default theme color */\n",
       "  color: var(--sklearn-color-text-on-default-background);\n",
       "}\n",
       "\n",
       "/* On hover, darken the color of the background */\n",
       "#sk-container-id-2 div.sk-label:hover label.sk-toggleable__label {\n",
       "  color: var(--sklearn-color-text);\n",
       "  background-color: var(--sklearn-color-unfitted-level-2);\n",
       "}\n",
       "\n",
       "/* Label box, darken color on hover, fitted */\n",
       "#sk-container-id-2 div.sk-label.fitted:hover label.sk-toggleable__label.fitted {\n",
       "  color: var(--sklearn-color-text);\n",
       "  background-color: var(--sklearn-color-fitted-level-2);\n",
       "}\n",
       "\n",
       "/* Estimator label */\n",
       "\n",
       "#sk-container-id-2 div.sk-label label {\n",
       "  font-family: monospace;\n",
       "  font-weight: bold;\n",
       "  display: inline-block;\n",
       "  line-height: 1.2em;\n",
       "}\n",
       "\n",
       "#sk-container-id-2 div.sk-label-container {\n",
       "  text-align: center;\n",
       "}\n",
       "\n",
       "/* Estimator-specific */\n",
       "#sk-container-id-2 div.sk-estimator {\n",
       "  font-family: monospace;\n",
       "  border: 1px dotted var(--sklearn-color-border-box);\n",
       "  border-radius: 0.25em;\n",
       "  box-sizing: border-box;\n",
       "  margin-bottom: 0.5em;\n",
       "  /* unfitted */\n",
       "  background-color: var(--sklearn-color-unfitted-level-0);\n",
       "}\n",
       "\n",
       "#sk-container-id-2 div.sk-estimator.fitted {\n",
       "  /* fitted */\n",
       "  background-color: var(--sklearn-color-fitted-level-0);\n",
       "}\n",
       "\n",
       "/* on hover */\n",
       "#sk-container-id-2 div.sk-estimator:hover {\n",
       "  /* unfitted */\n",
       "  background-color: var(--sklearn-color-unfitted-level-2);\n",
       "}\n",
       "\n",
       "#sk-container-id-2 div.sk-estimator.fitted:hover {\n",
       "  /* fitted */\n",
       "  background-color: var(--sklearn-color-fitted-level-2);\n",
       "}\n",
       "\n",
       "/* Specification for estimator info (e.g. \"i\" and \"?\") */\n",
       "\n",
       "/* Common style for \"i\" and \"?\" */\n",
       "\n",
       ".sk-estimator-doc-link,\n",
       "a:link.sk-estimator-doc-link,\n",
       "a:visited.sk-estimator-doc-link {\n",
       "  float: right;\n",
       "  font-size: smaller;\n",
       "  line-height: 1em;\n",
       "  font-family: monospace;\n",
       "  background-color: var(--sklearn-color-background);\n",
       "  border-radius: 1em;\n",
       "  height: 1em;\n",
       "  width: 1em;\n",
       "  text-decoration: none !important;\n",
       "  margin-left: 0.5em;\n",
       "  text-align: center;\n",
       "  /* unfitted */\n",
       "  border: var(--sklearn-color-unfitted-level-1) 1pt solid;\n",
       "  color: var(--sklearn-color-unfitted-level-1);\n",
       "}\n",
       "\n",
       ".sk-estimator-doc-link.fitted,\n",
       "a:link.sk-estimator-doc-link.fitted,\n",
       "a:visited.sk-estimator-doc-link.fitted {\n",
       "  /* fitted */\n",
       "  border: var(--sklearn-color-fitted-level-1) 1pt solid;\n",
       "  color: var(--sklearn-color-fitted-level-1);\n",
       "}\n",
       "\n",
       "/* On hover */\n",
       "div.sk-estimator:hover .sk-estimator-doc-link:hover,\n",
       ".sk-estimator-doc-link:hover,\n",
       "div.sk-label-container:hover .sk-estimator-doc-link:hover,\n",
       ".sk-estimator-doc-link:hover {\n",
       "  /* unfitted */\n",
       "  background-color: var(--sklearn-color-unfitted-level-3);\n",
       "  color: var(--sklearn-color-background);\n",
       "  text-decoration: none;\n",
       "}\n",
       "\n",
       "div.sk-estimator.fitted:hover .sk-estimator-doc-link.fitted:hover,\n",
       ".sk-estimator-doc-link.fitted:hover,\n",
       "div.sk-label-container:hover .sk-estimator-doc-link.fitted:hover,\n",
       ".sk-estimator-doc-link.fitted:hover {\n",
       "  /* fitted */\n",
       "  background-color: var(--sklearn-color-fitted-level-3);\n",
       "  color: var(--sklearn-color-background);\n",
       "  text-decoration: none;\n",
       "}\n",
       "\n",
       "/* Span, style for the box shown on hovering the info icon */\n",
       ".sk-estimator-doc-link span {\n",
       "  display: none;\n",
       "  z-index: 9999;\n",
       "  position: relative;\n",
       "  font-weight: normal;\n",
       "  right: .2ex;\n",
       "  padding: .5ex;\n",
       "  margin: .5ex;\n",
       "  width: min-content;\n",
       "  min-width: 20ex;\n",
       "  max-width: 50ex;\n",
       "  color: var(--sklearn-color-text);\n",
       "  box-shadow: 2pt 2pt 4pt #999;\n",
       "  /* unfitted */\n",
       "  background: var(--sklearn-color-unfitted-level-0);\n",
       "  border: .5pt solid var(--sklearn-color-unfitted-level-3);\n",
       "}\n",
       "\n",
       ".sk-estimator-doc-link.fitted span {\n",
       "  /* fitted */\n",
       "  background: var(--sklearn-color-fitted-level-0);\n",
       "  border: var(--sklearn-color-fitted-level-3);\n",
       "}\n",
       "\n",
       ".sk-estimator-doc-link:hover span {\n",
       "  display: block;\n",
       "}\n",
       "\n",
       "/* \"?\"-specific style due to the `<a>` HTML tag */\n",
       "\n",
       "#sk-container-id-2 a.estimator_doc_link {\n",
       "  float: right;\n",
       "  font-size: 1rem;\n",
       "  line-height: 1em;\n",
       "  font-family: monospace;\n",
       "  background-color: var(--sklearn-color-background);\n",
       "  border-radius: 1rem;\n",
       "  height: 1rem;\n",
       "  width: 1rem;\n",
       "  text-decoration: none;\n",
       "  /* unfitted */\n",
       "  color: var(--sklearn-color-unfitted-level-1);\n",
       "  border: var(--sklearn-color-unfitted-level-1) 1pt solid;\n",
       "}\n",
       "\n",
       "#sk-container-id-2 a.estimator_doc_link.fitted {\n",
       "  /* fitted */\n",
       "  border: var(--sklearn-color-fitted-level-1) 1pt solid;\n",
       "  color: var(--sklearn-color-fitted-level-1);\n",
       "}\n",
       "\n",
       "/* On hover */\n",
       "#sk-container-id-2 a.estimator_doc_link:hover {\n",
       "  /* unfitted */\n",
       "  background-color: var(--sklearn-color-unfitted-level-3);\n",
       "  color: var(--sklearn-color-background);\n",
       "  text-decoration: none;\n",
       "}\n",
       "\n",
       "#sk-container-id-2 a.estimator_doc_link.fitted:hover {\n",
       "  /* fitted */\n",
       "  background-color: var(--sklearn-color-fitted-level-3);\n",
       "}\n",
       "</style><div id=\"sk-container-id-2\" class=\"sk-top-container\"><div class=\"sk-text-repr-fallback\"><pre>RandomizedSearchCV(cv=KFold(n_splits=5, random_state=42, shuffle=True),\n",
       "                   estimator=Pipeline(steps=[(&#x27;columntransformer&#x27;,\n",
       "                                              ColumnTransformer(remainder=&#x27;passthrough&#x27;,\n",
       "                                                                transformers=[(&#x27;pipeline-1&#x27;,\n",
       "                                                                               Pipeline(steps=[(&#x27;standardscaler&#x27;,\n",
       "                                                                                                StandardScaler())]),\n",
       "                                                                               &lt;sklearn.compose._column_transformer.make_column_selector object at 0x7ed51774af60&gt;),\n",
       "                                                                              (&#x27;pipeline-2&#x27;,\n",
       "                                                                               Pipeline(steps...\n",
       "       18, 19]),\n",
       "                                        &#x27;kneighborsclassifier__p&#x27;: [1, 2]},\n",
       "                   refit=&#x27;roc_auc&#x27;,\n",
       "                   scoring={&#x27;accuracy_score&#x27;: make_scorer(accuracy_score, response_method=&#x27;predict&#x27;),\n",
       "                            &#x27;precision_score&#x27;: make_scorer(precision_score, response_method=&#x27;predict&#x27;),\n",
       "                            &#x27;recall_score&#x27;: make_scorer(recall_score, response_method=&#x27;predict&#x27;),\n",
       "                            &#x27;roc_auc&#x27;: make_scorer(roc_auc_score, response_method=&#x27;predict&#x27;)},\n",
       "                   verbose=3)</pre><b>In a Jupyter environment, please rerun this cell to show the HTML representation or trust the notebook. <br />On GitHub, the HTML representation is unable to render, please try loading this page with nbviewer.org.</b></div><div class=\"sk-container\" hidden><div class=\"sk-item sk-dashed-wrapped\"><div class=\"sk-label-container\"><div class=\"sk-label fitted sk-toggleable\"><input class=\"sk-toggleable__control sk-hidden--visually\" id=\"sk-estimator-id-10\" type=\"checkbox\" ><label for=\"sk-estimator-id-10\" class=\"sk-toggleable__label fitted sk-toggleable__label-arrow\"><div><div>RandomizedSearchCV</div></div><div><a class=\"sk-estimator-doc-link fitted\" rel=\"noreferrer\" target=\"_blank\" href=\"https://scikit-learn.org/1.6/modules/generated/sklearn.model_selection.RandomizedSearchCV.html\">?<span>Documentation for RandomizedSearchCV</span></a><span class=\"sk-estimator-doc-link fitted\">i<span>Fitted</span></span></div></label><div class=\"sk-toggleable__content fitted\"><pre>RandomizedSearchCV(cv=KFold(n_splits=5, random_state=42, shuffle=True),\n",
       "                   estimator=Pipeline(steps=[(&#x27;columntransformer&#x27;,\n",
       "                                              ColumnTransformer(remainder=&#x27;passthrough&#x27;,\n",
       "                                                                transformers=[(&#x27;pipeline-1&#x27;,\n",
       "                                                                               Pipeline(steps=[(&#x27;standardscaler&#x27;,\n",
       "                                                                                                StandardScaler())]),\n",
       "                                                                               &lt;sklearn.compose._column_transformer.make_column_selector object at 0x7ed51774af60&gt;),\n",
       "                                                                              (&#x27;pipeline-2&#x27;,\n",
       "                                                                               Pipeline(steps...\n",
       "       18, 19]),\n",
       "                                        &#x27;kneighborsclassifier__p&#x27;: [1, 2]},\n",
       "                   refit=&#x27;roc_auc&#x27;,\n",
       "                   scoring={&#x27;accuracy_score&#x27;: make_scorer(accuracy_score, response_method=&#x27;predict&#x27;),\n",
       "                            &#x27;precision_score&#x27;: make_scorer(precision_score, response_method=&#x27;predict&#x27;),\n",
       "                            &#x27;recall_score&#x27;: make_scorer(recall_score, response_method=&#x27;predict&#x27;),\n",
       "                            &#x27;roc_auc&#x27;: make_scorer(roc_auc_score, response_method=&#x27;predict&#x27;)},\n",
       "                   verbose=3)</pre></div> </div></div><div class=\"sk-parallel\"><div class=\"sk-parallel-item\"><div class=\"sk-item\"><div class=\"sk-label-container\"><div class=\"sk-label fitted sk-toggleable\"><input class=\"sk-toggleable__control sk-hidden--visually\" id=\"sk-estimator-id-11\" type=\"checkbox\" ><label for=\"sk-estimator-id-11\" class=\"sk-toggleable__label fitted sk-toggleable__label-arrow\"><div><div>best_estimator_: Pipeline</div></div></label><div class=\"sk-toggleable__content fitted\"><pre>Pipeline(steps=[(&#x27;columntransformer&#x27;,\n",
       "                 ColumnTransformer(remainder=&#x27;passthrough&#x27;,\n",
       "                                   transformers=[(&#x27;pipeline-1&#x27;,\n",
       "                                                  Pipeline(steps=[(&#x27;standardscaler&#x27;,\n",
       "                                                                   StandardScaler())]),\n",
       "                                                  &lt;sklearn.compose._column_transformer.make_column_selector object at 0x7ed517362510&gt;),\n",
       "                                                 (&#x27;pipeline-2&#x27;,\n",
       "                                                  Pipeline(steps=[(&#x27;onehotencoder&#x27;,\n",
       "                                                                   OneHotEncoder(drop=&#x27;if_binary&#x27;))]),\n",
       "                                                  &lt;sklearn.compose._column_transformer.make_column_selector object at 0x7ed517360c20&gt;)])),\n",
       "                (&#x27;kneighborsclassifier&#x27;,\n",
       "                 KNeighborsClassifier(leaf_size=np.int64(3),\n",
       "                                      n_neighbors=np.int64(7)))])</pre></div> </div></div><div class=\"sk-serial\"><div class=\"sk-item\"><div class=\"sk-serial\"><div class=\"sk-item sk-dashed-wrapped\"><div class=\"sk-label-container\"><div class=\"sk-label fitted sk-toggleable\"><input class=\"sk-toggleable__control sk-hidden--visually\" id=\"sk-estimator-id-12\" type=\"checkbox\" ><label for=\"sk-estimator-id-12\" class=\"sk-toggleable__label fitted sk-toggleable__label-arrow\"><div><div>columntransformer: ColumnTransformer</div></div><div><a class=\"sk-estimator-doc-link fitted\" rel=\"noreferrer\" target=\"_blank\" href=\"https://scikit-learn.org/1.6/modules/generated/sklearn.compose.ColumnTransformer.html\">?<span>Documentation for columntransformer: ColumnTransformer</span></a></div></label><div class=\"sk-toggleable__content fitted\"><pre>ColumnTransformer(remainder=&#x27;passthrough&#x27;,\n",
       "                  transformers=[(&#x27;pipeline-1&#x27;,\n",
       "                                 Pipeline(steps=[(&#x27;standardscaler&#x27;,\n",
       "                                                  StandardScaler())]),\n",
       "                                 &lt;sklearn.compose._column_transformer.make_column_selector object at 0x7ed517362510&gt;),\n",
       "                                (&#x27;pipeline-2&#x27;,\n",
       "                                 Pipeline(steps=[(&#x27;onehotencoder&#x27;,\n",
       "                                                  OneHotEncoder(drop=&#x27;if_binary&#x27;))]),\n",
       "                                 &lt;sklearn.compose._column_transformer.make_column_selector object at 0x7ed517360c20&gt;)])</pre></div> </div></div><div class=\"sk-parallel\"><div class=\"sk-parallel-item\"><div class=\"sk-item\"><div class=\"sk-label-container\"><div class=\"sk-label fitted sk-toggleable\"><input class=\"sk-toggleable__control sk-hidden--visually\" id=\"sk-estimator-id-13\" type=\"checkbox\" ><label for=\"sk-estimator-id-13\" class=\"sk-toggleable__label fitted sk-toggleable__label-arrow\"><div><div>pipeline-1</div></div></label><div class=\"sk-toggleable__content fitted\"><pre>&lt;sklearn.compose._column_transformer.make_column_selector object at 0x7ed517362510&gt;</pre></div> </div></div><div class=\"sk-serial\"><div class=\"sk-item\"><div class=\"sk-serial\"><div class=\"sk-item\"><div class=\"sk-estimator fitted sk-toggleable\"><input class=\"sk-toggleable__control sk-hidden--visually\" id=\"sk-estimator-id-14\" type=\"checkbox\" ><label for=\"sk-estimator-id-14\" class=\"sk-toggleable__label fitted sk-toggleable__label-arrow\"><div><div>StandardScaler</div></div><div><a class=\"sk-estimator-doc-link fitted\" rel=\"noreferrer\" target=\"_blank\" href=\"https://scikit-learn.org/1.6/modules/generated/sklearn.preprocessing.StandardScaler.html\">?<span>Documentation for StandardScaler</span></a></div></label><div class=\"sk-toggleable__content fitted\"><pre>StandardScaler()</pre></div> </div></div></div></div></div></div></div><div class=\"sk-parallel-item\"><div class=\"sk-item\"><div class=\"sk-label-container\"><div class=\"sk-label fitted sk-toggleable\"><input class=\"sk-toggleable__control sk-hidden--visually\" id=\"sk-estimator-id-15\" type=\"checkbox\" ><label for=\"sk-estimator-id-15\" class=\"sk-toggleable__label fitted sk-toggleable__label-arrow\"><div><div>pipeline-2</div></div></label><div class=\"sk-toggleable__content fitted\"><pre>&lt;sklearn.compose._column_transformer.make_column_selector object at 0x7ed517360c20&gt;</pre></div> </div></div><div class=\"sk-serial\"><div class=\"sk-item\"><div class=\"sk-serial\"><div class=\"sk-item\"><div class=\"sk-estimator fitted sk-toggleable\"><input class=\"sk-toggleable__control sk-hidden--visually\" id=\"sk-estimator-id-16\" type=\"checkbox\" ><label for=\"sk-estimator-id-16\" class=\"sk-toggleable__label fitted sk-toggleable__label-arrow\"><div><div>OneHotEncoder</div></div><div><a class=\"sk-estimator-doc-link fitted\" rel=\"noreferrer\" target=\"_blank\" href=\"https://scikit-learn.org/1.6/modules/generated/sklearn.preprocessing.OneHotEncoder.html\">?<span>Documentation for OneHotEncoder</span></a></div></label><div class=\"sk-toggleable__content fitted\"><pre>OneHotEncoder(drop=&#x27;if_binary&#x27;)</pre></div> </div></div></div></div></div></div></div><div class=\"sk-parallel-item\"><div class=\"sk-item\"><div class=\"sk-label-container\"><div class=\"sk-label fitted sk-toggleable\"><input class=\"sk-toggleable__control sk-hidden--visually\" id=\"sk-estimator-id-17\" type=\"checkbox\" ><label for=\"sk-estimator-id-17\" class=\"sk-toggleable__label fitted sk-toggleable__label-arrow\"><div><div>remainder</div></div></label><div class=\"sk-toggleable__content fitted\"><pre>[]</pre></div> </div></div><div class=\"sk-serial\"><div class=\"sk-item\"><div class=\"sk-estimator fitted sk-toggleable\"><input class=\"sk-toggleable__control sk-hidden--visually\" id=\"sk-estimator-id-18\" type=\"checkbox\" ><label for=\"sk-estimator-id-18\" class=\"sk-toggleable__label fitted sk-toggleable__label-arrow\"><div><div>passthrough</div></div></label><div class=\"sk-toggleable__content fitted\"><pre>passthrough</pre></div> </div></div></div></div></div></div></div><div class=\"sk-item\"><div class=\"sk-estimator fitted sk-toggleable\"><input class=\"sk-toggleable__control sk-hidden--visually\" id=\"sk-estimator-id-19\" type=\"checkbox\" ><label for=\"sk-estimator-id-19\" class=\"sk-toggleable__label fitted sk-toggleable__label-arrow\"><div><div>KNeighborsClassifier</div></div><div><a class=\"sk-estimator-doc-link fitted\" rel=\"noreferrer\" target=\"_blank\" href=\"https://scikit-learn.org/1.6/modules/generated/sklearn.neighbors.KNeighborsClassifier.html\">?<span>Documentation for KNeighborsClassifier</span></a></div></label><div class=\"sk-toggleable__content fitted\"><pre>KNeighborsClassifier(leaf_size=np.int64(3), n_neighbors=np.int64(7))</pre></div> </div></div></div></div></div></div></div></div></div></div></div>"
      ],
      "text/plain": [
       "RandomizedSearchCV(cv=KFold(n_splits=5, random_state=42, shuffle=True),\n",
       "                   estimator=Pipeline(steps=[('columntransformer',\n",
       "                                              ColumnTransformer(remainder='passthrough',\n",
       "                                                                transformers=[('pipeline-1',\n",
       "                                                                               Pipeline(steps=[('standardscaler',\n",
       "                                                                                                StandardScaler())]),\n",
       "                                                                               <sklearn.compose._column_transformer.make_column_selector object at 0x7ed51774af60>),\n",
       "                                                                              ('pipeline-2',\n",
       "                                                                               Pipeline(steps...\n",
       "       18, 19]),\n",
       "                                        'kneighborsclassifier__p': [1, 2]},\n",
       "                   refit='roc_auc',\n",
       "                   scoring={'accuracy_score': make_scorer(accuracy_score, response_method='predict'),\n",
       "                            'precision_score': make_scorer(precision_score, response_method='predict'),\n",
       "                            'recall_score': make_scorer(recall_score, response_method='predict'),\n",
       "                            'roc_auc': make_scorer(roc_auc_score, response_method='predict')},\n",
       "                   verbose=3)"
      ]
     },
     "execution_count": 25,
     "metadata": {},
     "output_type": "execute_result"
    }
   ],
   "source": [
    "# التدريب\n",
    "RdSearch.fit(X_train, y_train)"
   ]
  },
  {
   "cell_type": "code",
   "execution_count": 26,
   "metadata": {
    "colab": {
     "base_uri": "https://localhost:8080/",
     "height": 68
    },
    "executionInfo": {
     "elapsed": 957,
     "status": "ok",
     "timestamp": 1601886758424,
     "user": {
      "displayName": "Math Hack",
      "photoUrl": "https://lh3.googleusercontent.com/a-/AOh14GjOrJzQ2xAgyHRSCzQ3qBInmHzMPfMtIJGxB4HG=s64",
      "userId": "13730440483455885359"
     },
     "user_tz": -180
    },
    "id": "OyEZMVNr0jUx",
    "outputId": "b9c7fe6e-6295-43dc-d963-fe963fc4cded"
   },
   "outputs": [
    {
     "data": {
      "text/plain": [
       "{'kneighborsclassifier__p': 2,\n",
       " 'kneighborsclassifier__n_neighbors': np.int64(7),\n",
       " 'kneighborsclassifier__leaf_size': np.int64(3)}"
      ]
     },
     "execution_count": 26,
     "metadata": {},
     "output_type": "execute_result"
    }
   ],
   "source": [
    "# افضل المعايير التي تم الاحتفاظ بها\n",
    "RdSearch.best_params_ "
   ]
  },
  {
   "cell_type": "code",
   "execution_count": 27,
   "metadata": {
    "colab": {
     "base_uri": "https://localhost:8080/",
     "height": 209
    },
    "executionInfo": {
     "elapsed": 968,
     "status": "ok",
     "timestamp": 1601886767486,
     "user": {
      "displayName": "Math Hack",
      "photoUrl": "https://lh3.googleusercontent.com/a-/AOh14GjOrJzQ2xAgyHRSCzQ3qBInmHzMPfMtIJGxB4HG=s64",
      "userId": "13730440483455885359"
     },
     "user_tz": -180
    },
    "id": "Zai7km7AoFeg",
    "outputId": "8662f409-c8ce-4cf5-ced3-6a50a3cb04ac"
   },
   "outputs": [
    {
     "data": {
      "text/html": [
       "<style>#sk-container-id-3 {\n",
       "  /* Definition of color scheme common for light and dark mode */\n",
       "  --sklearn-color-text: #000;\n",
       "  --sklearn-color-text-muted: #666;\n",
       "  --sklearn-color-line: gray;\n",
       "  /* Definition of color scheme for unfitted estimators */\n",
       "  --sklearn-color-unfitted-level-0: #fff5e6;\n",
       "  --sklearn-color-unfitted-level-1: #f6e4d2;\n",
       "  --sklearn-color-unfitted-level-2: #ffe0b3;\n",
       "  --sklearn-color-unfitted-level-3: chocolate;\n",
       "  /* Definition of color scheme for fitted estimators */\n",
       "  --sklearn-color-fitted-level-0: #f0f8ff;\n",
       "  --sklearn-color-fitted-level-1: #d4ebff;\n",
       "  --sklearn-color-fitted-level-2: #b3dbfd;\n",
       "  --sklearn-color-fitted-level-3: cornflowerblue;\n",
       "\n",
       "  /* Specific color for light theme */\n",
       "  --sklearn-color-text-on-default-background: var(--sg-text-color, var(--theme-code-foreground, var(--jp-content-font-color1, black)));\n",
       "  --sklearn-color-background: var(--sg-background-color, var(--theme-background, var(--jp-layout-color0, white)));\n",
       "  --sklearn-color-border-box: var(--sg-text-color, var(--theme-code-foreground, var(--jp-content-font-color1, black)));\n",
       "  --sklearn-color-icon: #696969;\n",
       "\n",
       "  @media (prefers-color-scheme: dark) {\n",
       "    /* Redefinition of color scheme for dark theme */\n",
       "    --sklearn-color-text-on-default-background: var(--sg-text-color, var(--theme-code-foreground, var(--jp-content-font-color1, white)));\n",
       "    --sklearn-color-background: var(--sg-background-color, var(--theme-background, var(--jp-layout-color0, #111)));\n",
       "    --sklearn-color-border-box: var(--sg-text-color, var(--theme-code-foreground, var(--jp-content-font-color1, white)));\n",
       "    --sklearn-color-icon: #878787;\n",
       "  }\n",
       "}\n",
       "\n",
       "#sk-container-id-3 {\n",
       "  color: var(--sklearn-color-text);\n",
       "}\n",
       "\n",
       "#sk-container-id-3 pre {\n",
       "  padding: 0;\n",
       "}\n",
       "\n",
       "#sk-container-id-3 input.sk-hidden--visually {\n",
       "  border: 0;\n",
       "  clip: rect(1px 1px 1px 1px);\n",
       "  clip: rect(1px, 1px, 1px, 1px);\n",
       "  height: 1px;\n",
       "  margin: -1px;\n",
       "  overflow: hidden;\n",
       "  padding: 0;\n",
       "  position: absolute;\n",
       "  width: 1px;\n",
       "}\n",
       "\n",
       "#sk-container-id-3 div.sk-dashed-wrapped {\n",
       "  border: 1px dashed var(--sklearn-color-line);\n",
       "  margin: 0 0.4em 0.5em 0.4em;\n",
       "  box-sizing: border-box;\n",
       "  padding-bottom: 0.4em;\n",
       "  background-color: var(--sklearn-color-background);\n",
       "}\n",
       "\n",
       "#sk-container-id-3 div.sk-container {\n",
       "  /* jupyter's `normalize.less` sets `[hidden] { display: none; }`\n",
       "     but bootstrap.min.css set `[hidden] { display: none !important; }`\n",
       "     so we also need the `!important` here to be able to override the\n",
       "     default hidden behavior on the sphinx rendered scikit-learn.org.\n",
       "     See: https://github.com/scikit-learn/scikit-learn/issues/21755 */\n",
       "  display: inline-block !important;\n",
       "  position: relative;\n",
       "}\n",
       "\n",
       "#sk-container-id-3 div.sk-text-repr-fallback {\n",
       "  display: none;\n",
       "}\n",
       "\n",
       "div.sk-parallel-item,\n",
       "div.sk-serial,\n",
       "div.sk-item {\n",
       "  /* draw centered vertical line to link estimators */\n",
       "  background-image: linear-gradient(var(--sklearn-color-text-on-default-background), var(--sklearn-color-text-on-default-background));\n",
       "  background-size: 2px 100%;\n",
       "  background-repeat: no-repeat;\n",
       "  background-position: center center;\n",
       "}\n",
       "\n",
       "/* Parallel-specific style estimator block */\n",
       "\n",
       "#sk-container-id-3 div.sk-parallel-item::after {\n",
       "  content: \"\";\n",
       "  width: 100%;\n",
       "  border-bottom: 2px solid var(--sklearn-color-text-on-default-background);\n",
       "  flex-grow: 1;\n",
       "}\n",
       "\n",
       "#sk-container-id-3 div.sk-parallel {\n",
       "  display: flex;\n",
       "  align-items: stretch;\n",
       "  justify-content: center;\n",
       "  background-color: var(--sklearn-color-background);\n",
       "  position: relative;\n",
       "}\n",
       "\n",
       "#sk-container-id-3 div.sk-parallel-item {\n",
       "  display: flex;\n",
       "  flex-direction: column;\n",
       "}\n",
       "\n",
       "#sk-container-id-3 div.sk-parallel-item:first-child::after {\n",
       "  align-self: flex-end;\n",
       "  width: 50%;\n",
       "}\n",
       "\n",
       "#sk-container-id-3 div.sk-parallel-item:last-child::after {\n",
       "  align-self: flex-start;\n",
       "  width: 50%;\n",
       "}\n",
       "\n",
       "#sk-container-id-3 div.sk-parallel-item:only-child::after {\n",
       "  width: 0;\n",
       "}\n",
       "\n",
       "/* Serial-specific style estimator block */\n",
       "\n",
       "#sk-container-id-3 div.sk-serial {\n",
       "  display: flex;\n",
       "  flex-direction: column;\n",
       "  align-items: center;\n",
       "  background-color: var(--sklearn-color-background);\n",
       "  padding-right: 1em;\n",
       "  padding-left: 1em;\n",
       "}\n",
       "\n",
       "\n",
       "/* Toggleable style: style used for estimator/Pipeline/ColumnTransformer box that is\n",
       "clickable and can be expanded/collapsed.\n",
       "- Pipeline and ColumnTransformer use this feature and define the default style\n",
       "- Estimators will overwrite some part of the style using the `sk-estimator` class\n",
       "*/\n",
       "\n",
       "/* Pipeline and ColumnTransformer style (default) */\n",
       "\n",
       "#sk-container-id-3 div.sk-toggleable {\n",
       "  /* Default theme specific background. It is overwritten whether we have a\n",
       "  specific estimator or a Pipeline/ColumnTransformer */\n",
       "  background-color: var(--sklearn-color-background);\n",
       "}\n",
       "\n",
       "/* Toggleable label */\n",
       "#sk-container-id-3 label.sk-toggleable__label {\n",
       "  cursor: pointer;\n",
       "  display: flex;\n",
       "  width: 100%;\n",
       "  margin-bottom: 0;\n",
       "  padding: 0.5em;\n",
       "  box-sizing: border-box;\n",
       "  text-align: center;\n",
       "  align-items: start;\n",
       "  justify-content: space-between;\n",
       "  gap: 0.5em;\n",
       "}\n",
       "\n",
       "#sk-container-id-3 label.sk-toggleable__label .caption {\n",
       "  font-size: 0.6rem;\n",
       "  font-weight: lighter;\n",
       "  color: var(--sklearn-color-text-muted);\n",
       "}\n",
       "\n",
       "#sk-container-id-3 label.sk-toggleable__label-arrow:before {\n",
       "  /* Arrow on the left of the label */\n",
       "  content: \"▸\";\n",
       "  float: left;\n",
       "  margin-right: 0.25em;\n",
       "  color: var(--sklearn-color-icon);\n",
       "}\n",
       "\n",
       "#sk-container-id-3 label.sk-toggleable__label-arrow:hover:before {\n",
       "  color: var(--sklearn-color-text);\n",
       "}\n",
       "\n",
       "/* Toggleable content - dropdown */\n",
       "\n",
       "#sk-container-id-3 div.sk-toggleable__content {\n",
       "  max-height: 0;\n",
       "  max-width: 0;\n",
       "  overflow: hidden;\n",
       "  text-align: left;\n",
       "  /* unfitted */\n",
       "  background-color: var(--sklearn-color-unfitted-level-0);\n",
       "}\n",
       "\n",
       "#sk-container-id-3 div.sk-toggleable__content.fitted {\n",
       "  /* fitted */\n",
       "  background-color: var(--sklearn-color-fitted-level-0);\n",
       "}\n",
       "\n",
       "#sk-container-id-3 div.sk-toggleable__content pre {\n",
       "  margin: 0.2em;\n",
       "  border-radius: 0.25em;\n",
       "  color: var(--sklearn-color-text);\n",
       "  /* unfitted */\n",
       "  background-color: var(--sklearn-color-unfitted-level-0);\n",
       "}\n",
       "\n",
       "#sk-container-id-3 div.sk-toggleable__content.fitted pre {\n",
       "  /* unfitted */\n",
       "  background-color: var(--sklearn-color-fitted-level-0);\n",
       "}\n",
       "\n",
       "#sk-container-id-3 input.sk-toggleable__control:checked~div.sk-toggleable__content {\n",
       "  /* Expand drop-down */\n",
       "  max-height: 200px;\n",
       "  max-width: 100%;\n",
       "  overflow: auto;\n",
       "}\n",
       "\n",
       "#sk-container-id-3 input.sk-toggleable__control:checked~label.sk-toggleable__label-arrow:before {\n",
       "  content: \"▾\";\n",
       "}\n",
       "\n",
       "/* Pipeline/ColumnTransformer-specific style */\n",
       "\n",
       "#sk-container-id-3 div.sk-label input.sk-toggleable__control:checked~label.sk-toggleable__label {\n",
       "  color: var(--sklearn-color-text);\n",
       "  background-color: var(--sklearn-color-unfitted-level-2);\n",
       "}\n",
       "\n",
       "#sk-container-id-3 div.sk-label.fitted input.sk-toggleable__control:checked~label.sk-toggleable__label {\n",
       "  background-color: var(--sklearn-color-fitted-level-2);\n",
       "}\n",
       "\n",
       "/* Estimator-specific style */\n",
       "\n",
       "/* Colorize estimator box */\n",
       "#sk-container-id-3 div.sk-estimator input.sk-toggleable__control:checked~label.sk-toggleable__label {\n",
       "  /* unfitted */\n",
       "  background-color: var(--sklearn-color-unfitted-level-2);\n",
       "}\n",
       "\n",
       "#sk-container-id-3 div.sk-estimator.fitted input.sk-toggleable__control:checked~label.sk-toggleable__label {\n",
       "  /* fitted */\n",
       "  background-color: var(--sklearn-color-fitted-level-2);\n",
       "}\n",
       "\n",
       "#sk-container-id-3 div.sk-label label.sk-toggleable__label,\n",
       "#sk-container-id-3 div.sk-label label {\n",
       "  /* The background is the default theme color */\n",
       "  color: var(--sklearn-color-text-on-default-background);\n",
       "}\n",
       "\n",
       "/* On hover, darken the color of the background */\n",
       "#sk-container-id-3 div.sk-label:hover label.sk-toggleable__label {\n",
       "  color: var(--sklearn-color-text);\n",
       "  background-color: var(--sklearn-color-unfitted-level-2);\n",
       "}\n",
       "\n",
       "/* Label box, darken color on hover, fitted */\n",
       "#sk-container-id-3 div.sk-label.fitted:hover label.sk-toggleable__label.fitted {\n",
       "  color: var(--sklearn-color-text);\n",
       "  background-color: var(--sklearn-color-fitted-level-2);\n",
       "}\n",
       "\n",
       "/* Estimator label */\n",
       "\n",
       "#sk-container-id-3 div.sk-label label {\n",
       "  font-family: monospace;\n",
       "  font-weight: bold;\n",
       "  display: inline-block;\n",
       "  line-height: 1.2em;\n",
       "}\n",
       "\n",
       "#sk-container-id-3 div.sk-label-container {\n",
       "  text-align: center;\n",
       "}\n",
       "\n",
       "/* Estimator-specific */\n",
       "#sk-container-id-3 div.sk-estimator {\n",
       "  font-family: monospace;\n",
       "  border: 1px dotted var(--sklearn-color-border-box);\n",
       "  border-radius: 0.25em;\n",
       "  box-sizing: border-box;\n",
       "  margin-bottom: 0.5em;\n",
       "  /* unfitted */\n",
       "  background-color: var(--sklearn-color-unfitted-level-0);\n",
       "}\n",
       "\n",
       "#sk-container-id-3 div.sk-estimator.fitted {\n",
       "  /* fitted */\n",
       "  background-color: var(--sklearn-color-fitted-level-0);\n",
       "}\n",
       "\n",
       "/* on hover */\n",
       "#sk-container-id-3 div.sk-estimator:hover {\n",
       "  /* unfitted */\n",
       "  background-color: var(--sklearn-color-unfitted-level-2);\n",
       "}\n",
       "\n",
       "#sk-container-id-3 div.sk-estimator.fitted:hover {\n",
       "  /* fitted */\n",
       "  background-color: var(--sklearn-color-fitted-level-2);\n",
       "}\n",
       "\n",
       "/* Specification for estimator info (e.g. \"i\" and \"?\") */\n",
       "\n",
       "/* Common style for \"i\" and \"?\" */\n",
       "\n",
       ".sk-estimator-doc-link,\n",
       "a:link.sk-estimator-doc-link,\n",
       "a:visited.sk-estimator-doc-link {\n",
       "  float: right;\n",
       "  font-size: smaller;\n",
       "  line-height: 1em;\n",
       "  font-family: monospace;\n",
       "  background-color: var(--sklearn-color-background);\n",
       "  border-radius: 1em;\n",
       "  height: 1em;\n",
       "  width: 1em;\n",
       "  text-decoration: none !important;\n",
       "  margin-left: 0.5em;\n",
       "  text-align: center;\n",
       "  /* unfitted */\n",
       "  border: var(--sklearn-color-unfitted-level-1) 1pt solid;\n",
       "  color: var(--sklearn-color-unfitted-level-1);\n",
       "}\n",
       "\n",
       ".sk-estimator-doc-link.fitted,\n",
       "a:link.sk-estimator-doc-link.fitted,\n",
       "a:visited.sk-estimator-doc-link.fitted {\n",
       "  /* fitted */\n",
       "  border: var(--sklearn-color-fitted-level-1) 1pt solid;\n",
       "  color: var(--sklearn-color-fitted-level-1);\n",
       "}\n",
       "\n",
       "/* On hover */\n",
       "div.sk-estimator:hover .sk-estimator-doc-link:hover,\n",
       ".sk-estimator-doc-link:hover,\n",
       "div.sk-label-container:hover .sk-estimator-doc-link:hover,\n",
       ".sk-estimator-doc-link:hover {\n",
       "  /* unfitted */\n",
       "  background-color: var(--sklearn-color-unfitted-level-3);\n",
       "  color: var(--sklearn-color-background);\n",
       "  text-decoration: none;\n",
       "}\n",
       "\n",
       "div.sk-estimator.fitted:hover .sk-estimator-doc-link.fitted:hover,\n",
       ".sk-estimator-doc-link.fitted:hover,\n",
       "div.sk-label-container:hover .sk-estimator-doc-link.fitted:hover,\n",
       ".sk-estimator-doc-link.fitted:hover {\n",
       "  /* fitted */\n",
       "  background-color: var(--sklearn-color-fitted-level-3);\n",
       "  color: var(--sklearn-color-background);\n",
       "  text-decoration: none;\n",
       "}\n",
       "\n",
       "/* Span, style for the box shown on hovering the info icon */\n",
       ".sk-estimator-doc-link span {\n",
       "  display: none;\n",
       "  z-index: 9999;\n",
       "  position: relative;\n",
       "  font-weight: normal;\n",
       "  right: .2ex;\n",
       "  padding: .5ex;\n",
       "  margin: .5ex;\n",
       "  width: min-content;\n",
       "  min-width: 20ex;\n",
       "  max-width: 50ex;\n",
       "  color: var(--sklearn-color-text);\n",
       "  box-shadow: 2pt 2pt 4pt #999;\n",
       "  /* unfitted */\n",
       "  background: var(--sklearn-color-unfitted-level-0);\n",
       "  border: .5pt solid var(--sklearn-color-unfitted-level-3);\n",
       "}\n",
       "\n",
       ".sk-estimator-doc-link.fitted span {\n",
       "  /* fitted */\n",
       "  background: var(--sklearn-color-fitted-level-0);\n",
       "  border: var(--sklearn-color-fitted-level-3);\n",
       "}\n",
       "\n",
       ".sk-estimator-doc-link:hover span {\n",
       "  display: block;\n",
       "}\n",
       "\n",
       "/* \"?\"-specific style due to the `<a>` HTML tag */\n",
       "\n",
       "#sk-container-id-3 a.estimator_doc_link {\n",
       "  float: right;\n",
       "  font-size: 1rem;\n",
       "  line-height: 1em;\n",
       "  font-family: monospace;\n",
       "  background-color: var(--sklearn-color-background);\n",
       "  border-radius: 1rem;\n",
       "  height: 1rem;\n",
       "  width: 1rem;\n",
       "  text-decoration: none;\n",
       "  /* unfitted */\n",
       "  color: var(--sklearn-color-unfitted-level-1);\n",
       "  border: var(--sklearn-color-unfitted-level-1) 1pt solid;\n",
       "}\n",
       "\n",
       "#sk-container-id-3 a.estimator_doc_link.fitted {\n",
       "  /* fitted */\n",
       "  border: var(--sklearn-color-fitted-level-1) 1pt solid;\n",
       "  color: var(--sklearn-color-fitted-level-1);\n",
       "}\n",
       "\n",
       "/* On hover */\n",
       "#sk-container-id-3 a.estimator_doc_link:hover {\n",
       "  /* unfitted */\n",
       "  background-color: var(--sklearn-color-unfitted-level-3);\n",
       "  color: var(--sklearn-color-background);\n",
       "  text-decoration: none;\n",
       "}\n",
       "\n",
       "#sk-container-id-3 a.estimator_doc_link.fitted:hover {\n",
       "  /* fitted */\n",
       "  background-color: var(--sklearn-color-fitted-level-3);\n",
       "}\n",
       "</style><div id=\"sk-container-id-3\" class=\"sk-top-container\"><div class=\"sk-text-repr-fallback\"><pre>Pipeline(steps=[(&#x27;columntransformer&#x27;,\n",
       "                 ColumnTransformer(remainder=&#x27;passthrough&#x27;,\n",
       "                                   transformers=[(&#x27;pipeline-1&#x27;,\n",
       "                                                  Pipeline(steps=[(&#x27;standardscaler&#x27;,\n",
       "                                                                   StandardScaler())]),\n",
       "                                                  &lt;sklearn.compose._column_transformer.make_column_selector object at 0x7ed517362510&gt;),\n",
       "                                                 (&#x27;pipeline-2&#x27;,\n",
       "                                                  Pipeline(steps=[(&#x27;onehotencoder&#x27;,\n",
       "                                                                   OneHotEncoder(drop=&#x27;if_binary&#x27;))]),\n",
       "                                                  &lt;sklearn.compose._column_transformer.make_column_selector object at 0x7ed517360c20&gt;)])),\n",
       "                (&#x27;kneighborsclassifier&#x27;,\n",
       "                 KNeighborsClassifier(leaf_size=np.int64(3),\n",
       "                                      n_neighbors=np.int64(7)))])</pre><b>In a Jupyter environment, please rerun this cell to show the HTML representation or trust the notebook. <br />On GitHub, the HTML representation is unable to render, please try loading this page with nbviewer.org.</b></div><div class=\"sk-container\" hidden><div class=\"sk-item sk-dashed-wrapped\"><div class=\"sk-label-container\"><div class=\"sk-label fitted sk-toggleable\"><input class=\"sk-toggleable__control sk-hidden--visually\" id=\"sk-estimator-id-20\" type=\"checkbox\" ><label for=\"sk-estimator-id-20\" class=\"sk-toggleable__label fitted sk-toggleable__label-arrow\"><div><div>Pipeline</div></div><div><a class=\"sk-estimator-doc-link fitted\" rel=\"noreferrer\" target=\"_blank\" href=\"https://scikit-learn.org/1.6/modules/generated/sklearn.pipeline.Pipeline.html\">?<span>Documentation for Pipeline</span></a><span class=\"sk-estimator-doc-link fitted\">i<span>Fitted</span></span></div></label><div class=\"sk-toggleable__content fitted\"><pre>Pipeline(steps=[(&#x27;columntransformer&#x27;,\n",
       "                 ColumnTransformer(remainder=&#x27;passthrough&#x27;,\n",
       "                                   transformers=[(&#x27;pipeline-1&#x27;,\n",
       "                                                  Pipeline(steps=[(&#x27;standardscaler&#x27;,\n",
       "                                                                   StandardScaler())]),\n",
       "                                                  &lt;sklearn.compose._column_transformer.make_column_selector object at 0x7ed517362510&gt;),\n",
       "                                                 (&#x27;pipeline-2&#x27;,\n",
       "                                                  Pipeline(steps=[(&#x27;onehotencoder&#x27;,\n",
       "                                                                   OneHotEncoder(drop=&#x27;if_binary&#x27;))]),\n",
       "                                                  &lt;sklearn.compose._column_transformer.make_column_selector object at 0x7ed517360c20&gt;)])),\n",
       "                (&#x27;kneighborsclassifier&#x27;,\n",
       "                 KNeighborsClassifier(leaf_size=np.int64(3),\n",
       "                                      n_neighbors=np.int64(7)))])</pre></div> </div></div><div class=\"sk-serial\"><div class=\"sk-item sk-dashed-wrapped\"><div class=\"sk-label-container\"><div class=\"sk-label fitted sk-toggleable\"><input class=\"sk-toggleable__control sk-hidden--visually\" id=\"sk-estimator-id-21\" type=\"checkbox\" ><label for=\"sk-estimator-id-21\" class=\"sk-toggleable__label fitted sk-toggleable__label-arrow\"><div><div>columntransformer: ColumnTransformer</div></div><div><a class=\"sk-estimator-doc-link fitted\" rel=\"noreferrer\" target=\"_blank\" href=\"https://scikit-learn.org/1.6/modules/generated/sklearn.compose.ColumnTransformer.html\">?<span>Documentation for columntransformer: ColumnTransformer</span></a></div></label><div class=\"sk-toggleable__content fitted\"><pre>ColumnTransformer(remainder=&#x27;passthrough&#x27;,\n",
       "                  transformers=[(&#x27;pipeline-1&#x27;,\n",
       "                                 Pipeline(steps=[(&#x27;standardscaler&#x27;,\n",
       "                                                  StandardScaler())]),\n",
       "                                 &lt;sklearn.compose._column_transformer.make_column_selector object at 0x7ed517362510&gt;),\n",
       "                                (&#x27;pipeline-2&#x27;,\n",
       "                                 Pipeline(steps=[(&#x27;onehotencoder&#x27;,\n",
       "                                                  OneHotEncoder(drop=&#x27;if_binary&#x27;))]),\n",
       "                                 &lt;sklearn.compose._column_transformer.make_column_selector object at 0x7ed517360c20&gt;)])</pre></div> </div></div><div class=\"sk-parallel\"><div class=\"sk-parallel-item\"><div class=\"sk-item\"><div class=\"sk-label-container\"><div class=\"sk-label fitted sk-toggleable\"><input class=\"sk-toggleable__control sk-hidden--visually\" id=\"sk-estimator-id-22\" type=\"checkbox\" ><label for=\"sk-estimator-id-22\" class=\"sk-toggleable__label fitted sk-toggleable__label-arrow\"><div><div>pipeline-1</div></div></label><div class=\"sk-toggleable__content fitted\"><pre>&lt;sklearn.compose._column_transformer.make_column_selector object at 0x7ed517362510&gt;</pre></div> </div></div><div class=\"sk-serial\"><div class=\"sk-item\"><div class=\"sk-serial\"><div class=\"sk-item\"><div class=\"sk-estimator fitted sk-toggleable\"><input class=\"sk-toggleable__control sk-hidden--visually\" id=\"sk-estimator-id-23\" type=\"checkbox\" ><label for=\"sk-estimator-id-23\" class=\"sk-toggleable__label fitted sk-toggleable__label-arrow\"><div><div>StandardScaler</div></div><div><a class=\"sk-estimator-doc-link fitted\" rel=\"noreferrer\" target=\"_blank\" href=\"https://scikit-learn.org/1.6/modules/generated/sklearn.preprocessing.StandardScaler.html\">?<span>Documentation for StandardScaler</span></a></div></label><div class=\"sk-toggleable__content fitted\"><pre>StandardScaler()</pre></div> </div></div></div></div></div></div></div><div class=\"sk-parallel-item\"><div class=\"sk-item\"><div class=\"sk-label-container\"><div class=\"sk-label fitted sk-toggleable\"><input class=\"sk-toggleable__control sk-hidden--visually\" id=\"sk-estimator-id-24\" type=\"checkbox\" ><label for=\"sk-estimator-id-24\" class=\"sk-toggleable__label fitted sk-toggleable__label-arrow\"><div><div>pipeline-2</div></div></label><div class=\"sk-toggleable__content fitted\"><pre>&lt;sklearn.compose._column_transformer.make_column_selector object at 0x7ed517360c20&gt;</pre></div> </div></div><div class=\"sk-serial\"><div class=\"sk-item\"><div class=\"sk-serial\"><div class=\"sk-item\"><div class=\"sk-estimator fitted sk-toggleable\"><input class=\"sk-toggleable__control sk-hidden--visually\" id=\"sk-estimator-id-25\" type=\"checkbox\" ><label for=\"sk-estimator-id-25\" class=\"sk-toggleable__label fitted sk-toggleable__label-arrow\"><div><div>OneHotEncoder</div></div><div><a class=\"sk-estimator-doc-link fitted\" rel=\"noreferrer\" target=\"_blank\" href=\"https://scikit-learn.org/1.6/modules/generated/sklearn.preprocessing.OneHotEncoder.html\">?<span>Documentation for OneHotEncoder</span></a></div></label><div class=\"sk-toggleable__content fitted\"><pre>OneHotEncoder(drop=&#x27;if_binary&#x27;)</pre></div> </div></div></div></div></div></div></div><div class=\"sk-parallel-item\"><div class=\"sk-item\"><div class=\"sk-label-container\"><div class=\"sk-label fitted sk-toggleable\"><input class=\"sk-toggleable__control sk-hidden--visually\" id=\"sk-estimator-id-26\" type=\"checkbox\" ><label for=\"sk-estimator-id-26\" class=\"sk-toggleable__label fitted sk-toggleable__label-arrow\"><div><div>remainder</div></div></label><div class=\"sk-toggleable__content fitted\"><pre>[]</pre></div> </div></div><div class=\"sk-serial\"><div class=\"sk-item\"><div class=\"sk-estimator fitted sk-toggleable\"><input class=\"sk-toggleable__control sk-hidden--visually\" id=\"sk-estimator-id-27\" type=\"checkbox\" ><label for=\"sk-estimator-id-27\" class=\"sk-toggleable__label fitted sk-toggleable__label-arrow\"><div><div>passthrough</div></div></label><div class=\"sk-toggleable__content fitted\"><pre>passthrough</pre></div> </div></div></div></div></div></div></div><div class=\"sk-item\"><div class=\"sk-estimator fitted sk-toggleable\"><input class=\"sk-toggleable__control sk-hidden--visually\" id=\"sk-estimator-id-28\" type=\"checkbox\" ><label for=\"sk-estimator-id-28\" class=\"sk-toggleable__label fitted sk-toggleable__label-arrow\"><div><div>KNeighborsClassifier</div></div><div><a class=\"sk-estimator-doc-link fitted\" rel=\"noreferrer\" target=\"_blank\" href=\"https://scikit-learn.org/1.6/modules/generated/sklearn.neighbors.KNeighborsClassifier.html\">?<span>Documentation for KNeighborsClassifier</span></a></div></label><div class=\"sk-toggleable__content fitted\"><pre>KNeighborsClassifier(leaf_size=np.int64(3), n_neighbors=np.int64(7))</pre></div> </div></div></div></div></div></div>"
      ],
      "text/plain": [
       "Pipeline(steps=[('columntransformer',\n",
       "                 ColumnTransformer(remainder='passthrough',\n",
       "                                   transformers=[('pipeline-1',\n",
       "                                                  Pipeline(steps=[('standardscaler',\n",
       "                                                                   StandardScaler())]),\n",
       "                                                  <sklearn.compose._column_transformer.make_column_selector object at 0x7ed517362510>),\n",
       "                                                 ('pipeline-2',\n",
       "                                                  Pipeline(steps=[('onehotencoder',\n",
       "                                                                   OneHotEncoder(drop='if_binary'))]),\n",
       "                                                  <sklearn.compose._column_transformer.make_column_selector object at 0x7ed517360c20>)])),\n",
       "                ('kneighborsclassifier',\n",
       "                 KNeighborsClassifier(leaf_size=np.int64(3),\n",
       "                                      n_neighbors=np.int64(7)))])"
      ]
     },
     "execution_count": 27,
     "metadata": {},
     "output_type": "execute_result"
    }
   ],
   "source": [
    "#  قائمة أفضل المعاييير\n",
    "RdSearch.best_estimator_"
   ]
  },
  {
   "cell_type": "code",
   "execution_count": 40,
   "metadata": {
    "colab": {
     "base_uri": "https://localhost:8080/",
     "height": 35
    },
    "executionInfo": {
     "elapsed": 1005,
     "status": "ok",
     "timestamp": 1601886791407,
     "user": {
      "displayName": "Math Hack",
      "photoUrl": "https://lh3.googleusercontent.com/a-/AOh14GjOrJzQ2xAgyHRSCzQ3qBInmHzMPfMtIJGxB4HG=s64",
      "userId": "13730440483455885359"
     },
     "user_tz": -180
    },
    "id": "LSNPpdt5oFo3",
    "outputId": "440a7a36-d202-49b6-9548-5273c5848f8d"
   },
   "outputs": [
    {
     "data": {
      "text/plain": [
       "' Score 0.93'"
      ]
     },
     "execution_count": 40,
     "metadata": {},
     "output_type": "execute_result"
    }
   ],
   "source": [
    "# قياس الدقة في ضوء أفضل المعايير\n",
    "f\" Score {RdSearch.best_estimator_.score(X_test, y_test):.3}\""
   ]
  },
  {
   "cell_type": "code",
   "execution_count": 41,
   "metadata": {
    "colab": {
     "base_uri": "https://localhost:8080/",
     "height": 35
    },
    "executionInfo": {
     "elapsed": 982,
     "status": "ok",
     "timestamp": 1601886799987,
     "user": {
      "displayName": "Math Hack",
      "photoUrl": "https://lh3.googleusercontent.com/a-/AOh14GjOrJzQ2xAgyHRSCzQ3qBInmHzMPfMtIJGxB4HG=s64",
      "userId": "13730440483455885359"
     },
     "user_tz": -180
    },
    "id": "aWFnarYx5JX-",
    "outputId": "fbf12f8e-3c40-4339-ce05-25ffd7b40438"
   },
   "outputs": [
    {
     "data": {
      "text/plain": [
       "'Accuracy: 0.93'"
      ]
     },
     "execution_count": 41,
     "metadata": {},
     "output_type": "execute_result"
    }
   ],
   "source": [
    "y_pred=RdSearch.predict(X_test)\n",
    "f'Accuracy: {accuracy_score(y_test, y_pred):.3}' "
   ]
  },
  {
   "cell_type": "markdown",
   "metadata": {
    "id": "IJ2Kn7JR5RJg"
   },
   "source": [
    "![](https://newbiettn.github.io/images/confusion-matrix-noted.jpg)"
   ]
  },
  {
   "cell_type": "code",
   "execution_count": 30,
   "metadata": {
    "colab": {
     "base_uri": "https://localhost:8080/",
     "height": 35
    },
    "executionInfo": {
     "elapsed": 997,
     "status": "ok",
     "timestamp": 1601886829908,
     "user": {
      "displayName": "Math Hack",
      "photoUrl": "https://lh3.googleusercontent.com/a-/AOh14GjOrJzQ2xAgyHRSCzQ3qBInmHzMPfMtIJGxB4HG=s64",
      "userId": "13730440483455885359"
     },
     "user_tz": -180
    },
    "id": "QWHIVrHk5Jbd",
    "outputId": "7b3aae95-cd2c-41b6-ef92-56406f3f3f9a"
   },
   "outputs": [
    {
     "data": {
      "text/plain": [
       "'Accuracy: 0.906'"
      ]
     },
     "execution_count": 30,
     "metadata": {},
     "output_type": "execute_result"
    }
   ],
   "source": [
    "# نسبة التنبؤ  بالمقارنة مع القيم الأصلية \n",
    "f'Accuracy: {recall_score(y_test, y_pred):.3}' "
   ]
  },
  {
   "cell_type": "code",
   "execution_count": 31,
   "metadata": {
    "colab": {
     "base_uri": "https://localhost:8080/",
     "height": 35
    },
    "executionInfo": {
     "elapsed": 956,
     "status": "ok",
     "timestamp": 1601886868992,
     "user": {
      "displayName": "Math Hack",
      "photoUrl": "https://lh3.googleusercontent.com/a-/AOh14GjOrJzQ2xAgyHRSCzQ3qBInmHzMPfMtIJGxB4HG=s64",
      "userId": "13730440483455885359"
     },
     "user_tz": -180
    },
    "id": "hZjxgyIi5Jeu",
    "outputId": "857dbe78-af8b-4ced-c53a-95b9899fe9ae"
   },
   "outputs": [
    {
     "data": {
      "text/plain": [
       "'Accuracy: 0.892'"
      ]
     },
     "execution_count": 31,
     "metadata": {},
     "output_type": "execute_result"
    }
   ],
   "source": [
    "#  Precision / recall  بين    F1  يوازن معيار القيس  \n",
    "from sklearn import metrics\n",
    "f'Accuracy: {metrics.f1_score(y_test, y_pred):.3}' "
   ]
  },
  {
   "cell_type": "code",
   "execution_count": 32,
   "metadata": {
    "colab": {
     "base_uri": "https://localhost:8080/",
     "height": 35
    },
    "executionInfo": {
     "elapsed": 927,
     "status": "ok",
     "timestamp": 1601886877928,
     "user": {
      "displayName": "Math Hack",
      "photoUrl": "https://lh3.googleusercontent.com/a-/AOh14GjOrJzQ2xAgyHRSCzQ3qBInmHzMPfMtIJGxB4HG=s64",
      "userId": "13730440483455885359"
     },
     "user_tz": -180
    },
    "id": "949dVKTP5Jht",
    "outputId": "04d37740-b297-4fba-fc36-eec5c33643f8"
   },
   "outputs": [
    {
     "data": {
      "text/plain": [
       "'Performance sur le train : 0.9118404118404118 '"
      ]
     },
     "execution_count": 32,
     "metadata": {},
     "output_type": "execute_result"
    }
   ],
   "source": [
    "f\"Performance sur le train : {roc_auc_score(y_train, RdSearch.predict(X_train))} \""
   ]
  },
  {
   "cell_type": "code",
   "execution_count": 33,
   "metadata": {
    "colab": {
     "base_uri": "https://localhost:8080/",
     "height": 35
    },
    "executionInfo": {
     "elapsed": 915,
     "status": "ok",
     "timestamp": 1601886888074,
     "user": {
      "displayName": "Math Hack",
      "photoUrl": "https://lh3.googleusercontent.com/a-/AOh14GjOrJzQ2xAgyHRSCzQ3qBInmHzMPfMtIJGxB4HG=s64",
      "userId": "13730440483455885359"
     },
     "user_tz": -180
    },
    "id": "1AUMSwDv5Jk-",
    "outputId": "830e1dd0-2280-4722-d11e-d942f50186bb"
   },
   "outputs": [
    {
     "data": {
      "text/plain": [
       "'Performance sur le train : 0.924 '"
      ]
     },
     "execution_count": 33,
     "metadata": {},
     "output_type": "execute_result"
    }
   ],
   "source": [
    "# overfitting problem\n",
    "f\"Performance sur le train : {roc_auc_score(y_test, RdSearch.predict(X_test)):0.3} \""
   ]
  },
  {
   "cell_type": "code",
   "execution_count": 34,
   "metadata": {
    "colab": {
     "base_uri": "https://localhost:8080/",
     "height": 35
    },
    "executionInfo": {
     "elapsed": 944,
     "status": "ok",
     "timestamp": 1601886897963,
     "user": {
      "displayName": "Math Hack",
      "photoUrl": "https://lh3.googleusercontent.com/a-/AOh14GjOrJzQ2xAgyHRSCzQ3qBInmHzMPfMtIJGxB4HG=s64",
      "userId": "13730440483455885359"
     },
     "user_tz": -180
    },
    "id": "dffsOB3R5Joq",
    "outputId": "9dcc7da4-4be1-4fed-9a89-9868fafe3ad1"
   },
   "outputs": [
    {
     "data": {
      "text/plain": [
       "'Performance sur le Test : 0.906 '"
      ]
     },
     "execution_count": 34,
     "metadata": {},
     "output_type": "execute_result"
    }
   ],
   "source": [
    "f\"Performance sur le Test : {recall_score(y_test, RdSearch.predict(X_test)):0.3} \""
   ]
  },
  {
   "cell_type": "code",
   "execution_count": 35,
   "metadata": {
    "colab": {
     "base_uri": "https://localhost:8080/",
     "height": 170
    },
    "executionInfo": {
     "elapsed": 1106,
     "status": "ok",
     "timestamp": 1601886970407,
     "user": {
      "displayName": "Math Hack",
      "photoUrl": "https://lh3.googleusercontent.com/a-/AOh14GjOrJzQ2xAgyHRSCzQ3qBInmHzMPfMtIJGxB4HG=s64",
      "userId": "13730440483455885359"
     },
     "user_tz": -180
    },
    "id": "vTyg_6vY5wTl",
    "outputId": "eb9cb9ac-2897-496a-ac98-24ffb809b79f"
   },
   "outputs": [
    {
     "name": "stdout",
     "output_type": "stream",
     "text": [
      "              precision    recall  f1-score   support\n",
      "\n",
      "           0       0.96      0.94      0.95        68\n",
      "           1       0.88      0.91      0.89        32\n",
      "\n",
      "    accuracy                           0.93       100\n",
      "   macro avg       0.92      0.92      0.92       100\n",
      "weighted avg       0.93      0.93      0.93       100\n",
      "\n"
     ]
    }
   ],
   "source": [
    "print(metrics.classification_report(y_test, y_pred))"
   ]
  },
  {
   "cell_type": "code",
   "execution_count": 37,
   "metadata": {},
   "outputs": [
    {
     "data": {
      "text/plain": [
       "(array([0, 1]), array([67, 33]))"
      ]
     },
     "execution_count": 37,
     "metadata": {},
     "output_type": "execute_result"
    }
   ],
   "source": [
    "np.unique(y_pred, return_counts=True)"
   ]
  },
  {
   "cell_type": "code",
   "execution_count": 44,
   "metadata": {
    "colab": {
     "base_uri": "https://localhost:8080/",
     "height": 312
    },
    "executionInfo": {
     "elapsed": 989,
     "status": "ok",
     "timestamp": 1601886922568,
     "user": {
      "displayName": "Math Hack",
      "photoUrl": "https://lh3.googleusercontent.com/a-/AOh14GjOrJzQ2xAgyHRSCzQ3qBInmHzMPfMtIJGxB4HG=s64",
      "userId": "13730440483455885359"
     },
     "user_tz": -180
    },
    "id": "vs3_27OM5lkk",
    "outputId": "ae8a4fda-b93a-4d93-b760-dea9a9425c1d"
   },
   "outputs": [
    {
     "data": {
      "text/plain": [
       "<sklearn.metrics._plot.confusion_matrix.ConfusionMatrixDisplay at 0x7ed515828b00>"
      ]
     },
     "execution_count": 44,
     "metadata": {},
     "output_type": "execute_result"
    },
    {
     "data": {
      "image/png": "[encoded data removed]",
      "text/plain": [
       "<Figure size 640x480 with 2 Axes>"
      ]
     },
     "metadata": {},
     "output_type": "display_data"
    }
   ],
   "source": [
    "import matplotlib.pyplot as plt\n",
    "from sklearn.metrics import ConfusionMatrixDisplay, confusion_matrix\n",
    "# Calculate the confusion matrix\n",
    "cm = confusion_matrix(y_test, y_pred)\n",
    "disp = ConfusionMatrixDisplay(confusion_matrix=cm,\n",
    "                              display_labels=[0,1])  # Use your target names or labels\n",
    "disp.plot(cmap=plt.cm.Blues)  # You can choose a different colormap"
   ]
  },
  {
   "cell_type": "code",
   "execution_count": 45,
   "metadata": {
    "colab": {
     "base_uri": "https://localhost:8080/",
     "height": 296
    },
    "executionInfo": {
     "elapsed": 1023,
     "status": "ok",
     "timestamp": 1601886982762,
     "user": {
      "displayName": "Math Hack",
      "photoUrl": "https://lh3.googleusercontent.com/a-/AOh14GjOrJzQ2xAgyHRSCzQ3qBInmHzMPfMtIJGxB4HG=s64",
      "userId": "13730440483455885359"
     },
     "user_tz": -180
    },
    "id": "9W3ezUc35lpe",
    "outputId": "ccaf8c5a-9a0d-4318-fedc-3ee450b2775b"
   },
   "outputs": [
    {
     "data": {
      "image/png": "[encoded data removed]",
      "text/plain": [
       "<Figure size 640x480 with 1 Axes>"
      ]
     },
     "metadata": {},
     "output_type": "display_data"
    }
   ],
   "source": [
    "from sklearn.metrics import RocCurveDisplay\n",
    "_=RocCurveDisplay.from_estimator(RdSearch, X_test, y_test)\n",
    "plt.plot([0, 1], [0, 1], 'k--')  # Optional: Plot the diagonal line (random classifier)\n",
    "plt.xlabel('False Positive Rate')\n",
    "plt.ylabel('True Positive Rate')\n",
    "plt.title('ROC Curve')\n",
    "plt.show()\n",
    "# metrics.plot_roc_curve(RdSearch, X_test, y_test)"
   ]
  },
  {
   "cell_type": "code",
   "execution_count": null,
   "metadata": {
    "id": "axRFZdfL5lrT"
   },
   "outputs": [],
   "source": []
  },
  {
   "cell_type": "code",
   "execution_count": null,
   "metadata": {
    "id": "Dtr_BxXO5l0r"
   },
   "outputs": [],
   "source": []
  },
  {
   "cell_type": "code",
   "execution_count": null,
   "metadata": {
    "colab": {
     "base_uri": "https://localhost:8080/",
     "height": 235
    },
    "executionInfo": {
     "elapsed": 960,
     "status": "ok",
     "timestamp": 1601887259130,
     "user": {
      "displayName": "Math Hack",
      "photoUrl": "https://lh3.googleusercontent.com/a-/AOh14GjOrJzQ2xAgyHRSCzQ3qBInmHzMPfMtIJGxB4HG=s64",
      "userId": "13730440483455885359"
     },
     "user_tz": -180
    },
    "id": "ltT3mCYi5lz-",
    "outputId": "79c841df-e26b-4f00-b48b-d31dd466f254"
   },
   "outputs": [
    {
     "data": {
      "text/html": [
       "<div>\n",
       "<style scoped>\n",
       "    .dataframe tbody tr th:only-of-type {\n",
       "        vertical-align: middle;\n",
       "    }\n",
       "\n",
       "    .dataframe tbody tr th {\n",
       "        vertical-align: top;\n",
       "    }\n",
       "\n",
       "    .dataframe thead th {\n",
       "        text-align: right;\n",
       "    }\n",
       "</style>\n",
       "<table border=\"1\" class=\"dataframe\">\n",
       "  <thead>\n",
       "    <tr style=\"text-align: right;\">\n",
       "      <th></th>\n",
       "      <th>Gender</th>\n",
       "      <th>Age</th>\n",
       "      <th>EstimatedSalary</th>\n",
       "    </tr>\n",
       "    <tr>\n",
       "      <th>User ID</th>\n",
       "      <th></th>\n",
       "      <th></th>\n",
       "      <th></th>\n",
       "    </tr>\n",
       "  </thead>\n",
       "  <tbody>\n",
       "    <tr>\n",
       "      <th>15624510</th>\n",
       "      <td>Male</td>\n",
       "      <td>19</td>\n",
       "      <td>19000</td>\n",
       "    </tr>\n",
       "    <tr>\n",
       "      <th>15810944</th>\n",
       "      <td>Male</td>\n",
       "      <td>35</td>\n",
       "      <td>20000</td>\n",
       "    </tr>\n",
       "    <tr>\n",
       "      <th>15668575</th>\n",
       "      <td>Female</td>\n",
       "      <td>26</td>\n",
       "      <td>43000</td>\n",
       "    </tr>\n",
       "    <tr>\n",
       "      <th>15603246</th>\n",
       "      <td>Female</td>\n",
       "      <td>27</td>\n",
       "      <td>57000</td>\n",
       "    </tr>\n",
       "    <tr>\n",
       "      <th>15804002</th>\n",
       "      <td>Male</td>\n",
       "      <td>19</td>\n",
       "      <td>76000</td>\n",
       "    </tr>\n",
       "  </tbody>\n",
       "</table>\n",
       "</div>"
      ],
      "text/plain": [
       "          Gender  Age  EstimatedSalary\n",
       "User ID                               \n",
       "15624510    Male   19            19000\n",
       "15810944    Male   35            20000\n",
       "15668575  Female   26            43000\n",
       "15603246  Female   27            57000\n",
       "15804002    Male   19            76000"
      ]
     },
     "execution_count": 47,
     "metadata": {
      "tags": []
     },
     "output_type": "execute_result"
    }
   ],
   "source": [
    "X.head()"
   ]
  },
  {
   "cell_type": "code",
   "execution_count": null,
   "metadata": {
    "id": "uqlNQnXEkU4a"
   },
   "outputs": [],
   "source": []
  }
 ],
 "metadata": {
  "accelerator": "GPU",
  "colab": {
   "authorship_tag": "ABX9TyOltKg9Qj7FlEUG9VfkFVjw",
   "collapsed_sections": [],
   "mount_file_id": "1MDjQ95wavyvV4EoXIHcf2Wbkb0LY3S9-",
   "name": "KNN_1.ipynb",
   "provenance": []
  },
  "kernelspec": {
   "display_name": "Python 3",
   "name": "python3"
  },
  "language_info": {
   "codemirror_mode": {
    "name": "ipython",
    "version": 3
   },
   "file_extension": ".py",
   "mimetype": "text/x-python",
   "name": "python",
   "nbconvert_exporter": "python",
   "pygments_lexer": "ipython3",
   "version": "3.12.1"
  }
 },
 "nbformat": 4,
 "nbformat_minor": 0
}
