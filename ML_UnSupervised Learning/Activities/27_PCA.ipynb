{
 "cells": [
  {
   "cell_type": "code",
   "execution_count": 1,
   "metadata": {
    "colab": {},
    "colab_type": "code",
    "id": "PC42tJH_ZiqT"
   },
   "outputs": [],
   "source": [
    "# https://www.empiwifo.uni-freiburg.de/teaching/winter-term-10-11/materialien-portfolio-analysis/pca.pdf"
   ]
  },
  {
   "cell_type": "code",
   "execution_count": 2,
   "metadata": {
    "colab": {},
    "colab_type": "code",
    "id": "5ID2fx3SAiKg"
   },
   "outputs": [],
   "source": [
    "# https://medium.com/@andymdc31/using-pca-in-a-machine-learning-pipeline-b6fe3492b1b9\n"
   ]
  },
  {
   "cell_type": "markdown",
   "metadata": {
    "colab_type": "text",
    "id": "BAa0vXWv8HRi"
   },
   "source": [
    "![](https://miro.medium.com/max/1084/1*tfG0aKhb9RiawtH2rB-TvA.gif)"
   ]
  },
  {
   "cell_type": "code",
   "execution_count": null,
   "metadata": {
    "colab": {},
    "colab_type": "code",
    "id": "GUXoBzaj80gu"
   },
   "outputs": [],
   "source": []
  },
  {
   "cell_type": "markdown",
   "metadata": {
    "colab_type": "text",
    "id": "_3ayrwf-GRg2"
   },
   "source": [
    "$$\\large \\text{PCA تحليل المكونات الرئيسية    }$$"
   ]
  },
  {
   "cell_type": "markdown",
   "metadata": {
    "colab_type": "text",
    "id": "3Joo-OCtKHQd"
   },
   "source": [
    "\n",
    "-   تعلم في غياب الاشراف : منهجية استخلاص البيانات ذات تباين من مصفوفة ذات ابعاد عالية\n",
    "\n",
    "- عملية اسقاط عمودي يتم من خلالها تحويل البيانات إلى مصفوفة ذات ابعاد أقل من مصفوفة البيانات الأصلية مع تباين أكبر."
   ]
  },
  {
   "cell_type": "code",
   "execution_count": null,
   "metadata": {
    "colab": {},
    "colab_type": "code",
    "id": "oqaqULW9AkOv"
   },
   "outputs": [],
   "source": [
    "\n"
   ]
  },
  {
   "cell_type": "code",
   "execution_count": 12,
   "metadata": {
    "colab": {},
    "colab_type": "code",
    "executionInfo": {
     "elapsed": 3300,
     "status": "ok",
     "timestamp": 1600943582106,
     "user": {
      "displayName": "Math Hack",
      "photoUrl": "https://lh3.googleusercontent.com/a-/AOh14GjOrJzQ2xAgyHRSCzQ3qBInmHzMPfMtIJGxB4HG=s64",
      "userId": "13730440483455885359"
     },
     "user_tz": -180
    },
    "id": "xC8JtENSue3u"
   },
   "outputs": [],
   "source": [
    "# تحميل المكتبات\n",
    "import pandas as pd\n",
    "import numpy as np\n",
    "from sklearn import datasets\n",
    "# تحميل البيانات\n",
    "X, y = datasets.load_digits(return_X_y=True)"
   ]
  },
  {
   "cell_type": "code",
   "execution_count": 4,
   "metadata": {
    "colab": {
     "base_uri": "https://localhost:8080/",
     "height": 34
    },
    "colab_type": "code",
    "executionInfo": {
     "elapsed": 3289,
     "status": "ok",
     "timestamp": 1600943582107,
     "user": {
      "displayName": "Math Hack",
      "photoUrl": "https://lh3.googleusercontent.com/a-/AOh14GjOrJzQ2xAgyHRSCzQ3qBInmHzMPfMtIJGxB4HG=s64",
      "userId": "13730440483455885359"
     },
     "user_tz": -180
    },
    "id": "3KL0uooV3Lq3",
    "outputId": "cb495ed5-0c82-427d-bd29-c05979e4ee76"
   },
   "outputs": [
    {
     "data": {
      "text/plain": [
       "(1797, 64)"
      ]
     },
     "execution_count": 4,
     "metadata": {},
     "output_type": "execute_result"
    }
   ],
   "source": [
    "# حجم مصفوفة البيانات\n",
    "X.shape"
   ]
  },
  {
   "cell_type": "code",
   "execution_count": 5,
   "metadata": {
    "colab": {
     "base_uri": "https://localhost:8080/",
     "height": 102
    },
    "colab_type": "code",
    "executionInfo": {
     "elapsed": 3279,
     "status": "ok",
     "timestamp": 1600943582108,
     "user": {
      "displayName": "Math Hack",
      "photoUrl": "https://lh3.googleusercontent.com/a-/AOh14GjOrJzQ2xAgyHRSCzQ3qBInmHzMPfMtIJGxB4HG=s64",
      "userId": "13730440483455885359"
     },
     "user_tz": -180
    },
    "id": "ZMfKfebY3aAF",
    "outputId": "5790ccdd-b4d1-4de4-97c6-43b3b5f3349f"
   },
   "outputs": [
    {
     "data": {
      "text/plain": [
       "(array([ 0.,  0.,  0.,  2., 13.,  0.,  0.,  0.,  0.,  0.,  0.,  8., 15.,\n",
       "         0.,  0.,  0.,  0.,  0.,  5., 16.,  5.,  2.,  0.,  0.,  0.,  0.,\n",
       "        15., 12.,  1., 16.,  4.,  0.,  0.,  4., 16.,  2.,  9., 16.,  8.,\n",
       "         0.,  0.,  0., 10., 14., 16., 16.,  4.,  0.,  0.,  0.,  0.,  0.,\n",
       "        13.,  8.,  0.,  0.,  0.,  0.,  0.,  0., 13.,  6.,  0.,  0.]),\n",
       " np.int64(4))"
      ]
     },
     "execution_count": 5,
     "metadata": {},
     "output_type": "execute_result"
    }
   ],
   "source": [
    "# نموذج بيانات\n",
    "X[100] , y[100]"
   ]
  },
  {
   "cell_type": "code",
   "execution_count": 6,
   "metadata": {
    "colab": {
     "base_uri": "https://localhost:8080/",
     "height": 298
    },
    "colab_type": "code",
    "executionInfo": {
     "elapsed": 3271,
     "status": "ok",
     "timestamp": 1600943582109,
     "user": {
      "displayName": "Math Hack",
      "photoUrl": "https://lh3.googleusercontent.com/a-/AOh14GjOrJzQ2xAgyHRSCzQ3qBInmHzMPfMtIJGxB4HG=s64",
      "userId": "13730440483455885359"
     },
     "user_tz": -180
    },
    "id": "mdlua6d33Nq_",
    "outputId": "1fb0b3af-e068-4a68-d53c-ef491b2b273e"
   },
   "outputs": [
    {
     "data": {
      "text/plain": [
       "Text(0.5, 1.0, '4')"
      ]
     },
     "execution_count": 6,
     "metadata": {},
     "output_type": "execute_result"
    },
    {
     "data": {
      "image/png": "[encoded data removed]",
      "text/plain": [
       "<Figure size 640x480 with 1 Axes>"
      ]
     },
     "metadata": {},
     "output_type": "display_data"
    }
   ],
   "source": [
    "# رسم محتوى احدى المصفوفات\n",
    "import matplotlib.pyplot as plt\n",
    "# تغيير ابعاد مصفوفة السجل\n",
    "plt.imshow(X[100].reshape(8,8))\n",
    "plt.title(y[100])"
   ]
  },
  {
   "cell_type": "code",
   "execution_count": null,
   "metadata": {
    "colab": {},
    "colab_type": "code",
    "executionInfo": {
     "elapsed": 3268,
     "status": "ok",
     "timestamp": 1600943582110,
     "user": {
      "displayName": "Math Hack",
      "photoUrl": "https://lh3.googleusercontent.com/a-/AOh14GjOrJzQ2xAgyHRSCzQ3qBInmHzMPfMtIJGxB4HG=s64",
      "userId": "13730440483455885359"
     },
     "user_tz": -180
    },
    "id": "jnZkgpIBIdQ3"
   },
   "outputs": [],
   "source": []
  },
  {
   "cell_type": "code",
   "execution_count": 7,
   "metadata": {
    "colab": {
     "base_uri": "https://localhost:8080/",
     "height": 252
    },
    "colab_type": "code",
    "executionInfo": {
     "elapsed": 3103,
     "status": "ok",
     "timestamp": 1600943589117,
     "user": {
      "displayName": "Math Hack",
      "photoUrl": "https://lh3.googleusercontent.com/a-/AOh14GjOrJzQ2xAgyHRSCzQ3qBInmHzMPfMtIJGxB4HG=s64",
      "userId": "13730440483455885359"
     },
     "user_tz": -180
    },
    "id": "6NIkYVf5IdUL",
    "outputId": "74d82fc4-a911-4956-ac95-d1bf06533a3a"
   },
   "outputs": [
    {
     "data": {
      "image/png": "[encoded data removed]",
      "text/plain": [
       "<Figure size 1000x400 with 40 Axes>"
      ]
     },
     "metadata": {},
     "output_type": "display_data"
    }
   ],
   "source": [
    "# اظهار محتوى قاعدة البيانات للأرقام\n",
    "def plot_digits(data):\n",
    "    fig, ax = plt.subplots(4, 10, figsize=(10, 4),\n",
    "                             subplot_kw={'xticks':[], 'yticks':[]},\n",
    "                             gridspec_kw=dict(hspace=0.1, wspace=0.1))\n",
    "    for i, g in enumerate(ax.flat):\n",
    "        g.imshow(X[i].reshape(8, 8),\n",
    "                  cmap='binary' , interpolation='nearest',\n",
    "                  clim=(0, 16))\n",
    "plot_digits(X)"
   ]
  },
  {
   "cell_type": "markdown",
   "metadata": {
    "colab_type": "text",
    "id": "3cluCXyICZT7"
   },
   "source": [
    "# تقليص الابعاد\n",
    "![](https://notsquirrel.com/assets/img/pca/flatten.gif)"
   ]
  },
  {
   "cell_type": "markdown",
   "metadata": {
    "colab_type": "text",
    "id": "5mJ4NFnrDSeP"
   },
   "source": [
    "-  معالجة سجلات البيانات\n",
    "\n",
    "![](https://notsquirrel.com/assets/img/pca/twostack.gif)"
   ]
  },
  {
   "cell_type": "markdown",
   "metadata": {
    "colab_type": "text",
    "id": "eBi_Qk5f2PE6"
   },
   "source": [
    "# <h2  dir=\"rtl\">معالجة تقليص البيانات من خلال تركيبة خوارزمية تكرارية</h2>"
   ]
  },
  {
   "cell_type": "code",
   "execution_count": 8,
   "metadata": {
    "colab": {
     "base_uri": "https://localhost:8080/",
     "height": 34
    },
    "colab_type": "code",
    "executionInfo": {
     "elapsed": 2120,
     "status": "ok",
     "timestamp": 1600943593779,
     "user": {
      "displayName": "Math Hack",
      "photoUrl": "https://lh3.googleusercontent.com/a-/AOh14GjOrJzQ2xAgyHRSCzQ3qBInmHzMPfMtIJGxB4HG=s64",
      "userId": "13730440483455885359"
     },
     "user_tz": -180
    },
    "id": "_OcIn5uZK8gA",
    "outputId": "a322bfbd-c173-48cb-c70f-50b2006da35b"
   },
   "outputs": [
    {
     "data": {
      "text/plain": [
       "array([0.14890594, 0.13618771, 0.11794594, 0.08409979])"
      ]
     },
     "execution_count": 8,
     "metadata": {},
     "output_type": "execute_result"
    }
   ],
   "source": [
    "from sklearn.decomposition import PCA\n",
    "X_pca = PCA(n_components=4).fit(X)  # Create a PCA object with 4 components and fit it to the data (X)\n",
    "                                    # - PCA: Principal Component Analysis, a dimensionality reduction technique\n",
    "                                    # - n_components=4: Reduce the data to 4 principal components\n",
    "                                    # - fit(X): Compute the principal components based on the input data X\n",
    "                                    # - X: The input dataset (assumed to be a 2D array-like structure, e.g., numpy array)\n",
    "                                    # - X_pca: The fitted PCA object, now containing the transformation info\n",
    "\n",
    "X_pca.explained_variance_ratio_     # Access the explained variance ratio attribute of the fitted PCA object\n",
    "                                    # - explained_variance_ratio_: An array of length n_components (here, 4)\n",
    "                                    # - Each value represents the proportion of the dataset's variance explained by\n",
    "                                    #   the corresponding principal component\n",
    "                                    # - Example output: [0.4, 0.3, 0.2, 0.1] means the 1st component explains 40% of variance,\n",
    "                                    #   the 2nd 30%, etc., summing to a value ≤ 1"
   ]
  },
  {
   "cell_type": "code",
   "execution_count": 9,
   "metadata": {
    "colab": {
     "base_uri": "https://localhost:8080/",
     "height": 136
    },
    "colab_type": "code",
    "executionInfo": {
     "elapsed": 1868,
     "status": "ok",
     "timestamp": 1600943596441,
     "user": {
      "displayName": "Math Hack",
      "photoUrl": "https://lh3.googleusercontent.com/a-/AOh14GjOrJzQ2xAgyHRSCzQ3qBInmHzMPfMtIJGxB4HG=s64",
      "userId": "13730440483455885359"
     },
     "user_tz": -180
    },
    "id": "keoKdZnOX9iy",
    "outputId": "596da2bd-a79b-46fd-b28a-35dd905f1fbb"
   },
   "outputs": [
    {
     "data": {
      "text/plain": [
       "array([[ -1.25946645, -21.27488348,   9.46305462, -13.01418869],\n",
       "       [  7.9576113 ,  20.76869896,  -4.43950604,  14.89366444],\n",
       "       [  6.99192297,   9.95598641,  -2.95855808,  12.28830243],\n",
       "       ...,\n",
       "       [ 10.8012837 ,   6.96025223,  -5.59955453,   7.22773348],\n",
       "       [ -4.87210009, -12.42395362,  10.17086635,   6.66885049],\n",
       "       [ -0.34438963,  -6.36554919, -10.77370849,   7.72621321]])"
      ]
     },
     "execution_count": 9,
     "metadata": {},
     "output_type": "execute_result"
    }
   ],
   "source": [
    "PCA(n_components=4).fit_transform(X) # Transform the input data X into the 4-dimensional space defined by the PCA object\n",
    "                                    # - fit_transform(X): Transform the input data X using the fitted PCA object\n",
    "                                    # - X: The input dataset (assumed to be a 2D array-like structure, e.g., numpy array)\n",
    "                                    # - Output: A 2D array-like structure containing the transformed data   "
   ]
  },
  {
   "cell_type": "code",
   "execution_count": 13,
   "metadata": {
    "colab": {},
    "colab_type": "code",
    "executionInfo": {
     "elapsed": 3886,
     "status": "ok",
     "timestamp": 1600943600820,
     "user": {
      "displayName": "Math Hack",
      "photoUrl": "https://lh3.googleusercontent.com/a-/AOh14GjOrJzQ2xAgyHRSCzQ3qBInmHzMPfMtIJGxB4HG=s64",
      "userId": "13730440483455885359"
     },
     "user_tz": -180
    },
    "id": "quMgYXXybF3M"
   },
   "outputs": [
    {
     "data": {
      "text/plain": [
       "array([ 2.,  4.,  8., 16., 32., 64.])"
      ]
     },
     "execution_count": 13,
     "metadata": {},
     "output_type": "execute_result"
    }
   ],
   "source": [
    "np.geomspace(2,64, 6)"
   ]
  },
  {
   "cell_type": "code",
   "execution_count": 14,
   "metadata": {
    "colab": {
     "base_uri": "https://localhost:8080/",
     "height": 119
    },
    "colab_type": "code",
    "executionInfo": {
     "elapsed": 4851,
     "status": "ok",
     "timestamp": 1600943602346,
     "user": {
      "displayName": "Math Hack",
      "photoUrl": "https://lh3.googleusercontent.com/a-/AOh14GjOrJzQ2xAgyHRSCzQ3qBInmHzMPfMtIJGxB4HG=s64",
      "userId": "13730440483455885359"
     },
     "user_tz": -180
    },
    "id": "-pG2h9rauj-i",
    "outputId": "c7ac6008-6742-476a-91aa-64a6901bfa9c"
   },
   "outputs": [
    {
     "name": "stdout",
     "output_type": "stream",
     "text": [
      " 2____  ,0.0001-------------- Accuracy scored : 0.449\n",
      " 3____  ,0.003981071705534973 Accuracy scored : 0.622\n",
      " 7____  ,0.15848931924611143- Accuracy scored : 0.866\n",
      " 15___  ,6.309573444801943--- Accuracy scored : 0.957\n",
      " 31___  ,251.18864315095823-- Accuracy scored : 0.99\n",
      " 64___  ,10000.0------------- Accuracy scored : 0.999\n"
     ]
    }
   ],
   "source": [
    "from sklearn.decomposition import PCA\n",
    "from sklearn.linear_model import LogisticRegression\n",
    "import numpy as np\n",
    "\n",
    "for n, c in zip(np.geomspace(2,64, 6).astype(\"int\") , np.logspace(-4, 4, 6)):\n",
    "  X_pca = PCA(n_components=n).fit_transform(X)\n",
    "  logreg=LogisticRegression(C=c, max_iter=1000, solver=\"liblinear\")\n",
    "  logreg.fit(X_pca, y)\n",
    "  #print( f\"{n:-<10}: {c} \\n\")\n",
    "  #  تحديد درجة الدقة لكل عدد من الأعمدة التي تم تقليصها\n",
    "  print(f\" {n:_<5}  ,{c :-<20} Accuracy scored : {logreg.score(X_pca,y):.3}\")\n"
   ]
  },
  {
   "cell_type": "code",
   "execution_count": 15,
   "metadata": {
    "colab": {
     "base_uri": "https://localhost:8080/",
     "height": 34
    },
    "colab_type": "code",
    "executionInfo": {
     "elapsed": 3414,
     "status": "ok",
     "timestamp": 1600943602348,
     "user": {
      "displayName": "Math Hack",
      "photoUrl": "https://lh3.googleusercontent.com/a-/AOh14GjOrJzQ2xAgyHRSCzQ3qBInmHzMPfMtIJGxB4HG=s64",
      "userId": "13730440483455885359"
     },
     "user_tz": -180
    },
    "id": "lyZ1sBXKvW4_",
    "outputId": "756d8830-008e-4f74-a6d0-6b17225af3d1"
   },
   "outputs": [
    {
     "data": {
      "text/plain": [
       "array([ 2,  3,  7, 15, 31, 64])"
      ]
     },
     "execution_count": 15,
     "metadata": {},
     "output_type": "execute_result"
    }
   ],
   "source": [
    "import numpy as np\n",
    "np.geomspace(2,64, 6).astype(\"int\")"
   ]
  },
  {
   "cell_type": "markdown",
   "metadata": {
    "colab_type": "text",
    "id": "03qFe15Z4rBj"
   },
   "source": [
    "## PipeLine  توظيف معالجة متسلسلىة "
   ]
  },
  {
   "cell_type": "code",
   "execution_count": 16,
   "metadata": {
    "colab": {},
    "colab_type": "code",
    "executionInfo": {
     "elapsed": 2017,
     "status": "ok",
     "timestamp": 1600943608489,
     "user": {
      "displayName": "Math Hack",
      "photoUrl": "https://lh3.googleusercontent.com/a-/AOh14GjOrJzQ2xAgyHRSCzQ3qBInmHzMPfMtIJGxB4HG=s64",
      "userId": "13730440483455885359"
     },
     "user_tz": -180
    },
    "id": "GEWPlt_3AqSA"
   },
   "outputs": [],
   "source": [
    "# نوظيف انحدار لوجستي لتحديد الرقم المطابق لكل رسمة \n",
    "\n",
    "from sklearn.pipeline import make_pipeline\n",
    "pca=PCA()\n",
    "model = make_pipeline(\n",
    "    pca, \n",
    "    # max_iter  عدد مرات معالجة البيانات\n",
    "    # tol  التوقف عند مستوى تباين لا يفوق 10%  فيما بين عرضين متتالين للبيانات\n",
    "    # LogisticRegression(max_iter=100, tol=0.1)\n",
    "\n",
    "    LogisticRegression(max_iter=100, tol=0.1)\n",
    ")"
   ]
  },
  {
   "cell_type": "code",
   "execution_count": 17,
   "metadata": {
    "colab": {},
    "colab_type": "code",
    "executionInfo": {
     "elapsed": 2950,
     "status": "ok",
     "timestamp": 1600943609847,
     "user": {
      "displayName": "Math Hack",
      "photoUrl": "https://lh3.googleusercontent.com/a-/AOh14GjOrJzQ2xAgyHRSCzQ3qBInmHzMPfMtIJGxB4HG=s64",
      "userId": "13730440483455885359"
     },
     "user_tz": -180
    },
    "id": "TfnxMLbiMxXC"
   },
   "outputs": [],
   "source": [
    "from sklearn.model_selection import train_test_split\n",
    "X_train, X_test, y_train, y_test = train_test_split(\n",
    "                          X, y, random_state=42, test_size=.3)"
   ]
  },
  {
   "cell_type": "code",
   "execution_count": 18,
   "metadata": {},
   "outputs": [
    {
     "data": {
      "text/plain": [
       "(1257, 64)"
      ]
     },
     "execution_count": 18,
     "metadata": {},
     "output_type": "execute_result"
    }
   ],
   "source": [
    "X_train.shape"
   ]
  },
  {
   "cell_type": "code",
   "execution_count": 19,
   "metadata": {
    "colab": {},
    "colab_type": "code",
    "executionInfo": {
     "elapsed": 3186,
     "status": "ok",
     "timestamp": 1600943611517,
     "user": {
      "displayName": "Math Hack",
      "photoUrl": "https://lh3.googleusercontent.com/a-/AOh14GjOrJzQ2xAgyHRSCzQ3qBInmHzMPfMtIJGxB4HG=s64",
      "userId": "13730440483455885359"
     },
     "user_tz": -180
    },
    "id": "Xvknw1x_Ar4f"
   },
   "outputs": [],
   "source": [
    "# Parameters of pipelines can be set using ‘__’ separated parameter names:\n",
    "# تحديد معايير معالجة البيانات \n",
    "from sklearn.model_selection import GridSearchCV\n",
    "\n",
    "param_grid = {\n",
    "    'pca__n_components': [5, 15, 30, 45, 60],\n",
    "    'logisticregression__C': np.logspace(-4, 4, 4),\n",
    "    'logisticregression__solver':[\"liblinear\"],\n",
    "    'logisticregression__penalty':[\"l1\", \"l2\"], \n",
    "    \"logisticregression__max_iter\":[500, 800, 1000]\n",
    "}\n",
    "\n"
   ]
  },
  {
   "cell_type": "code",
   "execution_count": null,
   "metadata": {},
   "outputs": [],
   "source": []
  },
  {
   "cell_type": "code",
   "execution_count": 20,
   "metadata": {
    "colab": {
     "base_uri": "https://localhost:8080/",
     "height": 54
    },
    "colab_type": "code",
    "executionInfo": {
     "elapsed": 1963,
     "status": "ok",
     "timestamp": 1600943620706,
     "user": {
      "displayName": "Math Hack",
      "photoUrl": "https://lh3.googleusercontent.com/a-/AOh14GjOrJzQ2xAgyHRSCzQ3qBInmHzMPfMtIJGxB4HG=s64",
      "userId": "13730440483455885359"
     },
     "user_tz": -180
    },
    "id": "icevjAC4_RY2",
    "outputId": "49db1c3e-8a26-4781-c031-4d1031cc6831"
   },
   "outputs": [
    {
     "data": {
      "text/plain": [
       "dict_keys(['memory', 'steps', 'transform_input', 'verbose', 'pca', 'logisticregression', 'pca__copy', 'pca__iterated_power', 'pca__n_components', 'pca__n_oversamples', 'pca__power_iteration_normalizer', 'pca__random_state', 'pca__svd_solver', 'pca__tol', 'pca__whiten', 'logisticregression__C', 'logisticregression__class_weight', 'logisticregression__dual', 'logisticregression__fit_intercept', 'logisticregression__intercept_scaling', 'logisticregression__l1_ratio', 'logisticregression__max_iter', 'logisticregression__multi_class', 'logisticregression__n_jobs', 'logisticregression__penalty', 'logisticregression__random_state', 'logisticregression__solver', 'logisticregression__tol', 'logisticregression__verbose', 'logisticregression__warm_start'])"
      ]
     },
     "execution_count": 20,
     "metadata": {},
     "output_type": "execute_result"
    }
   ],
   "source": [
    "# التاكد من تسمية المعايير أعلاه\n",
    "model.get_params().keys()"
   ]
  },
  {
   "cell_type": "code",
   "execution_count": 21,
   "metadata": {
    "colab": {},
    "colab_type": "code",
    "executionInfo": {
     "elapsed": 1201,
     "status": "ok",
     "timestamp": 1600943626017,
     "user": {
      "displayName": "Math Hack",
      "photoUrl": "https://lh3.googleusercontent.com/a-/AOh14GjOrJzQ2xAgyHRSCzQ3qBInmHzMPfMtIJGxB4HG=s64",
      "userId": "13730440483455885359"
     },
     "user_tz": -180
    },
    "id": "thN6hpdgAr8Z"
   },
   "outputs": [],
   "source": [
    "# توظيف شبكة البحث لتحديد افضل معايير معالجة البيانات\n",
    "search = GridSearchCV(model, param_grid, n_jobs=-1, refit=True  ) # n_jobs=-1 to use all available cores\n",
    "\n"
   ]
  },
  {
   "cell_type": "code",
   "execution_count": 22,
   "metadata": {
    "colab": {
     "base_uri": "https://localhost:8080/",
     "height": 425
    },
    "colab_type": "code",
    "executionInfo": {
     "elapsed": 76775,
     "status": "ok",
     "timestamp": 1600943703480,
     "user": {
      "displayName": "Math Hack",
      "photoUrl": "https://lh3.googleusercontent.com/a-/AOh14GjOrJzQ2xAgyHRSCzQ3qBInmHzMPfMtIJGxB4HG=s64",
      "userId": "13730440483455885359"
     },
     "user_tz": -180
    },
    "id": "a7KRWvj6BxhK",
    "outputId": "b7f58137-57e4-4b87-a2bc-83fbd8f14744"
   },
   "outputs": [
    {
     "data": {
      "text/html": [
       "<style>#sk-container-id-1 {\n",
       "  /* Definition of color scheme common for light and dark mode */\n",
       "  --sklearn-color-text: #000;\n",
       "  --sklearn-color-text-muted: #666;\n",
       "  --sklearn-color-line: gray;\n",
       "  /* Definition of color scheme for unfitted estimators */\n",
       "  --sklearn-color-unfitted-level-0: #fff5e6;\n",
       "  --sklearn-color-unfitted-level-1: #f6e4d2;\n",
       "  --sklearn-color-unfitted-level-2: #ffe0b3;\n",
       "  --sklearn-color-unfitted-level-3: chocolate;\n",
       "  /* Definition of color scheme for fitted estimators */\n",
       "  --sklearn-color-fitted-level-0: #f0f8ff;\n",
       "  --sklearn-color-fitted-level-1: #d4ebff;\n",
       "  --sklearn-color-fitted-level-2: #b3dbfd;\n",
       "  --sklearn-color-fitted-level-3: cornflowerblue;\n",
       "\n",
       "  /* Specific color for light theme */\n",
       "  --sklearn-color-text-on-default-background: var(--sg-text-color, var(--theme-code-foreground, var(--jp-content-font-color1, black)));\n",
       "  --sklearn-color-background: var(--sg-background-color, var(--theme-background, var(--jp-layout-color0, white)));\n",
       "  --sklearn-color-border-box: var(--sg-text-color, var(--theme-code-foreground, var(--jp-content-font-color1, black)));\n",
       "  --sklearn-color-icon: #696969;\n",
       "\n",
       "  @media (prefers-color-scheme: dark) {\n",
       "    /* Redefinition of color scheme for dark theme */\n",
       "    --sklearn-color-text-on-default-background: var(--sg-text-color, var(--theme-code-foreground, var(--jp-content-font-color1, white)));\n",
       "    --sklearn-color-background: var(--sg-background-color, var(--theme-background, var(--jp-layout-color0, #111)));\n",
       "    --sklearn-color-border-box: var(--sg-text-color, var(--theme-code-foreground, var(--jp-content-font-color1, white)));\n",
       "    --sklearn-color-icon: #878787;\n",
       "  }\n",
       "}\n",
       "\n",
       "#sk-container-id-1 {\n",
       "  color: var(--sklearn-color-text);\n",
       "}\n",
       "\n",
       "#sk-container-id-1 pre {\n",
       "  padding: 0;\n",
       "}\n",
       "\n",
       "#sk-container-id-1 input.sk-hidden--visually {\n",
       "  border: 0;\n",
       "  clip: rect(1px 1px 1px 1px);\n",
       "  clip: rect(1px, 1px, 1px, 1px);\n",
       "  height: 1px;\n",
       "  margin: -1px;\n",
       "  overflow: hidden;\n",
       "  padding: 0;\n",
       "  position: absolute;\n",
       "  width: 1px;\n",
       "}\n",
       "\n",
       "#sk-container-id-1 div.sk-dashed-wrapped {\n",
       "  border: 1px dashed var(--sklearn-color-line);\n",
       "  margin: 0 0.4em 0.5em 0.4em;\n",
       "  box-sizing: border-box;\n",
       "  padding-bottom: 0.4em;\n",
       "  background-color: var(--sklearn-color-background);\n",
       "}\n",
       "\n",
       "#sk-container-id-1 div.sk-container {\n",
       "  /* jupyter's `normalize.less` sets `[hidden] { display: none; }`\n",
       "     but bootstrap.min.css set `[hidden] { display: none !important; }`\n",
       "     so we also need the `!important` here to be able to override the\n",
       "     default hidden behavior on the sphinx rendered scikit-learn.org.\n",
       "     See: https://github.com/scikit-learn/scikit-learn/issues/21755 */\n",
       "  display: inline-block !important;\n",
       "  position: relative;\n",
       "}\n",
       "\n",
       "#sk-container-id-1 div.sk-text-repr-fallback {\n",
       "  display: none;\n",
       "}\n",
       "\n",
       "div.sk-parallel-item,\n",
       "div.sk-serial,\n",
       "div.sk-item {\n",
       "  /* draw centered vertical line to link estimators */\n",
       "  background-image: linear-gradient(var(--sklearn-color-text-on-default-background), var(--sklearn-color-text-on-default-background));\n",
       "  background-size: 2px 100%;\n",
       "  background-repeat: no-repeat;\n",
       "  background-position: center center;\n",
       "}\n",
       "\n",
       "/* Parallel-specific style estimator block */\n",
       "\n",
       "#sk-container-id-1 div.sk-parallel-item::after {\n",
       "  content: \"\";\n",
       "  width: 100%;\n",
       "  border-bottom: 2px solid var(--sklearn-color-text-on-default-background);\n",
       "  flex-grow: 1;\n",
       "}\n",
       "\n",
       "#sk-container-id-1 div.sk-parallel {\n",
       "  display: flex;\n",
       "  align-items: stretch;\n",
       "  justify-content: center;\n",
       "  background-color: var(--sklearn-color-background);\n",
       "  position: relative;\n",
       "}\n",
       "\n",
       "#sk-container-id-1 div.sk-parallel-item {\n",
       "  display: flex;\n",
       "  flex-direction: column;\n",
       "}\n",
       "\n",
       "#sk-container-id-1 div.sk-parallel-item:first-child::after {\n",
       "  align-self: flex-end;\n",
       "  width: 50%;\n",
       "}\n",
       "\n",
       "#sk-container-id-1 div.sk-parallel-item:last-child::after {\n",
       "  align-self: flex-start;\n",
       "  width: 50%;\n",
       "}\n",
       "\n",
       "#sk-container-id-1 div.sk-parallel-item:only-child::after {\n",
       "  width: 0;\n",
       "}\n",
       "\n",
       "/* Serial-specific style estimator block */\n",
       "\n",
       "#sk-container-id-1 div.sk-serial {\n",
       "  display: flex;\n",
       "  flex-direction: column;\n",
       "  align-items: center;\n",
       "  background-color: var(--sklearn-color-background);\n",
       "  padding-right: 1em;\n",
       "  padding-left: 1em;\n",
       "}\n",
       "\n",
       "\n",
       "/* Toggleable style: style used for estimator/Pipeline/ColumnTransformer box that is\n",
       "clickable and can be expanded/collapsed.\n",
       "- Pipeline and ColumnTransformer use this feature and define the default style\n",
       "- Estimators will overwrite some part of the style using the `sk-estimator` class\n",
       "*/\n",
       "\n",
       "/* Pipeline and ColumnTransformer style (default) */\n",
       "\n",
       "#sk-container-id-1 div.sk-toggleable {\n",
       "  /* Default theme specific background. It is overwritten whether we have a\n",
       "  specific estimator or a Pipeline/ColumnTransformer */\n",
       "  background-color: var(--sklearn-color-background);\n",
       "}\n",
       "\n",
       "/* Toggleable label */\n",
       "#sk-container-id-1 label.sk-toggleable__label {\n",
       "  cursor: pointer;\n",
       "  display: flex;\n",
       "  width: 100%;\n",
       "  margin-bottom: 0;\n",
       "  padding: 0.5em;\n",
       "  box-sizing: border-box;\n",
       "  text-align: center;\n",
       "  align-items: start;\n",
       "  justify-content: space-between;\n",
       "  gap: 0.5em;\n",
       "}\n",
       "\n",
       "#sk-container-id-1 label.sk-toggleable__label .caption {\n",
       "  font-size: 0.6rem;\n",
       "  font-weight: lighter;\n",
       "  color: var(--sklearn-color-text-muted);\n",
       "}\n",
       "\n",
       "#sk-container-id-1 label.sk-toggleable__label-arrow:before {\n",
       "  /* Arrow on the left of the label */\n",
       "  content: \"▸\";\n",
       "  float: left;\n",
       "  margin-right: 0.25em;\n",
       "  color: var(--sklearn-color-icon);\n",
       "}\n",
       "\n",
       "#sk-container-id-1 label.sk-toggleable__label-arrow:hover:before {\n",
       "  color: var(--sklearn-color-text);\n",
       "}\n",
       "\n",
       "/* Toggleable content - dropdown */\n",
       "\n",
       "#sk-container-id-1 div.sk-toggleable__content {\n",
       "  max-height: 0;\n",
       "  max-width: 0;\n",
       "  overflow: hidden;\n",
       "  text-align: left;\n",
       "  /* unfitted */\n",
       "  background-color: var(--sklearn-color-unfitted-level-0);\n",
       "}\n",
       "\n",
       "#sk-container-id-1 div.sk-toggleable__content.fitted {\n",
       "  /* fitted */\n",
       "  background-color: var(--sklearn-color-fitted-level-0);\n",
       "}\n",
       "\n",
       "#sk-container-id-1 div.sk-toggleable__content pre {\n",
       "  margin: 0.2em;\n",
       "  border-radius: 0.25em;\n",
       "  color: var(--sklearn-color-text);\n",
       "  /* unfitted */\n",
       "  background-color: var(--sklearn-color-unfitted-level-0);\n",
       "}\n",
       "\n",
       "#sk-container-id-1 div.sk-toggleable__content.fitted pre {\n",
       "  /* unfitted */\n",
       "  background-color: var(--sklearn-color-fitted-level-0);\n",
       "}\n",
       "\n",
       "#sk-container-id-1 input.sk-toggleable__control:checked~div.sk-toggleable__content {\n",
       "  /* Expand drop-down */\n",
       "  max-height: 200px;\n",
       "  max-width: 100%;\n",
       "  overflow: auto;\n",
       "}\n",
       "\n",
       "#sk-container-id-1 input.sk-toggleable__control:checked~label.sk-toggleable__label-arrow:before {\n",
       "  content: \"▾\";\n",
       "}\n",
       "\n",
       "/* Pipeline/ColumnTransformer-specific style */\n",
       "\n",
       "#sk-container-id-1 div.sk-label input.sk-toggleable__control:checked~label.sk-toggleable__label {\n",
       "  color: var(--sklearn-color-text);\n",
       "  background-color: var(--sklearn-color-unfitted-level-2);\n",
       "}\n",
       "\n",
       "#sk-container-id-1 div.sk-label.fitted input.sk-toggleable__control:checked~label.sk-toggleable__label {\n",
       "  background-color: var(--sklearn-color-fitted-level-2);\n",
       "}\n",
       "\n",
       "/* Estimator-specific style */\n",
       "\n",
       "/* Colorize estimator box */\n",
       "#sk-container-id-1 div.sk-estimator input.sk-toggleable__control:checked~label.sk-toggleable__label {\n",
       "  /* unfitted */\n",
       "  background-color: var(--sklearn-color-unfitted-level-2);\n",
       "}\n",
       "\n",
       "#sk-container-id-1 div.sk-estimator.fitted input.sk-toggleable__control:checked~label.sk-toggleable__label {\n",
       "  /* fitted */\n",
       "  background-color: var(--sklearn-color-fitted-level-2);\n",
       "}\n",
       "\n",
       "#sk-container-id-1 div.sk-label label.sk-toggleable__label,\n",
       "#sk-container-id-1 div.sk-label label {\n",
       "  /* The background is the default theme color */\n",
       "  color: var(--sklearn-color-text-on-default-background);\n",
       "}\n",
       "\n",
       "/* On hover, darken the color of the background */\n",
       "#sk-container-id-1 div.sk-label:hover label.sk-toggleable__label {\n",
       "  color: var(--sklearn-color-text);\n",
       "  background-color: var(--sklearn-color-unfitted-level-2);\n",
       "}\n",
       "\n",
       "/* Label box, darken color on hover, fitted */\n",
       "#sk-container-id-1 div.sk-label.fitted:hover label.sk-toggleable__label.fitted {\n",
       "  color: var(--sklearn-color-text);\n",
       "  background-color: var(--sklearn-color-fitted-level-2);\n",
       "}\n",
       "\n",
       "/* Estimator label */\n",
       "\n",
       "#sk-container-id-1 div.sk-label label {\n",
       "  font-family: monospace;\n",
       "  font-weight: bold;\n",
       "  display: inline-block;\n",
       "  line-height: 1.2em;\n",
       "}\n",
       "\n",
       "#sk-container-id-1 div.sk-label-container {\n",
       "  text-align: center;\n",
       "}\n",
       "\n",
       "/* Estimator-specific */\n",
       "#sk-container-id-1 div.sk-estimator {\n",
       "  font-family: monospace;\n",
       "  border: 1px dotted var(--sklearn-color-border-box);\n",
       "  border-radius: 0.25em;\n",
       "  box-sizing: border-box;\n",
       "  margin-bottom: 0.5em;\n",
       "  /* unfitted */\n",
       "  background-color: var(--sklearn-color-unfitted-level-0);\n",
       "}\n",
       "\n",
       "#sk-container-id-1 div.sk-estimator.fitted {\n",
       "  /* fitted */\n",
       "  background-color: var(--sklearn-color-fitted-level-0);\n",
       "}\n",
       "\n",
       "/* on hover */\n",
       "#sk-container-id-1 div.sk-estimator:hover {\n",
       "  /* unfitted */\n",
       "  background-color: var(--sklearn-color-unfitted-level-2);\n",
       "}\n",
       "\n",
       "#sk-container-id-1 div.sk-estimator.fitted:hover {\n",
       "  /* fitted */\n",
       "  background-color: var(--sklearn-color-fitted-level-2);\n",
       "}\n",
       "\n",
       "/* Specification for estimator info (e.g. \"i\" and \"?\") */\n",
       "\n",
       "/* Common style for \"i\" and \"?\" */\n",
       "\n",
       ".sk-estimator-doc-link,\n",
       "a:link.sk-estimator-doc-link,\n",
       "a:visited.sk-estimator-doc-link {\n",
       "  float: right;\n",
       "  font-size: smaller;\n",
       "  line-height: 1em;\n",
       "  font-family: monospace;\n",
       "  background-color: var(--sklearn-color-background);\n",
       "  border-radius: 1em;\n",
       "  height: 1em;\n",
       "  width: 1em;\n",
       "  text-decoration: none !important;\n",
       "  margin-left: 0.5em;\n",
       "  text-align: center;\n",
       "  /* unfitted */\n",
       "  border: var(--sklearn-color-unfitted-level-1) 1pt solid;\n",
       "  color: var(--sklearn-color-unfitted-level-1);\n",
       "}\n",
       "\n",
       ".sk-estimator-doc-link.fitted,\n",
       "a:link.sk-estimator-doc-link.fitted,\n",
       "a:visited.sk-estimator-doc-link.fitted {\n",
       "  /* fitted */\n",
       "  border: var(--sklearn-color-fitted-level-1) 1pt solid;\n",
       "  color: var(--sklearn-color-fitted-level-1);\n",
       "}\n",
       "\n",
       "/* On hover */\n",
       "div.sk-estimator:hover .sk-estimator-doc-link:hover,\n",
       ".sk-estimator-doc-link:hover,\n",
       "div.sk-label-container:hover .sk-estimator-doc-link:hover,\n",
       ".sk-estimator-doc-link:hover {\n",
       "  /* unfitted */\n",
       "  background-color: var(--sklearn-color-unfitted-level-3);\n",
       "  color: var(--sklearn-color-background);\n",
       "  text-decoration: none;\n",
       "}\n",
       "\n",
       "div.sk-estimator.fitted:hover .sk-estimator-doc-link.fitted:hover,\n",
       ".sk-estimator-doc-link.fitted:hover,\n",
       "div.sk-label-container:hover .sk-estimator-doc-link.fitted:hover,\n",
       ".sk-estimator-doc-link.fitted:hover {\n",
       "  /* fitted */\n",
       "  background-color: var(--sklearn-color-fitted-level-3);\n",
       "  color: var(--sklearn-color-background);\n",
       "  text-decoration: none;\n",
       "}\n",
       "\n",
       "/* Span, style for the box shown on hovering the info icon */\n",
       ".sk-estimator-doc-link span {\n",
       "  display: none;\n",
       "  z-index: 9999;\n",
       "  position: relative;\n",
       "  font-weight: normal;\n",
       "  right: .2ex;\n",
       "  padding: .5ex;\n",
       "  margin: .5ex;\n",
       "  width: min-content;\n",
       "  min-width: 20ex;\n",
       "  max-width: 50ex;\n",
       "  color: var(--sklearn-color-text);\n",
       "  box-shadow: 2pt 2pt 4pt #999;\n",
       "  /* unfitted */\n",
       "  background: var(--sklearn-color-unfitted-level-0);\n",
       "  border: .5pt solid var(--sklearn-color-unfitted-level-3);\n",
       "}\n",
       "\n",
       ".sk-estimator-doc-link.fitted span {\n",
       "  /* fitted */\n",
       "  background: var(--sklearn-color-fitted-level-0);\n",
       "  border: var(--sklearn-color-fitted-level-3);\n",
       "}\n",
       "\n",
       ".sk-estimator-doc-link:hover span {\n",
       "  display: block;\n",
       "}\n",
       "\n",
       "/* \"?\"-specific style due to the `<a>` HTML tag */\n",
       "\n",
       "#sk-container-id-1 a.estimator_doc_link {\n",
       "  float: right;\n",
       "  font-size: 1rem;\n",
       "  line-height: 1em;\n",
       "  font-family: monospace;\n",
       "  background-color: var(--sklearn-color-background);\n",
       "  border-radius: 1rem;\n",
       "  height: 1rem;\n",
       "  width: 1rem;\n",
       "  text-decoration: none;\n",
       "  /* unfitted */\n",
       "  color: var(--sklearn-color-unfitted-level-1);\n",
       "  border: var(--sklearn-color-unfitted-level-1) 1pt solid;\n",
       "}\n",
       "\n",
       "#sk-container-id-1 a.estimator_doc_link.fitted {\n",
       "  /* fitted */\n",
       "  border: var(--sklearn-color-fitted-level-1) 1pt solid;\n",
       "  color: var(--sklearn-color-fitted-level-1);\n",
       "}\n",
       "\n",
       "/* On hover */\n",
       "#sk-container-id-1 a.estimator_doc_link:hover {\n",
       "  /* unfitted */\n",
       "  background-color: var(--sklearn-color-unfitted-level-3);\n",
       "  color: var(--sklearn-color-background);\n",
       "  text-decoration: none;\n",
       "}\n",
       "\n",
       "#sk-container-id-1 a.estimator_doc_link.fitted:hover {\n",
       "  /* fitted */\n",
       "  background-color: var(--sklearn-color-fitted-level-3);\n",
       "}\n",
       "</style><div id=\"sk-container-id-1\" class=\"sk-top-container\"><div class=\"sk-text-repr-fallback\"><pre>GridSearchCV(estimator=Pipeline(steps=[(&#x27;pca&#x27;, PCA()),\n",
       "                                       (&#x27;logisticregression&#x27;,\n",
       "                                        LogisticRegression(tol=0.1))]),\n",
       "             n_jobs=-1,\n",
       "             param_grid={&#x27;logisticregression__C&#x27;: array([1.00000000e-04, 4.64158883e-02, 2.15443469e+01, 1.00000000e+04]),\n",
       "                         &#x27;logisticregression__max_iter&#x27;: [500, 800, 1000],\n",
       "                         &#x27;logisticregression__penalty&#x27;: [&#x27;l1&#x27;, &#x27;l2&#x27;],\n",
       "                         &#x27;logisticregression__solver&#x27;: [&#x27;liblinear&#x27;],\n",
       "                         &#x27;pca__n_components&#x27;: [5, 15, 30, 45, 60]})</pre><b>In a Jupyter environment, please rerun this cell to show the HTML representation or trust the notebook. <br />On GitHub, the HTML representation is unable to render, please try loading this page with nbviewer.org.</b></div><div class=\"sk-container\" hidden><div class=\"sk-item sk-dashed-wrapped\"><div class=\"sk-label-container\"><div class=\"sk-label fitted sk-toggleable\"><input class=\"sk-toggleable__control sk-hidden--visually\" id=\"sk-estimator-id-1\" type=\"checkbox\" ><label for=\"sk-estimator-id-1\" class=\"sk-toggleable__label fitted sk-toggleable__label-arrow\"><div><div>GridSearchCV</div></div><div><a class=\"sk-estimator-doc-link fitted\" rel=\"noreferrer\" target=\"_blank\" href=\"https://scikit-learn.org/1.6/modules/generated/sklearn.model_selection.GridSearchCV.html\">?<span>Documentation for GridSearchCV</span></a><span class=\"sk-estimator-doc-link fitted\">i<span>Fitted</span></span></div></label><div class=\"sk-toggleable__content fitted\"><pre>GridSearchCV(estimator=Pipeline(steps=[(&#x27;pca&#x27;, PCA()),\n",
       "                                       (&#x27;logisticregression&#x27;,\n",
       "                                        LogisticRegression(tol=0.1))]),\n",
       "             n_jobs=-1,\n",
       "             param_grid={&#x27;logisticregression__C&#x27;: array([1.00000000e-04, 4.64158883e-02, 2.15443469e+01, 1.00000000e+04]),\n",
       "                         &#x27;logisticregression__max_iter&#x27;: [500, 800, 1000],\n",
       "                         &#x27;logisticregression__penalty&#x27;: [&#x27;l1&#x27;, &#x27;l2&#x27;],\n",
       "                         &#x27;logisticregression__solver&#x27;: [&#x27;liblinear&#x27;],\n",
       "                         &#x27;pca__n_components&#x27;: [5, 15, 30, 45, 60]})</pre></div> </div></div><div class=\"sk-parallel\"><div class=\"sk-parallel-item\"><div class=\"sk-item\"><div class=\"sk-label-container\"><div class=\"sk-label fitted sk-toggleable\"><input class=\"sk-toggleable__control sk-hidden--visually\" id=\"sk-estimator-id-2\" type=\"checkbox\" ><label for=\"sk-estimator-id-2\" class=\"sk-toggleable__label fitted sk-toggleable__label-arrow\"><div><div>best_estimator_: Pipeline</div></div></label><div class=\"sk-toggleable__content fitted\"><pre>Pipeline(steps=[(&#x27;pca&#x27;, PCA(n_components=45)),\n",
       "                (&#x27;logisticregression&#x27;,\n",
       "                 LogisticRegression(C=np.float64(10000.0), max_iter=500,\n",
       "                                    penalty=&#x27;l1&#x27;, solver=&#x27;liblinear&#x27;,\n",
       "                                    tol=0.1))])</pre></div> </div></div><div class=\"sk-serial\"><div class=\"sk-item\"><div class=\"sk-serial\"><div class=\"sk-item\"><div class=\"sk-estimator fitted sk-toggleable\"><input class=\"sk-toggleable__control sk-hidden--visually\" id=\"sk-estimator-id-3\" type=\"checkbox\" ><label for=\"sk-estimator-id-3\" class=\"sk-toggleable__label fitted sk-toggleable__label-arrow\"><div><div>PCA</div></div><div><a class=\"sk-estimator-doc-link fitted\" rel=\"noreferrer\" target=\"_blank\" href=\"https://scikit-learn.org/1.6/modules/generated/sklearn.decomposition.PCA.html\">?<span>Documentation for PCA</span></a></div></label><div class=\"sk-toggleable__content fitted\"><pre>PCA(n_components=45)</pre></div> </div></div><div class=\"sk-item\"><div class=\"sk-estimator fitted sk-toggleable\"><input class=\"sk-toggleable__control sk-hidden--visually\" id=\"sk-estimator-id-4\" type=\"checkbox\" ><label for=\"sk-estimator-id-4\" class=\"sk-toggleable__label fitted sk-toggleable__label-arrow\"><div><div>LogisticRegression</div></div><div><a class=\"sk-estimator-doc-link fitted\" rel=\"noreferrer\" target=\"_blank\" href=\"https://scikit-learn.org/1.6/modules/generated/sklearn.linear_model.LogisticRegression.html\">?<span>Documentation for LogisticRegression</span></a></div></label><div class=\"sk-toggleable__content fitted\"><pre>LogisticRegression(C=np.float64(10000.0), max_iter=500, penalty=&#x27;l1&#x27;,\n",
       "                   solver=&#x27;liblinear&#x27;, tol=0.1)</pre></div> </div></div></div></div></div></div></div></div></div></div></div>"
      ],
      "text/plain": [
       "GridSearchCV(estimator=Pipeline(steps=[('pca', PCA()),\n",
       "                                       ('logisticregression',\n",
       "                                        LogisticRegression(tol=0.1))]),\n",
       "             n_jobs=-1,\n",
       "             param_grid={'logisticregression__C': array([1.00000000e-04, 4.64158883e-02, 2.15443469e+01, 1.00000000e+04]),\n",
       "                         'logisticregression__max_iter': [500, 800, 1000],\n",
       "                         'logisticregression__penalty': ['l1', 'l2'],\n",
       "                         'logisticregression__solver': ['liblinear'],\n",
       "                         'pca__n_components': [5, 15, 30, 45, 60]})"
      ]
     },
     "execution_count": 22,
     "metadata": {},
     "output_type": "execute_result"
    }
   ],
   "source": [
    "# تدريب البيانت\n",
    "search.fit(X_train, y_train)"
   ]
  },
  {
   "cell_type": "code",
   "execution_count": 23,
   "metadata": {
    "colab": {
     "base_uri": "https://localhost:8080/",
     "height": 35
    },
    "colab_type": "code",
    "executionInfo": {
     "elapsed": 71112,
     "status": "ok",
     "timestamp": 1600943703491,
     "user": {
      "displayName": "Math Hack",
      "photoUrl": "https://lh3.googleusercontent.com/a-/AOh14GjOrJzQ2xAgyHRSCzQ3qBInmHzMPfMtIJGxB4HG=s64",
      "userId": "13730440483455885359"
     },
     "user_tz": -180
    },
    "id": "x_J5yvriGdWt",
    "outputId": "1e86b9a3-ad83-48d0-8179-86e86f0f68cc"
   },
   "outputs": [
    {
     "data": {
      "text/plain": [
       "'Best parameter : 0.948'"
      ]
     },
     "execution_count": 23,
     "metadata": {},
     "output_type": "execute_result"
    }
   ],
   "source": [
    "#grid.best_score_ is the average of all cv folds for a single combination of the parameters  specified  Accuracy  افضل نتيجة  تعكس الدقة في هذه الحال\n",
    "f\"Best parameter : {search.best_score_:.3}\"  "
   ]
  },
  {
   "cell_type": "code",
   "execution_count": 24,
   "metadata": {
    "colab": {
     "base_uri": "https://localhost:8080/",
     "height": 54
    },
    "colab_type": "code",
    "executionInfo": {
     "elapsed": 70448,
     "status": "ok",
     "timestamp": 1600943703493,
     "user": {
      "displayName": "Math Hack",
      "photoUrl": "https://lh3.googleusercontent.com/a-/AOh14GjOrJzQ2xAgyHRSCzQ3qBInmHzMPfMtIJGxB4HG=s64",
      "userId": "13730440483455885359"
     },
     "user_tz": -180
    },
    "id": "61X2odwPB0NH",
    "outputId": "dbf42264-e9c2-4acb-a5a8-4607ff4d0661"
   },
   "outputs": [
    {
     "name": "stdout",
     "output_type": "stream",
     "text": [
      "{'logisticregression__C': np.float64(10000.0), 'logisticregression__max_iter': 500, 'logisticregression__penalty': 'l1', 'logisticregression__solver': 'liblinear', 'pca__n_components': 45}\n"
     ]
    }
   ],
   "source": [
    "# أفضل المعايير \n",
    "print(search.best_params_)"
   ]
  },
  {
   "cell_type": "code",
   "execution_count": 25,
   "metadata": {
    "colab": {
     "base_uri": "https://localhost:8080/",
     "height": 136
    },
    "colab_type": "code",
    "executionInfo": {
     "elapsed": 68875,
     "status": "ok",
     "timestamp": 1600943703496,
     "user": {
      "displayName": "Math Hack",
      "photoUrl": "https://lh3.googleusercontent.com/a-/AOh14GjOrJzQ2xAgyHRSCzQ3qBInmHzMPfMtIJGxB4HG=s64",
      "userId": "13730440483455885359"
     },
     "user_tz": -180
    },
    "id": "oFJaITTKdtp_",
    "outputId": "09f2ca8a-9508-4c87-8f76-2dfa4320156c"
   },
   "outputs": [
    {
     "data": {
      "text/plain": [
       "{'pca': PCA(n_components=45),\n",
       " 'logisticregression': LogisticRegression(C=np.float64(10000.0), max_iter=500, penalty='l1',\n",
       "                    solver='liblinear', tol=0.1)}"
      ]
     },
     "execution_count": 25,
     "metadata": {},
     "output_type": "execute_result"
    }
   ],
   "source": [
    "#json  بنية افضل التقديرات \n",
    "search.best_estimator_.named_steps"
   ]
  },
  {
   "cell_type": "code",
   "execution_count": 26,
   "metadata": {
    "colab": {
     "base_uri": "https://localhost:8080/",
     "height": 34
    },
    "colab_type": "code",
    "executionInfo": {
     "elapsed": 925,
     "status": "ok",
     "timestamp": 1600235824771,
     "user": {
      "displayName": "Math Hack",
      "photoUrl": "https://lh3.googleusercontent.com/a-/AOh14GjOrJzQ2xAgyHRSCzQ3qBInmHzMPfMtIJGxB4HG=s64",
      "userId": "13730440483455885359"
     },
     "user_tz": -180
    },
    "id": "l_zzkQE3QuFq",
    "outputId": "86d735c0-267d-47e1-b75c-641ca8bf6fe9"
   },
   "outputs": [
    {
     "data": {
      "text/plain": [
       "0.9611111111111111"
      ]
     },
     "execution_count": 26,
     "metadata": {},
     "output_type": "execute_result"
    }
   ],
   "source": [
    "\n",
    "search.best_estimator_.score(X_test, y_test)"
   ]
  },
  {
   "cell_type": "markdown",
   "metadata": {
    "colab_type": "text",
    "id": "LY8QoDS6AwTm"
   },
   "source": [
    "##رسم بياني لتطور درجة الدقة في ضوء تقليص ابعاد المصفوفة \n",
    "\n"
   ]
  },
  {
   "cell_type": "code",
   "execution_count": 27,
   "metadata": {
    "colab": {
     "base_uri": "https://localhost:8080/",
     "height": 51
    },
    "colab_type": "code",
    "executionInfo": {
     "elapsed": 908,
     "status": "ok",
     "timestamp": 1600235826496,
     "user": {
      "displayName": "Math Hack",
      "photoUrl": "https://lh3.googleusercontent.com/a-/AOh14GjOrJzQ2xAgyHRSCzQ3qBInmHzMPfMtIJGxB4HG=s64",
      "userId": "13730440483455885359"
     },
     "user_tz": -180
    },
    "id": "aInGqkyXZQ1v",
    "outputId": "02a84799-617b-46df-874c-c1a8f2eb0f49"
   },
   "outputs": [
    {
     "data": {
      "text/html": [
       "<style>#sk-container-id-2 {\n",
       "  /* Definition of color scheme common for light and dark mode */\n",
       "  --sklearn-color-text: #000;\n",
       "  --sklearn-color-text-muted: #666;\n",
       "  --sklearn-color-line: gray;\n",
       "  /* Definition of color scheme for unfitted estimators */\n",
       "  --sklearn-color-unfitted-level-0: #fff5e6;\n",
       "  --sklearn-color-unfitted-level-1: #f6e4d2;\n",
       "  --sklearn-color-unfitted-level-2: #ffe0b3;\n",
       "  --sklearn-color-unfitted-level-3: chocolate;\n",
       "  /* Definition of color scheme for fitted estimators */\n",
       "  --sklearn-color-fitted-level-0: #f0f8ff;\n",
       "  --sklearn-color-fitted-level-1: #d4ebff;\n",
       "  --sklearn-color-fitted-level-2: #b3dbfd;\n",
       "  --sklearn-color-fitted-level-3: cornflowerblue;\n",
       "\n",
       "  /* Specific color for light theme */\n",
       "  --sklearn-color-text-on-default-background: var(--sg-text-color, var(--theme-code-foreground, var(--jp-content-font-color1, black)));\n",
       "  --sklearn-color-background: var(--sg-background-color, var(--theme-background, var(--jp-layout-color0, white)));\n",
       "  --sklearn-color-border-box: var(--sg-text-color, var(--theme-code-foreground, var(--jp-content-font-color1, black)));\n",
       "  --sklearn-color-icon: #696969;\n",
       "\n",
       "  @media (prefers-color-scheme: dark) {\n",
       "    /* Redefinition of color scheme for dark theme */\n",
       "    --sklearn-color-text-on-default-background: var(--sg-text-color, var(--theme-code-foreground, var(--jp-content-font-color1, white)));\n",
       "    --sklearn-color-background: var(--sg-background-color, var(--theme-background, var(--jp-layout-color0, #111)));\n",
       "    --sklearn-color-border-box: var(--sg-text-color, var(--theme-code-foreground, var(--jp-content-font-color1, white)));\n",
       "    --sklearn-color-icon: #878787;\n",
       "  }\n",
       "}\n",
       "\n",
       "#sk-container-id-2 {\n",
       "  color: var(--sklearn-color-text);\n",
       "}\n",
       "\n",
       "#sk-container-id-2 pre {\n",
       "  padding: 0;\n",
       "}\n",
       "\n",
       "#sk-container-id-2 input.sk-hidden--visually {\n",
       "  border: 0;\n",
       "  clip: rect(1px 1px 1px 1px);\n",
       "  clip: rect(1px, 1px, 1px, 1px);\n",
       "  height: 1px;\n",
       "  margin: -1px;\n",
       "  overflow: hidden;\n",
       "  padding: 0;\n",
       "  position: absolute;\n",
       "  width: 1px;\n",
       "}\n",
       "\n",
       "#sk-container-id-2 div.sk-dashed-wrapped {\n",
       "  border: 1px dashed var(--sklearn-color-line);\n",
       "  margin: 0 0.4em 0.5em 0.4em;\n",
       "  box-sizing: border-box;\n",
       "  padding-bottom: 0.4em;\n",
       "  background-color: var(--sklearn-color-background);\n",
       "}\n",
       "\n",
       "#sk-container-id-2 div.sk-container {\n",
       "  /* jupyter's `normalize.less` sets `[hidden] { display: none; }`\n",
       "     but bootstrap.min.css set `[hidden] { display: none !important; }`\n",
       "     so we also need the `!important` here to be able to override the\n",
       "     default hidden behavior on the sphinx rendered scikit-learn.org.\n",
       "     See: https://github.com/scikit-learn/scikit-learn/issues/21755 */\n",
       "  display: inline-block !important;\n",
       "  position: relative;\n",
       "}\n",
       "\n",
       "#sk-container-id-2 div.sk-text-repr-fallback {\n",
       "  display: none;\n",
       "}\n",
       "\n",
       "div.sk-parallel-item,\n",
       "div.sk-serial,\n",
       "div.sk-item {\n",
       "  /* draw centered vertical line to link estimators */\n",
       "  background-image: linear-gradient(var(--sklearn-color-text-on-default-background), var(--sklearn-color-text-on-default-background));\n",
       "  background-size: 2px 100%;\n",
       "  background-repeat: no-repeat;\n",
       "  background-position: center center;\n",
       "}\n",
       "\n",
       "/* Parallel-specific style estimator block */\n",
       "\n",
       "#sk-container-id-2 div.sk-parallel-item::after {\n",
       "  content: \"\";\n",
       "  width: 100%;\n",
       "  border-bottom: 2px solid var(--sklearn-color-text-on-default-background);\n",
       "  flex-grow: 1;\n",
       "}\n",
       "\n",
       "#sk-container-id-2 div.sk-parallel {\n",
       "  display: flex;\n",
       "  align-items: stretch;\n",
       "  justify-content: center;\n",
       "  background-color: var(--sklearn-color-background);\n",
       "  position: relative;\n",
       "}\n",
       "\n",
       "#sk-container-id-2 div.sk-parallel-item {\n",
       "  display: flex;\n",
       "  flex-direction: column;\n",
       "}\n",
       "\n",
       "#sk-container-id-2 div.sk-parallel-item:first-child::after {\n",
       "  align-self: flex-end;\n",
       "  width: 50%;\n",
       "}\n",
       "\n",
       "#sk-container-id-2 div.sk-parallel-item:last-child::after {\n",
       "  align-self: flex-start;\n",
       "  width: 50%;\n",
       "}\n",
       "\n",
       "#sk-container-id-2 div.sk-parallel-item:only-child::after {\n",
       "  width: 0;\n",
       "}\n",
       "\n",
       "/* Serial-specific style estimator block */\n",
       "\n",
       "#sk-container-id-2 div.sk-serial {\n",
       "  display: flex;\n",
       "  flex-direction: column;\n",
       "  align-items: center;\n",
       "  background-color: var(--sklearn-color-background);\n",
       "  padding-right: 1em;\n",
       "  padding-left: 1em;\n",
       "}\n",
       "\n",
       "\n",
       "/* Toggleable style: style used for estimator/Pipeline/ColumnTransformer box that is\n",
       "clickable and can be expanded/collapsed.\n",
       "- Pipeline and ColumnTransformer use this feature and define the default style\n",
       "- Estimators will overwrite some part of the style using the `sk-estimator` class\n",
       "*/\n",
       "\n",
       "/* Pipeline and ColumnTransformer style (default) */\n",
       "\n",
       "#sk-container-id-2 div.sk-toggleable {\n",
       "  /* Default theme specific background. It is overwritten whether we have a\n",
       "  specific estimator or a Pipeline/ColumnTransformer */\n",
       "  background-color: var(--sklearn-color-background);\n",
       "}\n",
       "\n",
       "/* Toggleable label */\n",
       "#sk-container-id-2 label.sk-toggleable__label {\n",
       "  cursor: pointer;\n",
       "  display: flex;\n",
       "  width: 100%;\n",
       "  margin-bottom: 0;\n",
       "  padding: 0.5em;\n",
       "  box-sizing: border-box;\n",
       "  text-align: center;\n",
       "  align-items: start;\n",
       "  justify-content: space-between;\n",
       "  gap: 0.5em;\n",
       "}\n",
       "\n",
       "#sk-container-id-2 label.sk-toggleable__label .caption {\n",
       "  font-size: 0.6rem;\n",
       "  font-weight: lighter;\n",
       "  color: var(--sklearn-color-text-muted);\n",
       "}\n",
       "\n",
       "#sk-container-id-2 label.sk-toggleable__label-arrow:before {\n",
       "  /* Arrow on the left of the label */\n",
       "  content: \"▸\";\n",
       "  float: left;\n",
       "  margin-right: 0.25em;\n",
       "  color: var(--sklearn-color-icon);\n",
       "}\n",
       "\n",
       "#sk-container-id-2 label.sk-toggleable__label-arrow:hover:before {\n",
       "  color: var(--sklearn-color-text);\n",
       "}\n",
       "\n",
       "/* Toggleable content - dropdown */\n",
       "\n",
       "#sk-container-id-2 div.sk-toggleable__content {\n",
       "  max-height: 0;\n",
       "  max-width: 0;\n",
       "  overflow: hidden;\n",
       "  text-align: left;\n",
       "  /* unfitted */\n",
       "  background-color: var(--sklearn-color-unfitted-level-0);\n",
       "}\n",
       "\n",
       "#sk-container-id-2 div.sk-toggleable__content.fitted {\n",
       "  /* fitted */\n",
       "  background-color: var(--sklearn-color-fitted-level-0);\n",
       "}\n",
       "\n",
       "#sk-container-id-2 div.sk-toggleable__content pre {\n",
       "  margin: 0.2em;\n",
       "  border-radius: 0.25em;\n",
       "  color: var(--sklearn-color-text);\n",
       "  /* unfitted */\n",
       "  background-color: var(--sklearn-color-unfitted-level-0);\n",
       "}\n",
       "\n",
       "#sk-container-id-2 div.sk-toggleable__content.fitted pre {\n",
       "  /* unfitted */\n",
       "  background-color: var(--sklearn-color-fitted-level-0);\n",
       "}\n",
       "\n",
       "#sk-container-id-2 input.sk-toggleable__control:checked~div.sk-toggleable__content {\n",
       "  /* Expand drop-down */\n",
       "  max-height: 200px;\n",
       "  max-width: 100%;\n",
       "  overflow: auto;\n",
       "}\n",
       "\n",
       "#sk-container-id-2 input.sk-toggleable__control:checked~label.sk-toggleable__label-arrow:before {\n",
       "  content: \"▾\";\n",
       "}\n",
       "\n",
       "/* Pipeline/ColumnTransformer-specific style */\n",
       "\n",
       "#sk-container-id-2 div.sk-label input.sk-toggleable__control:checked~label.sk-toggleable__label {\n",
       "  color: var(--sklearn-color-text);\n",
       "  background-color: var(--sklearn-color-unfitted-level-2);\n",
       "}\n",
       "\n",
       "#sk-container-id-2 div.sk-label.fitted input.sk-toggleable__control:checked~label.sk-toggleable__label {\n",
       "  background-color: var(--sklearn-color-fitted-level-2);\n",
       "}\n",
       "\n",
       "/* Estimator-specific style */\n",
       "\n",
       "/* Colorize estimator box */\n",
       "#sk-container-id-2 div.sk-estimator input.sk-toggleable__control:checked~label.sk-toggleable__label {\n",
       "  /* unfitted */\n",
       "  background-color: var(--sklearn-color-unfitted-level-2);\n",
       "}\n",
       "\n",
       "#sk-container-id-2 div.sk-estimator.fitted input.sk-toggleable__control:checked~label.sk-toggleable__label {\n",
       "  /* fitted */\n",
       "  background-color: var(--sklearn-color-fitted-level-2);\n",
       "}\n",
       "\n",
       "#sk-container-id-2 div.sk-label label.sk-toggleable__label,\n",
       "#sk-container-id-2 div.sk-label label {\n",
       "  /* The background is the default theme color */\n",
       "  color: var(--sklearn-color-text-on-default-background);\n",
       "}\n",
       "\n",
       "/* On hover, darken the color of the background */\n",
       "#sk-container-id-2 div.sk-label:hover label.sk-toggleable__label {\n",
       "  color: var(--sklearn-color-text);\n",
       "  background-color: var(--sklearn-color-unfitted-level-2);\n",
       "}\n",
       "\n",
       "/* Label box, darken color on hover, fitted */\n",
       "#sk-container-id-2 div.sk-label.fitted:hover label.sk-toggleable__label.fitted {\n",
       "  color: var(--sklearn-color-text);\n",
       "  background-color: var(--sklearn-color-fitted-level-2);\n",
       "}\n",
       "\n",
       "/* Estimator label */\n",
       "\n",
       "#sk-container-id-2 div.sk-label label {\n",
       "  font-family: monospace;\n",
       "  font-weight: bold;\n",
       "  display: inline-block;\n",
       "  line-height: 1.2em;\n",
       "}\n",
       "\n",
       "#sk-container-id-2 div.sk-label-container {\n",
       "  text-align: center;\n",
       "}\n",
       "\n",
       "/* Estimator-specific */\n",
       "#sk-container-id-2 div.sk-estimator {\n",
       "  font-family: monospace;\n",
       "  border: 1px dotted var(--sklearn-color-border-box);\n",
       "  border-radius: 0.25em;\n",
       "  box-sizing: border-box;\n",
       "  margin-bottom: 0.5em;\n",
       "  /* unfitted */\n",
       "  background-color: var(--sklearn-color-unfitted-level-0);\n",
       "}\n",
       "\n",
       "#sk-container-id-2 div.sk-estimator.fitted {\n",
       "  /* fitted */\n",
       "  background-color: var(--sklearn-color-fitted-level-0);\n",
       "}\n",
       "\n",
       "/* on hover */\n",
       "#sk-container-id-2 div.sk-estimator:hover {\n",
       "  /* unfitted */\n",
       "  background-color: var(--sklearn-color-unfitted-level-2);\n",
       "}\n",
       "\n",
       "#sk-container-id-2 div.sk-estimator.fitted:hover {\n",
       "  /* fitted */\n",
       "  background-color: var(--sklearn-color-fitted-level-2);\n",
       "}\n",
       "\n",
       "/* Specification for estimator info (e.g. \"i\" and \"?\") */\n",
       "\n",
       "/* Common style for \"i\" and \"?\" */\n",
       "\n",
       ".sk-estimator-doc-link,\n",
       "a:link.sk-estimator-doc-link,\n",
       "a:visited.sk-estimator-doc-link {\n",
       "  float: right;\n",
       "  font-size: smaller;\n",
       "  line-height: 1em;\n",
       "  font-family: monospace;\n",
       "  background-color: var(--sklearn-color-background);\n",
       "  border-radius: 1em;\n",
       "  height: 1em;\n",
       "  width: 1em;\n",
       "  text-decoration: none !important;\n",
       "  margin-left: 0.5em;\n",
       "  text-align: center;\n",
       "  /* unfitted */\n",
       "  border: var(--sklearn-color-unfitted-level-1) 1pt solid;\n",
       "  color: var(--sklearn-color-unfitted-level-1);\n",
       "}\n",
       "\n",
       ".sk-estimator-doc-link.fitted,\n",
       "a:link.sk-estimator-doc-link.fitted,\n",
       "a:visited.sk-estimator-doc-link.fitted {\n",
       "  /* fitted */\n",
       "  border: var(--sklearn-color-fitted-level-1) 1pt solid;\n",
       "  color: var(--sklearn-color-fitted-level-1);\n",
       "}\n",
       "\n",
       "/* On hover */\n",
       "div.sk-estimator:hover .sk-estimator-doc-link:hover,\n",
       ".sk-estimator-doc-link:hover,\n",
       "div.sk-label-container:hover .sk-estimator-doc-link:hover,\n",
       ".sk-estimator-doc-link:hover {\n",
       "  /* unfitted */\n",
       "  background-color: var(--sklearn-color-unfitted-level-3);\n",
       "  color: var(--sklearn-color-background);\n",
       "  text-decoration: none;\n",
       "}\n",
       "\n",
       "div.sk-estimator.fitted:hover .sk-estimator-doc-link.fitted:hover,\n",
       ".sk-estimator-doc-link.fitted:hover,\n",
       "div.sk-label-container:hover .sk-estimator-doc-link.fitted:hover,\n",
       ".sk-estimator-doc-link.fitted:hover {\n",
       "  /* fitted */\n",
       "  background-color: var(--sklearn-color-fitted-level-3);\n",
       "  color: var(--sklearn-color-background);\n",
       "  text-decoration: none;\n",
       "}\n",
       "\n",
       "/* Span, style for the box shown on hovering the info icon */\n",
       ".sk-estimator-doc-link span {\n",
       "  display: none;\n",
       "  z-index: 9999;\n",
       "  position: relative;\n",
       "  font-weight: normal;\n",
       "  right: .2ex;\n",
       "  padding: .5ex;\n",
       "  margin: .5ex;\n",
       "  width: min-content;\n",
       "  min-width: 20ex;\n",
       "  max-width: 50ex;\n",
       "  color: var(--sklearn-color-text);\n",
       "  box-shadow: 2pt 2pt 4pt #999;\n",
       "  /* unfitted */\n",
       "  background: var(--sklearn-color-unfitted-level-0);\n",
       "  border: .5pt solid var(--sklearn-color-unfitted-level-3);\n",
       "}\n",
       "\n",
       ".sk-estimator-doc-link.fitted span {\n",
       "  /* fitted */\n",
       "  background: var(--sklearn-color-fitted-level-0);\n",
       "  border: var(--sklearn-color-fitted-level-3);\n",
       "}\n",
       "\n",
       ".sk-estimator-doc-link:hover span {\n",
       "  display: block;\n",
       "}\n",
       "\n",
       "/* \"?\"-specific style due to the `<a>` HTML tag */\n",
       "\n",
       "#sk-container-id-2 a.estimator_doc_link {\n",
       "  float: right;\n",
       "  font-size: 1rem;\n",
       "  line-height: 1em;\n",
       "  font-family: monospace;\n",
       "  background-color: var(--sklearn-color-background);\n",
       "  border-radius: 1rem;\n",
       "  height: 1rem;\n",
       "  width: 1rem;\n",
       "  text-decoration: none;\n",
       "  /* unfitted */\n",
       "  color: var(--sklearn-color-unfitted-level-1);\n",
       "  border: var(--sklearn-color-unfitted-level-1) 1pt solid;\n",
       "}\n",
       "\n",
       "#sk-container-id-2 a.estimator_doc_link.fitted {\n",
       "  /* fitted */\n",
       "  border: var(--sklearn-color-fitted-level-1) 1pt solid;\n",
       "  color: var(--sklearn-color-fitted-level-1);\n",
       "}\n",
       "\n",
       "/* On hover */\n",
       "#sk-container-id-2 a.estimator_doc_link:hover {\n",
       "  /* unfitted */\n",
       "  background-color: var(--sklearn-color-unfitted-level-3);\n",
       "  color: var(--sklearn-color-background);\n",
       "  text-decoration: none;\n",
       "}\n",
       "\n",
       "#sk-container-id-2 a.estimator_doc_link.fitted:hover {\n",
       "  /* fitted */\n",
       "  background-color: var(--sklearn-color-fitted-level-3);\n",
       "}\n",
       "</style><div id=\"sk-container-id-2\" class=\"sk-top-container\"><div class=\"sk-text-repr-fallback\"><pre>PCA()</pre><b>In a Jupyter environment, please rerun this cell to show the HTML representation or trust the notebook. <br />On GitHub, the HTML representation is unable to render, please try loading this page with nbviewer.org.</b></div><div class=\"sk-container\" hidden><div class=\"sk-item\"><div class=\"sk-estimator fitted sk-toggleable\"><input class=\"sk-toggleable__control sk-hidden--visually\" id=\"sk-estimator-id-5\" type=\"checkbox\" checked><label for=\"sk-estimator-id-5\" class=\"sk-toggleable__label fitted sk-toggleable__label-arrow\"><div><div>PCA</div></div><div><a class=\"sk-estimator-doc-link fitted\" rel=\"noreferrer\" target=\"_blank\" href=\"https://scikit-learn.org/1.6/modules/generated/sklearn.decomposition.PCA.html\">?<span>Documentation for PCA</span></a><span class=\"sk-estimator-doc-link fitted\">i<span>Fitted</span></span></div></label><div class=\"sk-toggleable__content fitted\"><pre>PCA()</pre></div> </div></div></div></div>"
      ],
      "text/plain": [
       "PCA()"
      ]
     },
     "execution_count": 27,
     "metadata": {},
     "output_type": "execute_result"
    }
   ],
   "source": [
    "# تدريب \n",
    "pca.fit(X_train)"
   ]
  },
  {
   "cell_type": "code",
   "execution_count": 28,
   "metadata": {
    "colab": {
     "base_uri": "https://localhost:8080/",
     "height": 34
    },
    "colab_type": "code",
    "executionInfo": {
     "elapsed": 928,
     "status": "ok",
     "timestamp": 1600235829008,
     "user": {
      "displayName": "Math Hack",
      "photoUrl": "https://lh3.googleusercontent.com/a-/AOh14GjOrJzQ2xAgyHRSCzQ3qBInmHzMPfMtIJGxB4HG=s64",
      "userId": "13730440483455885359"
     },
     "user_tz": -180
    },
    "id": "3AavBUcTZlmn",
    "outputId": "f1fcf330-f7f7-49af-e6e9-2aa4f7fe79f2"
   },
   "outputs": [
    {
     "data": {
      "text/plain": [
       "64"
      ]
     },
     "execution_count": 28,
     "metadata": {},
     "output_type": "execute_result"
    }
   ],
   "source": [
    "# الأبعاد الأصلية\n",
    "pca.n_components_"
   ]
  },
  {
   "cell_type": "code",
   "execution_count": 29,
   "metadata": {
    "colab": {
     "base_uri": "https://localhost:8080/",
     "height": 289
    },
    "colab_type": "code",
    "executionInfo": {
     "elapsed": 542,
     "status": "ok",
     "timestamp": 1600235830035,
     "user": {
      "displayName": "Math Hack",
      "photoUrl": "https://lh3.googleusercontent.com/a-/AOh14GjOrJzQ2xAgyHRSCzQ3qBInmHzMPfMtIJGxB4HG=s64",
      "userId": "13730440483455885359"
     },
     "user_tz": -180
    },
    "id": "LnKBSW_UZsBf",
    "outputId": "7720feaa-773a-4c1c-831c-0ac37b3f5bdd"
   },
   "outputs": [
    {
     "data": {
      "text/plain": [
       "array([1.48700307e-01, 1.36312819e-01, 1.20076302e-01, 8.45954441e-02,\n",
       "       5.63897588e-02, 4.92359652e-02, 4.26269512e-02, 3.56750500e-02,\n",
       "       3.33886752e-02, 3.09762981e-02, 2.38644587e-02, 2.31836145e-02,\n",
       "       1.84609017e-02, 1.76094833e-02, 1.49145715e-02, 1.44399060e-02,\n",
       "       1.33425704e-02, 1.20314091e-02, 1.01825456e-02, 9.35663008e-03,\n",
       "       8.86570197e-03, 7.94401834e-03, 7.38379622e-03, 7.21963027e-03,\n",
       "       6.61666884e-03, 6.04174507e-03, 5.78109620e-03, 5.07542185e-03,\n",
       "       4.80219522e-03, 4.25491178e-03, 3.85070610e-03, 3.49144303e-03,\n",
       "       3.30020409e-03, 3.23040164e-03, 2.97963377e-03, 2.92775423e-03,\n",
       "       2.54680552e-03, 2.32163379e-03, 2.26096803e-03, 2.14672756e-03,\n",
       "       1.85255176e-03, 1.54541608e-03, 1.47490042e-03, 1.36751900e-03,\n",
       "       1.13053635e-03, 1.06487835e-03, 9.30176780e-04, 8.45456196e-04,\n",
       "       5.16384945e-04, 3.82314016e-04, 2.29218278e-04, 7.80342968e-05,\n",
       "       6.03049098e-05, 4.69778608e-05, 4.00961919e-05, 1.65922509e-05,\n",
       "       7.54856281e-06, 3.76120738e-06, 1.02394749e-06, 7.47508392e-07,\n",
       "       4.36249778e-07, 1.29864606e-18, 0.00000000e+00, 0.00000000e+00])"
      ]
     },
     "execution_count": 29,
     "metadata": {},
     "output_type": "execute_result"
    }
   ],
   "source": [
    "# نسبة تباين كل خاصية  في ضوء تغير أبعاد مصوفة الباينات\n",
    "pca.explained_variance_ratio_ #.cumsum()"
   ]
  },
  {
   "cell_type": "code",
   "execution_count": 30,
   "metadata": {
    "colab": {
     "base_uri": "https://localhost:8080/",
     "height": 85
    },
    "colab_type": "code",
    "executionInfo": {
     "elapsed": 1160,
     "status": "ok",
     "timestamp": 1600235833150,
     "user": {
      "displayName": "Math Hack",
      "photoUrl": "https://lh3.googleusercontent.com/a-/AOh14GjOrJzQ2xAgyHRSCzQ3qBInmHzMPfMtIJGxB4HG=s64",
      "userId": "13730440483455885359"
     },
     "user_tz": -180
    },
    "id": "6sPLPd0MZc5E",
    "outputId": "9f7187e2-2989-40c1-b6d7-3d0f7ff55471"
   },
   "outputs": [
    {
     "data": {
      "text/plain": [
       "array([ 1,  2,  3,  4,  5,  6,  7,  8,  9, 10, 11, 12, 13, 14, 15, 16, 17,\n",
       "       18, 19, 20, 21, 22, 23, 24, 25, 26, 27, 28, 29, 30, 31, 32, 33, 34,\n",
       "       35, 36, 37, 38, 39, 40, 41, 42, 43, 44, 45, 46, 47, 48, 49, 50, 51,\n",
       "       52, 53, 54, 55, 56, 57, 58, 59, 60, 61, 62, 63, 64])"
      ]
     },
     "execution_count": 30,
     "metadata": {},
     "output_type": "execute_result"
    }
   ],
   "source": [
    "np.arange(1, pca.n_components_ + 1)"
   ]
  },
  {
   "cell_type": "code",
   "execution_count": 31,
   "metadata": {
    "colab": {
     "base_uri": "https://localhost:8080/",
     "height": 441
    },
    "colab_type": "code",
    "executionInfo": {
     "elapsed": 1712,
     "status": "ok",
     "timestamp": 1600235834019,
     "user": {
      "displayName": "Math Hack",
      "photoUrl": "https://lh3.googleusercontent.com/a-/AOh14GjOrJzQ2xAgyHRSCzQ3qBInmHzMPfMtIJGxB4HG=s64",
      "userId": "13730440483455885359"
     },
     "user_tz": -180
    },
    "id": "ZHDRV-wzAzBA",
    "outputId": "cb93c664-b888-439c-d305-5639a2e542db"
   },
   "outputs": [
    {
     "name": "stderr",
     "output_type": "stream",
     "text": [
      "/tmp/ipykernel_4348/1005936608.py:17: DeprecationWarning: DataFrameGroupBy.apply operated on the grouping columns. This behavior is deprecated, and in a future version of pandas the grouping columns will be excluded from the operation. Either pass `include_groups=False` to exclude the groupings or explicitly select the grouping columns after groupby to silence this warning.\n",
      "  best_clfs = results.groupby(components_col).apply(\n"
     ]
    },
    {
     "data": {
      "image/png": "[encoded data removed]",
      "text/plain": [
       "<Figure size 600x600 with 2 Axes>"
      ]
     },
     "metadata": {},
     "output_type": "display_data"
    }
   ],
   "source": [
    "# التخطيط البياني\n",
    "fig, (ax0, ax1) = plt.subplots(nrows=2, sharex=True, figsize=(6, 6))\n",
    "ax0.plot(np.arange(1, pca.n_components_ + 1),\n",
    "         pca.explained_variance_ratio_, '+', linewidth=2)\n",
    "ax0.set_ylabel('PCA explained variance ratio')\n",
    "\n",
    "ax0.axvline(search.best_estimator_.named_steps['pca'].n_components,\n",
    "            linestyle=':', label='n_components chosen')\n",
    "ax0.legend(prop=dict(size=12))\n",
    "\n",
    "\n",
    "\n",
    "\n",
    "# For each number of components, find the best classifier results\n",
    "results = pd.DataFrame(search.cv_results_)\n",
    "components_col = 'param_pca__n_components'\n",
    "best_clfs = results.groupby(components_col).apply(\n",
    "    lambda g: g.nlargest(1, 'mean_test_score'))\n",
    "\n",
    "best_clfs.plot(x=components_col, y='mean_test_score', yerr='std_test_score',\n",
    "               legend=False, ax=ax1)\n",
    "\n",
    "\n",
    "\n",
    "ax1.axvline(45, linestyle=':')\n",
    "ax1.set_ylabel('Classification accuracy (val)')\n",
    "ax1.set_xlabel('n_components')\n",
    "ax1.set_xticks(np.arange(5, 64,5 ))\n",
    "plt.xlim(-1, 70)\n",
    "\n",
    "plt.tight_layout()\n",
    "plt.show()"
   ]
  },
  {
   "cell_type": "markdown",
   "metadata": {
    "colab_type": "text",
    "id": "L4YN857eC-AV"
   },
   "source": [
    "# Learning Curve"
   ]
  },
  {
   "cell_type": "code",
   "execution_count": 32,
   "metadata": {
    "colab": {
     "base_uri": "https://localhost:8080/",
     "height": 312
    },
    "colab_type": "code",
    "executionInfo": {
     "elapsed": 3102,
     "status": "ok",
     "timestamp": 1600235697576,
     "user": {
      "displayName": "Math Hack",
      "photoUrl": "https://lh3.googleusercontent.com/a-/AOh14GjOrJzQ2xAgyHRSCzQ3qBInmHzMPfMtIJGxB4HG=s64",
      "userId": "13730440483455885359"
     },
     "user_tz": -180
    },
    "id": "gyIaqwb7RoZI",
    "outputId": "90165e0f-458b-4d5c-d7a1-89ee2bdeb779"
   },
   "outputs": [
    {
     "data": {
      "image/png": "[encoded data removed]",
      "text/plain": [
       "<Figure size 1000x600 with 1 Axes>"
      ]
     },
     "metadata": {},
     "output_type": "display_data"
    }
   ],
   "source": [
    "from plot_utils import plot_learning_curve  # Import from your library\n",
    "\n",
    "plot_learning_curve(model, X_train, y_train, scoring=\"f1_macro\", n_jobs=-1)"
   ]
  },
  {
   "cell_type": "code",
   "execution_count": 33,
   "metadata": {
    "colab": {
     "base_uri": "https://localhost:8080/",
     "height": 54
    },
    "colab_type": "code",
    "executionInfo": {
     "elapsed": 856,
     "status": "ok",
     "timestamp": 1600235880080,
     "user": {
      "displayName": "Math Hack",
      "photoUrl": "https://lh3.googleusercontent.com/a-/AOh14GjOrJzQ2xAgyHRSCzQ3qBInmHzMPfMtIJGxB4HG=s64",
      "userId": "13730440483455885359"
     },
     "user_tz": -180
    },
    "id": "2LpFEgr5TsW-",
    "outputId": "098e4caf-7d25-40d2-d074-1e0043e84297"
   },
   "outputs": [
    {
     "data": {
      "text/plain": [
       "['explained_variance',\n",
       " 'r2',\n",
       " 'neg_max_error',\n",
       " 'matthews_corrcoef',\n",
       " 'neg_median_absolute_error',\n",
       " 'neg_mean_absolute_error',\n",
       " 'neg_mean_absolute_percentage_error',\n",
       " 'neg_mean_squared_error',\n",
       " 'neg_mean_squared_log_error',\n",
       " 'neg_root_mean_squared_error',\n",
       " 'neg_root_mean_squared_log_error',\n",
       " 'neg_mean_poisson_deviance',\n",
       " 'neg_mean_gamma_deviance',\n",
       " 'd2_absolute_error_score',\n",
       " 'accuracy',\n",
       " 'top_k_accuracy',\n",
       " 'roc_auc',\n",
       " 'roc_auc_ovr',\n",
       " 'roc_auc_ovo',\n",
       " 'roc_auc_ovr_weighted',\n",
       " 'roc_auc_ovo_weighted',\n",
       " 'balanced_accuracy',\n",
       " 'average_precision',\n",
       " 'neg_log_loss',\n",
       " 'neg_brier_score',\n",
       " 'positive_likelihood_ratio',\n",
       " 'neg_negative_likelihood_ratio',\n",
       " 'adjusted_rand_score',\n",
       " 'rand_score',\n",
       " 'homogeneity_score',\n",
       " 'completeness_score',\n",
       " 'v_measure_score',\n",
       " 'mutual_info_score',\n",
       " 'adjusted_mutual_info_score',\n",
       " 'normalized_mutual_info_score',\n",
       " 'fowlkes_mallows_score',\n",
       " 'precision',\n",
       " 'precision_macro',\n",
       " 'precision_micro',\n",
       " 'precision_samples',\n",
       " 'precision_weighted',\n",
       " 'recall',\n",
       " 'recall_macro',\n",
       " 'recall_micro',\n",
       " 'recall_samples',\n",
       " 'recall_weighted',\n",
       " 'f1',\n",
       " 'f1_macro',\n",
       " 'f1_micro',\n",
       " 'f1_samples',\n",
       " 'f1_weighted',\n",
       " 'jaccard',\n",
       " 'jaccard_macro',\n",
       " 'jaccard_micro',\n",
       " 'jaccard_samples',\n",
       " 'jaccard_weighted']"
      ]
     },
     "execution_count": 33,
     "metadata": {},
     "output_type": "execute_result"
    }
   ],
   "source": [
    "from sklearn.metrics._scorer import _SCORERS\n",
    "\n",
    "# List all available scorers\n",
    "list(_SCORERS.keys())"
   ]
  },
  {
   "cell_type": "markdown",
   "metadata": {
    "colab_type": "text",
    "id": "xEVO0EocLwNj"
   },
   "source": [
    "# Prediction "
   ]
  },
  {
   "cell_type": "code",
   "execution_count": 34,
   "metadata": {
    "colab": {
     "base_uri": "https://localhost:8080/",
     "height": 35
    },
    "colab_type": "code",
    "executionInfo": {
     "elapsed": 949,
     "status": "ok",
     "timestamp": 1600235888651,
     "user": {
      "displayName": "Math Hack",
      "photoUrl": "https://lh3.googleusercontent.com/a-/AOh14GjOrJzQ2xAgyHRSCzQ3qBInmHzMPfMtIJGxB4HG=s64",
      "userId": "13730440483455885359"
     },
     "user_tz": -180
    },
    "id": "bFeKyCEMLwQx",
    "outputId": "6a759dfe-43e6-41ad-9d29-4f833e0c4cbe"
   },
   "outputs": [
    {
     "data": {
      "text/plain": [
       "'R2  : 0.9087103600611687'"
      ]
     },
     "execution_count": 34,
     "metadata": {},
     "output_type": "execute_result"
    }
   ],
   "source": [
    "from sklearn import metrics\n",
    "y_pred=search.predict(X_test)\n",
    "f\"R2  : {metrics.r2_score(y_test, y_pred)}\"  "
   ]
  },
  {
   "cell_type": "code",
   "execution_count": 35,
   "metadata": {
    "colab": {
     "base_uri": "https://localhost:8080/",
     "height": 298
    },
    "colab_type": "code",
    "executionInfo": {
     "elapsed": 987,
     "status": "ok",
     "timestamp": 1600236219536,
     "user": {
      "displayName": "Math Hack",
      "photoUrl": "https://lh3.googleusercontent.com/a-/AOh14GjOrJzQ2xAgyHRSCzQ3qBInmHzMPfMtIJGxB4HG=s64",
      "userId": "13730440483455885359"
     },
     "user_tz": -180
    },
    "id": "8hibi_bXLxLR",
    "outputId": "a9673fa4-0e7c-438d-9d36-414c2fb9eee3"
   },
   "outputs": [
    {
     "data": {
      "text/plain": [
       "Text(0.5, 1.0, '3')"
      ]
     },
     "execution_count": 35,
     "metadata": {},
     "output_type": "execute_result"
    },
    {
     "data": {
      "image/png": "[encoded data removed]",
      "text/plain": [
       "<Figure size 640x480 with 1 Axes>"
      ]
     },
     "metadata": {},
     "output_type": "display_data"
    }
   ],
   "source": [
    "# رسم محتوى احدى المصفوفات\n",
    "import matplotlib.pyplot as plt\n",
    "# تغيير ابعاد مصفوفة السجل\n",
    "plt.imshow(X_test[2].reshape(8,8))\n",
    "plt.title(  y_test[2])  #  to replace with y_pred"
   ]
  },
  {
   "cell_type": "code",
   "execution_count": 36,
   "metadata": {
    "colab": {
     "base_uri": "https://localhost:8080/",
     "height": 34
    },
    "colab_type": "code",
    "executionInfo": {
     "elapsed": 915,
     "status": "ok",
     "timestamp": 1600236122947,
     "user": {
      "displayName": "Math Hack",
      "photoUrl": "https://lh3.googleusercontent.com/a-/AOh14GjOrJzQ2xAgyHRSCzQ3qBInmHzMPfMtIJGxB4HG=s64",
      "userId": "13730440483455885359"
     },
     "user_tz": -180
    },
    "id": "IIe3TIZegUDA",
    "outputId": "0bd00576-c4ed-4f33-fb79-01ee255e21d3"
   },
   "outputs": [
    {
     "data": {
      "text/plain": [
       "np.int64(3)"
      ]
     },
     "execution_count": 36,
     "metadata": {},
     "output_type": "execute_result"
    }
   ],
   "source": [
    "y_test[2]"
   ]
  },
  {
   "cell_type": "markdown",
   "metadata": {},
   "source": [
    "- X_test[4]: Selects the 5th row (index 4) of X_test. Assuming X_test is a 2D array (e.g., NumPy - array) with shape (n_samples, n_features), X_test[4] has shape (n_features,).\n",
    "\n",
    "- .reshape(1, -1): Reshapes this single row from (n_features,) to (1, n_features), making it a 2D array with 1 sample and all features. The -1 argument tells NumPy to infer the number of columns (features) automatically.\n",
    "\n",
    "- search.predict(): Expects a 2D array of shape (n_samples, n_features). Since (1, n_features) fits this requirement, it predicts one output (e.g., a class label for classification).\n",
    "\n"
   ]
  },
  {
   "cell_type": "code",
   "execution_count": 37,
   "metadata": {
    "colab": {
     "base_uri": "https://localhost:8080/",
     "height": 408
    },
    "colab_type": "code",
    "executionInfo": {
     "elapsed": 914,
     "status": "error",
     "timestamp": 1600236060912,
     "user": {
      "displayName": "Math Hack",
      "photoUrl": "https://lh3.googleusercontent.com/a-/AOh14GjOrJzQ2xAgyHRSCzQ3qBInmHzMPfMtIJGxB4HG=s64",
      "userId": "13730440483455885359"
     },
     "user_tz": -180
    },
    "id": "qcyg_F8ogBQ_",
    "outputId": "021c820f-a3b3-4104-ec09-b183e6144e5a"
   },
   "outputs": [
    {
     "data": {
      "text/plain": [
       "array([3])"
      ]
     },
     "execution_count": 37,
     "metadata": {},
     "output_type": "execute_result"
    }
   ],
   "source": [
    "search.predict(X_test[2].reshape(1, -1))"
   ]
  },
  {
   "cell_type": "code",
   "execution_count": 38,
   "metadata": {},
   "outputs": [
    {
     "data": {
      "text/plain": [
       "array([6, 9, 3, 7, 2])"
      ]
     },
     "execution_count": 38,
     "metadata": {},
     "output_type": "execute_result"
    }
   ],
   "source": [
    "y_test[:5]"
   ]
  },
  {
   "cell_type": "code",
   "execution_count": 39,
   "metadata": {
    "colab": {},
    "colab_type": "code",
    "id": "cqcRdDsufxCM"
   },
   "outputs": [
    {
     "data": {
      "text/plain": [
       "array([6, 9, 3, 7, 2])"
      ]
     },
     "execution_count": 39,
     "metadata": {},
     "output_type": "execute_result"
    }
   ],
   "source": [
    "search.predict(X_test[:5])"
   ]
  },
  {
   "cell_type": "code",
   "execution_count": 40,
   "metadata": {},
   "outputs": [
    {
     "data": {
      "image/png": "[encoded data removed]",
      "text/plain": [
       "<Figure size 800x500 with 2 Axes>"
      ]
     },
     "metadata": {},
     "output_type": "display_data"
    }
   ],
   "source": [
    "n_components_list = [5, 15, 30, 45, 60]\n",
    "\n",
    "# Extract best accuracy per n_components from GridSearchCV\n",
    "accuracies = [np.max(search.cv_results_['mean_test_score']\n",
    "             [[p['pca__n_components'] == n for p in search.cv_results_['params']]])\n",
    "             for n in n_components_list]\n",
    "\n",
    "# Compute cumulative explained variance ratio\n",
    "explained_variances = [np.sum(PCA(n).fit(X_train).explained_variance_ratio_) \n",
    "                       for n in n_components_list]\n",
    "\n",
    "# Plot with dual axes\n",
    "fig, ax1 = plt.subplots(figsize=(8, 5))\n",
    "ax1.plot(n_components_list, accuracies, 'b-o', label='Accuracy')\n",
    "ax1.set_xlabel('PCA Components')\n",
    "ax1.set_ylabel('Accuracy', color='b')\n",
    "ax1.tick_params('y', labelcolor='b')\n",
    "\n",
    "ax2 = ax1.twinx()\n",
    "ax2.plot(n_components_list, explained_variances, 'r-o', label='Variance Ratio')\n",
    "ax2.set_ylabel('Explained Variance', color='r')\n",
    "ax2.tick_params('y', labelcolor='r')\n",
    "\n",
    "plt.title('Accuracy vs. Variance by PCA Components')\n",
    "ax1.grid(True)\n",
    "plt.show()"
   ]
  },
  {
   "cell_type": "code",
   "execution_count": null,
   "metadata": {},
   "outputs": [],
   "source": []
  }
 ],
 "metadata": {
  "colab": {
   "authorship_tag": "ABX9TyP0OGkSA93nST/rArVn1j5M",
   "collapsed_sections": [],
   "name": "27_PCA.ipynb",
   "provenance": []
  },
  "kernelspec": {
   "display_name": "Python 3",
   "name": "python3"
  },
  "language_info": {
   "codemirror_mode": {
    "name": "ipython",
    "version": 3
   },
   "file_extension": ".py",
   "mimetype": "text/x-python",
   "name": "python",
   "nbconvert_exporter": "python",
   "pygments_lexer": "ipython3",
   "version": "3.12.1"
  }
 },
 "nbformat": 4,
 "nbformat_minor": 0
}
