{
 "cells": [
  {
   "cell_type": "markdown",
   "id": "8dc3a189",
   "metadata": {},
   "source": [
    "<img src=\"https://devra.ai/analyst/notebook/1435/image.jpg\" style=\"width: 100%; height: auto;\" />"
   ]
  },
  {
   "cell_type": "markdown",
   "id": "4825e16a",
   "metadata": {},
   "source": [
    "<div style=\"text-align:center; border-radius:15px; padding:15px; color:white; margin:0; font-family: 'Orbitron', sans-serif; background: #2E0249; background: #11001C; box-shadow: 0px 4px 8px rgba(0, 0, 0, 0.3); overflow:hidden; margin-bottom: 1em;\"><div style=\"font-size:150%; color:#FEE100\"><b>Peru Student Enrollment Analysis 2023</b></div><div>This notebook was created with the help of <a href=\"https://devra.ai/ref/kaggle\" style=\"color:#6666FF\">Devra AI</a></div></div>"
   ]
  },
  {
   "cell_type": "markdown",
   "id": "6da5d405",
   "metadata": {},
   "source": [
    "This notebook explores the intricacies of student enrollment and tuition payment dynamics in Peru for the year 2023. Although numbers can be unforgiving, they sometimes whisper secrets about educational trends and enrollment strategies. If you find this investigation insightful, please upvote this notebook."
   ]
  },
  {
   "cell_type": "markdown",
   "id": "988a05f3",
   "metadata": {},
   "source": [
    "## Table of Contents\n",
    "\n",
    "- [Introduction](#Introduction)\n",
    "- [Data Loading and Understanding](#Data-Loading-and-Understanding)\n",
    "- [Data Cleaning and Preprocessing](#Data-Cleaning-and-Preprocessing)\n",
    "- [Exploratory Data Analysis](#Exploratory-Data-Analysis)\n",
    "- [Predictive Modeling](#Predictive-Modeling)\n",
    "- [Discussion and Future Work](#Discussion-and-Future-Work)"
   ]
  },
  {
   "cell_type": "markdown",
   "id": "4b3e7fec",
   "metadata": {},
   "source": [
    "## Introduction\n",
    "\n",
    "At first glance, the enrollment data may seem like mundane administrative records, but a deeper look reveals fascinating patterns in tuition dynamics and enrollment figures. This analysis delves into payment trends from March 2022 to March 2023 alongside various categorical attributes that describe the educational institutions and their students."
   ]
  },
  {
   "cell_type": "code",
   "execution_count": 1,
   "id": "35a03167",
   "metadata": {},
   "outputs": [],
   "source": [
    "# Import the required libraries and suppress warnings\n",
    "import pandas as pd\n",
    "import numpy as np\n",
    "import seaborn as sns\n",
    "import matplotlib.pyplot as plt\n",
    "import warnings\n",
    "\n",
    "warnings.filterwarnings('ignore')\n",
    "\n",
    "# Ensure inline plotting in Kaggle and set the matplotlib backend\n",
    "%matplotlib inline\n",
    "plt.switch_backend('Agg')\n",
    "\n",
    "# Set aesthetic parameters for seaborn\n",
    "sns.set(style='whitegrid', palette='muted', font_scale=1.1)"
   ]
  },
  {
   "cell_type": "markdown",
   "id": "f33b180a",
   "metadata": {},
   "source": [
    "## Data Loading and Understanding\n",
    "\n",
    "We begin by loading the data from the file `peru_student_enrollment_data_2023.csv`. Note that the file uses a semicolon as the delimiter and is encoded in UTF-8-SIG. It contains a mix of numeric and categorical features along with information regarding tuition payments and enrollment details."
   ]
  },
  {
   "cell_type": "code",
   "execution_count": 4,
   "id": "8147f8e7",
   "metadata": {},
   "outputs": [
    {
     "name": "stdout",
     "output_type": "stream",
     "text": [
      "Social_Network_Ads.csv  peru_student_enrollment_data_2023.csv\n",
      "heart.csv               stock_data.csv\n"
     ]
    }
   ],
   "source": [
    "ls ../data  "
   ]
  },
  {
   "cell_type": "code",
   "execution_count": 5,
   "id": "f6e3a24a",
   "metadata": {},
   "outputs": [
    {
     "data": {
      "text/html": [
       "<div>\n",
       "<style scoped>\n",
       "    .dataframe tbody tr th:only-of-type {\n",
       "        vertical-align: middle;\n",
       "    }\n",
       "\n",
       "    .dataframe tbody tr th {\n",
       "        vertical-align: top;\n",
       "    }\n",
       "\n",
       "    .dataframe thead th {\n",
       "        text-align: right;\n",
       "    }\n",
       "</style>\n",
       "<table border=\"1\" class=\"dataframe\">\n",
       "  <thead>\n",
       "    <tr style=\"text-align: right;\">\n",
       "      <th></th>\n",
       "      <th>ENROLLMENT</th>\n",
       "      <th>TUITION PAYMENT MARCH 2022</th>\n",
       "      <th>TUITION PAYMENT MARCH 2023</th>\n",
       "      <th>GENDER</th>\n",
       "      <th>TYPE OF EDUCATIONAL INSTITUTION</th>\n",
       "      <th>EDUCATIONAL INSTITUTION</th>\n",
       "      <th>INSTITUTION STATUS</th>\n",
       "      <th>DEPARTMENT</th>\n",
       "      <th>PROVINCE</th>\n",
       "      <th>DISTRICT</th>\n",
       "      <th>...</th>\n",
       "      <th>CAMPUS</th>\n",
       "      <th>FACULTY</th>\n",
       "      <th>PROGRAM/MAJOR</th>\n",
       "      <th>SHIFT/SCHEDULE</th>\n",
       "      <th>BENEFIT DISCOUNTS</th>\n",
       "      <th>STUDY MODE</th>\n",
       "      <th>AGE RANGE OF ENROLLED STUDENT</th>\n",
       "      <th>DISABILITY</th>\n",
       "      <th>NUMBER OF ENROLLED COURSES</th>\n",
       "      <th>AT-RISK COURSE</th>\n",
       "    </tr>\n",
       "  </thead>\n",
       "  <tbody>\n",
       "    <tr>\n",
       "      <th>0</th>\n",
       "      <td>Nuevo</td>\n",
       "      <td>0</td>\n",
       "      <td>0</td>\n",
       "      <td>M</td>\n",
       "      <td>INSTITUTO</td>\n",
       "      <td>IDAT</td>\n",
       "      <td>PRIVADA</td>\n",
       "      <td>LIMA</td>\n",
       "      <td>LIMA</td>\n",
       "      <td>BRENA</td>\n",
       "      <td>...</td>\n",
       "      <td>UTP Lima Centro</td>\n",
       "      <td>Fac. Ing. Sist. Y Elect.</td>\n",
       "      <td>ING. DE REDES Y COMUNICACIONES</td>\n",
       "      <td>MIXTO</td>\n",
       "      <td>SIN BENEFICIO</td>\n",
       "      <td>Presencial</td>\n",
       "      <td>5. &gt;=30</td>\n",
       "      <td>No</td>\n",
       "      <td>0</td>\n",
       "      <td>0</td>\n",
       "    </tr>\n",
       "    <tr>\n",
       "      <th>1</th>\n",
       "      <td>Nuevo</td>\n",
       "      <td>1</td>\n",
       "      <td>0</td>\n",
       "      <td>M</td>\n",
       "      <td>COLEGIO</td>\n",
       "      <td>COLEGIO SISE</td>\n",
       "      <td>PRIVADA</td>\n",
       "      <td>LIMA</td>\n",
       "      <td>LIMA</td>\n",
       "      <td>VILLA MARIA DEL TRIUNFO</td>\n",
       "      <td>...</td>\n",
       "      <td>UTP Lima Centro</td>\n",
       "      <td>Fac. Ing. Sist. Y Elect.</td>\n",
       "      <td>ING. DE SISTEMAS</td>\n",
       "      <td>NOCHE</td>\n",
       "      <td>SIN BENEFICIO</td>\n",
       "      <td>Presencial</td>\n",
       "      <td>4. 24-29</td>\n",
       "      <td>No</td>\n",
       "      <td>3</td>\n",
       "      <td>0</td>\n",
       "    </tr>\n",
       "    <tr>\n",
       "      <th>2</th>\n",
       "      <td>Nuevo</td>\n",
       "      <td>1</td>\n",
       "      <td>1</td>\n",
       "      <td>F</td>\n",
       "      <td>NaN</td>\n",
       "      <td>NaN</td>\n",
       "      <td>NaN</td>\n",
       "      <td>LIMA</td>\n",
       "      <td>LIMA</td>\n",
       "      <td>JESUS MARIA</td>\n",
       "      <td>...</td>\n",
       "      <td>UTP Lima Centro</td>\n",
       "      <td>Fac. Der. Cienc. Polit. Y RRII</td>\n",
       "      <td>DERECHO</td>\n",
       "      <td>NOCHE</td>\n",
       "      <td>SIN BENEFICIO</td>\n",
       "      <td>Presencial</td>\n",
       "      <td>4. 24-29</td>\n",
       "      <td>No</td>\n",
       "      <td>1</td>\n",
       "      <td>0</td>\n",
       "    </tr>\n",
       "    <tr>\n",
       "      <th>3</th>\n",
       "      <td>Nuevo</td>\n",
       "      <td>0</td>\n",
       "      <td>0</td>\n",
       "      <td>F</td>\n",
       "      <td>COLEGIO</td>\n",
       "      <td>1220 SAN JOSE MARELLO</td>\n",
       "      <td>ESTATAL</td>\n",
       "      <td>LIMA</td>\n",
       "      <td>LIMA</td>\n",
       "      <td>ATE</td>\n",
       "      <td>...</td>\n",
       "      <td>UTP Lima Centro</td>\n",
       "      <td>Fac. Adm. Y Neg.</td>\n",
       "      <td>ADMINISTRACION DE NEGOCIOS (50/50)</td>\n",
       "      <td>NOCHE</td>\n",
       "      <td>SIN BENEFICIO</td>\n",
       "      <td>Presencial</td>\n",
       "      <td>4. 24-29</td>\n",
       "      <td>No</td>\n",
       "      <td>0</td>\n",
       "      <td>0</td>\n",
       "    </tr>\n",
       "    <tr>\n",
       "      <th>4</th>\n",
       "      <td>Nuevo</td>\n",
       "      <td>1</td>\n",
       "      <td>1</td>\n",
       "      <td>F</td>\n",
       "      <td>INSTITUTO</td>\n",
       "      <td>IDAT</td>\n",
       "      <td>PRIVADA</td>\n",
       "      <td>LIMA</td>\n",
       "      <td>LIMA</td>\n",
       "      <td>SURQUILLO</td>\n",
       "      <td>...</td>\n",
       "      <td>UTP Lima Centro</td>\n",
       "      <td>Fac. Adm. Y Neg.</td>\n",
       "      <td>ADM. DE NEGOCIOS INTERNACIO</td>\n",
       "      <td>MAÑANA</td>\n",
       "      <td>CONVENIOS</td>\n",
       "      <td>Presencial</td>\n",
       "      <td>4. 24-29</td>\n",
       "      <td>No</td>\n",
       "      <td>2</td>\n",
       "      <td>0</td>\n",
       "    </tr>\n",
       "  </tbody>\n",
       "</table>\n",
       "<p>5 rows × 21 columns</p>\n",
       "</div>"
      ],
      "text/plain": [
       "  ENROLLMENT  TUITION PAYMENT MARCH 2022  TUITION PAYMENT MARCH 2023 GENDER  \\\n",
       "0      Nuevo                           0                           0      M   \n",
       "1      Nuevo                           1                           0      M   \n",
       "2      Nuevo                           1                           1      F   \n",
       "3      Nuevo                           0                           0      F   \n",
       "4      Nuevo                           1                           1      F   \n",
       "\n",
       "  TYPE OF EDUCATIONAL INSTITUTION EDUCATIONAL INSTITUTION INSTITUTION STATUS  \\\n",
       "0                       INSTITUTO                    IDAT            PRIVADA   \n",
       "1                         COLEGIO            COLEGIO SISE            PRIVADA   \n",
       "2                             NaN                     NaN                NaN   \n",
       "3                         COLEGIO   1220 SAN JOSE MARELLO            ESTATAL   \n",
       "4                       INSTITUTO                    IDAT            PRIVADA   \n",
       "\n",
       "  DEPARTMENT PROVINCE                 DISTRICT  ...           CAMPUS  \\\n",
       "0       LIMA     LIMA                    BRENA  ...  UTP Lima Centro   \n",
       "1       LIMA     LIMA  VILLA MARIA DEL TRIUNFO  ...  UTP Lima Centro   \n",
       "2       LIMA     LIMA              JESUS MARIA  ...  UTP Lima Centro   \n",
       "3       LIMA     LIMA                      ATE  ...  UTP Lima Centro   \n",
       "4       LIMA     LIMA                SURQUILLO  ...  UTP Lima Centro   \n",
       "\n",
       "                          FACULTY                       PROGRAM/MAJOR  \\\n",
       "0        Fac. Ing. Sist. Y Elect.      ING. DE REDES Y COMUNICACIONES   \n",
       "1        Fac. Ing. Sist. Y Elect.                    ING. DE SISTEMAS   \n",
       "2  Fac. Der. Cienc. Polit. Y RRII                             DERECHO   \n",
       "3                Fac. Adm. Y Neg.  ADMINISTRACION DE NEGOCIOS (50/50)   \n",
       "4                Fac. Adm. Y Neg.         ADM. DE NEGOCIOS INTERNACIO   \n",
       "\n",
       "  SHIFT/SCHEDULE BENEFIT DISCOUNTS  STUDY MODE AGE RANGE OF ENROLLED STUDENT  \\\n",
       "0          MIXTO     SIN BENEFICIO  Presencial                       5. >=30   \n",
       "1          NOCHE     SIN BENEFICIO  Presencial                      4. 24-29   \n",
       "2          NOCHE     SIN BENEFICIO  Presencial                      4. 24-29   \n",
       "3          NOCHE     SIN BENEFICIO  Presencial                      4. 24-29   \n",
       "4         MAÑANA         CONVENIOS  Presencial                      4. 24-29   \n",
       "\n",
       "  DISABILITY NUMBER OF ENROLLED COURSES  AT-RISK COURSE  \n",
       "0         No                          0               0  \n",
       "1         No                          3               0  \n",
       "2         No                          1               0  \n",
       "3         No                          0               0  \n",
       "4         No                          2               0  \n",
       "\n",
       "[5 rows x 21 columns]"
      ]
     },
     "execution_count": 5,
     "metadata": {},
     "output_type": "execute_result"
    }
   ],
   "source": [
    "# Load the dataset\n",
    "\n",
    "df=pd.read_csv('../data/peru_student_enrollment_data_2023.csv', delimiter=';', encoding='UTF-8-SIG')\n",
    "\n",
    "df.head()"
   ]
  },
  {
   "cell_type": "markdown",
   "id": "fbbef17d",
   "metadata": {},
   "source": [
    "## Data Cleaning and Preprocessing\n",
    "\n",
    "The data cleaning process involves checking for missing values, ensuring data types are appropriate, and making necessary adjustments. Although our dataset does not contain explicit date columns, it is important to be mindful of such cases when they occur.\n",
    "\n",
    "In this section, we will inspect missing data, convert suitable columns to categorical types, and address common pitfalls such as misinterpreted numeric data."
   ]
  },
  {
   "cell_type": "code",
   "execution_count": 6,
   "id": "bac04374",
   "metadata": {},
   "outputs": [
    {
     "name": "stdout",
     "output_type": "stream",
     "text": [
      "<class 'pandas.core.frame.DataFrame'>\n",
      "RangeIndex: 37582 entries, 0 to 37581\n",
      "Data columns (total 21 columns):\n",
      " #   Column                           Non-Null Count  Dtype \n",
      "---  ------                           --------------  ----- \n",
      " 0   ENROLLMENT                       37582 non-null  object\n",
      " 1   TUITION PAYMENT MARCH 2022       37582 non-null  int64 \n",
      " 2   TUITION PAYMENT MARCH 2023       37582 non-null  int64 \n",
      " 3   GENDER                           37580 non-null  object\n",
      " 4   TYPE OF EDUCATIONAL INSTITUTION  15868 non-null  object\n",
      " 5   EDUCATIONAL INSTITUTION          18212 non-null  object\n",
      " 6   INSTITUTION STATUS               15868 non-null  object\n",
      " 7   DEPARTMENT                       36846 non-null  object\n",
      " 8   PROVINCE                         36846 non-null  object\n",
      " 9   DISTRICT                         36846 non-null  object\n",
      " 10  CLASSIFICATION                   37581 non-null  object\n",
      " 11  CAMPUS                           37582 non-null  object\n",
      " 12  FACULTY                          37581 non-null  object\n",
      " 13  PROGRAM/MAJOR                    37581 non-null  object\n",
      " 14  SHIFT/SCHEDULE                   37524 non-null  object\n",
      " 15  BENEFIT DISCOUNTS                37582 non-null  object\n",
      " 16  STUDY MODE                       37582 non-null  object\n",
      " 17  AGE RANGE OF ENROLLED STUDENT    37578 non-null  object\n",
      " 18  DISABILITY                       37582 non-null  object\n",
      " 19  NUMBER OF ENROLLED COURSES       37582 non-null  int64 \n",
      " 20  AT-RISK COURSE                   37582 non-null  int64 \n",
      "dtypes: int64(4), object(17)\n",
      "memory usage: 6.0+ MB\n"
     ]
    }
   ],
   "source": [
    "df.info()"
   ]
  },
  {
   "cell_type": "code",
   "execution_count": 7,
   "id": "475bd56b",
   "metadata": {},
   "outputs": [
    {
     "data": {
      "text/plain": [
       "ENROLLMENT                          0.000000\n",
       "TUITION PAYMENT MARCH 2022          0.000000\n",
       "TUITION PAYMENT MARCH 2023          0.000000\n",
       "GENDER                              0.005322\n",
       "TYPE OF EDUCATIONAL INSTITUTION    57.777660\n",
       "EDUCATIONAL INSTITUTION            51.540631\n",
       "INSTITUTION STATUS                 57.777660\n",
       "DEPARTMENT                          1.958384\n",
       "PROVINCE                            1.958384\n",
       "DISTRICT                            1.958384\n",
       "CLASSIFICATION                      0.002661\n",
       "CAMPUS                              0.000000\n",
       "FACULTY                             0.002661\n",
       "PROGRAM/MAJOR                       0.002661\n",
       "SHIFT/SCHEDULE                      0.154329\n",
       "BENEFIT DISCOUNTS                   0.000000\n",
       "STUDY MODE                          0.000000\n",
       "AGE RANGE OF ENROLLED STUDENT       0.010643\n",
       "DISABILITY                          0.000000\n",
       "NUMBER OF ENROLLED COURSES          0.000000\n",
       "AT-RISK COURSE                      0.000000\n",
       "dtype: float64"
      ]
     },
     "execution_count": 7,
     "metadata": {},
     "output_type": "execute_result"
    }
   ],
   "source": [
    "# missing values \n",
    "df.isnull().sum()/df.shape[0]*100"
   ]
  },
  {
   "cell_type": "code",
   "execution_count": 8,
   "id": "d9919329",
   "metadata": {},
   "outputs": [
    {
     "data": {
      "text/plain": [
       "Index(['ENROLLMENT', 'GENDER', 'TYPE OF EDUCATIONAL INSTITUTION',\n",
       "       'EDUCATIONAL INSTITUTION', 'INSTITUTION STATUS', 'DEPARTMENT',\n",
       "       'PROVINCE', 'DISTRICT', 'CLASSIFICATION', 'CAMPUS', 'FACULTY',\n",
       "       'PROGRAM/MAJOR', 'SHIFT/SCHEDULE', 'BENEFIT DISCOUNTS', 'STUDY MODE',\n",
       "       'AGE RANGE OF ENROLLED STUDENT', 'DISABILITY'],\n",
       "      dtype='object')"
      ]
     },
     "execution_count": 8,
     "metadata": {},
     "output_type": "execute_result"
    }
   ],
   "source": [
    "categorical_cols= df.select_dtypes(\"object\").columns\n",
    "categorical_cols"
   ]
  },
  {
   "cell_type": "code",
   "execution_count": 9,
   "id": "3cf69891",
   "metadata": {},
   "outputs": [
    {
     "name": "stdout",
     "output_type": "stream",
     "text": [
      "<class 'pandas.core.frame.DataFrame'>\n",
      "RangeIndex: 37582 entries, 0 to 37581\n",
      "Data columns (total 21 columns):\n",
      " #   Column                           Non-Null Count  Dtype   \n",
      "---  ------                           --------------  -----   \n",
      " 0   ENROLLMENT                       37582 non-null  category\n",
      " 1   TUITION PAYMENT MARCH 2022       37582 non-null  int64   \n",
      " 2   TUITION PAYMENT MARCH 2023       37582 non-null  int64   \n",
      " 3   GENDER                           37580 non-null  category\n",
      " 4   TYPE OF EDUCATIONAL INSTITUTION  15868 non-null  category\n",
      " 5   EDUCATIONAL INSTITUTION          18212 non-null  category\n",
      " 6   INSTITUTION STATUS               15868 non-null  category\n",
      " 7   DEPARTMENT                       36846 non-null  category\n",
      " 8   PROVINCE                         36846 non-null  category\n",
      " 9   DISTRICT                         36846 non-null  category\n",
      " 10  CLASSIFICATION                   37581 non-null  category\n",
      " 11  CAMPUS                           37582 non-null  category\n",
      " 12  FACULTY                          37581 non-null  category\n",
      " 13  PROGRAM/MAJOR                    37581 non-null  category\n",
      " 14  SHIFT/SCHEDULE                   37524 non-null  category\n",
      " 15  BENEFIT DISCOUNTS                37582 non-null  category\n",
      " 16  STUDY MODE                       37582 non-null  category\n",
      " 17  AGE RANGE OF ENROLLED STUDENT    37578 non-null  category\n",
      " 18  DISABILITY                       37582 non-null  category\n",
      " 19  NUMBER OF ENROLLED COURSES       37582 non-null  int64   \n",
      " 20  AT-RISK COURSE                   37582 non-null  int64   \n",
      "dtypes: category(17), int64(4)\n",
      "memory usage: 2.1 MB\n"
     ]
    }
   ],
   "source": [
    "#  turn Object to Category type\n",
    "\n",
    "\n",
    "for col in categorical_cols:\n",
    "    df[col] = df[col].astype('category')\n",
    "\n",
    "# Confirm the data types\n",
    "df.info()"
   ]
  },
  {
   "cell_type": "markdown",
   "id": "40d4ed8c",
   "metadata": {},
   "source": [
    "## Exploratory Data Analysis\n",
    "\n",
    "A thorough exploratory data analysis not only uncovers hidden relationships but also helps in verifying data quality. We will start by examining the correlations between numeric features. Our numeric subset includes the following columns:\n",
    "\n",
    "- TUITION PAYMENT MARCH 2022\n",
    "- TUITION PAYMENT MARCH 2023\n",
    "- NUMBER OF ENROLLED COURSES\n",
    "- AT-RISK COURSE\n",
    "\n",
    "With four numeric columns on board, we have enough data for a robust correlation heatmap and pair plot. Additional visualizations include histograms, count plots, box plots, and violin plots to capture distributions and patterns in categorical data."
   ]
  },
  {
   "cell_type": "code",
   "execution_count": 10,
   "id": "e0b996dc",
   "metadata": {},
   "outputs": [
    {
     "data": {
      "text/html": [
       "<div>\n",
       "<style scoped>\n",
       "    .dataframe tbody tr th:only-of-type {\n",
       "        vertical-align: middle;\n",
       "    }\n",
       "\n",
       "    .dataframe tbody tr th {\n",
       "        vertical-align: top;\n",
       "    }\n",
       "\n",
       "    .dataframe thead th {\n",
       "        text-align: right;\n",
       "    }\n",
       "</style>\n",
       "<table border=\"1\" class=\"dataframe\">\n",
       "  <thead>\n",
       "    <tr style=\"text-align: right;\">\n",
       "      <th></th>\n",
       "      <th>TUITION PAYMENT MARCH 2022</th>\n",
       "      <th>TUITION PAYMENT MARCH 2023</th>\n",
       "      <th>NUMBER OF ENROLLED COURSES</th>\n",
       "      <th>AT-RISK COURSE</th>\n",
       "    </tr>\n",
       "  </thead>\n",
       "  <tbody>\n",
       "    <tr>\n",
       "      <th>TUITION PAYMENT MARCH 2022</th>\n",
       "      <td>1.000000</td>\n",
       "      <td>0.923384</td>\n",
       "      <td>0.038322</td>\n",
       "      <td>-0.186893</td>\n",
       "    </tr>\n",
       "    <tr>\n",
       "      <th>TUITION PAYMENT MARCH 2023</th>\n",
       "      <td>0.923384</td>\n",
       "      <td>1.000000</td>\n",
       "      <td>0.035174</td>\n",
       "      <td>-0.199271</td>\n",
       "    </tr>\n",
       "    <tr>\n",
       "      <th>NUMBER OF ENROLLED COURSES</th>\n",
       "      <td>0.038322</td>\n",
       "      <td>0.035174</td>\n",
       "      <td>1.000000</td>\n",
       "      <td>-0.007464</td>\n",
       "    </tr>\n",
       "    <tr>\n",
       "      <th>AT-RISK COURSE</th>\n",
       "      <td>-0.186893</td>\n",
       "      <td>-0.199271</td>\n",
       "      <td>-0.007464</td>\n",
       "      <td>1.000000</td>\n",
       "    </tr>\n",
       "  </tbody>\n",
       "</table>\n",
       "</div>"
      ],
      "text/plain": [
       "                            TUITION PAYMENT MARCH 2022  \\\n",
       "TUITION PAYMENT MARCH 2022                    1.000000   \n",
       "TUITION PAYMENT MARCH 2023                    0.923384   \n",
       "NUMBER OF ENROLLED COURSES                    0.038322   \n",
       "AT-RISK COURSE                               -0.186893   \n",
       "\n",
       "                            TUITION PAYMENT MARCH 2023  \\\n",
       "TUITION PAYMENT MARCH 2022                    0.923384   \n",
       "TUITION PAYMENT MARCH 2023                    1.000000   \n",
       "NUMBER OF ENROLLED COURSES                    0.035174   \n",
       "AT-RISK COURSE                               -0.199271   \n",
       "\n",
       "                            NUMBER OF ENROLLED COURSES  AT-RISK COURSE  \n",
       "TUITION PAYMENT MARCH 2022                    0.038322       -0.186893  \n",
       "TUITION PAYMENT MARCH 2023                    0.035174       -0.199271  \n",
       "NUMBER OF ENROLLED COURSES                    1.000000       -0.007464  \n",
       "AT-RISK COURSE                               -0.007464        1.000000  "
      ]
     },
     "execution_count": 10,
     "metadata": {},
     "output_type": "execute_result"
    }
   ],
   "source": [
    "df.select_dtypes(\"number\").corr()"
   ]
  },
  {
   "cell_type": "code",
   "execution_count": 14,
   "id": "8f3e743c",
   "metadata": {},
   "outputs": [
    {
     "data": {
      "text/plain": [
       "<Axes: ylabel='Frequency'>"
      ]
     },
     "execution_count": 14,
     "metadata": {},
     "output_type": "execute_result"
    }
   ],
   "source": [
    "df[\"TUITION PAYMENT MARCH 2022\"].plot(kind='hist', bins=20, color='purple', figsize=(10, 6), edgecolor='black')"
   ]
  },
  {
   "cell_type": "code",
   "execution_count": 15,
   "id": "2362657f",
   "metadata": {},
   "outputs": [],
   "source": [
    "# sns correlation map. us matrix  mask  to avoid duplicate values\n",
    "\n",
    "import seaborn as sns\n",
    "import matplotlib.pyplot as plt\n",
    "plt.figure(figsize=(10, 10))\n",
    "df_cor = df.select_dtypes(\"number\") .corr()\n",
    "\n",
    "matrix = np.triu(df_cor)\n",
    "sns.heatmap(df_cor, mask=matrix, annot=True, cmap='coolwarm', cbar_kws={\"orientation\": \"horizontal\"}) \n",
    "plt.show()\n"
   ]
  },
  {
   "cell_type": "code",
   "execution_count": 16,
   "id": "ffe5b7d2",
   "metadata": {},
   "outputs": [],
   "source": [
    "# Create a numeric subset of the data\n",
    "numeric_df = df.select_dtypes(\"number\")\n",
    "\n",
    "# Correlation heatmap (only if four or more numeric columns)\n",
    "if numeric_df.shape[1] >= 4:\n",
    "    plt.figure(figsize=(10, 8))\n",
    "    corr = numeric_df.corr()\n",
    "    sns.heatmap(corr, annot=True, cmap='coolwarm', fmt='.2f')\n",
    "    plt.title('Correlation Heatmap of Numeric Features')\n",
    "    plt.tight_layout()\n",
    "    plt.show()\n",
    "\n",
    "# Pair plot for numeric features\n",
    "sns.pairplot(numeric_df)\n",
    "plt.suptitle('Pair Plot of Numeric Features', y=1.02)\n",
    "plt.show()\n",
    "\n",
    "# Histogram of TUITION PAYMENT MARCH 2023\n",
    "plt.figure(figsize=(8, 6))\n",
    "sns.histplot(df['TUITION PAYMENT MARCH 2023'], kde=True, color='skyblue')\n",
    "plt.title('Distribution of TUITION PAYMENT MARCH 2023')\n",
    "plt.tight_layout()\n",
    "plt.show()\n",
    "\n",
    "# Count plot (pie chart style) for GENDER\n",
    "plt.figure(figsize=(8, 6))\n",
    "sns.countplot(x='GENDER', data=df, palette='pastel')\n",
    "plt.title('Count Plot of GENDER')\n",
    "plt.tight_layout()\n",
    "plt.show()\n",
    "\n",
    "# Box plot for tuition payments\n",
    "plt.figure(figsize=(10, 6))\n",
    "sns.boxplot(data=numeric_df, palette='Set3')\n",
    "plt.title('Box Plot for Numeric Features')\n",
    "plt.tight_layout()\n",
    "plt.show()\n",
    "\n",
    "# Violin plot for tuition payments by GENDER (if applicable)\n",
    "if 'GENDER' in df.columns:\n",
    "    plt.figure(figsize=(10, 6))\n",
    "    sns.violinplot(x='GENDER', y='TUITION PAYMENT MARCH 2023', data=df, palette='muted')\n",
    "    plt.title('Violin Plot of TUITION PAYMENT MARCH 2023 by GENDER')\n",
    "    plt.tight_layout()\n",
    "    plt.show()"
   ]
  },
  {
   "cell_type": "markdown",
   "id": "ccc9083e",
   "metadata": {},
   "source": [
    "## Predictive Modeling\n",
    "\n",
    "In this section we build a predictor to estimate the TUITION PAYMENT MARCH 2023 using available numeric features. The initial approach is to use a simple linear regression model. While multiple numeric columns are available, our primary features of interest include:\n",
    "\n",
    "- TUITION PAYMENT MARCH 2022\n",
    "- NUMBER OF ENROLLED COURSES\n",
    "- AT-RISK COURSE\n",
    "\n",
    "We split the data into training and test sets and evaluate performance using the R² score. An R² value closer to 1 indicates that the model explains much of the variability."
   ]
  },
  {
   "cell_type": "code",
   "execution_count": null,
   "id": "22e06232",
   "metadata": {},
   "outputs": [],
   "source": [
    "# Import necessary libraries for modeling\n",
    "from sklearn.model_selection import train_test_split\n",
    "from sklearn.linear_model import LinearRegression\n",
    "from sklearn.metrics import r2_score, mean_squared_error\n",
    "\n",
    "# Define the predictor and target variables\n",
    "features = ['TUITION PAYMENT MARCH 2022', 'NUMBER OF ENROLLED COURSES', 'AT-RISK COURSE']\n",
    "target = 'TUITION PAYMENT MARCH 2023'\n",
    "\n",
    "# Drop rows with missing values in the columns of interest\n",
    "df_model = df.dropna(subset=features + [target])\n",
    "\n",
    "X = df_model[features]\n",
    "y = df_model[target]\n",
    "\n",
    "# Split the data into train and test sets (80/20 split)\n",
    "X_train, X_test, y_train, y_test = train_test_split(X, y, test_size=0.2, random_state=42)\n",
    "\n",
    "# Initialize and train the linear regression model\n",
    "model = LinearRegression()\n",
    "model.fit(X_train, y_train)\n",
    "\n",
    "# Predict on the test set\n",
    "y_pred = model.predict(X_test)\n",
    "\n",
    "# Evaluate the model\n",
    "r2 = r2_score(y_test, y_pred)\n",
    "mse = mean_squared_error(y_test, y_pred)\n",
    "print('R² Score:', r2)\n",
    "print('Mean Squared Error:', mse)"
   ]
  },
  {
   "cell_type": "markdown",
   "id": "279414d7",
   "metadata": {},
   "source": [
    "## Discussion and Future Work\n",
    "\n",
    "Our analysis provided interesting insights into the patterns of tuition payment changes, enrollment numbers, and other institutional features. The linear regression model, though simplistic, demonstrated a measurable relationship between March 2022 and March 2023 tuition payments along with additional numeric predictors. Future work could include:\n",
    "\n",
    "- Incorporating more categorical features using techniques such as one-hot encoding to improve predictive performance.\n",
    "- Experimenting with more advanced modeling techniques such as Random Forests or Gradient Boosting Machines.\n",
    "- Analyzing regional trends by grouping data based on departments or districts.\n",
    "- Time series analysis, if additional date-related data becomes available.\n",
    "\n",
    "In summary, this notebook used a multi-faceted approach for both exploratory analysis and predictive modeling. Although the methods applied here are just the beginning, they exemplify how a curious mind can extract valuable insights from seemingly routine data."
   ]
  }
 ],
 "metadata": {
  "kaggle": {
   "accelerator": "none",
   "dataSources": [
    {
     "datasetId": 6791814,
     "sourceId": 10924356,
     "sourceType": "datasetVersion"
    }
   ],
   "dockerImageVersionId": 30918,
   "isGpuEnabled": false,
   "isInternetEnabled": false,
   "language": "python",
   "sourceType": "notebook"
  },
  "kernelspec": {
   "display_name": "Python 3",
   "language": "python",
   "name": "python3"
  },
  "language_info": {
   "codemirror_mode": {
    "name": "ipython",
    "version": 3
   },
   "file_extension": ".py",
   "mimetype": "text/x-python",
   "name": "python",
   "nbconvert_exporter": "python",
   "pygments_lexer": "ipython3",
   "version": "3.12.1"
  }
 },
 "nbformat": 4,
 "nbformat_minor": 5
}
