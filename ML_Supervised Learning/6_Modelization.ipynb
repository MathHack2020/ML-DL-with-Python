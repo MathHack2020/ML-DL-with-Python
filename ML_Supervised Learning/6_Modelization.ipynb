{
 "cells": [
  {
   "cell_type": "code",
   "execution_count": null,
   "metadata": {
    "id": "pkVgV4oFhkKQ"
   },
   "outputs": [],
   "source": []
  },
  {
   "cell_type": "markdown",
   "metadata": {
    "id": "hCzdinUdbxPx"
   },
   "source": [
    "| |<font size=\"5\">LinearRegression الانحدار الخطي البسيط    </font>|\n",
    "|-:|-:|\n",
    "|<img src=\"https://machinelearningmind.files.wordpress.com/2019/10/38fdc-1wyes_ieva6yg5nvugvrxlq.png?w=300\"></img>|\n",
    "||<font size=\"4\"> تحميل البيانات وحفظها </font>| \n",
    "||<font size=\"4\">  تقسيم البيانات إلى بيانات تدريبية واخرى تجريبية </font>| \n",
    "||<font size=\"4\"> توظيف خوارزمية انحدار خطي  </font>|\n",
    "||<font size=\"4\"> تقويم معايير أداء خوارزمية الانحدار الخطي  </font>|"
   ]
  },
  {
   "cell_type": "code",
   "execution_count": null,
   "metadata": {
    "id": "KA1Apl5chkzk"
   },
   "outputs": [],
   "source": []
  },
  {
   "cell_type": "markdown",
   "metadata": {
    "id": "uva5h3Fip8J5"
   },
   "source": [
    "# النمذجة "
   ]
  },
  {
   "cell_type": "code",
   "execution_count": null,
   "metadata": {
    "id": "2CV_VMRahsG0"
   },
   "outputs": [],
   "source": [
    "#تحميل البيانات \n",
    "import pandas as pd\n",
    "df= pd.read_csv(\"../data/HousePrice1.csv\", index_col=0)"
   ]
  },
  {
   "cell_type": "code",
   "execution_count": null,
   "metadata": {
    "colab": {
     "base_uri": "https://localhost:8080/",
     "height": 213
    },
    "executionInfo": {
     "elapsed": 1306,
     "status": "ok",
     "timestamp": 1597225166419,
     "user": {
      "displayName": "Math Hack",
      "photoUrl": "https://lh3.googleusercontent.com/a-/AOh14GjOrJzQ2xAgyHRSCzQ3qBInmHzMPfMtIJGxB4HG=s64",
      "userId": "13730440483455885359"
     },
     "user_tz": -180
    },
    "id": "abtaz6xzN_Tz",
    "outputId": "ce00fb57-9cb9-4ba0-ad24-b24f108c7ffd"
   },
   "outputs": [
    {
     "data": {
      "text/html": [
       "<div>\n",
       "<style scoped>\n",
       "    .dataframe tbody tr th:only-of-type {\n",
       "        vertical-align: middle;\n",
       "    }\n",
       "\n",
       "    .dataframe tbody tr th {\n",
       "        vertical-align: top;\n",
       "    }\n",
       "\n",
       "    .dataframe thead th {\n",
       "        text-align: right;\n",
       "    }\n",
       "</style>\n",
       "<table border=\"1\" class=\"dataframe\">\n",
       "  <thead>\n",
       "    <tr style=\"text-align: right;\">\n",
       "      <th></th>\n",
       "      <th>Id</th>\n",
       "      <th>MSSubClass</th>\n",
       "      <th>MSZoning</th>\n",
       "      <th>LotFrontage</th>\n",
       "      <th>LotArea</th>\n",
       "      <th>Street</th>\n",
       "      <th>Alley</th>\n",
       "      <th>LotShape</th>\n",
       "      <th>LandContour</th>\n",
       "      <th>Utilities</th>\n",
       "      <th>...</th>\n",
       "      <th>MiscVal</th>\n",
       "      <th>YrSold</th>\n",
       "      <th>SaleType</th>\n",
       "      <th>SaleCondition</th>\n",
       "      <th>SalePrice</th>\n",
       "      <th>TotalSF</th>\n",
       "      <th>TotalPorchSF</th>\n",
       "      <th>TotalBath</th>\n",
       "      <th>SnMoSold</th>\n",
       "      <th>CsMoSold</th>\n",
       "    </tr>\n",
       "  </thead>\n",
       "  <tbody>\n",
       "    <tr>\n",
       "      <th>0</th>\n",
       "      <td>1</td>\n",
       "      <td>60</td>\n",
       "      <td>RL</td>\n",
       "      <td>65.0</td>\n",
       "      <td>8450</td>\n",
       "      <td>Pave</td>\n",
       "      <td>NaN</td>\n",
       "      <td>Reg</td>\n",
       "      <td>Lvl</td>\n",
       "      <td>AllPub</td>\n",
       "      <td>...</td>\n",
       "      <td>0</td>\n",
       "      <td>2008</td>\n",
       "      <td>WD</td>\n",
       "      <td>Normal</td>\n",
       "      <td>208500</td>\n",
       "      <td>2566</td>\n",
       "      <td>61</td>\n",
       "      <td>3.5</td>\n",
       "      <td>0.866025</td>\n",
       "      <td>5.000000e-01</td>\n",
       "    </tr>\n",
       "    <tr>\n",
       "      <th>1</th>\n",
       "      <td>2</td>\n",
       "      <td>20</td>\n",
       "      <td>RL</td>\n",
       "      <td>80.0</td>\n",
       "      <td>9600</td>\n",
       "      <td>Pave</td>\n",
       "      <td>NaN</td>\n",
       "      <td>Reg</td>\n",
       "      <td>Lvl</td>\n",
       "      <td>AllPub</td>\n",
       "      <td>...</td>\n",
       "      <td>0</td>\n",
       "      <td>2007</td>\n",
       "      <td>WD</td>\n",
       "      <td>Normal</td>\n",
       "      <td>181500</td>\n",
       "      <td>2524</td>\n",
       "      <td>0</td>\n",
       "      <td>2.5</td>\n",
       "      <td>0.500000</td>\n",
       "      <td>-8.660254e-01</td>\n",
       "    </tr>\n",
       "    <tr>\n",
       "      <th>2</th>\n",
       "      <td>3</td>\n",
       "      <td>60</td>\n",
       "      <td>RL</td>\n",
       "      <td>68.0</td>\n",
       "      <td>11250</td>\n",
       "      <td>Pave</td>\n",
       "      <td>NaN</td>\n",
       "      <td>IR1</td>\n",
       "      <td>Lvl</td>\n",
       "      <td>AllPub</td>\n",
       "      <td>...</td>\n",
       "      <td>0</td>\n",
       "      <td>2008</td>\n",
       "      <td>WD</td>\n",
       "      <td>Normal</td>\n",
       "      <td>223500</td>\n",
       "      <td>2706</td>\n",
       "      <td>42</td>\n",
       "      <td>3.5</td>\n",
       "      <td>-1.000000</td>\n",
       "      <td>-1.836970e-16</td>\n",
       "    </tr>\n",
       "  </tbody>\n",
       "</table>\n",
       "<p>3 rows × 75 columns</p>\n",
       "</div>"
      ],
      "text/plain": [
       "   Id  MSSubClass MSZoning  LotFrontage  LotArea Street Alley LotShape  \\\n",
       "0   1          60       RL         65.0     8450   Pave   NaN      Reg   \n",
       "1   2          20       RL         80.0     9600   Pave   NaN      Reg   \n",
       "2   3          60       RL         68.0    11250   Pave   NaN      IR1   \n",
       "\n",
       "  LandContour Utilities  ... MiscVal YrSold SaleType SaleCondition SalePrice  \\\n",
       "0         Lvl    AllPub  ...       0   2008       WD        Normal    208500   \n",
       "1         Lvl    AllPub  ...       0   2007       WD        Normal    181500   \n",
       "2         Lvl    AllPub  ...       0   2008       WD        Normal    223500   \n",
       "\n",
       "  TotalSF TotalPorchSF  TotalBath  SnMoSold      CsMoSold  \n",
       "0    2566           61        3.5  0.866025  5.000000e-01  \n",
       "1    2524            0        2.5  0.500000 -8.660254e-01  \n",
       "2    2706           42        3.5 -1.000000 -1.836970e-16  \n",
       "\n",
       "[3 rows x 75 columns]"
      ]
     },
     "execution_count": 2,
     "metadata": {},
     "output_type": "execute_result"
    }
   ],
   "source": [
    "df.head(3)"
   ]
  },
  {
   "cell_type": "markdown",
   "metadata": {
    "id": "H_RHeu2BhHza"
   },
   "source": [
    "![](https://image.flaticon.com/icons/png/128/3079/3079166.png)"
   ]
  },
  {
   "cell_type": "code",
   "execution_count": 3,
   "metadata": {
    "colab": {
     "base_uri": "https://localhost:8080/",
     "height": 153
    },
    "executionInfo": {
     "elapsed": 1265,
     "status": "ok",
     "timestamp": 1597140201761,
     "user": {
      "displayName": "Math Hack",
      "photoUrl": "https://lh3.googleusercontent.com/a-/AOh14GjOrJzQ2xAgyHRSCzQ3qBInmHzMPfMtIJGxB4HG=s64",
      "userId": "13730440483455885359"
     },
     "user_tz": -180
    },
    "id": "QUi3vndqPLLN",
    "outputId": "b868e029-5277-4887-ceb8-08b9f318755c"
   },
   "outputs": [
    {
     "data": {
      "text/plain": [
       "SalePrice      1.000000\n",
       "OverallQual    0.790982\n",
       "TotalSF        0.778959\n",
       "GarageCars     0.640409\n",
       "TotalBath      0.631731\n",
       "GarageArea     0.623431\n",
       "1stFlrSF       0.605852\n",
       "Name: SalePrice, dtype: float64"
      ]
     },
     "execution_count": 3,
     "metadata": {},
     "output_type": "execute_result"
    }
   ],
   "source": [
    "# اكبر 7 ارتباطات \n",
    "# ترتيب درجة الارتباط \n",
    "import numpy as np\n",
    "cormat=np.abs(df.select_dtypes(include=\"number\").corr()[\"SalePrice\"]).sort_values(ascending=False)\n",
    "\n",
    "cormat.nlargest(7)"
   ]
  },
  {
   "cell_type": "markdown",
   "metadata": {
    "id": "g9FtAMYqFxlL"
   },
   "source": [
    "![](https://thumbs.gfycat.com/ZealousBewitchedHapuka-size_restricted.gif)"
   ]
  },
  {
   "cell_type": "markdown",
   "metadata": {
    "id": "Ju8c1-nYqBmu"
   },
   "source": [
    "## الانحدار الخطي \n",
    "\n",
    "$\\large \\hat y= \\beta_0 + \\beta_1 x$\n",
    "\n",
    "![](https://miro.medium.com/max/1280/1*fX95txC9xSwSPeP6ch2nmg.gif)"
   ]
  },
  {
   "cell_type": "markdown",
   "metadata": {
    "id": "uEa1XCnku8XM"
   },
   "source": [
    "## تقسيم البيانات "
   ]
  },
  {
   "cell_type": "markdown",
   "metadata": {
    "id": "jSxE31SowM9e"
   },
   "source": [
    "![](https://i.ibb.co/QChD6Y4/Train-test-1.jpg)"
   ]
  },
  {
   "cell_type": "code",
   "execution_count": 4,
   "metadata": {
    "id": "evNS30rVu696"
   },
   "outputs": [],
   "source": [
    "from sklearn.model_selection import train_test_split\n",
    "X=df.OverallCond.values.reshape(-1,1)\n",
    "y=df.SalePrice.values.reshape(-1,1)\n",
    "\n",
    "X_train, X_test, y_train, y_test= train_test_split( X, y , test_size=.3, random_state=42)"
   ]
  },
  {
   "cell_type": "code",
   "execution_count": 5,
   "metadata": {
    "colab": {
     "base_uri": "https://localhost:8080/",
     "height": 425
    },
    "executionInfo": {
     "elapsed": 1702,
     "status": "ok",
     "timestamp": 1597140202209,
     "user": {
      "displayName": "Math Hack",
      "photoUrl": "https://lh3.googleusercontent.com/a-/AOh14GjOrJzQ2xAgyHRSCzQ3qBInmHzMPfMtIJGxB4HG=s64",
      "userId": "13730440483455885359"
     },
     "user_tz": -180
    },
    "id": "TmP1ytWpgo3a",
    "outputId": "89e69d1f-54e2-4890-90ca-8bb401340ebe"
   },
   "outputs": [
    {
     "name": "stdout",
     "output_type": "stream",
     "text": [
      "                                 OLS Regression Results                                \n",
      "=======================================================================================\n",
      "Dep. Variable:                      y   R-squared (uncentered):                   0.803\n",
      "Model:                            OLS   Adj. R-squared (uncentered):              0.803\n",
      "Method:                 Least Squares   F-statistic:                              4162.\n",
      "Date:                Sun, 02 Mar 2025   Prob (F-statistic):                        0.00\n",
      "Time:                        12:29:04   Log-Likelihood:                         -13080.\n",
      "No. Observations:                1022   AIC:                                  2.616e+04\n",
      "Df Residuals:                    1021   BIC:                                  2.617e+04\n",
      "Df Model:                           1                                                  \n",
      "Covariance Type:            nonrobust                                                  \n",
      "==============================================================================\n",
      "                 coef    std err          t      P>|t|      [0.025      0.975]\n",
      "------------------------------------------------------------------------------\n",
      "x1          3.115e+04    482.757     64.516      0.000    3.02e+04    3.21e+04\n",
      "==============================================================================\n",
      "Omnibus:                      286.050   Durbin-Watson:                   2.029\n",
      "Prob(Omnibus):                  0.000   Jarque-Bera (JB):              974.513\n",
      "Skew:                           1.337   Prob(JB):                    2.44e-212\n",
      "Kurtosis:                       6.967   Cond. No.                         1.00\n",
      "==============================================================================\n",
      "\n",
      "Notes:\n",
      "[1] R² is computed without centering (uncentered) since the model does not contain a constant.\n",
      "[2] Standard Errors assume that the covariance matrix of the errors is correctly specified.\n"
     ]
    }
   ],
   "source": [
    "import statsmodels.api as sm\n",
    "lrg = sm.OLS(y_train, X_train).fit()\n",
    "print(lrg.summary())"
   ]
  },
  {
   "cell_type": "markdown",
   "metadata": {
    "id": "eXBKanQjiC8H"
   },
   "source": [
    "-  reject the null hypothesis that the coefficient is equal to 0 and conclude that x1 is an important independent variable to utilize.|"
   ]
  },
  {
   "cell_type": "code",
   "execution_count": 6,
   "metadata": {
    "id": "-G5KODhzo9ht"
   },
   "outputs": [],
   "source": [
    "# تحميل وظيفة الانحدار الخطي\n",
    "from sklearn.linear_model import LinearRegression\n",
    "lreg=LinearRegression()\n"
   ]
  },
  {
   "cell_type": "markdown",
   "metadata": {
    "id": "_zAxCmYWvFLv"
   },
   "source": [
    "![](https://static.thenounproject.com/png/2010152-200.png)"
   ]
  },
  {
   "cell_type": "code",
   "execution_count": null,
   "metadata": {
    "colab": {
     "base_uri": "https://localhost:8080/",
     "height": 34
    },
    "executionInfo": {
     "elapsed": 1692,
     "status": "ok",
     "timestamp": 1597140202210,
     "user": {
      "displayName": "Math Hack",
      "photoUrl": "https://lh3.googleusercontent.com/a-/AOh14GjOrJzQ2xAgyHRSCzQ3qBInmHzMPfMtIJGxB4HG=s64",
      "userId": "13730440483455885359"
     },
     "user_tz": -180
    },
    "id": "bWV25h9V1fHa",
    "outputId": "b63eb0e2-4b94-491c-9caf-67153eca967a"
   },
   "outputs": [
    {
     "data": {
      "text/plain": [
       "LinearRegression(copy_X=True, fit_intercept=True, n_jobs=None, normalize=False)"
      ]
     },
     "execution_count": 41,
     "metadata": {
      "tags": []
     },
     "output_type": "execute_result"
    }
   ],
   "source": [
    "# تدريب البيانات الخاصة بالتدريب \n",
    "lreg.fit(X_train, y_train)"
   ]
  },
  {
   "cell_type": "code",
   "execution_count": null,
   "metadata": {
    "colab": {
     "base_uri": "https://localhost:8080/",
     "height": 34
    },
    "executionInfo": {
     "elapsed": 1685,
     "status": "ok",
     "timestamp": 1597140202211,
     "user": {
      "displayName": "Math Hack",
      "photoUrl": "https://lh3.googleusercontent.com/a-/AOh14GjOrJzQ2xAgyHRSCzQ3qBInmHzMPfMtIJGxB4HG=s64",
      "userId": "13730440483455885359"
     },
     "user_tz": -180
    },
    "id": "8lvS9inLo9vl",
    "outputId": "469e04d1-19f0-454d-9643-1aa1b9437fae"
   },
   "outputs": [
    {
     "data": {
      "text/plain": [
       "array([[-4994.43463065]])"
      ]
     },
     "execution_count": 42,
     "metadata": {
      "tags": []
     },
     "output_type": "execute_result"
    }
   ],
   "source": [
    "# تحديد درجة الانحدار \n",
    "lreg.coef_ #.round(3)"
   ]
  },
  {
   "cell_type": "code",
   "execution_count": null,
   "metadata": {
    "colab": {
     "base_uri": "https://localhost:8080/",
     "height": 34
    },
    "executionInfo": {
     "elapsed": 1675,
     "status": "ok",
     "timestamp": 1597140202212,
     "user": {
      "displayName": "Math Hack",
      "photoUrl": "https://lh3.googleusercontent.com/a-/AOh14GjOrJzQ2xAgyHRSCzQ3qBInmHzMPfMtIJGxB4HG=s64",
      "userId": "13730440483455885359"
     },
     "user_tz": -180
    },
    "id": "Trm9rzwto90g",
    "outputId": "e5ee9918-9a7b-4409-c22e-1cc5c16c3b31"
   },
   "outputs": [
    {
     "data": {
      "text/plain": [
       "array([209104.62010224])"
      ]
     },
     "execution_count": 43,
     "metadata": {
      "tags": []
     },
     "output_type": "execute_result"
    }
   ],
   "source": [
    "# y تحديد تقاطع محور \n",
    "lreg.intercept_ #.round(3)"
   ]
  },
  {
   "cell_type": "markdown",
   "metadata": {
    "id": "U8UlIqSJtQBU"
   },
   "source": [
    "\n",
    "###   $$\\large \\hat y= \\beta_0 + \\beta_1 x$$\n",
    "\n",
    " : $$\\large \\hat y=   +  x$$"
   ]
  },
  {
   "cell_type": "markdown",
   "metadata": {
    "id": "bicRnCRk2uGF"
   },
   "source": [
    "###  التنبؤ"
   ]
  },
  {
   "cell_type": "markdown",
   "metadata": {
    "id": "Rm0MDuYlZjLm"
   },
   "source": [
    "$$\\Large \\text{y_pred} = model.\\text{intercept_} + model.\\text{coef_}  \\color{red}{x}$$"
   ]
  },
  {
   "cell_type": "code",
   "execution_count": null,
   "metadata": {
    "id": "M8zACM9Ro9ss"
   },
   "outputs": [],
   "source": [
    "y_pred=lreg.predict(X_test)"
   ]
  },
  {
   "cell_type": "code",
   "execution_count": null,
   "metadata": {
    "colab": {
     "base_uri": "https://localhost:8080/",
     "height": 34
    },
    "executionInfo": {
     "elapsed": 1653,
     "status": "ok",
     "timestamp": 1597140202212,
     "user": {
      "displayName": "Math Hack",
      "photoUrl": "https://lh3.googleusercontent.com/a-/AOh14GjOrJzQ2xAgyHRSCzQ3qBInmHzMPfMtIJGxB4HG=s64",
      "userId": "13730440483455885359"
     },
     "user_tz": -180
    },
    "id": "3xJKhD5QUGYe",
    "outputId": "cb9c4beb-9801-425d-ebac-5beeb196b42c"
   },
   "outputs": [
    {
     "data": {
      "text/plain": [
       "1.0"
      ]
     },
     "execution_count": 45,
     "metadata": {
      "tags": []
     },
     "output_type": "execute_result"
    }
   ],
   "source": [
    "# الوظيفة العكسية\n",
    "np.log1p(np.expm1(1))"
   ]
  },
  {
   "cell_type": "code",
   "execution_count": null,
   "metadata": {
    "colab": {
     "base_uri": "https://localhost:8080/",
     "height": 204
    },
    "executionInfo": {
     "elapsed": 1642,
     "status": "ok",
     "timestamp": 1597140202213,
     "user": {
      "displayName": "Math Hack",
      "photoUrl": "https://lh3.googleusercontent.com/a-/AOh14GjOrJzQ2xAgyHRSCzQ3qBInmHzMPfMtIJGxB4HG=s64",
      "userId": "13730440483455885359"
     },
     "user_tz": -180
    },
    "id": "B4mM9OAAo9qz",
    "outputId": "5056d143-ae9b-4a23-96c5-2fa019265a29"
   },
   "outputs": [
    {
     "data": {
      "text/html": [
       "<div>\n",
       "<style scoped>\n",
       "    .dataframe tbody tr th:only-of-type {\n",
       "        vertical-align: middle;\n",
       "    }\n",
       "\n",
       "    .dataframe tbody tr th {\n",
       "        vertical-align: top;\n",
       "    }\n",
       "\n",
       "    .dataframe thead th {\n",
       "        text-align: right;\n",
       "    }\n",
       "</style>\n",
       "<table border=\"1\" class=\"dataframe\">\n",
       "  <thead>\n",
       "    <tr style=\"text-align: right;\">\n",
       "      <th></th>\n",
       "      <th>Actual_P</th>\n",
       "      <th>Predicted_P</th>\n",
       "    </tr>\n",
       "  </thead>\n",
       "  <tbody>\n",
       "    <tr>\n",
       "      <th>0</th>\n",
       "      <td>154500</td>\n",
       "      <td>169149.143</td>\n",
       "    </tr>\n",
       "    <tr>\n",
       "      <th>1</th>\n",
       "      <td>325000</td>\n",
       "      <td>184132.447</td>\n",
       "    </tr>\n",
       "    <tr>\n",
       "      <th>2</th>\n",
       "      <td>115000</td>\n",
       "      <td>179138.012</td>\n",
       "    </tr>\n",
       "    <tr>\n",
       "      <th>3</th>\n",
       "      <td>159000</td>\n",
       "      <td>174143.578</td>\n",
       "    </tr>\n",
       "    <tr>\n",
       "      <th>4</th>\n",
       "      <td>315500</td>\n",
       "      <td>184132.447</td>\n",
       "    </tr>\n",
       "  </tbody>\n",
       "</table>\n",
       "</div>"
      ],
      "text/plain": [
       "   Actual_P  Predicted_P\n",
       "0    154500   169149.143\n",
       "1    325000   184132.447\n",
       "2    115000   179138.012\n",
       "3    159000   174143.578\n",
       "4    315500   184132.447"
      ]
     },
     "execution_count": 46,
     "metadata": {
      "tags": []
     },
     "output_type": "execute_result"
    }
   ],
   "source": [
    "# مقارنة البيانتات الأصلية وتلك التي تم التنبؤ بها\n",
    "pd.options.display.precision=3\n",
    "df_pred=pd.DataFrame( {\"Actual_P\": y_test.ravel(), \"Predicted_P\": y_pred.ravel() })\n",
    "df_pred.head()"
   ]
  },
  {
   "cell_type": "code",
   "execution_count": null,
   "metadata": {
    "colab": {
     "base_uri": "https://localhost:8080/",
     "height": 34
    },
    "executionInfo": {
     "elapsed": 1624,
     "status": "ok",
     "timestamp": 1597140202213,
     "user": {
      "displayName": "Math Hack",
      "photoUrl": "https://lh3.googleusercontent.com/a-/AOh14GjOrJzQ2xAgyHRSCzQ3qBInmHzMPfMtIJGxB4HG=s64",
      "userId": "13730440483455885359"
     },
     "user_tz": -180
    },
    "id": "_z6txJ0pIo_7",
    "outputId": "6f623ba8-1ada-4770-d927-787d82a0d761"
   },
   "outputs": [
    {
     "data": {
      "text/plain": [
       "Index(['Actual_P', 'Predicted_P'], dtype='object')"
      ]
     },
     "execution_count": 47,
     "metadata": {
      "tags": []
     },
     "output_type": "execute_result"
    }
   ],
   "source": [
    "df_pred.keys()"
   ]
  },
  {
   "cell_type": "code",
   "execution_count": null,
   "metadata": {
    "colab": {
     "base_uri": "https://localhost:8080/",
     "height": 280
    },
    "executionInfo": {
     "elapsed": 1615,
     "status": "ok",
     "timestamp": 1597140202214,
     "user": {
      "displayName": "Math Hack",
      "photoUrl": "https://lh3.googleusercontent.com/a-/AOh14GjOrJzQ2xAgyHRSCzQ3qBInmHzMPfMtIJGxB4HG=s64",
      "userId": "13730440483455885359"
     },
     "user_tz": -180
    },
    "id": "FTTGhdd3Hjvp",
    "outputId": "5d26033a-6ffb-4507-e598-779d973a996c"
   },
   "outputs": [
    {
     "data": {
      "image/png": "[encoded data removed]",
      "text/plain": [
       "<Figure size 432x288 with 1 Axes>"
      ]
     },
     "metadata": {
      "needs_background": "light",
      "tags": []
     },
     "output_type": "display_data"
    }
   ],
   "source": [
    "# الرسم البياني لأسعار العقارات الأصلية وتلك التي تم التنبؤ بها\n",
    "import seaborn as sns\n",
    "# sns.set()\n",
    "_=sns.scatterplot(\"Actual_P\",  \"Predicted_P\", data=df_pred)"
   ]
  },
  {
   "cell_type": "code",
   "execution_count": null,
   "metadata": {
    "colab": {
     "base_uri": "https://localhost:8080/",
     "height": 282
    },
    "executionInfo": {
     "elapsed": 2266,
     "status": "ok",
     "timestamp": 1597140202875,
     "user": {
      "displayName": "Math Hack",
      "photoUrl": "https://lh3.googleusercontent.com/a-/AOh14GjOrJzQ2xAgyHRSCzQ3qBInmHzMPfMtIJGxB4HG=s64",
      "userId": "13730440483455885359"
     },
     "user_tz": -180
    },
    "id": "Q9YesDbqo9m2",
    "outputId": "cbb44f88-e273-4d33-e8b3-6a8d17a225fb"
   },
   "outputs": [
    {
     "data": {
      "text/plain": [
       "<matplotlib.axes._subplots.AxesSubplot at 0x7fcb66293da0>"
      ]
     },
     "execution_count": 49,
     "metadata": {
      "tags": []
     },
     "output_type": "execute_result"
    },
    {
     "data": {
      "image/png": "[encoded data removed]",
      "text/plain": [
       "<Figure size 432x288 with 1 Axes>"
      ]
     },
     "metadata": {
      "needs_background": "light",
      "tags": []
     },
     "output_type": "display_data"
    }
   ],
   "source": [
    "#  تباين القيم الحالية والت يتم التنبؤ بها\n",
    "df_pred.plot()"
   ]
  },
  {
   "cell_type": "code",
   "execution_count": null,
   "metadata": {
    "id": "vyoXi7h29UWv"
   },
   "outputs": [],
   "source": []
  },
  {
   "cell_type": "markdown",
   "metadata": {
    "id": "Qb_cHBcu9U4n"
   },
   "source": [
    "### القياس \n",
    "![](https://i.ibb.co/wQC2qF6/ruler.png)"
   ]
  },
  {
   "cell_type": "code",
   "execution_count": null,
   "metadata": {
    "colab": {
     "base_uri": "https://localhost:8080/",
     "height": 35
    },
    "executionInfo": {
     "elapsed": 2250,
     "status": "ok",
     "timestamp": 1597140202878,
     "user": {
      "displayName": "Math Hack",
      "photoUrl": "https://lh3.googleusercontent.com/a-/AOh14GjOrJzQ2xAgyHRSCzQ3qBInmHzMPfMtIJGxB4HG=s64",
      "userId": "13730440483455885359"
     },
     "user_tz": -180
    },
    "id": "67kLpHvBBoYt",
    "outputId": "2137e400-5488-4b23-a944-aa2cfc3b99cf"
   },
   "outputs": [
    {
     "data": {
      "application/vnd.google.colaboratory.intrinsic+json": {
       "type": "string"
      },
      "text/plain": [
       "'  Score  :  0.005'"
      ]
     },
     "execution_count": 50,
     "metadata": {
      "tags": []
     },
     "output_type": "execute_result"
    }
   ],
   "source": [
    "# تحديد درجة تعبير قيم تباين  البيانات التي تم التنبؤ بها عن قيم تباين المتغيرات \n",
    "# بيانات التدريب \n",
    "from sklearn  import metrics\n",
    "f\"  Score  :  {lreg.score(X_train, y_train):.3f}\"\n"
   ]
  },
  {
   "cell_type": "code",
   "execution_count": null,
   "metadata": {
    "colab": {
     "base_uri": "https://localhost:8080/",
     "height": 35
    },
    "executionInfo": {
     "elapsed": 2241,
     "status": "ok",
     "timestamp": 1597140202878,
     "user": {
      "displayName": "Math Hack",
      "photoUrl": "https://lh3.googleusercontent.com/a-/AOh14GjOrJzQ2xAgyHRSCzQ3qBInmHzMPfMtIJGxB4HG=s64",
      "userId": "13730440483455885359"
     },
     "user_tz": -180
    },
    "id": "aXFrb9suVOiK",
    "outputId": "9ce2a71e-bd0b-4b5d-ae46-7cafc7fe0156"
   },
   "outputs": [
    {
     "data": {
      "application/vnd.google.colaboratory.intrinsic+json": {
       "type": "string"
      },
      "text/plain": [
       "'  Score  :  0.008'"
      ]
     },
     "execution_count": 51,
     "metadata": {
      "tags": []
     },
     "output_type": "execute_result"
    }
   ],
   "source": [
    "# بيانات الاختبار \n",
    "f\"  Score  :  {lreg.score(X_test, y_test):.3f}\""
   ]
  },
  {
   "cell_type": "code",
   "execution_count": null,
   "metadata": {
    "id": "mXVVHidIi5vn"
   },
   "outputs": [],
   "source": []
  },
  {
   "cell_type": "markdown",
   "metadata": {
    "id": "o-ND4ttwCORB"
   },
   "source": [
    "## MAE\n",
    "![](https://i.imgur.com/tqnei6J.jpg)\n",
    "\n",
    "$\\Large  MAE = \\frac 1 n \\sum_{i=1}^N |Y_i - \\hat Y_i|$\n",
    "\n",
    "$\\Large  MAE = \\frac 1 n \\sum_{i=1}^N |actual  - predicted|$\n",
    "\n",
    "- MAE measures the average magnitude of the errors in a set of predictions, without considering their direction."
   ]
  },
  {
   "cell_type": "code",
   "execution_count": null,
   "metadata": {
    "colab": {
     "base_uri": "https://localhost:8080/",
     "height": 35
    },
    "executionInfo": {
     "elapsed": 2220,
     "status": "ok",
     "timestamp": 1597140202879,
     "user": {
      "displayName": "Math Hack",
      "photoUrl": "https://lh3.googleusercontent.com/a-/AOh14GjOrJzQ2xAgyHRSCzQ3qBInmHzMPfMtIJGxB4HG=s64",
      "userId": "13730440483455885359"
     },
     "user_tz": -180
    },
    "id": "CY-qNjFe9YPg",
    "outputId": "e80998f1-a999-4c4b-c121-543c3456d316"
   },
   "outputs": [
    {
     "data": {
      "application/vnd.google.colaboratory.intrinsic+json": {
       "type": "string"
      },
      "text/plain": [
       "'  Mean Absolute Error  MAE  :  58874.077'"
      ]
     },
     "execution_count": 52,
     "metadata": {
      "tags": []
     },
     "output_type": "execute_result"
    }
   ],
   "source": [
    "# تقدير معدل الخطأ  فيما بين القيم الحقيقة وتلك لاتي تم التنبؤ بها\n",
    "f\"  Mean Absolute Error  MAE  :  {metrics.mean_absolute_error(y_test, y_pred):.3f}\""
   ]
  },
  {
   "cell_type": "markdown",
   "metadata": {
    "id": "LJ1Rinw9DjDi"
   },
   "source": [
    "$\\Large  MSE = \\frac 1 n \\sum_{i=1}^N (Y_i - \\hat Y_i)^2$"
   ]
  },
  {
   "cell_type": "markdown",
   "metadata": {
    "id": "Z9whvFmXGLtO"
   },
   "source": [
    "![](https://i.imgur.com/mLn8AeW.jpg)"
   ]
  },
  {
   "cell_type": "code",
   "execution_count": null,
   "metadata": {
    "colab": {
     "base_uri": "https://localhost:8080/",
     "height": 35
    },
    "executionInfo": {
     "elapsed": 2213,
     "status": "ok",
     "timestamp": 1597140202880,
     "user": {
      "displayName": "Math Hack",
      "photoUrl": "https://lh3.googleusercontent.com/a-/AOh14GjOrJzQ2xAgyHRSCzQ3qBInmHzMPfMtIJGxB4HG=s64",
      "userId": "13730440483455885359"
     },
     "user_tz": -180
    },
    "id": "y_C9ByBi9YWV",
    "outputId": "6d6f1ba0-376f-427f-8119-58562e90e5e8"
   },
   "outputs": [
    {
     "data": {
      "application/vnd.google.colaboratory.intrinsic+json": {
       "type": "string"
      },
      "text/plain": [
       "'  Mean Squared Error  :  6925261601.066'"
      ]
     },
     "execution_count": 53,
     "metadata": {
      "tags": []
     },
     "output_type": "execute_result"
    }
   ],
   "source": [
    "f\"  Mean Squared Error  :  {metrics.mean_squared_error(y_test, y_pred):.3f}\""
   ]
  },
  {
   "cell_type": "markdown",
   "metadata": {
    "id": "AVTgUeK4EJJA"
   },
   "source": [
    "$\\Large  MSE = \\sqrt {\\frac 1 n \\sum_{i=1}^N (Y_i - \\hat Y_i)^2}$"
   ]
  },
  {
   "cell_type": "markdown",
   "metadata": {
    "id": "VBGEuqJgzYtt"
   },
   "source": [
    "- RMSE: \n",
    "  - average magnitude of the error.\n",
    "  - RMSE should be more useful when large errors are particularly undesirable.\n",
    "\n",
    "  \n",
    "it allows us to estimate the standard deviation σ of the error for a typical single observation rather than some kind of “total error”\n",
    "\n",
    "( it just becomes more accurate as we increase the number of observations)\n",
    "- RMSE is a good way to answer the question: “How far off should we expect our model to be on its next prediction?”\n",
    "$\\large  Observed_{value}= predicted_{value} + \\text{ predicatbly Distributed random noise with mean Zero} $\n",
    "- The random noise here could be anything that our model does not capture\n",
    "\n",
    "- Taking the square root of the average squared errors has some interesting implications for RMSE. Since the errors are squared before they are averaged, the RMSE gives a relatively high weight to large errors. This means the RMSE should be more useful when large errors are particularly undesirable.  \n",
    "\n"
   ]
  },
  {
   "cell_type": "code",
   "execution_count": null,
   "metadata": {
    "colab": {
     "base_uri": "https://localhost:8080/",
     "height": 35
    },
    "executionInfo": {
     "elapsed": 2204,
     "status": "ok",
     "timestamp": 1597140202880,
     "user": {
      "displayName": "Math Hack",
      "photoUrl": "https://lh3.googleusercontent.com/a-/AOh14GjOrJzQ2xAgyHRSCzQ3qBInmHzMPfMtIJGxB4HG=s64",
      "userId": "13730440483455885359"
     },
     "user_tz": -180
    },
    "id": "2gay2SKRjWPI",
    "outputId": "b1151052-2fb3-4162-e004-e14352bed36a"
   },
   "outputs": [
    {
     "data": {
      "application/vnd.google.colaboratory.intrinsic+json": {
       "type": "string"
      },
      "text/plain": [
       "'  RMSE  :  83218.157'"
      ]
     },
     "execution_count": 54,
     "metadata": {
      "tags": []
     },
     "output_type": "execute_result"
    }
   ],
   "source": [
    "#  مقياس مفيد في حالة ما إذا طان لدينا قيم متطرفة غير مرغوب فيها\n",
    "f\"  RMSE  :  {np.sqrt(metrics.mean_squared_error(y_test, y_pred)):.3f}\""
   ]
  },
  {
   "cell_type": "markdown",
   "metadata": {
    "id": "WMMmomD8Zd1-"
   },
   "source": [
    "$\\Large  R^2= \\frac {Variance_{predicte\\_y}}{ Variance_{Actual\\_y}}$"
   ]
  },
  {
   "cell_type": "code",
   "execution_count": null,
   "metadata": {
    "colab": {
     "base_uri": "https://localhost:8080/",
     "height": 35
    },
    "executionInfo": {
     "elapsed": 2194,
     "status": "ok",
     "timestamp": 1597140202881,
     "user": {
      "displayName": "Math Hack",
      "photoUrl": "https://lh3.googleusercontent.com/a-/AOh14GjOrJzQ2xAgyHRSCzQ3qBInmHzMPfMtIJGxB4HG=s64",
      "userId": "13730440483455885359"
     },
     "user_tz": -180
    },
    "id": "I434f8Rn-Q00",
    "outputId": "014d694f-72f3-48f5-b19b-dccc5a8fc95a"
   },
   "outputs": [
    {
     "data": {
      "application/vnd.google.colaboratory.intrinsic+json": {
       "type": "string"
      },
      "text/plain": [
       "'  R2:  :  0.008'"
      ]
     },
     "execution_count": 55,
     "metadata": {
      "tags": []
     },
     "output_type": "execute_result"
    }
   ],
   "source": [
    "# R2: is the Coefficient of Determination which measures the amount of variation explained by the (least-squares) Linear Regression.\n",
    "f\"  R2:  :  {metrics.r2_score(y_test, y_pred):.3f}\""
   ]
  },
  {
   "cell_type": "markdown",
   "metadata": {
    "id": "4uJlLMhBaIAx"
   },
   "source": [
    "- When we compare the R2 Score with the Explained Variance Score, we are basically checking the Mean Error; so if R2 = Explained Variance Score, that means: The Mean Error = Zero!"
   ]
  },
  {
   "cell_type": "code",
   "execution_count": null,
   "metadata": {
    "colab": {
     "base_uri": "https://localhost:8080/",
     "height": 34
    },
    "executionInfo": {
     "elapsed": 2186,
     "status": "ok",
     "timestamp": 1597140202881,
     "user": {
      "displayName": "Math Hack",
      "photoUrl": "https://lh3.googleusercontent.com/a-/AOh14GjOrJzQ2xAgyHRSCzQ3qBInmHzMPfMtIJGxB4HG=s64",
      "userId": "13730440483455885359"
     },
     "user_tz": -180
    },
    "id": "9Dtz3myb9YTK",
    "outputId": "9cf93f20-b4fc-4ded-b1f0-0192621de4e3"
   },
   "outputs": [
    {
     "data": {
      "text/plain": [
       "0.0077527750118799865"
      ]
     },
     "execution_count": 56,
     "metadata": {
      "tags": []
     },
     "output_type": "execute_result"
    }
   ],
   "source": [
    "metrics.explained_variance_score(y_test, y_pred)"
   ]
  },
  {
   "cell_type": "code",
   "execution_count": 1,
   "metadata": {
    "colab": {
     "base_uri": "https://localhost:8080/",
     "height": 0
    },
    "executionInfo": {
     "elapsed": 1463,
     "status": "error",
     "timestamp": 1602759276349,
     "user": {
      "displayName": "Math Hack",
      "photoUrl": "https://lh3.googleusercontent.com/a-/AOh14GjOrJzQ2xAgyHRSCzQ3qBInmHzMPfMtIJGxB4HG=s64",
      "userId": "13730440483455885359"
     },
     "user_tz": -180
    },
    "id": "kZ2TRyr2K_fP",
    "outputId": "625c549b-fdb1-40f5-ed3b-73930d027303"
   },
   "outputs": [
    {
     "ename": "SyntaxError",
     "evalue": "ignored",
     "output_type": "error",
     "traceback": [
      "\u001b[0;36m  File \u001b[0;32m\"<ipython-input-1-f6c31b28279d>\"\u001b[0;36m, line \u001b[0;32m1\u001b[0m\n\u001b[0;31m    http://hama-univ.edu.sy/newsites/agricultural/wp-content/uploads/2018/10/%D8%A7%D9%84%D8%A7%D8%AD%D8%B5%D8%A7%D8%A1-%D9%83%D8%A7%D9%85%D9%84.pdf\u001b[0m\n\u001b[0m          ^\u001b[0m\n\u001b[0;31mSyntaxError\u001b[0m\u001b[0;31m:\u001b[0m invalid syntax\n"
     ]
    }
   ],
   "source": [
    "http://hama-univ.edu.sy/newsites/agricultural/wp-content/uploads/2018/10/%D8%A7%D9%84%D8%A7%D8%AD%D8%B5%D8%A7%D8%A1-%D9%83%D8%A7%D9%85%D9%84.pdf"
   ]
  }
 ],
 "metadata": {
  "colab": {
   "authorship_tag": "ABX9TyM9YceSW4wytaZ+caVHc7Nn",
   "collapsed_sections": [],
   "mount_file_id": "11VKComMmpzIxu68XVJTL221YX83p8Ubh",
   "name": "6_Modelization.ipynb",
   "provenance": []
  },
  "kernelspec": {
   "display_name": "Python 3",
   "name": "python3"
  },
  "language_info": {
   "codemirror_mode": {
    "name": "ipython",
    "version": 3
   },
   "file_extension": ".py",
   "mimetype": "text/x-python",
   "name": "python",
   "nbconvert_exporter": "python",
   "pygments_lexer": "ipython3",
   "version": "3.12.1"
  }
 },
 "nbformat": 4,
 "nbformat_minor": 0
}
