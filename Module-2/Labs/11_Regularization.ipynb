{
  "cells": [
    {
      "cell_type": "code",
      "execution_count": null,
      "metadata": {
        "id": "FG_zZabRKxcP"
      },
      "outputs": [],
      "source": []
    },
    {
      "cell_type": "markdown",
      "metadata": {
        "id": "1vP94yS5dbAw"
      },
      "source": [
        "https://towardsdatascience.com/ridge-and-lasso-regression-a-complete-guide-with-python-scikit-learn-e20e34bcbf0b"
      ]
    },
    {
      "cell_type": "code",
      "execution_count": null,
      "metadata": {
        "id": "QycwSHN6KyBo"
      },
      "outputs": [],
      "source": []
    },
    {
      "cell_type": "markdown",
      "metadata": {
        "id": "t3XHZ_dx5zdk"
      },
      "source": [
        "| |<font size=\"5\">(Regularization)   الضبط في نماذج تعلم الآلة  </font>|\n",
        "|-:|-:|\n",
        "|<img src=\"https://i0.wp.com/www.nmthgiat.com/wp-content/uploads/2019/04/Overfitting.png?resize=554%2C158&ssl=1\" width=400></img>||\n",
        "||<font size=\"4\"> تحميل البيانات ومعالجتها </font>|\n",
        "||<font size=\"4\"> Train, Test  تحديد بيانات التدريب والاختبار </font>|\n",
        "||<font size=\"4\">Sklearn  توظيف خوارزمية من مكتبة </font>|\n",
        "||<font size=\"4\"> training   تدريب البيانات </font>|\n",
        "||<font size=\"4\"> Metrics   تقويم أداء الخوارزمية </font>|"
      ]
    },
    {
      "cell_type": "markdown",
      "metadata": {
        "id": "Qw43QaffkarF"
      },
      "source": [
        "![](https://media.geeksforgeeks.org/wp-content/uploads/20200107015710/HighBias.jpg)\n",
        "\n",
        "$\\large h_\\theta(x)= g(\\theta_0 +\\theta_1 x_1 + \\theta_2 x_2) $"
      ]
    },
    {
      "cell_type": "markdown",
      "metadata": {
        "id": "FMDluxEBr3Sk"
      },
      "source": [
        "\n",
        "- أفضل النماذج ملاءمة تكمن في  فرضية نقطة المقايضة\n",
        "![](https://media.geeksforgeeks.org/wp-content/uploads/20200107023418/1_oO0KYF7Z84nePqfsJ9E0WQ.png)"
      ]
    },
    {
      "cell_type": "code",
      "execution_count": null,
      "metadata": {
        "id": "TpcBFRJsjEOg"
      },
      "outputs": [],
      "source": []
    },
    {
      "cell_type": "markdown",
      "metadata": {
        "id": "q2dWz8_CpImf"
      },
      "source": [
        "درجة تباين عالية\n",
        "\n",
        "![](https://miro.medium.com/max/700/1*szpOBWtAkMwFkvVTBCGjqg.png)\n",
        "\n",
        "\n",
        "$\\large h_\\theta(x)= g(\\theta_0 +\\theta_1 x + \\theta_2 x^2+\\theta_3 x^3+\\theta_4 x^4) $"
      ]
    },
    {
      "cell_type": "code",
      "execution_count": null,
      "metadata": {
        "id": "2pF--2JYjELD"
      },
      "outputs": [],
      "source": []
    },
    {
      "cell_type": "code",
      "execution_count": null,
      "metadata": {
        "id": "ZMYaYidmrq2k"
      },
      "outputs": [],
      "source": []
    },
    {
      "cell_type": "markdown",
      "metadata": {
        "id": "_f-HBGZbrra-"
      },
      "source": [
        "\n",
        "![](https://i1.wp.com/www.nmthgiat.com/wp-content/uploads/2019/04/beforeafter.png?resize=537%2C220&ssl=1)"
      ]
    },
    {
      "cell_type": "markdown",
      "metadata": {
        "id": "SLRylxtT2IGx"
      },
      "source": [
        "![](https://miro.medium.com/max/700/1*OLh18FDyOhIEG5idV4kXFQ.png)"
      ]
    },
    {
      "cell_type": "code",
      "execution_count": null,
      "metadata": {
        "colab": {
          "base_uri": "https://localhost:8080/",
          "height": 35
        },
        "id": "xzfVfIGiK9U4",
        "outputId": "9558e8de-3235-4b78-ccca-d2939ba81fdf"
      },
      "outputs": [
        {
          "data": {
            "application/vnd.google.colaboratory.intrinsic+json": {
              "type": "string"
            },
            "text/plain": [
              "'/content'"
            ]
          },
          "execution_count": 2,
          "metadata": {
            "tags": []
          },
          "output_type": "execute_result"
        }
      ],
      "source": [
        "pwd"
      ]
    },
    {
      "cell_type": "code",
      "execution_count": 2,
      "metadata": {
        "id": "0p-03R6iK9bm"
      },
      "outputs": [],
      "source": [
        "#تحميل البيانات\n",
        "import pandas as pd\n",
        "df= pd.read_csv(\"../data/HousePrice3.csv\", index_col=0)"
      ]
    },
    {
      "cell_type": "code",
      "execution_count": 3,
      "metadata": {
        "colab": {
          "base_uri": "https://localhost:8080/",
          "height": 213
        },
        "id": "c15he76SO5Db",
        "outputId": "7dc9c098-2a2e-4669-fbde-81d9c22d4e04"
      },
      "outputs": [
        {
          "data": {
            "text/html": [
              "<div>\n",
              "<style scoped>\n",
              "    .dataframe tbody tr th:only-of-type {\n",
              "        vertical-align: middle;\n",
              "    }\n",
              "\n",
              "    .dataframe tbody tr th {\n",
              "        vertical-align: top;\n",
              "    }\n",
              "\n",
              "    .dataframe thead th {\n",
              "        text-align: right;\n",
              "    }\n",
              "</style>\n",
              "<table border=\"1\" class=\"dataframe\">\n",
              "  <thead>\n",
              "    <tr style=\"text-align: right;\">\n",
              "      <th></th>\n",
              "      <th>MSSubClass</th>\n",
              "      <th>MSZoning</th>\n",
              "      <th>LotFrontage</th>\n",
              "      <th>LotArea</th>\n",
              "      <th>Street</th>\n",
              "      <th>Alley</th>\n",
              "      <th>LotShape</th>\n",
              "      <th>LandContour</th>\n",
              "      <th>Utilities</th>\n",
              "      <th>LotConfig</th>\n",
              "      <th>...</th>\n",
              "      <th>MiscVal</th>\n",
              "      <th>YrSold</th>\n",
              "      <th>SaleType</th>\n",
              "      <th>SaleCondition</th>\n",
              "      <th>SalePrice</th>\n",
              "      <th>TotalSF</th>\n",
              "      <th>TotalPorchSF</th>\n",
              "      <th>TotalBath</th>\n",
              "      <th>SnMoSold</th>\n",
              "      <th>CsMoSold</th>\n",
              "    </tr>\n",
              "  </thead>\n",
              "  <tbody>\n",
              "    <tr>\n",
              "      <th>0</th>\n",
              "      <td>60</td>\n",
              "      <td>RL</td>\n",
              "      <td>65.0</td>\n",
              "      <td>8450</td>\n",
              "      <td>Pave</td>\n",
              "      <td>NaN</td>\n",
              "      <td>Reg</td>\n",
              "      <td>Lvl</td>\n",
              "      <td>AllPub</td>\n",
              "      <td>Inside</td>\n",
              "      <td>...</td>\n",
              "      <td>0</td>\n",
              "      <td>2008</td>\n",
              "      <td>WD</td>\n",
              "      <td>Normal</td>\n",
              "      <td>208500</td>\n",
              "      <td>2566</td>\n",
              "      <td>61</td>\n",
              "      <td>3.5</td>\n",
              "      <td>0.866025</td>\n",
              "      <td>5.000000e-01</td>\n",
              "    </tr>\n",
              "    <tr>\n",
              "      <th>1</th>\n",
              "      <td>20</td>\n",
              "      <td>RL</td>\n",
              "      <td>80.0</td>\n",
              "      <td>9600</td>\n",
              "      <td>Pave</td>\n",
              "      <td>NaN</td>\n",
              "      <td>Reg</td>\n",
              "      <td>Lvl</td>\n",
              "      <td>AllPub</td>\n",
              "      <td>FR2</td>\n",
              "      <td>...</td>\n",
              "      <td>0</td>\n",
              "      <td>2007</td>\n",
              "      <td>WD</td>\n",
              "      <td>Normal</td>\n",
              "      <td>181500</td>\n",
              "      <td>2524</td>\n",
              "      <td>0</td>\n",
              "      <td>2.5</td>\n",
              "      <td>0.500000</td>\n",
              "      <td>-8.660254e-01</td>\n",
              "    </tr>\n",
              "    <tr>\n",
              "      <th>2</th>\n",
              "      <td>60</td>\n",
              "      <td>RL</td>\n",
              "      <td>68.0</td>\n",
              "      <td>11250</td>\n",
              "      <td>Pave</td>\n",
              "      <td>NaN</td>\n",
              "      <td>IR1</td>\n",
              "      <td>Lvl</td>\n",
              "      <td>AllPub</td>\n",
              "      <td>Inside</td>\n",
              "      <td>...</td>\n",
              "      <td>0</td>\n",
              "      <td>2008</td>\n",
              "      <td>WD</td>\n",
              "      <td>Normal</td>\n",
              "      <td>223500</td>\n",
              "      <td>2706</td>\n",
              "      <td>42</td>\n",
              "      <td>3.5</td>\n",
              "      <td>-1.000000</td>\n",
              "      <td>-1.836970e-16</td>\n",
              "    </tr>\n",
              "  </tbody>\n",
              "</table>\n",
              "<p>3 rows × 72 columns</p>\n",
              "</div>"
            ],
            "text/plain": [
              "   MSSubClass MSZoning  LotFrontage  LotArea Street Alley LotShape  \\\n",
              "0          60       RL         65.0     8450   Pave   NaN      Reg   \n",
              "1          20       RL         80.0     9600   Pave   NaN      Reg   \n",
              "2          60       RL         68.0    11250   Pave   NaN      IR1   \n",
              "\n",
              "  LandContour Utilities LotConfig  ... MiscVal YrSold SaleType SaleCondition  \\\n",
              "0         Lvl    AllPub    Inside  ...       0   2008       WD        Normal   \n",
              "1         Lvl    AllPub       FR2  ...       0   2007       WD        Normal   \n",
              "2         Lvl    AllPub    Inside  ...       0   2008       WD        Normal   \n",
              "\n",
              "  SalePrice TotalSF  TotalPorchSF  TotalBath  SnMoSold      CsMoSold  \n",
              "0    208500    2566            61        3.5  0.866025  5.000000e-01  \n",
              "1    181500    2524             0        2.5  0.500000 -8.660254e-01  \n",
              "2    223500    2706            42        3.5 -1.000000 -1.836970e-16  \n",
              "\n",
              "[3 rows x 72 columns]"
            ]
          },
          "execution_count": 3,
          "metadata": {},
          "output_type": "execute_result"
        }
      ],
      "source": [
        "df.head(3)"
      ]
    },
    {
      "cell_type": "markdown",
      "metadata": {
        "id": "zLl0T6RIiS0o"
      },
      "source": [
        "![](https://image.flaticon.com/icons/png/128/3079/3079166.png)"
      ]
    },
    {
      "cell_type": "code",
      "execution_count": 4,
      "metadata": {
        "colab": {
          "base_uri": "https://localhost:8080/",
          "height": 527
        },
        "id": "SCzNek-1PQrl",
        "outputId": "02d326a2-75e8-4128-cadf-1efbdac193bf"
      },
      "outputs": [
        {
          "data": {
            "text/plain": [
              "SalePrice       1.000000\n",
              "TotalSF         0.815996\n",
              "OverallQual     0.792879\n",
              "GarageArea      0.638807\n",
              "TotalBath       0.633500\n",
              "1stFlrSF        0.624230\n",
              "TotRmsAbvGrd    0.536972\n",
              "YearBuilt       0.521888\n",
              "YearRemodAdd    0.505876\n",
              "MasVnrArea      0.476749\n",
              "Fireplaces      0.469402\n",
              "BsmtFinSF1      0.405131\n",
              "LotFrontage     0.369805\n",
              "WoodDeckSF      0.325546\n",
              "2ndFlrSF        0.322203\n",
              "LotArea         0.268806\n",
              "BsmtUnfSF       0.214996\n",
              "TotalPorchSF    0.197092\n",
              "BedroomAbvGr    0.169781\n",
              "PoolArea        0.099888\n",
              "CsMoSold        0.038504\n",
              "BsmtFinSF2     -0.011058\n",
              "MiscVal        -0.020180\n",
              "LowQualFinSF   -0.025538\n",
              "YrSold         -0.029754\n",
              "SnMoSold       -0.055401\n",
              "OverallCond    -0.078465\n",
              "MSSubClass     -0.082984\n",
              "KitchenAbvGr   -0.136082\n",
              "Name: SalePrice, dtype: float64"
            ]
          },
          "execution_count": 4,
          "metadata": {},
          "output_type": "execute_result"
        }
      ],
      "source": [
        "df.select_dtypes(\"number\").corr()['SalePrice'].sort_values(ascending=False)"
      ]
    },
    {
      "cell_type": "code",
      "execution_count": 5,
      "metadata": {
        "colab": {
          "base_uri": "https://localhost:8080/",
          "height": 119
        },
        "id": "DsnqFi-nPQnt",
        "outputId": "093e1be6-582b-43bc-bac6-02ca4d044039"
      },
      "outputs": [
        {
          "data": {
            "text/plain": [
              "SalePrice      1.000000\n",
              "TotalSF        0.815996\n",
              "OverallQual    0.792879\n",
              "GarageArea     0.638807\n",
              "TotalBath      0.633500\n",
              "Name: SalePrice, dtype: float64"
            ]
          },
          "execution_count": 5,
          "metadata": {},
          "output_type": "execute_result"
        }
      ],
      "source": [
        "# قائمة المتغيرات الأكثر ارتباطا\n",
        "\n",
        "corr = df.select_dtypes(\"number\").corr()['SalePrice'].sort_values(ascending=False)\n",
        "corr[:5]\n",
        "#SalePrice الاكتفاء بالمتغيرات الأكثر ارتباطا ب"
      ]
    },
    {
      "cell_type": "markdown",
      "metadata": {
        "id": "xK7n4rjx8YTP"
      },
      "source": [
        "<img src=\"https://encrypted-tbn0.gstatic.com/images?q=tbn%3AANd9GcT9GPc3te-hV52pZv1105UrkoNttMfzawJwFg&usqp=CAU\" width=100></img>"
      ]
    },
    {
      "cell_type": "code",
      "execution_count": 6,
      "metadata": {
        "id": "__OHW2_sBjwC"
      },
      "outputs": [],
      "source": [
        "X=df[[\"OverallQual\" ,\"TotalSF\" , \"GarageArea\" , \"TotalBath\" ]]\n",
        "y=df.SalePrice"
      ]
    },
    {
      "cell_type": "markdown",
      "metadata": {
        "id": "EMM0zFl78eOv"
      },
      "source": [
        "![](https://i.ibb.co/QChD6Y4/Train-test-1.jpg)"
      ]
    },
    {
      "cell_type": "code",
      "execution_count": 7,
      "metadata": {
        "id": "ISG0iQcEUBEl"
      },
      "outputs": [],
      "source": [
        "# تقسيم البيانات\n",
        "from sklearn.model_selection import train_test_split\n",
        "X_train, X_test, y_train, y_test=train_test_split(X, y  ,test_size=.33, random_state=42)"
      ]
    },
    {
      "cell_type": "markdown",
      "metadata": {
        "id": "tX7v7Nqv8io4"
      },
      "source": [
        "![](https://image.flaticon.com/icons/png/128/3079/3079166.png)"
      ]
    },
    {
      "cell_type": "code",
      "execution_count": 8,
      "metadata": {
        "id": "N52vEfXP25Oy"
      },
      "outputs": [],
      "source": [
        "#  معالجة البيانات المتطرفة وإإعادة توزيعها\n",
        "from sklearn.preprocessing import MinMaxScaler\n",
        "\n",
        "scaler = MinMaxScaler()\n",
        "X_train_scaled = scaler.fit_transform(X_train)\n",
        "X_test_scaled = scaler.transform(X_test)"
      ]
    },
    {
      "cell_type": "code",
      "execution_count": null,
      "metadata": {
        "id": "dG7oCvkfQUMy"
      },
      "outputs": [],
      "source": []
    },
    {
      "cell_type": "code",
      "execution_count": null,
      "metadata": {},
      "outputs": [],
      "source": []
    },
    {
      "cell_type": "code",
      "execution_count": null,
      "metadata": {},
      "outputs": [],
      "source": []
    }
  ],
  "metadata": {
    "colab": {
      "provenance": []
    },
    "kernelspec": {
      "display_name": "Python 3",
      "name": "python3"
    },
    "language_info": {
      "codemirror_mode": {
        "name": "ipython",
        "version": 3
      },
      "file_extension": ".py",
      "mimetype": "text/x-python",
      "name": "python",
      "nbconvert_exporter": "python",
      "pygments_lexer": "ipython3",
      "version": "3.12.1"
    }
  },
  "nbformat": 4,
  "nbformat_minor": 0
}
